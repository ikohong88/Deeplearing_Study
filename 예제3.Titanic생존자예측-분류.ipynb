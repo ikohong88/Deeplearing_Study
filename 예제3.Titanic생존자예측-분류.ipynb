{
  "nbformat": 4,
  "nbformat_minor": 0,
  "metadata": {
    "colab": {
      "provenance": []
    },
    "kernelspec": {
      "name": "python3",
      "display_name": "Python 3"
    },
    "language_info": {
      "name": "python"
    }
  },
  "cells": [
    {
      "cell_type": "markdown",
      "source": [
        "## 구글 드라이브를 마운트"
      ],
      "metadata": {
        "id": "dkK8aWEF2IiW"
      }
    },
    {
      "cell_type": "code",
      "execution_count": null,
      "metadata": {
        "colab": {
          "base_uri": "https://localhost:8080/"
        },
        "id": "bryerhOp1wdo",
        "outputId": "4fed9f21-c212-4fc7-80d0-3728a05f216d"
      },
      "outputs": [
        {
          "output_type": "stream",
          "name": "stdout",
          "text": [
            "Drive already mounted at /content/drive; to attempt to forcibly remount, call drive.mount(\"/content/drive\", force_remount=True).\n"
          ]
        }
      ],
      "source": [
        "from google.colab import drive\n",
        "drive.mount('/content/drive')"
      ]
    },
    {
      "cell_type": "markdown",
      "source": [
        "## 패키지 가져오기"
      ],
      "metadata": {
        "id": "RUYSpcd62qfk"
      }
    },
    {
      "cell_type": "code",
      "source": [
        "import pandas as pd\n",
        "import numpy as np\n",
        "import matplotlib.pyplot as plt\n",
        "import seaborn as sns"
      ],
      "metadata": {
        "id": "0p7KRoU_2p7J"
      },
      "execution_count": null,
      "outputs": []
    },
    {
      "cell_type": "code",
      "source": [
        "# 읽어올 파일 경로 설정\n",
        "csvPath ='/content/drive/MyDrive/[2022]AICE자격증반/6_scikit-learn/data/train.csv'\n",
        "\n",
        "df = pd.read_csv(csvPath) \n",
        "df.head()"
      ],
      "metadata": {
        "id": "IizlakQF2H7k",
        "colab": {
          "base_uri": "https://localhost:8080/",
          "height": 206
        },
        "outputId": "b9758e40-23ab-4c33-da0a-1a518c9aa4aa"
      },
      "execution_count": null,
      "outputs": [
        {
          "output_type": "execute_result",
          "data": {
            "text/plain": [
              "   PassengerId  Survived  Pclass  \\\n",
              "0            1         0       3   \n",
              "1            2         1       1   \n",
              "2            3         1       3   \n",
              "3            4         1       1   \n",
              "4            5         0       3   \n",
              "\n",
              "                                                Name     Sex   Age  SibSp  \\\n",
              "0                            Braund, Mr. Owen Harris    male  22.0      1   \n",
              "1  Cumings, Mrs. John Bradley (Florence Briggs Th...  female  38.0      1   \n",
              "2                             Heikkinen, Miss. Laina  female  26.0      0   \n",
              "3       Futrelle, Mrs. Jacques Heath (Lily May Peel)  female  35.0      1   \n",
              "4                           Allen, Mr. William Henry    male  35.0      0   \n",
              "\n",
              "   Parch            Ticket     Fare Cabin Embarked  \n",
              "0      0         A/5 21171   7.2500   NaN        S  \n",
              "1      0          PC 17599  71.2833   C85        C  \n",
              "2      0  STON/O2. 3101282   7.9250   NaN        S  \n",
              "3      0            113803  53.1000  C123        S  \n",
              "4      0            373450   8.0500   NaN        S  "
            ],
            "text/html": [
              "\n",
              "  <div id=\"df-217882e0-76a4-40be-963b-032303c24b1b\">\n",
              "    <div class=\"colab-df-container\">\n",
              "      <div>\n",
              "<style scoped>\n",
              "    .dataframe tbody tr th:only-of-type {\n",
              "        vertical-align: middle;\n",
              "    }\n",
              "\n",
              "    .dataframe tbody tr th {\n",
              "        vertical-align: top;\n",
              "    }\n",
              "\n",
              "    .dataframe thead th {\n",
              "        text-align: right;\n",
              "    }\n",
              "</style>\n",
              "<table border=\"1\" class=\"dataframe\">\n",
              "  <thead>\n",
              "    <tr style=\"text-align: right;\">\n",
              "      <th></th>\n",
              "      <th>PassengerId</th>\n",
              "      <th>Survived</th>\n",
              "      <th>Pclass</th>\n",
              "      <th>Name</th>\n",
              "      <th>Sex</th>\n",
              "      <th>Age</th>\n",
              "      <th>SibSp</th>\n",
              "      <th>Parch</th>\n",
              "      <th>Ticket</th>\n",
              "      <th>Fare</th>\n",
              "      <th>Cabin</th>\n",
              "      <th>Embarked</th>\n",
              "    </tr>\n",
              "  </thead>\n",
              "  <tbody>\n",
              "    <tr>\n",
              "      <th>0</th>\n",
              "      <td>1</td>\n",
              "      <td>0</td>\n",
              "      <td>3</td>\n",
              "      <td>Braund, Mr. Owen Harris</td>\n",
              "      <td>male</td>\n",
              "      <td>22.0</td>\n",
              "      <td>1</td>\n",
              "      <td>0</td>\n",
              "      <td>A/5 21171</td>\n",
              "      <td>7.2500</td>\n",
              "      <td>NaN</td>\n",
              "      <td>S</td>\n",
              "    </tr>\n",
              "    <tr>\n",
              "      <th>1</th>\n",
              "      <td>2</td>\n",
              "      <td>1</td>\n",
              "      <td>1</td>\n",
              "      <td>Cumings, Mrs. John Bradley (Florence Briggs Th...</td>\n",
              "      <td>female</td>\n",
              "      <td>38.0</td>\n",
              "      <td>1</td>\n",
              "      <td>0</td>\n",
              "      <td>PC 17599</td>\n",
              "      <td>71.2833</td>\n",
              "      <td>C85</td>\n",
              "      <td>C</td>\n",
              "    </tr>\n",
              "    <tr>\n",
              "      <th>2</th>\n",
              "      <td>3</td>\n",
              "      <td>1</td>\n",
              "      <td>3</td>\n",
              "      <td>Heikkinen, Miss. Laina</td>\n",
              "      <td>female</td>\n",
              "      <td>26.0</td>\n",
              "      <td>0</td>\n",
              "      <td>0</td>\n",
              "      <td>STON/O2. 3101282</td>\n",
              "      <td>7.9250</td>\n",
              "      <td>NaN</td>\n",
              "      <td>S</td>\n",
              "    </tr>\n",
              "    <tr>\n",
              "      <th>3</th>\n",
              "      <td>4</td>\n",
              "      <td>1</td>\n",
              "      <td>1</td>\n",
              "      <td>Futrelle, Mrs. Jacques Heath (Lily May Peel)</td>\n",
              "      <td>female</td>\n",
              "      <td>35.0</td>\n",
              "      <td>1</td>\n",
              "      <td>0</td>\n",
              "      <td>113803</td>\n",
              "      <td>53.1000</td>\n",
              "      <td>C123</td>\n",
              "      <td>S</td>\n",
              "    </tr>\n",
              "    <tr>\n",
              "      <th>4</th>\n",
              "      <td>5</td>\n",
              "      <td>0</td>\n",
              "      <td>3</td>\n",
              "      <td>Allen, Mr. William Henry</td>\n",
              "      <td>male</td>\n",
              "      <td>35.0</td>\n",
              "      <td>0</td>\n",
              "      <td>0</td>\n",
              "      <td>373450</td>\n",
              "      <td>8.0500</td>\n",
              "      <td>NaN</td>\n",
              "      <td>S</td>\n",
              "    </tr>\n",
              "  </tbody>\n",
              "</table>\n",
              "</div>\n",
              "      <button class=\"colab-df-convert\" onclick=\"convertToInteractive('df-217882e0-76a4-40be-963b-032303c24b1b')\"\n",
              "              title=\"Convert this dataframe to an interactive table.\"\n",
              "              style=\"display:none;\">\n",
              "        \n",
              "  <svg xmlns=\"http://www.w3.org/2000/svg\" height=\"24px\"viewBox=\"0 0 24 24\"\n",
              "       width=\"24px\">\n",
              "    <path d=\"M0 0h24v24H0V0z\" fill=\"none\"/>\n",
              "    <path d=\"M18.56 5.44l.94 2.06.94-2.06 2.06-.94-2.06-.94-.94-2.06-.94 2.06-2.06.94zm-11 1L8.5 8.5l.94-2.06 2.06-.94-2.06-.94L8.5 2.5l-.94 2.06-2.06.94zm10 10l.94 2.06.94-2.06 2.06-.94-2.06-.94-.94-2.06-.94 2.06-2.06.94z\"/><path d=\"M17.41 7.96l-1.37-1.37c-.4-.4-.92-.59-1.43-.59-.52 0-1.04.2-1.43.59L10.3 9.45l-7.72 7.72c-.78.78-.78 2.05 0 2.83L4 21.41c.39.39.9.59 1.41.59.51 0 1.02-.2 1.41-.59l7.78-7.78 2.81-2.81c.8-.78.8-2.07 0-2.86zM5.41 20L4 18.59l7.72-7.72 1.47 1.35L5.41 20z\"/>\n",
              "  </svg>\n",
              "      </button>\n",
              "      \n",
              "  <style>\n",
              "    .colab-df-container {\n",
              "      display:flex;\n",
              "      flex-wrap:wrap;\n",
              "      gap: 12px;\n",
              "    }\n",
              "\n",
              "    .colab-df-convert {\n",
              "      background-color: #E8F0FE;\n",
              "      border: none;\n",
              "      border-radius: 50%;\n",
              "      cursor: pointer;\n",
              "      display: none;\n",
              "      fill: #1967D2;\n",
              "      height: 32px;\n",
              "      padding: 0 0 0 0;\n",
              "      width: 32px;\n",
              "    }\n",
              "\n",
              "    .colab-df-convert:hover {\n",
              "      background-color: #E2EBFA;\n",
              "      box-shadow: 0px 1px 2px rgba(60, 64, 67, 0.3), 0px 1px 3px 1px rgba(60, 64, 67, 0.15);\n",
              "      fill: #174EA6;\n",
              "    }\n",
              "\n",
              "    [theme=dark] .colab-df-convert {\n",
              "      background-color: #3B4455;\n",
              "      fill: #D2E3FC;\n",
              "    }\n",
              "\n",
              "    [theme=dark] .colab-df-convert:hover {\n",
              "      background-color: #434B5C;\n",
              "      box-shadow: 0px 1px 3px 1px rgba(0, 0, 0, 0.15);\n",
              "      filter: drop-shadow(0px 1px 2px rgba(0, 0, 0, 0.3));\n",
              "      fill: #FFFFFF;\n",
              "    }\n",
              "  </style>\n",
              "\n",
              "      <script>\n",
              "        const buttonEl =\n",
              "          document.querySelector('#df-217882e0-76a4-40be-963b-032303c24b1b button.colab-df-convert');\n",
              "        buttonEl.style.display =\n",
              "          google.colab.kernel.accessAllowed ? 'block' : 'none';\n",
              "\n",
              "        async function convertToInteractive(key) {\n",
              "          const element = document.querySelector('#df-217882e0-76a4-40be-963b-032303c24b1b');\n",
              "          const dataTable =\n",
              "            await google.colab.kernel.invokeFunction('convertToInteractive',\n",
              "                                                     [key], {});\n",
              "          if (!dataTable) return;\n",
              "\n",
              "          const docLinkHtml = 'Like what you see? Visit the ' +\n",
              "            '<a target=\"_blank\" href=https://colab.research.google.com/notebooks/data_table.ipynb>data table notebook</a>'\n",
              "            + ' to learn more about interactive tables.';\n",
              "          element.innerHTML = '';\n",
              "          dataTable['output_type'] = 'display_data';\n",
              "          await google.colab.output.renderOutput(dataTable, element);\n",
              "          const docLink = document.createElement('div');\n",
              "          docLink.innerHTML = docLinkHtml;\n",
              "          element.appendChild(docLink);\n",
              "        }\n",
              "      </script>\n",
              "    </div>\n",
              "  </div>\n",
              "  "
            ]
          },
          "metadata": {},
          "execution_count": 6
        }
      ]
    },
    {
      "cell_type": "code",
      "source": [
        "df.info()"
      ],
      "metadata": {
        "colab": {
          "base_uri": "https://localhost:8080/"
        },
        "id": "lGPcNNrW-n-x",
        "outputId": "909a5d25-3e85-4695-c48b-cdf09fe9fa8d"
      },
      "execution_count": null,
      "outputs": [
        {
          "output_type": "stream",
          "name": "stdout",
          "text": [
            "<class 'pandas.core.frame.DataFrame'>\n",
            "RangeIndex: 891 entries, 0 to 890\n",
            "Data columns (total 12 columns):\n",
            " #   Column       Non-Null Count  Dtype  \n",
            "---  ------       --------------  -----  \n",
            " 0   PassengerId  891 non-null    int64  \n",
            " 1   Survived     891 non-null    int64  \n",
            " 2   Pclass       891 non-null    int64  \n",
            " 3   Name         891 non-null    object \n",
            " 4   Sex          891 non-null    object \n",
            " 5   Age          714 non-null    float64\n",
            " 6   SibSp        891 non-null    int64  \n",
            " 7   Parch        891 non-null    int64  \n",
            " 8   Ticket       891 non-null    object \n",
            " 9   Fare         891 non-null    float64\n",
            " 10  Cabin        204 non-null    object \n",
            " 11  Embarked     889 non-null    object \n",
            "dtypes: float64(2), int64(5), object(5)\n",
            "memory usage: 83.7+ KB\n"
          ]
        }
      ]
    },
    {
      "cell_type": "code",
      "source": [
        "# 숫자데이터에 대한 통계치만 보여준다.\n",
        "df.describe()"
      ],
      "metadata": {
        "colab": {
          "base_uri": "https://localhost:8080/",
          "height": 300
        },
        "id": "h1gKJ3O0-wKP",
        "outputId": "e2cfcf35-8b14-4cdd-dc61-5c863105e11b"
      },
      "execution_count": null,
      "outputs": [
        {
          "output_type": "execute_result",
          "data": {
            "text/plain": [
              "       PassengerId    Survived      Pclass         Age       SibSp  \\\n",
              "count   891.000000  891.000000  891.000000  714.000000  891.000000   \n",
              "mean    446.000000    0.383838    2.308642   29.699118    0.523008   \n",
              "std     257.353842    0.486592    0.836071   14.526497    1.102743   \n",
              "min       1.000000    0.000000    1.000000    0.420000    0.000000   \n",
              "25%     223.500000    0.000000    2.000000   20.125000    0.000000   \n",
              "50%     446.000000    0.000000    3.000000   28.000000    0.000000   \n",
              "75%     668.500000    1.000000    3.000000   38.000000    1.000000   \n",
              "max     891.000000    1.000000    3.000000   80.000000    8.000000   \n",
              "\n",
              "            Parch        Fare  \n",
              "count  891.000000  891.000000  \n",
              "mean     0.381594   32.204208  \n",
              "std      0.806057   49.693429  \n",
              "min      0.000000    0.000000  \n",
              "25%      0.000000    7.910400  \n",
              "50%      0.000000   14.454200  \n",
              "75%      0.000000   31.000000  \n",
              "max      6.000000  512.329200  "
            ],
            "text/html": [
              "\n",
              "  <div id=\"df-24151229-0bb6-40ea-8a95-adfa7fef32dd\">\n",
              "    <div class=\"colab-df-container\">\n",
              "      <div>\n",
              "<style scoped>\n",
              "    .dataframe tbody tr th:only-of-type {\n",
              "        vertical-align: middle;\n",
              "    }\n",
              "\n",
              "    .dataframe tbody tr th {\n",
              "        vertical-align: top;\n",
              "    }\n",
              "\n",
              "    .dataframe thead th {\n",
              "        text-align: right;\n",
              "    }\n",
              "</style>\n",
              "<table border=\"1\" class=\"dataframe\">\n",
              "  <thead>\n",
              "    <tr style=\"text-align: right;\">\n",
              "      <th></th>\n",
              "      <th>PassengerId</th>\n",
              "      <th>Survived</th>\n",
              "      <th>Pclass</th>\n",
              "      <th>Age</th>\n",
              "      <th>SibSp</th>\n",
              "      <th>Parch</th>\n",
              "      <th>Fare</th>\n",
              "    </tr>\n",
              "  </thead>\n",
              "  <tbody>\n",
              "    <tr>\n",
              "      <th>count</th>\n",
              "      <td>891.000000</td>\n",
              "      <td>891.000000</td>\n",
              "      <td>891.000000</td>\n",
              "      <td>714.000000</td>\n",
              "      <td>891.000000</td>\n",
              "      <td>891.000000</td>\n",
              "      <td>891.000000</td>\n",
              "    </tr>\n",
              "    <tr>\n",
              "      <th>mean</th>\n",
              "      <td>446.000000</td>\n",
              "      <td>0.383838</td>\n",
              "      <td>2.308642</td>\n",
              "      <td>29.699118</td>\n",
              "      <td>0.523008</td>\n",
              "      <td>0.381594</td>\n",
              "      <td>32.204208</td>\n",
              "    </tr>\n",
              "    <tr>\n",
              "      <th>std</th>\n",
              "      <td>257.353842</td>\n",
              "      <td>0.486592</td>\n",
              "      <td>0.836071</td>\n",
              "      <td>14.526497</td>\n",
              "      <td>1.102743</td>\n",
              "      <td>0.806057</td>\n",
              "      <td>49.693429</td>\n",
              "    </tr>\n",
              "    <tr>\n",
              "      <th>min</th>\n",
              "      <td>1.000000</td>\n",
              "      <td>0.000000</td>\n",
              "      <td>1.000000</td>\n",
              "      <td>0.420000</td>\n",
              "      <td>0.000000</td>\n",
              "      <td>0.000000</td>\n",
              "      <td>0.000000</td>\n",
              "    </tr>\n",
              "    <tr>\n",
              "      <th>25%</th>\n",
              "      <td>223.500000</td>\n",
              "      <td>0.000000</td>\n",
              "      <td>2.000000</td>\n",
              "      <td>20.125000</td>\n",
              "      <td>0.000000</td>\n",
              "      <td>0.000000</td>\n",
              "      <td>7.910400</td>\n",
              "    </tr>\n",
              "    <tr>\n",
              "      <th>50%</th>\n",
              "      <td>446.000000</td>\n",
              "      <td>0.000000</td>\n",
              "      <td>3.000000</td>\n",
              "      <td>28.000000</td>\n",
              "      <td>0.000000</td>\n",
              "      <td>0.000000</td>\n",
              "      <td>14.454200</td>\n",
              "    </tr>\n",
              "    <tr>\n",
              "      <th>75%</th>\n",
              "      <td>668.500000</td>\n",
              "      <td>1.000000</td>\n",
              "      <td>3.000000</td>\n",
              "      <td>38.000000</td>\n",
              "      <td>1.000000</td>\n",
              "      <td>0.000000</td>\n",
              "      <td>31.000000</td>\n",
              "    </tr>\n",
              "    <tr>\n",
              "      <th>max</th>\n",
              "      <td>891.000000</td>\n",
              "      <td>1.000000</td>\n",
              "      <td>3.000000</td>\n",
              "      <td>80.000000</td>\n",
              "      <td>8.000000</td>\n",
              "      <td>6.000000</td>\n",
              "      <td>512.329200</td>\n",
              "    </tr>\n",
              "  </tbody>\n",
              "</table>\n",
              "</div>\n",
              "      <button class=\"colab-df-convert\" onclick=\"convertToInteractive('df-24151229-0bb6-40ea-8a95-adfa7fef32dd')\"\n",
              "              title=\"Convert this dataframe to an interactive table.\"\n",
              "              style=\"display:none;\">\n",
              "        \n",
              "  <svg xmlns=\"http://www.w3.org/2000/svg\" height=\"24px\"viewBox=\"0 0 24 24\"\n",
              "       width=\"24px\">\n",
              "    <path d=\"M0 0h24v24H0V0z\" fill=\"none\"/>\n",
              "    <path d=\"M18.56 5.44l.94 2.06.94-2.06 2.06-.94-2.06-.94-.94-2.06-.94 2.06-2.06.94zm-11 1L8.5 8.5l.94-2.06 2.06-.94-2.06-.94L8.5 2.5l-.94 2.06-2.06.94zm10 10l.94 2.06.94-2.06 2.06-.94-2.06-.94-.94-2.06-.94 2.06-2.06.94z\"/><path d=\"M17.41 7.96l-1.37-1.37c-.4-.4-.92-.59-1.43-.59-.52 0-1.04.2-1.43.59L10.3 9.45l-7.72 7.72c-.78.78-.78 2.05 0 2.83L4 21.41c.39.39.9.59 1.41.59.51 0 1.02-.2 1.41-.59l7.78-7.78 2.81-2.81c.8-.78.8-2.07 0-2.86zM5.41 20L4 18.59l7.72-7.72 1.47 1.35L5.41 20z\"/>\n",
              "  </svg>\n",
              "      </button>\n",
              "      \n",
              "  <style>\n",
              "    .colab-df-container {\n",
              "      display:flex;\n",
              "      flex-wrap:wrap;\n",
              "      gap: 12px;\n",
              "    }\n",
              "\n",
              "    .colab-df-convert {\n",
              "      background-color: #E8F0FE;\n",
              "      border: none;\n",
              "      border-radius: 50%;\n",
              "      cursor: pointer;\n",
              "      display: none;\n",
              "      fill: #1967D2;\n",
              "      height: 32px;\n",
              "      padding: 0 0 0 0;\n",
              "      width: 32px;\n",
              "    }\n",
              "\n",
              "    .colab-df-convert:hover {\n",
              "      background-color: #E2EBFA;\n",
              "      box-shadow: 0px 1px 2px rgba(60, 64, 67, 0.3), 0px 1px 3px 1px rgba(60, 64, 67, 0.15);\n",
              "      fill: #174EA6;\n",
              "    }\n",
              "\n",
              "    [theme=dark] .colab-df-convert {\n",
              "      background-color: #3B4455;\n",
              "      fill: #D2E3FC;\n",
              "    }\n",
              "\n",
              "    [theme=dark] .colab-df-convert:hover {\n",
              "      background-color: #434B5C;\n",
              "      box-shadow: 0px 1px 3px 1px rgba(0, 0, 0, 0.15);\n",
              "      filter: drop-shadow(0px 1px 2px rgba(0, 0, 0, 0.3));\n",
              "      fill: #FFFFFF;\n",
              "    }\n",
              "  </style>\n",
              "\n",
              "      <script>\n",
              "        const buttonEl =\n",
              "          document.querySelector('#df-24151229-0bb6-40ea-8a95-adfa7fef32dd button.colab-df-convert');\n",
              "        buttonEl.style.display =\n",
              "          google.colab.kernel.accessAllowed ? 'block' : 'none';\n",
              "\n",
              "        async function convertToInteractive(key) {\n",
              "          const element = document.querySelector('#df-24151229-0bb6-40ea-8a95-adfa7fef32dd');\n",
              "          const dataTable =\n",
              "            await google.colab.kernel.invokeFunction('convertToInteractive',\n",
              "                                                     [key], {});\n",
              "          if (!dataTable) return;\n",
              "\n",
              "          const docLinkHtml = 'Like what you see? Visit the ' +\n",
              "            '<a target=\"_blank\" href=https://colab.research.google.com/notebooks/data_table.ipynb>data table notebook</a>'\n",
              "            + ' to learn more about interactive tables.';\n",
              "          element.innerHTML = '';\n",
              "          dataTable['output_type'] = 'display_data';\n",
              "          await google.colab.output.renderOutput(dataTable, element);\n",
              "          const docLink = document.createElement('div');\n",
              "          docLink.innerHTML = docLinkHtml;\n",
              "          element.appendChild(docLink);\n",
              "        }\n",
              "      </script>\n",
              "    </div>\n",
              "  </div>\n",
              "  "
            ]
          },
          "metadata": {},
          "execution_count": 8
        }
      ]
    },
    {
      "cell_type": "markdown",
      "source": [
        "## 탐색적 데이터 분석(EDA)\n",
        "### 시각화\n",
        "### 데이터의 특성중에 확인하고 싶은 내용 확인\n",
        "### 생존자 예측과 상관관계 있는 데이터 무엇인지 확인"
      ],
      "metadata": {
        "id": "Ac6vZQRl3HIz"
      }
    },
    {
      "cell_type": "code",
      "source": [
        "# 타이타닉 생존자 예측을 하는데 생존자와 사망자의 데이터 비율이 1:1일 경우가 가장 좋다.\n",
        "# 하지만, 우리 데이터셋은 어떨까?\n",
        "# value_counts()함수를 통해 0과 1의 숫자를 확인\n",
        "# value를 다 더하면 891이 된다. 사망자가 생존자에 비해 1.6배이다.\n",
        "df['Survived'].value_counts()"
      ],
      "metadata": {
        "colab": {
          "base_uri": "https://localhost:8080/"
        },
        "id": "1Ukj-nP1_Fde",
        "outputId": "4db79c96-1e0e-42bc-bbd4-56b8dd12fd50"
      },
      "execution_count": null,
      "outputs": [
        {
          "output_type": "execute_result",
          "data": {
            "text/plain": [
              "0    549\n",
              "1    342\n",
              "Name: Survived, dtype: int64"
            ]
          },
          "metadata": {},
          "execution_count": 10
        }
      ]
    },
    {
      "cell_type": "markdown",
      "source": [
        "### 생존자와 사망자를 기준으로 차트 그리기"
      ],
      "metadata": {
        "id": "DOhKeKfqIafg"
      }
    },
    {
      "cell_type": "code",
      "source": [
        "# 위의 결과를 그래프로 그려보자.\n",
        "# 1. 원형 차트(왼쪽)\n",
        "# 2. bar 차트(오른쪽)\n",
        "\n",
        "# 위에서 정의한대로 왼쪽과 오른쪽으로 한 행으로 그래프를 \n",
        "# 그리려면... 1행,2열, 크기는 (12,6)\n",
        "f, ax = plt.subplots(1,2, figsize=(12,6))\n",
        "\n",
        "# ax는 왼쪽이냐 오른쪽이냐\n",
        "# ax[0]는 왼쪽, ax[1]는 오른쪽\n",
        " \n",
        "# plot.pie()함수를 사용하여 원형 차트\n",
        "df['Survived'].value_counts().plot.pie(explode=[0,0.05], autopct='%1.3f%%', ax=ax[0])\n",
        "ax[0].set_title('Survived')\n",
        "\n",
        "# seaborn의 countplot()함수를 사용하여 바 차트\n",
        "sns.countplot('Survived', data=df, ax=ax[1])\n",
        "ax[1].set_title('Survived')\n",
        "\n",
        "plt.show()"
      ],
      "metadata": {
        "colab": {
          "base_uri": "https://localhost:8080/",
          "height": 459
        },
        "id": "c9ZIRuQKAKEu",
        "outputId": "c66a3a54-272d-4a2b-cb82-487c69179723"
      },
      "execution_count": null,
      "outputs": [
        {
          "output_type": "stream",
          "name": "stderr",
          "text": [
            "/usr/local/lib/python3.8/dist-packages/seaborn/_decorators.py:36: FutureWarning: Pass the following variable as a keyword arg: x. From version 0.12, the only valid positional argument will be `data`, and passing other arguments without an explicit keyword will result in an error or misinterpretation.\n",
            "  warnings.warn(\n"
          ]
        },
        {
          "output_type": "display_data",
          "data": {
            "text/plain": [
              "<Figure size 864x432 with 2 Axes>"
            ],
            "image/png": "[encoded data removed]"
          },
          "metadata": {
            "needs_background": "light"
          }
        }
      ]
    },
    {
      "cell_type": "code",
      "source": [
        "df['Age'].describe()"
      ],
      "metadata": {
        "colab": {
          "base_uri": "https://localhost:8080/"
        },
        "id": "Yo1BCbndG2Oh",
        "outputId": "10afab3e-6637-45df-ab00-32bc0daffbf6"
      },
      "execution_count": null,
      "outputs": [
        {
          "output_type": "execute_result",
          "data": {
            "text/plain": [
              "count    714.000000\n",
              "mean      29.699118\n",
              "std       14.526497\n",
              "min        0.420000\n",
              "25%       20.125000\n",
              "50%       28.000000\n",
              "75%       38.000000\n",
              "max       80.000000\n",
              "Name: Age, dtype: float64"
            ]
          },
          "metadata": {},
          "execution_count": 19
        }
      ]
    },
    {
      "cell_type": "markdown",
      "source": [
        "### 나이를 기준으로 히스토그램 분석"
      ],
      "metadata": {
        "id": "NI37BVA1IU1A"
      }
    },
    {
      "cell_type": "code",
      "source": [
        "# df['Age']에 대한 데이터 시각화\n",
        "# 히스토그램으로 표현하는 것이 좋다.\n",
        "# bins : 0.42~80세 구간을 40으로 나눈다. 한 칸당 나이는 대략 2살\n",
        "# 20~22세 분포가 제일 높다. 다음은 28~30세, 22~24세\n",
        "df['Age'].hist(bins=40, figsize=(16,8), grid=True)"
      ],
      "metadata": {
        "colab": {
          "base_uri": "https://localhost:8080/",
          "height": 500
        },
        "id": "pdM7nQszGYRp",
        "outputId": "d4cc31a2-e621-4507-ba4b-347d09242070"
      },
      "execution_count": null,
      "outputs": [
        {
          "output_type": "execute_result",
          "data": {
            "text/plain": [
              "<matplotlib.axes._subplots.AxesSubplot at 0x7f643447d610>"
            ]
          },
          "metadata": {},
          "execution_count": 21
        },
        {
          "output_type": "display_data",
          "data": {
            "text/plain": [
              "<Figure size 1152x576 with 1 Axes>"
            ],
            "image/png": "[encoded data removed]"
          },
          "metadata": {
            "needs_background": "light"
          }
        }
      ]
    },
    {
      "cell_type": "markdown",
      "source": [
        "### 선실 등급별로 생존자 데이터 분석"
      ],
      "metadata": {
        "id": "YKkH2PcvIf-W"
      }
    },
    {
      "cell_type": "code",
      "source": [
        "# 내가 원하는 데이터 특성별로 데이터 카테고리화 시킬 수 있다.\n",
        "# 카테고리화 시킨 후에 평균을 계산한다.\n",
        "# 1등실에 가까울수록 평균 나이가 올라간다. 생존율도 같이 올라간다.\n",
        "df.groupby('Pclass').mean()"
      ],
      "metadata": {
        "colab": {
          "base_uri": "https://localhost:8080/",
          "height": 175
        },
        "id": "xrTblHmAIlrz",
        "outputId": "6c1fcdde-57fd-458f-dd0e-a5a4d1bbfe46"
      },
      "execution_count": null,
      "outputs": [
        {
          "output_type": "execute_result",
          "data": {
            "text/plain": [
              "        PassengerId  Survived        Age     SibSp     Parch       Fare\n",
              "Pclass                                                                 \n",
              "1        461.597222  0.629630  38.233441  0.416667  0.356481  84.154687\n",
              "2        445.956522  0.472826  29.877630  0.402174  0.380435  20.662183\n",
              "3        439.154786  0.242363  25.140620  0.615071  0.393075  13.675550"
            ],
            "text/html": [
              "\n",
              "  <div id=\"df-cc6a6cca-fea9-4173-ba16-308e696b29cc\">\n",
              "    <div class=\"colab-df-container\">\n",
              "      <div>\n",
              "<style scoped>\n",
              "    .dataframe tbody tr th:only-of-type {\n",
              "        vertical-align: middle;\n",
              "    }\n",
              "\n",
              "    .dataframe tbody tr th {\n",
              "        vertical-align: top;\n",
              "    }\n",
              "\n",
              "    .dataframe thead th {\n",
              "        text-align: right;\n",
              "    }\n",
              "</style>\n",
              "<table border=\"1\" class=\"dataframe\">\n",
              "  <thead>\n",
              "    <tr style=\"text-align: right;\">\n",
              "      <th></th>\n",
              "      <th>PassengerId</th>\n",
              "      <th>Survived</th>\n",
              "      <th>Age</th>\n",
              "      <th>SibSp</th>\n",
              "      <th>Parch</th>\n",
              "      <th>Fare</th>\n",
              "    </tr>\n",
              "    <tr>\n",
              "      <th>Pclass</th>\n",
              "      <th></th>\n",
              "      <th></th>\n",
              "      <th></th>\n",
              "      <th></th>\n",
              "      <th></th>\n",
              "      <th></th>\n",
              "    </tr>\n",
              "  </thead>\n",
              "  <tbody>\n",
              "    <tr>\n",
              "      <th>1</th>\n",
              "      <td>461.597222</td>\n",
              "      <td>0.629630</td>\n",
              "      <td>38.233441</td>\n",
              "      <td>0.416667</td>\n",
              "      <td>0.356481</td>\n",
              "      <td>84.154687</td>\n",
              "    </tr>\n",
              "    <tr>\n",
              "      <th>2</th>\n",
              "      <td>445.956522</td>\n",
              "      <td>0.472826</td>\n",
              "      <td>29.877630</td>\n",
              "      <td>0.402174</td>\n",
              "      <td>0.380435</td>\n",
              "      <td>20.662183</td>\n",
              "    </tr>\n",
              "    <tr>\n",
              "      <th>3</th>\n",
              "      <td>439.154786</td>\n",
              "      <td>0.242363</td>\n",
              "      <td>25.140620</td>\n",
              "      <td>0.615071</td>\n",
              "      <td>0.393075</td>\n",
              "      <td>13.675550</td>\n",
              "    </tr>\n",
              "  </tbody>\n",
              "</table>\n",
              "</div>\n",
              "      <button class=\"colab-df-convert\" onclick=\"convertToInteractive('df-cc6a6cca-fea9-4173-ba16-308e696b29cc')\"\n",
              "              title=\"Convert this dataframe to an interactive table.\"\n",
              "              style=\"display:none;\">\n",
              "        \n",
              "  <svg xmlns=\"http://www.w3.org/2000/svg\" height=\"24px\"viewBox=\"0 0 24 24\"\n",
              "       width=\"24px\">\n",
              "    <path d=\"M0 0h24v24H0V0z\" fill=\"none\"/>\n",
              "    <path d=\"M18.56 5.44l.94 2.06.94-2.06 2.06-.94-2.06-.94-.94-2.06-.94 2.06-2.06.94zm-11 1L8.5 8.5l.94-2.06 2.06-.94-2.06-.94L8.5 2.5l-.94 2.06-2.06.94zm10 10l.94 2.06.94-2.06 2.06-.94-2.06-.94-.94-2.06-.94 2.06-2.06.94z\"/><path d=\"M17.41 7.96l-1.37-1.37c-.4-.4-.92-.59-1.43-.59-.52 0-1.04.2-1.43.59L10.3 9.45l-7.72 7.72c-.78.78-.78 2.05 0 2.83L4 21.41c.39.39.9.59 1.41.59.51 0 1.02-.2 1.41-.59l7.78-7.78 2.81-2.81c.8-.78.8-2.07 0-2.86zM5.41 20L4 18.59l7.72-7.72 1.47 1.35L5.41 20z\"/>\n",
              "  </svg>\n",
              "      </button>\n",
              "      \n",
              "  <style>\n",
              "    .colab-df-container {\n",
              "      display:flex;\n",
              "      flex-wrap:wrap;\n",
              "      gap: 12px;\n",
              "    }\n",
              "\n",
              "    .colab-df-convert {\n",
              "      background-color: #E8F0FE;\n",
              "      border: none;\n",
              "      border-radius: 50%;\n",
              "      cursor: pointer;\n",
              "      display: none;\n",
              "      fill: #1967D2;\n",
              "      height: 32px;\n",
              "      padding: 0 0 0 0;\n",
              "      width: 32px;\n",
              "    }\n",
              "\n",
              "    .colab-df-convert:hover {\n",
              "      background-color: #E2EBFA;\n",
              "      box-shadow: 0px 1px 2px rgba(60, 64, 67, 0.3), 0px 1px 3px 1px rgba(60, 64, 67, 0.15);\n",
              "      fill: #174EA6;\n",
              "    }\n",
              "\n",
              "    [theme=dark] .colab-df-convert {\n",
              "      background-color: #3B4455;\n",
              "      fill: #D2E3FC;\n",
              "    }\n",
              "\n",
              "    [theme=dark] .colab-df-convert:hover {\n",
              "      background-color: #434B5C;\n",
              "      box-shadow: 0px 1px 3px 1px rgba(0, 0, 0, 0.15);\n",
              "      filter: drop-shadow(0px 1px 2px rgba(0, 0, 0, 0.3));\n",
              "      fill: #FFFFFF;\n",
              "    }\n",
              "  </style>\n",
              "\n",
              "      <script>\n",
              "        const buttonEl =\n",
              "          document.querySelector('#df-cc6a6cca-fea9-4173-ba16-308e696b29cc button.colab-df-convert');\n",
              "        buttonEl.style.display =\n",
              "          google.colab.kernel.accessAllowed ? 'block' : 'none';\n",
              "\n",
              "        async function convertToInteractive(key) {\n",
              "          const element = document.querySelector('#df-cc6a6cca-fea9-4173-ba16-308e696b29cc');\n",
              "          const dataTable =\n",
              "            await google.colab.kernel.invokeFunction('convertToInteractive',\n",
              "                                                     [key], {});\n",
              "          if (!dataTable) return;\n",
              "\n",
              "          const docLinkHtml = 'Like what you see? Visit the ' +\n",
              "            '<a target=\"_blank\" href=https://colab.research.google.com/notebooks/data_table.ipynb>data table notebook</a>'\n",
              "            + ' to learn more about interactive tables.';\n",
              "          element.innerHTML = '';\n",
              "          dataTable['output_type'] = 'display_data';\n",
              "          await google.colab.output.renderOutput(dataTable, element);\n",
              "          const docLink = document.createElement('div');\n",
              "          docLink.innerHTML = docLinkHtml;\n",
              "          element.appendChild(docLink);\n",
              "        }\n",
              "      </script>\n",
              "    </div>\n",
              "  </div>\n",
              "  "
            ]
          },
          "metadata": {},
          "execution_count": 22
        }
      ]
    },
    {
      "cell_type": "markdown",
      "source": [
        "### 생존율과 상관관계가 있는 컬럼 데이터는 무엇일까?"
      ],
      "metadata": {
        "id": "-S2BimTuJmG8"
      }
    },
    {
      "cell_type": "code",
      "source": [
        "# Pclass의 상관관계 -0.338, 반비례한다.(-) \n",
        "# 0~1 상관관계 1에 가까울 수록 상관관계가 높다. 0.338\n",
        "# Fare가 높을수록 생존율이 증가한다. 0.257\n",
        "# Parch는 0.0816\n",
        "df.corr()"
      ],
      "metadata": {
        "colab": {
          "base_uri": "https://localhost:8080/",
          "height": 269
        },
        "id": "_piBSDSXJlFi",
        "outputId": "78f0330f-1524-4526-81b5-eb78a4ad3266"
      },
      "execution_count": null,
      "outputs": [
        {
          "output_type": "execute_result",
          "data": {
            "text/plain": [
              "             PassengerId  Survived    Pclass       Age     SibSp     Parch  \\\n",
              "PassengerId     1.000000 -0.005007 -0.035144  0.036847 -0.057527 -0.001652   \n",
              "Survived       -0.005007  1.000000 -0.338481 -0.077221 -0.035322  0.081629   \n",
              "Pclass         -0.035144 -0.338481  1.000000 -0.369226  0.083081  0.018443   \n",
              "Age             0.036847 -0.077221 -0.369226  1.000000 -0.308247 -0.189119   \n",
              "SibSp          -0.057527 -0.035322  0.083081 -0.308247  1.000000  0.414838   \n",
              "Parch          -0.001652  0.081629  0.018443 -0.189119  0.414838  1.000000   \n",
              "Fare            0.012658  0.257307 -0.549500  0.096067  0.159651  0.216225   \n",
              "\n",
              "                 Fare  \n",
              "PassengerId  0.012658  \n",
              "Survived     0.257307  \n",
              "Pclass      -0.549500  \n",
              "Age          0.096067  \n",
              "SibSp        0.159651  \n",
              "Parch        0.216225  \n",
              "Fare         1.000000  "
            ],
            "text/html": [
              "\n",
              "  <div id=\"df-a231edf2-0058-4e33-8b4f-d1dcc5cab5b9\">\n",
              "    <div class=\"colab-df-container\">\n",
              "      <div>\n",
              "<style scoped>\n",
              "    .dataframe tbody tr th:only-of-type {\n",
              "        vertical-align: middle;\n",
              "    }\n",
              "\n",
              "    .dataframe tbody tr th {\n",
              "        vertical-align: top;\n",
              "    }\n",
              "\n",
              "    .dataframe thead th {\n",
              "        text-align: right;\n",
              "    }\n",
              "</style>\n",
              "<table border=\"1\" class=\"dataframe\">\n",
              "  <thead>\n",
              "    <tr style=\"text-align: right;\">\n",
              "      <th></th>\n",
              "      <th>PassengerId</th>\n",
              "      <th>Survived</th>\n",
              "      <th>Pclass</th>\n",
              "      <th>Age</th>\n",
              "      <th>SibSp</th>\n",
              "      <th>Parch</th>\n",
              "      <th>Fare</th>\n",
              "    </tr>\n",
              "  </thead>\n",
              "  <tbody>\n",
              "    <tr>\n",
              "      <th>PassengerId</th>\n",
              "      <td>1.000000</td>\n",
              "      <td>-0.005007</td>\n",
              "      <td>-0.035144</td>\n",
              "      <td>0.036847</td>\n",
              "      <td>-0.057527</td>\n",
              "      <td>-0.001652</td>\n",
              "      <td>0.012658</td>\n",
              "    </tr>\n",
              "    <tr>\n",
              "      <th>Survived</th>\n",
              "      <td>-0.005007</td>\n",
              "      <td>1.000000</td>\n",
              "      <td>-0.338481</td>\n",
              "      <td>-0.077221</td>\n",
              "      <td>-0.035322</td>\n",
              "      <td>0.081629</td>\n",
              "      <td>0.257307</td>\n",
              "    </tr>\n",
              "    <tr>\n",
              "      <th>Pclass</th>\n",
              "      <td>-0.035144</td>\n",
              "      <td>-0.338481</td>\n",
              "      <td>1.000000</td>\n",
              "      <td>-0.369226</td>\n",
              "      <td>0.083081</td>\n",
              "      <td>0.018443</td>\n",
              "      <td>-0.549500</td>\n",
              "    </tr>\n",
              "    <tr>\n",
              "      <th>Age</th>\n",
              "      <td>0.036847</td>\n",
              "      <td>-0.077221</td>\n",
              "      <td>-0.369226</td>\n",
              "      <td>1.000000</td>\n",
              "      <td>-0.308247</td>\n",
              "      <td>-0.189119</td>\n",
              "      <td>0.096067</td>\n",
              "    </tr>\n",
              "    <tr>\n",
              "      <th>SibSp</th>\n",
              "      <td>-0.057527</td>\n",
              "      <td>-0.035322</td>\n",
              "      <td>0.083081</td>\n",
              "      <td>-0.308247</td>\n",
              "      <td>1.000000</td>\n",
              "      <td>0.414838</td>\n",
              "      <td>0.159651</td>\n",
              "    </tr>\n",
              "    <tr>\n",
              "      <th>Parch</th>\n",
              "      <td>-0.001652</td>\n",
              "      <td>0.081629</td>\n",
              "      <td>0.018443</td>\n",
              "      <td>-0.189119</td>\n",
              "      <td>0.414838</td>\n",
              "      <td>1.000000</td>\n",
              "      <td>0.216225</td>\n",
              "    </tr>\n",
              "    <tr>\n",
              "      <th>Fare</th>\n",
              "      <td>0.012658</td>\n",
              "      <td>0.257307</td>\n",
              "      <td>-0.549500</td>\n",
              "      <td>0.096067</td>\n",
              "      <td>0.159651</td>\n",
              "      <td>0.216225</td>\n",
              "      <td>1.000000</td>\n",
              "    </tr>\n",
              "  </tbody>\n",
              "</table>\n",
              "</div>\n",
              "      <button class=\"colab-df-convert\" onclick=\"convertToInteractive('df-a231edf2-0058-4e33-8b4f-d1dcc5cab5b9')\"\n",
              "              title=\"Convert this dataframe to an interactive table.\"\n",
              "              style=\"display:none;\">\n",
              "        \n",
              "  <svg xmlns=\"http://www.w3.org/2000/svg\" height=\"24px\"viewBox=\"0 0 24 24\"\n",
              "       width=\"24px\">\n",
              "    <path d=\"M0 0h24v24H0V0z\" fill=\"none\"/>\n",
              "    <path d=\"M18.56 5.44l.94 2.06.94-2.06 2.06-.94-2.06-.94-.94-2.06-.94 2.06-2.06.94zm-11 1L8.5 8.5l.94-2.06 2.06-.94-2.06-.94L8.5 2.5l-.94 2.06-2.06.94zm10 10l.94 2.06.94-2.06 2.06-.94-2.06-.94-.94-2.06-.94 2.06-2.06.94z\"/><path d=\"M17.41 7.96l-1.37-1.37c-.4-.4-.92-.59-1.43-.59-.52 0-1.04.2-1.43.59L10.3 9.45l-7.72 7.72c-.78.78-.78 2.05 0 2.83L4 21.41c.39.39.9.59 1.41.59.51 0 1.02-.2 1.41-.59l7.78-7.78 2.81-2.81c.8-.78.8-2.07 0-2.86zM5.41 20L4 18.59l7.72-7.72 1.47 1.35L5.41 20z\"/>\n",
              "  </svg>\n",
              "      </button>\n",
              "      \n",
              "  <style>\n",
              "    .colab-df-container {\n",
              "      display:flex;\n",
              "      flex-wrap:wrap;\n",
              "      gap: 12px;\n",
              "    }\n",
              "\n",
              "    .colab-df-convert {\n",
              "      background-color: #E8F0FE;\n",
              "      border: none;\n",
              "      border-radius: 50%;\n",
              "      cursor: pointer;\n",
              "      display: none;\n",
              "      fill: #1967D2;\n",
              "      height: 32px;\n",
              "      padding: 0 0 0 0;\n",
              "      width: 32px;\n",
              "    }\n",
              "\n",
              "    .colab-df-convert:hover {\n",
              "      background-color: #E2EBFA;\n",
              "      box-shadow: 0px 1px 2px rgba(60, 64, 67, 0.3), 0px 1px 3px 1px rgba(60, 64, 67, 0.15);\n",
              "      fill: #174EA6;\n",
              "    }\n",
              "\n",
              "    [theme=dark] .colab-df-convert {\n",
              "      background-color: #3B4455;\n",
              "      fill: #D2E3FC;\n",
              "    }\n",
              "\n",
              "    [theme=dark] .colab-df-convert:hover {\n",
              "      background-color: #434B5C;\n",
              "      box-shadow: 0px 1px 3px 1px rgba(0, 0, 0, 0.15);\n",
              "      filter: drop-shadow(0px 1px 2px rgba(0, 0, 0, 0.3));\n",
              "      fill: #FFFFFF;\n",
              "    }\n",
              "  </style>\n",
              "\n",
              "      <script>\n",
              "        const buttonEl =\n",
              "          document.querySelector('#df-a231edf2-0058-4e33-8b4f-d1dcc5cab5b9 button.colab-df-convert');\n",
              "        buttonEl.style.display =\n",
              "          google.colab.kernel.accessAllowed ? 'block' : 'none';\n",
              "\n",
              "        async function convertToInteractive(key) {\n",
              "          const element = document.querySelector('#df-a231edf2-0058-4e33-8b4f-d1dcc5cab5b9');\n",
              "          const dataTable =\n",
              "            await google.colab.kernel.invokeFunction('convertToInteractive',\n",
              "                                                     [key], {});\n",
              "          if (!dataTable) return;\n",
              "\n",
              "          const docLinkHtml = 'Like what you see? Visit the ' +\n",
              "            '<a target=\"_blank\" href=https://colab.research.google.com/notebooks/data_table.ipynb>data table notebook</a>'\n",
              "            + ' to learn more about interactive tables.';\n",
              "          element.innerHTML = '';\n",
              "          dataTable['output_type'] = 'display_data';\n",
              "          await google.colab.output.renderOutput(dataTable, element);\n",
              "          const docLink = document.createElement('div');\n",
              "          docLink.innerHTML = docLinkHtml;\n",
              "          element.appendChild(docLink);\n",
              "        }\n",
              "      </script>\n",
              "    </div>\n",
              "  </div>\n",
              "  "
            ]
          },
          "metadata": {},
          "execution_count": 23
        }
      ]
    },
    {
      "cell_type": "markdown",
      "source": [
        "### 상관관계를 그래프로 시각화"
      ],
      "metadata": {
        "id": "_k7LHqlnLWha"
      }
    },
    {
      "cell_type": "code",
      "source": [
        "plt.figure(figsize=(10,10))\n",
        "\n",
        "sns.heatmap(df.corr(), linewidths=0.2, square=True, annot=True, cmap=plt.cm.viridis, linecolor=\"white\")\n",
        "plt.title('Correlation between features')\n",
        "plt.show()"
      ],
      "metadata": {
        "colab": {
          "base_uri": "https://localhost:8080/",
          "height": 578
        },
        "id": "2pszJ1YeLb29",
        "outputId": "c5e65cae-07e3-4fe8-9156-c459243d249c"
      },
      "execution_count": null,
      "outputs": [
        {
          "output_type": "display_data",
          "data": {
            "text/plain": [
              "<Figure size 720x720 with 2 Axes>"
            ],
            "image/png": "[encoded data removed]"
          },
          "metadata": {
            "needs_background": "light"
          }
        }
      ]
    },
    {
      "cell_type": "markdown",
      "source": [
        "### 나이 데이터를 구간별로 설정하기"
      ],
      "metadata": {
        "id": "LqMMAcuqM0kQ"
      }
    },
    {
      "cell_type": "code",
      "source": [
        "df['Age_cat'] = pd.cut(df['Age'],\n",
        "                       # 0~3, 3~7, 7~15, 15~30, 30~60, 60~80 \n",
        "                       bins=[0,3,7,15,30,60,80],\n",
        "                       include_lowest=True,\n",
        "                       labels=['baby','children','teenage', 'young','adult','old'])\n",
        "\n",
        "\n",
        "plt.figure(figsize=[14,4])\n",
        "plt.subplot(131)\n",
        "sns.barplot('Pclass', 'Survived', data=df)\n",
        "plt.subplot(132)\n",
        "sns.barplot('Age_cat', 'Survived', data=df)\n",
        "plt.subplot(133)\n",
        "sns.barplot('Sex', 'Survived', data=df)\n",
        "plt.subplots_adjust(top=1, bottom=0.1, left=0.10, right=1, hspace=0.5, wspace=0.5)\n",
        "plt.show()\n"
      ],
      "metadata": {
        "colab": {
          "base_uri": "https://localhost:8080/",
          "height": 411
        },
        "id": "DYfEYZi6M5QF",
        "outputId": "ffde9b7a-0721-436a-9ab8-28b74b93bf86"
      },
      "execution_count": null,
      "outputs": [
        {
          "output_type": "stream",
          "name": "stderr",
          "text": [
            "/usr/local/lib/python3.8/dist-packages/seaborn/_decorators.py:36: FutureWarning: Pass the following variables as keyword args: x, y. From version 0.12, the only valid positional argument will be `data`, and passing other arguments without an explicit keyword will result in an error or misinterpretation.\n",
            "  warnings.warn(\n",
            "/usr/local/lib/python3.8/dist-packages/seaborn/_decorators.py:36: FutureWarning: Pass the following variables as keyword args: x, y. From version 0.12, the only valid positional argument will be `data`, and passing other arguments without an explicit keyword will result in an error or misinterpretation.\n",
            "  warnings.warn(\n"
          ]
        },
        {
          "output_type": "display_data",
          "data": {
            "text/plain": [
              "<Figure size 1008x288 with 3 Axes>"
            ],
            "image/png": "[encoded data removed]"
          },
          "metadata": {
            "needs_background": "light"
          }
        }
      ]
    },
    {
      "cell_type": "markdown",
      "source": [
        "### 성별 생존율 분석"
      ],
      "metadata": {
        "id": "k_owDSoNOkFr"
      }
    },
    {
      "cell_type": "code",
      "source": [
        "f, ax = plt.subplots(1,2, figsize=(12,6))\n",
        "# \n",
        "sns.countplot('Sex', data=df, ax=ax[0])\n",
        "sns.countplot('Sex', hue='Survived', data=df, ax=ax[1])\n",
        "plt.show()"
      ],
      "metadata": {
        "colab": {
          "base_uri": "https://localhost:8080/",
          "height": 478
        },
        "id": "rOd7oLxcOjfa",
        "outputId": "26e3b681-6d3c-4f4e-de77-408b06217e2f"
      },
      "execution_count": null,
      "outputs": [
        {
          "output_type": "stream",
          "name": "stderr",
          "text": [
            "/usr/local/lib/python3.8/dist-packages/seaborn/_decorators.py:36: FutureWarning: Pass the following variable as a keyword arg: x. From version 0.12, the only valid positional argument will be `data`, and passing other arguments without an explicit keyword will result in an error or misinterpretation.\n",
            "  warnings.warn(\n",
            "/usr/local/lib/python3.8/dist-packages/seaborn/_decorators.py:36: FutureWarning: Pass the following variable as a keyword arg: x. From version 0.12, the only valid positional argument will be `data`, and passing other arguments without an explicit keyword will result in an error or misinterpretation.\n",
            "  warnings.warn(\n"
          ]
        },
        {
          "output_type": "display_data",
          "data": {
            "text/plain": [
              "<Figure size 864x432 with 2 Axes>"
            ],
            "image/png": "[encoded data removed]"
          },
          "metadata": {
            "needs_background": "light"
          }
        }
      ]
    },
    {
      "cell_type": "markdown",
      "source": [
        "### **귀족들의 생존율만 다시 조사해보기**\n",
        "#### 대략적으로 이름을 통해 신분을 확인할 수 있다."
      ],
      "metadata": {
        "id": "CDR-VbgXf8OX"
      }
    },
    {
      "cell_type": "code",
      "source": [
        "df['Name']"
      ],
      "metadata": {
        "colab": {
          "base_uri": "https://localhost:8080/"
        },
        "id": "dcMS1STNf1D9",
        "outputId": "2455cae9-1f97-4f83-82b5-4c0cb5bf4191"
      },
      "execution_count": null,
      "outputs": [
        {
          "output_type": "execute_result",
          "data": {
            "text/plain": [
              "0                                Braund, Mr. Owen Harris\n",
              "1      Cumings, Mrs. John Bradley (Florence Briggs Th...\n",
              "2                                 Heikkinen, Miss. Laina\n",
              "3           Futrelle, Mrs. Jacques Heath (Lily May Peel)\n",
              "4                               Allen, Mr. William Henry\n",
              "                             ...                        \n",
              "886                                Montvila, Rev. Juozas\n",
              "887                         Graham, Miss. Margaret Edith\n",
              "888             Johnston, Miss. Catherine Helen \"Carrie\"\n",
              "889                                Behr, Mr. Karl Howell\n",
              "890                                  Dooley, Mr. Patrick\n",
              "Name: Name, Length: 891, dtype: object"
            ]
          },
          "metadata": {},
          "execution_count": 43
        }
      ]
    },
    {
      "cell_type": "markdown",
      "source": [
        "이름 하나만 전처리 해보기"
      ],
      "metadata": {
        "id": "xZv0iLpXgMdP"
      }
    },
    {
      "cell_type": "code",
      "source": [
        "df['Name'][0]"
      ],
      "metadata": {
        "colab": {
          "base_uri": "https://localhost:8080/",
          "height": 36
        },
        "id": "1dXSSj1EgW9S",
        "outputId": "0a3c8726-e037-4ef0-8ca1-605cfcfa23f6"
      },
      "execution_count": null,
      "outputs": [
        {
          "output_type": "execute_result",
          "data": {
            "text/plain": [
              "'Braund, Mr. Owen Harris'"
            ],
            "application/vnd.google.colaboratory.intrinsic+json": {
              "type": "string"
            }
          },
          "metadata": {},
          "execution_count": 44
        }
      ]
    },
    {
      "cell_type": "code",
      "source": [
        "# ','를 기준으로 뒷부분의 문자열만 취한다.\n",
        "df['Name'][0].split(',')[1]"
      ],
      "metadata": {
        "colab": {
          "base_uri": "https://localhost:8080/",
          "height": 36
        },
        "id": "qnNjj833ghUe",
        "outputId": "b6cc6617-db6b-4810-f94c-3bcaeb84ada1"
      },
      "execution_count": null,
      "outputs": [
        {
          "output_type": "execute_result",
          "data": {
            "text/plain": [
              "' Mr. Owen Harris'"
            ],
            "application/vnd.google.colaboratory.intrinsic+json": {
              "type": "string"
            }
          },
          "metadata": {},
          "execution_count": 46
        }
      ]
    },
    {
      "cell_type": "code",
      "source": [
        "# ','를 기준으로 뒷부분의 문자열만 취하고, '.'을 기준으로 앞부분의 문자열만 취한다.\n",
        "df['Name'][0].split(',')[1].split('.')[0]"
      ],
      "metadata": {
        "colab": {
          "base_uri": "https://localhost:8080/",
          "height": 36
        },
        "id": "n2KwpiJkg5dI",
        "outputId": "ddae0909-d852-4da7-b692-c819d8979fac"
      },
      "execution_count": null,
      "outputs": [
        {
          "output_type": "execute_result",
          "data": {
            "text/plain": [
              "' Mr'"
            ],
            "application/vnd.google.colaboratory.intrinsic+json": {
              "type": "string"
            }
          },
          "metadata": {},
          "execution_count": 47
        }
      ]
    },
    {
      "cell_type": "code",
      "source": [
        "# strip()함수를 사용하여 공백 삭제\n",
        "df['Name'][0].split(',')[1].split('.')[0].strip()"
      ],
      "metadata": {
        "colab": {
          "base_uri": "https://localhost:8080/",
          "height": 36
        },
        "id": "wtmmHDA4ha5p",
        "outputId": "aaf1ba93-a6e2-42d2-eda6-56698adfcbda"
      },
      "execution_count": null,
      "outputs": [
        {
          "output_type": "execute_result",
          "data": {
            "text/plain": [
              "'Mr'"
            ],
            "application/vnd.google.colaboratory.intrinsic+json": {
              "type": "string"
            }
          },
          "metadata": {},
          "execution_count": 49
        }
      ]
    },
    {
      "cell_type": "code",
      "source": [
        "# 람다함수의 예\n",
        "test = lambda x:x+2\n",
        "\n",
        "conv_rare = lambda x: x.split(',')[1].split('.')[0].strip()\n",
        "\n",
        "# 입력을 df['Name] seires데이터를 conv_rare 람다함수에 입력으로 넣어준다.\n",
        "# 입력이 seires -> 출력도 seires\n",
        "df['standing'] = df['Name'].map(conv_rare)"
      ],
      "metadata": {
        "id": "1v2Eto56hJ6R"
      },
      "execution_count": null,
      "outputs": []
    },
    {
      "cell_type": "code",
      "source": [
        "# df['standing']이 잘 생성 되었는지 확인\n",
        "df"
      ],
      "metadata": {
        "colab": {
          "base_uri": "https://localhost:8080/",
          "height": 423
        },
        "id": "lWJvhNKMjA56",
        "outputId": "816a8cb7-1572-4bdd-9753-bbb8b59d797f"
      },
      "execution_count": null,
      "outputs": [
        {
          "output_type": "execute_result",
          "data": {
            "text/plain": [
              "     PassengerId  Survived  Pclass  \\\n",
              "0              1         0       3   \n",
              "1              2         1       1   \n",
              "2              3         1       3   \n",
              "3              4         1       1   \n",
              "4              5         0       3   \n",
              "..           ...       ...     ...   \n",
              "886          887         0       2   \n",
              "887          888         1       1   \n",
              "888          889         0       3   \n",
              "889          890         1       1   \n",
              "890          891         0       3   \n",
              "\n",
              "                                                  Name     Sex   Age  SibSp  \\\n",
              "0                              Braund, Mr. Owen Harris    male  22.0      1   \n",
              "1    Cumings, Mrs. John Bradley (Florence Briggs Th...  female  38.0      1   \n",
              "2                               Heikkinen, Miss. Laina  female  26.0      0   \n",
              "3         Futrelle, Mrs. Jacques Heath (Lily May Peel)  female  35.0      1   \n",
              "4                             Allen, Mr. William Henry    male  35.0      0   \n",
              "..                                                 ...     ...   ...    ...   \n",
              "886                              Montvila, Rev. Juozas    male  27.0      0   \n",
              "887                       Graham, Miss. Margaret Edith  female  19.0      0   \n",
              "888           Johnston, Miss. Catherine Helen \"Carrie\"  female   NaN      1   \n",
              "889                              Behr, Mr. Karl Howell    male  26.0      0   \n",
              "890                                Dooley, Mr. Patrick    male  32.0      0   \n",
              "\n",
              "     Parch            Ticket     Fare Cabin Embarked Age_cat standing  \n",
              "0        0         A/5 21171   7.2500   NaN        S   young       Mr  \n",
              "1        0          PC 17599  71.2833   C85        C   adult      Mrs  \n",
              "2        0  STON/O2. 3101282   7.9250   NaN        S   young     Miss  \n",
              "3        0            113803  53.1000  C123        S   adult      Mrs  \n",
              "4        0            373450   8.0500   NaN        S   adult       Mr  \n",
              "..     ...               ...      ...   ...      ...     ...      ...  \n",
              "886      0            211536  13.0000   NaN        S   young      Rev  \n",
              "887      0            112053  30.0000   B42        S   young     Miss  \n",
              "888      2        W./C. 6607  23.4500   NaN        S     NaN     Miss  \n",
              "889      0            111369  30.0000  C148        C   young       Mr  \n",
              "890      0            370376   7.7500   NaN        Q   adult       Mr  \n",
              "\n",
              "[891 rows x 14 columns]"
            ],
            "text/html": [
              "\n",
              "  <div id=\"df-2228b6cc-fd19-4228-b790-065aead5da3f\">\n",
              "    <div class=\"colab-df-container\">\n",
              "      <div>\n",
              "<style scoped>\n",
              "    .dataframe tbody tr th:only-of-type {\n",
              "        vertical-align: middle;\n",
              "    }\n",
              "\n",
              "    .dataframe tbody tr th {\n",
              "        vertical-align: top;\n",
              "    }\n",
              "\n",
              "    .dataframe thead th {\n",
              "        text-align: right;\n",
              "    }\n",
              "</style>\n",
              "<table border=\"1\" class=\"dataframe\">\n",
              "  <thead>\n",
              "    <tr style=\"text-align: right;\">\n",
              "      <th></th>\n",
              "      <th>PassengerId</th>\n",
              "      <th>Survived</th>\n",
              "      <th>Pclass</th>\n",
              "      <th>Name</th>\n",
              "      <th>Sex</th>\n",
              "      <th>Age</th>\n",
              "      <th>SibSp</th>\n",
              "      <th>Parch</th>\n",
              "      <th>Ticket</th>\n",
              "      <th>Fare</th>\n",
              "      <th>Cabin</th>\n",
              "      <th>Embarked</th>\n",
              "      <th>Age_cat</th>\n",
              "      <th>standing</th>\n",
              "    </tr>\n",
              "  </thead>\n",
              "  <tbody>\n",
              "    <tr>\n",
              "      <th>0</th>\n",
              "      <td>1</td>\n",
              "      <td>0</td>\n",
              "      <td>3</td>\n",
              "      <td>Braund, Mr. Owen Harris</td>\n",
              "      <td>male</td>\n",
              "      <td>22.0</td>\n",
              "      <td>1</td>\n",
              "      <td>0</td>\n",
              "      <td>A/5 21171</td>\n",
              "      <td>7.2500</td>\n",
              "      <td>NaN</td>\n",
              "      <td>S</td>\n",
              "      <td>young</td>\n",
              "      <td>Mr</td>\n",
              "    </tr>\n",
              "    <tr>\n",
              "      <th>1</th>\n",
              "      <td>2</td>\n",
              "      <td>1</td>\n",
              "      <td>1</td>\n",
              "      <td>Cumings, Mrs. John Bradley (Florence Briggs Th...</td>\n",
              "      <td>female</td>\n",
              "      <td>38.0</td>\n",
              "      <td>1</td>\n",
              "      <td>0</td>\n",
              "      <td>PC 17599</td>\n",
              "      <td>71.2833</td>\n",
              "      <td>C85</td>\n",
              "      <td>C</td>\n",
              "      <td>adult</td>\n",
              "      <td>Mrs</td>\n",
              "    </tr>\n",
              "    <tr>\n",
              "      <th>2</th>\n",
              "      <td>3</td>\n",
              "      <td>1</td>\n",
              "      <td>3</td>\n",
              "      <td>Heikkinen, Miss. Laina</td>\n",
              "      <td>female</td>\n",
              "      <td>26.0</td>\n",
              "      <td>0</td>\n",
              "      <td>0</td>\n",
              "      <td>STON/O2. 3101282</td>\n",
              "      <td>7.9250</td>\n",
              "      <td>NaN</td>\n",
              "      <td>S</td>\n",
              "      <td>young</td>\n",
              "      <td>Miss</td>\n",
              "    </tr>\n",
              "    <tr>\n",
              "      <th>3</th>\n",
              "      <td>4</td>\n",
              "      <td>1</td>\n",
              "      <td>1</td>\n",
              "      <td>Futrelle, Mrs. Jacques Heath (Lily May Peel)</td>\n",
              "      <td>female</td>\n",
              "      <td>35.0</td>\n",
              "      <td>1</td>\n",
              "      <td>0</td>\n",
              "      <td>113803</td>\n",
              "      <td>53.1000</td>\n",
              "      <td>C123</td>\n",
              "      <td>S</td>\n",
              "      <td>adult</td>\n",
              "      <td>Mrs</td>\n",
              "    </tr>\n",
              "    <tr>\n",
              "      <th>4</th>\n",
              "      <td>5</td>\n",
              "      <td>0</td>\n",
              "      <td>3</td>\n",
              "      <td>Allen, Mr. William Henry</td>\n",
              "      <td>male</td>\n",
              "      <td>35.0</td>\n",
              "      <td>0</td>\n",
              "      <td>0</td>\n",
              "      <td>373450</td>\n",
              "      <td>8.0500</td>\n",
              "      <td>NaN</td>\n",
              "      <td>S</td>\n",
              "      <td>adult</td>\n",
              "      <td>Mr</td>\n",
              "    </tr>\n",
              "    <tr>\n",
              "      <th>...</th>\n",
              "      <td>...</td>\n",
              "      <td>...</td>\n",
              "      <td>...</td>\n",
              "      <td>...</td>\n",
              "      <td>...</td>\n",
              "      <td>...</td>\n",
              "      <td>...</td>\n",
              "      <td>...</td>\n",
              "      <td>...</td>\n",
              "      <td>...</td>\n",
              "      <td>...</td>\n",
              "      <td>...</td>\n",
              "      <td>...</td>\n",
              "      <td>...</td>\n",
              "    </tr>\n",
              "    <tr>\n",
              "      <th>886</th>\n",
              "      <td>887</td>\n",
              "      <td>0</td>\n",
              "      <td>2</td>\n",
              "      <td>Montvila, Rev. Juozas</td>\n",
              "      <td>male</td>\n",
              "      <td>27.0</td>\n",
              "      <td>0</td>\n",
              "      <td>0</td>\n",
              "      <td>211536</td>\n",
              "      <td>13.0000</td>\n",
              "      <td>NaN</td>\n",
              "      <td>S</td>\n",
              "      <td>young</td>\n",
              "      <td>Rev</td>\n",
              "    </tr>\n",
              "    <tr>\n",
              "      <th>887</th>\n",
              "      <td>888</td>\n",
              "      <td>1</td>\n",
              "      <td>1</td>\n",
              "      <td>Graham, Miss. Margaret Edith</td>\n",
              "      <td>female</td>\n",
              "      <td>19.0</td>\n",
              "      <td>0</td>\n",
              "      <td>0</td>\n",
              "      <td>112053</td>\n",
              "      <td>30.0000</td>\n",
              "      <td>B42</td>\n",
              "      <td>S</td>\n",
              "      <td>young</td>\n",
              "      <td>Miss</td>\n",
              "    </tr>\n",
              "    <tr>\n",
              "      <th>888</th>\n",
              "      <td>889</td>\n",
              "      <td>0</td>\n",
              "      <td>3</td>\n",
              "      <td>Johnston, Miss. Catherine Helen \"Carrie\"</td>\n",
              "      <td>female</td>\n",
              "      <td>NaN</td>\n",
              "      <td>1</td>\n",
              "      <td>2</td>\n",
              "      <td>W./C. 6607</td>\n",
              "      <td>23.4500</td>\n",
              "      <td>NaN</td>\n",
              "      <td>S</td>\n",
              "      <td>NaN</td>\n",
              "      <td>Miss</td>\n",
              "    </tr>\n",
              "    <tr>\n",
              "      <th>889</th>\n",
              "      <td>890</td>\n",
              "      <td>1</td>\n",
              "      <td>1</td>\n",
              "      <td>Behr, Mr. Karl Howell</td>\n",
              "      <td>male</td>\n",
              "      <td>26.0</td>\n",
              "      <td>0</td>\n",
              "      <td>0</td>\n",
              "      <td>111369</td>\n",
              "      <td>30.0000</td>\n",
              "      <td>C148</td>\n",
              "      <td>C</td>\n",
              "      <td>young</td>\n",
              "      <td>Mr</td>\n",
              "    </tr>\n",
              "    <tr>\n",
              "      <th>890</th>\n",
              "      <td>891</td>\n",
              "      <td>0</td>\n",
              "      <td>3</td>\n",
              "      <td>Dooley, Mr. Patrick</td>\n",
              "      <td>male</td>\n",
              "      <td>32.0</td>\n",
              "      <td>0</td>\n",
              "      <td>0</td>\n",
              "      <td>370376</td>\n",
              "      <td>7.7500</td>\n",
              "      <td>NaN</td>\n",
              "      <td>Q</td>\n",
              "      <td>adult</td>\n",
              "      <td>Mr</td>\n",
              "    </tr>\n",
              "  </tbody>\n",
              "</table>\n",
              "<p>891 rows × 14 columns</p>\n",
              "</div>\n",
              "      <button class=\"colab-df-convert\" onclick=\"convertToInteractive('df-2228b6cc-fd19-4228-b790-065aead5da3f')\"\n",
              "              title=\"Convert this dataframe to an interactive table.\"\n",
              "              style=\"display:none;\">\n",
              "        \n",
              "  <svg xmlns=\"http://www.w3.org/2000/svg\" height=\"24px\"viewBox=\"0 0 24 24\"\n",
              "       width=\"24px\">\n",
              "    <path d=\"M0 0h24v24H0V0z\" fill=\"none\"/>\n",
              "    <path d=\"M18.56 5.44l.94 2.06.94-2.06 2.06-.94-2.06-.94-.94-2.06-.94 2.06-2.06.94zm-11 1L8.5 8.5l.94-2.06 2.06-.94-2.06-.94L8.5 2.5l-.94 2.06-2.06.94zm10 10l.94 2.06.94-2.06 2.06-.94-2.06-.94-.94-2.06-.94 2.06-2.06.94z\"/><path d=\"M17.41 7.96l-1.37-1.37c-.4-.4-.92-.59-1.43-.59-.52 0-1.04.2-1.43.59L10.3 9.45l-7.72 7.72c-.78.78-.78 2.05 0 2.83L4 21.41c.39.39.9.59 1.41.59.51 0 1.02-.2 1.41-.59l7.78-7.78 2.81-2.81c.8-.78.8-2.07 0-2.86zM5.41 20L4 18.59l7.72-7.72 1.47 1.35L5.41 20z\"/>\n",
              "  </svg>\n",
              "      </button>\n",
              "      \n",
              "  <style>\n",
              "    .colab-df-container {\n",
              "      display:flex;\n",
              "      flex-wrap:wrap;\n",
              "      gap: 12px;\n",
              "    }\n",
              "\n",
              "    .colab-df-convert {\n",
              "      background-color: #E8F0FE;\n",
              "      border: none;\n",
              "      border-radius: 50%;\n",
              "      cursor: pointer;\n",
              "      display: none;\n",
              "      fill: #1967D2;\n",
              "      height: 32px;\n",
              "      padding: 0 0 0 0;\n",
              "      width: 32px;\n",
              "    }\n",
              "\n",
              "    .colab-df-convert:hover {\n",
              "      background-color: #E2EBFA;\n",
              "      box-shadow: 0px 1px 2px rgba(60, 64, 67, 0.3), 0px 1px 3px 1px rgba(60, 64, 67, 0.15);\n",
              "      fill: #174EA6;\n",
              "    }\n",
              "\n",
              "    [theme=dark] .colab-df-convert {\n",
              "      background-color: #3B4455;\n",
              "      fill: #D2E3FC;\n",
              "    }\n",
              "\n",
              "    [theme=dark] .colab-df-convert:hover {\n",
              "      background-color: #434B5C;\n",
              "      box-shadow: 0px 1px 3px 1px rgba(0, 0, 0, 0.15);\n",
              "      filter: drop-shadow(0px 1px 2px rgba(0, 0, 0, 0.3));\n",
              "      fill: #FFFFFF;\n",
              "    }\n",
              "  </style>\n",
              "\n",
              "      <script>\n",
              "        const buttonEl =\n",
              "          document.querySelector('#df-2228b6cc-fd19-4228-b790-065aead5da3f button.colab-df-convert');\n",
              "        buttonEl.style.display =\n",
              "          google.colab.kernel.accessAllowed ? 'block' : 'none';\n",
              "\n",
              "        async function convertToInteractive(key) {\n",
              "          const element = document.querySelector('#df-2228b6cc-fd19-4228-b790-065aead5da3f');\n",
              "          const dataTable =\n",
              "            await google.colab.kernel.invokeFunction('convertToInteractive',\n",
              "                                                     [key], {});\n",
              "          if (!dataTable) return;\n",
              "\n",
              "          const docLinkHtml = 'Like what you see? Visit the ' +\n",
              "            '<a target=\"_blank\" href=https://colab.research.google.com/notebooks/data_table.ipynb>data table notebook</a>'\n",
              "            + ' to learn more about interactive tables.';\n",
              "          element.innerHTML = '';\n",
              "          dataTable['output_type'] = 'display_data';\n",
              "          await google.colab.output.renderOutput(dataTable, element);\n",
              "          const docLink = document.createElement('div');\n",
              "          docLink.innerHTML = docLinkHtml;\n",
              "          element.appendChild(docLink);\n",
              "        }\n",
              "      </script>\n",
              "    </div>\n",
              "  </div>\n",
              "  "
            ]
          },
          "metadata": {},
          "execution_count": 52
        }
      ]
    },
    {
      "cell_type": "code",
      "source": [
        "standing = df['standing'].unique()\n",
        "print(standing)\n",
        "print(len(standing))"
      ],
      "metadata": {
        "colab": {
          "base_uri": "https://localhost:8080/"
        },
        "id": "lgSiugeVjQpr",
        "outputId": "0983d38d-335a-4e57-fbb6-680a5b08ad5d"
      },
      "execution_count": null,
      "outputs": [
        {
          "output_type": "stream",
          "name": "stdout",
          "text": [
            "['Mr' 'Mrs' 'Miss' 'Master' 'Don' 'Rev' 'Dr' 'Mme' 'Ms' 'Major' 'Lady'\n",
            " 'Sir' 'Mlle' 'Col' 'Capt' 'the Countess' 'Jonkheer']\n",
            "17\n"
          ]
        }
      ]
    },
    {
      "cell_type": "code",
      "source": [
        "# standing(신분)의 갯수를 확인하는데, 성별로 확인하기\n",
        "# Dr의 경우 남성과 여성 모두 존재하므로\n",
        "pd.crosstab(df['standing'], df['Sex'])"
      ],
      "metadata": {
        "colab": {
          "base_uri": "https://localhost:8080/",
          "height": 613
        },
        "id": "JWkmfQDtji1C",
        "outputId": "3a6e6d84-0c71-45f7-fbbf-6eb93ea0dae5"
      },
      "execution_count": null,
      "outputs": [
        {
          "output_type": "execute_result",
          "data": {
            "text/plain": [
              "Sex           female  male\n",
              "standing                  \n",
              "Capt               0     1\n",
              "Col                0     2\n",
              "Don                0     1\n",
              "Dr                 1     6\n",
              "Jonkheer           0     1\n",
              "Lady               1     0\n",
              "Major              0     2\n",
              "Master             0    40\n",
              "Miss             182     0\n",
              "Mlle               2     0\n",
              "Mme                1     0\n",
              "Mr                 0   517\n",
              "Mrs              125     0\n",
              "Ms                 1     0\n",
              "Rev                0     6\n",
              "Sir                0     1\n",
              "the Countess       1     0"
            ],
            "text/html": [
              "\n",
              "  <div id=\"df-21eb98a7-bc6b-49c8-a372-4f5817422108\">\n",
              "    <div class=\"colab-df-container\">\n",
              "      <div>\n",
              "<style scoped>\n",
              "    .dataframe tbody tr th:only-of-type {\n",
              "        vertical-align: middle;\n",
              "    }\n",
              "\n",
              "    .dataframe tbody tr th {\n",
              "        vertical-align: top;\n",
              "    }\n",
              "\n",
              "    .dataframe thead th {\n",
              "        text-align: right;\n",
              "    }\n",
              "</style>\n",
              "<table border=\"1\" class=\"dataframe\">\n",
              "  <thead>\n",
              "    <tr style=\"text-align: right;\">\n",
              "      <th>Sex</th>\n",
              "      <th>female</th>\n",
              "      <th>male</th>\n",
              "    </tr>\n",
              "    <tr>\n",
              "      <th>standing</th>\n",
              "      <th></th>\n",
              "      <th></th>\n",
              "    </tr>\n",
              "  </thead>\n",
              "  <tbody>\n",
              "    <tr>\n",
              "      <th>Capt</th>\n",
              "      <td>0</td>\n",
              "      <td>1</td>\n",
              "    </tr>\n",
              "    <tr>\n",
              "      <th>Col</th>\n",
              "      <td>0</td>\n",
              "      <td>2</td>\n",
              "    </tr>\n",
              "    <tr>\n",
              "      <th>Don</th>\n",
              "      <td>0</td>\n",
              "      <td>1</td>\n",
              "    </tr>\n",
              "    <tr>\n",
              "      <th>Dr</th>\n",
              "      <td>1</td>\n",
              "      <td>6</td>\n",
              "    </tr>\n",
              "    <tr>\n",
              "      <th>Jonkheer</th>\n",
              "      <td>0</td>\n",
              "      <td>1</td>\n",
              "    </tr>\n",
              "    <tr>\n",
              "      <th>Lady</th>\n",
              "      <td>1</td>\n",
              "      <td>0</td>\n",
              "    </tr>\n",
              "    <tr>\n",
              "      <th>Major</th>\n",
              "      <td>0</td>\n",
              "      <td>2</td>\n",
              "    </tr>\n",
              "    <tr>\n",
              "      <th>Master</th>\n",
              "      <td>0</td>\n",
              "      <td>40</td>\n",
              "    </tr>\n",
              "    <tr>\n",
              "      <th>Miss</th>\n",
              "      <td>182</td>\n",
              "      <td>0</td>\n",
              "    </tr>\n",
              "    <tr>\n",
              "      <th>Mlle</th>\n",
              "      <td>2</td>\n",
              "      <td>0</td>\n",
              "    </tr>\n",
              "    <tr>\n",
              "      <th>Mme</th>\n",
              "      <td>1</td>\n",
              "      <td>0</td>\n",
              "    </tr>\n",
              "    <tr>\n",
              "      <th>Mr</th>\n",
              "      <td>0</td>\n",
              "      <td>517</td>\n",
              "    </tr>\n",
              "    <tr>\n",
              "      <th>Mrs</th>\n",
              "      <td>125</td>\n",
              "      <td>0</td>\n",
              "    </tr>\n",
              "    <tr>\n",
              "      <th>Ms</th>\n",
              "      <td>1</td>\n",
              "      <td>0</td>\n",
              "    </tr>\n",
              "    <tr>\n",
              "      <th>Rev</th>\n",
              "      <td>0</td>\n",
              "      <td>6</td>\n",
              "    </tr>\n",
              "    <tr>\n",
              "      <th>Sir</th>\n",
              "      <td>0</td>\n",
              "      <td>1</td>\n",
              "    </tr>\n",
              "    <tr>\n",
              "      <th>the Countess</th>\n",
              "      <td>1</td>\n",
              "      <td>0</td>\n",
              "    </tr>\n",
              "  </tbody>\n",
              "</table>\n",
              "</div>\n",
              "      <button class=\"colab-df-convert\" onclick=\"convertToInteractive('df-21eb98a7-bc6b-49c8-a372-4f5817422108')\"\n",
              "              title=\"Convert this dataframe to an interactive table.\"\n",
              "              style=\"display:none;\">\n",
              "        \n",
              "  <svg xmlns=\"http://www.w3.org/2000/svg\" height=\"24px\"viewBox=\"0 0 24 24\"\n",
              "       width=\"24px\">\n",
              "    <path d=\"M0 0h24v24H0V0z\" fill=\"none\"/>\n",
              "    <path d=\"M18.56 5.44l.94 2.06.94-2.06 2.06-.94-2.06-.94-.94-2.06-.94 2.06-2.06.94zm-11 1L8.5 8.5l.94-2.06 2.06-.94-2.06-.94L8.5 2.5l-.94 2.06-2.06.94zm10 10l.94 2.06.94-2.06 2.06-.94-2.06-.94-.94-2.06-.94 2.06-2.06.94z\"/><path d=\"M17.41 7.96l-1.37-1.37c-.4-.4-.92-.59-1.43-.59-.52 0-1.04.2-1.43.59L10.3 9.45l-7.72 7.72c-.78.78-.78 2.05 0 2.83L4 21.41c.39.39.9.59 1.41.59.51 0 1.02-.2 1.41-.59l7.78-7.78 2.81-2.81c.8-.78.8-2.07 0-2.86zM5.41 20L4 18.59l7.72-7.72 1.47 1.35L5.41 20z\"/>\n",
              "  </svg>\n",
              "      </button>\n",
              "      \n",
              "  <style>\n",
              "    .colab-df-container {\n",
              "      display:flex;\n",
              "      flex-wrap:wrap;\n",
              "      gap: 12px;\n",
              "    }\n",
              "\n",
              "    .colab-df-convert {\n",
              "      background-color: #E8F0FE;\n",
              "      border: none;\n",
              "      border-radius: 50%;\n",
              "      cursor: pointer;\n",
              "      display: none;\n",
              "      fill: #1967D2;\n",
              "      height: 32px;\n",
              "      padding: 0 0 0 0;\n",
              "      width: 32px;\n",
              "    }\n",
              "\n",
              "    .colab-df-convert:hover {\n",
              "      background-color: #E2EBFA;\n",
              "      box-shadow: 0px 1px 2px rgba(60, 64, 67, 0.3), 0px 1px 3px 1px rgba(60, 64, 67, 0.15);\n",
              "      fill: #174EA6;\n",
              "    }\n",
              "\n",
              "    [theme=dark] .colab-df-convert {\n",
              "      background-color: #3B4455;\n",
              "      fill: #D2E3FC;\n",
              "    }\n",
              "\n",
              "    [theme=dark] .colab-df-convert:hover {\n",
              "      background-color: #434B5C;\n",
              "      box-shadow: 0px 1px 3px 1px rgba(0, 0, 0, 0.15);\n",
              "      filter: drop-shadow(0px 1px 2px rgba(0, 0, 0, 0.3));\n",
              "      fill: #FFFFFF;\n",
              "    }\n",
              "  </style>\n",
              "\n",
              "      <script>\n",
              "        const buttonEl =\n",
              "          document.querySelector('#df-21eb98a7-bc6b-49c8-a372-4f5817422108 button.colab-df-convert');\n",
              "        buttonEl.style.display =\n",
              "          google.colab.kernel.accessAllowed ? 'block' : 'none';\n",
              "\n",
              "        async function convertToInteractive(key) {\n",
              "          const element = document.querySelector('#df-21eb98a7-bc6b-49c8-a372-4f5817422108');\n",
              "          const dataTable =\n",
              "            await google.colab.kernel.invokeFunction('convertToInteractive',\n",
              "                                                     [key], {});\n",
              "          if (!dataTable) return;\n",
              "\n",
              "          const docLinkHtml = 'Like what you see? Visit the ' +\n",
              "            '<a target=\"_blank\" href=https://colab.research.google.com/notebooks/data_table.ipynb>data table notebook</a>'\n",
              "            + ' to learn more about interactive tables.';\n",
              "          element.innerHTML = '';\n",
              "          dataTable['output_type'] = 'display_data';\n",
              "          await google.colab.output.renderOutput(dataTable, element);\n",
              "          const docLink = document.createElement('div');\n",
              "          docLink.innerHTML = docLinkHtml;\n",
              "          element.appendChild(docLink);\n",
              "        }\n",
              "      </script>\n",
              "    </div>\n",
              "  </div>\n",
              "  "
            ]
          },
          "metadata": {},
          "execution_count": 55
        }
      ]
    },
    {
      "cell_type": "code",
      "source": [
        "# 중복되는 신분 이름 합치기\n",
        "df['standing']=df['standing'].replace('Mlle', 'Miss')\n",
        "df['standing']=df['standing'].replace('Ms', 'Miss')\n",
        "df['standing']=df['standing'].replace('Mme', 'Mrs')"
      ],
      "metadata": {
        "id": "Tl60vS8kkXcX"
      },
      "execution_count": null,
      "outputs": []
    },
    {
      "cell_type": "code",
      "source": [
        "pd.crosstab(df['standing'], df['Sex'])"
      ],
      "metadata": {
        "colab": {
          "base_uri": "https://localhost:8080/",
          "height": 519
        },
        "id": "Vq1JIlr7k26o",
        "outputId": "6bff0b35-e739-46b1-bb89-380a8bec1fd5"
      },
      "execution_count": null,
      "outputs": [
        {
          "output_type": "execute_result",
          "data": {
            "text/plain": [
              "Sex           female  male\n",
              "standing                  \n",
              "Capt               0     1\n",
              "Col                0     2\n",
              "Don                0     1\n",
              "Dr                 1     6\n",
              "Jonkheer           0     1\n",
              "Lady               1     0\n",
              "Major              0     2\n",
              "Master             0    40\n",
              "Miss             185     0\n",
              "Mr                 0   517\n",
              "Mrs              126     0\n",
              "Rev                0     6\n",
              "Sir                0     1\n",
              "the Countess       1     0"
            ],
            "text/html": [
              "\n",
              "  <div id=\"df-d591b1f7-4d83-4e27-b767-85d18b33c0bf\">\n",
              "    <div class=\"colab-df-container\">\n",
              "      <div>\n",
              "<style scoped>\n",
              "    .dataframe tbody tr th:only-of-type {\n",
              "        vertical-align: middle;\n",
              "    }\n",
              "\n",
              "    .dataframe tbody tr th {\n",
              "        vertical-align: top;\n",
              "    }\n",
              "\n",
              "    .dataframe thead th {\n",
              "        text-align: right;\n",
              "    }\n",
              "</style>\n",
              "<table border=\"1\" class=\"dataframe\">\n",
              "  <thead>\n",
              "    <tr style=\"text-align: right;\">\n",
              "      <th>Sex</th>\n",
              "      <th>female</th>\n",
              "      <th>male</th>\n",
              "    </tr>\n",
              "    <tr>\n",
              "      <th>standing</th>\n",
              "      <th></th>\n",
              "      <th></th>\n",
              "    </tr>\n",
              "  </thead>\n",
              "  <tbody>\n",
              "    <tr>\n",
              "      <th>Capt</th>\n",
              "      <td>0</td>\n",
              "      <td>1</td>\n",
              "    </tr>\n",
              "    <tr>\n",
              "      <th>Col</th>\n",
              "      <td>0</td>\n",
              "      <td>2</td>\n",
              "    </tr>\n",
              "    <tr>\n",
              "      <th>Don</th>\n",
              "      <td>0</td>\n",
              "      <td>1</td>\n",
              "    </tr>\n",
              "    <tr>\n",
              "      <th>Dr</th>\n",
              "      <td>1</td>\n",
              "      <td>6</td>\n",
              "    </tr>\n",
              "    <tr>\n",
              "      <th>Jonkheer</th>\n",
              "      <td>0</td>\n",
              "      <td>1</td>\n",
              "    </tr>\n",
              "    <tr>\n",
              "      <th>Lady</th>\n",
              "      <td>1</td>\n",
              "      <td>0</td>\n",
              "    </tr>\n",
              "    <tr>\n",
              "      <th>Major</th>\n",
              "      <td>0</td>\n",
              "      <td>2</td>\n",
              "    </tr>\n",
              "    <tr>\n",
              "      <th>Master</th>\n",
              "      <td>0</td>\n",
              "      <td>40</td>\n",
              "    </tr>\n",
              "    <tr>\n",
              "      <th>Miss</th>\n",
              "      <td>185</td>\n",
              "      <td>0</td>\n",
              "    </tr>\n",
              "    <tr>\n",
              "      <th>Mr</th>\n",
              "      <td>0</td>\n",
              "      <td>517</td>\n",
              "    </tr>\n",
              "    <tr>\n",
              "      <th>Mrs</th>\n",
              "      <td>126</td>\n",
              "      <td>0</td>\n",
              "    </tr>\n",
              "    <tr>\n",
              "      <th>Rev</th>\n",
              "      <td>0</td>\n",
              "      <td>6</td>\n",
              "    </tr>\n",
              "    <tr>\n",
              "      <th>Sir</th>\n",
              "      <td>0</td>\n",
              "      <td>1</td>\n",
              "    </tr>\n",
              "    <tr>\n",
              "      <th>the Countess</th>\n",
              "      <td>1</td>\n",
              "      <td>0</td>\n",
              "    </tr>\n",
              "  </tbody>\n",
              "</table>\n",
              "</div>\n",
              "      <button class=\"colab-df-convert\" onclick=\"convertToInteractive('df-d591b1f7-4d83-4e27-b767-85d18b33c0bf')\"\n",
              "              title=\"Convert this dataframe to an interactive table.\"\n",
              "              style=\"display:none;\">\n",
              "        \n",
              "  <svg xmlns=\"http://www.w3.org/2000/svg\" height=\"24px\"viewBox=\"0 0 24 24\"\n",
              "       width=\"24px\">\n",
              "    <path d=\"M0 0h24v24H0V0z\" fill=\"none\"/>\n",
              "    <path d=\"M18.56 5.44l.94 2.06.94-2.06 2.06-.94-2.06-.94-.94-2.06-.94 2.06-2.06.94zm-11 1L8.5 8.5l.94-2.06 2.06-.94-2.06-.94L8.5 2.5l-.94 2.06-2.06.94zm10 10l.94 2.06.94-2.06 2.06-.94-2.06-.94-.94-2.06-.94 2.06-2.06.94z\"/><path d=\"M17.41 7.96l-1.37-1.37c-.4-.4-.92-.59-1.43-.59-.52 0-1.04.2-1.43.59L10.3 9.45l-7.72 7.72c-.78.78-.78 2.05 0 2.83L4 21.41c.39.39.9.59 1.41.59.51 0 1.02-.2 1.41-.59l7.78-7.78 2.81-2.81c.8-.78.8-2.07 0-2.86zM5.41 20L4 18.59l7.72-7.72 1.47 1.35L5.41 20z\"/>\n",
              "  </svg>\n",
              "      </button>\n",
              "      \n",
              "  <style>\n",
              "    .colab-df-container {\n",
              "      display:flex;\n",
              "      flex-wrap:wrap;\n",
              "      gap: 12px;\n",
              "    }\n",
              "\n",
              "    .colab-df-convert {\n",
              "      background-color: #E8F0FE;\n",
              "      border: none;\n",
              "      border-radius: 50%;\n",
              "      cursor: pointer;\n",
              "      display: none;\n",
              "      fill: #1967D2;\n",
              "      height: 32px;\n",
              "      padding: 0 0 0 0;\n",
              "      width: 32px;\n",
              "    }\n",
              "\n",
              "    .colab-df-convert:hover {\n",
              "      background-color: #E2EBFA;\n",
              "      box-shadow: 0px 1px 2px rgba(60, 64, 67, 0.3), 0px 1px 3px 1px rgba(60, 64, 67, 0.15);\n",
              "      fill: #174EA6;\n",
              "    }\n",
              "\n",
              "    [theme=dark] .colab-df-convert {\n",
              "      background-color: #3B4455;\n",
              "      fill: #D2E3FC;\n",
              "    }\n",
              "\n",
              "    [theme=dark] .colab-df-convert:hover {\n",
              "      background-color: #434B5C;\n",
              "      box-shadow: 0px 1px 3px 1px rgba(0, 0, 0, 0.15);\n",
              "      filter: drop-shadow(0px 1px 2px rgba(0, 0, 0, 0.3));\n",
              "      fill: #FFFFFF;\n",
              "    }\n",
              "  </style>\n",
              "\n",
              "      <script>\n",
              "        const buttonEl =\n",
              "          document.querySelector('#df-d591b1f7-4d83-4e27-b767-85d18b33c0bf button.colab-df-convert');\n",
              "        buttonEl.style.display =\n",
              "          google.colab.kernel.accessAllowed ? 'block' : 'none';\n",
              "\n",
              "        async function convertToInteractive(key) {\n",
              "          const element = document.querySelector('#df-d591b1f7-4d83-4e27-b767-85d18b33c0bf');\n",
              "          const dataTable =\n",
              "            await google.colab.kernel.invokeFunction('convertToInteractive',\n",
              "                                                     [key], {});\n",
              "          if (!dataTable) return;\n",
              "\n",
              "          const docLinkHtml = 'Like what you see? Visit the ' +\n",
              "            '<a target=\"_blank\" href=https://colab.research.google.com/notebooks/data_table.ipynb>data table notebook</a>'\n",
              "            + ' to learn more about interactive tables.';\n",
              "          element.innerHTML = '';\n",
              "          dataTable['output_type'] = 'display_data';\n",
              "          await google.colab.output.renderOutput(dataTable, element);\n",
              "          const docLink = document.createElement('div');\n",
              "          docLink.innerHTML = docLinkHtml;\n",
              "          element.appendChild(docLink);\n",
              "        }\n",
              "      </script>\n",
              "    </div>\n",
              "  </div>\n",
              "  "
            ]
          },
          "metadata": {},
          "execution_count": 60
        }
      ]
    },
    {
      "cell_type": "code",
      "source": [
        "standing = df['standing'].unique()\n",
        "print(standing)\n",
        "print(len(standing))"
      ],
      "metadata": {
        "colab": {
          "base_uri": "https://localhost:8080/"
        },
        "id": "F4Y_HspulDzE",
        "outputId": "c7cc1c0c-8162-471f-8936-713096988dd2"
      },
      "execution_count": null,
      "outputs": [
        {
          "output_type": "stream",
          "name": "stdout",
          "text": [
            "['Mr' 'Mrs' 'Miss' 'Master' 'Don' 'Rev' 'Dr' 'Major' 'Lady' 'Sir' 'Col'\n",
            " 'Capt' 'the Countess' 'Jonkheer']\n",
            "14\n"
          ]
        }
      ]
    },
    {
      "cell_type": "markdown",
      "source": [
        "## 데이터 전처리\n",
        "### 결측치 채우기, 삭제\n",
        "### 데이터셋 나누기"
      ],
      "metadata": {
        "id": "9fRkmIuK3ZjF"
      }
    },
    {
      "cell_type": "code",
      "source": [
        "# 귀족 호칭 리스트\n",
        "Rare = ['Lady','the Countess','Countess','Capt', 'Master',\n",
        "        'Col','Don','Dr','Major','Rev','Sir','Jonkheer', 'Dona']\n",
        "\n",
        "for each in Rare:\n",
        "    df['standing'] = df['standing'].replace(each, 'Rare')\n",
        "\n",
        "df['standing'].unique()"
      ],
      "metadata": {
        "colab": {
          "base_uri": "https://localhost:8080/"
        },
        "id": "RJuKafiVlJ3X",
        "outputId": "7b396b5d-9b63-414d-9fe5-8ca810fe59b4"
      },
      "execution_count": null,
      "outputs": [
        {
          "output_type": "execute_result",
          "data": {
            "text/plain": [
              "array(['Mr', 'Mrs', 'Miss', 'Rare'], dtype=object)"
            ]
          },
          "metadata": {},
          "execution_count": 62
        }
      ]
    },
    {
      "cell_type": "code",
      "source": [
        "# 생존율 비교\n",
        "# Miss, Mr, Mrs, Rare 4개의 생존율 비교\n",
        "df[['standing', 'Survived']].groupby(['standing'], as_index=False).mean()"
      ],
      "metadata": {
        "colab": {
          "base_uri": "https://localhost:8080/",
          "height": 175
        },
        "id": "_17b-vc2l8fN",
        "outputId": "20574746-58f6-4267-b6e7-996e45bc58d6"
      },
      "execution_count": null,
      "outputs": [
        {
          "output_type": "execute_result",
          "data": {
            "text/plain": [
              "  standing  Survived\n",
              "0     Miss  0.702703\n",
              "1       Mr  0.156673\n",
              "2      Mrs  0.793651\n",
              "3     Rare  0.492063"
            ],
            "text/html": [
              "\n",
              "  <div id=\"df-1e46d83d-44c8-4e77-ac05-943ee6d8bbbe\">\n",
              "    <div class=\"colab-df-container\">\n",
              "      <div>\n",
              "<style scoped>\n",
              "    .dataframe tbody tr th:only-of-type {\n",
              "        vertical-align: middle;\n",
              "    }\n",
              "\n",
              "    .dataframe tbody tr th {\n",
              "        vertical-align: top;\n",
              "    }\n",
              "\n",
              "    .dataframe thead th {\n",
              "        text-align: right;\n",
              "    }\n",
              "</style>\n",
              "<table border=\"1\" class=\"dataframe\">\n",
              "  <thead>\n",
              "    <tr style=\"text-align: right;\">\n",
              "      <th></th>\n",
              "      <th>standing</th>\n",
              "      <th>Survived</th>\n",
              "    </tr>\n",
              "  </thead>\n",
              "  <tbody>\n",
              "    <tr>\n",
              "      <th>0</th>\n",
              "      <td>Miss</td>\n",
              "      <td>0.702703</td>\n",
              "    </tr>\n",
              "    <tr>\n",
              "      <th>1</th>\n",
              "      <td>Mr</td>\n",
              "      <td>0.156673</td>\n",
              "    </tr>\n",
              "    <tr>\n",
              "      <th>2</th>\n",
              "      <td>Mrs</td>\n",
              "      <td>0.793651</td>\n",
              "    </tr>\n",
              "    <tr>\n",
              "      <th>3</th>\n",
              "      <td>Rare</td>\n",
              "      <td>0.492063</td>\n",
              "    </tr>\n",
              "  </tbody>\n",
              "</table>\n",
              "</div>\n",
              "      <button class=\"colab-df-convert\" onclick=\"convertToInteractive('df-1e46d83d-44c8-4e77-ac05-943ee6d8bbbe')\"\n",
              "              title=\"Convert this dataframe to an interactive table.\"\n",
              "              style=\"display:none;\">\n",
              "        \n",
              "  <svg xmlns=\"http://www.w3.org/2000/svg\" height=\"24px\"viewBox=\"0 0 24 24\"\n",
              "       width=\"24px\">\n",
              "    <path d=\"M0 0h24v24H0V0z\" fill=\"none\"/>\n",
              "    <path d=\"M18.56 5.44l.94 2.06.94-2.06 2.06-.94-2.06-.94-.94-2.06-.94 2.06-2.06.94zm-11 1L8.5 8.5l.94-2.06 2.06-.94-2.06-.94L8.5 2.5l-.94 2.06-2.06.94zm10 10l.94 2.06.94-2.06 2.06-.94-2.06-.94-.94-2.06-.94 2.06-2.06.94z\"/><path d=\"M17.41 7.96l-1.37-1.37c-.4-.4-.92-.59-1.43-.59-.52 0-1.04.2-1.43.59L10.3 9.45l-7.72 7.72c-.78.78-.78 2.05 0 2.83L4 21.41c.39.39.9.59 1.41.59.51 0 1.02-.2 1.41-.59l7.78-7.78 2.81-2.81c.8-.78.8-2.07 0-2.86zM5.41 20L4 18.59l7.72-7.72 1.47 1.35L5.41 20z\"/>\n",
              "  </svg>\n",
              "      </button>\n",
              "      \n",
              "  <style>\n",
              "    .colab-df-container {\n",
              "      display:flex;\n",
              "      flex-wrap:wrap;\n",
              "      gap: 12px;\n",
              "    }\n",
              "\n",
              "    .colab-df-convert {\n",
              "      background-color: #E8F0FE;\n",
              "      border: none;\n",
              "      border-radius: 50%;\n",
              "      cursor: pointer;\n",
              "      display: none;\n",
              "      fill: #1967D2;\n",
              "      height: 32px;\n",
              "      padding: 0 0 0 0;\n",
              "      width: 32px;\n",
              "    }\n",
              "\n",
              "    .colab-df-convert:hover {\n",
              "      background-color: #E2EBFA;\n",
              "      box-shadow: 0px 1px 2px rgba(60, 64, 67, 0.3), 0px 1px 3px 1px rgba(60, 64, 67, 0.15);\n",
              "      fill: #174EA6;\n",
              "    }\n",
              "\n",
              "    [theme=dark] .colab-df-convert {\n",
              "      background-color: #3B4455;\n",
              "      fill: #D2E3FC;\n",
              "    }\n",
              "\n",
              "    [theme=dark] .colab-df-convert:hover {\n",
              "      background-color: #434B5C;\n",
              "      box-shadow: 0px 1px 3px 1px rgba(0, 0, 0, 0.15);\n",
              "      filter: drop-shadow(0px 1px 2px rgba(0, 0, 0, 0.3));\n",
              "      fill: #FFFFFF;\n",
              "    }\n",
              "  </style>\n",
              "\n",
              "      <script>\n",
              "        const buttonEl =\n",
              "          document.querySelector('#df-1e46d83d-44c8-4e77-ac05-943ee6d8bbbe button.colab-df-convert');\n",
              "        buttonEl.style.display =\n",
              "          google.colab.kernel.accessAllowed ? 'block' : 'none';\n",
              "\n",
              "        async function convertToInteractive(key) {\n",
              "          const element = document.querySelector('#df-1e46d83d-44c8-4e77-ac05-943ee6d8bbbe');\n",
              "          const dataTable =\n",
              "            await google.colab.kernel.invokeFunction('convertToInteractive',\n",
              "                                                     [key], {});\n",
              "          if (!dataTable) return;\n",
              "\n",
              "          const docLinkHtml = 'Like what you see? Visit the ' +\n",
              "            '<a target=\"_blank\" href=https://colab.research.google.com/notebooks/data_table.ipynb>data table notebook</a>'\n",
              "            + ' to learn more about interactive tables.';\n",
              "          element.innerHTML = '';\n",
              "          dataTable['output_type'] = 'display_data';\n",
              "          await google.colab.output.renderOutput(dataTable, element);\n",
              "          const docLink = document.createElement('div');\n",
              "          docLink.innerHTML = docLinkHtml;\n",
              "          element.appendChild(docLink);\n",
              "        }\n",
              "      </script>\n",
              "    </div>\n",
              "  </div>\n",
              "  "
            ]
          },
          "metadata": {},
          "execution_count": 66
        }
      ]
    },
    {
      "cell_type": "code",
      "source": [
        "df.info()"
      ],
      "metadata": {
        "colab": {
          "base_uri": "https://localhost:8080/"
        },
        "id": "rd04BVh-m5m6",
        "outputId": "fdb7d0db-ccf8-454b-fb68-ebc682cc955a"
      },
      "execution_count": null,
      "outputs": [
        {
          "output_type": "stream",
          "name": "stdout",
          "text": [
            "<class 'pandas.core.frame.DataFrame'>\n",
            "RangeIndex: 891 entries, 0 to 890\n",
            "Data columns (total 14 columns):\n",
            " #   Column       Non-Null Count  Dtype   \n",
            "---  ------       --------------  -----   \n",
            " 0   PassengerId  891 non-null    int64   \n",
            " 1   Survived     891 non-null    int64   \n",
            " 2   Pclass       891 non-null    int64   \n",
            " 3   Name         891 non-null    object  \n",
            " 4   Sex          891 non-null    object  \n",
            " 5   Age          714 non-null    float64 \n",
            " 6   SibSp        891 non-null    int64   \n",
            " 7   Parch        891 non-null    int64   \n",
            " 8   Ticket       891 non-null    object  \n",
            " 9   Fare         891 non-null    float64 \n",
            " 10  Cabin        204 non-null    object  \n",
            " 11  Embarked     889 non-null    object  \n",
            " 12  Age_cat      714 non-null    category\n",
            " 13  standing     891 non-null    object  \n",
            "dtypes: category(1), float64(2), int64(5), object(6)\n",
            "memory usage: 91.7+ KB\n"
          ]
        }
      ]
    },
    {
      "cell_type": "code",
      "source": [
        "# 성별 데이터를 숫자로 변경\n",
        "tmp = []\n",
        "for each in df['Sex']:\n",
        "    if each=='female':\n",
        "        tmp.append(0)\n",
        "    elif each=='male':\n",
        "        tmp.append(1) \n",
        "    else:\n",
        "        tmp.appned(np.nan)      "
      ],
      "metadata": {
        "id": "i206Q2VFnljQ"
      },
      "execution_count": null,
      "outputs": []
    },
    {
      "cell_type": "code",
      "source": [
        "df['Sex'] = tmp\n",
        "df.head()"
      ],
      "metadata": {
        "colab": {
          "base_uri": "https://localhost:8080/",
          "height": 206
        },
        "id": "hA-a9rOXoDp2",
        "outputId": "d204b541-b541-419a-c69e-1527a8dcb05c"
      },
      "execution_count": null,
      "outputs": [
        {
          "output_type": "execute_result",
          "data": {
            "text/plain": [
              "   PassengerId  Survived  Pclass  \\\n",
              "0            1       0.0     3.0   \n",
              "1            2       1.0     1.0   \n",
              "2            3       1.0     3.0   \n",
              "3            4       1.0     1.0   \n",
              "4            5       0.0     3.0   \n",
              "\n",
              "                                                Name  Sex   Age  SibSp  Parch  \\\n",
              "0                            Braund, Mr. Owen Harris    1  22.0      1      0   \n",
              "1  Cumings, Mrs. John Bradley (Florence Briggs Th...    0  38.0      1      0   \n",
              "2                             Heikkinen, Miss. Laina    0  26.0      0      0   \n",
              "3       Futrelle, Mrs. Jacques Heath (Lily May Peel)    0  35.0      1      0   \n",
              "4                           Allen, Mr. William Henry    1  35.0      0      0   \n",
              "\n",
              "             Ticket     Fare Cabin Embarked Age_cat standing  \n",
              "0         A/5 21171   7.2500   NaN        S   young       Mr  \n",
              "1          PC 17599  71.2833   C85        C   adult      Mrs  \n",
              "2  STON/O2. 3101282   7.9250   NaN        S   young     Miss  \n",
              "3            113803  53.1000  C123        S   adult      Mrs  \n",
              "4            373450   8.0500   NaN        S   adult       Mr  "
            ],
            "text/html": [
              "\n",
              "  <div id=\"df-15b65c99-3ee4-4a22-917f-1eaf3fa4f88a\">\n",
              "    <div class=\"colab-df-container\">\n",
              "      <div>\n",
              "<style scoped>\n",
              "    .dataframe tbody tr th:only-of-type {\n",
              "        vertical-align: middle;\n",
              "    }\n",
              "\n",
              "    .dataframe tbody tr th {\n",
              "        vertical-align: top;\n",
              "    }\n",
              "\n",
              "    .dataframe thead th {\n",
              "        text-align: right;\n",
              "    }\n",
              "</style>\n",
              "<table border=\"1\" class=\"dataframe\">\n",
              "  <thead>\n",
              "    <tr style=\"text-align: right;\">\n",
              "      <th></th>\n",
              "      <th>PassengerId</th>\n",
              "      <th>Survived</th>\n",
              "      <th>Pclass</th>\n",
              "      <th>Name</th>\n",
              "      <th>Sex</th>\n",
              "      <th>Age</th>\n",
              "      <th>SibSp</th>\n",
              "      <th>Parch</th>\n",
              "      <th>Ticket</th>\n",
              "      <th>Fare</th>\n",
              "      <th>Cabin</th>\n",
              "      <th>Embarked</th>\n",
              "      <th>Age_cat</th>\n",
              "      <th>standing</th>\n",
              "    </tr>\n",
              "  </thead>\n",
              "  <tbody>\n",
              "    <tr>\n",
              "      <th>0</th>\n",
              "      <td>1</td>\n",
              "      <td>0.0</td>\n",
              "      <td>3.0</td>\n",
              "      <td>Braund, Mr. Owen Harris</td>\n",
              "      <td>1</td>\n",
              "      <td>22.0</td>\n",
              "      <td>1</td>\n",
              "      <td>0</td>\n",
              "      <td>A/5 21171</td>\n",
              "      <td>7.2500</td>\n",
              "      <td>NaN</td>\n",
              "      <td>S</td>\n",
              "      <td>young</td>\n",
              "      <td>Mr</td>\n",
              "    </tr>\n",
              "    <tr>\n",
              "      <th>1</th>\n",
              "      <td>2</td>\n",
              "      <td>1.0</td>\n",
              "      <td>1.0</td>\n",
              "      <td>Cumings, Mrs. John Bradley (Florence Briggs Th...</td>\n",
              "      <td>0</td>\n",
              "      <td>38.0</td>\n",
              "      <td>1</td>\n",
              "      <td>0</td>\n",
              "      <td>PC 17599</td>\n",
              "      <td>71.2833</td>\n",
              "      <td>C85</td>\n",
              "      <td>C</td>\n",
              "      <td>adult</td>\n",
              "      <td>Mrs</td>\n",
              "    </tr>\n",
              "    <tr>\n",
              "      <th>2</th>\n",
              "      <td>3</td>\n",
              "      <td>1.0</td>\n",
              "      <td>3.0</td>\n",
              "      <td>Heikkinen, Miss. Laina</td>\n",
              "      <td>0</td>\n",
              "      <td>26.0</td>\n",
              "      <td>0</td>\n",
              "      <td>0</td>\n",
              "      <td>STON/O2. 3101282</td>\n",
              "      <td>7.9250</td>\n",
              "      <td>NaN</td>\n",
              "      <td>S</td>\n",
              "      <td>young</td>\n",
              "      <td>Miss</td>\n",
              "    </tr>\n",
              "    <tr>\n",
              "      <th>3</th>\n",
              "      <td>4</td>\n",
              "      <td>1.0</td>\n",
              "      <td>1.0</td>\n",
              "      <td>Futrelle, Mrs. Jacques Heath (Lily May Peel)</td>\n",
              "      <td>0</td>\n",
              "      <td>35.0</td>\n",
              "      <td>1</td>\n",
              "      <td>0</td>\n",
              "      <td>113803</td>\n",
              "      <td>53.1000</td>\n",
              "      <td>C123</td>\n",
              "      <td>S</td>\n",
              "      <td>adult</td>\n",
              "      <td>Mrs</td>\n",
              "    </tr>\n",
              "    <tr>\n",
              "      <th>4</th>\n",
              "      <td>5</td>\n",
              "      <td>0.0</td>\n",
              "      <td>3.0</td>\n",
              "      <td>Allen, Mr. William Henry</td>\n",
              "      <td>1</td>\n",
              "      <td>35.0</td>\n",
              "      <td>0</td>\n",
              "      <td>0</td>\n",
              "      <td>373450</td>\n",
              "      <td>8.0500</td>\n",
              "      <td>NaN</td>\n",
              "      <td>S</td>\n",
              "      <td>adult</td>\n",
              "      <td>Mr</td>\n",
              "    </tr>\n",
              "  </tbody>\n",
              "</table>\n",
              "</div>\n",
              "      <button class=\"colab-df-convert\" onclick=\"convertToInteractive('df-15b65c99-3ee4-4a22-917f-1eaf3fa4f88a')\"\n",
              "              title=\"Convert this dataframe to an interactive table.\"\n",
              "              style=\"display:none;\">\n",
              "        \n",
              "  <svg xmlns=\"http://www.w3.org/2000/svg\" height=\"24px\"viewBox=\"0 0 24 24\"\n",
              "       width=\"24px\">\n",
              "    <path d=\"M0 0h24v24H0V0z\" fill=\"none\"/>\n",
              "    <path d=\"M18.56 5.44l.94 2.06.94-2.06 2.06-.94-2.06-.94-.94-2.06-.94 2.06-2.06.94zm-11 1L8.5 8.5l.94-2.06 2.06-.94-2.06-.94L8.5 2.5l-.94 2.06-2.06.94zm10 10l.94 2.06.94-2.06 2.06-.94-2.06-.94-.94-2.06-.94 2.06-2.06.94z\"/><path d=\"M17.41 7.96l-1.37-1.37c-.4-.4-.92-.59-1.43-.59-.52 0-1.04.2-1.43.59L10.3 9.45l-7.72 7.72c-.78.78-.78 2.05 0 2.83L4 21.41c.39.39.9.59 1.41.59.51 0 1.02-.2 1.41-.59l7.78-7.78 2.81-2.81c.8-.78.8-2.07 0-2.86zM5.41 20L4 18.59l7.72-7.72 1.47 1.35L5.41 20z\"/>\n",
              "  </svg>\n",
              "      </button>\n",
              "      \n",
              "  <style>\n",
              "    .colab-df-container {\n",
              "      display:flex;\n",
              "      flex-wrap:wrap;\n",
              "      gap: 12px;\n",
              "    }\n",
              "\n",
              "    .colab-df-convert {\n",
              "      background-color: #E8F0FE;\n",
              "      border: none;\n",
              "      border-radius: 50%;\n",
              "      cursor: pointer;\n",
              "      display: none;\n",
              "      fill: #1967D2;\n",
              "      height: 32px;\n",
              "      padding: 0 0 0 0;\n",
              "      width: 32px;\n",
              "    }\n",
              "\n",
              "    .colab-df-convert:hover {\n",
              "      background-color: #E2EBFA;\n",
              "      box-shadow: 0px 1px 2px rgba(60, 64, 67, 0.3), 0px 1px 3px 1px rgba(60, 64, 67, 0.15);\n",
              "      fill: #174EA6;\n",
              "    }\n",
              "\n",
              "    [theme=dark] .colab-df-convert {\n",
              "      background-color: #3B4455;\n",
              "      fill: #D2E3FC;\n",
              "    }\n",
              "\n",
              "    [theme=dark] .colab-df-convert:hover {\n",
              "      background-color: #434B5C;\n",
              "      box-shadow: 0px 1px 3px 1px rgba(0, 0, 0, 0.15);\n",
              "      filter: drop-shadow(0px 1px 2px rgba(0, 0, 0, 0.3));\n",
              "      fill: #FFFFFF;\n",
              "    }\n",
              "  </style>\n",
              "\n",
              "      <script>\n",
              "        const buttonEl =\n",
              "          document.querySelector('#df-15b65c99-3ee4-4a22-917f-1eaf3fa4f88a button.colab-df-convert');\n",
              "        buttonEl.style.display =\n",
              "          google.colab.kernel.accessAllowed ? 'block' : 'none';\n",
              "\n",
              "        async function convertToInteractive(key) {\n",
              "          const element = document.querySelector('#df-15b65c99-3ee4-4a22-917f-1eaf3fa4f88a');\n",
              "          const dataTable =\n",
              "            await google.colab.kernel.invokeFunction('convertToInteractive',\n",
              "                                                     [key], {});\n",
              "          if (!dataTable) return;\n",
              "\n",
              "          const docLinkHtml = 'Like what you see? Visit the ' +\n",
              "            '<a target=\"_blank\" href=https://colab.research.google.com/notebooks/data_table.ipynb>data table notebook</a>'\n",
              "            + ' to learn more about interactive tables.';\n",
              "          element.innerHTML = '';\n",
              "          dataTable['output_type'] = 'display_data';\n",
              "          await google.colab.output.renderOutput(dataTable, element);\n",
              "          const docLink = document.createElement('div');\n",
              "          docLink.innerHTML = docLinkHtml;\n",
              "          element.appendChild(docLink);\n",
              "        }\n",
              "      </script>\n",
              "    </div>\n",
              "  </div>\n",
              "  "
            ]
          },
          "metadata": {},
          "execution_count": 71
        }
      ]
    },
    {
      "cell_type": "code",
      "source": [
        "df['Survived'] = df['Survived'].astype('float16')\n",
        "df['Pclass'] = df['Pclass'].astype('float16')\n",
        "df['Sex'] = df['Sex'].astype('float16')\n",
        "df['SibSp'] = df['SibSp'].astype('float16')\n",
        "df['Parch'] = df['Parch'].astype('float16')\n",
        "df['Fare'] = df['Fare'].astype('float16')\n",
        "df.head()"
      ],
      "metadata": {
        "colab": {
          "base_uri": "https://localhost:8080/",
          "height": 206
        },
        "id": "X4AcDWHmm6AZ",
        "outputId": "4a5b5c0a-611c-4562-b68f-21f0a61b18ac"
      },
      "execution_count": null,
      "outputs": [
        {
          "output_type": "execute_result",
          "data": {
            "text/plain": [
              "   PassengerId  Survived  Pclass  \\\n",
              "0            1       0.0     3.0   \n",
              "1            2       1.0     1.0   \n",
              "2            3       1.0     3.0   \n",
              "3            4       1.0     1.0   \n",
              "4            5       0.0     3.0   \n",
              "\n",
              "                                                Name  Sex   Age  SibSp  Parch  \\\n",
              "0                            Braund, Mr. Owen Harris  1.0  22.0    1.0    0.0   \n",
              "1  Cumings, Mrs. John Bradley (Florence Briggs Th...  0.0  38.0    1.0    0.0   \n",
              "2                             Heikkinen, Miss. Laina  0.0  26.0    0.0    0.0   \n",
              "3       Futrelle, Mrs. Jacques Heath (Lily May Peel)  0.0  35.0    1.0    0.0   \n",
              "4                           Allen, Mr. William Henry  1.0  35.0    0.0    0.0   \n",
              "\n",
              "             Ticket       Fare Cabin Embarked Age_cat standing  \n",
              "0         A/5 21171   7.250000   NaN        S   young       Mr  \n",
              "1          PC 17599  71.312500   C85        C   adult      Mrs  \n",
              "2  STON/O2. 3101282   7.925781   NaN        S   young     Miss  \n",
              "3            113803  53.093750  C123        S   adult      Mrs  \n",
              "4            373450   8.046875   NaN        S   adult       Mr  "
            ],
            "text/html": [
              "\n",
              "  <div id=\"df-103b33f9-ef40-4300-a203-9ea2ca2207d4\">\n",
              "    <div class=\"colab-df-container\">\n",
              "      <div>\n",
              "<style scoped>\n",
              "    .dataframe tbody tr th:only-of-type {\n",
              "        vertical-align: middle;\n",
              "    }\n",
              "\n",
              "    .dataframe tbody tr th {\n",
              "        vertical-align: top;\n",
              "    }\n",
              "\n",
              "    .dataframe thead th {\n",
              "        text-align: right;\n",
              "    }\n",
              "</style>\n",
              "<table border=\"1\" class=\"dataframe\">\n",
              "  <thead>\n",
              "    <tr style=\"text-align: right;\">\n",
              "      <th></th>\n",
              "      <th>PassengerId</th>\n",
              "      <th>Survived</th>\n",
              "      <th>Pclass</th>\n",
              "      <th>Name</th>\n",
              "      <th>Sex</th>\n",
              "      <th>Age</th>\n",
              "      <th>SibSp</th>\n",
              "      <th>Parch</th>\n",
              "      <th>Ticket</th>\n",
              "      <th>Fare</th>\n",
              "      <th>Cabin</th>\n",
              "      <th>Embarked</th>\n",
              "      <th>Age_cat</th>\n",
              "      <th>standing</th>\n",
              "    </tr>\n",
              "  </thead>\n",
              "  <tbody>\n",
              "    <tr>\n",
              "      <th>0</th>\n",
              "      <td>1</td>\n",
              "      <td>0.0</td>\n",
              "      <td>3.0</td>\n",
              "      <td>Braund, Mr. Owen Harris</td>\n",
              "      <td>1.0</td>\n",
              "      <td>22.0</td>\n",
              "      <td>1.0</td>\n",
              "      <td>0.0</td>\n",
              "      <td>A/5 21171</td>\n",
              "      <td>7.250000</td>\n",
              "      <td>NaN</td>\n",
              "      <td>S</td>\n",
              "      <td>young</td>\n",
              "      <td>Mr</td>\n",
              "    </tr>\n",
              "    <tr>\n",
              "      <th>1</th>\n",
              "      <td>2</td>\n",
              "      <td>1.0</td>\n",
              "      <td>1.0</td>\n",
              "      <td>Cumings, Mrs. John Bradley (Florence Briggs Th...</td>\n",
              "      <td>0.0</td>\n",
              "      <td>38.0</td>\n",
              "      <td>1.0</td>\n",
              "      <td>0.0</td>\n",
              "      <td>PC 17599</td>\n",
              "      <td>71.312500</td>\n",
              "      <td>C85</td>\n",
              "      <td>C</td>\n",
              "      <td>adult</td>\n",
              "      <td>Mrs</td>\n",
              "    </tr>\n",
              "    <tr>\n",
              "      <th>2</th>\n",
              "      <td>3</td>\n",
              "      <td>1.0</td>\n",
              "      <td>3.0</td>\n",
              "      <td>Heikkinen, Miss. Laina</td>\n",
              "      <td>0.0</td>\n",
              "      <td>26.0</td>\n",
              "      <td>0.0</td>\n",
              "      <td>0.0</td>\n",
              "      <td>STON/O2. 3101282</td>\n",
              "      <td>7.925781</td>\n",
              "      <td>NaN</td>\n",
              "      <td>S</td>\n",
              "      <td>young</td>\n",
              "      <td>Miss</td>\n",
              "    </tr>\n",
              "    <tr>\n",
              "      <th>3</th>\n",
              "      <td>4</td>\n",
              "      <td>1.0</td>\n",
              "      <td>1.0</td>\n",
              "      <td>Futrelle, Mrs. Jacques Heath (Lily May Peel)</td>\n",
              "      <td>0.0</td>\n",
              "      <td>35.0</td>\n",
              "      <td>1.0</td>\n",
              "      <td>0.0</td>\n",
              "      <td>113803</td>\n",
              "      <td>53.093750</td>\n",
              "      <td>C123</td>\n",
              "      <td>S</td>\n",
              "      <td>adult</td>\n",
              "      <td>Mrs</td>\n",
              "    </tr>\n",
              "    <tr>\n",
              "      <th>4</th>\n",
              "      <td>5</td>\n",
              "      <td>0.0</td>\n",
              "      <td>3.0</td>\n",
              "      <td>Allen, Mr. William Henry</td>\n",
              "      <td>1.0</td>\n",
              "      <td>35.0</td>\n",
              "      <td>0.0</td>\n",
              "      <td>0.0</td>\n",
              "      <td>373450</td>\n",
              "      <td>8.046875</td>\n",
              "      <td>NaN</td>\n",
              "      <td>S</td>\n",
              "      <td>adult</td>\n",
              "      <td>Mr</td>\n",
              "    </tr>\n",
              "  </tbody>\n",
              "</table>\n",
              "</div>\n",
              "      <button class=\"colab-df-convert\" onclick=\"convertToInteractive('df-103b33f9-ef40-4300-a203-9ea2ca2207d4')\"\n",
              "              title=\"Convert this dataframe to an interactive table.\"\n",
              "              style=\"display:none;\">\n",
              "        \n",
              "  <svg xmlns=\"http://www.w3.org/2000/svg\" height=\"24px\"viewBox=\"0 0 24 24\"\n",
              "       width=\"24px\">\n",
              "    <path d=\"M0 0h24v24H0V0z\" fill=\"none\"/>\n",
              "    <path d=\"M18.56 5.44l.94 2.06.94-2.06 2.06-.94-2.06-.94-.94-2.06-.94 2.06-2.06.94zm-11 1L8.5 8.5l.94-2.06 2.06-.94-2.06-.94L8.5 2.5l-.94 2.06-2.06.94zm10 10l.94 2.06.94-2.06 2.06-.94-2.06-.94-.94-2.06-.94 2.06-2.06.94z\"/><path d=\"M17.41 7.96l-1.37-1.37c-.4-.4-.92-.59-1.43-.59-.52 0-1.04.2-1.43.59L10.3 9.45l-7.72 7.72c-.78.78-.78 2.05 0 2.83L4 21.41c.39.39.9.59 1.41.59.51 0 1.02-.2 1.41-.59l7.78-7.78 2.81-2.81c.8-.78.8-2.07 0-2.86zM5.41 20L4 18.59l7.72-7.72 1.47 1.35L5.41 20z\"/>\n",
              "  </svg>\n",
              "      </button>\n",
              "      \n",
              "  <style>\n",
              "    .colab-df-container {\n",
              "      display:flex;\n",
              "      flex-wrap:wrap;\n",
              "      gap: 12px;\n",
              "    }\n",
              "\n",
              "    .colab-df-convert {\n",
              "      background-color: #E8F0FE;\n",
              "      border: none;\n",
              "      border-radius: 50%;\n",
              "      cursor: pointer;\n",
              "      display: none;\n",
              "      fill: #1967D2;\n",
              "      height: 32px;\n",
              "      padding: 0 0 0 0;\n",
              "      width: 32px;\n",
              "    }\n",
              "\n",
              "    .colab-df-convert:hover {\n",
              "      background-color: #E2EBFA;\n",
              "      box-shadow: 0px 1px 2px rgba(60, 64, 67, 0.3), 0px 1px 3px 1px rgba(60, 64, 67, 0.15);\n",
              "      fill: #174EA6;\n",
              "    }\n",
              "\n",
              "    [theme=dark] .colab-df-convert {\n",
              "      background-color: #3B4455;\n",
              "      fill: #D2E3FC;\n",
              "    }\n",
              "\n",
              "    [theme=dark] .colab-df-convert:hover {\n",
              "      background-color: #434B5C;\n",
              "      box-shadow: 0px 1px 3px 1px rgba(0, 0, 0, 0.15);\n",
              "      filter: drop-shadow(0px 1px 2px rgba(0, 0, 0, 0.3));\n",
              "      fill: #FFFFFF;\n",
              "    }\n",
              "  </style>\n",
              "\n",
              "      <script>\n",
              "        const buttonEl =\n",
              "          document.querySelector('#df-103b33f9-ef40-4300-a203-9ea2ca2207d4 button.colab-df-convert');\n",
              "        buttonEl.style.display =\n",
              "          google.colab.kernel.accessAllowed ? 'block' : 'none';\n",
              "\n",
              "        async function convertToInteractive(key) {\n",
              "          const element = document.querySelector('#df-103b33f9-ef40-4300-a203-9ea2ca2207d4');\n",
              "          const dataTable =\n",
              "            await google.colab.kernel.invokeFunction('convertToInteractive',\n",
              "                                                     [key], {});\n",
              "          if (!dataTable) return;\n",
              "\n",
              "          const docLinkHtml = 'Like what you see? Visit the ' +\n",
              "            '<a target=\"_blank\" href=https://colab.research.google.com/notebooks/data_table.ipynb>data table notebook</a>'\n",
              "            + ' to learn more about interactive tables.';\n",
              "          element.innerHTML = '';\n",
              "          dataTable['output_type'] = 'display_data';\n",
              "          await google.colab.output.renderOutput(dataTable, element);\n",
              "          const docLink = document.createElement('div');\n",
              "          docLink.innerHTML = docLinkHtml;\n",
              "          element.appendChild(docLink);\n",
              "        }\n",
              "      </script>\n",
              "    </div>\n",
              "  </div>\n",
              "  "
            ]
          },
          "metadata": {},
          "execution_count": 72
        }
      ]
    },
    {
      "cell_type": "code",
      "source": [
        "df.info()"
      ],
      "metadata": {
        "colab": {
          "base_uri": "https://localhost:8080/"
        },
        "id": "GcfXBw6Lm6DW",
        "outputId": "37c40384-abd5-4e28-d670-77255ca22d15"
      },
      "execution_count": null,
      "outputs": [
        {
          "output_type": "stream",
          "name": "stdout",
          "text": [
            "<class 'pandas.core.frame.DataFrame'>\n",
            "RangeIndex: 891 entries, 0 to 890\n",
            "Data columns (total 14 columns):\n",
            " #   Column       Non-Null Count  Dtype   \n",
            "---  ------       --------------  -----   \n",
            " 0   PassengerId  891 non-null    int64   \n",
            " 1   Survived     891 non-null    float16 \n",
            " 2   Pclass       891 non-null    float16 \n",
            " 3   Name         891 non-null    object  \n",
            " 4   Sex          891 non-null    float16 \n",
            " 5   Age          714 non-null    float64 \n",
            " 6   SibSp        891 non-null    float16 \n",
            " 7   Parch        891 non-null    float16 \n",
            " 8   Ticket       891 non-null    object  \n",
            " 9   Fare         891 non-null    float16 \n",
            " 10  Cabin        204 non-null    object  \n",
            " 11  Embarked     889 non-null    object  \n",
            " 12  Age_cat      714 non-null    category\n",
            " 13  standing     891 non-null    object  \n",
            "dtypes: category(1), float16(6), float64(1), int64(1), object(5)\n",
            "memory usage: 60.4+ KB\n"
          ]
        }
      ]
    },
    {
      "cell_type": "code",
      "source": [
        "# 나이에 대한 결측치 채우기\n",
        "df['Age'] = df['Age'].fillna(df['Age'].mean())"
      ],
      "metadata": {
        "id": "rHbDrXwE2H-h"
      },
      "execution_count": null,
      "outputs": []
    },
    {
      "cell_type": "code",
      "source": [
        "df['Embarked'].mode()[0]"
      ],
      "metadata": {
        "colab": {
          "base_uri": "https://localhost:8080/",
          "height": 36
        },
        "id": "t1ZroLdmuba0",
        "outputId": "7465ba04-c735-4324-dbe8-1db2f7683f6d"
      },
      "execution_count": null,
      "outputs": [
        {
          "output_type": "execute_result",
          "data": {
            "text/plain": [
              "'S'"
            ],
            "application/vnd.google.colaboratory.intrinsic+json": {
              "type": "string"
            }
          },
          "metadata": {},
          "execution_count": 83
        }
      ]
    },
    {
      "cell_type": "code",
      "source": [
        "# 탑승했던 항구에 대한 결측치 채우기\n",
        "# 최빈값으로 결측치 채우기\n",
        "df['Embarked'] = df['Embarked'].fillna(df['Embarked'].mode()[0])"
      ],
      "metadata": {
        "id": "lYMFYy4PtyPi"
      },
      "execution_count": null,
      "outputs": []
    },
    {
      "cell_type": "code",
      "source": [
        "# 나중에 scikit-learn의 simpleImputer를 활용하여 결측치 채우기 연습\n"
      ],
      "metadata": {
        "id": "6vYW014quprt"
      },
      "execution_count": null,
      "outputs": []
    },
    {
      "cell_type": "code",
      "source": [
        "df.info()"
      ],
      "metadata": {
        "colab": {
          "base_uri": "https://localhost:8080/"
        },
        "id": "C4imw7uCti7s",
        "outputId": "cf6d0796-32ee-4eb7-f499-6c7977e4f52d"
      },
      "execution_count": null,
      "outputs": [
        {
          "output_type": "stream",
          "name": "stdout",
          "text": [
            "<class 'pandas.core.frame.DataFrame'>\n",
            "RangeIndex: 891 entries, 0 to 890\n",
            "Data columns (total 14 columns):\n",
            " #   Column       Non-Null Count  Dtype   \n",
            "---  ------       --------------  -----   \n",
            " 0   PassengerId  891 non-null    int64   \n",
            " 1   Survived     891 non-null    float16 \n",
            " 2   Pclass       891 non-null    float16 \n",
            " 3   Name         891 non-null    object  \n",
            " 4   Sex          891 non-null    float16 \n",
            " 5   Age          891 non-null    float64 \n",
            " 6   SibSp        891 non-null    float16 \n",
            " 7   Parch        891 non-null    float16 \n",
            " 8   Ticket       891 non-null    object  \n",
            " 9   Fare         891 non-null    float16 \n",
            " 10  Cabin        204 non-null    object  \n",
            " 11  Embarked     891 non-null    object  \n",
            " 12  Age_cat      714 non-null    category\n",
            " 13  standing     891 non-null    object  \n",
            "dtypes: category(1), float16(6), float64(1), int64(1), object(5)\n",
            "memory usage: 60.4+ KB\n"
          ]
        }
      ]
    },
    {
      "cell_type": "markdown",
      "source": [
        "## 모델 생성하고 학습하고, 평가하기\n",
        "### 기본적인 모델들만 사용해보고, "
      ],
      "metadata": {
        "id": "rrmh257s3sHu"
      }
    },
    {
      "cell_type": "code",
      "source": [
        "# 학습시에 몇등실에 탑승했는지, 성별이 무엇인지, 나이가 어떻게 되는지, 가족관계, 요금\n",
        "# 생존자 예측을 할 수 있도록 모델 학습\n",
        "train_choice = df[['Pclass','Sex','Age','SibSp','Parch','Fare']]\n",
        "train_choice.head()"
      ],
      "metadata": {
        "id": "JalNr_yp2IBf",
        "colab": {
          "base_uri": "https://localhost:8080/",
          "height": 206
        },
        "outputId": "e4a289e6-1455-4048-eb4d-975d693b7f20"
      },
      "execution_count": null,
      "outputs": [
        {
          "output_type": "execute_result",
          "data": {
            "text/plain": [
              "   Pclass  Sex   Age  SibSp  Parch       Fare\n",
              "0     3.0  1.0  22.0    1.0    0.0   7.250000\n",
              "1     1.0  0.0  38.0    1.0    0.0  71.312500\n",
              "2     3.0  0.0  26.0    0.0    0.0   7.925781\n",
              "3     1.0  0.0  35.0    1.0    0.0  53.093750\n",
              "4     3.0  1.0  35.0    0.0    0.0   8.046875"
            ],
            "text/html": [
              "\n",
              "  <div id=\"df-2fa9dd2d-ab1f-44cd-ba3d-9ad8c66705c1\">\n",
              "    <div class=\"colab-df-container\">\n",
              "      <div>\n",
              "<style scoped>\n",
              "    .dataframe tbody tr th:only-of-type {\n",
              "        vertical-align: middle;\n",
              "    }\n",
              "\n",
              "    .dataframe tbody tr th {\n",
              "        vertical-align: top;\n",
              "    }\n",
              "\n",
              "    .dataframe thead th {\n",
              "        text-align: right;\n",
              "    }\n",
              "</style>\n",
              "<table border=\"1\" class=\"dataframe\">\n",
              "  <thead>\n",
              "    <tr style=\"text-align: right;\">\n",
              "      <th></th>\n",
              "      <th>Pclass</th>\n",
              "      <th>Sex</th>\n",
              "      <th>Age</th>\n",
              "      <th>SibSp</th>\n",
              "      <th>Parch</th>\n",
              "      <th>Fare</th>\n",
              "    </tr>\n",
              "  </thead>\n",
              "  <tbody>\n",
              "    <tr>\n",
              "      <th>0</th>\n",
              "      <td>3.0</td>\n",
              "      <td>1.0</td>\n",
              "      <td>22.0</td>\n",
              "      <td>1.0</td>\n",
              "      <td>0.0</td>\n",
              "      <td>7.250000</td>\n",
              "    </tr>\n",
              "    <tr>\n",
              "      <th>1</th>\n",
              "      <td>1.0</td>\n",
              "      <td>0.0</td>\n",
              "      <td>38.0</td>\n",
              "      <td>1.0</td>\n",
              "      <td>0.0</td>\n",
              "      <td>71.312500</td>\n",
              "    </tr>\n",
              "    <tr>\n",
              "      <th>2</th>\n",
              "      <td>3.0</td>\n",
              "      <td>0.0</td>\n",
              "      <td>26.0</td>\n",
              "      <td>0.0</td>\n",
              "      <td>0.0</td>\n",
              "      <td>7.925781</td>\n",
              "    </tr>\n",
              "    <tr>\n",
              "      <th>3</th>\n",
              "      <td>1.0</td>\n",
              "      <td>0.0</td>\n",
              "      <td>35.0</td>\n",
              "      <td>1.0</td>\n",
              "      <td>0.0</td>\n",
              "      <td>53.093750</td>\n",
              "    </tr>\n",
              "    <tr>\n",
              "      <th>4</th>\n",
              "      <td>3.0</td>\n",
              "      <td>1.0</td>\n",
              "      <td>35.0</td>\n",
              "      <td>0.0</td>\n",
              "      <td>0.0</td>\n",
              "      <td>8.046875</td>\n",
              "    </tr>\n",
              "  </tbody>\n",
              "</table>\n",
              "</div>\n",
              "      <button class=\"colab-df-convert\" onclick=\"convertToInteractive('df-2fa9dd2d-ab1f-44cd-ba3d-9ad8c66705c1')\"\n",
              "              title=\"Convert this dataframe to an interactive table.\"\n",
              "              style=\"display:none;\">\n",
              "        \n",
              "  <svg xmlns=\"http://www.w3.org/2000/svg\" height=\"24px\"viewBox=\"0 0 24 24\"\n",
              "       width=\"24px\">\n",
              "    <path d=\"M0 0h24v24H0V0z\" fill=\"none\"/>\n",
              "    <path d=\"M18.56 5.44l.94 2.06.94-2.06 2.06-.94-2.06-.94-.94-2.06-.94 2.06-2.06.94zm-11 1L8.5 8.5l.94-2.06 2.06-.94-2.06-.94L8.5 2.5l-.94 2.06-2.06.94zm10 10l.94 2.06.94-2.06 2.06-.94-2.06-.94-.94-2.06-.94 2.06-2.06.94z\"/><path d=\"M17.41 7.96l-1.37-1.37c-.4-.4-.92-.59-1.43-.59-.52 0-1.04.2-1.43.59L10.3 9.45l-7.72 7.72c-.78.78-.78 2.05 0 2.83L4 21.41c.39.39.9.59 1.41.59.51 0 1.02-.2 1.41-.59l7.78-7.78 2.81-2.81c.8-.78.8-2.07 0-2.86zM5.41 20L4 18.59l7.72-7.72 1.47 1.35L5.41 20z\"/>\n",
              "  </svg>\n",
              "      </button>\n",
              "      \n",
              "  <style>\n",
              "    .colab-df-container {\n",
              "      display:flex;\n",
              "      flex-wrap:wrap;\n",
              "      gap: 12px;\n",
              "    }\n",
              "\n",
              "    .colab-df-convert {\n",
              "      background-color: #E8F0FE;\n",
              "      border: none;\n",
              "      border-radius: 50%;\n",
              "      cursor: pointer;\n",
              "      display: none;\n",
              "      fill: #1967D2;\n",
              "      height: 32px;\n",
              "      padding: 0 0 0 0;\n",
              "      width: 32px;\n",
              "    }\n",
              "\n",
              "    .colab-df-convert:hover {\n",
              "      background-color: #E2EBFA;\n",
              "      box-shadow: 0px 1px 2px rgba(60, 64, 67, 0.3), 0px 1px 3px 1px rgba(60, 64, 67, 0.15);\n",
              "      fill: #174EA6;\n",
              "    }\n",
              "\n",
              "    [theme=dark] .colab-df-convert {\n",
              "      background-color: #3B4455;\n",
              "      fill: #D2E3FC;\n",
              "    }\n",
              "\n",
              "    [theme=dark] .colab-df-convert:hover {\n",
              "      background-color: #434B5C;\n",
              "      box-shadow: 0px 1px 3px 1px rgba(0, 0, 0, 0.15);\n",
              "      filter: drop-shadow(0px 1px 2px rgba(0, 0, 0, 0.3));\n",
              "      fill: #FFFFFF;\n",
              "    }\n",
              "  </style>\n",
              "\n",
              "      <script>\n",
              "        const buttonEl =\n",
              "          document.querySelector('#df-2fa9dd2d-ab1f-44cd-ba3d-9ad8c66705c1 button.colab-df-convert');\n",
              "        buttonEl.style.display =\n",
              "          google.colab.kernel.accessAllowed ? 'block' : 'none';\n",
              "\n",
              "        async function convertToInteractive(key) {\n",
              "          const element = document.querySelector('#df-2fa9dd2d-ab1f-44cd-ba3d-9ad8c66705c1');\n",
              "          const dataTable =\n",
              "            await google.colab.kernel.invokeFunction('convertToInteractive',\n",
              "                                                     [key], {});\n",
              "          if (!dataTable) return;\n",
              "\n",
              "          const docLinkHtml = 'Like what you see? Visit the ' +\n",
              "            '<a target=\"_blank\" href=https://colab.research.google.com/notebooks/data_table.ipynb>data table notebook</a>'\n",
              "            + ' to learn more about interactive tables.';\n",
              "          element.innerHTML = '';\n",
              "          dataTable['output_type'] = 'display_data';\n",
              "          await google.colab.output.renderOutput(dataTable, element);\n",
              "          const docLink = document.createElement('div');\n",
              "          docLink.innerHTML = docLinkHtml;\n",
              "          element.appendChild(docLink);\n",
              "        }\n",
              "      </script>\n",
              "    </div>\n",
              "  </div>\n",
              "  "
            ]
          },
          "metadata": {},
          "execution_count": 86
        }
      ]
    },
    {
      "cell_type": "code",
      "source": [
        "# 데이터셋을 학습용과 테스트용으로 분할하기\n",
        "from sklearn.model_selection import train_test_split\n",
        "\n",
        "x_train, x_test, y_train, y_test = train_test_split(train_choice, df['Survived'], test_size=0.2, random_state=123)"
      ],
      "metadata": {
        "id": "vElkO-gCvDU1"
      },
      "execution_count": null,
      "outputs": []
    },
    {
      "cell_type": "code",
      "source": [
        "x_train.shape, x_test.shape, y_train.shape, y_test.shape"
      ],
      "metadata": {
        "colab": {
          "base_uri": "https://localhost:8080/"
        },
        "id": "indK8QWJwA02",
        "outputId": "13725f0d-992b-495a-ea70-eba2d4daa02e"
      },
      "execution_count": null,
      "outputs": [
        {
          "output_type": "execute_result",
          "data": {
            "text/plain": [
              "((712, 6), (179, 6), (712,), (179,))"
            ]
          },
          "metadata": {},
          "execution_count": 88
        }
      ]
    },
    {
      "cell_type": "code",
      "source": [
        "x_train.info()"
      ],
      "metadata": {
        "colab": {
          "base_uri": "https://localhost:8080/"
        },
        "id": "LLgH9hA6wHs2",
        "outputId": "11a73eb9-d4a1-4109-e640-b5261c35e3e7"
      },
      "execution_count": null,
      "outputs": [
        {
          "output_type": "stream",
          "name": "stdout",
          "text": [
            "<class 'pandas.core.frame.DataFrame'>\n",
            "Int64Index: 712 entries, 329 to 510\n",
            "Data columns (total 6 columns):\n",
            " #   Column  Non-Null Count  Dtype  \n",
            "---  ------  --------------  -----  \n",
            " 0   Pclass  712 non-null    float16\n",
            " 1   Sex     712 non-null    float16\n",
            " 2   Age     712 non-null    float64\n",
            " 3   SibSp   712 non-null    float16\n",
            " 4   Parch   712 non-null    float16\n",
            " 5   Fare    712 non-null    float16\n",
            "dtypes: float16(5), float64(1)\n",
            "memory usage: 18.1 KB\n"
          ]
        }
      ]
    },
    {
      "cell_type": "code",
      "source": [
        "x_test.info()"
      ],
      "metadata": {
        "colab": {
          "base_uri": "https://localhost:8080/"
        },
        "id": "YlR5i2huwNNj",
        "outputId": "296ab17e-4f90-4528-9651-926014e6f34c"
      },
      "execution_count": null,
      "outputs": [
        {
          "output_type": "stream",
          "name": "stdout",
          "text": [
            "<class 'pandas.core.frame.DataFrame'>\n",
            "Int64Index: 179 entries, 172 to 221\n",
            "Data columns (total 6 columns):\n",
            " #   Column  Non-Null Count  Dtype  \n",
            "---  ------  --------------  -----  \n",
            " 0   Pclass  179 non-null    float16\n",
            " 1   Sex     179 non-null    float16\n",
            " 2   Age     179 non-null    float64\n",
            " 3   SibSp   179 non-null    float16\n",
            " 4   Parch   179 non-null    float16\n",
            " 5   Fare    179 non-null    float16\n",
            "dtypes: float16(5), float64(1)\n",
            "memory usage: 4.5 KB\n"
          ]
        }
      ]
    },
    {
      "cell_type": "code",
      "source": [
        "# index값을 다시 숫자를 부여해야한다.\n",
        "x_train.head()"
      ],
      "metadata": {
        "colab": {
          "base_uri": "https://localhost:8080/",
          "height": 206
        },
        "id": "JWN1BeMcwR69",
        "outputId": "867d5c79-be4e-4633-8504-b67ae97e7ee9"
      },
      "execution_count": null,
      "outputs": [
        {
          "output_type": "execute_result",
          "data": {
            "text/plain": [
              "     Pclass  Sex   Age  SibSp  Parch       Fare\n",
              "329     1.0  0.0  16.0    0.0    1.0  57.968750\n",
              "749     3.0  1.0  31.0    0.0    0.0   7.750000\n",
              "203     3.0  1.0  45.5    0.0    0.0   7.226562\n",
              "421     3.0  1.0  21.0    0.0    0.0   7.734375\n",
              "97      1.0  1.0  23.0    0.0    1.0  63.343750"
            ],
            "text/html": [
              "\n",
              "  <div id=\"df-c05a0917-c8c2-4b5b-ac58-521002189168\">\n",
              "    <div class=\"colab-df-container\">\n",
              "      <div>\n",
              "<style scoped>\n",
              "    .dataframe tbody tr th:only-of-type {\n",
              "        vertical-align: middle;\n",
              "    }\n",
              "\n",
              "    .dataframe tbody tr th {\n",
              "        vertical-align: top;\n",
              "    }\n",
              "\n",
              "    .dataframe thead th {\n",
              "        text-align: right;\n",
              "    }\n",
              "</style>\n",
              "<table border=\"1\" class=\"dataframe\">\n",
              "  <thead>\n",
              "    <tr style=\"text-align: right;\">\n",
              "      <th></th>\n",
              "      <th>Pclass</th>\n",
              "      <th>Sex</th>\n",
              "      <th>Age</th>\n",
              "      <th>SibSp</th>\n",
              "      <th>Parch</th>\n",
              "      <th>Fare</th>\n",
              "    </tr>\n",
              "  </thead>\n",
              "  <tbody>\n",
              "    <tr>\n",
              "      <th>329</th>\n",
              "      <td>1.0</td>\n",
              "      <td>0.0</td>\n",
              "      <td>16.0</td>\n",
              "      <td>0.0</td>\n",
              "      <td>1.0</td>\n",
              "      <td>57.968750</td>\n",
              "    </tr>\n",
              "    <tr>\n",
              "      <th>749</th>\n",
              "      <td>3.0</td>\n",
              "      <td>1.0</td>\n",
              "      <td>31.0</td>\n",
              "      <td>0.0</td>\n",
              "      <td>0.0</td>\n",
              "      <td>7.750000</td>\n",
              "    </tr>\n",
              "    <tr>\n",
              "      <th>203</th>\n",
              "      <td>3.0</td>\n",
              "      <td>1.0</td>\n",
              "      <td>45.5</td>\n",
              "      <td>0.0</td>\n",
              "      <td>0.0</td>\n",
              "      <td>7.226562</td>\n",
              "    </tr>\n",
              "    <tr>\n",
              "      <th>421</th>\n",
              "      <td>3.0</td>\n",
              "      <td>1.0</td>\n",
              "      <td>21.0</td>\n",
              "      <td>0.0</td>\n",
              "      <td>0.0</td>\n",
              "      <td>7.734375</td>\n",
              "    </tr>\n",
              "    <tr>\n",
              "      <th>97</th>\n",
              "      <td>1.0</td>\n",
              "      <td>1.0</td>\n",
              "      <td>23.0</td>\n",
              "      <td>0.0</td>\n",
              "      <td>1.0</td>\n",
              "      <td>63.343750</td>\n",
              "    </tr>\n",
              "  </tbody>\n",
              "</table>\n",
              "</div>\n",
              "      <button class=\"colab-df-convert\" onclick=\"convertToInteractive('df-c05a0917-c8c2-4b5b-ac58-521002189168')\"\n",
              "              title=\"Convert this dataframe to an interactive table.\"\n",
              "              style=\"display:none;\">\n",
              "        \n",
              "  <svg xmlns=\"http://www.w3.org/2000/svg\" height=\"24px\"viewBox=\"0 0 24 24\"\n",
              "       width=\"24px\">\n",
              "    <path d=\"M0 0h24v24H0V0z\" fill=\"none\"/>\n",
              "    <path d=\"M18.56 5.44l.94 2.06.94-2.06 2.06-.94-2.06-.94-.94-2.06-.94 2.06-2.06.94zm-11 1L8.5 8.5l.94-2.06 2.06-.94-2.06-.94L8.5 2.5l-.94 2.06-2.06.94zm10 10l.94 2.06.94-2.06 2.06-.94-2.06-.94-.94-2.06-.94 2.06-2.06.94z\"/><path d=\"M17.41 7.96l-1.37-1.37c-.4-.4-.92-.59-1.43-.59-.52 0-1.04.2-1.43.59L10.3 9.45l-7.72 7.72c-.78.78-.78 2.05 0 2.83L4 21.41c.39.39.9.59 1.41.59.51 0 1.02-.2 1.41-.59l7.78-7.78 2.81-2.81c.8-.78.8-2.07 0-2.86zM5.41 20L4 18.59l7.72-7.72 1.47 1.35L5.41 20z\"/>\n",
              "  </svg>\n",
              "      </button>\n",
              "      \n",
              "  <style>\n",
              "    .colab-df-container {\n",
              "      display:flex;\n",
              "      flex-wrap:wrap;\n",
              "      gap: 12px;\n",
              "    }\n",
              "\n",
              "    .colab-df-convert {\n",
              "      background-color: #E8F0FE;\n",
              "      border: none;\n",
              "      border-radius: 50%;\n",
              "      cursor: pointer;\n",
              "      display: none;\n",
              "      fill: #1967D2;\n",
              "      height: 32px;\n",
              "      padding: 0 0 0 0;\n",
              "      width: 32px;\n",
              "    }\n",
              "\n",
              "    .colab-df-convert:hover {\n",
              "      background-color: #E2EBFA;\n",
              "      box-shadow: 0px 1px 2px rgba(60, 64, 67, 0.3), 0px 1px 3px 1px rgba(60, 64, 67, 0.15);\n",
              "      fill: #174EA6;\n",
              "    }\n",
              "\n",
              "    [theme=dark] .colab-df-convert {\n",
              "      background-color: #3B4455;\n",
              "      fill: #D2E3FC;\n",
              "    }\n",
              "\n",
              "    [theme=dark] .colab-df-convert:hover {\n",
              "      background-color: #434B5C;\n",
              "      box-shadow: 0px 1px 3px 1px rgba(0, 0, 0, 0.15);\n",
              "      filter: drop-shadow(0px 1px 2px rgba(0, 0, 0, 0.3));\n",
              "      fill: #FFFFFF;\n",
              "    }\n",
              "  </style>\n",
              "\n",
              "      <script>\n",
              "        const buttonEl =\n",
              "          document.querySelector('#df-c05a0917-c8c2-4b5b-ac58-521002189168 button.colab-df-convert');\n",
              "        buttonEl.style.display =\n",
              "          google.colab.kernel.accessAllowed ? 'block' : 'none';\n",
              "\n",
              "        async function convertToInteractive(key) {\n",
              "          const element = document.querySelector('#df-c05a0917-c8c2-4b5b-ac58-521002189168');\n",
              "          const dataTable =\n",
              "            await google.colab.kernel.invokeFunction('convertToInteractive',\n",
              "                                                     [key], {});\n",
              "          if (!dataTable) return;\n",
              "\n",
              "          const docLinkHtml = 'Like what you see? Visit the ' +\n",
              "            '<a target=\"_blank\" href=https://colab.research.google.com/notebooks/data_table.ipynb>data table notebook</a>'\n",
              "            + ' to learn more about interactive tables.';\n",
              "          element.innerHTML = '';\n",
              "          dataTable['output_type'] = 'display_data';\n",
              "          await google.colab.output.renderOutput(dataTable, element);\n",
              "          const docLink = document.createElement('div');\n",
              "          docLink.innerHTML = docLinkHtml;\n",
              "          element.appendChild(docLink);\n",
              "        }\n",
              "      </script>\n",
              "    </div>\n",
              "  </div>\n",
              "  "
            ]
          },
          "metadata": {},
          "execution_count": 91
        }
      ]
    },
    {
      "cell_type": "code",
      "source": [
        "# index 새로 부여하기\n",
        "x_train.reset_index(drop=True, inplace=True)\n",
        "x_test.reset_index(drop=True, inplace=True)\n",
        "y_train.reset_index(drop=True, inplace=True)\n",
        "y_test.reset_index(drop=True, inplace=True)"
      ],
      "metadata": {
        "id": "nI4WHcuZwZYf"
      },
      "execution_count": null,
      "outputs": []
    },
    {
      "cell_type": "code",
      "source": [
        "x_train.head()"
      ],
      "metadata": {
        "colab": {
          "base_uri": "https://localhost:8080/",
          "height": 206
        },
        "id": "ttAG4JZiwpg1",
        "outputId": "4e208bd8-cf02-4925-a8c7-58f61147a8e8"
      },
      "execution_count": null,
      "outputs": [
        {
          "output_type": "execute_result",
          "data": {
            "text/plain": [
              "   Pclass  Sex   Age  SibSp  Parch       Fare\n",
              "0     1.0  0.0  16.0    0.0    1.0  57.968750\n",
              "1     3.0  1.0  31.0    0.0    0.0   7.750000\n",
              "2     3.0  1.0  45.5    0.0    0.0   7.226562\n",
              "3     3.0  1.0  21.0    0.0    0.0   7.734375\n",
              "4     1.0  1.0  23.0    0.0    1.0  63.343750"
            ],
            "text/html": [
              "\n",
              "  <div id=\"df-93b65bc4-73d4-423f-baba-3fad4ca9fc69\">\n",
              "    <div class=\"colab-df-container\">\n",
              "      <div>\n",
              "<style scoped>\n",
              "    .dataframe tbody tr th:only-of-type {\n",
              "        vertical-align: middle;\n",
              "    }\n",
              "\n",
              "    .dataframe tbody tr th {\n",
              "        vertical-align: top;\n",
              "    }\n",
              "\n",
              "    .dataframe thead th {\n",
              "        text-align: right;\n",
              "    }\n",
              "</style>\n",
              "<table border=\"1\" class=\"dataframe\">\n",
              "  <thead>\n",
              "    <tr style=\"text-align: right;\">\n",
              "      <th></th>\n",
              "      <th>Pclass</th>\n",
              "      <th>Sex</th>\n",
              "      <th>Age</th>\n",
              "      <th>SibSp</th>\n",
              "      <th>Parch</th>\n",
              "      <th>Fare</th>\n",
              "    </tr>\n",
              "  </thead>\n",
              "  <tbody>\n",
              "    <tr>\n",
              "      <th>0</th>\n",
              "      <td>1.0</td>\n",
              "      <td>0.0</td>\n",
              "      <td>16.0</td>\n",
              "      <td>0.0</td>\n",
              "      <td>1.0</td>\n",
              "      <td>57.968750</td>\n",
              "    </tr>\n",
              "    <tr>\n",
              "      <th>1</th>\n",
              "      <td>3.0</td>\n",
              "      <td>1.0</td>\n",
              "      <td>31.0</td>\n",
              "      <td>0.0</td>\n",
              "      <td>0.0</td>\n",
              "      <td>7.750000</td>\n",
              "    </tr>\n",
              "    <tr>\n",
              "      <th>2</th>\n",
              "      <td>3.0</td>\n",
              "      <td>1.0</td>\n",
              "      <td>45.5</td>\n",
              "      <td>0.0</td>\n",
              "      <td>0.0</td>\n",
              "      <td>7.226562</td>\n",
              "    </tr>\n",
              "    <tr>\n",
              "      <th>3</th>\n",
              "      <td>3.0</td>\n",
              "      <td>1.0</td>\n",
              "      <td>21.0</td>\n",
              "      <td>0.0</td>\n",
              "      <td>0.0</td>\n",
              "      <td>7.734375</td>\n",
              "    </tr>\n",
              "    <tr>\n",
              "      <th>4</th>\n",
              "      <td>1.0</td>\n",
              "      <td>1.0</td>\n",
              "      <td>23.0</td>\n",
              "      <td>0.0</td>\n",
              "      <td>1.0</td>\n",
              "      <td>63.343750</td>\n",
              "    </tr>\n",
              "  </tbody>\n",
              "</table>\n",
              "</div>\n",
              "      <button class=\"colab-df-convert\" onclick=\"convertToInteractive('df-93b65bc4-73d4-423f-baba-3fad4ca9fc69')\"\n",
              "              title=\"Convert this dataframe to an interactive table.\"\n",
              "              style=\"display:none;\">\n",
              "        \n",
              "  <svg xmlns=\"http://www.w3.org/2000/svg\" height=\"24px\"viewBox=\"0 0 24 24\"\n",
              "       width=\"24px\">\n",
              "    <path d=\"M0 0h24v24H0V0z\" fill=\"none\"/>\n",
              "    <path d=\"M18.56 5.44l.94 2.06.94-2.06 2.06-.94-2.06-.94-.94-2.06-.94 2.06-2.06.94zm-11 1L8.5 8.5l.94-2.06 2.06-.94-2.06-.94L8.5 2.5l-.94 2.06-2.06.94zm10 10l.94 2.06.94-2.06 2.06-.94-2.06-.94-.94-2.06-.94 2.06-2.06.94z\"/><path d=\"M17.41 7.96l-1.37-1.37c-.4-.4-.92-.59-1.43-.59-.52 0-1.04.2-1.43.59L10.3 9.45l-7.72 7.72c-.78.78-.78 2.05 0 2.83L4 21.41c.39.39.9.59 1.41.59.51 0 1.02-.2 1.41-.59l7.78-7.78 2.81-2.81c.8-.78.8-2.07 0-2.86zM5.41 20L4 18.59l7.72-7.72 1.47 1.35L5.41 20z\"/>\n",
              "  </svg>\n",
              "      </button>\n",
              "      \n",
              "  <style>\n",
              "    .colab-df-container {\n",
              "      display:flex;\n",
              "      flex-wrap:wrap;\n",
              "      gap: 12px;\n",
              "    }\n",
              "\n",
              "    .colab-df-convert {\n",
              "      background-color: #E8F0FE;\n",
              "      border: none;\n",
              "      border-radius: 50%;\n",
              "      cursor: pointer;\n",
              "      display: none;\n",
              "      fill: #1967D2;\n",
              "      height: 32px;\n",
              "      padding: 0 0 0 0;\n",
              "      width: 32px;\n",
              "    }\n",
              "\n",
              "    .colab-df-convert:hover {\n",
              "      background-color: #E2EBFA;\n",
              "      box-shadow: 0px 1px 2px rgba(60, 64, 67, 0.3), 0px 1px 3px 1px rgba(60, 64, 67, 0.15);\n",
              "      fill: #174EA6;\n",
              "    }\n",
              "\n",
              "    [theme=dark] .colab-df-convert {\n",
              "      background-color: #3B4455;\n",
              "      fill: #D2E3FC;\n",
              "    }\n",
              "\n",
              "    [theme=dark] .colab-df-convert:hover {\n",
              "      background-color: #434B5C;\n",
              "      box-shadow: 0px 1px 3px 1px rgba(0, 0, 0, 0.15);\n",
              "      filter: drop-shadow(0px 1px 2px rgba(0, 0, 0, 0.3));\n",
              "      fill: #FFFFFF;\n",
              "    }\n",
              "  </style>\n",
              "\n",
              "      <script>\n",
              "        const buttonEl =\n",
              "          document.querySelector('#df-93b65bc4-73d4-423f-baba-3fad4ca9fc69 button.colab-df-convert');\n",
              "        buttonEl.style.display =\n",
              "          google.colab.kernel.accessAllowed ? 'block' : 'none';\n",
              "\n",
              "        async function convertToInteractive(key) {\n",
              "          const element = document.querySelector('#df-93b65bc4-73d4-423f-baba-3fad4ca9fc69');\n",
              "          const dataTable =\n",
              "            await google.colab.kernel.invokeFunction('convertToInteractive',\n",
              "                                                     [key], {});\n",
              "          if (!dataTable) return;\n",
              "\n",
              "          const docLinkHtml = 'Like what you see? Visit the ' +\n",
              "            '<a target=\"_blank\" href=https://colab.research.google.com/notebooks/data_table.ipynb>data table notebook</a>'\n",
              "            + ' to learn more about interactive tables.';\n",
              "          element.innerHTML = '';\n",
              "          dataTable['output_type'] = 'display_data';\n",
              "          await google.colab.output.renderOutput(dataTable, element);\n",
              "          const docLink = document.createElement('div');\n",
              "          docLink.innerHTML = docLinkHtml;\n",
              "          element.appendChild(docLink);\n",
              "        }\n",
              "      </script>\n",
              "    </div>\n",
              "  </div>\n",
              "  "
            ]
          },
          "metadata": {},
          "execution_count": 95
        }
      ]
    },
    {
      "cell_type": "markdown",
      "source": [
        "## Decision Tree"
      ],
      "metadata": {
        "id": "dAh-2T_Sw_Be"
      }
    },
    {
      "cell_type": "code",
      "source": [
        "from sklearn.tree import DecisionTreeClassifier\n",
        "from sklearn.metrics import accuracy_score, precision_score, recall_score, f1_score\n",
        "\n",
        "# step 1. 모델 객체 생성\n",
        "dtc = DecisionTreeClassifier(random_state=123)\n",
        "\n",
        "# step 2. 학습(훈련데이터)\n",
        "dtc.fit(x_train, y_train)\n",
        "\n",
        "# step 3. 예측(추론)\n",
        "y_pred = dtc.predict(x_test)\n",
        "\n",
        "# step 4. 정확도 출력\n",
        "#print((y_test==y_pred).mean())\n",
        "print(accuracy_score(y_test, y_pred))\n",
        "print(precision_score(y_test, y_pred))\n",
        "print(recall_score(y_test, y_pred))\n",
        "print(f1_score(y_test, y_pred))"
      ],
      "metadata": {
        "colab": {
          "base_uri": "https://localhost:8080/"
        },
        "id": "wbcnSlPPw7rU",
        "outputId": "33e9f1e2-c6d2-439d-8d47-f65707729bb5"
      },
      "execution_count": null,
      "outputs": [
        {
          "output_type": "stream",
          "name": "stdout",
          "text": [
            "0.7932960893854749\n",
            "0.6891891891891891\n",
            "0.7846153846153846\n",
            "0.7338129496402878\n"
          ]
        }
      ]
    },
    {
      "cell_type": "code",
      "source": [
        "# confusion matrix\n",
        "from sklearn.metrics import confusion_matrix\n",
        "import seaborn as sns\n",
        "\n",
        "data = confusion_matrix(y_test, y_pred)\n",
        "\n",
        "# seaborn으로  그려보자.\n",
        "sns.heatmap(data, annot=True, cmap='Reds')\n",
        "plt.xlabel('Predict')\n",
        "plt.ylabel('Actual')\n",
        "plt.show()"
      ],
      "metadata": {
        "colab": {
          "base_uri": "https://localhost:8080/",
          "height": 281
        },
        "id": "bjvIPxcQ5DUT",
        "outputId": "b97b3a9d-b51c-4e10-b3bc-f6280dc70902"
      },
      "execution_count": null,
      "outputs": [
        {
          "output_type": "display_data",
          "data": {
            "text/plain": [
              "<Figure size 432x288 with 2 Axes>"
            ],
            "image/png": "[encoded data removed]"
          },
          "metadata": {
            "needs_background": "light"
          }
        }
      ]
    },
    {
      "cell_type": "code",
      "source": [
        "from sklearn.tree import export_graphviz\n",
        "import graphviz\n",
        "\n",
        "# 결정 트리 모델을 시각화\n",
        "# dot파일을 생성\n",
        "export_graphviz(dtc, out_file=\"titanic.dot\",\n",
        "        feature_names=['pclass', 'sex', 'age', 'sibsp', 'parch', 'fare'],\n",
        "        class_names=['Unsurvived','Survived'],\n",
        "        rounded=True,\n",
        "        filled=True\n",
        "    )\n",
        "\n",
        "# dot파일을 png파일로 변환\n",
        "with open(\"titanic.dot\") as f:\n",
        "    dot_graph = f.read()\n",
        "dot = graphviz.Source(dot_graph)\n",
        "dot.format = 'png'\n",
        "dot.render(filename='titanic_tree', directory='images/decision_trees', cleanup=True)\n",
        "dot"
      ],
      "metadata": {
        "colab": {
          "base_uri": "https://localhost:8080/",
          "height": 1000
        },
        "id": "EWCsxgHm-Oqt",
        "outputId": "616d2ed9-4b5e-49dd-8ee0-db790527a0d0"
      },
      "execution_count": null,
      "outputs": [
        {
          "output_type": "execute_result",
          "data": {
            "text/plain": [
              "<graphviz.files.Source at 0x7f6438bd6a60>"
            ],
            "image/svg+xml": "<?xml version=\"1.0\" encoding=\"UTF-8\" standalone=\"no\"?>\n<!DOCTYPE svg PUBLIC \"-//W3C//DTD SVG 1.1//EN\"\n \"http://www.w3.org/Graphics/SVG/1.1/DTD/svg11.dtd\">\n<!-- Generated by graphviz version 2.40.1 (20161225.0304)\n -->\n<!-- Title: Tree Pages: 1 -->\n<svg width=\"7281pt\" height=\"2337pt\"\n viewBox=\"0.00 0.00 7280.50 2337.00\" xmlns=\"http://www.w3.org/2000/svg\" xmlns:xlink=\"http://www.w3.org/1999/xlink\">\n<g id=\"graph0\" class=\"graph\" transform=\"scale(1 1) rotate(0) translate(4 2333)\">\n<title>Tree</title>\n<polygon fill=\"#ffffff\" stroke=\"transparent\" points=\"-4,4 -4,-2333 7276.5,-2333 7276.5,4 -4,4\"/>\n<!-- 0 -->\n<g id=\"node1\" class=\"node\">\n<title>0</title>\n<path fill=\"#f6d1b7\" stroke=\"#000000\" d=\"M2213.5,-2329C2213.5,-2329 2097.5,-2329 2097.5,-2329 2091.5,-2329 2085.5,-2323 2085.5,-2317 2085.5,-2317 2085.5,-2258 2085.5,-2258 2085.5,-2252 2091.5,-2246 2097.5,-2246 2097.5,-2246 2213.5,-2246 2213.5,-2246 2219.5,-2246 2225.5,-2252 2225.5,-2258 2225.5,-2258 2225.5,-2317 2225.5,-2317 2225.5,-2323 2219.5,-2329 2213.5,-2329\"/>\n<text text-anchor=\"middle\" x=\"2155.5\" y=\"-2313.8\" font-family=\"Helvetica,sans-Serif\" font-size=\"14.00\" fill=\"#000000\">sex &lt;= 0.5</text>\n<text text-anchor=\"middle\" x=\"2155.5\" y=\"-2298.8\" font-family=\"Helvetica,sans-Serif\" font-size=\"14.00\" fill=\"#000000\">gini = 0.475</text>\n<text text-anchor=\"middle\" x=\"2155.5\" y=\"-2283.8\" font-family=\"Helvetica,sans-Serif\" font-size=\"14.00\" fill=\"#000000\">samples = 712</text>\n<text text-anchor=\"middle\" x=\"2155.5\" y=\"-2268.8\" font-family=\"Helvetica,sans-Serif\" font-size=\"14.00\" fill=\"#000000\">value = [435, 277]</text>\n<text text-anchor=\"middle\" x=\"2155.5\" y=\"-2253.8\" font-family=\"Helvetica,sans-Serif\" font-size=\"14.00\" fill=\"#000000\">class = Unsurvived</text>\n</g>\n<!-- 1 -->\n<g id=\"node2\" class=\"node\">\n<title>1</title>\n<path fill=\"#7dbfee\" stroke=\"#000000\" d=\"M1730.5,-2210C1730.5,-2210 1630.5,-2210 1630.5,-2210 1624.5,-2210 1618.5,-2204 1618.5,-2198 1618.5,-2198 1618.5,-2139 1618.5,-2139 1618.5,-2133 1624.5,-2127 1630.5,-2127 1630.5,-2127 1730.5,-2127 1730.5,-2127 1736.5,-2127 1742.5,-2133 1742.5,-2139 1742.5,-2139 1742.5,-2198 1742.5,-2198 1742.5,-2204 1736.5,-2210 1730.5,-2210\"/>\n<text text-anchor=\"middle\" x=\"1680.5\" y=\"-2194.8\" font-family=\"Helvetica,sans-Serif\" font-size=\"14.00\" fill=\"#000000\">pclass &lt;= 2.5</text>\n<text text-anchor=\"middle\" x=\"1680.5\" y=\"-2179.8\" font-family=\"Helvetica,sans-Serif\" font-size=\"14.00\" fill=\"#000000\">gini = 0.38</text>\n<text text-anchor=\"middle\" x=\"1680.5\" y=\"-2164.8\" font-family=\"Helvetica,sans-Serif\" font-size=\"14.00\" fill=\"#000000\">samples = 251</text>\n<text text-anchor=\"middle\" x=\"1680.5\" y=\"-2149.8\" font-family=\"Helvetica,sans-Serif\" font-size=\"14.00\" fill=\"#000000\">value = [64, 187]</text>\n<text text-anchor=\"middle\" x=\"1680.5\" y=\"-2134.8\" font-family=\"Helvetica,sans-Serif\" font-size=\"14.00\" fill=\"#000000\">class = Survived</text>\n</g>\n<!-- 0&#45;&gt;1 -->\n<g id=\"edge1\" class=\"edge\">\n<title>0&#45;&gt;1</title>\n<path fill=\"none\" stroke=\"#000000\" d=\"M2085.4121,-2269.9411C1996.1144,-2247.5697 1842.5723,-2209.1034 1752.4105,-2186.5155\"/>\n<polygon fill=\"#000000\" stroke=\"#000000\" points=\"1753.0954,-2183.079 1742.5446,-2184.0438 1751.3943,-2189.8691 1753.0954,-2183.079\"/>\n<text text-anchor=\"middle\" x=\"1755.3964\" y=\"-2201.7875\" font-family=\"Helvetica,sans-Serif\" font-size=\"14.00\" fill=\"#000000\">True</text>\n</g>\n<!-- 112 -->\n<g id=\"node113\" class=\"node\">\n<title>112</title>\n<path fill=\"#eba069\" stroke=\"#000000\" d=\"M2565.5,-2210C2565.5,-2210 2449.5,-2210 2449.5,-2210 2443.5,-2210 2437.5,-2204 2437.5,-2198 2437.5,-2198 2437.5,-2139 2437.5,-2139 2437.5,-2133 2443.5,-2127 2449.5,-2127 2449.5,-2127 2565.5,-2127 2565.5,-2127 2571.5,-2127 2577.5,-2133 2577.5,-2139 2577.5,-2139 2577.5,-2198 2577.5,-2198 2577.5,-2204 2571.5,-2210 2565.5,-2210\"/>\n<text text-anchor=\"middle\" x=\"2507.5\" y=\"-2194.8\" font-family=\"Helvetica,sans-Serif\" font-size=\"14.00\" fill=\"#000000\">age &lt;= 13.0</text>\n<text text-anchor=\"middle\" x=\"2507.5\" y=\"-2179.8\" font-family=\"Helvetica,sans-Serif\" font-size=\"14.00\" fill=\"#000000\">gini = 0.314</text>\n<text text-anchor=\"middle\" x=\"2507.5\" y=\"-2164.8\" font-family=\"Helvetica,sans-Serif\" font-size=\"14.00\" fill=\"#000000\">samples = 461</text>\n<text text-anchor=\"middle\" x=\"2507.5\" y=\"-2149.8\" font-family=\"Helvetica,sans-Serif\" font-size=\"14.00\" fill=\"#000000\">value = [371, 90]</text>\n<text text-anchor=\"middle\" x=\"2507.5\" y=\"-2134.8\" font-family=\"Helvetica,sans-Serif\" font-size=\"14.00\" fill=\"#000000\">class = Unsurvived</text>\n</g>\n<!-- 0&#45;&gt;112 -->\n<g id=\"edge112\" class=\"edge\">\n<title>0&#45;&gt;112</title>\n<path fill=\"none\" stroke=\"#000000\" d=\"M2225.8864,-2263.7046C2284.1616,-2244.0036 2366.9506,-2216.0153 2427.6846,-2195.483\"/>\n<polygon fill=\"#000000\" stroke=\"#000000\" points=\"2428.8832,-2198.7725 2437.2355,-2192.2542 2426.6413,-2192.1412 2428.8832,-2198.7725\"/>\n<text text-anchor=\"middle\" x=\"2426.1505\" y=\"-2210.9622\" font-family=\"Helvetica,sans-Serif\" font-size=\"14.00\" fill=\"#000000\">False</text>\n</g>\n<!-- 2 -->\n<g id=\"node3\" class=\"node\">\n<title>2</title>\n<path fill=\"#42a2e6\" stroke=\"#000000\" d=\"M892,-2091C892,-2091 793,-2091 793,-2091 787,-2091 781,-2085 781,-2079 781,-2079 781,-2020 781,-2020 781,-2014 787,-2008 793,-2008 793,-2008 892,-2008 892,-2008 898,-2008 904,-2014 904,-2020 904,-2020 904,-2079 904,-2079 904,-2085 898,-2091 892,-2091\"/>\n<text text-anchor=\"middle\" x=\"842.5\" y=\"-2075.8\" font-family=\"Helvetica,sans-Serif\" font-size=\"14.00\" fill=\"#000000\">age &lt;= 2.5</text>\n<text text-anchor=\"middle\" x=\"842.5\" y=\"-2060.8\" font-family=\"Helvetica,sans-Serif\" font-size=\"14.00\" fill=\"#000000\">gini = 0.087</text>\n<text text-anchor=\"middle\" x=\"842.5\" y=\"-2045.8\" font-family=\"Helvetica,sans-Serif\" font-size=\"14.00\" fill=\"#000000\">samples = 132</text>\n<text text-anchor=\"middle\" x=\"842.5\" y=\"-2030.8\" font-family=\"Helvetica,sans-Serif\" font-size=\"14.00\" fill=\"#000000\">value = [6, 126]</text>\n<text text-anchor=\"middle\" x=\"842.5\" y=\"-2015.8\" font-family=\"Helvetica,sans-Serif\" font-size=\"14.00\" fill=\"#000000\">class = Survived</text>\n</g>\n<!-- 1&#45;&gt;2 -->\n<g id=\"edge2\" class=\"edge\">\n<title>1&#45;&gt;2</title>\n<path fill=\"none\" stroke=\"#000000\" d=\"M1618.1984,-2159.6529C1466.0211,-2138.043 1076.0558,-2082.666 914.3886,-2059.7085\"/>\n<polygon fill=\"#000000\" stroke=\"#000000\" points=\"914.4678,-2056.1847 904.075,-2058.2439 913.4836,-2063.1152 914.4678,-2056.1847\"/>\n</g>\n<!-- 27 -->\n<g id=\"node28\" class=\"node\">\n<title>27</title>\n<path fill=\"#f5fafe\" stroke=\"#000000\" d=\"M1730,-2091C1730,-2091 1631,-2091 1631,-2091 1625,-2091 1619,-2085 1619,-2079 1619,-2079 1619,-2020 1619,-2020 1619,-2014 1625,-2008 1631,-2008 1631,-2008 1730,-2008 1730,-2008 1736,-2008 1742,-2014 1742,-2020 1742,-2020 1742,-2079 1742,-2079 1742,-2085 1736,-2091 1730,-2091\"/>\n<text text-anchor=\"middle\" x=\"1680.5\" y=\"-2075.8\" font-family=\"Helvetica,sans-Serif\" font-size=\"14.00\" fill=\"#000000\">fare &lt;= 24.812</text>\n<text text-anchor=\"middle\" x=\"1680.5\" y=\"-2060.8\" font-family=\"Helvetica,sans-Serif\" font-size=\"14.00\" fill=\"#000000\">gini = 0.5</text>\n<text text-anchor=\"middle\" x=\"1680.5\" y=\"-2045.8\" font-family=\"Helvetica,sans-Serif\" font-size=\"14.00\" fill=\"#000000\">samples = 119</text>\n<text text-anchor=\"middle\" x=\"1680.5\" y=\"-2030.8\" font-family=\"Helvetica,sans-Serif\" font-size=\"14.00\" fill=\"#000000\">value = [58, 61]</text>\n<text text-anchor=\"middle\" x=\"1680.5\" y=\"-2015.8\" font-family=\"Helvetica,sans-Serif\" font-size=\"14.00\" fill=\"#000000\">class = Survived</text>\n</g>\n<!-- 1&#45;&gt;27 -->\n<g id=\"edge27\" class=\"edge\">\n<title>1&#45;&gt;27</title>\n<path fill=\"none\" stroke=\"#000000\" d=\"M1680.5,-2126.8796C1680.5,-2118.6838 1680.5,-2109.9891 1680.5,-2101.5013\"/>\n<polygon fill=\"#000000\" stroke=\"#000000\" points=\"1684.0001,-2101.298 1680.5,-2091.2981 1677.0001,-2101.2981 1684.0001,-2101.298\"/>\n</g>\n<!-- 3 -->\n<g id=\"node4\" class=\"node\">\n<title>3</title>\n<path fill=\"#ffffff\" stroke=\"#000000\" d=\"M679.5,-1972C679.5,-1972 563.5,-1972 563.5,-1972 557.5,-1972 551.5,-1966 551.5,-1960 551.5,-1960 551.5,-1901 551.5,-1901 551.5,-1895 557.5,-1889 563.5,-1889 563.5,-1889 679.5,-1889 679.5,-1889 685.5,-1889 691.5,-1895 691.5,-1901 691.5,-1901 691.5,-1960 691.5,-1960 691.5,-1966 685.5,-1972 679.5,-1972\"/>\n<text text-anchor=\"middle\" x=\"621.5\" y=\"-1956.8\" font-family=\"Helvetica,sans-Serif\" font-size=\"14.00\" fill=\"#000000\">fare &lt;= 88.75</text>\n<text text-anchor=\"middle\" x=\"621.5\" y=\"-1941.8\" font-family=\"Helvetica,sans-Serif\" font-size=\"14.00\" fill=\"#000000\">gini = 0.5</text>\n<text text-anchor=\"middle\" x=\"621.5\" y=\"-1926.8\" font-family=\"Helvetica,sans-Serif\" font-size=\"14.00\" fill=\"#000000\">samples = 2</text>\n<text text-anchor=\"middle\" x=\"621.5\" y=\"-1911.8\" font-family=\"Helvetica,sans-Serif\" font-size=\"14.00\" fill=\"#000000\">value = [1, 1]</text>\n<text text-anchor=\"middle\" x=\"621.5\" y=\"-1896.8\" font-family=\"Helvetica,sans-Serif\" font-size=\"14.00\" fill=\"#000000\">class = Unsurvived</text>\n</g>\n<!-- 2&#45;&gt;3 -->\n<g id=\"edge3\" class=\"edge\">\n<title>2&#45;&gt;3</title>\n<path fill=\"none\" stroke=\"#000000\" d=\"M780.9392,-2016.3519C756.039,-2002.9441 726.9839,-1987.299 700.5486,-1973.0646\"/>\n<polygon fill=\"#000000\" stroke=\"#000000\" points=\"702.1579,-1969.9561 691.6938,-1968.2967 698.8392,-1976.1194 702.1579,-1969.9561\"/>\n</g>\n<!-- 6 -->\n<g id=\"node7\" class=\"node\">\n<title>6</title>\n<path fill=\"#41a1e6\" stroke=\"#000000\" d=\"M892,-1972C892,-1972 793,-1972 793,-1972 787,-1972 781,-1966 781,-1960 781,-1960 781,-1901 781,-1901 781,-1895 787,-1889 793,-1889 793,-1889 892,-1889 892,-1889 898,-1889 904,-1895 904,-1901 904,-1901 904,-1960 904,-1960 904,-1966 898,-1972 892,-1972\"/>\n<text text-anchor=\"middle\" x=\"842.5\" y=\"-1956.8\" font-family=\"Helvetica,sans-Serif\" font-size=\"14.00\" fill=\"#000000\">fare &lt;= 26.125</text>\n<text text-anchor=\"middle\" x=\"842.5\" y=\"-1941.8\" font-family=\"Helvetica,sans-Serif\" font-size=\"14.00\" fill=\"#000000\">gini = 0.074</text>\n<text text-anchor=\"middle\" x=\"842.5\" y=\"-1926.8\" font-family=\"Helvetica,sans-Serif\" font-size=\"14.00\" fill=\"#000000\">samples = 130</text>\n<text text-anchor=\"middle\" x=\"842.5\" y=\"-1911.8\" font-family=\"Helvetica,sans-Serif\" font-size=\"14.00\" fill=\"#000000\">value = [5, 125]</text>\n<text text-anchor=\"middle\" x=\"842.5\" y=\"-1896.8\" font-family=\"Helvetica,sans-Serif\" font-size=\"14.00\" fill=\"#000000\">class = Survived</text>\n</g>\n<!-- 2&#45;&gt;6 -->\n<g id=\"edge6\" class=\"edge\">\n<title>2&#45;&gt;6</title>\n<path fill=\"none\" stroke=\"#000000\" d=\"M842.5,-2007.8796C842.5,-1999.6838 842.5,-1990.9891 842.5,-1982.5013\"/>\n<polygon fill=\"#000000\" stroke=\"#000000\" points=\"846.0001,-1982.298 842.5,-1972.2981 839.0001,-1982.2981 846.0001,-1982.298\"/>\n</g>\n<!-- 4 -->\n<g id=\"node5\" class=\"node\">\n<title>4</title>\n<path fill=\"#399de5\" stroke=\"#000000\" d=\"M521,-1845.5C521,-1845.5 422,-1845.5 422,-1845.5 416,-1845.5 410,-1839.5 410,-1833.5 410,-1833.5 410,-1789.5 410,-1789.5 410,-1783.5 416,-1777.5 422,-1777.5 422,-1777.5 521,-1777.5 521,-1777.5 527,-1777.5 533,-1783.5 533,-1789.5 533,-1789.5 533,-1833.5 533,-1833.5 533,-1839.5 527,-1845.5 521,-1845.5\"/>\n<text text-anchor=\"middle\" x=\"471.5\" y=\"-1830.3\" font-family=\"Helvetica,sans-Serif\" font-size=\"14.00\" fill=\"#000000\">gini = 0.0</text>\n<text text-anchor=\"middle\" x=\"471.5\" y=\"-1815.3\" font-family=\"Helvetica,sans-Serif\" font-size=\"14.00\" fill=\"#000000\">samples = 1</text>\n<text text-anchor=\"middle\" x=\"471.5\" y=\"-1800.3\" font-family=\"Helvetica,sans-Serif\" font-size=\"14.00\" fill=\"#000000\">value = [0, 1]</text>\n<text text-anchor=\"middle\" x=\"471.5\" y=\"-1785.3\" font-family=\"Helvetica,sans-Serif\" font-size=\"14.00\" fill=\"#000000\">class = Survived</text>\n</g>\n<!-- 3&#45;&gt;4 -->\n<g id=\"edge4\" class=\"edge\">\n<title>3&#45;&gt;4</title>\n<path fill=\"none\" stroke=\"#000000\" d=\"M569.0373,-1888.8796C554.0678,-1877.0038 537.7778,-1864.0804 522.8741,-1852.2568\"/>\n<polygon fill=\"#000000\" stroke=\"#000000\" points=\"524.7635,-1849.2881 514.7541,-1845.8149 520.413,-1854.772 524.7635,-1849.2881\"/>\n</g>\n<!-- 5 -->\n<g id=\"node6\" class=\"node\">\n<title>5</title>\n<path fill=\"#e58139\" stroke=\"#000000\" d=\"M679.5,-1845.5C679.5,-1845.5 563.5,-1845.5 563.5,-1845.5 557.5,-1845.5 551.5,-1839.5 551.5,-1833.5 551.5,-1833.5 551.5,-1789.5 551.5,-1789.5 551.5,-1783.5 557.5,-1777.5 563.5,-1777.5 563.5,-1777.5 679.5,-1777.5 679.5,-1777.5 685.5,-1777.5 691.5,-1783.5 691.5,-1789.5 691.5,-1789.5 691.5,-1833.5 691.5,-1833.5 691.5,-1839.5 685.5,-1845.5 679.5,-1845.5\"/>\n<text text-anchor=\"middle\" x=\"621.5\" y=\"-1830.3\" font-family=\"Helvetica,sans-Serif\" font-size=\"14.00\" fill=\"#000000\">gini = 0.0</text>\n<text text-anchor=\"middle\" x=\"621.5\" y=\"-1815.3\" font-family=\"Helvetica,sans-Serif\" font-size=\"14.00\" fill=\"#000000\">samples = 1</text>\n<text text-anchor=\"middle\" x=\"621.5\" y=\"-1800.3\" font-family=\"Helvetica,sans-Serif\" font-size=\"14.00\" fill=\"#000000\">value = [1, 0]</text>\n<text text-anchor=\"middle\" x=\"621.5\" y=\"-1785.3\" font-family=\"Helvetica,sans-Serif\" font-size=\"14.00\" fill=\"#000000\">class = Unsurvived</text>\n</g>\n<!-- 3&#45;&gt;5 -->\n<g id=\"edge5\" class=\"edge\">\n<title>3&#45;&gt;5</title>\n<path fill=\"none\" stroke=\"#000000\" d=\"M621.5,-1888.8796C621.5,-1878.2134 621.5,-1866.7021 621.5,-1855.9015\"/>\n<polygon fill=\"#000000\" stroke=\"#000000\" points=\"625.0001,-1855.8149 621.5,-1845.8149 618.0001,-1855.815 625.0001,-1855.8149\"/>\n</g>\n<!-- 7 -->\n<g id=\"node8\" class=\"node\">\n<title>7</title>\n<path fill=\"#52a9e8\" stroke=\"#000000\" d=\"M821,-1853C821,-1853 722,-1853 722,-1853 716,-1853 710,-1847 710,-1841 710,-1841 710,-1782 710,-1782 710,-1776 716,-1770 722,-1770 722,-1770 821,-1770 821,-1770 827,-1770 833,-1776 833,-1782 833,-1782 833,-1841 833,-1841 833,-1847 827,-1853 821,-1853\"/>\n<text text-anchor=\"middle\" x=\"771.5\" y=\"-1837.8\" font-family=\"Helvetica,sans-Serif\" font-size=\"14.00\" fill=\"#000000\">age &lt;= 56.0</text>\n<text text-anchor=\"middle\" x=\"771.5\" y=\"-1822.8\" font-family=\"Helvetica,sans-Serif\" font-size=\"14.00\" fill=\"#000000\">gini = 0.198</text>\n<text text-anchor=\"middle\" x=\"771.5\" y=\"-1807.8\" font-family=\"Helvetica,sans-Serif\" font-size=\"14.00\" fill=\"#000000\">samples = 45</text>\n<text text-anchor=\"middle\" x=\"771.5\" y=\"-1792.8\" font-family=\"Helvetica,sans-Serif\" font-size=\"14.00\" fill=\"#000000\">value = [5, 40]</text>\n<text text-anchor=\"middle\" x=\"771.5\" y=\"-1777.8\" font-family=\"Helvetica,sans-Serif\" font-size=\"14.00\" fill=\"#000000\">class = Survived</text>\n</g>\n<!-- 6&#45;&gt;7 -->\n<g id=\"edge7\" class=\"edge\">\n<title>6&#45;&gt;7</title>\n<path fill=\"none\" stroke=\"#000000\" d=\"M817.6676,-1888.8796C812.5091,-1880.2335 807.0192,-1871.0322 801.6924,-1862.1042\"/>\n<polygon fill=\"#000000\" stroke=\"#000000\" points=\"804.5678,-1860.0924 796.4383,-1853.2981 798.5564,-1863.679 804.5678,-1860.0924\"/>\n</g>\n<!-- 26 -->\n<g id=\"node27\" class=\"node\">\n<title>26</title>\n<path fill=\"#399de5\" stroke=\"#000000\" d=\"M962,-1845.5C962,-1845.5 863,-1845.5 863,-1845.5 857,-1845.5 851,-1839.5 851,-1833.5 851,-1833.5 851,-1789.5 851,-1789.5 851,-1783.5 857,-1777.5 863,-1777.5 863,-1777.5 962,-1777.5 962,-1777.5 968,-1777.5 974,-1783.5 974,-1789.5 974,-1789.5 974,-1833.5 974,-1833.5 974,-1839.5 968,-1845.5 962,-1845.5\"/>\n<text text-anchor=\"middle\" x=\"912.5\" y=\"-1830.3\" font-family=\"Helvetica,sans-Serif\" font-size=\"14.00\" fill=\"#000000\">gini = 0.0</text>\n<text text-anchor=\"middle\" x=\"912.5\" y=\"-1815.3\" font-family=\"Helvetica,sans-Serif\" font-size=\"14.00\" fill=\"#000000\">samples = 85</text>\n<text text-anchor=\"middle\" x=\"912.5\" y=\"-1800.3\" font-family=\"Helvetica,sans-Serif\" font-size=\"14.00\" fill=\"#000000\">value = [0, 85]</text>\n<text text-anchor=\"middle\" x=\"912.5\" y=\"-1785.3\" font-family=\"Helvetica,sans-Serif\" font-size=\"14.00\" fill=\"#000000\">class = Survived</text>\n</g>\n<!-- 6&#45;&gt;26 -->\n<g id=\"edge26\" class=\"edge\">\n<title>6&#45;&gt;26</title>\n<path fill=\"none\" stroke=\"#000000\" d=\"M866.9826,-1888.8796C873.5156,-1877.7735 880.5875,-1865.7513 887.1652,-1854.5691\"/>\n<polygon fill=\"#000000\" stroke=\"#000000\" points=\"890.2613,-1856.2089 892.3147,-1845.8149 884.2277,-1852.6597 890.2613,-1856.2089\"/>\n</g>\n<!-- 8 -->\n<g id=\"node9\" class=\"node\">\n<title>8</title>\n<path fill=\"#4da7e8\" stroke=\"#000000\" d=\"M635,-1734C635,-1734 536,-1734 536,-1734 530,-1734 524,-1728 524,-1722 524,-1722 524,-1663 524,-1663 524,-1657 530,-1651 536,-1651 536,-1651 635,-1651 635,-1651 641,-1651 647,-1657 647,-1663 647,-1663 647,-1722 647,-1722 647,-1728 641,-1734 635,-1734\"/>\n<text text-anchor=\"middle\" x=\"585.5\" y=\"-1718.8\" font-family=\"Helvetica,sans-Serif\" font-size=\"14.00\" fill=\"#000000\">age &lt;= 37.0</text>\n<text text-anchor=\"middle\" x=\"585.5\" y=\"-1703.8\" font-family=\"Helvetica,sans-Serif\" font-size=\"14.00\" fill=\"#000000\">gini = 0.165</text>\n<text text-anchor=\"middle\" x=\"585.5\" y=\"-1688.8\" font-family=\"Helvetica,sans-Serif\" font-size=\"14.00\" fill=\"#000000\">samples = 44</text>\n<text text-anchor=\"middle\" x=\"585.5\" y=\"-1673.8\" font-family=\"Helvetica,sans-Serif\" font-size=\"14.00\" fill=\"#000000\">value = [4, 40]</text>\n<text text-anchor=\"middle\" x=\"585.5\" y=\"-1658.8\" font-family=\"Helvetica,sans-Serif\" font-size=\"14.00\" fill=\"#000000\">class = Survived</text>\n</g>\n<!-- 7&#45;&gt;8 -->\n<g id=\"edge8\" class=\"edge\">\n<title>7&#45;&gt;8</title>\n<path fill=\"none\" stroke=\"#000000\" d=\"M709.823,-1772.04C692.4655,-1760.9349 673.4598,-1748.7753 655.6465,-1737.3787\"/>\n<polygon fill=\"#000000\" stroke=\"#000000\" points=\"657.3199,-1734.2943 647.0101,-1731.8532 653.5474,-1740.1907 657.3199,-1734.2943\"/>\n</g>\n<!-- 25 -->\n<g id=\"node26\" class=\"node\">\n<title>25</title>\n<path fill=\"#e58139\" stroke=\"#000000\" d=\"M829.5,-1726.5C829.5,-1726.5 713.5,-1726.5 713.5,-1726.5 707.5,-1726.5 701.5,-1720.5 701.5,-1714.5 701.5,-1714.5 701.5,-1670.5 701.5,-1670.5 701.5,-1664.5 707.5,-1658.5 713.5,-1658.5 713.5,-1658.5 829.5,-1658.5 829.5,-1658.5 835.5,-1658.5 841.5,-1664.5 841.5,-1670.5 841.5,-1670.5 841.5,-1714.5 841.5,-1714.5 841.5,-1720.5 835.5,-1726.5 829.5,-1726.5\"/>\n<text text-anchor=\"middle\" x=\"771.5\" y=\"-1711.3\" font-family=\"Helvetica,sans-Serif\" font-size=\"14.00\" fill=\"#000000\">gini = 0.0</text>\n<text text-anchor=\"middle\" x=\"771.5\" y=\"-1696.3\" font-family=\"Helvetica,sans-Serif\" font-size=\"14.00\" fill=\"#000000\">samples = 1</text>\n<text text-anchor=\"middle\" x=\"771.5\" y=\"-1681.3\" font-family=\"Helvetica,sans-Serif\" font-size=\"14.00\" fill=\"#000000\">value = [1, 0]</text>\n<text text-anchor=\"middle\" x=\"771.5\" y=\"-1666.3\" font-family=\"Helvetica,sans-Serif\" font-size=\"14.00\" fill=\"#000000\">class = Unsurvived</text>\n</g>\n<!-- 7&#45;&gt;25 -->\n<g id=\"edge25\" class=\"edge\">\n<title>7&#45;&gt;25</title>\n<path fill=\"none\" stroke=\"#000000\" d=\"M771.5,-1769.8796C771.5,-1759.2134 771.5,-1747.7021 771.5,-1736.9015\"/>\n<polygon fill=\"#000000\" stroke=\"#000000\" points=\"775.0001,-1736.8149 771.5,-1726.8149 768.0001,-1736.815 775.0001,-1736.8149\"/>\n</g>\n<!-- 9 -->\n<g id=\"node10\" class=\"node\">\n<title>9</title>\n<path fill=\"#45a3e7\" stroke=\"#000000\" d=\"M414,-1615C414,-1615 315,-1615 315,-1615 309,-1615 303,-1609 303,-1603 303,-1603 303,-1544 303,-1544 303,-1538 309,-1532 315,-1532 315,-1532 414,-1532 414,-1532 420,-1532 426,-1538 426,-1544 426,-1544 426,-1603 426,-1603 426,-1609 420,-1615 414,-1615\"/>\n<text text-anchor=\"middle\" x=\"364.5\" y=\"-1599.8\" font-family=\"Helvetica,sans-Serif\" font-size=\"14.00\" fill=\"#000000\">age &lt;= 26.5</text>\n<text text-anchor=\"middle\" x=\"364.5\" y=\"-1584.8\" font-family=\"Helvetica,sans-Serif\" font-size=\"14.00\" fill=\"#000000\">gini = 0.105</text>\n<text text-anchor=\"middle\" x=\"364.5\" y=\"-1569.8\" font-family=\"Helvetica,sans-Serif\" font-size=\"14.00\" fill=\"#000000\">samples = 36</text>\n<text text-anchor=\"middle\" x=\"364.5\" y=\"-1554.8\" font-family=\"Helvetica,sans-Serif\" font-size=\"14.00\" fill=\"#000000\">value = [2, 34]</text>\n<text text-anchor=\"middle\" x=\"364.5\" y=\"-1539.8\" font-family=\"Helvetica,sans-Serif\" font-size=\"14.00\" fill=\"#000000\">class = Survived</text>\n</g>\n<!-- 8&#45;&gt;9 -->\n<g id=\"edge9\" class=\"edge\">\n<title>8&#45;&gt;9</title>\n<path fill=\"none\" stroke=\"#000000\" d=\"M523.9392,-1659.3519C496.3953,-1644.5205 463.7675,-1626.9517 435.2253,-1611.5829\"/>\n<polygon fill=\"#000000\" stroke=\"#000000\" points=\"436.5777,-1608.3359 426.1136,-1606.6766 433.259,-1614.4993 436.5777,-1608.3359\"/>\n</g>\n<!-- 18 -->\n<g id=\"node19\" class=\"node\">\n<title>18</title>\n<path fill=\"#7bbeee\" stroke=\"#000000\" d=\"M635,-1615C635,-1615 536,-1615 536,-1615 530,-1615 524,-1609 524,-1603 524,-1603 524,-1544 524,-1544 524,-1538 530,-1532 536,-1532 536,-1532 635,-1532 635,-1532 641,-1532 647,-1538 647,-1544 647,-1544 647,-1603 647,-1603 647,-1609 641,-1615 635,-1615\"/>\n<text text-anchor=\"middle\" x=\"585.5\" y=\"-1599.8\" font-family=\"Helvetica,sans-Serif\" font-size=\"14.00\" fill=\"#000000\">age &lt;= 44.5</text>\n<text text-anchor=\"middle\" x=\"585.5\" y=\"-1584.8\" font-family=\"Helvetica,sans-Serif\" font-size=\"14.00\" fill=\"#000000\">gini = 0.375</text>\n<text text-anchor=\"middle\" x=\"585.5\" y=\"-1569.8\" font-family=\"Helvetica,sans-Serif\" font-size=\"14.00\" fill=\"#000000\">samples = 8</text>\n<text text-anchor=\"middle\" x=\"585.5\" y=\"-1554.8\" font-family=\"Helvetica,sans-Serif\" font-size=\"14.00\" fill=\"#000000\">value = [2, 6]</text>\n<text text-anchor=\"middle\" x=\"585.5\" y=\"-1539.8\" font-family=\"Helvetica,sans-Serif\" font-size=\"14.00\" fill=\"#000000\">class = Survived</text>\n</g>\n<!-- 8&#45;&gt;18 -->\n<g id=\"edge18\" class=\"edge\">\n<title>8&#45;&gt;18</title>\n<path fill=\"none\" stroke=\"#000000\" d=\"M585.5,-1650.8796C585.5,-1642.6838 585.5,-1633.9891 585.5,-1625.5013\"/>\n<polygon fill=\"#000000\" stroke=\"#000000\" points=\"589.0001,-1625.298 585.5,-1615.2981 582.0001,-1625.2981 589.0001,-1625.298\"/>\n</g>\n<!-- 10 -->\n<g id=\"node11\" class=\"node\">\n<title>10</title>\n<path fill=\"#57ace9\" stroke=\"#000000\" d=\"M273,-1496C273,-1496 174,-1496 174,-1496 168,-1496 162,-1490 162,-1484 162,-1484 162,-1425 162,-1425 162,-1419 168,-1413 174,-1413 174,-1413 273,-1413 273,-1413 279,-1413 285,-1419 285,-1425 285,-1425 285,-1484 285,-1484 285,-1490 279,-1496 273,-1496\"/>\n<text text-anchor=\"middle\" x=\"223.5\" y=\"-1480.8\" font-family=\"Helvetica,sans-Serif\" font-size=\"14.00\" fill=\"#000000\">age &lt;= 25.5</text>\n<text text-anchor=\"middle\" x=\"223.5\" y=\"-1465.8\" font-family=\"Helvetica,sans-Serif\" font-size=\"14.00\" fill=\"#000000\">gini = 0.231</text>\n<text text-anchor=\"middle\" x=\"223.5\" y=\"-1450.8\" font-family=\"Helvetica,sans-Serif\" font-size=\"14.00\" fill=\"#000000\">samples = 15</text>\n<text text-anchor=\"middle\" x=\"223.5\" y=\"-1435.8\" font-family=\"Helvetica,sans-Serif\" font-size=\"14.00\" fill=\"#000000\">value = [2, 13]</text>\n<text text-anchor=\"middle\" x=\"223.5\" y=\"-1420.8\" font-family=\"Helvetica,sans-Serif\" font-size=\"14.00\" fill=\"#000000\">class = Survived</text>\n</g>\n<!-- 9&#45;&gt;10 -->\n<g id=\"edge10\" class=\"edge\">\n<title>9&#45;&gt;10</title>\n<path fill=\"none\" stroke=\"#000000\" d=\"M315.185,-1531.8796C304.0868,-1522.513 292.2165,-1512.4948 280.8223,-1502.8784\"/>\n<polygon fill=\"#000000\" stroke=\"#000000\" points=\"282.925,-1500.0731 273.0254,-1496.2981 278.4101,-1505.4225 282.925,-1500.0731\"/>\n</g>\n<!-- 17 -->\n<g id=\"node18\" class=\"node\">\n<title>17</title>\n<path fill=\"#399de5\" stroke=\"#000000\" d=\"M414,-1488.5C414,-1488.5 315,-1488.5 315,-1488.5 309,-1488.5 303,-1482.5 303,-1476.5 303,-1476.5 303,-1432.5 303,-1432.5 303,-1426.5 309,-1420.5 315,-1420.5 315,-1420.5 414,-1420.5 414,-1420.5 420,-1420.5 426,-1426.5 426,-1432.5 426,-1432.5 426,-1476.5 426,-1476.5 426,-1482.5 420,-1488.5 414,-1488.5\"/>\n<text text-anchor=\"middle\" x=\"364.5\" y=\"-1473.3\" font-family=\"Helvetica,sans-Serif\" font-size=\"14.00\" fill=\"#000000\">gini = 0.0</text>\n<text text-anchor=\"middle\" x=\"364.5\" y=\"-1458.3\" font-family=\"Helvetica,sans-Serif\" font-size=\"14.00\" fill=\"#000000\">samples = 21</text>\n<text text-anchor=\"middle\" x=\"364.5\" y=\"-1443.3\" font-family=\"Helvetica,sans-Serif\" font-size=\"14.00\" fill=\"#000000\">value = [0, 21]</text>\n<text text-anchor=\"middle\" x=\"364.5\" y=\"-1428.3\" font-family=\"Helvetica,sans-Serif\" font-size=\"14.00\" fill=\"#000000\">class = Survived</text>\n</g>\n<!-- 9&#45;&gt;17 -->\n<g id=\"edge17\" class=\"edge\">\n<title>9&#45;&gt;17</title>\n<path fill=\"none\" stroke=\"#000000\" d=\"M364.5,-1531.8796C364.5,-1521.2134 364.5,-1509.7021 364.5,-1498.9015\"/>\n<polygon fill=\"#000000\" stroke=\"#000000\" points=\"368.0001,-1498.8149 364.5,-1488.8149 361.0001,-1498.815 368.0001,-1498.8149\"/>\n</g>\n<!-- 11 -->\n<g id=\"node12\" class=\"node\">\n<title>11</title>\n<path fill=\"#48a5e7\" stroke=\"#000000\" d=\"M181,-1377C181,-1377 82,-1377 82,-1377 76,-1377 70,-1371 70,-1365 70,-1365 70,-1306 70,-1306 70,-1300 76,-1294 82,-1294 82,-1294 181,-1294 181,-1294 187,-1294 193,-1300 193,-1306 193,-1306 193,-1365 193,-1365 193,-1371 187,-1377 181,-1377\"/>\n<text text-anchor=\"middle\" x=\"131.5\" y=\"-1361.8\" font-family=\"Helvetica,sans-Serif\" font-size=\"14.00\" fill=\"#000000\">age &lt;= 23.5</text>\n<text text-anchor=\"middle\" x=\"131.5\" y=\"-1346.8\" font-family=\"Helvetica,sans-Serif\" font-size=\"14.00\" fill=\"#000000\">gini = 0.133</text>\n<text text-anchor=\"middle\" x=\"131.5\" y=\"-1331.8\" font-family=\"Helvetica,sans-Serif\" font-size=\"14.00\" fill=\"#000000\">samples = 14</text>\n<text text-anchor=\"middle\" x=\"131.5\" y=\"-1316.8\" font-family=\"Helvetica,sans-Serif\" font-size=\"14.00\" fill=\"#000000\">value = [1, 13]</text>\n<text text-anchor=\"middle\" x=\"131.5\" y=\"-1301.8\" font-family=\"Helvetica,sans-Serif\" font-size=\"14.00\" fill=\"#000000\">class = Survived</text>\n</g>\n<!-- 10&#45;&gt;11 -->\n<g id=\"edge11\" class=\"edge\">\n<title>10&#45;&gt;11</title>\n<path fill=\"none\" stroke=\"#000000\" d=\"M191.3229,-1412.8796C184.4296,-1403.9633 177.0798,-1394.4565 169.9761,-1385.268\"/>\n<polygon fill=\"#000000\" stroke=\"#000000\" points=\"172.6999,-1383.0687 163.8145,-1377.2981 167.1619,-1387.3502 172.6999,-1383.0687\"/>\n</g>\n<!-- 16 -->\n<g id=\"node17\" class=\"node\">\n<title>16</title>\n<path fill=\"#e58139\" stroke=\"#000000\" d=\"M339.5,-1369.5C339.5,-1369.5 223.5,-1369.5 223.5,-1369.5 217.5,-1369.5 211.5,-1363.5 211.5,-1357.5 211.5,-1357.5 211.5,-1313.5 211.5,-1313.5 211.5,-1307.5 217.5,-1301.5 223.5,-1301.5 223.5,-1301.5 339.5,-1301.5 339.5,-1301.5 345.5,-1301.5 351.5,-1307.5 351.5,-1313.5 351.5,-1313.5 351.5,-1357.5 351.5,-1357.5 351.5,-1363.5 345.5,-1369.5 339.5,-1369.5\"/>\n<text text-anchor=\"middle\" x=\"281.5\" y=\"-1354.3\" font-family=\"Helvetica,sans-Serif\" font-size=\"14.00\" fill=\"#000000\">gini = 0.0</text>\n<text text-anchor=\"middle\" x=\"281.5\" y=\"-1339.3\" font-family=\"Helvetica,sans-Serif\" font-size=\"14.00\" fill=\"#000000\">samples = 1</text>\n<text text-anchor=\"middle\" x=\"281.5\" y=\"-1324.3\" font-family=\"Helvetica,sans-Serif\" font-size=\"14.00\" fill=\"#000000\">value = [1, 0]</text>\n<text text-anchor=\"middle\" x=\"281.5\" y=\"-1309.3\" font-family=\"Helvetica,sans-Serif\" font-size=\"14.00\" fill=\"#000000\">class = Unsurvived</text>\n</g>\n<!-- 10&#45;&gt;16 -->\n<g id=\"edge16\" class=\"edge\">\n<title>10&#45;&gt;16</title>\n<path fill=\"none\" stroke=\"#000000\" d=\"M243.7856,-1412.8796C249.145,-1401.8835 254.9422,-1389.9893 260.3463,-1378.9015\"/>\n<polygon fill=\"#000000\" stroke=\"#000000\" points=\"263.54,-1380.3375 264.7751,-1369.8149 257.2476,-1377.2706 263.54,-1380.3375\"/>\n</g>\n<!-- 12 -->\n<g id=\"node13\" class=\"node\">\n<title>12</title>\n<path fill=\"#399de5\" stroke=\"#000000\" d=\"M111,-1250.5C111,-1250.5 12,-1250.5 12,-1250.5 6,-1250.5 0,-1244.5 0,-1238.5 0,-1238.5 0,-1194.5 0,-1194.5 0,-1188.5 6,-1182.5 12,-1182.5 12,-1182.5 111,-1182.5 111,-1182.5 117,-1182.5 123,-1188.5 123,-1194.5 123,-1194.5 123,-1238.5 123,-1238.5 123,-1244.5 117,-1250.5 111,-1250.5\"/>\n<text text-anchor=\"middle\" x=\"61.5\" y=\"-1235.3\" font-family=\"Helvetica,sans-Serif\" font-size=\"14.00\" fill=\"#000000\">gini = 0.0</text>\n<text text-anchor=\"middle\" x=\"61.5\" y=\"-1220.3\" font-family=\"Helvetica,sans-Serif\" font-size=\"14.00\" fill=\"#000000\">samples = 10</text>\n<text text-anchor=\"middle\" x=\"61.5\" y=\"-1205.3\" font-family=\"Helvetica,sans-Serif\" font-size=\"14.00\" fill=\"#000000\">value = [0, 10]</text>\n<text text-anchor=\"middle\" x=\"61.5\" y=\"-1190.3\" font-family=\"Helvetica,sans-Serif\" font-size=\"14.00\" fill=\"#000000\">class = Survived</text>\n</g>\n<!-- 11&#45;&gt;12 -->\n<g id=\"edge12\" class=\"edge\">\n<title>11&#45;&gt;12</title>\n<path fill=\"none\" stroke=\"#000000\" d=\"M107.0174,-1293.8796C100.4844,-1282.7735 93.4125,-1270.7513 86.8348,-1259.5691\"/>\n<polygon fill=\"#000000\" stroke=\"#000000\" points=\"89.7723,-1257.6597 81.6853,-1250.8149 83.7387,-1261.2089 89.7723,-1257.6597\"/>\n</g>\n<!-- 13 -->\n<g id=\"node14\" class=\"node\">\n<title>13</title>\n<path fill=\"#7bbeee\" stroke=\"#000000\" d=\"M252,-1258C252,-1258 153,-1258 153,-1258 147,-1258 141,-1252 141,-1246 141,-1246 141,-1187 141,-1187 141,-1181 147,-1175 153,-1175 153,-1175 252,-1175 252,-1175 258,-1175 264,-1181 264,-1187 264,-1187 264,-1246 264,-1246 264,-1252 258,-1258 252,-1258\"/>\n<text text-anchor=\"middle\" x=\"202.5\" y=\"-1242.8\" font-family=\"Helvetica,sans-Serif\" font-size=\"14.00\" fill=\"#000000\">fare &lt;= 13.75</text>\n<text text-anchor=\"middle\" x=\"202.5\" y=\"-1227.8\" font-family=\"Helvetica,sans-Serif\" font-size=\"14.00\" fill=\"#000000\">gini = 0.375</text>\n<text text-anchor=\"middle\" x=\"202.5\" y=\"-1212.8\" font-family=\"Helvetica,sans-Serif\" font-size=\"14.00\" fill=\"#000000\">samples = 4</text>\n<text text-anchor=\"middle\" x=\"202.5\" y=\"-1197.8\" font-family=\"Helvetica,sans-Serif\" font-size=\"14.00\" fill=\"#000000\">value = [1, 3]</text>\n<text text-anchor=\"middle\" x=\"202.5\" y=\"-1182.8\" font-family=\"Helvetica,sans-Serif\" font-size=\"14.00\" fill=\"#000000\">class = Survived</text>\n</g>\n<!-- 11&#45;&gt;13 -->\n<g id=\"edge13\" class=\"edge\">\n<title>11&#45;&gt;13</title>\n<path fill=\"none\" stroke=\"#000000\" d=\"M156.3324,-1293.8796C161.4909,-1285.2335 166.9808,-1276.0322 172.3076,-1267.1042\"/>\n<polygon fill=\"#000000\" stroke=\"#000000\" points=\"175.4436,-1268.679 177.5617,-1258.2981 169.4322,-1265.0924 175.4436,-1268.679\"/>\n</g>\n<!-- 14 -->\n<g id=\"node15\" class=\"node\">\n<title>14</title>\n<path fill=\"#e58139\" stroke=\"#000000\" d=\"M185.5,-1131.5C185.5,-1131.5 69.5,-1131.5 69.5,-1131.5 63.5,-1131.5 57.5,-1125.5 57.5,-1119.5 57.5,-1119.5 57.5,-1075.5 57.5,-1075.5 57.5,-1069.5 63.5,-1063.5 69.5,-1063.5 69.5,-1063.5 185.5,-1063.5 185.5,-1063.5 191.5,-1063.5 197.5,-1069.5 197.5,-1075.5 197.5,-1075.5 197.5,-1119.5 197.5,-1119.5 197.5,-1125.5 191.5,-1131.5 185.5,-1131.5\"/>\n<text text-anchor=\"middle\" x=\"127.5\" y=\"-1116.3\" font-family=\"Helvetica,sans-Serif\" font-size=\"14.00\" fill=\"#000000\">gini = 0.0</text>\n<text text-anchor=\"middle\" x=\"127.5\" y=\"-1101.3\" font-family=\"Helvetica,sans-Serif\" font-size=\"14.00\" fill=\"#000000\">samples = 1</text>\n<text text-anchor=\"middle\" x=\"127.5\" y=\"-1086.3\" font-family=\"Helvetica,sans-Serif\" font-size=\"14.00\" fill=\"#000000\">value = [1, 0]</text>\n<text text-anchor=\"middle\" x=\"127.5\" y=\"-1071.3\" font-family=\"Helvetica,sans-Serif\" font-size=\"14.00\" fill=\"#000000\">class = Unsurvived</text>\n</g>\n<!-- 13&#45;&gt;14 -->\n<g id=\"edge14\" class=\"edge\">\n<title>13&#45;&gt;14</title>\n<path fill=\"none\" stroke=\"#000000\" d=\"M176.2686,-1174.8796C169.269,-1163.7735 161.692,-1151.7513 154.6444,-1140.5691\"/>\n<polygon fill=\"#000000\" stroke=\"#000000\" points=\"157.42,-1138.4087 149.1271,-1131.8149 151.498,-1142.1411 157.42,-1138.4087\"/>\n</g>\n<!-- 15 -->\n<g id=\"node16\" class=\"node\">\n<title>15</title>\n<path fill=\"#399de5\" stroke=\"#000000\" d=\"M327,-1131.5C327,-1131.5 228,-1131.5 228,-1131.5 222,-1131.5 216,-1125.5 216,-1119.5 216,-1119.5 216,-1075.5 216,-1075.5 216,-1069.5 222,-1063.5 228,-1063.5 228,-1063.5 327,-1063.5 327,-1063.5 333,-1063.5 339,-1069.5 339,-1075.5 339,-1075.5 339,-1119.5 339,-1119.5 339,-1125.5 333,-1131.5 327,-1131.5\"/>\n<text text-anchor=\"middle\" x=\"277.5\" y=\"-1116.3\" font-family=\"Helvetica,sans-Serif\" font-size=\"14.00\" fill=\"#000000\">gini = 0.0</text>\n<text text-anchor=\"middle\" x=\"277.5\" y=\"-1101.3\" font-family=\"Helvetica,sans-Serif\" font-size=\"14.00\" fill=\"#000000\">samples = 3</text>\n<text text-anchor=\"middle\" x=\"277.5\" y=\"-1086.3\" font-family=\"Helvetica,sans-Serif\" font-size=\"14.00\" fill=\"#000000\">value = [0, 3]</text>\n<text text-anchor=\"middle\" x=\"277.5\" y=\"-1071.3\" font-family=\"Helvetica,sans-Serif\" font-size=\"14.00\" fill=\"#000000\">class = Survived</text>\n</g>\n<!-- 13&#45;&gt;15 -->\n<g id=\"edge15\" class=\"edge\">\n<title>13&#45;&gt;15</title>\n<path fill=\"none\" stroke=\"#000000\" d=\"M228.7314,-1174.8796C235.731,-1163.7735 243.308,-1151.7513 250.3556,-1140.5691\"/>\n<polygon fill=\"#000000\" stroke=\"#000000\" points=\"253.502,-1142.1411 255.8729,-1131.8149 247.58,-1138.4087 253.502,-1142.1411\"/>\n</g>\n<!-- 19 -->\n<g id=\"node20\" class=\"node\">\n<title>19</title>\n<path fill=\"#f2c09c\" stroke=\"#000000\" d=\"M572.5,-1496C572.5,-1496 456.5,-1496 456.5,-1496 450.5,-1496 444.5,-1490 444.5,-1484 444.5,-1484 444.5,-1425 444.5,-1425 444.5,-1419 450.5,-1413 456.5,-1413 456.5,-1413 572.5,-1413 572.5,-1413 578.5,-1413 584.5,-1419 584.5,-1425 584.5,-1425 584.5,-1484 584.5,-1484 584.5,-1490 578.5,-1496 572.5,-1496\"/>\n<text text-anchor=\"middle\" x=\"514.5\" y=\"-1480.8\" font-family=\"Helvetica,sans-Serif\" font-size=\"14.00\" fill=\"#000000\">sibsp &lt;= 0.5</text>\n<text text-anchor=\"middle\" x=\"514.5\" y=\"-1465.8\" font-family=\"Helvetica,sans-Serif\" font-size=\"14.00\" fill=\"#000000\">gini = 0.444</text>\n<text text-anchor=\"middle\" x=\"514.5\" y=\"-1450.8\" font-family=\"Helvetica,sans-Serif\" font-size=\"14.00\" fill=\"#000000\">samples = 3</text>\n<text text-anchor=\"middle\" x=\"514.5\" y=\"-1435.8\" font-family=\"Helvetica,sans-Serif\" font-size=\"14.00\" fill=\"#000000\">value = [2, 1]</text>\n<text text-anchor=\"middle\" x=\"514.5\" y=\"-1420.8\" font-family=\"Helvetica,sans-Serif\" font-size=\"14.00\" fill=\"#000000\">class = Unsurvived</text>\n</g>\n<!-- 18&#45;&gt;19 -->\n<g id=\"edge19\" class=\"edge\">\n<title>18&#45;&gt;19</title>\n<path fill=\"none\" stroke=\"#000000\" d=\"M560.6676,-1531.8796C555.5091,-1523.2335 550.0192,-1514.0322 544.6924,-1505.1042\"/>\n<polygon fill=\"#000000\" stroke=\"#000000\" points=\"547.5678,-1503.0924 539.4383,-1496.2981 541.5564,-1506.679 547.5678,-1503.0924\"/>\n</g>\n<!-- 24 -->\n<g id=\"node25\" class=\"node\">\n<title>24</title>\n<path fill=\"#399de5\" stroke=\"#000000\" d=\"M714,-1488.5C714,-1488.5 615,-1488.5 615,-1488.5 609,-1488.5 603,-1482.5 603,-1476.5 603,-1476.5 603,-1432.5 603,-1432.5 603,-1426.5 609,-1420.5 615,-1420.5 615,-1420.5 714,-1420.5 714,-1420.5 720,-1420.5 726,-1426.5 726,-1432.5 726,-1432.5 726,-1476.5 726,-1476.5 726,-1482.5 720,-1488.5 714,-1488.5\"/>\n<text text-anchor=\"middle\" x=\"664.5\" y=\"-1473.3\" font-family=\"Helvetica,sans-Serif\" font-size=\"14.00\" fill=\"#000000\">gini = 0.0</text>\n<text text-anchor=\"middle\" x=\"664.5\" y=\"-1458.3\" font-family=\"Helvetica,sans-Serif\" font-size=\"14.00\" fill=\"#000000\">samples = 5</text>\n<text text-anchor=\"middle\" x=\"664.5\" y=\"-1443.3\" font-family=\"Helvetica,sans-Serif\" font-size=\"14.00\" fill=\"#000000\">value = [0, 5]</text>\n<text text-anchor=\"middle\" x=\"664.5\" y=\"-1428.3\" font-family=\"Helvetica,sans-Serif\" font-size=\"14.00\" fill=\"#000000\">class = Survived</text>\n</g>\n<!-- 18&#45;&gt;24 -->\n<g id=\"edge24\" class=\"edge\">\n<title>18&#45;&gt;24</title>\n<path fill=\"none\" stroke=\"#000000\" d=\"M613.1304,-1531.8796C620.5763,-1520.6636 628.6425,-1508.5131 636.1282,-1497.2372\"/>\n<polygon fill=\"#000000\" stroke=\"#000000\" points=\"639.1046,-1499.082 641.7195,-1488.8149 633.2727,-1495.2104 639.1046,-1499.082\"/>\n</g>\n<!-- 20 -->\n<g id=\"node21\" class=\"node\">\n<title>20</title>\n<path fill=\"#e58139\" stroke=\"#000000\" d=\"M512.5,-1369.5C512.5,-1369.5 396.5,-1369.5 396.5,-1369.5 390.5,-1369.5 384.5,-1363.5 384.5,-1357.5 384.5,-1357.5 384.5,-1313.5 384.5,-1313.5 384.5,-1307.5 390.5,-1301.5 396.5,-1301.5 396.5,-1301.5 512.5,-1301.5 512.5,-1301.5 518.5,-1301.5 524.5,-1307.5 524.5,-1313.5 524.5,-1313.5 524.5,-1357.5 524.5,-1357.5 524.5,-1363.5 518.5,-1369.5 512.5,-1369.5\"/>\n<text text-anchor=\"middle\" x=\"454.5\" y=\"-1354.3\" font-family=\"Helvetica,sans-Serif\" font-size=\"14.00\" fill=\"#000000\">gini = 0.0</text>\n<text text-anchor=\"middle\" x=\"454.5\" y=\"-1339.3\" font-family=\"Helvetica,sans-Serif\" font-size=\"14.00\" fill=\"#000000\">samples = 1</text>\n<text text-anchor=\"middle\" x=\"454.5\" y=\"-1324.3\" font-family=\"Helvetica,sans-Serif\" font-size=\"14.00\" fill=\"#000000\">value = [1, 0]</text>\n<text text-anchor=\"middle\" x=\"454.5\" y=\"-1309.3\" font-family=\"Helvetica,sans-Serif\" font-size=\"14.00\" fill=\"#000000\">class = Unsurvived</text>\n</g>\n<!-- 19&#45;&gt;20 -->\n<g id=\"edge20\" class=\"edge\">\n<title>19&#45;&gt;20</title>\n<path fill=\"none\" stroke=\"#000000\" d=\"M493.5149,-1412.8796C487.9707,-1401.8835 481.9736,-1389.9893 476.3831,-1378.9015\"/>\n<polygon fill=\"#000000\" stroke=\"#000000\" points=\"479.4291,-1377.1684 471.8016,-1369.8149 473.1786,-1380.3199 479.4291,-1377.1684\"/>\n</g>\n<!-- 21 -->\n<g id=\"node22\" class=\"node\">\n<title>21</title>\n<path fill=\"#ffffff\" stroke=\"#000000\" d=\"M670.5,-1377C670.5,-1377 554.5,-1377 554.5,-1377 548.5,-1377 542.5,-1371 542.5,-1365 542.5,-1365 542.5,-1306 542.5,-1306 542.5,-1300 548.5,-1294 554.5,-1294 554.5,-1294 670.5,-1294 670.5,-1294 676.5,-1294 682.5,-1300 682.5,-1306 682.5,-1306 682.5,-1365 682.5,-1365 682.5,-1371 676.5,-1377 670.5,-1377\"/>\n<text text-anchor=\"middle\" x=\"612.5\" y=\"-1361.8\" font-family=\"Helvetica,sans-Serif\" font-size=\"14.00\" fill=\"#000000\">age &lt;= 43.0</text>\n<text text-anchor=\"middle\" x=\"612.5\" y=\"-1346.8\" font-family=\"Helvetica,sans-Serif\" font-size=\"14.00\" fill=\"#000000\">gini = 0.5</text>\n<text text-anchor=\"middle\" x=\"612.5\" y=\"-1331.8\" font-family=\"Helvetica,sans-Serif\" font-size=\"14.00\" fill=\"#000000\">samples = 2</text>\n<text text-anchor=\"middle\" x=\"612.5\" y=\"-1316.8\" font-family=\"Helvetica,sans-Serif\" font-size=\"14.00\" fill=\"#000000\">value = [1, 1]</text>\n<text text-anchor=\"middle\" x=\"612.5\" y=\"-1301.8\" font-family=\"Helvetica,sans-Serif\" font-size=\"14.00\" fill=\"#000000\">class = Unsurvived</text>\n</g>\n<!-- 19&#45;&gt;21 -->\n<g id=\"edge21\" class=\"edge\">\n<title>19&#45;&gt;21</title>\n<path fill=\"none\" stroke=\"#000000\" d=\"M548.7756,-1412.8796C556.1184,-1403.9633 563.9476,-1394.4565 571.5146,-1385.268\"/>\n<polygon fill=\"#000000\" stroke=\"#000000\" points=\"574.4227,-1387.2424 578.0781,-1377.2981 569.0192,-1382.7924 574.4227,-1387.2424\"/>\n</g>\n<!-- 22 -->\n<g id=\"node23\" class=\"node\">\n<title>22</title>\n<path fill=\"#399de5\" stroke=\"#000000\" d=\"M519,-1250.5C519,-1250.5 420,-1250.5 420,-1250.5 414,-1250.5 408,-1244.5 408,-1238.5 408,-1238.5 408,-1194.5 408,-1194.5 408,-1188.5 414,-1182.5 420,-1182.5 420,-1182.5 519,-1182.5 519,-1182.5 525,-1182.5 531,-1188.5 531,-1194.5 531,-1194.5 531,-1238.5 531,-1238.5 531,-1244.5 525,-1250.5 519,-1250.5\"/>\n<text text-anchor=\"middle\" x=\"469.5\" y=\"-1235.3\" font-family=\"Helvetica,sans-Serif\" font-size=\"14.00\" fill=\"#000000\">gini = 0.0</text>\n<text text-anchor=\"middle\" x=\"469.5\" y=\"-1220.3\" font-family=\"Helvetica,sans-Serif\" font-size=\"14.00\" fill=\"#000000\">samples = 1</text>\n<text text-anchor=\"middle\" x=\"469.5\" y=\"-1205.3\" font-family=\"Helvetica,sans-Serif\" font-size=\"14.00\" fill=\"#000000\">value = [0, 1]</text>\n<text text-anchor=\"middle\" x=\"469.5\" y=\"-1190.3\" font-family=\"Helvetica,sans-Serif\" font-size=\"14.00\" fill=\"#000000\">class = Survived</text>\n</g>\n<!-- 21&#45;&gt;22 -->\n<g id=\"edge22\" class=\"edge\">\n<title>21&#45;&gt;22</title>\n<path fill=\"none\" stroke=\"#000000\" d=\"M562.4855,-1293.8796C548.2147,-1282.0038 532.6849,-1269.0804 518.4767,-1257.2568\"/>\n<polygon fill=\"#000000\" stroke=\"#000000\" points=\"520.661,-1254.5212 510.7356,-1250.8149 516.1834,-1259.9019 520.661,-1254.5212\"/>\n</g>\n<!-- 23 -->\n<g id=\"node24\" class=\"node\">\n<title>23</title>\n<path fill=\"#e58139\" stroke=\"#000000\" d=\"M677.5,-1250.5C677.5,-1250.5 561.5,-1250.5 561.5,-1250.5 555.5,-1250.5 549.5,-1244.5 549.5,-1238.5 549.5,-1238.5 549.5,-1194.5 549.5,-1194.5 549.5,-1188.5 555.5,-1182.5 561.5,-1182.5 561.5,-1182.5 677.5,-1182.5 677.5,-1182.5 683.5,-1182.5 689.5,-1188.5 689.5,-1194.5 689.5,-1194.5 689.5,-1238.5 689.5,-1238.5 689.5,-1244.5 683.5,-1250.5 677.5,-1250.5\"/>\n<text text-anchor=\"middle\" x=\"619.5\" y=\"-1235.3\" font-family=\"Helvetica,sans-Serif\" font-size=\"14.00\" fill=\"#000000\">gini = 0.0</text>\n<text text-anchor=\"middle\" x=\"619.5\" y=\"-1220.3\" font-family=\"Helvetica,sans-Serif\" font-size=\"14.00\" fill=\"#000000\">samples = 1</text>\n<text text-anchor=\"middle\" x=\"619.5\" y=\"-1205.3\" font-family=\"Helvetica,sans-Serif\" font-size=\"14.00\" fill=\"#000000\">value = [1, 0]</text>\n<text text-anchor=\"middle\" x=\"619.5\" y=\"-1190.3\" font-family=\"Helvetica,sans-Serif\" font-size=\"14.00\" fill=\"#000000\">class = Unsurvived</text>\n</g>\n<!-- 21&#45;&gt;23 -->\n<g id=\"edge23\" class=\"edge\">\n<title>21&#45;&gt;23</title>\n<path fill=\"none\" stroke=\"#000000\" d=\"M614.9483,-1293.8796C615.5757,-1283.2134 616.2528,-1271.7021 616.8881,-1260.9015\"/>\n<polygon fill=\"#000000\" stroke=\"#000000\" points=\"620.3881,-1261.0032 617.4815,-1250.8149 613.4002,-1260.5921 620.3881,-1261.0032\"/>\n</g>\n<!-- 28 -->\n<g id=\"node29\" class=\"node\">\n<title>28</title>\n<path fill=\"#c9e4f8\" stroke=\"#000000\" d=\"M1651,-1972C1651,-1972 1552,-1972 1552,-1972 1546,-1972 1540,-1966 1540,-1960 1540,-1960 1540,-1901 1540,-1901 1540,-1895 1546,-1889 1552,-1889 1552,-1889 1651,-1889 1651,-1889 1657,-1889 1663,-1895 1663,-1901 1663,-1901 1663,-1960 1663,-1960 1663,-1966 1657,-1972 1651,-1972\"/>\n<text text-anchor=\"middle\" x=\"1601.5\" y=\"-1956.8\" font-family=\"Helvetica,sans-Serif\" font-size=\"14.00\" fill=\"#000000\">age &lt;= 36.5</text>\n<text text-anchor=\"middle\" x=\"1601.5\" y=\"-1941.8\" font-family=\"Helvetica,sans-Serif\" font-size=\"14.00\" fill=\"#000000\">gini = 0.488</text>\n<text text-anchor=\"middle\" x=\"1601.5\" y=\"-1926.8\" font-family=\"Helvetica,sans-Serif\" font-size=\"14.00\" fill=\"#000000\">samples = 102</text>\n<text text-anchor=\"middle\" x=\"1601.5\" y=\"-1911.8\" font-family=\"Helvetica,sans-Serif\" font-size=\"14.00\" fill=\"#000000\">value = [43, 59]</text>\n<text text-anchor=\"middle\" x=\"1601.5\" y=\"-1896.8\" font-family=\"Helvetica,sans-Serif\" font-size=\"14.00\" fill=\"#000000\">class = Survived</text>\n</g>\n<!-- 27&#45;&gt;28 -->\n<g id=\"edge28\" class=\"edge\">\n<title>27&#45;&gt;28</title>\n<path fill=\"none\" stroke=\"#000000\" d=\"M1652.8696,-2007.8796C1647.07,-1999.1434 1640.8941,-1989.8404 1634.9092,-1980.8253\"/>\n<polygon fill=\"#000000\" stroke=\"#000000\" points=\"1637.6951,-1978.6935 1629.2483,-1972.2981 1631.8632,-1982.5652 1637.6951,-1978.6935\"/>\n</g>\n<!-- 103 -->\n<g id=\"node104\" class=\"node\">\n<title>103</title>\n<path fill=\"#e89253\" stroke=\"#000000\" d=\"M1817.5,-1972C1817.5,-1972 1701.5,-1972 1701.5,-1972 1695.5,-1972 1689.5,-1966 1689.5,-1960 1689.5,-1960 1689.5,-1901 1689.5,-1901 1689.5,-1895 1695.5,-1889 1701.5,-1889 1701.5,-1889 1817.5,-1889 1817.5,-1889 1823.5,-1889 1829.5,-1895 1829.5,-1901 1829.5,-1901 1829.5,-1960 1829.5,-1960 1829.5,-1966 1823.5,-1972 1817.5,-1972\"/>\n<text text-anchor=\"middle\" x=\"1759.5\" y=\"-1956.8\" font-family=\"Helvetica,sans-Serif\" font-size=\"14.00\" fill=\"#000000\">age &lt;= 7.0</text>\n<text text-anchor=\"middle\" x=\"1759.5\" y=\"-1941.8\" font-family=\"Helvetica,sans-Serif\" font-size=\"14.00\" fill=\"#000000\">gini = 0.208</text>\n<text text-anchor=\"middle\" x=\"1759.5\" y=\"-1926.8\" font-family=\"Helvetica,sans-Serif\" font-size=\"14.00\" fill=\"#000000\">samples = 17</text>\n<text text-anchor=\"middle\" x=\"1759.5\" y=\"-1911.8\" font-family=\"Helvetica,sans-Serif\" font-size=\"14.00\" fill=\"#000000\">value = [15, 2]</text>\n<text text-anchor=\"middle\" x=\"1759.5\" y=\"-1896.8\" font-family=\"Helvetica,sans-Serif\" font-size=\"14.00\" fill=\"#000000\">class = Unsurvived</text>\n</g>\n<!-- 27&#45;&gt;103 -->\n<g id=\"edge103\" class=\"edge\">\n<title>27&#45;&gt;103</title>\n<path fill=\"none\" stroke=\"#000000\" d=\"M1708.1304,-2007.8796C1713.93,-1999.1434 1720.1059,-1989.8404 1726.0908,-1980.8253\"/>\n<polygon fill=\"#000000\" stroke=\"#000000\" points=\"1729.1368,-1982.5652 1731.7517,-1972.2981 1723.3049,-1978.6935 1729.1368,-1982.5652\"/>\n</g>\n<!-- 29 -->\n<g id=\"node30\" class=\"node\">\n<title>29</title>\n<path fill=\"#b5daf5\" stroke=\"#000000\" d=\"M1501,-1853C1501,-1853 1402,-1853 1402,-1853 1396,-1853 1390,-1847 1390,-1841 1390,-1841 1390,-1782 1390,-1782 1390,-1776 1396,-1770 1402,-1770 1402,-1770 1501,-1770 1501,-1770 1507,-1770 1513,-1776 1513,-1782 1513,-1782 1513,-1841 1513,-1841 1513,-1847 1507,-1853 1501,-1853\"/>\n<text text-anchor=\"middle\" x=\"1451.5\" y=\"-1837.8\" font-family=\"Helvetica,sans-Serif\" font-size=\"14.00\" fill=\"#000000\">fare &lt;= 8.039</text>\n<text text-anchor=\"middle\" x=\"1451.5\" y=\"-1822.8\" font-family=\"Helvetica,sans-Serif\" font-size=\"14.00\" fill=\"#000000\">gini = 0.474</text>\n<text text-anchor=\"middle\" x=\"1451.5\" y=\"-1807.8\" font-family=\"Helvetica,sans-Serif\" font-size=\"14.00\" fill=\"#000000\">samples = 96</text>\n<text text-anchor=\"middle\" x=\"1451.5\" y=\"-1792.8\" font-family=\"Helvetica,sans-Serif\" font-size=\"14.00\" fill=\"#000000\">value = [37, 59]</text>\n<text text-anchor=\"middle\" x=\"1451.5\" y=\"-1777.8\" font-family=\"Helvetica,sans-Serif\" font-size=\"14.00\" fill=\"#000000\">class = Survived</text>\n</g>\n<!-- 28&#45;&gt;29 -->\n<g id=\"edge29\" class=\"edge\">\n<title>28&#45;&gt;29</title>\n<path fill=\"none\" stroke=\"#000000\" d=\"M1549.0373,-1888.8796C1537.0479,-1879.368 1524.2113,-1869.1843 1511.9184,-1859.432\"/>\n<polygon fill=\"#000000\" stroke=\"#000000\" points=\"1513.9425,-1856.5701 1503.9331,-1853.0969 1509.5919,-1862.054 1513.9425,-1856.5701\"/>\n</g>\n<!-- 102 -->\n<g id=\"node103\" class=\"node\">\n<title>102</title>\n<path fill=\"#e58139\" stroke=\"#000000\" d=\"M1659.5,-1845.5C1659.5,-1845.5 1543.5,-1845.5 1543.5,-1845.5 1537.5,-1845.5 1531.5,-1839.5 1531.5,-1833.5 1531.5,-1833.5 1531.5,-1789.5 1531.5,-1789.5 1531.5,-1783.5 1537.5,-1777.5 1543.5,-1777.5 1543.5,-1777.5 1659.5,-1777.5 1659.5,-1777.5 1665.5,-1777.5 1671.5,-1783.5 1671.5,-1789.5 1671.5,-1789.5 1671.5,-1833.5 1671.5,-1833.5 1671.5,-1839.5 1665.5,-1845.5 1659.5,-1845.5\"/>\n<text text-anchor=\"middle\" x=\"1601.5\" y=\"-1830.3\" font-family=\"Helvetica,sans-Serif\" font-size=\"14.00\" fill=\"#000000\">gini = 0.0</text>\n<text text-anchor=\"middle\" x=\"1601.5\" y=\"-1815.3\" font-family=\"Helvetica,sans-Serif\" font-size=\"14.00\" fill=\"#000000\">samples = 6</text>\n<text text-anchor=\"middle\" x=\"1601.5\" y=\"-1800.3\" font-family=\"Helvetica,sans-Serif\" font-size=\"14.00\" fill=\"#000000\">value = [6, 0]</text>\n<text text-anchor=\"middle\" x=\"1601.5\" y=\"-1785.3\" font-family=\"Helvetica,sans-Serif\" font-size=\"14.00\" fill=\"#000000\">class = Unsurvived</text>\n</g>\n<!-- 28&#45;&gt;102 -->\n<g id=\"edge102\" class=\"edge\">\n<title>28&#45;&gt;102</title>\n<path fill=\"none\" stroke=\"#000000\" d=\"M1601.5,-1888.8796C1601.5,-1878.2134 1601.5,-1866.7021 1601.5,-1855.9015\"/>\n<polygon fill=\"#000000\" stroke=\"#000000\" points=\"1605.0001,-1855.8149 1601.5,-1845.8149 1598.0001,-1855.815 1605.0001,-1855.8149\"/>\n</g>\n<!-- 30 -->\n<g id=\"node31\" class=\"node\">\n<title>30</title>\n<path fill=\"#88c4ef\" stroke=\"#000000\" d=\"M1233,-1734C1233,-1734 1134,-1734 1134,-1734 1128,-1734 1122,-1728 1122,-1722 1122,-1722 1122,-1663 1122,-1663 1122,-1657 1128,-1651 1134,-1651 1134,-1651 1233,-1651 1233,-1651 1239,-1651 1245,-1657 1245,-1663 1245,-1663 1245,-1722 1245,-1722 1245,-1728 1239,-1734 1233,-1734\"/>\n<text text-anchor=\"middle\" x=\"1183.5\" y=\"-1718.8\" font-family=\"Helvetica,sans-Serif\" font-size=\"14.00\" fill=\"#000000\">age &lt;= 30.1</text>\n<text text-anchor=\"middle\" x=\"1183.5\" y=\"-1703.8\" font-family=\"Helvetica,sans-Serif\" font-size=\"14.00\" fill=\"#000000\">gini = 0.408</text>\n<text text-anchor=\"middle\" x=\"1183.5\" y=\"-1688.8\" font-family=\"Helvetica,sans-Serif\" font-size=\"14.00\" fill=\"#000000\">samples = 42</text>\n<text text-anchor=\"middle\" x=\"1183.5\" y=\"-1673.8\" font-family=\"Helvetica,sans-Serif\" font-size=\"14.00\" fill=\"#000000\">value = [12, 30]</text>\n<text text-anchor=\"middle\" x=\"1183.5\" y=\"-1658.8\" font-family=\"Helvetica,sans-Serif\" font-size=\"14.00\" fill=\"#000000\">class = Survived</text>\n</g>\n<!-- 29&#45;&gt;30 -->\n<g id=\"edge30\" class=\"edge\">\n<title>29&#45;&gt;30</title>\n<path fill=\"none\" stroke=\"#000000\" d=\"M1389.6789,-1784.0496C1349.2951,-1766.118 1296.4447,-1742.6508 1254.3633,-1723.9654\"/>\n<polygon fill=\"#000000\" stroke=\"#000000\" points=\"1255.5702,-1720.6718 1245.0102,-1719.8124 1252.7294,-1727.0695 1255.5702,-1720.6718\"/>\n</g>\n<!-- 65 -->\n<g id=\"node66\" class=\"node\">\n<title>65</title>\n<path fill=\"#e4f1fb\" stroke=\"#000000\" d=\"M1503,-1734C1503,-1734 1404,-1734 1404,-1734 1398,-1734 1392,-1728 1392,-1722 1392,-1722 1392,-1663 1392,-1663 1392,-1657 1398,-1651 1404,-1651 1404,-1651 1503,-1651 1503,-1651 1509,-1651 1515,-1657 1515,-1663 1515,-1663 1515,-1722 1515,-1722 1515,-1728 1509,-1734 1503,-1734\"/>\n<text text-anchor=\"middle\" x=\"1453.5\" y=\"-1718.8\" font-family=\"Helvetica,sans-Serif\" font-size=\"14.00\" fill=\"#000000\">fare &lt;= 10.824</text>\n<text text-anchor=\"middle\" x=\"1453.5\" y=\"-1703.8\" font-family=\"Helvetica,sans-Serif\" font-size=\"14.00\" fill=\"#000000\">gini = 0.497</text>\n<text text-anchor=\"middle\" x=\"1453.5\" y=\"-1688.8\" font-family=\"Helvetica,sans-Serif\" font-size=\"14.00\" fill=\"#000000\">samples = 54</text>\n<text text-anchor=\"middle\" x=\"1453.5\" y=\"-1673.8\" font-family=\"Helvetica,sans-Serif\" font-size=\"14.00\" fill=\"#000000\">value = [25, 29]</text>\n<text text-anchor=\"middle\" x=\"1453.5\" y=\"-1658.8\" font-family=\"Helvetica,sans-Serif\" font-size=\"14.00\" fill=\"#000000\">class = Survived</text>\n</g>\n<!-- 29&#45;&gt;65 -->\n<g id=\"edge65\" class=\"edge\">\n<title>29&#45;&gt;65</title>\n<path fill=\"none\" stroke=\"#000000\" d=\"M1452.1995,-1769.8796C1452.3372,-1761.6838 1452.4834,-1752.9891 1452.626,-1744.5013\"/>\n<polygon fill=\"#000000\" stroke=\"#000000\" points=\"1456.1289,-1744.3555 1452.7975,-1734.2981 1449.1299,-1744.2378 1456.1289,-1744.3555\"/>\n</g>\n<!-- 31 -->\n<g id=\"node32\" class=\"node\">\n<title>31</title>\n<path fill=\"#7bbeee\" stroke=\"#000000\" d=\"M1014,-1615C1014,-1615 915,-1615 915,-1615 909,-1615 903,-1609 903,-1603 903,-1603 903,-1544 903,-1544 903,-1538 909,-1532 915,-1532 915,-1532 1014,-1532 1014,-1532 1020,-1532 1026,-1538 1026,-1544 1026,-1544 1026,-1603 1026,-1603 1026,-1609 1020,-1615 1014,-1615\"/>\n<text text-anchor=\"middle\" x=\"964.5\" y=\"-1599.8\" font-family=\"Helvetica,sans-Serif\" font-size=\"14.00\" fill=\"#000000\">fare &lt;= 6.988</text>\n<text text-anchor=\"middle\" x=\"964.5\" y=\"-1584.8\" font-family=\"Helvetica,sans-Serif\" font-size=\"14.00\" fill=\"#000000\">gini = 0.375</text>\n<text text-anchor=\"middle\" x=\"964.5\" y=\"-1569.8\" font-family=\"Helvetica,sans-Serif\" font-size=\"14.00\" fill=\"#000000\">samples = 40</text>\n<text text-anchor=\"middle\" x=\"964.5\" y=\"-1554.8\" font-family=\"Helvetica,sans-Serif\" font-size=\"14.00\" fill=\"#000000\">value = [10, 30]</text>\n<text text-anchor=\"middle\" x=\"964.5\" y=\"-1539.8\" font-family=\"Helvetica,sans-Serif\" font-size=\"14.00\" fill=\"#000000\">class = Survived</text>\n</g>\n<!-- 30&#45;&gt;31 -->\n<g id=\"edge31\" class=\"edge\">\n<title>30&#45;&gt;31</title>\n<path fill=\"none\" stroke=\"#000000\" d=\"M1121.9135,-1659.0352C1094.858,-1644.3338 1062.9412,-1626.9909 1034.9443,-1611.778\"/>\n<polygon fill=\"#000000\" stroke=\"#000000\" points=\"1036.461,-1608.6188 1026.0033,-1606.9196 1033.1189,-1614.7694 1036.461,-1608.6188\"/>\n</g>\n<!-- 64 -->\n<g id=\"node65\" class=\"node\">\n<title>64</title>\n<path fill=\"#e58139\" stroke=\"#000000\" d=\"M1241.5,-1607.5C1241.5,-1607.5 1125.5,-1607.5 1125.5,-1607.5 1119.5,-1607.5 1113.5,-1601.5 1113.5,-1595.5 1113.5,-1595.5 1113.5,-1551.5 1113.5,-1551.5 1113.5,-1545.5 1119.5,-1539.5 1125.5,-1539.5 1125.5,-1539.5 1241.5,-1539.5 1241.5,-1539.5 1247.5,-1539.5 1253.5,-1545.5 1253.5,-1551.5 1253.5,-1551.5 1253.5,-1595.5 1253.5,-1595.5 1253.5,-1601.5 1247.5,-1607.5 1241.5,-1607.5\"/>\n<text text-anchor=\"middle\" x=\"1183.5\" y=\"-1592.3\" font-family=\"Helvetica,sans-Serif\" font-size=\"14.00\" fill=\"#000000\">gini = 0.0</text>\n<text text-anchor=\"middle\" x=\"1183.5\" y=\"-1577.3\" font-family=\"Helvetica,sans-Serif\" font-size=\"14.00\" fill=\"#000000\">samples = 2</text>\n<text text-anchor=\"middle\" x=\"1183.5\" y=\"-1562.3\" font-family=\"Helvetica,sans-Serif\" font-size=\"14.00\" fill=\"#000000\">value = [2, 0]</text>\n<text text-anchor=\"middle\" x=\"1183.5\" y=\"-1547.3\" font-family=\"Helvetica,sans-Serif\" font-size=\"14.00\" fill=\"#000000\">class = Unsurvived</text>\n</g>\n<!-- 30&#45;&gt;64 -->\n<g id=\"edge64\" class=\"edge\">\n<title>30&#45;&gt;64</title>\n<path fill=\"none\" stroke=\"#000000\" d=\"M1183.5,-1650.8796C1183.5,-1640.2134 1183.5,-1628.7021 1183.5,-1617.9015\"/>\n<polygon fill=\"#000000\" stroke=\"#000000\" points=\"1187.0001,-1617.8149 1183.5,-1607.8149 1180.0001,-1617.815 1187.0001,-1617.8149\"/>\n</g>\n<!-- 32 -->\n<g id=\"node33\" class=\"node\">\n<title>32</title>\n<path fill=\"#e58139\" stroke=\"#000000\" d=\"M872.5,-1488.5C872.5,-1488.5 756.5,-1488.5 756.5,-1488.5 750.5,-1488.5 744.5,-1482.5 744.5,-1476.5 744.5,-1476.5 744.5,-1432.5 744.5,-1432.5 744.5,-1426.5 750.5,-1420.5 756.5,-1420.5 756.5,-1420.5 872.5,-1420.5 872.5,-1420.5 878.5,-1420.5 884.5,-1426.5 884.5,-1432.5 884.5,-1432.5 884.5,-1476.5 884.5,-1476.5 884.5,-1482.5 878.5,-1488.5 872.5,-1488.5\"/>\n<text text-anchor=\"middle\" x=\"814.5\" y=\"-1473.3\" font-family=\"Helvetica,sans-Serif\" font-size=\"14.00\" fill=\"#000000\">gini = 0.0</text>\n<text text-anchor=\"middle\" x=\"814.5\" y=\"-1458.3\" font-family=\"Helvetica,sans-Serif\" font-size=\"14.00\" fill=\"#000000\">samples = 1</text>\n<text text-anchor=\"middle\" x=\"814.5\" y=\"-1443.3\" font-family=\"Helvetica,sans-Serif\" font-size=\"14.00\" fill=\"#000000\">value = [1, 0]</text>\n<text text-anchor=\"middle\" x=\"814.5\" y=\"-1428.3\" font-family=\"Helvetica,sans-Serif\" font-size=\"14.00\" fill=\"#000000\">class = Unsurvived</text>\n</g>\n<!-- 31&#45;&gt;32 -->\n<g id=\"edge32\" class=\"edge\">\n<title>31&#45;&gt;32</title>\n<path fill=\"none\" stroke=\"#000000\" d=\"M912.0373,-1531.8796C897.0678,-1520.0038 880.7778,-1507.0804 865.8741,-1495.2568\"/>\n<polygon fill=\"#000000\" stroke=\"#000000\" points=\"867.7635,-1492.2881 857.7541,-1488.8149 863.413,-1497.772 867.7635,-1492.2881\"/>\n</g>\n<!-- 33 -->\n<g id=\"node34\" class=\"node\">\n<title>33</title>\n<path fill=\"#74baed\" stroke=\"#000000\" d=\"M1014,-1496C1014,-1496 915,-1496 915,-1496 909,-1496 903,-1490 903,-1484 903,-1484 903,-1425 903,-1425 903,-1419 909,-1413 915,-1413 915,-1413 1014,-1413 1014,-1413 1020,-1413 1026,-1419 1026,-1425 1026,-1425 1026,-1484 1026,-1484 1026,-1490 1020,-1496 1014,-1496\"/>\n<text text-anchor=\"middle\" x=\"964.5\" y=\"-1480.8\" font-family=\"Helvetica,sans-Serif\" font-size=\"14.00\" fill=\"#000000\">fare &lt;= 7.523</text>\n<text text-anchor=\"middle\" x=\"964.5\" y=\"-1465.8\" font-family=\"Helvetica,sans-Serif\" font-size=\"14.00\" fill=\"#000000\">gini = 0.355</text>\n<text text-anchor=\"middle\" x=\"964.5\" y=\"-1450.8\" font-family=\"Helvetica,sans-Serif\" font-size=\"14.00\" fill=\"#000000\">samples = 39</text>\n<text text-anchor=\"middle\" x=\"964.5\" y=\"-1435.8\" font-family=\"Helvetica,sans-Serif\" font-size=\"14.00\" fill=\"#000000\">value = [9, 30]</text>\n<text text-anchor=\"middle\" x=\"964.5\" y=\"-1420.8\" font-family=\"Helvetica,sans-Serif\" font-size=\"14.00\" fill=\"#000000\">class = Survived</text>\n</g>\n<!-- 31&#45;&gt;33 -->\n<g id=\"edge33\" class=\"edge\">\n<title>31&#45;&gt;33</title>\n<path fill=\"none\" stroke=\"#000000\" d=\"M964.5,-1531.8796C964.5,-1523.6838 964.5,-1514.9891 964.5,-1506.5013\"/>\n<polygon fill=\"#000000\" stroke=\"#000000\" points=\"968.0001,-1506.298 964.5,-1496.2981 961.0001,-1506.2981 968.0001,-1506.298\"/>\n</g>\n<!-- 34 -->\n<g id=\"node35\" class=\"node\">\n<title>34</title>\n<path fill=\"#399de5\" stroke=\"#000000\" d=\"M869,-1369.5C869,-1369.5 770,-1369.5 770,-1369.5 764,-1369.5 758,-1363.5 758,-1357.5 758,-1357.5 758,-1313.5 758,-1313.5 758,-1307.5 764,-1301.5 770,-1301.5 770,-1301.5 869,-1301.5 869,-1301.5 875,-1301.5 881,-1307.5 881,-1313.5 881,-1313.5 881,-1357.5 881,-1357.5 881,-1363.5 875,-1369.5 869,-1369.5\"/>\n<text text-anchor=\"middle\" x=\"819.5\" y=\"-1354.3\" font-family=\"Helvetica,sans-Serif\" font-size=\"14.00\" fill=\"#000000\">gini = 0.0</text>\n<text text-anchor=\"middle\" x=\"819.5\" y=\"-1339.3\" font-family=\"Helvetica,sans-Serif\" font-size=\"14.00\" fill=\"#000000\">samples = 4</text>\n<text text-anchor=\"middle\" x=\"819.5\" y=\"-1324.3\" font-family=\"Helvetica,sans-Serif\" font-size=\"14.00\" fill=\"#000000\">value = [0, 4]</text>\n<text text-anchor=\"middle\" x=\"819.5\" y=\"-1309.3\" font-family=\"Helvetica,sans-Serif\" font-size=\"14.00\" fill=\"#000000\">class = Survived</text>\n</g>\n<!-- 33&#45;&gt;34 -->\n<g id=\"edge34\" class=\"edge\">\n<title>33&#45;&gt;34</title>\n<path fill=\"none\" stroke=\"#000000\" d=\"M913.786,-1412.8796C899.3156,-1401.0038 883.5686,-1388.0804 869.1617,-1376.2568\"/>\n<polygon fill=\"#000000\" stroke=\"#000000\" points=\"871.2628,-1373.4534 861.3123,-1369.8149 866.822,-1378.8645 871.2628,-1373.4534\"/>\n</g>\n<!-- 35 -->\n<g id=\"node36\" class=\"node\">\n<title>35</title>\n<path fill=\"#7ebfee\" stroke=\"#000000\" d=\"M1010,-1377C1010,-1377 911,-1377 911,-1377 905,-1377 899,-1371 899,-1365 899,-1365 899,-1306 899,-1306 899,-1300 905,-1294 911,-1294 911,-1294 1010,-1294 1010,-1294 1016,-1294 1022,-1300 1022,-1306 1022,-1306 1022,-1365 1022,-1365 1022,-1371 1016,-1377 1010,-1377\"/>\n<text text-anchor=\"middle\" x=\"960.5\" y=\"-1361.8\" font-family=\"Helvetica,sans-Serif\" font-size=\"14.00\" fill=\"#000000\">age &lt;= 14.5</text>\n<text text-anchor=\"middle\" x=\"960.5\" y=\"-1346.8\" font-family=\"Helvetica,sans-Serif\" font-size=\"14.00\" fill=\"#000000\">gini = 0.382</text>\n<text text-anchor=\"middle\" x=\"960.5\" y=\"-1331.8\" font-family=\"Helvetica,sans-Serif\" font-size=\"14.00\" fill=\"#000000\">samples = 35</text>\n<text text-anchor=\"middle\" x=\"960.5\" y=\"-1316.8\" font-family=\"Helvetica,sans-Serif\" font-size=\"14.00\" fill=\"#000000\">value = [9, 26]</text>\n<text text-anchor=\"middle\" x=\"960.5\" y=\"-1301.8\" font-family=\"Helvetica,sans-Serif\" font-size=\"14.00\" fill=\"#000000\">class = Survived</text>\n</g>\n<!-- 33&#45;&gt;35 -->\n<g id=\"edge35\" class=\"edge\">\n<title>33&#45;&gt;35</title>\n<path fill=\"none\" stroke=\"#000000\" d=\"M963.101,-1412.8796C962.8255,-1404.6838 962.5332,-1395.9891 962.2479,-1387.5013\"/>\n<polygon fill=\"#000000\" stroke=\"#000000\" points=\"965.739,-1387.1748 961.905,-1377.2981 958.743,-1387.41 965.739,-1387.1748\"/>\n</g>\n<!-- 36 -->\n<g id=\"node37\" class=\"node\">\n<title>36</title>\n<path fill=\"#e58139\" stroke=\"#000000\" d=\"M864.5,-1250.5C864.5,-1250.5 748.5,-1250.5 748.5,-1250.5 742.5,-1250.5 736.5,-1244.5 736.5,-1238.5 736.5,-1238.5 736.5,-1194.5 736.5,-1194.5 736.5,-1188.5 742.5,-1182.5 748.5,-1182.5 748.5,-1182.5 864.5,-1182.5 864.5,-1182.5 870.5,-1182.5 876.5,-1188.5 876.5,-1194.5 876.5,-1194.5 876.5,-1238.5 876.5,-1238.5 876.5,-1244.5 870.5,-1250.5 864.5,-1250.5\"/>\n<text text-anchor=\"middle\" x=\"806.5\" y=\"-1235.3\" font-family=\"Helvetica,sans-Serif\" font-size=\"14.00\" fill=\"#000000\">gini = 0.0</text>\n<text text-anchor=\"middle\" x=\"806.5\" y=\"-1220.3\" font-family=\"Helvetica,sans-Serif\" font-size=\"14.00\" fill=\"#000000\">samples = 1</text>\n<text text-anchor=\"middle\" x=\"806.5\" y=\"-1205.3\" font-family=\"Helvetica,sans-Serif\" font-size=\"14.00\" fill=\"#000000\">value = [1, 0]</text>\n<text text-anchor=\"middle\" x=\"806.5\" y=\"-1190.3\" font-family=\"Helvetica,sans-Serif\" font-size=\"14.00\" fill=\"#000000\">class = Unsurvived</text>\n</g>\n<!-- 35&#45;&gt;36 -->\n<g id=\"edge36\" class=\"edge\">\n<title>35&#45;&gt;36</title>\n<path fill=\"none\" stroke=\"#000000\" d=\"M906.6383,-1293.8796C891.2696,-1282.0038 874.5453,-1269.0804 859.2441,-1257.2568\"/>\n<polygon fill=\"#000000\" stroke=\"#000000\" points=\"860.9605,-1254.1599 850.9076,-1250.8149 856.6804,-1259.699 860.9605,-1254.1599\"/>\n</g>\n<!-- 37 -->\n<g id=\"node38\" class=\"node\">\n<title>37</title>\n<path fill=\"#76bbed\" stroke=\"#000000\" d=\"M1006,-1258C1006,-1258 907,-1258 907,-1258 901,-1258 895,-1252 895,-1246 895,-1246 895,-1187 895,-1187 895,-1181 901,-1175 907,-1175 907,-1175 1006,-1175 1006,-1175 1012,-1175 1018,-1181 1018,-1187 1018,-1187 1018,-1246 1018,-1246 1018,-1252 1012,-1258 1006,-1258\"/>\n<text text-anchor=\"middle\" x=\"956.5\" y=\"-1242.8\" font-family=\"Helvetica,sans-Serif\" font-size=\"14.00\" fill=\"#000000\">fare &lt;= 7.639</text>\n<text text-anchor=\"middle\" x=\"956.5\" y=\"-1227.8\" font-family=\"Helvetica,sans-Serif\" font-size=\"14.00\" fill=\"#000000\">gini = 0.36</text>\n<text text-anchor=\"middle\" x=\"956.5\" y=\"-1212.8\" font-family=\"Helvetica,sans-Serif\" font-size=\"14.00\" fill=\"#000000\">samples = 34</text>\n<text text-anchor=\"middle\" x=\"956.5\" y=\"-1197.8\" font-family=\"Helvetica,sans-Serif\" font-size=\"14.00\" fill=\"#000000\">value = [8, 26]</text>\n<text text-anchor=\"middle\" x=\"956.5\" y=\"-1182.8\" font-family=\"Helvetica,sans-Serif\" font-size=\"14.00\" fill=\"#000000\">class = Survived</text>\n</g>\n<!-- 35&#45;&gt;37 -->\n<g id=\"edge37\" class=\"edge\">\n<title>35&#45;&gt;37</title>\n<path fill=\"none\" stroke=\"#000000\" d=\"M959.101,-1293.8796C958.8255,-1285.6838 958.5332,-1276.9891 958.2479,-1268.5013\"/>\n<polygon fill=\"#000000\" stroke=\"#000000\" points=\"961.739,-1268.1748 957.905,-1258.2981 954.743,-1268.41 961.739,-1268.1748\"/>\n</g>\n<!-- 38 -->\n<g id=\"node39\" class=\"node\">\n<title>38</title>\n<path fill=\"#f2c09c\" stroke=\"#000000\" d=\"M939.5,-1139C939.5,-1139 823.5,-1139 823.5,-1139 817.5,-1139 811.5,-1133 811.5,-1127 811.5,-1127 811.5,-1068 811.5,-1068 811.5,-1062 817.5,-1056 823.5,-1056 823.5,-1056 939.5,-1056 939.5,-1056 945.5,-1056 951.5,-1062 951.5,-1068 951.5,-1068 951.5,-1127 951.5,-1127 951.5,-1133 945.5,-1139 939.5,-1139\"/>\n<text text-anchor=\"middle\" x=\"881.5\" y=\"-1123.8\" font-family=\"Helvetica,sans-Serif\" font-size=\"14.00\" fill=\"#000000\">age &lt;= 26.35</text>\n<text text-anchor=\"middle\" x=\"881.5\" y=\"-1108.8\" font-family=\"Helvetica,sans-Serif\" font-size=\"14.00\" fill=\"#000000\">gini = 0.444</text>\n<text text-anchor=\"middle\" x=\"881.5\" y=\"-1093.8\" font-family=\"Helvetica,sans-Serif\" font-size=\"14.00\" fill=\"#000000\">samples = 3</text>\n<text text-anchor=\"middle\" x=\"881.5\" y=\"-1078.8\" font-family=\"Helvetica,sans-Serif\" font-size=\"14.00\" fill=\"#000000\">value = [2, 1]</text>\n<text text-anchor=\"middle\" x=\"881.5\" y=\"-1063.8\" font-family=\"Helvetica,sans-Serif\" font-size=\"14.00\" fill=\"#000000\">class = Unsurvived</text>\n</g>\n<!-- 37&#45;&gt;38 -->\n<g id=\"edge38\" class=\"edge\">\n<title>37&#45;&gt;38</title>\n<path fill=\"none\" stroke=\"#000000\" d=\"M930.2686,-1174.8796C924.7627,-1166.1434 918.8994,-1156.8404 913.2176,-1147.8253\"/>\n<polygon fill=\"#000000\" stroke=\"#000000\" points=\"916.1363,-1145.8919 907.8433,-1139.2981 910.2143,-1149.6242 916.1363,-1145.8919\"/>\n</g>\n<!-- 41 -->\n<g id=\"node42\" class=\"node\">\n<title>41</title>\n<path fill=\"#69b5eb\" stroke=\"#000000\" d=\"M1081,-1139C1081,-1139 982,-1139 982,-1139 976,-1139 970,-1133 970,-1127 970,-1127 970,-1068 970,-1068 970,-1062 976,-1056 982,-1056 982,-1056 1081,-1056 1081,-1056 1087,-1056 1093,-1062 1093,-1068 1093,-1068 1093,-1127 1093,-1127 1093,-1133 1087,-1139 1081,-1139\"/>\n<text text-anchor=\"middle\" x=\"1031.5\" y=\"-1123.8\" font-family=\"Helvetica,sans-Serif\" font-size=\"14.00\" fill=\"#000000\">fare &lt;= 7.781</text>\n<text text-anchor=\"middle\" x=\"1031.5\" y=\"-1108.8\" font-family=\"Helvetica,sans-Serif\" font-size=\"14.00\" fill=\"#000000\">gini = 0.312</text>\n<text text-anchor=\"middle\" x=\"1031.5\" y=\"-1093.8\" font-family=\"Helvetica,sans-Serif\" font-size=\"14.00\" fill=\"#000000\">samples = 31</text>\n<text text-anchor=\"middle\" x=\"1031.5\" y=\"-1078.8\" font-family=\"Helvetica,sans-Serif\" font-size=\"14.00\" fill=\"#000000\">value = [6, 25]</text>\n<text text-anchor=\"middle\" x=\"1031.5\" y=\"-1063.8\" font-family=\"Helvetica,sans-Serif\" font-size=\"14.00\" fill=\"#000000\">class = Survived</text>\n</g>\n<!-- 37&#45;&gt;41 -->\n<g id=\"edge41\" class=\"edge\">\n<title>37&#45;&gt;41</title>\n<path fill=\"none\" stroke=\"#000000\" d=\"M982.7314,-1174.8796C988.2373,-1166.1434 994.1006,-1156.8404 999.7824,-1147.8253\"/>\n<polygon fill=\"#000000\" stroke=\"#000000\" points=\"1002.7857,-1149.6242 1005.1567,-1139.2981 996.8637,-1145.8919 1002.7857,-1149.6242\"/>\n</g>\n<!-- 39 -->\n<g id=\"node40\" class=\"node\">\n<title>39</title>\n<path fill=\"#399de5\" stroke=\"#000000\" d=\"M781,-1012.5C781,-1012.5 682,-1012.5 682,-1012.5 676,-1012.5 670,-1006.5 670,-1000.5 670,-1000.5 670,-956.5 670,-956.5 670,-950.5 676,-944.5 682,-944.5 682,-944.5 781,-944.5 781,-944.5 787,-944.5 793,-950.5 793,-956.5 793,-956.5 793,-1000.5 793,-1000.5 793,-1006.5 787,-1012.5 781,-1012.5\"/>\n<text text-anchor=\"middle\" x=\"731.5\" y=\"-997.3\" font-family=\"Helvetica,sans-Serif\" font-size=\"14.00\" fill=\"#000000\">gini = 0.0</text>\n<text text-anchor=\"middle\" x=\"731.5\" y=\"-982.3\" font-family=\"Helvetica,sans-Serif\" font-size=\"14.00\" fill=\"#000000\">samples = 1</text>\n<text text-anchor=\"middle\" x=\"731.5\" y=\"-967.3\" font-family=\"Helvetica,sans-Serif\" font-size=\"14.00\" fill=\"#000000\">value = [0, 1]</text>\n<text text-anchor=\"middle\" x=\"731.5\" y=\"-952.3\" font-family=\"Helvetica,sans-Serif\" font-size=\"14.00\" fill=\"#000000\">class = Survived</text>\n</g>\n<!-- 38&#45;&gt;39 -->\n<g id=\"edge39\" class=\"edge\">\n<title>38&#45;&gt;39</title>\n<path fill=\"none\" stroke=\"#000000\" d=\"M829.0373,-1055.8796C814.0678,-1044.0038 797.7778,-1031.0804 782.8741,-1019.2568\"/>\n<polygon fill=\"#000000\" stroke=\"#000000\" points=\"784.7635,-1016.2881 774.7541,-1012.8149 780.413,-1021.772 784.7635,-1016.2881\"/>\n</g>\n<!-- 40 -->\n<g id=\"node41\" class=\"node\">\n<title>40</title>\n<path fill=\"#e58139\" stroke=\"#000000\" d=\"M939.5,-1012.5C939.5,-1012.5 823.5,-1012.5 823.5,-1012.5 817.5,-1012.5 811.5,-1006.5 811.5,-1000.5 811.5,-1000.5 811.5,-956.5 811.5,-956.5 811.5,-950.5 817.5,-944.5 823.5,-944.5 823.5,-944.5 939.5,-944.5 939.5,-944.5 945.5,-944.5 951.5,-950.5 951.5,-956.5 951.5,-956.5 951.5,-1000.5 951.5,-1000.5 951.5,-1006.5 945.5,-1012.5 939.5,-1012.5\"/>\n<text text-anchor=\"middle\" x=\"881.5\" y=\"-997.3\" font-family=\"Helvetica,sans-Serif\" font-size=\"14.00\" fill=\"#000000\">gini = 0.0</text>\n<text text-anchor=\"middle\" x=\"881.5\" y=\"-982.3\" font-family=\"Helvetica,sans-Serif\" font-size=\"14.00\" fill=\"#000000\">samples = 2</text>\n<text text-anchor=\"middle\" x=\"881.5\" y=\"-967.3\" font-family=\"Helvetica,sans-Serif\" font-size=\"14.00\" fill=\"#000000\">value = [2, 0]</text>\n<text text-anchor=\"middle\" x=\"881.5\" y=\"-952.3\" font-family=\"Helvetica,sans-Serif\" font-size=\"14.00\" fill=\"#000000\">class = Unsurvived</text>\n</g>\n<!-- 38&#45;&gt;40 -->\n<g id=\"edge40\" class=\"edge\">\n<title>38&#45;&gt;40</title>\n<path fill=\"none\" stroke=\"#000000\" d=\"M881.5,-1055.8796C881.5,-1045.2134 881.5,-1033.7021 881.5,-1022.9015\"/>\n<polygon fill=\"#000000\" stroke=\"#000000\" points=\"885.0001,-1022.8149 881.5,-1012.8149 878.0001,-1022.815 885.0001,-1022.8149\"/>\n</g>\n<!-- 42 -->\n<g id=\"node43\" class=\"node\">\n<title>42</title>\n<path fill=\"#85c3ef\" stroke=\"#000000\" d=\"M1081,-1020C1081,-1020 982,-1020 982,-1020 976,-1020 970,-1014 970,-1008 970,-1008 970,-949 970,-949 970,-943 976,-937 982,-937 982,-937 1081,-937 1081,-937 1087,-937 1093,-943 1093,-949 1093,-949 1093,-1008 1093,-1008 1093,-1014 1087,-1020 1081,-1020\"/>\n<text text-anchor=\"middle\" x=\"1031.5\" y=\"-1004.8\" font-family=\"Helvetica,sans-Serif\" font-size=\"14.00\" fill=\"#000000\">parch &lt;= 1.0</text>\n<text text-anchor=\"middle\" x=\"1031.5\" y=\"-989.8\" font-family=\"Helvetica,sans-Serif\" font-size=\"14.00\" fill=\"#000000\">gini = 0.401</text>\n<text text-anchor=\"middle\" x=\"1031.5\" y=\"-974.8\" font-family=\"Helvetica,sans-Serif\" font-size=\"14.00\" fill=\"#000000\">samples = 18</text>\n<text text-anchor=\"middle\" x=\"1031.5\" y=\"-959.8\" font-family=\"Helvetica,sans-Serif\" font-size=\"14.00\" fill=\"#000000\">value = [5, 13]</text>\n<text text-anchor=\"middle\" x=\"1031.5\" y=\"-944.8\" font-family=\"Helvetica,sans-Serif\" font-size=\"14.00\" fill=\"#000000\">class = Survived</text>\n</g>\n<!-- 41&#45;&gt;42 -->\n<g id=\"edge42\" class=\"edge\">\n<title>41&#45;&gt;42</title>\n<path fill=\"none\" stroke=\"#000000\" d=\"M1031.5,-1055.8796C1031.5,-1047.6838 1031.5,-1038.9891 1031.5,-1030.5013\"/>\n<polygon fill=\"#000000\" stroke=\"#000000\" points=\"1035.0001,-1030.298 1031.5,-1020.2981 1028.0001,-1030.2981 1035.0001,-1030.298\"/>\n</g>\n<!-- 59 -->\n<g id=\"node60\" class=\"node\">\n<title>59</title>\n<path fill=\"#49a5e7\" stroke=\"#000000\" d=\"M1231,-1020C1231,-1020 1132,-1020 1132,-1020 1126,-1020 1120,-1014 1120,-1008 1120,-1008 1120,-949 1120,-949 1120,-943 1126,-937 1132,-937 1132,-937 1231,-937 1231,-937 1237,-937 1243,-943 1243,-949 1243,-949 1243,-1008 1243,-1008 1243,-1014 1237,-1020 1231,-1020\"/>\n<text text-anchor=\"middle\" x=\"1181.5\" y=\"-1004.8\" font-family=\"Helvetica,sans-Serif\" font-size=\"14.00\" fill=\"#000000\">sibsp &lt;= 0.5</text>\n<text text-anchor=\"middle\" x=\"1181.5\" y=\"-989.8\" font-family=\"Helvetica,sans-Serif\" font-size=\"14.00\" fill=\"#000000\">gini = 0.142</text>\n<text text-anchor=\"middle\" x=\"1181.5\" y=\"-974.8\" font-family=\"Helvetica,sans-Serif\" font-size=\"14.00\" fill=\"#000000\">samples = 13</text>\n<text text-anchor=\"middle\" x=\"1181.5\" y=\"-959.8\" font-family=\"Helvetica,sans-Serif\" font-size=\"14.00\" fill=\"#000000\">value = [1, 12]</text>\n<text text-anchor=\"middle\" x=\"1181.5\" y=\"-944.8\" font-family=\"Helvetica,sans-Serif\" font-size=\"14.00\" fill=\"#000000\">class = Survived</text>\n</g>\n<!-- 41&#45;&gt;59 -->\n<g id=\"edge59\" class=\"edge\">\n<title>41&#45;&gt;59</title>\n<path fill=\"none\" stroke=\"#000000\" d=\"M1083.9627,-1055.8796C1095.9521,-1046.368 1108.7887,-1036.1843 1121.0816,-1026.432\"/>\n<polygon fill=\"#000000\" stroke=\"#000000\" points=\"1123.4081,-1029.054 1129.0669,-1020.0969 1119.0575,-1023.5701 1123.4081,-1029.054\"/>\n</g>\n<!-- 43 -->\n<g id=\"node44\" class=\"node\">\n<title>43</title>\n<path fill=\"#76bbed\" stroke=\"#000000\" d=\"M931,-901C931,-901 832,-901 832,-901 826,-901 820,-895 820,-889 820,-889 820,-830 820,-830 820,-824 826,-818 832,-818 832,-818 931,-818 931,-818 937,-818 943,-824 943,-830 943,-830 943,-889 943,-889 943,-895 937,-901 931,-901\"/>\n<text text-anchor=\"middle\" x=\"881.5\" y=\"-885.8\" font-family=\"Helvetica,sans-Serif\" font-size=\"14.00\" fill=\"#000000\">fare &lt;= 7.762</text>\n<text text-anchor=\"middle\" x=\"881.5\" y=\"-870.8\" font-family=\"Helvetica,sans-Serif\" font-size=\"14.00\" fill=\"#000000\">gini = 0.36</text>\n<text text-anchor=\"middle\" x=\"881.5\" y=\"-855.8\" font-family=\"Helvetica,sans-Serif\" font-size=\"14.00\" fill=\"#000000\">samples = 17</text>\n<text text-anchor=\"middle\" x=\"881.5\" y=\"-840.8\" font-family=\"Helvetica,sans-Serif\" font-size=\"14.00\" fill=\"#000000\">value = [4, 13]</text>\n<text text-anchor=\"middle\" x=\"881.5\" y=\"-825.8\" font-family=\"Helvetica,sans-Serif\" font-size=\"14.00\" fill=\"#000000\">class = Survived</text>\n</g>\n<!-- 42&#45;&gt;43 -->\n<g id=\"edge43\" class=\"edge\">\n<title>42&#45;&gt;43</title>\n<path fill=\"none\" stroke=\"#000000\" d=\"M979.0373,-936.8796C967.0479,-927.368 954.2113,-917.1843 941.9184,-907.432\"/>\n<polygon fill=\"#000000\" stroke=\"#000000\" points=\"943.9425,-904.5701 933.9331,-901.0969 939.5919,-910.054 943.9425,-904.5701\"/>\n</g>\n<!-- 58 -->\n<g id=\"node59\" class=\"node\">\n<title>58</title>\n<path fill=\"#e58139\" stroke=\"#000000\" d=\"M1089.5,-893.5C1089.5,-893.5 973.5,-893.5 973.5,-893.5 967.5,-893.5 961.5,-887.5 961.5,-881.5 961.5,-881.5 961.5,-837.5 961.5,-837.5 961.5,-831.5 967.5,-825.5 973.5,-825.5 973.5,-825.5 1089.5,-825.5 1089.5,-825.5 1095.5,-825.5 1101.5,-831.5 1101.5,-837.5 1101.5,-837.5 1101.5,-881.5 1101.5,-881.5 1101.5,-887.5 1095.5,-893.5 1089.5,-893.5\"/>\n<text text-anchor=\"middle\" x=\"1031.5\" y=\"-878.3\" font-family=\"Helvetica,sans-Serif\" font-size=\"14.00\" fill=\"#000000\">gini = 0.0</text>\n<text text-anchor=\"middle\" x=\"1031.5\" y=\"-863.3\" font-family=\"Helvetica,sans-Serif\" font-size=\"14.00\" fill=\"#000000\">samples = 1</text>\n<text text-anchor=\"middle\" x=\"1031.5\" y=\"-848.3\" font-family=\"Helvetica,sans-Serif\" font-size=\"14.00\" fill=\"#000000\">value = [1, 0]</text>\n<text text-anchor=\"middle\" x=\"1031.5\" y=\"-833.3\" font-family=\"Helvetica,sans-Serif\" font-size=\"14.00\" fill=\"#000000\">class = Unsurvived</text>\n</g>\n<!-- 42&#45;&gt;58 -->\n<g id=\"edge58\" class=\"edge\">\n<title>42&#45;&gt;58</title>\n<path fill=\"none\" stroke=\"#000000\" d=\"M1031.5,-936.8796C1031.5,-926.2134 1031.5,-914.7021 1031.5,-903.9015\"/>\n<polygon fill=\"#000000\" stroke=\"#000000\" points=\"1035.0001,-903.8149 1031.5,-893.8149 1028.0001,-903.815 1035.0001,-903.8149\"/>\n</g>\n<!-- 44 -->\n<g id=\"node45\" class=\"node\">\n<title>44</title>\n<path fill=\"#5aade9\" stroke=\"#000000\" d=\"M856,-782C856,-782 757,-782 757,-782 751,-782 745,-776 745,-770 745,-770 745,-711 745,-711 745,-705 751,-699 757,-699 757,-699 856,-699 856,-699 862,-699 868,-705 868,-711 868,-711 868,-770 868,-770 868,-776 862,-782 856,-782\"/>\n<text text-anchor=\"middle\" x=\"806.5\" y=\"-766.8\" font-family=\"Helvetica,sans-Serif\" font-size=\"14.00\" fill=\"#000000\">fare &lt;= 7.742</text>\n<text text-anchor=\"middle\" x=\"806.5\" y=\"-751.8\" font-family=\"Helvetica,sans-Serif\" font-size=\"14.00\" fill=\"#000000\">gini = 0.245</text>\n<text text-anchor=\"middle\" x=\"806.5\" y=\"-736.8\" font-family=\"Helvetica,sans-Serif\" font-size=\"14.00\" fill=\"#000000\">samples = 14</text>\n<text text-anchor=\"middle\" x=\"806.5\" y=\"-721.8\" font-family=\"Helvetica,sans-Serif\" font-size=\"14.00\" fill=\"#000000\">value = [2, 12]</text>\n<text text-anchor=\"middle\" x=\"806.5\" y=\"-706.8\" font-family=\"Helvetica,sans-Serif\" font-size=\"14.00\" fill=\"#000000\">class = Survived</text>\n</g>\n<!-- 43&#45;&gt;44 -->\n<g id=\"edge44\" class=\"edge\">\n<title>43&#45;&gt;44</title>\n<path fill=\"none\" stroke=\"#000000\" d=\"M855.2686,-817.8796C849.7627,-809.1434 843.8994,-799.8404 838.2176,-790.8253\"/>\n<polygon fill=\"#000000\" stroke=\"#000000\" points=\"841.1363,-788.8919 832.8433,-782.2981 835.2143,-792.6242 841.1363,-788.8919\"/>\n</g>\n<!-- 53 -->\n<g id=\"node54\" class=\"node\">\n<title>53</title>\n<path fill=\"#f2c09c\" stroke=\"#000000\" d=\"M1014.5,-782C1014.5,-782 898.5,-782 898.5,-782 892.5,-782 886.5,-776 886.5,-770 886.5,-770 886.5,-711 886.5,-711 886.5,-705 892.5,-699 898.5,-699 898.5,-699 1014.5,-699 1014.5,-699 1020.5,-699 1026.5,-705 1026.5,-711 1026.5,-711 1026.5,-770 1026.5,-770 1026.5,-776 1020.5,-782 1014.5,-782\"/>\n<text text-anchor=\"middle\" x=\"956.5\" y=\"-766.8\" font-family=\"Helvetica,sans-Serif\" font-size=\"14.00\" fill=\"#000000\">age &lt;= 20.0</text>\n<text text-anchor=\"middle\" x=\"956.5\" y=\"-751.8\" font-family=\"Helvetica,sans-Serif\" font-size=\"14.00\" fill=\"#000000\">gini = 0.444</text>\n<text text-anchor=\"middle\" x=\"956.5\" y=\"-736.8\" font-family=\"Helvetica,sans-Serif\" font-size=\"14.00\" fill=\"#000000\">samples = 3</text>\n<text text-anchor=\"middle\" x=\"956.5\" y=\"-721.8\" font-family=\"Helvetica,sans-Serif\" font-size=\"14.00\" fill=\"#000000\">value = [2, 1]</text>\n<text text-anchor=\"middle\" x=\"956.5\" y=\"-706.8\" font-family=\"Helvetica,sans-Serif\" font-size=\"14.00\" fill=\"#000000\">class = Unsurvived</text>\n</g>\n<!-- 43&#45;&gt;53 -->\n<g id=\"edge53\" class=\"edge\">\n<title>43&#45;&gt;53</title>\n<path fill=\"none\" stroke=\"#000000\" d=\"M907.7314,-817.8796C913.2373,-809.1434 919.1006,-799.8404 924.7824,-790.8253\"/>\n<polygon fill=\"#000000\" stroke=\"#000000\" points=\"927.7857,-792.6242 930.1567,-782.2981 921.8637,-788.8919 927.7857,-792.6242\"/>\n</g>\n<!-- 45 -->\n<g id=\"node46\" class=\"node\">\n<title>45</title>\n<path fill=\"#399de5\" stroke=\"#000000\" d=\"M715,-655.5C715,-655.5 616,-655.5 616,-655.5 610,-655.5 604,-649.5 604,-643.5 604,-643.5 604,-599.5 604,-599.5 604,-593.5 610,-587.5 616,-587.5 616,-587.5 715,-587.5 715,-587.5 721,-587.5 727,-593.5 727,-599.5 727,-599.5 727,-643.5 727,-643.5 727,-649.5 721,-655.5 715,-655.5\"/>\n<text text-anchor=\"middle\" x=\"665.5\" y=\"-640.3\" font-family=\"Helvetica,sans-Serif\" font-size=\"14.00\" fill=\"#000000\">gini = 0.0</text>\n<text text-anchor=\"middle\" x=\"665.5\" y=\"-625.3\" font-family=\"Helvetica,sans-Serif\" font-size=\"14.00\" fill=\"#000000\">samples = 3</text>\n<text text-anchor=\"middle\" x=\"665.5\" y=\"-610.3\" font-family=\"Helvetica,sans-Serif\" font-size=\"14.00\" fill=\"#000000\">value = [0, 3]</text>\n<text text-anchor=\"middle\" x=\"665.5\" y=\"-595.3\" font-family=\"Helvetica,sans-Serif\" font-size=\"14.00\" fill=\"#000000\">class = Survived</text>\n</g>\n<!-- 44&#45;&gt;45 -->\n<g id=\"edge45\" class=\"edge\">\n<title>44&#45;&gt;45</title>\n<path fill=\"none\" stroke=\"#000000\" d=\"M757.185,-698.8796C743.244,-687.1138 728.0846,-674.3197 714.1812,-662.5855\"/>\n<polygon fill=\"#000000\" stroke=\"#000000\" points=\"716.0584,-659.5899 706.1589,-655.8149 711.5436,-664.9394 716.0584,-659.5899\"/>\n</g>\n<!-- 46 -->\n<g id=\"node47\" class=\"node\">\n<title>46</title>\n<path fill=\"#65b3eb\" stroke=\"#000000\" d=\"M856,-663C856,-663 757,-663 757,-663 751,-663 745,-657 745,-651 745,-651 745,-592 745,-592 745,-586 751,-580 757,-580 757,-580 856,-580 856,-580 862,-580 868,-586 868,-592 868,-592 868,-651 868,-651 868,-657 862,-663 856,-663\"/>\n<text text-anchor=\"middle\" x=\"806.5\" y=\"-647.8\" font-family=\"Helvetica,sans-Serif\" font-size=\"14.00\" fill=\"#000000\">age &lt;= 21.5</text>\n<text text-anchor=\"middle\" x=\"806.5\" y=\"-632.8\" font-family=\"Helvetica,sans-Serif\" font-size=\"14.00\" fill=\"#000000\">gini = 0.298</text>\n<text text-anchor=\"middle\" x=\"806.5\" y=\"-617.8\" font-family=\"Helvetica,sans-Serif\" font-size=\"14.00\" fill=\"#000000\">samples = 11</text>\n<text text-anchor=\"middle\" x=\"806.5\" y=\"-602.8\" font-family=\"Helvetica,sans-Serif\" font-size=\"14.00\" fill=\"#000000\">value = [2, 9]</text>\n<text text-anchor=\"middle\" x=\"806.5\" y=\"-587.8\" font-family=\"Helvetica,sans-Serif\" font-size=\"14.00\" fill=\"#000000\">class = Survived</text>\n</g>\n<!-- 44&#45;&gt;46 -->\n<g id=\"edge46\" class=\"edge\">\n<title>44&#45;&gt;46</title>\n<path fill=\"none\" stroke=\"#000000\" d=\"M806.5,-698.8796C806.5,-690.6838 806.5,-681.9891 806.5,-673.5013\"/>\n<polygon fill=\"#000000\" stroke=\"#000000\" points=\"810.0001,-673.298 806.5,-663.2981 803.0001,-673.2981 810.0001,-673.298\"/>\n</g>\n<!-- 47 -->\n<g id=\"node48\" class=\"node\">\n<title>47</title>\n<path fill=\"#ffffff\" stroke=\"#000000\" d=\"M794.5,-544C794.5,-544 678.5,-544 678.5,-544 672.5,-544 666.5,-538 666.5,-532 666.5,-532 666.5,-473 666.5,-473 666.5,-467 672.5,-461 678.5,-461 678.5,-461 794.5,-461 794.5,-461 800.5,-461 806.5,-467 806.5,-473 806.5,-473 806.5,-532 806.5,-532 806.5,-538 800.5,-544 794.5,-544\"/>\n<text text-anchor=\"middle\" x=\"736.5\" y=\"-528.8\" font-family=\"Helvetica,sans-Serif\" font-size=\"14.00\" fill=\"#000000\">age &lt;= 18.5</text>\n<text text-anchor=\"middle\" x=\"736.5\" y=\"-513.8\" font-family=\"Helvetica,sans-Serif\" font-size=\"14.00\" fill=\"#000000\">gini = 0.5</text>\n<text text-anchor=\"middle\" x=\"736.5\" y=\"-498.8\" font-family=\"Helvetica,sans-Serif\" font-size=\"14.00\" fill=\"#000000\">samples = 2</text>\n<text text-anchor=\"middle\" x=\"736.5\" y=\"-483.8\" font-family=\"Helvetica,sans-Serif\" font-size=\"14.00\" fill=\"#000000\">value = [1, 1]</text>\n<text text-anchor=\"middle\" x=\"736.5\" y=\"-468.8\" font-family=\"Helvetica,sans-Serif\" font-size=\"14.00\" fill=\"#000000\">class = Unsurvived</text>\n</g>\n<!-- 46&#45;&gt;47 -->\n<g id=\"edge47\" class=\"edge\">\n<title>46&#45;&gt;47</title>\n<path fill=\"none\" stroke=\"#000000\" d=\"M782.0174,-579.8796C776.9315,-571.2335 771.5189,-562.0322 766.2672,-553.1042\"/>\n<polygon fill=\"#000000\" stroke=\"#000000\" points=\"769.1741,-551.1428 761.0871,-544.2981 763.1406,-554.692 769.1741,-551.1428\"/>\n</g>\n<!-- 50 -->\n<g id=\"node51\" class=\"node\">\n<title>50</title>\n<path fill=\"#52a9e8\" stroke=\"#000000\" d=\"M936,-544C936,-544 837,-544 837,-544 831,-544 825,-538 825,-532 825,-532 825,-473 825,-473 825,-467 831,-461 837,-461 837,-461 936,-461 936,-461 942,-461 948,-467 948,-473 948,-473 948,-532 948,-532 948,-538 942,-544 936,-544\"/>\n<text text-anchor=\"middle\" x=\"886.5\" y=\"-528.8\" font-family=\"Helvetica,sans-Serif\" font-size=\"14.00\" fill=\"#000000\">age &lt;= 25.85</text>\n<text text-anchor=\"middle\" x=\"886.5\" y=\"-513.8\" font-family=\"Helvetica,sans-Serif\" font-size=\"14.00\" fill=\"#000000\">gini = 0.198</text>\n<text text-anchor=\"middle\" x=\"886.5\" y=\"-498.8\" font-family=\"Helvetica,sans-Serif\" font-size=\"14.00\" fill=\"#000000\">samples = 9</text>\n<text text-anchor=\"middle\" x=\"886.5\" y=\"-483.8\" font-family=\"Helvetica,sans-Serif\" font-size=\"14.00\" fill=\"#000000\">value = [1, 8]</text>\n<text text-anchor=\"middle\" x=\"886.5\" y=\"-468.8\" font-family=\"Helvetica,sans-Serif\" font-size=\"14.00\" fill=\"#000000\">class = Survived</text>\n</g>\n<!-- 46&#45;&gt;50 -->\n<g id=\"edge50\" class=\"edge\">\n<title>46&#45;&gt;50</title>\n<path fill=\"none\" stroke=\"#000000\" d=\"M834.4801,-579.8796C840.3531,-571.1434 846.6073,-561.8404 852.6679,-552.8253\"/>\n<polygon fill=\"#000000\" stroke=\"#000000\" points=\"855.7259,-554.5498 858.4005,-544.2981 849.9166,-550.6444 855.7259,-554.5498\"/>\n</g>\n<!-- 48 -->\n<g id=\"node49\" class=\"node\">\n<title>48</title>\n<path fill=\"#399de5\" stroke=\"#000000\" d=\"M636,-417.5C636,-417.5 537,-417.5 537,-417.5 531,-417.5 525,-411.5 525,-405.5 525,-405.5 525,-361.5 525,-361.5 525,-355.5 531,-349.5 537,-349.5 537,-349.5 636,-349.5 636,-349.5 642,-349.5 648,-355.5 648,-361.5 648,-361.5 648,-405.5 648,-405.5 648,-411.5 642,-417.5 636,-417.5\"/>\n<text text-anchor=\"middle\" x=\"586.5\" y=\"-402.3\" font-family=\"Helvetica,sans-Serif\" font-size=\"14.00\" fill=\"#000000\">gini = 0.0</text>\n<text text-anchor=\"middle\" x=\"586.5\" y=\"-387.3\" font-family=\"Helvetica,sans-Serif\" font-size=\"14.00\" fill=\"#000000\">samples = 1</text>\n<text text-anchor=\"middle\" x=\"586.5\" y=\"-372.3\" font-family=\"Helvetica,sans-Serif\" font-size=\"14.00\" fill=\"#000000\">value = [0, 1]</text>\n<text text-anchor=\"middle\" x=\"586.5\" y=\"-357.3\" font-family=\"Helvetica,sans-Serif\" font-size=\"14.00\" fill=\"#000000\">class = Survived</text>\n</g>\n<!-- 47&#45;&gt;48 -->\n<g id=\"edge48\" class=\"edge\">\n<title>47&#45;&gt;48</title>\n<path fill=\"none\" stroke=\"#000000\" d=\"M684.0373,-460.8796C669.0678,-449.0038 652.7778,-436.0804 637.8741,-424.2568\"/>\n<polygon fill=\"#000000\" stroke=\"#000000\" points=\"639.7635,-421.2881 629.7541,-417.8149 635.413,-426.772 639.7635,-421.2881\"/>\n</g>\n<!-- 49 -->\n<g id=\"node50\" class=\"node\">\n<title>49</title>\n<path fill=\"#e58139\" stroke=\"#000000\" d=\"M794.5,-417.5C794.5,-417.5 678.5,-417.5 678.5,-417.5 672.5,-417.5 666.5,-411.5 666.5,-405.5 666.5,-405.5 666.5,-361.5 666.5,-361.5 666.5,-355.5 672.5,-349.5 678.5,-349.5 678.5,-349.5 794.5,-349.5 794.5,-349.5 800.5,-349.5 806.5,-355.5 806.5,-361.5 806.5,-361.5 806.5,-405.5 806.5,-405.5 806.5,-411.5 800.5,-417.5 794.5,-417.5\"/>\n<text text-anchor=\"middle\" x=\"736.5\" y=\"-402.3\" font-family=\"Helvetica,sans-Serif\" font-size=\"14.00\" fill=\"#000000\">gini = 0.0</text>\n<text text-anchor=\"middle\" x=\"736.5\" y=\"-387.3\" font-family=\"Helvetica,sans-Serif\" font-size=\"14.00\" fill=\"#000000\">samples = 1</text>\n<text text-anchor=\"middle\" x=\"736.5\" y=\"-372.3\" font-family=\"Helvetica,sans-Serif\" font-size=\"14.00\" fill=\"#000000\">value = [1, 0]</text>\n<text text-anchor=\"middle\" x=\"736.5\" y=\"-357.3\" font-family=\"Helvetica,sans-Serif\" font-size=\"14.00\" fill=\"#000000\">class = Unsurvived</text>\n</g>\n<!-- 47&#45;&gt;49 -->\n<g id=\"edge49\" class=\"edge\">\n<title>47&#45;&gt;49</title>\n<path fill=\"none\" stroke=\"#000000\" d=\"M736.5,-460.8796C736.5,-450.2134 736.5,-438.7021 736.5,-427.9015\"/>\n<polygon fill=\"#000000\" stroke=\"#000000\" points=\"740.0001,-427.8149 736.5,-417.8149 733.0001,-427.815 740.0001,-427.8149\"/>\n</g>\n<!-- 51 -->\n<g id=\"node52\" class=\"node\">\n<title>51</title>\n<path fill=\"#399de5\" stroke=\"#000000\" d=\"M936,-417.5C936,-417.5 837,-417.5 837,-417.5 831,-417.5 825,-411.5 825,-405.5 825,-405.5 825,-361.5 825,-361.5 825,-355.5 831,-349.5 837,-349.5 837,-349.5 936,-349.5 936,-349.5 942,-349.5 948,-355.5 948,-361.5 948,-361.5 948,-405.5 948,-405.5 948,-411.5 942,-417.5 936,-417.5\"/>\n<text text-anchor=\"middle\" x=\"886.5\" y=\"-402.3\" font-family=\"Helvetica,sans-Serif\" font-size=\"14.00\" fill=\"#000000\">gini = 0.0</text>\n<text text-anchor=\"middle\" x=\"886.5\" y=\"-387.3\" font-family=\"Helvetica,sans-Serif\" font-size=\"14.00\" fill=\"#000000\">samples = 2</text>\n<text text-anchor=\"middle\" x=\"886.5\" y=\"-372.3\" font-family=\"Helvetica,sans-Serif\" font-size=\"14.00\" fill=\"#000000\">value = [0, 2]</text>\n<text text-anchor=\"middle\" x=\"886.5\" y=\"-357.3\" font-family=\"Helvetica,sans-Serif\" font-size=\"14.00\" fill=\"#000000\">class = Survived</text>\n</g>\n<!-- 50&#45;&gt;51 -->\n<g id=\"edge51\" class=\"edge\">\n<title>50&#45;&gt;51</title>\n<path fill=\"none\" stroke=\"#000000\" d=\"M886.5,-460.8796C886.5,-450.2134 886.5,-438.7021 886.5,-427.9015\"/>\n<polygon fill=\"#000000\" stroke=\"#000000\" points=\"890.0001,-427.8149 886.5,-417.8149 883.0001,-427.815 890.0001,-427.8149\"/>\n</g>\n<!-- 52 -->\n<g id=\"node53\" class=\"node\">\n<title>52</title>\n<path fill=\"#5aade9\" stroke=\"#000000\" d=\"M1077,-417.5C1077,-417.5 978,-417.5 978,-417.5 972,-417.5 966,-411.5 966,-405.5 966,-405.5 966,-361.5 966,-361.5 966,-355.5 972,-349.5 978,-349.5 978,-349.5 1077,-349.5 1077,-349.5 1083,-349.5 1089,-355.5 1089,-361.5 1089,-361.5 1089,-405.5 1089,-405.5 1089,-411.5 1083,-417.5 1077,-417.5\"/>\n<text text-anchor=\"middle\" x=\"1027.5\" y=\"-402.3\" font-family=\"Helvetica,sans-Serif\" font-size=\"14.00\" fill=\"#000000\">gini = 0.245</text>\n<text text-anchor=\"middle\" x=\"1027.5\" y=\"-387.3\" font-family=\"Helvetica,sans-Serif\" font-size=\"14.00\" fill=\"#000000\">samples = 7</text>\n<text text-anchor=\"middle\" x=\"1027.5\" y=\"-372.3\" font-family=\"Helvetica,sans-Serif\" font-size=\"14.00\" fill=\"#000000\">value = [1, 6]</text>\n<text text-anchor=\"middle\" x=\"1027.5\" y=\"-357.3\" font-family=\"Helvetica,sans-Serif\" font-size=\"14.00\" fill=\"#000000\">class = Survived</text>\n</g>\n<!-- 50&#45;&gt;52 -->\n<g id=\"edge52\" class=\"edge\">\n<title>50&#45;&gt;52</title>\n<path fill=\"none\" stroke=\"#000000\" d=\"M935.815,-460.8796C949.756,-449.1138 964.9154,-436.3197 978.8188,-424.5855\"/>\n<polygon fill=\"#000000\" stroke=\"#000000\" points=\"981.4564,-426.9394 986.8411,-417.8149 976.9416,-421.5899 981.4564,-426.9394\"/>\n</g>\n<!-- 54 -->\n<g id=\"node55\" class=\"node\">\n<title>54</title>\n<path fill=\"#e58139\" stroke=\"#000000\" d=\"M1014.5,-655.5C1014.5,-655.5 898.5,-655.5 898.5,-655.5 892.5,-655.5 886.5,-649.5 886.5,-643.5 886.5,-643.5 886.5,-599.5 886.5,-599.5 886.5,-593.5 892.5,-587.5 898.5,-587.5 898.5,-587.5 1014.5,-587.5 1014.5,-587.5 1020.5,-587.5 1026.5,-593.5 1026.5,-599.5 1026.5,-599.5 1026.5,-643.5 1026.5,-643.5 1026.5,-649.5 1020.5,-655.5 1014.5,-655.5\"/>\n<text text-anchor=\"middle\" x=\"956.5\" y=\"-640.3\" font-family=\"Helvetica,sans-Serif\" font-size=\"14.00\" fill=\"#000000\">gini = 0.0</text>\n<text text-anchor=\"middle\" x=\"956.5\" y=\"-625.3\" font-family=\"Helvetica,sans-Serif\" font-size=\"14.00\" fill=\"#000000\">samples = 1</text>\n<text text-anchor=\"middle\" x=\"956.5\" y=\"-610.3\" font-family=\"Helvetica,sans-Serif\" font-size=\"14.00\" fill=\"#000000\">value = [1, 0]</text>\n<text text-anchor=\"middle\" x=\"956.5\" y=\"-595.3\" font-family=\"Helvetica,sans-Serif\" font-size=\"14.00\" fill=\"#000000\">class = Unsurvived</text>\n</g>\n<!-- 53&#45;&gt;54 -->\n<g id=\"edge54\" class=\"edge\">\n<title>53&#45;&gt;54</title>\n<path fill=\"none\" stroke=\"#000000\" d=\"M956.5,-698.8796C956.5,-688.2134 956.5,-676.7021 956.5,-665.9015\"/>\n<polygon fill=\"#000000\" stroke=\"#000000\" points=\"960.0001,-665.8149 956.5,-655.8149 953.0001,-665.815 960.0001,-665.8149\"/>\n</g>\n<!-- 55 -->\n<g id=\"node56\" class=\"node\">\n<title>55</title>\n<path fill=\"#ffffff\" stroke=\"#000000\" d=\"M1172.5,-663C1172.5,-663 1056.5,-663 1056.5,-663 1050.5,-663 1044.5,-657 1044.5,-651 1044.5,-651 1044.5,-592 1044.5,-592 1044.5,-586 1050.5,-580 1056.5,-580 1056.5,-580 1172.5,-580 1172.5,-580 1178.5,-580 1184.5,-586 1184.5,-592 1184.5,-592 1184.5,-651 1184.5,-651 1184.5,-657 1178.5,-663 1172.5,-663\"/>\n<text text-anchor=\"middle\" x=\"1114.5\" y=\"-647.8\" font-family=\"Helvetica,sans-Serif\" font-size=\"14.00\" fill=\"#000000\">age &lt;= 23.5</text>\n<text text-anchor=\"middle\" x=\"1114.5\" y=\"-632.8\" font-family=\"Helvetica,sans-Serif\" font-size=\"14.00\" fill=\"#000000\">gini = 0.5</text>\n<text text-anchor=\"middle\" x=\"1114.5\" y=\"-617.8\" font-family=\"Helvetica,sans-Serif\" font-size=\"14.00\" fill=\"#000000\">samples = 2</text>\n<text text-anchor=\"middle\" x=\"1114.5\" y=\"-602.8\" font-family=\"Helvetica,sans-Serif\" font-size=\"14.00\" fill=\"#000000\">value = [1, 1]</text>\n<text text-anchor=\"middle\" x=\"1114.5\" y=\"-587.8\" font-family=\"Helvetica,sans-Serif\" font-size=\"14.00\" fill=\"#000000\">class = Unsurvived</text>\n</g>\n<!-- 53&#45;&gt;55 -->\n<g id=\"edge55\" class=\"edge\">\n<title>53&#45;&gt;55</title>\n<path fill=\"none\" stroke=\"#000000\" d=\"M1011.7607,-698.8796C1024.5099,-689.2774 1038.1683,-678.9903 1051.2291,-669.1534\"/>\n<polygon fill=\"#000000\" stroke=\"#000000\" points=\"1053.3883,-671.9089 1059.2705,-663.0969 1049.1769,-666.3174 1053.3883,-671.9089\"/>\n</g>\n<!-- 56 -->\n<g id=\"node57\" class=\"node\">\n<title>56</title>\n<path fill=\"#399de5\" stroke=\"#000000\" d=\"M1085,-536.5C1085,-536.5 986,-536.5 986,-536.5 980,-536.5 974,-530.5 974,-524.5 974,-524.5 974,-480.5 974,-480.5 974,-474.5 980,-468.5 986,-468.5 986,-468.5 1085,-468.5 1085,-468.5 1091,-468.5 1097,-474.5 1097,-480.5 1097,-480.5 1097,-524.5 1097,-524.5 1097,-530.5 1091,-536.5 1085,-536.5\"/>\n<text text-anchor=\"middle\" x=\"1035.5\" y=\"-521.3\" font-family=\"Helvetica,sans-Serif\" font-size=\"14.00\" fill=\"#000000\">gini = 0.0</text>\n<text text-anchor=\"middle\" x=\"1035.5\" y=\"-506.3\" font-family=\"Helvetica,sans-Serif\" font-size=\"14.00\" fill=\"#000000\">samples = 1</text>\n<text text-anchor=\"middle\" x=\"1035.5\" y=\"-491.3\" font-family=\"Helvetica,sans-Serif\" font-size=\"14.00\" fill=\"#000000\">value = [0, 1]</text>\n<text text-anchor=\"middle\" x=\"1035.5\" y=\"-476.3\" font-family=\"Helvetica,sans-Serif\" font-size=\"14.00\" fill=\"#000000\">class = Survived</text>\n</g>\n<!-- 55&#45;&gt;56 -->\n<g id=\"edge56\" class=\"edge\">\n<title>55&#45;&gt;56</title>\n<path fill=\"none\" stroke=\"#000000\" d=\"M1086.8696,-579.8796C1079.4237,-568.6636 1071.3575,-556.5131 1063.8718,-545.2372\"/>\n<polygon fill=\"#000000\" stroke=\"#000000\" points=\"1066.7273,-543.2104 1058.2805,-536.8149 1060.8954,-547.082 1066.7273,-543.2104\"/>\n</g>\n<!-- 57 -->\n<g id=\"node58\" class=\"node\">\n<title>57</title>\n<path fill=\"#e58139\" stroke=\"#000000\" d=\"M1243.5,-536.5C1243.5,-536.5 1127.5,-536.5 1127.5,-536.5 1121.5,-536.5 1115.5,-530.5 1115.5,-524.5 1115.5,-524.5 1115.5,-480.5 1115.5,-480.5 1115.5,-474.5 1121.5,-468.5 1127.5,-468.5 1127.5,-468.5 1243.5,-468.5 1243.5,-468.5 1249.5,-468.5 1255.5,-474.5 1255.5,-480.5 1255.5,-480.5 1255.5,-524.5 1255.5,-524.5 1255.5,-530.5 1249.5,-536.5 1243.5,-536.5\"/>\n<text text-anchor=\"middle\" x=\"1185.5\" y=\"-521.3\" font-family=\"Helvetica,sans-Serif\" font-size=\"14.00\" fill=\"#000000\">gini = 0.0</text>\n<text text-anchor=\"middle\" x=\"1185.5\" y=\"-506.3\" font-family=\"Helvetica,sans-Serif\" font-size=\"14.00\" fill=\"#000000\">samples = 1</text>\n<text text-anchor=\"middle\" x=\"1185.5\" y=\"-491.3\" font-family=\"Helvetica,sans-Serif\" font-size=\"14.00\" fill=\"#000000\">value = [1, 0]</text>\n<text text-anchor=\"middle\" x=\"1185.5\" y=\"-476.3\" font-family=\"Helvetica,sans-Serif\" font-size=\"14.00\" fill=\"#000000\">class = Unsurvived</text>\n</g>\n<!-- 55&#45;&gt;57 -->\n<g id=\"edge57\" class=\"edge\">\n<title>55&#45;&gt;57</title>\n<path fill=\"none\" stroke=\"#000000\" d=\"M1139.3324,-579.8796C1145.9587,-568.7735 1153.1316,-556.7513 1159.8033,-545.5691\"/>\n<polygon fill=\"#000000\" stroke=\"#000000\" points=\"1162.9083,-547.1959 1165.0264,-536.8149 1156.8969,-543.6093 1162.9083,-547.1959\"/>\n</g>\n<!-- 60 -->\n<g id=\"node61\" class=\"node\">\n<title>60</title>\n<path fill=\"#399de5\" stroke=\"#000000\" d=\"M1231,-893.5C1231,-893.5 1132,-893.5 1132,-893.5 1126,-893.5 1120,-887.5 1120,-881.5 1120,-881.5 1120,-837.5 1120,-837.5 1120,-831.5 1126,-825.5 1132,-825.5 1132,-825.5 1231,-825.5 1231,-825.5 1237,-825.5 1243,-831.5 1243,-837.5 1243,-837.5 1243,-881.5 1243,-881.5 1243,-887.5 1237,-893.5 1231,-893.5\"/>\n<text text-anchor=\"middle\" x=\"1181.5\" y=\"-878.3\" font-family=\"Helvetica,sans-Serif\" font-size=\"14.00\" fill=\"#000000\">gini = 0.0</text>\n<text text-anchor=\"middle\" x=\"1181.5\" y=\"-863.3\" font-family=\"Helvetica,sans-Serif\" font-size=\"14.00\" fill=\"#000000\">samples = 10</text>\n<text text-anchor=\"middle\" x=\"1181.5\" y=\"-848.3\" font-family=\"Helvetica,sans-Serif\" font-size=\"14.00\" fill=\"#000000\">value = [0, 10]</text>\n<text text-anchor=\"middle\" x=\"1181.5\" y=\"-833.3\" font-family=\"Helvetica,sans-Serif\" font-size=\"14.00\" fill=\"#000000\">class = Survived</text>\n</g>\n<!-- 59&#45;&gt;60 -->\n<g id=\"edge60\" class=\"edge\">\n<title>59&#45;&gt;60</title>\n<path fill=\"none\" stroke=\"#000000\" d=\"M1181.5,-936.8796C1181.5,-926.2134 1181.5,-914.7021 1181.5,-903.9015\"/>\n<polygon fill=\"#000000\" stroke=\"#000000\" points=\"1185.0001,-903.8149 1181.5,-893.8149 1178.0001,-903.815 1185.0001,-903.8149\"/>\n</g>\n<!-- 61 -->\n<g id=\"node62\" class=\"node\">\n<title>61</title>\n<path fill=\"#9ccef2\" stroke=\"#000000\" d=\"M1372,-901C1372,-901 1273,-901 1273,-901 1267,-901 1261,-895 1261,-889 1261,-889 1261,-830 1261,-830 1261,-824 1267,-818 1273,-818 1273,-818 1372,-818 1372,-818 1378,-818 1384,-824 1384,-830 1384,-830 1384,-889 1384,-889 1384,-895 1378,-901 1372,-901\"/>\n<text text-anchor=\"middle\" x=\"1322.5\" y=\"-885.8\" font-family=\"Helvetica,sans-Serif\" font-size=\"14.00\" fill=\"#000000\">age &lt;= 22.0</text>\n<text text-anchor=\"middle\" x=\"1322.5\" y=\"-870.8\" font-family=\"Helvetica,sans-Serif\" font-size=\"14.00\" fill=\"#000000\">gini = 0.444</text>\n<text text-anchor=\"middle\" x=\"1322.5\" y=\"-855.8\" font-family=\"Helvetica,sans-Serif\" font-size=\"14.00\" fill=\"#000000\">samples = 3</text>\n<text text-anchor=\"middle\" x=\"1322.5\" y=\"-840.8\" font-family=\"Helvetica,sans-Serif\" font-size=\"14.00\" fill=\"#000000\">value = [1, 2]</text>\n<text text-anchor=\"middle\" x=\"1322.5\" y=\"-825.8\" font-family=\"Helvetica,sans-Serif\" font-size=\"14.00\" fill=\"#000000\">class = Survived</text>\n</g>\n<!-- 59&#45;&gt;61 -->\n<g id=\"edge61\" class=\"edge\">\n<title>59&#45;&gt;61</title>\n<path fill=\"none\" stroke=\"#000000\" d=\"M1230.815,-936.8796C1241.9132,-927.513 1253.7835,-917.4948 1265.1777,-907.8784\"/>\n<polygon fill=\"#000000\" stroke=\"#000000\" points=\"1267.5899,-910.4225 1272.9746,-901.2981 1263.075,-905.0731 1267.5899,-910.4225\"/>\n</g>\n<!-- 62 -->\n<g id=\"node63\" class=\"node\">\n<title>62</title>\n<path fill=\"#399de5\" stroke=\"#000000\" d=\"M1297,-774.5C1297,-774.5 1198,-774.5 1198,-774.5 1192,-774.5 1186,-768.5 1186,-762.5 1186,-762.5 1186,-718.5 1186,-718.5 1186,-712.5 1192,-706.5 1198,-706.5 1198,-706.5 1297,-706.5 1297,-706.5 1303,-706.5 1309,-712.5 1309,-718.5 1309,-718.5 1309,-762.5 1309,-762.5 1309,-768.5 1303,-774.5 1297,-774.5\"/>\n<text text-anchor=\"middle\" x=\"1247.5\" y=\"-759.3\" font-family=\"Helvetica,sans-Serif\" font-size=\"14.00\" fill=\"#000000\">gini = 0.0</text>\n<text text-anchor=\"middle\" x=\"1247.5\" y=\"-744.3\" font-family=\"Helvetica,sans-Serif\" font-size=\"14.00\" fill=\"#000000\">samples = 2</text>\n<text text-anchor=\"middle\" x=\"1247.5\" y=\"-729.3\" font-family=\"Helvetica,sans-Serif\" font-size=\"14.00\" fill=\"#000000\">value = [0, 2]</text>\n<text text-anchor=\"middle\" x=\"1247.5\" y=\"-714.3\" font-family=\"Helvetica,sans-Serif\" font-size=\"14.00\" fill=\"#000000\">class = Survived</text>\n</g>\n<!-- 61&#45;&gt;62 -->\n<g id=\"edge62\" class=\"edge\">\n<title>61&#45;&gt;62</title>\n<path fill=\"none\" stroke=\"#000000\" d=\"M1296.2686,-817.8796C1289.269,-806.7735 1281.692,-794.7513 1274.6444,-783.5691\"/>\n<polygon fill=\"#000000\" stroke=\"#000000\" points=\"1277.42,-781.4087 1269.1271,-774.8149 1271.498,-785.1411 1277.42,-781.4087\"/>\n</g>\n<!-- 63 -->\n<g id=\"node64\" class=\"node\">\n<title>63</title>\n<path fill=\"#e58139\" stroke=\"#000000\" d=\"M1455.5,-774.5C1455.5,-774.5 1339.5,-774.5 1339.5,-774.5 1333.5,-774.5 1327.5,-768.5 1327.5,-762.5 1327.5,-762.5 1327.5,-718.5 1327.5,-718.5 1327.5,-712.5 1333.5,-706.5 1339.5,-706.5 1339.5,-706.5 1455.5,-706.5 1455.5,-706.5 1461.5,-706.5 1467.5,-712.5 1467.5,-718.5 1467.5,-718.5 1467.5,-762.5 1467.5,-762.5 1467.5,-768.5 1461.5,-774.5 1455.5,-774.5\"/>\n<text text-anchor=\"middle\" x=\"1397.5\" y=\"-759.3\" font-family=\"Helvetica,sans-Serif\" font-size=\"14.00\" fill=\"#000000\">gini = 0.0</text>\n<text text-anchor=\"middle\" x=\"1397.5\" y=\"-744.3\" font-family=\"Helvetica,sans-Serif\" font-size=\"14.00\" fill=\"#000000\">samples = 1</text>\n<text text-anchor=\"middle\" x=\"1397.5\" y=\"-729.3\" font-family=\"Helvetica,sans-Serif\" font-size=\"14.00\" fill=\"#000000\">value = [1, 0]</text>\n<text text-anchor=\"middle\" x=\"1397.5\" y=\"-714.3\" font-family=\"Helvetica,sans-Serif\" font-size=\"14.00\" fill=\"#000000\">class = Unsurvived</text>\n</g>\n<!-- 61&#45;&gt;63 -->\n<g id=\"edge63\" class=\"edge\">\n<title>61&#45;&gt;63</title>\n<path fill=\"none\" stroke=\"#000000\" d=\"M1348.7314,-817.8796C1355.731,-806.7735 1363.308,-794.7513 1370.3556,-783.5691\"/>\n<polygon fill=\"#000000\" stroke=\"#000000\" points=\"1373.502,-785.1411 1375.8729,-774.8149 1367.58,-781.4087 1373.502,-785.1411\"/>\n</g>\n<!-- 66 -->\n<g id=\"node67\" class=\"node\">\n<title>66</title>\n<path fill=\"#e9965a\" stroke=\"#000000\" d=\"M1511.5,-1615C1511.5,-1615 1395.5,-1615 1395.5,-1615 1389.5,-1615 1383.5,-1609 1383.5,-1603 1383.5,-1603 1383.5,-1544 1383.5,-1544 1383.5,-1538 1389.5,-1532 1395.5,-1532 1395.5,-1532 1511.5,-1532 1511.5,-1532 1517.5,-1532 1523.5,-1538 1523.5,-1544 1523.5,-1544 1523.5,-1603 1523.5,-1603 1523.5,-1609 1517.5,-1615 1511.5,-1615\"/>\n<text text-anchor=\"middle\" x=\"1453.5\" y=\"-1599.8\" font-family=\"Helvetica,sans-Serif\" font-size=\"14.00\" fill=\"#000000\">age &lt;= 30.5</text>\n<text text-anchor=\"middle\" x=\"1453.5\" y=\"-1584.8\" font-family=\"Helvetica,sans-Serif\" font-size=\"14.00\" fill=\"#000000\">gini = 0.245</text>\n<text text-anchor=\"middle\" x=\"1453.5\" y=\"-1569.8\" font-family=\"Helvetica,sans-Serif\" font-size=\"14.00\" fill=\"#000000\">samples = 14</text>\n<text text-anchor=\"middle\" x=\"1453.5\" y=\"-1554.8\" font-family=\"Helvetica,sans-Serif\" font-size=\"14.00\" fill=\"#000000\">value = [12, 2]</text>\n<text text-anchor=\"middle\" x=\"1453.5\" y=\"-1539.8\" font-family=\"Helvetica,sans-Serif\" font-size=\"14.00\" fill=\"#000000\">class = Unsurvived</text>\n</g>\n<!-- 65&#45;&gt;66 -->\n<g id=\"edge66\" class=\"edge\">\n<title>65&#45;&gt;66</title>\n<path fill=\"none\" stroke=\"#000000\" d=\"M1453.5,-1650.8796C1453.5,-1642.6838 1453.5,-1633.9891 1453.5,-1625.5013\"/>\n<polygon fill=\"#000000\" stroke=\"#000000\" points=\"1457.0001,-1625.298 1453.5,-1615.2981 1450.0001,-1625.2981 1457.0001,-1625.298\"/>\n</g>\n<!-- 73 -->\n<g id=\"node74\" class=\"node\">\n<title>73</title>\n<path fill=\"#98ccf2\" stroke=\"#000000\" d=\"M1653,-1615C1653,-1615 1554,-1615 1554,-1615 1548,-1615 1542,-1609 1542,-1603 1542,-1603 1542,-1544 1542,-1544 1542,-1538 1548,-1532 1554,-1532 1554,-1532 1653,-1532 1653,-1532 1659,-1532 1665,-1538 1665,-1544 1665,-1544 1665,-1603 1665,-1603 1665,-1609 1659,-1615 1653,-1615\"/>\n<text text-anchor=\"middle\" x=\"1603.5\" y=\"-1599.8\" font-family=\"Helvetica,sans-Serif\" font-size=\"14.00\" fill=\"#000000\">age &lt;= 21.0</text>\n<text text-anchor=\"middle\" x=\"1603.5\" y=\"-1584.8\" font-family=\"Helvetica,sans-Serif\" font-size=\"14.00\" fill=\"#000000\">gini = 0.439</text>\n<text text-anchor=\"middle\" x=\"1603.5\" y=\"-1569.8\" font-family=\"Helvetica,sans-Serif\" font-size=\"14.00\" fill=\"#000000\">samples = 40</text>\n<text text-anchor=\"middle\" x=\"1603.5\" y=\"-1554.8\" font-family=\"Helvetica,sans-Serif\" font-size=\"14.00\" fill=\"#000000\">value = [13, 27]</text>\n<text text-anchor=\"middle\" x=\"1603.5\" y=\"-1539.8\" font-family=\"Helvetica,sans-Serif\" font-size=\"14.00\" fill=\"#000000\">class = Survived</text>\n</g>\n<!-- 65&#45;&gt;73 -->\n<g id=\"edge73\" class=\"edge\">\n<title>65&#45;&gt;73</title>\n<path fill=\"none\" stroke=\"#000000\" d=\"M1505.9627,-1650.8796C1517.9521,-1641.368 1530.7887,-1631.1843 1543.0816,-1621.432\"/>\n<polygon fill=\"#000000\" stroke=\"#000000\" points=\"1545.4081,-1624.054 1551.0669,-1615.0969 1541.0575,-1618.5701 1545.4081,-1624.054\"/>\n</g>\n<!-- 67 -->\n<g id=\"node68\" class=\"node\">\n<title>67</title>\n<path fill=\"#e78c49\" stroke=\"#000000\" d=\"M1361.5,-1496C1361.5,-1496 1245.5,-1496 1245.5,-1496 1239.5,-1496 1233.5,-1490 1233.5,-1484 1233.5,-1484 1233.5,-1425 1233.5,-1425 1233.5,-1419 1239.5,-1413 1245.5,-1413 1245.5,-1413 1361.5,-1413 1361.5,-1413 1367.5,-1413 1373.5,-1419 1373.5,-1425 1373.5,-1425 1373.5,-1484 1373.5,-1484 1373.5,-1490 1367.5,-1496 1361.5,-1496\"/>\n<text text-anchor=\"middle\" x=\"1303.5\" y=\"-1480.8\" font-family=\"Helvetica,sans-Serif\" font-size=\"14.00\" fill=\"#000000\">age &lt;= 19.0</text>\n<text text-anchor=\"middle\" x=\"1303.5\" y=\"-1465.8\" font-family=\"Helvetica,sans-Serif\" font-size=\"14.00\" fill=\"#000000\">gini = 0.142</text>\n<text text-anchor=\"middle\" x=\"1303.5\" y=\"-1450.8\" font-family=\"Helvetica,sans-Serif\" font-size=\"14.00\" fill=\"#000000\">samples = 13</text>\n<text text-anchor=\"middle\" x=\"1303.5\" y=\"-1435.8\" font-family=\"Helvetica,sans-Serif\" font-size=\"14.00\" fill=\"#000000\">value = [12, 1]</text>\n<text text-anchor=\"middle\" x=\"1303.5\" y=\"-1420.8\" font-family=\"Helvetica,sans-Serif\" font-size=\"14.00\" fill=\"#000000\">class = Unsurvived</text>\n</g>\n<!-- 66&#45;&gt;67 -->\n<g id=\"edge67\" class=\"edge\">\n<title>66&#45;&gt;67</title>\n<path fill=\"none\" stroke=\"#000000\" d=\"M1401.0373,-1531.8796C1389.0479,-1522.368 1376.2113,-1512.1843 1363.9184,-1502.432\"/>\n<polygon fill=\"#000000\" stroke=\"#000000\" points=\"1365.9425,-1499.5701 1355.9331,-1496.0969 1361.5919,-1505.054 1365.9425,-1499.5701\"/>\n</g>\n<!-- 72 -->\n<g id=\"node73\" class=\"node\">\n<title>72</title>\n<path fill=\"#399de5\" stroke=\"#000000\" d=\"M1503,-1488.5C1503,-1488.5 1404,-1488.5 1404,-1488.5 1398,-1488.5 1392,-1482.5 1392,-1476.5 1392,-1476.5 1392,-1432.5 1392,-1432.5 1392,-1426.5 1398,-1420.5 1404,-1420.5 1404,-1420.5 1503,-1420.5 1503,-1420.5 1509,-1420.5 1515,-1426.5 1515,-1432.5 1515,-1432.5 1515,-1476.5 1515,-1476.5 1515,-1482.5 1509,-1488.5 1503,-1488.5\"/>\n<text text-anchor=\"middle\" x=\"1453.5\" y=\"-1473.3\" font-family=\"Helvetica,sans-Serif\" font-size=\"14.00\" fill=\"#000000\">gini = 0.0</text>\n<text text-anchor=\"middle\" x=\"1453.5\" y=\"-1458.3\" font-family=\"Helvetica,sans-Serif\" font-size=\"14.00\" fill=\"#000000\">samples = 1</text>\n<text text-anchor=\"middle\" x=\"1453.5\" y=\"-1443.3\" font-family=\"Helvetica,sans-Serif\" font-size=\"14.00\" fill=\"#000000\">value = [0, 1]</text>\n<text text-anchor=\"middle\" x=\"1453.5\" y=\"-1428.3\" font-family=\"Helvetica,sans-Serif\" font-size=\"14.00\" fill=\"#000000\">class = Survived</text>\n</g>\n<!-- 66&#45;&gt;72 -->\n<g id=\"edge72\" class=\"edge\">\n<title>66&#45;&gt;72</title>\n<path fill=\"none\" stroke=\"#000000\" d=\"M1453.5,-1531.8796C1453.5,-1521.2134 1453.5,-1509.7021 1453.5,-1498.9015\"/>\n<polygon fill=\"#000000\" stroke=\"#000000\" points=\"1457.0001,-1498.8149 1453.5,-1488.8149 1450.0001,-1498.815 1457.0001,-1498.8149\"/>\n</g>\n<!-- 68 -->\n<g id=\"node69\" class=\"node\">\n<title>68</title>\n<path fill=\"#ffffff\" stroke=\"#000000\" d=\"M1238.5,-1377C1238.5,-1377 1122.5,-1377 1122.5,-1377 1116.5,-1377 1110.5,-1371 1110.5,-1365 1110.5,-1365 1110.5,-1306 1110.5,-1306 1110.5,-1300 1116.5,-1294 1122.5,-1294 1122.5,-1294 1238.5,-1294 1238.5,-1294 1244.5,-1294 1250.5,-1300 1250.5,-1306 1250.5,-1306 1250.5,-1365 1250.5,-1365 1250.5,-1371 1244.5,-1377 1238.5,-1377\"/>\n<text text-anchor=\"middle\" x=\"1180.5\" y=\"-1361.8\" font-family=\"Helvetica,sans-Serif\" font-size=\"14.00\" fill=\"#000000\">fare &lt;= 9.906</text>\n<text text-anchor=\"middle\" x=\"1180.5\" y=\"-1346.8\" font-family=\"Helvetica,sans-Serif\" font-size=\"14.00\" fill=\"#000000\">gini = 0.5</text>\n<text text-anchor=\"middle\" x=\"1180.5\" y=\"-1331.8\" font-family=\"Helvetica,sans-Serif\" font-size=\"14.00\" fill=\"#000000\">samples = 2</text>\n<text text-anchor=\"middle\" x=\"1180.5\" y=\"-1316.8\" font-family=\"Helvetica,sans-Serif\" font-size=\"14.00\" fill=\"#000000\">value = [1, 1]</text>\n<text text-anchor=\"middle\" x=\"1180.5\" y=\"-1301.8\" font-family=\"Helvetica,sans-Serif\" font-size=\"14.00\" fill=\"#000000\">class = Unsurvived</text>\n</g>\n<!-- 67&#45;&gt;68 -->\n<g id=\"edge68\" class=\"edge\">\n<title>67&#45;&gt;68</title>\n<path fill=\"none\" stroke=\"#000000\" d=\"M1260.4806,-1412.8796C1250.9853,-1403.6931 1240.8422,-1393.8798 1231.0785,-1384.4336\"/>\n<polygon fill=\"#000000\" stroke=\"#000000\" points=\"1233.3237,-1381.7359 1223.703,-1377.2981 1228.4564,-1386.7668 1233.3237,-1381.7359\"/>\n</g>\n<!-- 71 -->\n<g id=\"node72\" class=\"node\">\n<title>71</title>\n<path fill=\"#e58139\" stroke=\"#000000\" d=\"M1396.5,-1369.5C1396.5,-1369.5 1280.5,-1369.5 1280.5,-1369.5 1274.5,-1369.5 1268.5,-1363.5 1268.5,-1357.5 1268.5,-1357.5 1268.5,-1313.5 1268.5,-1313.5 1268.5,-1307.5 1274.5,-1301.5 1280.5,-1301.5 1280.5,-1301.5 1396.5,-1301.5 1396.5,-1301.5 1402.5,-1301.5 1408.5,-1307.5 1408.5,-1313.5 1408.5,-1313.5 1408.5,-1357.5 1408.5,-1357.5 1408.5,-1363.5 1402.5,-1369.5 1396.5,-1369.5\"/>\n<text text-anchor=\"middle\" x=\"1338.5\" y=\"-1354.3\" font-family=\"Helvetica,sans-Serif\" font-size=\"14.00\" fill=\"#000000\">gini = 0.0</text>\n<text text-anchor=\"middle\" x=\"1338.5\" y=\"-1339.3\" font-family=\"Helvetica,sans-Serif\" font-size=\"14.00\" fill=\"#000000\">samples = 11</text>\n<text text-anchor=\"middle\" x=\"1338.5\" y=\"-1324.3\" font-family=\"Helvetica,sans-Serif\" font-size=\"14.00\" fill=\"#000000\">value = [11, 0]</text>\n<text text-anchor=\"middle\" x=\"1338.5\" y=\"-1309.3\" font-family=\"Helvetica,sans-Serif\" font-size=\"14.00\" fill=\"#000000\">class = Unsurvived</text>\n</g>\n<!-- 67&#45;&gt;71 -->\n<g id=\"edge71\" class=\"edge\">\n<title>67&#45;&gt;71</title>\n<path fill=\"none\" stroke=\"#000000\" d=\"M1315.7413,-1412.8796C1318.9108,-1402.1034 1322.3339,-1390.4647 1325.5389,-1379.5677\"/>\n<polygon fill=\"#000000\" stroke=\"#000000\" points=\"1328.9434,-1380.3962 1328.4074,-1369.8149 1322.2279,-1378.421 1328.9434,-1380.3962\"/>\n</g>\n<!-- 69 -->\n<g id=\"node70\" class=\"node\">\n<title>69</title>\n<path fill=\"#399de5\" stroke=\"#000000\" d=\"M1147,-1250.5C1147,-1250.5 1048,-1250.5 1048,-1250.5 1042,-1250.5 1036,-1244.5 1036,-1238.5 1036,-1238.5 1036,-1194.5 1036,-1194.5 1036,-1188.5 1042,-1182.5 1048,-1182.5 1048,-1182.5 1147,-1182.5 1147,-1182.5 1153,-1182.5 1159,-1188.5 1159,-1194.5 1159,-1194.5 1159,-1238.5 1159,-1238.5 1159,-1244.5 1153,-1250.5 1147,-1250.5\"/>\n<text text-anchor=\"middle\" x=\"1097.5\" y=\"-1235.3\" font-family=\"Helvetica,sans-Serif\" font-size=\"14.00\" fill=\"#000000\">gini = 0.0</text>\n<text text-anchor=\"middle\" x=\"1097.5\" y=\"-1220.3\" font-family=\"Helvetica,sans-Serif\" font-size=\"14.00\" fill=\"#000000\">samples = 1</text>\n<text text-anchor=\"middle\" x=\"1097.5\" y=\"-1205.3\" font-family=\"Helvetica,sans-Serif\" font-size=\"14.00\" fill=\"#000000\">value = [0, 1]</text>\n<text text-anchor=\"middle\" x=\"1097.5\" y=\"-1190.3\" font-family=\"Helvetica,sans-Serif\" font-size=\"14.00\" fill=\"#000000\">class = Survived</text>\n</g>\n<!-- 68&#45;&gt;69 -->\n<g id=\"edge69\" class=\"edge\">\n<title>68&#45;&gt;69</title>\n<path fill=\"none\" stroke=\"#000000\" d=\"M1151.4706,-1293.8796C1143.6477,-1282.6636 1135.173,-1270.5131 1127.3083,-1259.2372\"/>\n<polygon fill=\"#000000\" stroke=\"#000000\" points=\"1130.0254,-1257.0147 1121.4339,-1250.8149 1124.284,-1261.0192 1130.0254,-1257.0147\"/>\n</g>\n<!-- 70 -->\n<g id=\"node71\" class=\"node\">\n<title>70</title>\n<path fill=\"#e58139\" stroke=\"#000000\" d=\"M1305.5,-1250.5C1305.5,-1250.5 1189.5,-1250.5 1189.5,-1250.5 1183.5,-1250.5 1177.5,-1244.5 1177.5,-1238.5 1177.5,-1238.5 1177.5,-1194.5 1177.5,-1194.5 1177.5,-1188.5 1183.5,-1182.5 1189.5,-1182.5 1189.5,-1182.5 1305.5,-1182.5 1305.5,-1182.5 1311.5,-1182.5 1317.5,-1188.5 1317.5,-1194.5 1317.5,-1194.5 1317.5,-1238.5 1317.5,-1238.5 1317.5,-1244.5 1311.5,-1250.5 1305.5,-1250.5\"/>\n<text text-anchor=\"middle\" x=\"1247.5\" y=\"-1235.3\" font-family=\"Helvetica,sans-Serif\" font-size=\"14.00\" fill=\"#000000\">gini = 0.0</text>\n<text text-anchor=\"middle\" x=\"1247.5\" y=\"-1220.3\" font-family=\"Helvetica,sans-Serif\" font-size=\"14.00\" fill=\"#000000\">samples = 1</text>\n<text text-anchor=\"middle\" x=\"1247.5\" y=\"-1205.3\" font-family=\"Helvetica,sans-Serif\" font-size=\"14.00\" fill=\"#000000\">value = [1, 0]</text>\n<text text-anchor=\"middle\" x=\"1247.5\" y=\"-1190.3\" font-family=\"Helvetica,sans-Serif\" font-size=\"14.00\" fill=\"#000000\">class = Unsurvived</text>\n</g>\n<!-- 68&#45;&gt;70 -->\n<g id=\"edge70\" class=\"edge\">\n<title>68&#45;&gt;70</title>\n<path fill=\"none\" stroke=\"#000000\" d=\"M1203.9333,-1293.8796C1210.1863,-1282.7735 1216.9552,-1270.7513 1223.251,-1259.5691\"/>\n<polygon fill=\"#000000\" stroke=\"#000000\" points=\"1226.3235,-1261.2459 1228.1798,-1250.8149 1220.2239,-1257.8116 1226.3235,-1261.2459\"/>\n</g>\n<!-- 74 -->\n<g id=\"node75\" class=\"node\">\n<title>74</title>\n<path fill=\"#fcefe6\" stroke=\"#000000\" d=\"M1661.5,-1496C1661.5,-1496 1545.5,-1496 1545.5,-1496 1539.5,-1496 1533.5,-1490 1533.5,-1484 1533.5,-1484 1533.5,-1425 1533.5,-1425 1533.5,-1419 1539.5,-1413 1545.5,-1413 1545.5,-1413 1661.5,-1413 1661.5,-1413 1667.5,-1413 1673.5,-1419 1673.5,-1425 1673.5,-1425 1673.5,-1484 1673.5,-1484 1673.5,-1490 1667.5,-1496 1661.5,-1496\"/>\n<text text-anchor=\"middle\" x=\"1603.5\" y=\"-1480.8\" font-family=\"Helvetica,sans-Serif\" font-size=\"14.00\" fill=\"#000000\">age &lt;= 6.0</text>\n<text text-anchor=\"middle\" x=\"1603.5\" y=\"-1465.8\" font-family=\"Helvetica,sans-Serif\" font-size=\"14.00\" fill=\"#000000\">gini = 0.498</text>\n<text text-anchor=\"middle\" x=\"1603.5\" y=\"-1450.8\" font-family=\"Helvetica,sans-Serif\" font-size=\"14.00\" fill=\"#000000\">samples = 15</text>\n<text text-anchor=\"middle\" x=\"1603.5\" y=\"-1435.8\" font-family=\"Helvetica,sans-Serif\" font-size=\"14.00\" fill=\"#000000\">value = [8, 7]</text>\n<text text-anchor=\"middle\" x=\"1603.5\" y=\"-1420.8\" font-family=\"Helvetica,sans-Serif\" font-size=\"14.00\" fill=\"#000000\">class = Unsurvived</text>\n</g>\n<!-- 73&#45;&gt;74 -->\n<g id=\"edge74\" class=\"edge\">\n<title>73&#45;&gt;74</title>\n<path fill=\"none\" stroke=\"#000000\" d=\"M1603.5,-1531.8796C1603.5,-1523.6838 1603.5,-1514.9891 1603.5,-1506.5013\"/>\n<polygon fill=\"#000000\" stroke=\"#000000\" points=\"1607.0001,-1506.298 1603.5,-1496.2981 1600.0001,-1506.2981 1607.0001,-1506.298\"/>\n</g>\n<!-- 85 -->\n<g id=\"node86\" class=\"node\">\n<title>85</title>\n<path fill=\"#6ab6ec\" stroke=\"#000000\" d=\"M2122,-1496C2122,-1496 2023,-1496 2023,-1496 2017,-1496 2011,-1490 2011,-1484 2011,-1484 2011,-1425 2011,-1425 2011,-1419 2017,-1413 2023,-1413 2023,-1413 2122,-1413 2122,-1413 2128,-1413 2134,-1419 2134,-1425 2134,-1425 2134,-1484 2134,-1484 2134,-1490 2128,-1496 2122,-1496\"/>\n<text text-anchor=\"middle\" x=\"2072.5\" y=\"-1480.8\" font-family=\"Helvetica,sans-Serif\" font-size=\"14.00\" fill=\"#000000\">fare &lt;= 15.676</text>\n<text text-anchor=\"middle\" x=\"2072.5\" y=\"-1465.8\" font-family=\"Helvetica,sans-Serif\" font-size=\"14.00\" fill=\"#000000\">gini = 0.32</text>\n<text text-anchor=\"middle\" x=\"2072.5\" y=\"-1450.8\" font-family=\"Helvetica,sans-Serif\" font-size=\"14.00\" fill=\"#000000\">samples = 25</text>\n<text text-anchor=\"middle\" x=\"2072.5\" y=\"-1435.8\" font-family=\"Helvetica,sans-Serif\" font-size=\"14.00\" fill=\"#000000\">value = [5, 20]</text>\n<text text-anchor=\"middle\" x=\"2072.5\" y=\"-1420.8\" font-family=\"Helvetica,sans-Serif\" font-size=\"14.00\" fill=\"#000000\">class = Survived</text>\n</g>\n<!-- 73&#45;&gt;85 -->\n<g id=\"edge85\" class=\"edge\">\n<title>73&#45;&gt;85</title>\n<path fill=\"none\" stroke=\"#000000\" d=\"M1665.2958,-1557.8205C1752.0534,-1535.8074 1909.5812,-1495.8376 2001.195,-1472.5923\"/>\n<polygon fill=\"#000000\" stroke=\"#000000\" points=\"2002.1083,-1475.9716 2010.9403,-1470.1196 2000.3866,-1469.1866 2002.1083,-1475.9716\"/>\n</g>\n<!-- 75 -->\n<g id=\"node76\" class=\"node\">\n<title>75</title>\n<path fill=\"#61b1ea\" stroke=\"#000000\" d=\"M1597,-1377C1597,-1377 1498,-1377 1498,-1377 1492,-1377 1486,-1371 1486,-1365 1486,-1365 1486,-1306 1486,-1306 1486,-1300 1492,-1294 1498,-1294 1498,-1294 1597,-1294 1597,-1294 1603,-1294 1609,-1300 1609,-1306 1609,-1306 1609,-1365 1609,-1365 1609,-1371 1603,-1377 1597,-1377\"/>\n<text text-anchor=\"middle\" x=\"1547.5\" y=\"-1361.8\" font-family=\"Helvetica,sans-Serif\" font-size=\"14.00\" fill=\"#000000\">sibsp &lt;= 2.5</text>\n<text text-anchor=\"middle\" x=\"1547.5\" y=\"-1346.8\" font-family=\"Helvetica,sans-Serif\" font-size=\"14.00\" fill=\"#000000\">gini = 0.278</text>\n<text text-anchor=\"middle\" x=\"1547.5\" y=\"-1331.8\" font-family=\"Helvetica,sans-Serif\" font-size=\"14.00\" fill=\"#000000\">samples = 6</text>\n<text text-anchor=\"middle\" x=\"1547.5\" y=\"-1316.8\" font-family=\"Helvetica,sans-Serif\" font-size=\"14.00\" fill=\"#000000\">value = [1, 5]</text>\n<text text-anchor=\"middle\" x=\"1547.5\" y=\"-1301.8\" font-family=\"Helvetica,sans-Serif\" font-size=\"14.00\" fill=\"#000000\">class = Survived</text>\n</g>\n<!-- 74&#45;&gt;75 -->\n<g id=\"edge75\" class=\"edge\">\n<title>74&#45;&gt;75</title>\n<path fill=\"none\" stroke=\"#000000\" d=\"M1583.9139,-1412.8796C1579.8876,-1404.3236 1575.6053,-1395.2238 1571.4451,-1386.3833\"/>\n<polygon fill=\"#000000\" stroke=\"#000000\" points=\"1574.5946,-1384.856 1567.1697,-1377.2981 1568.2608,-1387.8366 1574.5946,-1384.856\"/>\n</g>\n<!-- 78 -->\n<g id=\"node79\" class=\"node\">\n<title>78</title>\n<path fill=\"#eca572\" stroke=\"#000000\" d=\"M1755.5,-1377C1755.5,-1377 1639.5,-1377 1639.5,-1377 1633.5,-1377 1627.5,-1371 1627.5,-1365 1627.5,-1365 1627.5,-1306 1627.5,-1306 1627.5,-1300 1633.5,-1294 1639.5,-1294 1639.5,-1294 1755.5,-1294 1755.5,-1294 1761.5,-1294 1767.5,-1300 1767.5,-1306 1767.5,-1306 1767.5,-1365 1767.5,-1365 1767.5,-1371 1761.5,-1377 1755.5,-1377\"/>\n<text text-anchor=\"middle\" x=\"1697.5\" y=\"-1361.8\" font-family=\"Helvetica,sans-Serif\" font-size=\"14.00\" fill=\"#000000\">fare &lt;= 14.457</text>\n<text text-anchor=\"middle\" x=\"1697.5\" y=\"-1346.8\" font-family=\"Helvetica,sans-Serif\" font-size=\"14.00\" fill=\"#000000\">gini = 0.346</text>\n<text text-anchor=\"middle\" x=\"1697.5\" y=\"-1331.8\" font-family=\"Helvetica,sans-Serif\" font-size=\"14.00\" fill=\"#000000\">samples = 9</text>\n<text text-anchor=\"middle\" x=\"1697.5\" y=\"-1316.8\" font-family=\"Helvetica,sans-Serif\" font-size=\"14.00\" fill=\"#000000\">value = [7, 2]</text>\n<text text-anchor=\"middle\" x=\"1697.5\" y=\"-1301.8\" font-family=\"Helvetica,sans-Serif\" font-size=\"14.00\" fill=\"#000000\">class = Unsurvived</text>\n</g>\n<!-- 74&#45;&gt;78 -->\n<g id=\"edge78\" class=\"edge\">\n<title>74&#45;&gt;78</title>\n<path fill=\"none\" stroke=\"#000000\" d=\"M1636.3766,-1412.8796C1643.4197,-1403.9633 1650.9293,-1394.4565 1658.1874,-1385.268\"/>\n<polygon fill=\"#000000\" stroke=\"#000000\" points=\"1661.0309,-1387.3147 1664.483,-1377.2981 1655.5379,-1382.9757 1661.0309,-1387.3147\"/>\n</g>\n<!-- 76 -->\n<g id=\"node77\" class=\"node\">\n<title>76</title>\n<path fill=\"#399de5\" stroke=\"#000000\" d=\"M1447,-1250.5C1447,-1250.5 1348,-1250.5 1348,-1250.5 1342,-1250.5 1336,-1244.5 1336,-1238.5 1336,-1238.5 1336,-1194.5 1336,-1194.5 1336,-1188.5 1342,-1182.5 1348,-1182.5 1348,-1182.5 1447,-1182.5 1447,-1182.5 1453,-1182.5 1459,-1188.5 1459,-1194.5 1459,-1194.5 1459,-1238.5 1459,-1238.5 1459,-1244.5 1453,-1250.5 1447,-1250.5\"/>\n<text text-anchor=\"middle\" x=\"1397.5\" y=\"-1235.3\" font-family=\"Helvetica,sans-Serif\" font-size=\"14.00\" fill=\"#000000\">gini = 0.0</text>\n<text text-anchor=\"middle\" x=\"1397.5\" y=\"-1220.3\" font-family=\"Helvetica,sans-Serif\" font-size=\"14.00\" fill=\"#000000\">samples = 5</text>\n<text text-anchor=\"middle\" x=\"1397.5\" y=\"-1205.3\" font-family=\"Helvetica,sans-Serif\" font-size=\"14.00\" fill=\"#000000\">value = [0, 5]</text>\n<text text-anchor=\"middle\" x=\"1397.5\" y=\"-1190.3\" font-family=\"Helvetica,sans-Serif\" font-size=\"14.00\" fill=\"#000000\">class = Survived</text>\n</g>\n<!-- 75&#45;&gt;76 -->\n<g id=\"edge76\" class=\"edge\">\n<title>75&#45;&gt;76</title>\n<path fill=\"none\" stroke=\"#000000\" d=\"M1495.0373,-1293.8796C1480.0678,-1282.0038 1463.7778,-1269.0804 1448.8741,-1257.2568\"/>\n<polygon fill=\"#000000\" stroke=\"#000000\" points=\"1450.7635,-1254.2881 1440.7541,-1250.8149 1446.413,-1259.772 1450.7635,-1254.2881\"/>\n</g>\n<!-- 77 -->\n<g id=\"node78\" class=\"node\">\n<title>77</title>\n<path fill=\"#e58139\" stroke=\"#000000\" d=\"M1605.5,-1250.5C1605.5,-1250.5 1489.5,-1250.5 1489.5,-1250.5 1483.5,-1250.5 1477.5,-1244.5 1477.5,-1238.5 1477.5,-1238.5 1477.5,-1194.5 1477.5,-1194.5 1477.5,-1188.5 1483.5,-1182.5 1489.5,-1182.5 1489.5,-1182.5 1605.5,-1182.5 1605.5,-1182.5 1611.5,-1182.5 1617.5,-1188.5 1617.5,-1194.5 1617.5,-1194.5 1617.5,-1238.5 1617.5,-1238.5 1617.5,-1244.5 1611.5,-1250.5 1605.5,-1250.5\"/>\n<text text-anchor=\"middle\" x=\"1547.5\" y=\"-1235.3\" font-family=\"Helvetica,sans-Serif\" font-size=\"14.00\" fill=\"#000000\">gini = 0.0</text>\n<text text-anchor=\"middle\" x=\"1547.5\" y=\"-1220.3\" font-family=\"Helvetica,sans-Serif\" font-size=\"14.00\" fill=\"#000000\">samples = 1</text>\n<text text-anchor=\"middle\" x=\"1547.5\" y=\"-1205.3\" font-family=\"Helvetica,sans-Serif\" font-size=\"14.00\" fill=\"#000000\">value = [1, 0]</text>\n<text text-anchor=\"middle\" x=\"1547.5\" y=\"-1190.3\" font-family=\"Helvetica,sans-Serif\" font-size=\"14.00\" fill=\"#000000\">class = Unsurvived</text>\n</g>\n<!-- 75&#45;&gt;77 -->\n<g id=\"edge77\" class=\"edge\">\n<title>75&#45;&gt;77</title>\n<path fill=\"none\" stroke=\"#000000\" d=\"M1547.5,-1293.8796C1547.5,-1283.2134 1547.5,-1271.7021 1547.5,-1260.9015\"/>\n<polygon fill=\"#000000\" stroke=\"#000000\" points=\"1551.0001,-1260.8149 1547.5,-1250.8149 1544.0001,-1260.815 1551.0001,-1260.8149\"/>\n</g>\n<!-- 79 -->\n<g id=\"node80\" class=\"node\">\n<title>79</title>\n<path fill=\"#9ccef2\" stroke=\"#000000\" d=\"M1747,-1258C1747,-1258 1648,-1258 1648,-1258 1642,-1258 1636,-1252 1636,-1246 1636,-1246 1636,-1187 1636,-1187 1636,-1181 1642,-1175 1648,-1175 1648,-1175 1747,-1175 1747,-1175 1753,-1175 1759,-1181 1759,-1187 1759,-1187 1759,-1246 1759,-1246 1759,-1252 1753,-1258 1747,-1258\"/>\n<text text-anchor=\"middle\" x=\"1697.5\" y=\"-1242.8\" font-family=\"Helvetica,sans-Serif\" font-size=\"14.00\" fill=\"#000000\">fare &lt;= 12.848</text>\n<text text-anchor=\"middle\" x=\"1697.5\" y=\"-1227.8\" font-family=\"Helvetica,sans-Serif\" font-size=\"14.00\" fill=\"#000000\">gini = 0.444</text>\n<text text-anchor=\"middle\" x=\"1697.5\" y=\"-1212.8\" font-family=\"Helvetica,sans-Serif\" font-size=\"14.00\" fill=\"#000000\">samples = 3</text>\n<text text-anchor=\"middle\" x=\"1697.5\" y=\"-1197.8\" font-family=\"Helvetica,sans-Serif\" font-size=\"14.00\" fill=\"#000000\">value = [1, 2]</text>\n<text text-anchor=\"middle\" x=\"1697.5\" y=\"-1182.8\" font-family=\"Helvetica,sans-Serif\" font-size=\"14.00\" fill=\"#000000\">class = Survived</text>\n</g>\n<!-- 78&#45;&gt;79 -->\n<g id=\"edge79\" class=\"edge\">\n<title>78&#45;&gt;79</title>\n<path fill=\"none\" stroke=\"#000000\" d=\"M1697.5,-1293.8796C1697.5,-1285.6838 1697.5,-1276.9891 1697.5,-1268.5013\"/>\n<polygon fill=\"#000000\" stroke=\"#000000\" points=\"1701.0001,-1268.298 1697.5,-1258.2981 1694.0001,-1268.2981 1701.0001,-1268.298\"/>\n</g>\n<!-- 84 -->\n<g id=\"node85\" class=\"node\">\n<title>84</title>\n<path fill=\"#e58139\" stroke=\"#000000\" d=\"M1905.5,-1250.5C1905.5,-1250.5 1789.5,-1250.5 1789.5,-1250.5 1783.5,-1250.5 1777.5,-1244.5 1777.5,-1238.5 1777.5,-1238.5 1777.5,-1194.5 1777.5,-1194.5 1777.5,-1188.5 1783.5,-1182.5 1789.5,-1182.5 1789.5,-1182.5 1905.5,-1182.5 1905.5,-1182.5 1911.5,-1182.5 1917.5,-1188.5 1917.5,-1194.5 1917.5,-1194.5 1917.5,-1238.5 1917.5,-1238.5 1917.5,-1244.5 1911.5,-1250.5 1905.5,-1250.5\"/>\n<text text-anchor=\"middle\" x=\"1847.5\" y=\"-1235.3\" font-family=\"Helvetica,sans-Serif\" font-size=\"14.00\" fill=\"#000000\">gini = 0.0</text>\n<text text-anchor=\"middle\" x=\"1847.5\" y=\"-1220.3\" font-family=\"Helvetica,sans-Serif\" font-size=\"14.00\" fill=\"#000000\">samples = 6</text>\n<text text-anchor=\"middle\" x=\"1847.5\" y=\"-1205.3\" font-family=\"Helvetica,sans-Serif\" font-size=\"14.00\" fill=\"#000000\">value = [6, 0]</text>\n<text text-anchor=\"middle\" x=\"1847.5\" y=\"-1190.3\" font-family=\"Helvetica,sans-Serif\" font-size=\"14.00\" fill=\"#000000\">class = Unsurvived</text>\n</g>\n<!-- 78&#45;&gt;84 -->\n<g id=\"edge84\" class=\"edge\">\n<title>78&#45;&gt;84</title>\n<path fill=\"none\" stroke=\"#000000\" d=\"M1749.9627,-1293.8796C1764.9322,-1282.0038 1781.2222,-1269.0804 1796.1259,-1257.2568\"/>\n<polygon fill=\"#000000\" stroke=\"#000000\" points=\"1798.587,-1259.772 1804.2459,-1250.8149 1794.2365,-1254.2881 1798.587,-1259.772\"/>\n</g>\n<!-- 80 -->\n<g id=\"node81\" class=\"node\">\n<title>80</title>\n<path fill=\"#399de5\" stroke=\"#000000\" d=\"M1669,-1131.5C1669,-1131.5 1570,-1131.5 1570,-1131.5 1564,-1131.5 1558,-1125.5 1558,-1119.5 1558,-1119.5 1558,-1075.5 1558,-1075.5 1558,-1069.5 1564,-1063.5 1570,-1063.5 1570,-1063.5 1669,-1063.5 1669,-1063.5 1675,-1063.5 1681,-1069.5 1681,-1075.5 1681,-1075.5 1681,-1119.5 1681,-1119.5 1681,-1125.5 1675,-1131.5 1669,-1131.5\"/>\n<text text-anchor=\"middle\" x=\"1619.5\" y=\"-1116.3\" font-family=\"Helvetica,sans-Serif\" font-size=\"14.00\" fill=\"#000000\">gini = 0.0</text>\n<text text-anchor=\"middle\" x=\"1619.5\" y=\"-1101.3\" font-family=\"Helvetica,sans-Serif\" font-size=\"14.00\" fill=\"#000000\">samples = 1</text>\n<text text-anchor=\"middle\" x=\"1619.5\" y=\"-1086.3\" font-family=\"Helvetica,sans-Serif\" font-size=\"14.00\" fill=\"#000000\">value = [0, 1]</text>\n<text text-anchor=\"middle\" x=\"1619.5\" y=\"-1071.3\" font-family=\"Helvetica,sans-Serif\" font-size=\"14.00\" fill=\"#000000\">class = Survived</text>\n</g>\n<!-- 79&#45;&gt;80 -->\n<g id=\"edge80\" class=\"edge\">\n<title>79&#45;&gt;80</title>\n<path fill=\"none\" stroke=\"#000000\" d=\"M1670.2194,-1174.8796C1662.8677,-1163.6636 1654.9036,-1151.5131 1647.5126,-1140.2372\"/>\n<polygon fill=\"#000000\" stroke=\"#000000\" points=\"1650.4014,-1138.2598 1641.9921,-1131.8149 1644.5469,-1142.0972 1650.4014,-1138.2598\"/>\n</g>\n<!-- 81 -->\n<g id=\"node82\" class=\"node\">\n<title>81</title>\n<path fill=\"#ffffff\" stroke=\"#000000\" d=\"M1827.5,-1139C1827.5,-1139 1711.5,-1139 1711.5,-1139 1705.5,-1139 1699.5,-1133 1699.5,-1127 1699.5,-1127 1699.5,-1068 1699.5,-1068 1699.5,-1062 1705.5,-1056 1711.5,-1056 1711.5,-1056 1827.5,-1056 1827.5,-1056 1833.5,-1056 1839.5,-1062 1839.5,-1068 1839.5,-1068 1839.5,-1127 1839.5,-1127 1839.5,-1133 1833.5,-1139 1827.5,-1139\"/>\n<text text-anchor=\"middle\" x=\"1769.5\" y=\"-1123.8\" font-family=\"Helvetica,sans-Serif\" font-size=\"14.00\" fill=\"#000000\">age &lt;= 14.75</text>\n<text text-anchor=\"middle\" x=\"1769.5\" y=\"-1108.8\" font-family=\"Helvetica,sans-Serif\" font-size=\"14.00\" fill=\"#000000\">gini = 0.5</text>\n<text text-anchor=\"middle\" x=\"1769.5\" y=\"-1093.8\" font-family=\"Helvetica,sans-Serif\" font-size=\"14.00\" fill=\"#000000\">samples = 2</text>\n<text text-anchor=\"middle\" x=\"1769.5\" y=\"-1078.8\" font-family=\"Helvetica,sans-Serif\" font-size=\"14.00\" fill=\"#000000\">value = [1, 1]</text>\n<text text-anchor=\"middle\" x=\"1769.5\" y=\"-1063.8\" font-family=\"Helvetica,sans-Serif\" font-size=\"14.00\" fill=\"#000000\">class = Unsurvived</text>\n</g>\n<!-- 79&#45;&gt;81 -->\n<g id=\"edge81\" class=\"edge\">\n<title>79&#45;&gt;81</title>\n<path fill=\"none\" stroke=\"#000000\" d=\"M1722.6821,-1174.8796C1727.9133,-1166.2335 1733.4805,-1157.0322 1738.8823,-1148.1042\"/>\n<polygon fill=\"#000000\" stroke=\"#000000\" points=\"1742.0283,-1149.6658 1744.2104,-1139.2981 1736.0392,-1146.0421 1742.0283,-1149.6658\"/>\n</g>\n<!-- 82 -->\n<g id=\"node83\" class=\"node\">\n<title>82</title>\n<path fill=\"#e58139\" stroke=\"#000000\" d=\"M1756.5,-1012.5C1756.5,-1012.5 1640.5,-1012.5 1640.5,-1012.5 1634.5,-1012.5 1628.5,-1006.5 1628.5,-1000.5 1628.5,-1000.5 1628.5,-956.5 1628.5,-956.5 1628.5,-950.5 1634.5,-944.5 1640.5,-944.5 1640.5,-944.5 1756.5,-944.5 1756.5,-944.5 1762.5,-944.5 1768.5,-950.5 1768.5,-956.5 1768.5,-956.5 1768.5,-1000.5 1768.5,-1000.5 1768.5,-1006.5 1762.5,-1012.5 1756.5,-1012.5\"/>\n<text text-anchor=\"middle\" x=\"1698.5\" y=\"-997.3\" font-family=\"Helvetica,sans-Serif\" font-size=\"14.00\" fill=\"#000000\">gini = 0.0</text>\n<text text-anchor=\"middle\" x=\"1698.5\" y=\"-982.3\" font-family=\"Helvetica,sans-Serif\" font-size=\"14.00\" fill=\"#000000\">samples = 1</text>\n<text text-anchor=\"middle\" x=\"1698.5\" y=\"-967.3\" font-family=\"Helvetica,sans-Serif\" font-size=\"14.00\" fill=\"#000000\">value = [1, 0]</text>\n<text text-anchor=\"middle\" x=\"1698.5\" y=\"-952.3\" font-family=\"Helvetica,sans-Serif\" font-size=\"14.00\" fill=\"#000000\">class = Unsurvived</text>\n</g>\n<!-- 81&#45;&gt;82 -->\n<g id=\"edge82\" class=\"edge\">\n<title>81&#45;&gt;82</title>\n<path fill=\"none\" stroke=\"#000000\" d=\"M1744.6676,-1055.8796C1738.0413,-1044.7735 1730.8684,-1032.7513 1724.1967,-1021.5691\"/>\n<polygon fill=\"#000000\" stroke=\"#000000\" points=\"1727.1031,-1019.6093 1718.9736,-1012.8149 1721.0917,-1023.1959 1727.1031,-1019.6093\"/>\n</g>\n<!-- 83 -->\n<g id=\"node84\" class=\"node\">\n<title>83</title>\n<path fill=\"#399de5\" stroke=\"#000000\" d=\"M1898,-1012.5C1898,-1012.5 1799,-1012.5 1799,-1012.5 1793,-1012.5 1787,-1006.5 1787,-1000.5 1787,-1000.5 1787,-956.5 1787,-956.5 1787,-950.5 1793,-944.5 1799,-944.5 1799,-944.5 1898,-944.5 1898,-944.5 1904,-944.5 1910,-950.5 1910,-956.5 1910,-956.5 1910,-1000.5 1910,-1000.5 1910,-1006.5 1904,-1012.5 1898,-1012.5\"/>\n<text text-anchor=\"middle\" x=\"1848.5\" y=\"-997.3\" font-family=\"Helvetica,sans-Serif\" font-size=\"14.00\" fill=\"#000000\">gini = 0.0</text>\n<text text-anchor=\"middle\" x=\"1848.5\" y=\"-982.3\" font-family=\"Helvetica,sans-Serif\" font-size=\"14.00\" fill=\"#000000\">samples = 1</text>\n<text text-anchor=\"middle\" x=\"1848.5\" y=\"-967.3\" font-family=\"Helvetica,sans-Serif\" font-size=\"14.00\" fill=\"#000000\">value = [0, 1]</text>\n<text text-anchor=\"middle\" x=\"1848.5\" y=\"-952.3\" font-family=\"Helvetica,sans-Serif\" font-size=\"14.00\" fill=\"#000000\">class = Survived</text>\n</g>\n<!-- 81&#45;&gt;83 -->\n<g id=\"edge83\" class=\"edge\">\n<title>81&#45;&gt;83</title>\n<path fill=\"none\" stroke=\"#000000\" d=\"M1797.1304,-1055.8796C1804.5763,-1044.6636 1812.6425,-1032.5131 1820.1282,-1021.2372\"/>\n<polygon fill=\"#000000\" stroke=\"#000000\" points=\"1823.1046,-1023.082 1825.7195,-1012.8149 1817.2727,-1019.2104 1823.1046,-1023.082\"/>\n</g>\n<!-- 86 -->\n<g id=\"node87\" class=\"node\">\n<title>86</title>\n<path fill=\"#aad5f4\" stroke=\"#000000\" d=\"M2122,-1377C2122,-1377 2023,-1377 2023,-1377 2017,-1377 2011,-1371 2011,-1365 2011,-1365 2011,-1306 2011,-1306 2011,-1300 2017,-1294 2023,-1294 2023,-1294 2122,-1294 2122,-1294 2128,-1294 2134,-1300 2134,-1306 2134,-1306 2134,-1365 2134,-1365 2134,-1371 2128,-1377 2122,-1377\"/>\n<text text-anchor=\"middle\" x=\"2072.5\" y=\"-1361.8\" font-family=\"Helvetica,sans-Serif\" font-size=\"14.00\" fill=\"#000000\">fare &lt;= 13.438</text>\n<text text-anchor=\"middle\" x=\"2072.5\" y=\"-1346.8\" font-family=\"Helvetica,sans-Serif\" font-size=\"14.00\" fill=\"#000000\">gini = 0.463</text>\n<text text-anchor=\"middle\" x=\"2072.5\" y=\"-1331.8\" font-family=\"Helvetica,sans-Serif\" font-size=\"14.00\" fill=\"#000000\">samples = 11</text>\n<text text-anchor=\"middle\" x=\"2072.5\" y=\"-1316.8\" font-family=\"Helvetica,sans-Serif\" font-size=\"14.00\" fill=\"#000000\">value = [4, 7]</text>\n<text text-anchor=\"middle\" x=\"2072.5\" y=\"-1301.8\" font-family=\"Helvetica,sans-Serif\" font-size=\"14.00\" fill=\"#000000\">class = Survived</text>\n</g>\n<!-- 85&#45;&gt;86 -->\n<g id=\"edge86\" class=\"edge\">\n<title>85&#45;&gt;86</title>\n<path fill=\"none\" stroke=\"#000000\" d=\"M2072.5,-1412.8796C2072.5,-1404.6838 2072.5,-1395.9891 2072.5,-1387.5013\"/>\n<polygon fill=\"#000000\" stroke=\"#000000\" points=\"2076.0001,-1387.298 2072.5,-1377.2981 2069.0001,-1387.2981 2076.0001,-1387.298\"/>\n</g>\n<!-- 95 -->\n<g id=\"node96\" class=\"node\">\n<title>95</title>\n<path fill=\"#48a5e7\" stroke=\"#000000\" d=\"M2347,-1377C2347,-1377 2248,-1377 2248,-1377 2242,-1377 2236,-1371 2236,-1365 2236,-1365 2236,-1306 2236,-1306 2236,-1300 2242,-1294 2248,-1294 2248,-1294 2347,-1294 2347,-1294 2353,-1294 2359,-1300 2359,-1306 2359,-1306 2359,-1365 2359,-1365 2359,-1371 2353,-1377 2347,-1377\"/>\n<text text-anchor=\"middle\" x=\"2297.5\" y=\"-1361.8\" font-family=\"Helvetica,sans-Serif\" font-size=\"14.00\" fill=\"#000000\">age &lt;= 30.35</text>\n<text text-anchor=\"middle\" x=\"2297.5\" y=\"-1346.8\" font-family=\"Helvetica,sans-Serif\" font-size=\"14.00\" fill=\"#000000\">gini = 0.133</text>\n<text text-anchor=\"middle\" x=\"2297.5\" y=\"-1331.8\" font-family=\"Helvetica,sans-Serif\" font-size=\"14.00\" fill=\"#000000\">samples = 14</text>\n<text text-anchor=\"middle\" x=\"2297.5\" y=\"-1316.8\" font-family=\"Helvetica,sans-Serif\" font-size=\"14.00\" fill=\"#000000\">value = [1, 13]</text>\n<text text-anchor=\"middle\" x=\"2297.5\" y=\"-1301.8\" font-family=\"Helvetica,sans-Serif\" font-size=\"14.00\" fill=\"#000000\">class = Survived</text>\n</g>\n<!-- 85&#45;&gt;95 -->\n<g id=\"edge95\" class=\"edge\">\n<title>85&#45;&gt;95</title>\n<path fill=\"none\" stroke=\"#000000\" d=\"M2134.2798,-1421.8253C2162.9293,-1406.6729 2197.1292,-1388.585 2226.8047,-1372.8899\"/>\n<polygon fill=\"#000000\" stroke=\"#000000\" points=\"2228.6545,-1375.871 2235.858,-1368.1018 2225.3818,-1369.6832 2228.6545,-1375.871\"/>\n</g>\n<!-- 87 -->\n<g id=\"node88\" class=\"node\">\n<title>87</title>\n<path fill=\"#399de5\" stroke=\"#000000\" d=\"M2047,-1250.5C2047,-1250.5 1948,-1250.5 1948,-1250.5 1942,-1250.5 1936,-1244.5 1936,-1238.5 1936,-1238.5 1936,-1194.5 1936,-1194.5 1936,-1188.5 1942,-1182.5 1948,-1182.5 1948,-1182.5 2047,-1182.5 2047,-1182.5 2053,-1182.5 2059,-1188.5 2059,-1194.5 2059,-1194.5 2059,-1238.5 2059,-1238.5 2059,-1244.5 2053,-1250.5 2047,-1250.5\"/>\n<text text-anchor=\"middle\" x=\"1997.5\" y=\"-1235.3\" font-family=\"Helvetica,sans-Serif\" font-size=\"14.00\" fill=\"#000000\">gini = 0.0</text>\n<text text-anchor=\"middle\" x=\"1997.5\" y=\"-1220.3\" font-family=\"Helvetica,sans-Serif\" font-size=\"14.00\" fill=\"#000000\">samples = 3</text>\n<text text-anchor=\"middle\" x=\"1997.5\" y=\"-1205.3\" font-family=\"Helvetica,sans-Serif\" font-size=\"14.00\" fill=\"#000000\">value = [0, 3]</text>\n<text text-anchor=\"middle\" x=\"1997.5\" y=\"-1190.3\" font-family=\"Helvetica,sans-Serif\" font-size=\"14.00\" fill=\"#000000\">class = Survived</text>\n</g>\n<!-- 86&#45;&gt;87 -->\n<g id=\"edge87\" class=\"edge\">\n<title>86&#45;&gt;87</title>\n<path fill=\"none\" stroke=\"#000000\" d=\"M2046.2686,-1293.8796C2039.269,-1282.7735 2031.692,-1270.7513 2024.6444,-1259.5691\"/>\n<polygon fill=\"#000000\" stroke=\"#000000\" points=\"2027.42,-1257.4087 2019.1271,-1250.8149 2021.498,-1261.1411 2027.42,-1257.4087\"/>\n</g>\n<!-- 88 -->\n<g id=\"node89\" class=\"node\">\n<title>88</title>\n<path fill=\"#ffffff\" stroke=\"#000000\" d=\"M2205.5,-1258C2205.5,-1258 2089.5,-1258 2089.5,-1258 2083.5,-1258 2077.5,-1252 2077.5,-1246 2077.5,-1246 2077.5,-1187 2077.5,-1187 2077.5,-1181 2083.5,-1175 2089.5,-1175 2089.5,-1175 2205.5,-1175 2205.5,-1175 2211.5,-1175 2217.5,-1181 2217.5,-1187 2217.5,-1187 2217.5,-1246 2217.5,-1246 2217.5,-1252 2211.5,-1258 2205.5,-1258\"/>\n<text text-anchor=\"middle\" x=\"2147.5\" y=\"-1242.8\" font-family=\"Helvetica,sans-Serif\" font-size=\"14.00\" fill=\"#000000\">fare &lt;= 14.852</text>\n<text text-anchor=\"middle\" x=\"2147.5\" y=\"-1227.8\" font-family=\"Helvetica,sans-Serif\" font-size=\"14.00\" fill=\"#000000\">gini = 0.5</text>\n<text text-anchor=\"middle\" x=\"2147.5\" y=\"-1212.8\" font-family=\"Helvetica,sans-Serif\" font-size=\"14.00\" fill=\"#000000\">samples = 8</text>\n<text text-anchor=\"middle\" x=\"2147.5\" y=\"-1197.8\" font-family=\"Helvetica,sans-Serif\" font-size=\"14.00\" fill=\"#000000\">value = [4, 4]</text>\n<text text-anchor=\"middle\" x=\"2147.5\" y=\"-1182.8\" font-family=\"Helvetica,sans-Serif\" font-size=\"14.00\" fill=\"#000000\">class = Unsurvived</text>\n</g>\n<!-- 86&#45;&gt;88 -->\n<g id=\"edge88\" class=\"edge\">\n<title>86&#45;&gt;88</title>\n<path fill=\"none\" stroke=\"#000000\" d=\"M2098.7314,-1293.8796C2104.2373,-1285.1434 2110.1006,-1275.8404 2115.7824,-1266.8253\"/>\n<polygon fill=\"#000000\" stroke=\"#000000\" points=\"2118.7857,-1268.6242 2121.1567,-1258.2981 2112.8637,-1264.8919 2118.7857,-1268.6242\"/>\n</g>\n<!-- 89 -->\n<g id=\"node90\" class=\"node\">\n<title>89</title>\n<path fill=\"#e58139\" stroke=\"#000000\" d=\"M2055.5,-1131.5C2055.5,-1131.5 1939.5,-1131.5 1939.5,-1131.5 1933.5,-1131.5 1927.5,-1125.5 1927.5,-1119.5 1927.5,-1119.5 1927.5,-1075.5 1927.5,-1075.5 1927.5,-1069.5 1933.5,-1063.5 1939.5,-1063.5 1939.5,-1063.5 2055.5,-1063.5 2055.5,-1063.5 2061.5,-1063.5 2067.5,-1069.5 2067.5,-1075.5 2067.5,-1075.5 2067.5,-1119.5 2067.5,-1119.5 2067.5,-1125.5 2061.5,-1131.5 2055.5,-1131.5\"/>\n<text text-anchor=\"middle\" x=\"1997.5\" y=\"-1116.3\" font-family=\"Helvetica,sans-Serif\" font-size=\"14.00\" fill=\"#000000\">gini = 0.0</text>\n<text text-anchor=\"middle\" x=\"1997.5\" y=\"-1101.3\" font-family=\"Helvetica,sans-Serif\" font-size=\"14.00\" fill=\"#000000\">samples = 2</text>\n<text text-anchor=\"middle\" x=\"1997.5\" y=\"-1086.3\" font-family=\"Helvetica,sans-Serif\" font-size=\"14.00\" fill=\"#000000\">value = [2, 0]</text>\n<text text-anchor=\"middle\" x=\"1997.5\" y=\"-1071.3\" font-family=\"Helvetica,sans-Serif\" font-size=\"14.00\" fill=\"#000000\">class = Unsurvived</text>\n</g>\n<!-- 88&#45;&gt;89 -->\n<g id=\"edge89\" class=\"edge\">\n<title>88&#45;&gt;89</title>\n<path fill=\"none\" stroke=\"#000000\" d=\"M2095.0373,-1174.8796C2080.0678,-1163.0038 2063.7778,-1150.0804 2048.8741,-1138.2568\"/>\n<polygon fill=\"#000000\" stroke=\"#000000\" points=\"2050.7635,-1135.2881 2040.7541,-1131.8149 2046.413,-1140.772 2050.7635,-1135.2881\"/>\n</g>\n<!-- 90 -->\n<g id=\"node91\" class=\"node\">\n<title>90</title>\n<path fill=\"#9ccef2\" stroke=\"#000000\" d=\"M2197,-1139C2197,-1139 2098,-1139 2098,-1139 2092,-1139 2086,-1133 2086,-1127 2086,-1127 2086,-1068 2086,-1068 2086,-1062 2092,-1056 2098,-1056 2098,-1056 2197,-1056 2197,-1056 2203,-1056 2209,-1062 2209,-1068 2209,-1068 2209,-1127 2209,-1127 2209,-1133 2203,-1139 2197,-1139\"/>\n<text text-anchor=\"middle\" x=\"2147.5\" y=\"-1123.8\" font-family=\"Helvetica,sans-Serif\" font-size=\"14.00\" fill=\"#000000\">parch &lt;= 0.5</text>\n<text text-anchor=\"middle\" x=\"2147.5\" y=\"-1108.8\" font-family=\"Helvetica,sans-Serif\" font-size=\"14.00\" fill=\"#000000\">gini = 0.444</text>\n<text text-anchor=\"middle\" x=\"2147.5\" y=\"-1093.8\" font-family=\"Helvetica,sans-Serif\" font-size=\"14.00\" fill=\"#000000\">samples = 6</text>\n<text text-anchor=\"middle\" x=\"2147.5\" y=\"-1078.8\" font-family=\"Helvetica,sans-Serif\" font-size=\"14.00\" fill=\"#000000\">value = [2, 4]</text>\n<text text-anchor=\"middle\" x=\"2147.5\" y=\"-1063.8\" font-family=\"Helvetica,sans-Serif\" font-size=\"14.00\" fill=\"#000000\">class = Survived</text>\n</g>\n<!-- 88&#45;&gt;90 -->\n<g id=\"edge90\" class=\"edge\">\n<title>88&#45;&gt;90</title>\n<path fill=\"none\" stroke=\"#000000\" d=\"M2147.5,-1174.8796C2147.5,-1166.6838 2147.5,-1157.9891 2147.5,-1149.5013\"/>\n<polygon fill=\"#000000\" stroke=\"#000000\" points=\"2151.0001,-1149.298 2147.5,-1139.2981 2144.0001,-1149.2981 2151.0001,-1149.298\"/>\n</g>\n<!-- 91 -->\n<g id=\"node92\" class=\"node\">\n<title>91</title>\n<path fill=\"#399de5\" stroke=\"#000000\" d=\"M2047,-1012.5C2047,-1012.5 1948,-1012.5 1948,-1012.5 1942,-1012.5 1936,-1006.5 1936,-1000.5 1936,-1000.5 1936,-956.5 1936,-956.5 1936,-950.5 1942,-944.5 1948,-944.5 1948,-944.5 2047,-944.5 2047,-944.5 2053,-944.5 2059,-950.5 2059,-956.5 2059,-956.5 2059,-1000.5 2059,-1000.5 2059,-1006.5 2053,-1012.5 2047,-1012.5\"/>\n<text text-anchor=\"middle\" x=\"1997.5\" y=\"-997.3\" font-family=\"Helvetica,sans-Serif\" font-size=\"14.00\" fill=\"#000000\">gini = 0.0</text>\n<text text-anchor=\"middle\" x=\"1997.5\" y=\"-982.3\" font-family=\"Helvetica,sans-Serif\" font-size=\"14.00\" fill=\"#000000\">samples = 3</text>\n<text text-anchor=\"middle\" x=\"1997.5\" y=\"-967.3\" font-family=\"Helvetica,sans-Serif\" font-size=\"14.00\" fill=\"#000000\">value = [0, 3]</text>\n<text text-anchor=\"middle\" x=\"1997.5\" y=\"-952.3\" font-family=\"Helvetica,sans-Serif\" font-size=\"14.00\" fill=\"#000000\">class = Survived</text>\n</g>\n<!-- 90&#45;&gt;91 -->\n<g id=\"edge91\" class=\"edge\">\n<title>90&#45;&gt;91</title>\n<path fill=\"none\" stroke=\"#000000\" d=\"M2095.0373,-1055.8796C2080.0678,-1044.0038 2063.7778,-1031.0804 2048.8741,-1019.2568\"/>\n<polygon fill=\"#000000\" stroke=\"#000000\" points=\"2050.7635,-1016.2881 2040.7541,-1012.8149 2046.413,-1021.772 2050.7635,-1016.2881\"/>\n</g>\n<!-- 92 -->\n<g id=\"node93\" class=\"node\">\n<title>92</title>\n<path fill=\"#f2c09c\" stroke=\"#000000\" d=\"M2205.5,-1020C2205.5,-1020 2089.5,-1020 2089.5,-1020 2083.5,-1020 2077.5,-1014 2077.5,-1008 2077.5,-1008 2077.5,-949 2077.5,-949 2077.5,-943 2083.5,-937 2089.5,-937 2089.5,-937 2205.5,-937 2205.5,-937 2211.5,-937 2217.5,-943 2217.5,-949 2217.5,-949 2217.5,-1008 2217.5,-1008 2217.5,-1014 2211.5,-1020 2205.5,-1020\"/>\n<text text-anchor=\"middle\" x=\"2147.5\" y=\"-1004.8\" font-family=\"Helvetica,sans-Serif\" font-size=\"14.00\" fill=\"#000000\">age &lt;= 29.35</text>\n<text text-anchor=\"middle\" x=\"2147.5\" y=\"-989.8\" font-family=\"Helvetica,sans-Serif\" font-size=\"14.00\" fill=\"#000000\">gini = 0.444</text>\n<text text-anchor=\"middle\" x=\"2147.5\" y=\"-974.8\" font-family=\"Helvetica,sans-Serif\" font-size=\"14.00\" fill=\"#000000\">samples = 3</text>\n<text text-anchor=\"middle\" x=\"2147.5\" y=\"-959.8\" font-family=\"Helvetica,sans-Serif\" font-size=\"14.00\" fill=\"#000000\">value = [2, 1]</text>\n<text text-anchor=\"middle\" x=\"2147.5\" y=\"-944.8\" font-family=\"Helvetica,sans-Serif\" font-size=\"14.00\" fill=\"#000000\">class = Unsurvived</text>\n</g>\n<!-- 90&#45;&gt;92 -->\n<g id=\"edge92\" class=\"edge\">\n<title>90&#45;&gt;92</title>\n<path fill=\"none\" stroke=\"#000000\" d=\"M2147.5,-1055.8796C2147.5,-1047.6838 2147.5,-1038.9891 2147.5,-1030.5013\"/>\n<polygon fill=\"#000000\" stroke=\"#000000\" points=\"2151.0001,-1030.298 2147.5,-1020.2981 2144.0001,-1030.2981 2151.0001,-1030.298\"/>\n</g>\n<!-- 93 -->\n<g id=\"node94\" class=\"node\">\n<title>93</title>\n<path fill=\"#399de5\" stroke=\"#000000\" d=\"M2122,-893.5C2122,-893.5 2023,-893.5 2023,-893.5 2017,-893.5 2011,-887.5 2011,-881.5 2011,-881.5 2011,-837.5 2011,-837.5 2011,-831.5 2017,-825.5 2023,-825.5 2023,-825.5 2122,-825.5 2122,-825.5 2128,-825.5 2134,-831.5 2134,-837.5 2134,-837.5 2134,-881.5 2134,-881.5 2134,-887.5 2128,-893.5 2122,-893.5\"/>\n<text text-anchor=\"middle\" x=\"2072.5\" y=\"-878.3\" font-family=\"Helvetica,sans-Serif\" font-size=\"14.00\" fill=\"#000000\">gini = 0.0</text>\n<text text-anchor=\"middle\" x=\"2072.5\" y=\"-863.3\" font-family=\"Helvetica,sans-Serif\" font-size=\"14.00\" fill=\"#000000\">samples = 1</text>\n<text text-anchor=\"middle\" x=\"2072.5\" y=\"-848.3\" font-family=\"Helvetica,sans-Serif\" font-size=\"14.00\" fill=\"#000000\">value = [0, 1]</text>\n<text text-anchor=\"middle\" x=\"2072.5\" y=\"-833.3\" font-family=\"Helvetica,sans-Serif\" font-size=\"14.00\" fill=\"#000000\">class = Survived</text>\n</g>\n<!-- 92&#45;&gt;93 -->\n<g id=\"edge93\" class=\"edge\">\n<title>92&#45;&gt;93</title>\n<path fill=\"none\" stroke=\"#000000\" d=\"M2121.2686,-936.8796C2114.269,-925.7735 2106.692,-913.7513 2099.6444,-902.5691\"/>\n<polygon fill=\"#000000\" stroke=\"#000000\" points=\"2102.42,-900.4087 2094.1271,-893.8149 2096.498,-904.1411 2102.42,-900.4087\"/>\n</g>\n<!-- 94 -->\n<g id=\"node95\" class=\"node\">\n<title>94</title>\n<path fill=\"#e58139\" stroke=\"#000000\" d=\"M2280.5,-893.5C2280.5,-893.5 2164.5,-893.5 2164.5,-893.5 2158.5,-893.5 2152.5,-887.5 2152.5,-881.5 2152.5,-881.5 2152.5,-837.5 2152.5,-837.5 2152.5,-831.5 2158.5,-825.5 2164.5,-825.5 2164.5,-825.5 2280.5,-825.5 2280.5,-825.5 2286.5,-825.5 2292.5,-831.5 2292.5,-837.5 2292.5,-837.5 2292.5,-881.5 2292.5,-881.5 2292.5,-887.5 2286.5,-893.5 2280.5,-893.5\"/>\n<text text-anchor=\"middle\" x=\"2222.5\" y=\"-878.3\" font-family=\"Helvetica,sans-Serif\" font-size=\"14.00\" fill=\"#000000\">gini = 0.0</text>\n<text text-anchor=\"middle\" x=\"2222.5\" y=\"-863.3\" font-family=\"Helvetica,sans-Serif\" font-size=\"14.00\" fill=\"#000000\">samples = 2</text>\n<text text-anchor=\"middle\" x=\"2222.5\" y=\"-848.3\" font-family=\"Helvetica,sans-Serif\" font-size=\"14.00\" fill=\"#000000\">value = [2, 0]</text>\n<text text-anchor=\"middle\" x=\"2222.5\" y=\"-833.3\" font-family=\"Helvetica,sans-Serif\" font-size=\"14.00\" fill=\"#000000\">class = Unsurvived</text>\n</g>\n<!-- 92&#45;&gt;94 -->\n<g id=\"edge94\" class=\"edge\">\n<title>92&#45;&gt;94</title>\n<path fill=\"none\" stroke=\"#000000\" d=\"M2173.7314,-936.8796C2180.731,-925.7735 2188.308,-913.7513 2195.3556,-902.5691\"/>\n<polygon fill=\"#000000\" stroke=\"#000000\" points=\"2198.502,-904.1411 2200.8729,-893.8149 2192.58,-900.4087 2198.502,-904.1411\"/>\n</g>\n<!-- 96 -->\n<g id=\"node97\" class=\"node\">\n<title>96</title>\n<path fill=\"#399de5\" stroke=\"#000000\" d=\"M2347,-1250.5C2347,-1250.5 2248,-1250.5 2248,-1250.5 2242,-1250.5 2236,-1244.5 2236,-1238.5 2236,-1238.5 2236,-1194.5 2236,-1194.5 2236,-1188.5 2242,-1182.5 2248,-1182.5 2248,-1182.5 2347,-1182.5 2347,-1182.5 2353,-1182.5 2359,-1188.5 2359,-1194.5 2359,-1194.5 2359,-1238.5 2359,-1238.5 2359,-1244.5 2353,-1250.5 2347,-1250.5\"/>\n<text text-anchor=\"middle\" x=\"2297.5\" y=\"-1235.3\" font-family=\"Helvetica,sans-Serif\" font-size=\"14.00\" fill=\"#000000\">gini = 0.0</text>\n<text text-anchor=\"middle\" x=\"2297.5\" y=\"-1220.3\" font-family=\"Helvetica,sans-Serif\" font-size=\"14.00\" fill=\"#000000\">samples = 9</text>\n<text text-anchor=\"middle\" x=\"2297.5\" y=\"-1205.3\" font-family=\"Helvetica,sans-Serif\" font-size=\"14.00\" fill=\"#000000\">value = [0, 9]</text>\n<text text-anchor=\"middle\" x=\"2297.5\" y=\"-1190.3\" font-family=\"Helvetica,sans-Serif\" font-size=\"14.00\" fill=\"#000000\">class = Survived</text>\n</g>\n<!-- 95&#45;&gt;96 -->\n<g id=\"edge96\" class=\"edge\">\n<title>95&#45;&gt;96</title>\n<path fill=\"none\" stroke=\"#000000\" d=\"M2297.5,-1293.8796C2297.5,-1283.2134 2297.5,-1271.7021 2297.5,-1260.9015\"/>\n<polygon fill=\"#000000\" stroke=\"#000000\" points=\"2301.0001,-1260.8149 2297.5,-1250.8149 2294.0001,-1260.815 2301.0001,-1260.8149\"/>\n</g>\n<!-- 97 -->\n<g id=\"node98\" class=\"node\">\n<title>97</title>\n<path fill=\"#6ab6ec\" stroke=\"#000000\" d=\"M2488,-1258C2488,-1258 2389,-1258 2389,-1258 2383,-1258 2377,-1252 2377,-1246 2377,-1246 2377,-1187 2377,-1187 2377,-1181 2383,-1175 2389,-1175 2389,-1175 2488,-1175 2488,-1175 2494,-1175 2500,-1181 2500,-1187 2500,-1187 2500,-1246 2500,-1246 2500,-1252 2494,-1258 2488,-1258\"/>\n<text text-anchor=\"middle\" x=\"2438.5\" y=\"-1242.8\" font-family=\"Helvetica,sans-Serif\" font-size=\"14.00\" fill=\"#000000\">age &lt;= 32.0</text>\n<text text-anchor=\"middle\" x=\"2438.5\" y=\"-1227.8\" font-family=\"Helvetica,sans-Serif\" font-size=\"14.00\" fill=\"#000000\">gini = 0.32</text>\n<text text-anchor=\"middle\" x=\"2438.5\" y=\"-1212.8\" font-family=\"Helvetica,sans-Serif\" font-size=\"14.00\" fill=\"#000000\">samples = 5</text>\n<text text-anchor=\"middle\" x=\"2438.5\" y=\"-1197.8\" font-family=\"Helvetica,sans-Serif\" font-size=\"14.00\" fill=\"#000000\">value = [1, 4]</text>\n<text text-anchor=\"middle\" x=\"2438.5\" y=\"-1182.8\" font-family=\"Helvetica,sans-Serif\" font-size=\"14.00\" fill=\"#000000\">class = Survived</text>\n</g>\n<!-- 95&#45;&gt;97 -->\n<g id=\"edge97\" class=\"edge\">\n<title>95&#45;&gt;97</title>\n<path fill=\"none\" stroke=\"#000000\" d=\"M2346.815,-1293.8796C2357.9132,-1284.513 2369.7835,-1274.4948 2381.1777,-1264.8784\"/>\n<polygon fill=\"#000000\" stroke=\"#000000\" points=\"2383.5899,-1267.4225 2388.9746,-1258.2981 2379.075,-1262.0731 2383.5899,-1267.4225\"/>\n</g>\n<!-- 98 -->\n<g id=\"node99\" class=\"node\">\n<title>98</title>\n<path fill=\"#ffffff\" stroke=\"#000000\" d=\"M2363.5,-1139C2363.5,-1139 2247.5,-1139 2247.5,-1139 2241.5,-1139 2235.5,-1133 2235.5,-1127 2235.5,-1127 2235.5,-1068 2235.5,-1068 2235.5,-1062 2241.5,-1056 2247.5,-1056 2247.5,-1056 2363.5,-1056 2363.5,-1056 2369.5,-1056 2375.5,-1062 2375.5,-1068 2375.5,-1068 2375.5,-1127 2375.5,-1127 2375.5,-1133 2369.5,-1139 2363.5,-1139\"/>\n<text text-anchor=\"middle\" x=\"2305.5\" y=\"-1123.8\" font-family=\"Helvetica,sans-Serif\" font-size=\"14.00\" fill=\"#000000\">parch &lt;= 0.5</text>\n<text text-anchor=\"middle\" x=\"2305.5\" y=\"-1108.8\" font-family=\"Helvetica,sans-Serif\" font-size=\"14.00\" fill=\"#000000\">gini = 0.5</text>\n<text text-anchor=\"middle\" x=\"2305.5\" y=\"-1093.8\" font-family=\"Helvetica,sans-Serif\" font-size=\"14.00\" fill=\"#000000\">samples = 2</text>\n<text text-anchor=\"middle\" x=\"2305.5\" y=\"-1078.8\" font-family=\"Helvetica,sans-Serif\" font-size=\"14.00\" fill=\"#000000\">value = [1, 1]</text>\n<text text-anchor=\"middle\" x=\"2305.5\" y=\"-1063.8\" font-family=\"Helvetica,sans-Serif\" font-size=\"14.00\" fill=\"#000000\">class = Unsurvived</text>\n</g>\n<!-- 97&#45;&gt;98 -->\n<g id=\"edge98\" class=\"edge\">\n<title>97&#45;&gt;98</title>\n<path fill=\"none\" stroke=\"#000000\" d=\"M2391.9831,-1174.8796C2381.6152,-1165.6031 2370.5329,-1155.6874 2359.8801,-1146.1559\"/>\n<polygon fill=\"#000000\" stroke=\"#000000\" points=\"2362.0017,-1143.3577 2352.2155,-1139.2981 2357.3341,-1148.5744 2362.0017,-1143.3577\"/>\n</g>\n<!-- 101 -->\n<g id=\"node102\" class=\"node\">\n<title>101</title>\n<path fill=\"#399de5\" stroke=\"#000000\" d=\"M2505,-1131.5C2505,-1131.5 2406,-1131.5 2406,-1131.5 2400,-1131.5 2394,-1125.5 2394,-1119.5 2394,-1119.5 2394,-1075.5 2394,-1075.5 2394,-1069.5 2400,-1063.5 2406,-1063.5 2406,-1063.5 2505,-1063.5 2505,-1063.5 2511,-1063.5 2517,-1069.5 2517,-1075.5 2517,-1075.5 2517,-1119.5 2517,-1119.5 2517,-1125.5 2511,-1131.5 2505,-1131.5\"/>\n<text text-anchor=\"middle\" x=\"2455.5\" y=\"-1116.3\" font-family=\"Helvetica,sans-Serif\" font-size=\"14.00\" fill=\"#000000\">gini = 0.0</text>\n<text text-anchor=\"middle\" x=\"2455.5\" y=\"-1101.3\" font-family=\"Helvetica,sans-Serif\" font-size=\"14.00\" fill=\"#000000\">samples = 3</text>\n<text text-anchor=\"middle\" x=\"2455.5\" y=\"-1086.3\" font-family=\"Helvetica,sans-Serif\" font-size=\"14.00\" fill=\"#000000\">value = [0, 3]</text>\n<text text-anchor=\"middle\" x=\"2455.5\" y=\"-1071.3\" font-family=\"Helvetica,sans-Serif\" font-size=\"14.00\" fill=\"#000000\">class = Survived</text>\n</g>\n<!-- 97&#45;&gt;101 -->\n<g id=\"edge101\" class=\"edge\">\n<title>97&#45;&gt;101</title>\n<path fill=\"none\" stroke=\"#000000\" d=\"M2444.4458,-1174.8796C2445.9695,-1164.2134 2447.614,-1152.7021 2449.1569,-1141.9015\"/>\n<polygon fill=\"#000000\" stroke=\"#000000\" points=\"2452.6484,-1142.2094 2450.5979,-1131.8149 2445.7187,-1141.2194 2452.6484,-1142.2094\"/>\n</g>\n<!-- 99 -->\n<g id=\"node100\" class=\"node\">\n<title>99</title>\n<path fill=\"#e58139\" stroke=\"#000000\" d=\"M2363.5,-1012.5C2363.5,-1012.5 2247.5,-1012.5 2247.5,-1012.5 2241.5,-1012.5 2235.5,-1006.5 2235.5,-1000.5 2235.5,-1000.5 2235.5,-956.5 2235.5,-956.5 2235.5,-950.5 2241.5,-944.5 2247.5,-944.5 2247.5,-944.5 2363.5,-944.5 2363.5,-944.5 2369.5,-944.5 2375.5,-950.5 2375.5,-956.5 2375.5,-956.5 2375.5,-1000.5 2375.5,-1000.5 2375.5,-1006.5 2369.5,-1012.5 2363.5,-1012.5\"/>\n<text text-anchor=\"middle\" x=\"2305.5\" y=\"-997.3\" font-family=\"Helvetica,sans-Serif\" font-size=\"14.00\" fill=\"#000000\">gini = 0.0</text>\n<text text-anchor=\"middle\" x=\"2305.5\" y=\"-982.3\" font-family=\"Helvetica,sans-Serif\" font-size=\"14.00\" fill=\"#000000\">samples = 1</text>\n<text text-anchor=\"middle\" x=\"2305.5\" y=\"-967.3\" font-family=\"Helvetica,sans-Serif\" font-size=\"14.00\" fill=\"#000000\">value = [1, 0]</text>\n<text text-anchor=\"middle\" x=\"2305.5\" y=\"-952.3\" font-family=\"Helvetica,sans-Serif\" font-size=\"14.00\" fill=\"#000000\">class = Unsurvived</text>\n</g>\n<!-- 98&#45;&gt;99 -->\n<g id=\"edge99\" class=\"edge\">\n<title>98&#45;&gt;99</title>\n<path fill=\"none\" stroke=\"#000000\" d=\"M2305.5,-1055.8796C2305.5,-1045.2134 2305.5,-1033.7021 2305.5,-1022.9015\"/>\n<polygon fill=\"#000000\" stroke=\"#000000\" points=\"2309.0001,-1022.8149 2305.5,-1012.8149 2302.0001,-1022.815 2309.0001,-1022.8149\"/>\n</g>\n<!-- 100 -->\n<g id=\"node101\" class=\"node\">\n<title>100</title>\n<path fill=\"#399de5\" stroke=\"#000000\" d=\"M2505,-1012.5C2505,-1012.5 2406,-1012.5 2406,-1012.5 2400,-1012.5 2394,-1006.5 2394,-1000.5 2394,-1000.5 2394,-956.5 2394,-956.5 2394,-950.5 2400,-944.5 2406,-944.5 2406,-944.5 2505,-944.5 2505,-944.5 2511,-944.5 2517,-950.5 2517,-956.5 2517,-956.5 2517,-1000.5 2517,-1000.5 2517,-1006.5 2511,-1012.5 2505,-1012.5\"/>\n<text text-anchor=\"middle\" x=\"2455.5\" y=\"-997.3\" font-family=\"Helvetica,sans-Serif\" font-size=\"14.00\" fill=\"#000000\">gini = 0.0</text>\n<text text-anchor=\"middle\" x=\"2455.5\" y=\"-982.3\" font-family=\"Helvetica,sans-Serif\" font-size=\"14.00\" fill=\"#000000\">samples = 1</text>\n<text text-anchor=\"middle\" x=\"2455.5\" y=\"-967.3\" font-family=\"Helvetica,sans-Serif\" font-size=\"14.00\" fill=\"#000000\">value = [0, 1]</text>\n<text text-anchor=\"middle\" x=\"2455.5\" y=\"-952.3\" font-family=\"Helvetica,sans-Serif\" font-size=\"14.00\" fill=\"#000000\">class = Survived</text>\n</g>\n<!-- 98&#45;&gt;100 -->\n<g id=\"edge100\" class=\"edge\">\n<title>98&#45;&gt;100</title>\n<path fill=\"none\" stroke=\"#000000\" d=\"M2357.9627,-1055.8796C2372.9322,-1044.0038 2389.2222,-1031.0804 2404.1259,-1019.2568\"/>\n<polygon fill=\"#000000\" stroke=\"#000000\" points=\"2406.587,-1021.772 2412.2459,-1012.8149 2402.2365,-1016.2881 2406.587,-1021.772\"/>\n</g>\n<!-- 104 -->\n<g id=\"node105\" class=\"node\">\n<title>104</title>\n<path fill=\"#ffffff\" stroke=\"#000000\" d=\"M1817.5,-1853C1817.5,-1853 1701.5,-1853 1701.5,-1853 1695.5,-1853 1689.5,-1847 1689.5,-1841 1689.5,-1841 1689.5,-1782 1689.5,-1782 1689.5,-1776 1695.5,-1770 1701.5,-1770 1701.5,-1770 1817.5,-1770 1817.5,-1770 1823.5,-1770 1829.5,-1776 1829.5,-1782 1829.5,-1782 1829.5,-1841 1829.5,-1841 1829.5,-1847 1823.5,-1853 1817.5,-1853\"/>\n<text text-anchor=\"middle\" x=\"1759.5\" y=\"-1837.8\" font-family=\"Helvetica,sans-Serif\" font-size=\"14.00\" fill=\"#000000\">fare &lt;= 31.336</text>\n<text text-anchor=\"middle\" x=\"1759.5\" y=\"-1822.8\" font-family=\"Helvetica,sans-Serif\" font-size=\"14.00\" fill=\"#000000\">gini = 0.5</text>\n<text text-anchor=\"middle\" x=\"1759.5\" y=\"-1807.8\" font-family=\"Helvetica,sans-Serif\" font-size=\"14.00\" fill=\"#000000\">samples = 2</text>\n<text text-anchor=\"middle\" x=\"1759.5\" y=\"-1792.8\" font-family=\"Helvetica,sans-Serif\" font-size=\"14.00\" fill=\"#000000\">value = [1, 1]</text>\n<text text-anchor=\"middle\" x=\"1759.5\" y=\"-1777.8\" font-family=\"Helvetica,sans-Serif\" font-size=\"14.00\" fill=\"#000000\">class = Unsurvived</text>\n</g>\n<!-- 103&#45;&gt;104 -->\n<g id=\"edge104\" class=\"edge\">\n<title>103&#45;&gt;104</title>\n<path fill=\"none\" stroke=\"#000000\" d=\"M1759.5,-1888.8796C1759.5,-1880.6838 1759.5,-1871.9891 1759.5,-1863.5013\"/>\n<polygon fill=\"#000000\" stroke=\"#000000\" points=\"1763.0001,-1863.298 1759.5,-1853.2981 1756.0001,-1863.2981 1763.0001,-1863.298\"/>\n</g>\n<!-- 107 -->\n<g id=\"node108\" class=\"node\">\n<title>107</title>\n<path fill=\"#e78a47\" stroke=\"#000000\" d=\"M1975.5,-1853C1975.5,-1853 1859.5,-1853 1859.5,-1853 1853.5,-1853 1847.5,-1847 1847.5,-1841 1847.5,-1841 1847.5,-1782 1847.5,-1782 1847.5,-1776 1853.5,-1770 1859.5,-1770 1859.5,-1770 1975.5,-1770 1975.5,-1770 1981.5,-1770 1987.5,-1776 1987.5,-1782 1987.5,-1782 1987.5,-1841 1987.5,-1841 1987.5,-1847 1981.5,-1853 1975.5,-1853\"/>\n<text text-anchor=\"middle\" x=\"1917.5\" y=\"-1837.8\" font-family=\"Helvetica,sans-Serif\" font-size=\"14.00\" fill=\"#000000\">parch &lt;= 4.0</text>\n<text text-anchor=\"middle\" x=\"1917.5\" y=\"-1822.8\" font-family=\"Helvetica,sans-Serif\" font-size=\"14.00\" fill=\"#000000\">gini = 0.124</text>\n<text text-anchor=\"middle\" x=\"1917.5\" y=\"-1807.8\" font-family=\"Helvetica,sans-Serif\" font-size=\"14.00\" fill=\"#000000\">samples = 15</text>\n<text text-anchor=\"middle\" x=\"1917.5\" y=\"-1792.8\" font-family=\"Helvetica,sans-Serif\" font-size=\"14.00\" fill=\"#000000\">value = [14, 1]</text>\n<text text-anchor=\"middle\" x=\"1917.5\" y=\"-1777.8\" font-family=\"Helvetica,sans-Serif\" font-size=\"14.00\" fill=\"#000000\">class = Unsurvived</text>\n</g>\n<!-- 103&#45;&gt;107 -->\n<g id=\"edge107\" class=\"edge\">\n<title>103&#45;&gt;107</title>\n<path fill=\"none\" stroke=\"#000000\" d=\"M1814.7607,-1888.8796C1827.5099,-1879.2774 1841.1683,-1868.9903 1854.2291,-1859.1534\"/>\n<polygon fill=\"#000000\" stroke=\"#000000\" points=\"1856.3883,-1861.9089 1862.2705,-1853.0969 1852.1769,-1856.3174 1856.3883,-1861.9089\"/>\n</g>\n<!-- 105 -->\n<g id=\"node106\" class=\"node\">\n<title>105</title>\n<path fill=\"#e58139\" stroke=\"#000000\" d=\"M1669.5,-1726.5C1669.5,-1726.5 1553.5,-1726.5 1553.5,-1726.5 1547.5,-1726.5 1541.5,-1720.5 1541.5,-1714.5 1541.5,-1714.5 1541.5,-1670.5 1541.5,-1670.5 1541.5,-1664.5 1547.5,-1658.5 1553.5,-1658.5 1553.5,-1658.5 1669.5,-1658.5 1669.5,-1658.5 1675.5,-1658.5 1681.5,-1664.5 1681.5,-1670.5 1681.5,-1670.5 1681.5,-1714.5 1681.5,-1714.5 1681.5,-1720.5 1675.5,-1726.5 1669.5,-1726.5\"/>\n<text text-anchor=\"middle\" x=\"1611.5\" y=\"-1711.3\" font-family=\"Helvetica,sans-Serif\" font-size=\"14.00\" fill=\"#000000\">gini = 0.0</text>\n<text text-anchor=\"middle\" x=\"1611.5\" y=\"-1696.3\" font-family=\"Helvetica,sans-Serif\" font-size=\"14.00\" fill=\"#000000\">samples = 1</text>\n<text text-anchor=\"middle\" x=\"1611.5\" y=\"-1681.3\" font-family=\"Helvetica,sans-Serif\" font-size=\"14.00\" fill=\"#000000\">value = [1, 0]</text>\n<text text-anchor=\"middle\" x=\"1611.5\" y=\"-1666.3\" font-family=\"Helvetica,sans-Serif\" font-size=\"14.00\" fill=\"#000000\">class = Unsurvived</text>\n</g>\n<!-- 104&#45;&gt;105 -->\n<g id=\"edge105\" class=\"edge\">\n<title>104&#45;&gt;105</title>\n<path fill=\"none\" stroke=\"#000000\" d=\"M1707.7368,-1769.8796C1692.9669,-1758.0038 1676.8941,-1745.0804 1662.1892,-1733.2568\"/>\n<polygon fill=\"#000000\" stroke=\"#000000\" points=\"1664.1639,-1730.3535 1654.1774,-1726.8149 1659.7775,-1735.8088 1664.1639,-1730.3535\"/>\n</g>\n<!-- 106 -->\n<g id=\"node107\" class=\"node\">\n<title>106</title>\n<path fill=\"#399de5\" stroke=\"#000000\" d=\"M1811,-1726.5C1811,-1726.5 1712,-1726.5 1712,-1726.5 1706,-1726.5 1700,-1720.5 1700,-1714.5 1700,-1714.5 1700,-1670.5 1700,-1670.5 1700,-1664.5 1706,-1658.5 1712,-1658.5 1712,-1658.5 1811,-1658.5 1811,-1658.5 1817,-1658.5 1823,-1664.5 1823,-1670.5 1823,-1670.5 1823,-1714.5 1823,-1714.5 1823,-1720.5 1817,-1726.5 1811,-1726.5\"/>\n<text text-anchor=\"middle\" x=\"1761.5\" y=\"-1711.3\" font-family=\"Helvetica,sans-Serif\" font-size=\"14.00\" fill=\"#000000\">gini = 0.0</text>\n<text text-anchor=\"middle\" x=\"1761.5\" y=\"-1696.3\" font-family=\"Helvetica,sans-Serif\" font-size=\"14.00\" fill=\"#000000\">samples = 1</text>\n<text text-anchor=\"middle\" x=\"1761.5\" y=\"-1681.3\" font-family=\"Helvetica,sans-Serif\" font-size=\"14.00\" fill=\"#000000\">value = [0, 1]</text>\n<text text-anchor=\"middle\" x=\"1761.5\" y=\"-1666.3\" font-family=\"Helvetica,sans-Serif\" font-size=\"14.00\" fill=\"#000000\">class = Survived</text>\n</g>\n<!-- 104&#45;&gt;106 -->\n<g id=\"edge106\" class=\"edge\">\n<title>104&#45;&gt;106</title>\n<path fill=\"none\" stroke=\"#000000\" d=\"M1760.1995,-1769.8796C1760.3788,-1759.2134 1760.5722,-1747.7021 1760.7538,-1736.9015\"/>\n<polygon fill=\"#000000\" stroke=\"#000000\" points=\"1764.2546,-1736.8724 1760.9233,-1726.8149 1757.2556,-1736.7547 1764.2546,-1736.8724\"/>\n</g>\n<!-- 108 -->\n<g id=\"node109\" class=\"node\">\n<title>108</title>\n<path fill=\"#e58139\" stroke=\"#000000\" d=\"M1971.5,-1726.5C1971.5,-1726.5 1855.5,-1726.5 1855.5,-1726.5 1849.5,-1726.5 1843.5,-1720.5 1843.5,-1714.5 1843.5,-1714.5 1843.5,-1670.5 1843.5,-1670.5 1843.5,-1664.5 1849.5,-1658.5 1855.5,-1658.5 1855.5,-1658.5 1971.5,-1658.5 1971.5,-1658.5 1977.5,-1658.5 1983.5,-1664.5 1983.5,-1670.5 1983.5,-1670.5 1983.5,-1714.5 1983.5,-1714.5 1983.5,-1720.5 1977.5,-1726.5 1971.5,-1726.5\"/>\n<text text-anchor=\"middle\" x=\"1913.5\" y=\"-1711.3\" font-family=\"Helvetica,sans-Serif\" font-size=\"14.00\" fill=\"#000000\">gini = 0.0</text>\n<text text-anchor=\"middle\" x=\"1913.5\" y=\"-1696.3\" font-family=\"Helvetica,sans-Serif\" font-size=\"14.00\" fill=\"#000000\">samples = 11</text>\n<text text-anchor=\"middle\" x=\"1913.5\" y=\"-1681.3\" font-family=\"Helvetica,sans-Serif\" font-size=\"14.00\" fill=\"#000000\">value = [11, 0]</text>\n<text text-anchor=\"middle\" x=\"1913.5\" y=\"-1666.3\" font-family=\"Helvetica,sans-Serif\" font-size=\"14.00\" fill=\"#000000\">class = Unsurvived</text>\n</g>\n<!-- 107&#45;&gt;108 -->\n<g id=\"edge108\" class=\"edge\">\n<title>107&#45;&gt;108</title>\n<path fill=\"none\" stroke=\"#000000\" d=\"M1916.101,-1769.8796C1915.7425,-1759.2134 1915.3555,-1747.7021 1914.9925,-1736.9015\"/>\n<polygon fill=\"#000000\" stroke=\"#000000\" points=\"1918.4875,-1736.6917 1914.6534,-1726.8149 1911.4915,-1736.9269 1918.4875,-1736.6917\"/>\n</g>\n<!-- 109 -->\n<g id=\"node110\" class=\"node\">\n<title>109</title>\n<path fill=\"#eeab7b\" stroke=\"#000000\" d=\"M2129.5,-1734C2129.5,-1734 2013.5,-1734 2013.5,-1734 2007.5,-1734 2001.5,-1728 2001.5,-1722 2001.5,-1722 2001.5,-1663 2001.5,-1663 2001.5,-1657 2007.5,-1651 2013.5,-1651 2013.5,-1651 2129.5,-1651 2129.5,-1651 2135.5,-1651 2141.5,-1657 2141.5,-1663 2141.5,-1663 2141.5,-1722 2141.5,-1722 2141.5,-1728 2135.5,-1734 2129.5,-1734\"/>\n<text text-anchor=\"middle\" x=\"2071.5\" y=\"-1718.8\" font-family=\"Helvetica,sans-Serif\" font-size=\"14.00\" fill=\"#000000\">age &lt;= 38.5</text>\n<text text-anchor=\"middle\" x=\"2071.5\" y=\"-1703.8\" font-family=\"Helvetica,sans-Serif\" font-size=\"14.00\" fill=\"#000000\">gini = 0.375</text>\n<text text-anchor=\"middle\" x=\"2071.5\" y=\"-1688.8\" font-family=\"Helvetica,sans-Serif\" font-size=\"14.00\" fill=\"#000000\">samples = 4</text>\n<text text-anchor=\"middle\" x=\"2071.5\" y=\"-1673.8\" font-family=\"Helvetica,sans-Serif\" font-size=\"14.00\" fill=\"#000000\">value = [3, 1]</text>\n<text text-anchor=\"middle\" x=\"2071.5\" y=\"-1658.8\" font-family=\"Helvetica,sans-Serif\" font-size=\"14.00\" fill=\"#000000\">class = Unsurvived</text>\n</g>\n<!-- 107&#45;&gt;109 -->\n<g id=\"edge109\" class=\"edge\">\n<title>107&#45;&gt;109</title>\n<path fill=\"none\" stroke=\"#000000\" d=\"M1971.3617,-1769.8796C1983.6709,-1760.368 1996.8497,-1750.1843 2009.4704,-1740.432\"/>\n<polygon fill=\"#000000\" stroke=\"#000000\" points=\"2011.8959,-1742.9809 2017.6687,-1734.0969 2007.6157,-1737.4419 2011.8959,-1742.9809\"/>\n</g>\n<!-- 110 -->\n<g id=\"node111\" class=\"node\">\n<title>110</title>\n<path fill=\"#399de5\" stroke=\"#000000\" d=\"M2046,-1607.5C2046,-1607.5 1947,-1607.5 1947,-1607.5 1941,-1607.5 1935,-1601.5 1935,-1595.5 1935,-1595.5 1935,-1551.5 1935,-1551.5 1935,-1545.5 1941,-1539.5 1947,-1539.5 1947,-1539.5 2046,-1539.5 2046,-1539.5 2052,-1539.5 2058,-1545.5 2058,-1551.5 2058,-1551.5 2058,-1595.5 2058,-1595.5 2058,-1601.5 2052,-1607.5 2046,-1607.5\"/>\n<text text-anchor=\"middle\" x=\"1996.5\" y=\"-1592.3\" font-family=\"Helvetica,sans-Serif\" font-size=\"14.00\" fill=\"#000000\">gini = 0.0</text>\n<text text-anchor=\"middle\" x=\"1996.5\" y=\"-1577.3\" font-family=\"Helvetica,sans-Serif\" font-size=\"14.00\" fill=\"#000000\">samples = 1</text>\n<text text-anchor=\"middle\" x=\"1996.5\" y=\"-1562.3\" font-family=\"Helvetica,sans-Serif\" font-size=\"14.00\" fill=\"#000000\">value = [0, 1]</text>\n<text text-anchor=\"middle\" x=\"1996.5\" y=\"-1547.3\" font-family=\"Helvetica,sans-Serif\" font-size=\"14.00\" fill=\"#000000\">class = Survived</text>\n</g>\n<!-- 109&#45;&gt;110 -->\n<g id=\"edge110\" class=\"edge\">\n<title>109&#45;&gt;110</title>\n<path fill=\"none\" stroke=\"#000000\" d=\"M2045.2686,-1650.8796C2038.269,-1639.7735 2030.692,-1627.7513 2023.6444,-1616.5691\"/>\n<polygon fill=\"#000000\" stroke=\"#000000\" points=\"2026.42,-1614.4087 2018.1271,-1607.8149 2020.498,-1618.1411 2026.42,-1614.4087\"/>\n</g>\n<!-- 111 -->\n<g id=\"node112\" class=\"node\">\n<title>111</title>\n<path fill=\"#e58139\" stroke=\"#000000\" d=\"M2204.5,-1607.5C2204.5,-1607.5 2088.5,-1607.5 2088.5,-1607.5 2082.5,-1607.5 2076.5,-1601.5 2076.5,-1595.5 2076.5,-1595.5 2076.5,-1551.5 2076.5,-1551.5 2076.5,-1545.5 2082.5,-1539.5 2088.5,-1539.5 2088.5,-1539.5 2204.5,-1539.5 2204.5,-1539.5 2210.5,-1539.5 2216.5,-1545.5 2216.5,-1551.5 2216.5,-1551.5 2216.5,-1595.5 2216.5,-1595.5 2216.5,-1601.5 2210.5,-1607.5 2204.5,-1607.5\"/>\n<text text-anchor=\"middle\" x=\"2146.5\" y=\"-1592.3\" font-family=\"Helvetica,sans-Serif\" font-size=\"14.00\" fill=\"#000000\">gini = 0.0</text>\n<text text-anchor=\"middle\" x=\"2146.5\" y=\"-1577.3\" font-family=\"Helvetica,sans-Serif\" font-size=\"14.00\" fill=\"#000000\">samples = 3</text>\n<text text-anchor=\"middle\" x=\"2146.5\" y=\"-1562.3\" font-family=\"Helvetica,sans-Serif\" font-size=\"14.00\" fill=\"#000000\">value = [3, 0]</text>\n<text text-anchor=\"middle\" x=\"2146.5\" y=\"-1547.3\" font-family=\"Helvetica,sans-Serif\" font-size=\"14.00\" fill=\"#000000\">class = Unsurvived</text>\n</g>\n<!-- 109&#45;&gt;111 -->\n<g id=\"edge111\" class=\"edge\">\n<title>109&#45;&gt;111</title>\n<path fill=\"none\" stroke=\"#000000\" d=\"M2097.7314,-1650.8796C2104.731,-1639.7735 2112.308,-1627.7513 2119.3556,-1616.5691\"/>\n<polygon fill=\"#000000\" stroke=\"#000000\" points=\"2122.502,-1618.1411 2124.8729,-1607.8149 2116.58,-1614.4087 2122.502,-1618.1411\"/>\n</g>\n<!-- 113 -->\n<g id=\"node114\" class=\"node\">\n<title>113</title>\n<path fill=\"#b5daf5\" stroke=\"#000000\" d=\"M2557,-2091C2557,-2091 2458,-2091 2458,-2091 2452,-2091 2446,-2085 2446,-2079 2446,-2079 2446,-2020 2446,-2020 2446,-2014 2452,-2008 2458,-2008 2458,-2008 2557,-2008 2557,-2008 2563,-2008 2569,-2014 2569,-2020 2569,-2020 2569,-2079 2569,-2079 2569,-2085 2563,-2091 2557,-2091\"/>\n<text text-anchor=\"middle\" x=\"2507.5\" y=\"-2075.8\" font-family=\"Helvetica,sans-Serif\" font-size=\"14.00\" fill=\"#000000\">sibsp &lt;= 2.5</text>\n<text text-anchor=\"middle\" x=\"2507.5\" y=\"-2060.8\" font-family=\"Helvetica,sans-Serif\" font-size=\"14.00\" fill=\"#000000\">gini = 0.473</text>\n<text text-anchor=\"middle\" x=\"2507.5\" y=\"-2045.8\" font-family=\"Helvetica,sans-Serif\" font-size=\"14.00\" fill=\"#000000\">samples = 26</text>\n<text text-anchor=\"middle\" x=\"2507.5\" y=\"-2030.8\" font-family=\"Helvetica,sans-Serif\" font-size=\"14.00\" fill=\"#000000\">value = [10, 16]</text>\n<text text-anchor=\"middle\" x=\"2507.5\" y=\"-2015.8\" font-family=\"Helvetica,sans-Serif\" font-size=\"14.00\" fill=\"#000000\">class = Survived</text>\n</g>\n<!-- 112&#45;&gt;113 -->\n<g id=\"edge113\" class=\"edge\">\n<title>112&#45;&gt;113</title>\n<path fill=\"none\" stroke=\"#000000\" d=\"M2507.5,-2126.8796C2507.5,-2118.6838 2507.5,-2109.9891 2507.5,-2101.5013\"/>\n<polygon fill=\"#000000\" stroke=\"#000000\" points=\"2511.0001,-2101.298 2507.5,-2091.2981 2504.0001,-2101.2981 2511.0001,-2101.298\"/>\n</g>\n<!-- 116 -->\n<g id=\"node117\" class=\"node\">\n<title>116</title>\n<path fill=\"#ea9b62\" stroke=\"#000000\" d=\"M2996.5,-2091C2996.5,-2091 2880.5,-2091 2880.5,-2091 2874.5,-2091 2868.5,-2085 2868.5,-2079 2868.5,-2079 2868.5,-2020 2868.5,-2020 2868.5,-2014 2874.5,-2008 2880.5,-2008 2880.5,-2008 2996.5,-2008 2996.5,-2008 3002.5,-2008 3008.5,-2014 3008.5,-2020 3008.5,-2020 3008.5,-2079 3008.5,-2079 3008.5,-2085 3002.5,-2091 2996.5,-2091\"/>\n<text text-anchor=\"middle\" x=\"2938.5\" y=\"-2075.8\" font-family=\"Helvetica,sans-Serif\" font-size=\"14.00\" fill=\"#000000\">pclass &lt;= 1.5</text>\n<text text-anchor=\"middle\" x=\"2938.5\" y=\"-2060.8\" font-family=\"Helvetica,sans-Serif\" font-size=\"14.00\" fill=\"#000000\">gini = 0.282</text>\n<text text-anchor=\"middle\" x=\"2938.5\" y=\"-2045.8\" font-family=\"Helvetica,sans-Serif\" font-size=\"14.00\" fill=\"#000000\">samples = 435</text>\n<text text-anchor=\"middle\" x=\"2938.5\" y=\"-2030.8\" font-family=\"Helvetica,sans-Serif\" font-size=\"14.00\" fill=\"#000000\">value = [361, 74]</text>\n<text text-anchor=\"middle\" x=\"2938.5\" y=\"-2015.8\" font-family=\"Helvetica,sans-Serif\" font-size=\"14.00\" fill=\"#000000\">class = Unsurvived</text>\n</g>\n<!-- 112&#45;&gt;116 -->\n<g id=\"edge116\" class=\"edge\">\n<title>112&#45;&gt;116</title>\n<path fill=\"none\" stroke=\"#000000\" d=\"M2577.7068,-2149.1157C2654.5667,-2127.8946 2777.5815,-2093.9299 2858.2165,-2071.6664\"/>\n<polygon fill=\"#000000\" stroke=\"#000000\" points=\"2859.6154,-2074.9112 2868.3232,-2068.876 2857.7523,-2068.1637 2859.6154,-2074.9112\"/>\n</g>\n<!-- 114 -->\n<g id=\"node115\" class=\"node\">\n<title>114</title>\n<path fill=\"#399de5\" stroke=\"#000000\" d=\"M2482,-1964.5C2482,-1964.5 2383,-1964.5 2383,-1964.5 2377,-1964.5 2371,-1958.5 2371,-1952.5 2371,-1952.5 2371,-1908.5 2371,-1908.5 2371,-1902.5 2377,-1896.5 2383,-1896.5 2383,-1896.5 2482,-1896.5 2482,-1896.5 2488,-1896.5 2494,-1902.5 2494,-1908.5 2494,-1908.5 2494,-1952.5 2494,-1952.5 2494,-1958.5 2488,-1964.5 2482,-1964.5\"/>\n<text text-anchor=\"middle\" x=\"2432.5\" y=\"-1949.3\" font-family=\"Helvetica,sans-Serif\" font-size=\"14.00\" fill=\"#000000\">gini = 0.0</text>\n<text text-anchor=\"middle\" x=\"2432.5\" y=\"-1934.3\" font-family=\"Helvetica,sans-Serif\" font-size=\"14.00\" fill=\"#000000\">samples = 16</text>\n<text text-anchor=\"middle\" x=\"2432.5\" y=\"-1919.3\" font-family=\"Helvetica,sans-Serif\" font-size=\"14.00\" fill=\"#000000\">value = [0, 16]</text>\n<text text-anchor=\"middle\" x=\"2432.5\" y=\"-1904.3\" font-family=\"Helvetica,sans-Serif\" font-size=\"14.00\" fill=\"#000000\">class = Survived</text>\n</g>\n<!-- 113&#45;&gt;114 -->\n<g id=\"edge114\" class=\"edge\">\n<title>113&#45;&gt;114</title>\n<path fill=\"none\" stroke=\"#000000\" d=\"M2481.2686,-2007.8796C2474.269,-1996.7735 2466.692,-1984.7513 2459.6444,-1973.5691\"/>\n<polygon fill=\"#000000\" stroke=\"#000000\" points=\"2462.42,-1971.4087 2454.1271,-1964.8149 2456.498,-1975.1411 2462.42,-1971.4087\"/>\n</g>\n<!-- 115 -->\n<g id=\"node116\" class=\"node\">\n<title>115</title>\n<path fill=\"#e58139\" stroke=\"#000000\" d=\"M2640.5,-1964.5C2640.5,-1964.5 2524.5,-1964.5 2524.5,-1964.5 2518.5,-1964.5 2512.5,-1958.5 2512.5,-1952.5 2512.5,-1952.5 2512.5,-1908.5 2512.5,-1908.5 2512.5,-1902.5 2518.5,-1896.5 2524.5,-1896.5 2524.5,-1896.5 2640.5,-1896.5 2640.5,-1896.5 2646.5,-1896.5 2652.5,-1902.5 2652.5,-1908.5 2652.5,-1908.5 2652.5,-1952.5 2652.5,-1952.5 2652.5,-1958.5 2646.5,-1964.5 2640.5,-1964.5\"/>\n<text text-anchor=\"middle\" x=\"2582.5\" y=\"-1949.3\" font-family=\"Helvetica,sans-Serif\" font-size=\"14.00\" fill=\"#000000\">gini = 0.0</text>\n<text text-anchor=\"middle\" x=\"2582.5\" y=\"-1934.3\" font-family=\"Helvetica,sans-Serif\" font-size=\"14.00\" fill=\"#000000\">samples = 10</text>\n<text text-anchor=\"middle\" x=\"2582.5\" y=\"-1919.3\" font-family=\"Helvetica,sans-Serif\" font-size=\"14.00\" fill=\"#000000\">value = [10, 0]</text>\n<text text-anchor=\"middle\" x=\"2582.5\" y=\"-1904.3\" font-family=\"Helvetica,sans-Serif\" font-size=\"14.00\" fill=\"#000000\">class = Unsurvived</text>\n</g>\n<!-- 113&#45;&gt;115 -->\n<g id=\"edge115\" class=\"edge\">\n<title>113&#45;&gt;115</title>\n<path fill=\"none\" stroke=\"#000000\" d=\"M2533.7314,-2007.8796C2540.731,-1996.7735 2548.308,-1984.7513 2555.3556,-1973.5691\"/>\n<polygon fill=\"#000000\" stroke=\"#000000\" points=\"2558.502,-1975.1411 2560.8729,-1964.8149 2552.58,-1971.4087 2558.502,-1975.1411\"/>\n</g>\n<!-- 117 -->\n<g id=\"node118\" class=\"node\">\n<title>117</title>\n<path fill=\"#f4c8a9\" stroke=\"#000000\" d=\"M2996.5,-1972C2996.5,-1972 2880.5,-1972 2880.5,-1972 2874.5,-1972 2868.5,-1966 2868.5,-1960 2868.5,-1960 2868.5,-1901 2868.5,-1901 2868.5,-1895 2874.5,-1889 2880.5,-1889 2880.5,-1889 2996.5,-1889 2996.5,-1889 3002.5,-1889 3008.5,-1895 3008.5,-1901 3008.5,-1901 3008.5,-1960 3008.5,-1960 3008.5,-1966 3002.5,-1972 2996.5,-1972\"/>\n<text text-anchor=\"middle\" x=\"2938.5\" y=\"-1956.8\" font-family=\"Helvetica,sans-Serif\" font-size=\"14.00\" fill=\"#000000\">fare &lt;= 26.141</text>\n<text text-anchor=\"middle\" x=\"2938.5\" y=\"-1941.8\" font-family=\"Helvetica,sans-Serif\" font-size=\"14.00\" fill=\"#000000\">gini = 0.462</text>\n<text text-anchor=\"middle\" x=\"2938.5\" y=\"-1926.8\" font-family=\"Helvetica,sans-Serif\" font-size=\"14.00\" fill=\"#000000\">samples = 94</text>\n<text text-anchor=\"middle\" x=\"2938.5\" y=\"-1911.8\" font-family=\"Helvetica,sans-Serif\" font-size=\"14.00\" fill=\"#000000\">value = [60, 34]</text>\n<text text-anchor=\"middle\" x=\"2938.5\" y=\"-1896.8\" font-family=\"Helvetica,sans-Serif\" font-size=\"14.00\" fill=\"#000000\">class = Unsurvived</text>\n</g>\n<!-- 116&#45;&gt;117 -->\n<g id=\"edge117\" class=\"edge\">\n<title>116&#45;&gt;117</title>\n<path fill=\"none\" stroke=\"#000000\" d=\"M2938.5,-2007.8796C2938.5,-1999.6838 2938.5,-1990.9891 2938.5,-1982.5013\"/>\n<polygon fill=\"#000000\" stroke=\"#000000\" points=\"2942.0001,-1982.298 2938.5,-1972.2981 2935.0001,-1982.2981 2942.0001,-1982.298\"/>\n</g>\n<!-- 178 -->\n<g id=\"node179\" class=\"node\">\n<title>178</title>\n<path fill=\"#e89253\" stroke=\"#000000\" d=\"M5372.5,-1972C5372.5,-1972 5256.5,-1972 5256.5,-1972 5250.5,-1972 5244.5,-1966 5244.5,-1960 5244.5,-1960 5244.5,-1901 5244.5,-1901 5244.5,-1895 5250.5,-1889 5256.5,-1889 5256.5,-1889 5372.5,-1889 5372.5,-1889 5378.5,-1889 5384.5,-1895 5384.5,-1901 5384.5,-1901 5384.5,-1960 5384.5,-1960 5384.5,-1966 5378.5,-1972 5372.5,-1972\"/>\n<text text-anchor=\"middle\" x=\"5314.5\" y=\"-1956.8\" font-family=\"Helvetica,sans-Serif\" font-size=\"14.00\" fill=\"#000000\">age &lt;= 32.25</text>\n<text text-anchor=\"middle\" x=\"5314.5\" y=\"-1941.8\" font-family=\"Helvetica,sans-Serif\" font-size=\"14.00\" fill=\"#000000\">gini = 0.207</text>\n<text text-anchor=\"middle\" x=\"5314.5\" y=\"-1926.8\" font-family=\"Helvetica,sans-Serif\" font-size=\"14.00\" fill=\"#000000\">samples = 341</text>\n<text text-anchor=\"middle\" x=\"5314.5\" y=\"-1911.8\" font-family=\"Helvetica,sans-Serif\" font-size=\"14.00\" fill=\"#000000\">value = [301, 40]</text>\n<text text-anchor=\"middle\" x=\"5314.5\" y=\"-1896.8\" font-family=\"Helvetica,sans-Serif\" font-size=\"14.00\" fill=\"#000000\">class = Unsurvived</text>\n</g>\n<!-- 116&#45;&gt;178 -->\n<g id=\"edge178\" class=\"edge\">\n<title>116&#45;&gt;178</title>\n<path fill=\"none\" stroke=\"#000000\" d=\"M3008.643,-2045.9869C3353.5747,-2028.7113 4867.9471,-1952.8652 5234.4312,-1934.5102\"/>\n<polygon fill=\"#000000\" stroke=\"#000000\" points=\"5234.6105,-1938.0057 5244.4229,-1934.0098 5234.2603,-1931.0144 5234.6105,-1938.0057\"/>\n</g>\n<!-- 118 -->\n<g id=\"node119\" class=\"node\">\n<title>118</title>\n<path fill=\"#e58139\" stroke=\"#000000\" d=\"M2917.5,-1845.5C2917.5,-1845.5 2801.5,-1845.5 2801.5,-1845.5 2795.5,-1845.5 2789.5,-1839.5 2789.5,-1833.5 2789.5,-1833.5 2789.5,-1789.5 2789.5,-1789.5 2789.5,-1783.5 2795.5,-1777.5 2801.5,-1777.5 2801.5,-1777.5 2917.5,-1777.5 2917.5,-1777.5 2923.5,-1777.5 2929.5,-1783.5 2929.5,-1789.5 2929.5,-1789.5 2929.5,-1833.5 2929.5,-1833.5 2929.5,-1839.5 2923.5,-1845.5 2917.5,-1845.5\"/>\n<text text-anchor=\"middle\" x=\"2859.5\" y=\"-1830.3\" font-family=\"Helvetica,sans-Serif\" font-size=\"14.00\" fill=\"#000000\">gini = 0.0</text>\n<text text-anchor=\"middle\" x=\"2859.5\" y=\"-1815.3\" font-family=\"Helvetica,sans-Serif\" font-size=\"14.00\" fill=\"#000000\">samples = 8</text>\n<text text-anchor=\"middle\" x=\"2859.5\" y=\"-1800.3\" font-family=\"Helvetica,sans-Serif\" font-size=\"14.00\" fill=\"#000000\">value = [8, 0]</text>\n<text text-anchor=\"middle\" x=\"2859.5\" y=\"-1785.3\" font-family=\"Helvetica,sans-Serif\" font-size=\"14.00\" fill=\"#000000\">class = Unsurvived</text>\n</g>\n<!-- 117&#45;&gt;118 -->\n<g id=\"edge118\" class=\"edge\">\n<title>117&#45;&gt;118</title>\n<path fill=\"none\" stroke=\"#000000\" d=\"M2910.8696,-1888.8796C2903.4237,-1877.6636 2895.3575,-1865.5131 2887.8718,-1854.2372\"/>\n<polygon fill=\"#000000\" stroke=\"#000000\" points=\"2890.7273,-1852.2104 2882.2805,-1845.8149 2884.8954,-1856.082 2890.7273,-1852.2104\"/>\n</g>\n<!-- 119 -->\n<g id=\"node120\" class=\"node\">\n<title>119</title>\n<path fill=\"#f6d3ba\" stroke=\"#000000\" d=\"M3075.5,-1853C3075.5,-1853 2959.5,-1853 2959.5,-1853 2953.5,-1853 2947.5,-1847 2947.5,-1841 2947.5,-1841 2947.5,-1782 2947.5,-1782 2947.5,-1776 2953.5,-1770 2959.5,-1770 2959.5,-1770 3075.5,-1770 3075.5,-1770 3081.5,-1770 3087.5,-1776 3087.5,-1782 3087.5,-1782 3087.5,-1841 3087.5,-1841 3087.5,-1847 3081.5,-1853 3075.5,-1853\"/>\n<text text-anchor=\"middle\" x=\"3017.5\" y=\"-1837.8\" font-family=\"Helvetica,sans-Serif\" font-size=\"14.00\" fill=\"#000000\">fare &lt;= 27.133</text>\n<text text-anchor=\"middle\" x=\"3017.5\" y=\"-1822.8\" font-family=\"Helvetica,sans-Serif\" font-size=\"14.00\" fill=\"#000000\">gini = 0.478</text>\n<text text-anchor=\"middle\" x=\"3017.5\" y=\"-1807.8\" font-family=\"Helvetica,sans-Serif\" font-size=\"14.00\" fill=\"#000000\">samples = 86</text>\n<text text-anchor=\"middle\" x=\"3017.5\" y=\"-1792.8\" font-family=\"Helvetica,sans-Serif\" font-size=\"14.00\" fill=\"#000000\">value = [52, 34]</text>\n<text text-anchor=\"middle\" x=\"3017.5\" y=\"-1777.8\" font-family=\"Helvetica,sans-Serif\" font-size=\"14.00\" fill=\"#000000\">class = Unsurvived</text>\n</g>\n<!-- 117&#45;&gt;119 -->\n<g id=\"edge119\" class=\"edge\">\n<title>117&#45;&gt;119</title>\n<path fill=\"none\" stroke=\"#000000\" d=\"M2966.1304,-1888.8796C2971.93,-1880.1434 2978.1059,-1870.8404 2984.0908,-1861.8253\"/>\n<polygon fill=\"#000000\" stroke=\"#000000\" points=\"2987.1368,-1863.5652 2989.7517,-1853.2981 2981.3049,-1859.6935 2987.1368,-1863.5652\"/>\n</g>\n<!-- 120 -->\n<g id=\"node121\" class=\"node\">\n<title>120</title>\n<path fill=\"#9ccef2\" stroke=\"#000000\" d=\"M2988,-1734C2988,-1734 2889,-1734 2889,-1734 2883,-1734 2877,-1728 2877,-1722 2877,-1722 2877,-1663 2877,-1663 2877,-1657 2883,-1651 2889,-1651 2889,-1651 2988,-1651 2988,-1651 2994,-1651 3000,-1657 3000,-1663 3000,-1663 3000,-1722 3000,-1722 3000,-1728 2994,-1734 2988,-1734\"/>\n<text text-anchor=\"middle\" x=\"2938.5\" y=\"-1718.8\" font-family=\"Helvetica,sans-Serif\" font-size=\"14.00\" fill=\"#000000\">age &lt;= 53.5</text>\n<text text-anchor=\"middle\" x=\"2938.5\" y=\"-1703.8\" font-family=\"Helvetica,sans-Serif\" font-size=\"14.00\" fill=\"#000000\">gini = 0.444</text>\n<text text-anchor=\"middle\" x=\"2938.5\" y=\"-1688.8\" font-family=\"Helvetica,sans-Serif\" font-size=\"14.00\" fill=\"#000000\">samples = 15</text>\n<text text-anchor=\"middle\" x=\"2938.5\" y=\"-1673.8\" font-family=\"Helvetica,sans-Serif\" font-size=\"14.00\" fill=\"#000000\">value = [5, 10]</text>\n<text text-anchor=\"middle\" x=\"2938.5\" y=\"-1658.8\" font-family=\"Helvetica,sans-Serif\" font-size=\"14.00\" fill=\"#000000\">class = Survived</text>\n</g>\n<!-- 119&#45;&gt;120 -->\n<g id=\"edge120\" class=\"edge\">\n<title>119&#45;&gt;120</title>\n<path fill=\"none\" stroke=\"#000000\" d=\"M2989.8696,-1769.8796C2984.07,-1761.1434 2977.8941,-1751.8404 2971.9092,-1742.8253\"/>\n<polygon fill=\"#000000\" stroke=\"#000000\" points=\"2974.6951,-1740.6935 2966.2483,-1734.2981 2968.8632,-1744.5652 2974.6951,-1740.6935\"/>\n</g>\n<!-- 127 -->\n<g id=\"node128\" class=\"node\">\n<title>127</title>\n<path fill=\"#f2c19e\" stroke=\"#000000\" d=\"M3154.5,-1734C3154.5,-1734 3038.5,-1734 3038.5,-1734 3032.5,-1734 3026.5,-1728 3026.5,-1722 3026.5,-1722 3026.5,-1663 3026.5,-1663 3026.5,-1657 3032.5,-1651 3038.5,-1651 3038.5,-1651 3154.5,-1651 3154.5,-1651 3160.5,-1651 3166.5,-1657 3166.5,-1663 3166.5,-1663 3166.5,-1722 3166.5,-1722 3166.5,-1728 3160.5,-1734 3154.5,-1734\"/>\n<text text-anchor=\"middle\" x=\"3096.5\" y=\"-1718.8\" font-family=\"Helvetica,sans-Serif\" font-size=\"14.00\" fill=\"#000000\">fare &lt;= 387.75</text>\n<text text-anchor=\"middle\" x=\"3096.5\" y=\"-1703.8\" font-family=\"Helvetica,sans-Serif\" font-size=\"14.00\" fill=\"#000000\">gini = 0.448</text>\n<text text-anchor=\"middle\" x=\"3096.5\" y=\"-1688.8\" font-family=\"Helvetica,sans-Serif\" font-size=\"14.00\" fill=\"#000000\">samples = 71</text>\n<text text-anchor=\"middle\" x=\"3096.5\" y=\"-1673.8\" font-family=\"Helvetica,sans-Serif\" font-size=\"14.00\" fill=\"#000000\">value = [47, 24]</text>\n<text text-anchor=\"middle\" x=\"3096.5\" y=\"-1658.8\" font-family=\"Helvetica,sans-Serif\" font-size=\"14.00\" fill=\"#000000\">class = Unsurvived</text>\n</g>\n<!-- 119&#45;&gt;127 -->\n<g id=\"edge127\" class=\"edge\">\n<title>119&#45;&gt;127</title>\n<path fill=\"none\" stroke=\"#000000\" d=\"M3045.1304,-1769.8796C3050.93,-1761.1434 3057.1059,-1751.8404 3063.0908,-1742.8253\"/>\n<polygon fill=\"#000000\" stroke=\"#000000\" points=\"3066.1368,-1744.5652 3068.7517,-1734.2981 3060.3049,-1740.6935 3066.1368,-1744.5652\"/>\n</g>\n<!-- 121 -->\n<g id=\"node122\" class=\"node\">\n<title>121</title>\n<path fill=\"#4da7e8\" stroke=\"#000000\" d=\"M2838,-1615C2838,-1615 2739,-1615 2739,-1615 2733,-1615 2727,-1609 2727,-1603 2727,-1603 2727,-1544 2727,-1544 2727,-1538 2733,-1532 2739,-1532 2739,-1532 2838,-1532 2838,-1532 2844,-1532 2850,-1538 2850,-1544 2850,-1544 2850,-1603 2850,-1603 2850,-1609 2844,-1615 2838,-1615\"/>\n<text text-anchor=\"middle\" x=\"2788.5\" y=\"-1599.8\" font-family=\"Helvetica,sans-Serif\" font-size=\"14.00\" fill=\"#000000\">age &lt;= 31.85</text>\n<text text-anchor=\"middle\" x=\"2788.5\" y=\"-1584.8\" font-family=\"Helvetica,sans-Serif\" font-size=\"14.00\" fill=\"#000000\">gini = 0.165</text>\n<text text-anchor=\"middle\" x=\"2788.5\" y=\"-1569.8\" font-family=\"Helvetica,sans-Serif\" font-size=\"14.00\" fill=\"#000000\">samples = 11</text>\n<text text-anchor=\"middle\" x=\"2788.5\" y=\"-1554.8\" font-family=\"Helvetica,sans-Serif\" font-size=\"14.00\" fill=\"#000000\">value = [1, 10]</text>\n<text text-anchor=\"middle\" x=\"2788.5\" y=\"-1539.8\" font-family=\"Helvetica,sans-Serif\" font-size=\"14.00\" fill=\"#000000\">class = Survived</text>\n</g>\n<!-- 120&#45;&gt;121 -->\n<g id=\"edge121\" class=\"edge\">\n<title>120&#45;&gt;121</title>\n<path fill=\"none\" stroke=\"#000000\" d=\"M2886.0373,-1650.8796C2874.0479,-1641.368 2861.2113,-1631.1843 2848.9184,-1621.432\"/>\n<polygon fill=\"#000000\" stroke=\"#000000\" points=\"2850.9425,-1618.5701 2840.9331,-1615.0969 2846.5919,-1624.054 2850.9425,-1618.5701\"/>\n</g>\n<!-- 126 -->\n<g id=\"node127\" class=\"node\">\n<title>126</title>\n<path fill=\"#e58139\" stroke=\"#000000\" d=\"M2996.5,-1607.5C2996.5,-1607.5 2880.5,-1607.5 2880.5,-1607.5 2874.5,-1607.5 2868.5,-1601.5 2868.5,-1595.5 2868.5,-1595.5 2868.5,-1551.5 2868.5,-1551.5 2868.5,-1545.5 2874.5,-1539.5 2880.5,-1539.5 2880.5,-1539.5 2996.5,-1539.5 2996.5,-1539.5 3002.5,-1539.5 3008.5,-1545.5 3008.5,-1551.5 3008.5,-1551.5 3008.5,-1595.5 3008.5,-1595.5 3008.5,-1601.5 3002.5,-1607.5 2996.5,-1607.5\"/>\n<text text-anchor=\"middle\" x=\"2938.5\" y=\"-1592.3\" font-family=\"Helvetica,sans-Serif\" font-size=\"14.00\" fill=\"#000000\">gini = 0.0</text>\n<text text-anchor=\"middle\" x=\"2938.5\" y=\"-1577.3\" font-family=\"Helvetica,sans-Serif\" font-size=\"14.00\" fill=\"#000000\">samples = 4</text>\n<text text-anchor=\"middle\" x=\"2938.5\" y=\"-1562.3\" font-family=\"Helvetica,sans-Serif\" font-size=\"14.00\" fill=\"#000000\">value = [4, 0]</text>\n<text text-anchor=\"middle\" x=\"2938.5\" y=\"-1547.3\" font-family=\"Helvetica,sans-Serif\" font-size=\"14.00\" fill=\"#000000\">class = Unsurvived</text>\n</g>\n<!-- 120&#45;&gt;126 -->\n<g id=\"edge126\" class=\"edge\">\n<title>120&#45;&gt;126</title>\n<path fill=\"none\" stroke=\"#000000\" d=\"M2938.5,-1650.8796C2938.5,-1640.2134 2938.5,-1628.7021 2938.5,-1617.9015\"/>\n<polygon fill=\"#000000\" stroke=\"#000000\" points=\"2942.0001,-1617.8149 2938.5,-1607.8149 2935.0001,-1617.815 2942.0001,-1617.8149\"/>\n</g>\n<!-- 122 -->\n<g id=\"node123\" class=\"node\">\n<title>122</title>\n<path fill=\"#9ccef2\" stroke=\"#000000\" d=\"M2699,-1496C2699,-1496 2600,-1496 2600,-1496 2594,-1496 2588,-1490 2588,-1484 2588,-1484 2588,-1425 2588,-1425 2588,-1419 2594,-1413 2600,-1413 2600,-1413 2699,-1413 2699,-1413 2705,-1413 2711,-1419 2711,-1425 2711,-1425 2711,-1484 2711,-1484 2711,-1490 2705,-1496 2699,-1496\"/>\n<text text-anchor=\"middle\" x=\"2649.5\" y=\"-1480.8\" font-family=\"Helvetica,sans-Serif\" font-size=\"14.00\" fill=\"#000000\">age &lt;= 28.85</text>\n<text text-anchor=\"middle\" x=\"2649.5\" y=\"-1465.8\" font-family=\"Helvetica,sans-Serif\" font-size=\"14.00\" fill=\"#000000\">gini = 0.444</text>\n<text text-anchor=\"middle\" x=\"2649.5\" y=\"-1450.8\" font-family=\"Helvetica,sans-Serif\" font-size=\"14.00\" fill=\"#000000\">samples = 3</text>\n<text text-anchor=\"middle\" x=\"2649.5\" y=\"-1435.8\" font-family=\"Helvetica,sans-Serif\" font-size=\"14.00\" fill=\"#000000\">value = [1, 2]</text>\n<text text-anchor=\"middle\" x=\"2649.5\" y=\"-1420.8\" font-family=\"Helvetica,sans-Serif\" font-size=\"14.00\" fill=\"#000000\">class = Survived</text>\n</g>\n<!-- 121&#45;&gt;122 -->\n<g id=\"edge122\" class=\"edge\">\n<title>121&#45;&gt;122</title>\n<path fill=\"none\" stroke=\"#000000\" d=\"M2739.8845,-1531.8796C2728.9438,-1522.513 2717.2418,-1512.4948 2706.0092,-1502.8784\"/>\n<polygon fill=\"#000000\" stroke=\"#000000\" points=\"2708.1956,-1500.1428 2698.323,-1496.2981 2703.6432,-1505.4603 2708.1956,-1500.1428\"/>\n</g>\n<!-- 125 -->\n<g id=\"node126\" class=\"node\">\n<title>125</title>\n<path fill=\"#399de5\" stroke=\"#000000\" d=\"M2840,-1488.5C2840,-1488.5 2741,-1488.5 2741,-1488.5 2735,-1488.5 2729,-1482.5 2729,-1476.5 2729,-1476.5 2729,-1432.5 2729,-1432.5 2729,-1426.5 2735,-1420.5 2741,-1420.5 2741,-1420.5 2840,-1420.5 2840,-1420.5 2846,-1420.5 2852,-1426.5 2852,-1432.5 2852,-1432.5 2852,-1476.5 2852,-1476.5 2852,-1482.5 2846,-1488.5 2840,-1488.5\"/>\n<text text-anchor=\"middle\" x=\"2790.5\" y=\"-1473.3\" font-family=\"Helvetica,sans-Serif\" font-size=\"14.00\" fill=\"#000000\">gini = 0.0</text>\n<text text-anchor=\"middle\" x=\"2790.5\" y=\"-1458.3\" font-family=\"Helvetica,sans-Serif\" font-size=\"14.00\" fill=\"#000000\">samples = 8</text>\n<text text-anchor=\"middle\" x=\"2790.5\" y=\"-1443.3\" font-family=\"Helvetica,sans-Serif\" font-size=\"14.00\" fill=\"#000000\">value = [0, 8]</text>\n<text text-anchor=\"middle\" x=\"2790.5\" y=\"-1428.3\" font-family=\"Helvetica,sans-Serif\" font-size=\"14.00\" fill=\"#000000\">class = Survived</text>\n</g>\n<!-- 121&#45;&gt;125 -->\n<g id=\"edge125\" class=\"edge\">\n<title>121&#45;&gt;125</title>\n<path fill=\"none\" stroke=\"#000000\" d=\"M2789.1995,-1531.8796C2789.3788,-1521.2134 2789.5722,-1509.7021 2789.7538,-1498.9015\"/>\n<polygon fill=\"#000000\" stroke=\"#000000\" points=\"2793.2546,-1498.8724 2789.9233,-1488.8149 2786.2556,-1498.7547 2793.2546,-1498.8724\"/>\n</g>\n<!-- 123 -->\n<g id=\"node124\" class=\"node\">\n<title>123</title>\n<path fill=\"#399de5\" stroke=\"#000000\" d=\"M2584,-1369.5C2584,-1369.5 2485,-1369.5 2485,-1369.5 2479,-1369.5 2473,-1363.5 2473,-1357.5 2473,-1357.5 2473,-1313.5 2473,-1313.5 2473,-1307.5 2479,-1301.5 2485,-1301.5 2485,-1301.5 2584,-1301.5 2584,-1301.5 2590,-1301.5 2596,-1307.5 2596,-1313.5 2596,-1313.5 2596,-1357.5 2596,-1357.5 2596,-1363.5 2590,-1369.5 2584,-1369.5\"/>\n<text text-anchor=\"middle\" x=\"2534.5\" y=\"-1354.3\" font-family=\"Helvetica,sans-Serif\" font-size=\"14.00\" fill=\"#000000\">gini = 0.0</text>\n<text text-anchor=\"middle\" x=\"2534.5\" y=\"-1339.3\" font-family=\"Helvetica,sans-Serif\" font-size=\"14.00\" fill=\"#000000\">samples = 1</text>\n<text text-anchor=\"middle\" x=\"2534.5\" y=\"-1324.3\" font-family=\"Helvetica,sans-Serif\" font-size=\"14.00\" fill=\"#000000\">value = [0, 1]</text>\n<text text-anchor=\"middle\" x=\"2534.5\" y=\"-1309.3\" font-family=\"Helvetica,sans-Serif\" font-size=\"14.00\" fill=\"#000000\">class = Survived</text>\n</g>\n<!-- 122&#45;&gt;123 -->\n<g id=\"edge123\" class=\"edge\">\n<title>122&#45;&gt;123</title>\n<path fill=\"none\" stroke=\"#000000\" d=\"M2609.2786,-1412.8796C2598.1208,-1401.3337 2586.0061,-1388.7976 2574.8414,-1377.2446\"/>\n<polygon fill=\"#000000\" stroke=\"#000000\" points=\"2577.1275,-1374.5736 2567.6615,-1369.8149 2572.0939,-1379.4381 2577.1275,-1374.5736\"/>\n</g>\n<!-- 124 -->\n<g id=\"node125\" class=\"node\">\n<title>124</title>\n<path fill=\"#ffffff\" stroke=\"#000000\" d=\"M2742.5,-1369.5C2742.5,-1369.5 2626.5,-1369.5 2626.5,-1369.5 2620.5,-1369.5 2614.5,-1363.5 2614.5,-1357.5 2614.5,-1357.5 2614.5,-1313.5 2614.5,-1313.5 2614.5,-1307.5 2620.5,-1301.5 2626.5,-1301.5 2626.5,-1301.5 2742.5,-1301.5 2742.5,-1301.5 2748.5,-1301.5 2754.5,-1307.5 2754.5,-1313.5 2754.5,-1313.5 2754.5,-1357.5 2754.5,-1357.5 2754.5,-1363.5 2748.5,-1369.5 2742.5,-1369.5\"/>\n<text text-anchor=\"middle\" x=\"2684.5\" y=\"-1354.3\" font-family=\"Helvetica,sans-Serif\" font-size=\"14.00\" fill=\"#000000\">gini = 0.5</text>\n<text text-anchor=\"middle\" x=\"2684.5\" y=\"-1339.3\" font-family=\"Helvetica,sans-Serif\" font-size=\"14.00\" fill=\"#000000\">samples = 2</text>\n<text text-anchor=\"middle\" x=\"2684.5\" y=\"-1324.3\" font-family=\"Helvetica,sans-Serif\" font-size=\"14.00\" fill=\"#000000\">value = [1, 1]</text>\n<text text-anchor=\"middle\" x=\"2684.5\" y=\"-1309.3\" font-family=\"Helvetica,sans-Serif\" font-size=\"14.00\" fill=\"#000000\">class = Unsurvived</text>\n</g>\n<!-- 122&#45;&gt;124 -->\n<g id=\"edge124\" class=\"edge\">\n<title>122&#45;&gt;124</title>\n<path fill=\"none\" stroke=\"#000000\" d=\"M2661.7413,-1412.8796C2664.9108,-1402.1034 2668.3339,-1390.4647 2671.5389,-1379.5677\"/>\n<polygon fill=\"#000000\" stroke=\"#000000\" points=\"2674.9434,-1380.3962 2674.4074,-1369.8149 2668.2279,-1378.421 2674.9434,-1380.3962\"/>\n</g>\n<!-- 128 -->\n<g id=\"node129\" class=\"node\">\n<title>128</title>\n<path fill=\"#f1bc96\" stroke=\"#000000\" d=\"M3154.5,-1615C3154.5,-1615 3038.5,-1615 3038.5,-1615 3032.5,-1615 3026.5,-1609 3026.5,-1603 3026.5,-1603 3026.5,-1544 3026.5,-1544 3026.5,-1538 3032.5,-1532 3038.5,-1532 3038.5,-1532 3154.5,-1532 3154.5,-1532 3160.5,-1532 3166.5,-1538 3166.5,-1544 3166.5,-1544 3166.5,-1603 3166.5,-1603 3166.5,-1609 3160.5,-1615 3154.5,-1615\"/>\n<text text-anchor=\"middle\" x=\"3096.5\" y=\"-1599.8\" font-family=\"Helvetica,sans-Serif\" font-size=\"14.00\" fill=\"#000000\">fare &lt;= 134.625</text>\n<text text-anchor=\"middle\" x=\"3096.5\" y=\"-1584.8\" font-family=\"Helvetica,sans-Serif\" font-size=\"14.00\" fill=\"#000000\">gini = 0.434</text>\n<text text-anchor=\"middle\" x=\"3096.5\" y=\"-1569.8\" font-family=\"Helvetica,sans-Serif\" font-size=\"14.00\" fill=\"#000000\">samples = 69</text>\n<text text-anchor=\"middle\" x=\"3096.5\" y=\"-1554.8\" font-family=\"Helvetica,sans-Serif\" font-size=\"14.00\" fill=\"#000000\">value = [47, 22]</text>\n<text text-anchor=\"middle\" x=\"3096.5\" y=\"-1539.8\" font-family=\"Helvetica,sans-Serif\" font-size=\"14.00\" fill=\"#000000\">class = Unsurvived</text>\n</g>\n<!-- 127&#45;&gt;128 -->\n<g id=\"edge128\" class=\"edge\">\n<title>127&#45;&gt;128</title>\n<path fill=\"none\" stroke=\"#000000\" d=\"M3096.5,-1650.8796C3096.5,-1642.6838 3096.5,-1633.9891 3096.5,-1625.5013\"/>\n<polygon fill=\"#000000\" stroke=\"#000000\" points=\"3100.0001,-1625.298 3096.5,-1615.2981 3093.0001,-1625.2981 3100.0001,-1625.298\"/>\n</g>\n<!-- 177 -->\n<g id=\"node178\" class=\"node\">\n<title>177</title>\n<path fill=\"#399de5\" stroke=\"#000000\" d=\"M3296,-1607.5C3296,-1607.5 3197,-1607.5 3197,-1607.5 3191,-1607.5 3185,-1601.5 3185,-1595.5 3185,-1595.5 3185,-1551.5 3185,-1551.5 3185,-1545.5 3191,-1539.5 3197,-1539.5 3197,-1539.5 3296,-1539.5 3296,-1539.5 3302,-1539.5 3308,-1545.5 3308,-1551.5 3308,-1551.5 3308,-1595.5 3308,-1595.5 3308,-1601.5 3302,-1607.5 3296,-1607.5\"/>\n<text text-anchor=\"middle\" x=\"3246.5\" y=\"-1592.3\" font-family=\"Helvetica,sans-Serif\" font-size=\"14.00\" fill=\"#000000\">gini = 0.0</text>\n<text text-anchor=\"middle\" x=\"3246.5\" y=\"-1577.3\" font-family=\"Helvetica,sans-Serif\" font-size=\"14.00\" fill=\"#000000\">samples = 2</text>\n<text text-anchor=\"middle\" x=\"3246.5\" y=\"-1562.3\" font-family=\"Helvetica,sans-Serif\" font-size=\"14.00\" fill=\"#000000\">value = [0, 2]</text>\n<text text-anchor=\"middle\" x=\"3246.5\" y=\"-1547.3\" font-family=\"Helvetica,sans-Serif\" font-size=\"14.00\" fill=\"#000000\">class = Survived</text>\n</g>\n<!-- 127&#45;&gt;177 -->\n<g id=\"edge177\" class=\"edge\">\n<title>127&#45;&gt;177</title>\n<path fill=\"none\" stroke=\"#000000\" d=\"M3148.9627,-1650.8796C3163.9322,-1639.0038 3180.2222,-1626.0804 3195.1259,-1614.2568\"/>\n<polygon fill=\"#000000\" stroke=\"#000000\" points=\"3197.587,-1616.772 3203.2459,-1607.8149 3193.2365,-1611.2881 3197.587,-1616.772\"/>\n</g>\n<!-- 129 -->\n<g id=\"node130\" class=\"node\">\n<title>129</title>\n<path fill=\"#f4c8a9\" stroke=\"#000000\" d=\"M3000.5,-1496C3000.5,-1496 2884.5,-1496 2884.5,-1496 2878.5,-1496 2872.5,-1490 2872.5,-1484 2872.5,-1484 2872.5,-1425 2872.5,-1425 2872.5,-1419 2878.5,-1413 2884.5,-1413 2884.5,-1413 3000.5,-1413 3000.5,-1413 3006.5,-1413 3012.5,-1419 3012.5,-1425 3012.5,-1425 3012.5,-1484 3012.5,-1484 3012.5,-1490 3006.5,-1496 3000.5,-1496\"/>\n<text text-anchor=\"middle\" x=\"2942.5\" y=\"-1480.8\" font-family=\"Helvetica,sans-Serif\" font-size=\"14.00\" fill=\"#000000\">age &lt;= 27.5</text>\n<text text-anchor=\"middle\" x=\"2942.5\" y=\"-1465.8\" font-family=\"Helvetica,sans-Serif\" font-size=\"14.00\" fill=\"#000000\">gini = 0.461</text>\n<text text-anchor=\"middle\" x=\"2942.5\" y=\"-1450.8\" font-family=\"Helvetica,sans-Serif\" font-size=\"14.00\" fill=\"#000000\">samples = 61</text>\n<text text-anchor=\"middle\" x=\"2942.5\" y=\"-1435.8\" font-family=\"Helvetica,sans-Serif\" font-size=\"14.00\" fill=\"#000000\">value = [39, 22]</text>\n<text text-anchor=\"middle\" x=\"2942.5\" y=\"-1420.8\" font-family=\"Helvetica,sans-Serif\" font-size=\"14.00\" fill=\"#000000\">class = Unsurvived</text>\n</g>\n<!-- 128&#45;&gt;129 -->\n<g id=\"edge129\" class=\"edge\">\n<title>128&#45;&gt;129</title>\n<path fill=\"none\" stroke=\"#000000\" d=\"M3042.6383,-1531.8796C3030.3291,-1522.368 3017.1503,-1512.1843 3004.5296,-1502.432\"/>\n<polygon fill=\"#000000\" stroke=\"#000000\" points=\"3006.3843,-1499.4419 2996.3313,-1496.0969 3002.1041,-1504.9809 3006.3843,-1499.4419\"/>\n</g>\n<!-- 176 -->\n<g id=\"node177\" class=\"node\">\n<title>176</title>\n<path fill=\"#e58139\" stroke=\"#000000\" d=\"M3158.5,-1488.5C3158.5,-1488.5 3042.5,-1488.5 3042.5,-1488.5 3036.5,-1488.5 3030.5,-1482.5 3030.5,-1476.5 3030.5,-1476.5 3030.5,-1432.5 3030.5,-1432.5 3030.5,-1426.5 3036.5,-1420.5 3042.5,-1420.5 3042.5,-1420.5 3158.5,-1420.5 3158.5,-1420.5 3164.5,-1420.5 3170.5,-1426.5 3170.5,-1432.5 3170.5,-1432.5 3170.5,-1476.5 3170.5,-1476.5 3170.5,-1482.5 3164.5,-1488.5 3158.5,-1488.5\"/>\n<text text-anchor=\"middle\" x=\"3100.5\" y=\"-1473.3\" font-family=\"Helvetica,sans-Serif\" font-size=\"14.00\" fill=\"#000000\">gini = 0.0</text>\n<text text-anchor=\"middle\" x=\"3100.5\" y=\"-1458.3\" font-family=\"Helvetica,sans-Serif\" font-size=\"14.00\" fill=\"#000000\">samples = 8</text>\n<text text-anchor=\"middle\" x=\"3100.5\" y=\"-1443.3\" font-family=\"Helvetica,sans-Serif\" font-size=\"14.00\" fill=\"#000000\">value = [8, 0]</text>\n<text text-anchor=\"middle\" x=\"3100.5\" y=\"-1428.3\" font-family=\"Helvetica,sans-Serif\" font-size=\"14.00\" fill=\"#000000\">class = Unsurvived</text>\n</g>\n<!-- 128&#45;&gt;176 -->\n<g id=\"edge176\" class=\"edge\">\n<title>128&#45;&gt;176</title>\n<path fill=\"none\" stroke=\"#000000\" d=\"M3097.899,-1531.8796C3098.2575,-1521.2134 3098.6445,-1509.7021 3099.0075,-1498.9015\"/>\n<polygon fill=\"#000000\" stroke=\"#000000\" points=\"3102.5085,-1498.9269 3099.3466,-1488.8149 3095.5125,-1498.6917 3102.5085,-1498.9269\"/>\n</g>\n<!-- 130 -->\n<g id=\"node131\" class=\"node\">\n<title>130</title>\n<path fill=\"#8ec7f0\" stroke=\"#000000\" d=\"M2956,-1377C2956,-1377 2857,-1377 2857,-1377 2851,-1377 2845,-1371 2845,-1365 2845,-1365 2845,-1306 2845,-1306 2845,-1300 2851,-1294 2857,-1294 2857,-1294 2956,-1294 2956,-1294 2962,-1294 2968,-1300 2968,-1306 2968,-1306 2968,-1365 2968,-1365 2968,-1371 2962,-1377 2956,-1377\"/>\n<text text-anchor=\"middle\" x=\"2906.5\" y=\"-1361.8\" font-family=\"Helvetica,sans-Serif\" font-size=\"14.00\" fill=\"#000000\">age &lt;= 24.5</text>\n<text text-anchor=\"middle\" x=\"2906.5\" y=\"-1346.8\" font-family=\"Helvetica,sans-Serif\" font-size=\"14.00\" fill=\"#000000\">gini = 0.42</text>\n<text text-anchor=\"middle\" x=\"2906.5\" y=\"-1331.8\" font-family=\"Helvetica,sans-Serif\" font-size=\"14.00\" fill=\"#000000\">samples = 10</text>\n<text text-anchor=\"middle\" x=\"2906.5\" y=\"-1316.8\" font-family=\"Helvetica,sans-Serif\" font-size=\"14.00\" fill=\"#000000\">value = [3, 7]</text>\n<text text-anchor=\"middle\" x=\"2906.5\" y=\"-1301.8\" font-family=\"Helvetica,sans-Serif\" font-size=\"14.00\" fill=\"#000000\">class = Survived</text>\n</g>\n<!-- 129&#45;&gt;130 -->\n<g id=\"edge130\" class=\"edge\">\n<title>129&#45;&gt;130</title>\n<path fill=\"none\" stroke=\"#000000\" d=\"M2929.9089,-1412.8796C2927.3751,-1404.5037 2924.6835,-1395.6067 2922.0623,-1386.942\"/>\n<polygon fill=\"#000000\" stroke=\"#000000\" points=\"2925.3905,-1385.8562 2919.1448,-1377.2981 2918.6904,-1387.8832 2925.3905,-1385.8562\"/>\n</g>\n<!-- 139 -->\n<g id=\"node140\" class=\"node\">\n<title>139</title>\n<path fill=\"#f0b58b\" stroke=\"#000000\" d=\"M3116.5,-1377C3116.5,-1377 3000.5,-1377 3000.5,-1377 2994.5,-1377 2988.5,-1371 2988.5,-1365 2988.5,-1365 2988.5,-1306 2988.5,-1306 2988.5,-1300 2994.5,-1294 3000.5,-1294 3000.5,-1294 3116.5,-1294 3116.5,-1294 3122.5,-1294 3128.5,-1300 3128.5,-1306 3128.5,-1306 3128.5,-1365 3128.5,-1365 3128.5,-1371 3122.5,-1377 3116.5,-1377\"/>\n<text text-anchor=\"middle\" x=\"3058.5\" y=\"-1361.8\" font-family=\"Helvetica,sans-Serif\" font-size=\"14.00\" fill=\"#000000\">fare &lt;= 115.438</text>\n<text text-anchor=\"middle\" x=\"3058.5\" y=\"-1346.8\" font-family=\"Helvetica,sans-Serif\" font-size=\"14.00\" fill=\"#000000\">gini = 0.415</text>\n<text text-anchor=\"middle\" x=\"3058.5\" y=\"-1331.8\" font-family=\"Helvetica,sans-Serif\" font-size=\"14.00\" fill=\"#000000\">samples = 51</text>\n<text text-anchor=\"middle\" x=\"3058.5\" y=\"-1316.8\" font-family=\"Helvetica,sans-Serif\" font-size=\"14.00\" fill=\"#000000\">value = [36, 15]</text>\n<text text-anchor=\"middle\" x=\"3058.5\" y=\"-1301.8\" font-family=\"Helvetica,sans-Serif\" font-size=\"14.00\" fill=\"#000000\">class = Unsurvived</text>\n</g>\n<!-- 129&#45;&gt;139 -->\n<g id=\"edge139\" class=\"edge\">\n<title>129&#45;&gt;139</title>\n<path fill=\"none\" stroke=\"#000000\" d=\"M2983.0712,-1412.8796C2991.9382,-1403.7832 3001.4044,-1394.0722 3010.5291,-1384.7116\"/>\n<polygon fill=\"#000000\" stroke=\"#000000\" points=\"3013.2817,-1386.9019 3017.7557,-1377.2981 3008.2691,-1382.0158 3013.2817,-1386.9019\"/>\n</g>\n<!-- 131 -->\n<g id=\"node132\" class=\"node\">\n<title>131</title>\n<path fill=\"#f6d5bd\" stroke=\"#000000\" d=\"M2813.5,-1258C2813.5,-1258 2697.5,-1258 2697.5,-1258 2691.5,-1258 2685.5,-1252 2685.5,-1246 2685.5,-1246 2685.5,-1187 2685.5,-1187 2685.5,-1181 2691.5,-1175 2697.5,-1175 2697.5,-1175 2813.5,-1175 2813.5,-1175 2819.5,-1175 2825.5,-1181 2825.5,-1187 2825.5,-1187 2825.5,-1246 2825.5,-1246 2825.5,-1252 2819.5,-1258 2813.5,-1258\"/>\n<text text-anchor=\"middle\" x=\"2755.5\" y=\"-1242.8\" font-family=\"Helvetica,sans-Serif\" font-size=\"14.00\" fill=\"#000000\">parch &lt;= 0.5</text>\n<text text-anchor=\"middle\" x=\"2755.5\" y=\"-1227.8\" font-family=\"Helvetica,sans-Serif\" font-size=\"14.00\" fill=\"#000000\">gini = 0.48</text>\n<text text-anchor=\"middle\" x=\"2755.5\" y=\"-1212.8\" font-family=\"Helvetica,sans-Serif\" font-size=\"14.00\" fill=\"#000000\">samples = 5</text>\n<text text-anchor=\"middle\" x=\"2755.5\" y=\"-1197.8\" font-family=\"Helvetica,sans-Serif\" font-size=\"14.00\" fill=\"#000000\">value = [3, 2]</text>\n<text text-anchor=\"middle\" x=\"2755.5\" y=\"-1182.8\" font-family=\"Helvetica,sans-Serif\" font-size=\"14.00\" fill=\"#000000\">class = Unsurvived</text>\n</g>\n<!-- 130&#45;&gt;131 -->\n<g id=\"edge131\" class=\"edge\">\n<title>130&#45;&gt;131</title>\n<path fill=\"none\" stroke=\"#000000\" d=\"M2853.6875,-1293.8796C2841.6182,-1284.368 2828.6961,-1274.1843 2816.3212,-1264.432\"/>\n<polygon fill=\"#000000\" stroke=\"#000000\" points=\"2818.3032,-1261.5377 2808.2827,-1258.0969 2813.9704,-1267.0356 2818.3032,-1261.5377\"/>\n</g>\n<!-- 138 -->\n<g id=\"node139\" class=\"node\">\n<title>138</title>\n<path fill=\"#399de5\" stroke=\"#000000\" d=\"M2956,-1250.5C2956,-1250.5 2857,-1250.5 2857,-1250.5 2851,-1250.5 2845,-1244.5 2845,-1238.5 2845,-1238.5 2845,-1194.5 2845,-1194.5 2845,-1188.5 2851,-1182.5 2857,-1182.5 2857,-1182.5 2956,-1182.5 2956,-1182.5 2962,-1182.5 2968,-1188.5 2968,-1194.5 2968,-1194.5 2968,-1238.5 2968,-1238.5 2968,-1244.5 2962,-1250.5 2956,-1250.5\"/>\n<text text-anchor=\"middle\" x=\"2906.5\" y=\"-1235.3\" font-family=\"Helvetica,sans-Serif\" font-size=\"14.00\" fill=\"#000000\">gini = 0.0</text>\n<text text-anchor=\"middle\" x=\"2906.5\" y=\"-1220.3\" font-family=\"Helvetica,sans-Serif\" font-size=\"14.00\" fill=\"#000000\">samples = 5</text>\n<text text-anchor=\"middle\" x=\"2906.5\" y=\"-1205.3\" font-family=\"Helvetica,sans-Serif\" font-size=\"14.00\" fill=\"#000000\">value = [0, 5]</text>\n<text text-anchor=\"middle\" x=\"2906.5\" y=\"-1190.3\" font-family=\"Helvetica,sans-Serif\" font-size=\"14.00\" fill=\"#000000\">class = Survived</text>\n</g>\n<!-- 130&#45;&gt;138 -->\n<g id=\"edge138\" class=\"edge\">\n<title>130&#45;&gt;138</title>\n<path fill=\"none\" stroke=\"#000000\" d=\"M2906.5,-1293.8796C2906.5,-1283.2134 2906.5,-1271.7021 2906.5,-1260.9015\"/>\n<polygon fill=\"#000000\" stroke=\"#000000\" points=\"2910.0001,-1260.8149 2906.5,-1250.8149 2903.0001,-1260.815 2910.0001,-1260.8149\"/>\n</g>\n<!-- 132 -->\n<g id=\"node133\" class=\"node\">\n<title>132</title>\n<path fill=\"#e58139\" stroke=\"#000000\" d=\"M2663.5,-1131.5C2663.5,-1131.5 2547.5,-1131.5 2547.5,-1131.5 2541.5,-1131.5 2535.5,-1125.5 2535.5,-1119.5 2535.5,-1119.5 2535.5,-1075.5 2535.5,-1075.5 2535.5,-1069.5 2541.5,-1063.5 2547.5,-1063.5 2547.5,-1063.5 2663.5,-1063.5 2663.5,-1063.5 2669.5,-1063.5 2675.5,-1069.5 2675.5,-1075.5 2675.5,-1075.5 2675.5,-1119.5 2675.5,-1119.5 2675.5,-1125.5 2669.5,-1131.5 2663.5,-1131.5\"/>\n<text text-anchor=\"middle\" x=\"2605.5\" y=\"-1116.3\" font-family=\"Helvetica,sans-Serif\" font-size=\"14.00\" fill=\"#000000\">gini = 0.0</text>\n<text text-anchor=\"middle\" x=\"2605.5\" y=\"-1101.3\" font-family=\"Helvetica,sans-Serif\" font-size=\"14.00\" fill=\"#000000\">samples = 2</text>\n<text text-anchor=\"middle\" x=\"2605.5\" y=\"-1086.3\" font-family=\"Helvetica,sans-Serif\" font-size=\"14.00\" fill=\"#000000\">value = [2, 0]</text>\n<text text-anchor=\"middle\" x=\"2605.5\" y=\"-1071.3\" font-family=\"Helvetica,sans-Serif\" font-size=\"14.00\" fill=\"#000000\">class = Unsurvived</text>\n</g>\n<!-- 131&#45;&gt;132 -->\n<g id=\"edge132\" class=\"edge\">\n<title>131&#45;&gt;132</title>\n<path fill=\"none\" stroke=\"#000000\" d=\"M2703.0373,-1174.8796C2688.0678,-1163.0038 2671.7778,-1150.0804 2656.8741,-1138.2568\"/>\n<polygon fill=\"#000000\" stroke=\"#000000\" points=\"2658.7635,-1135.2881 2648.7541,-1131.8149 2654.413,-1140.772 2658.7635,-1135.2881\"/>\n</g>\n<!-- 133 -->\n<g id=\"node134\" class=\"node\">\n<title>133</title>\n<path fill=\"#9ccef2\" stroke=\"#000000\" d=\"M2805,-1139C2805,-1139 2706,-1139 2706,-1139 2700,-1139 2694,-1133 2694,-1127 2694,-1127 2694,-1068 2694,-1068 2694,-1062 2700,-1056 2706,-1056 2706,-1056 2805,-1056 2805,-1056 2811,-1056 2817,-1062 2817,-1068 2817,-1068 2817,-1127 2817,-1127 2817,-1133 2811,-1139 2805,-1139\"/>\n<text text-anchor=\"middle\" x=\"2755.5\" y=\"-1123.8\" font-family=\"Helvetica,sans-Serif\" font-size=\"14.00\" fill=\"#000000\">age &lt;= 19.0</text>\n<text text-anchor=\"middle\" x=\"2755.5\" y=\"-1108.8\" font-family=\"Helvetica,sans-Serif\" font-size=\"14.00\" fill=\"#000000\">gini = 0.444</text>\n<text text-anchor=\"middle\" x=\"2755.5\" y=\"-1093.8\" font-family=\"Helvetica,sans-Serif\" font-size=\"14.00\" fill=\"#000000\">samples = 3</text>\n<text text-anchor=\"middle\" x=\"2755.5\" y=\"-1078.8\" font-family=\"Helvetica,sans-Serif\" font-size=\"14.00\" fill=\"#000000\">value = [1, 2]</text>\n<text text-anchor=\"middle\" x=\"2755.5\" y=\"-1063.8\" font-family=\"Helvetica,sans-Serif\" font-size=\"14.00\" fill=\"#000000\">class = Survived</text>\n</g>\n<!-- 131&#45;&gt;133 -->\n<g id=\"edge133\" class=\"edge\">\n<title>131&#45;&gt;133</title>\n<path fill=\"none\" stroke=\"#000000\" d=\"M2755.5,-1174.8796C2755.5,-1166.6838 2755.5,-1157.9891 2755.5,-1149.5013\"/>\n<polygon fill=\"#000000\" stroke=\"#000000\" points=\"2759.0001,-1149.298 2755.5,-1139.2981 2752.0001,-1149.2981 2759.0001,-1149.298\"/>\n</g>\n<!-- 134 -->\n<g id=\"node135\" class=\"node\">\n<title>134</title>\n<path fill=\"#399de5\" stroke=\"#000000\" d=\"M2651,-1012.5C2651,-1012.5 2552,-1012.5 2552,-1012.5 2546,-1012.5 2540,-1006.5 2540,-1000.5 2540,-1000.5 2540,-956.5 2540,-956.5 2540,-950.5 2546,-944.5 2552,-944.5 2552,-944.5 2651,-944.5 2651,-944.5 2657,-944.5 2663,-950.5 2663,-956.5 2663,-956.5 2663,-1000.5 2663,-1000.5 2663,-1006.5 2657,-1012.5 2651,-1012.5\"/>\n<text text-anchor=\"middle\" x=\"2601.5\" y=\"-997.3\" font-family=\"Helvetica,sans-Serif\" font-size=\"14.00\" fill=\"#000000\">gini = 0.0</text>\n<text text-anchor=\"middle\" x=\"2601.5\" y=\"-982.3\" font-family=\"Helvetica,sans-Serif\" font-size=\"14.00\" fill=\"#000000\">samples = 1</text>\n<text text-anchor=\"middle\" x=\"2601.5\" y=\"-967.3\" font-family=\"Helvetica,sans-Serif\" font-size=\"14.00\" fill=\"#000000\">value = [0, 1]</text>\n<text text-anchor=\"middle\" x=\"2601.5\" y=\"-952.3\" font-family=\"Helvetica,sans-Serif\" font-size=\"14.00\" fill=\"#000000\">class = Survived</text>\n</g>\n<!-- 133&#45;&gt;134 -->\n<g id=\"edge134\" class=\"edge\">\n<title>133&#45;&gt;134</title>\n<path fill=\"none\" stroke=\"#000000\" d=\"M2701.6383,-1055.8796C2686.2696,-1044.0038 2669.5453,-1031.0804 2654.2441,-1019.2568\"/>\n<polygon fill=\"#000000\" stroke=\"#000000\" points=\"2655.9605,-1016.1599 2645.9076,-1012.8149 2651.6804,-1021.699 2655.9605,-1016.1599\"/>\n</g>\n<!-- 135 -->\n<g id=\"node136\" class=\"node\">\n<title>135</title>\n<path fill=\"#ffffff\" stroke=\"#000000\" d=\"M2809.5,-1020C2809.5,-1020 2693.5,-1020 2693.5,-1020 2687.5,-1020 2681.5,-1014 2681.5,-1008 2681.5,-1008 2681.5,-949 2681.5,-949 2681.5,-943 2687.5,-937 2693.5,-937 2693.5,-937 2809.5,-937 2809.5,-937 2815.5,-937 2821.5,-943 2821.5,-949 2821.5,-949 2821.5,-1008 2821.5,-1008 2821.5,-1014 2815.5,-1020 2809.5,-1020\"/>\n<text text-anchor=\"middle\" x=\"2751.5\" y=\"-1004.8\" font-family=\"Helvetica,sans-Serif\" font-size=\"14.00\" fill=\"#000000\">fare &lt;= 70.328</text>\n<text text-anchor=\"middle\" x=\"2751.5\" y=\"-989.8\" font-family=\"Helvetica,sans-Serif\" font-size=\"14.00\" fill=\"#000000\">gini = 0.5</text>\n<text text-anchor=\"middle\" x=\"2751.5\" y=\"-974.8\" font-family=\"Helvetica,sans-Serif\" font-size=\"14.00\" fill=\"#000000\">samples = 2</text>\n<text text-anchor=\"middle\" x=\"2751.5\" y=\"-959.8\" font-family=\"Helvetica,sans-Serif\" font-size=\"14.00\" fill=\"#000000\">value = [1, 1]</text>\n<text text-anchor=\"middle\" x=\"2751.5\" y=\"-944.8\" font-family=\"Helvetica,sans-Serif\" font-size=\"14.00\" fill=\"#000000\">class = Unsurvived</text>\n</g>\n<!-- 133&#45;&gt;135 -->\n<g id=\"edge135\" class=\"edge\">\n<title>133&#45;&gt;135</title>\n<path fill=\"none\" stroke=\"#000000\" d=\"M2754.101,-1055.8796C2753.8255,-1047.6838 2753.5332,-1038.9891 2753.2479,-1030.5013\"/>\n<polygon fill=\"#000000\" stroke=\"#000000\" points=\"2756.739,-1030.1748 2752.905,-1020.2981 2749.743,-1030.41 2756.739,-1030.1748\"/>\n</g>\n<!-- 136 -->\n<g id=\"node137\" class=\"node\">\n<title>136</title>\n<path fill=\"#399de5\" stroke=\"#000000\" d=\"M2650,-893.5C2650,-893.5 2551,-893.5 2551,-893.5 2545,-893.5 2539,-887.5 2539,-881.5 2539,-881.5 2539,-837.5 2539,-837.5 2539,-831.5 2545,-825.5 2551,-825.5 2551,-825.5 2650,-825.5 2650,-825.5 2656,-825.5 2662,-831.5 2662,-837.5 2662,-837.5 2662,-881.5 2662,-881.5 2662,-887.5 2656,-893.5 2650,-893.5\"/>\n<text text-anchor=\"middle\" x=\"2600.5\" y=\"-878.3\" font-family=\"Helvetica,sans-Serif\" font-size=\"14.00\" fill=\"#000000\">gini = 0.0</text>\n<text text-anchor=\"middle\" x=\"2600.5\" y=\"-863.3\" font-family=\"Helvetica,sans-Serif\" font-size=\"14.00\" fill=\"#000000\">samples = 1</text>\n<text text-anchor=\"middle\" x=\"2600.5\" y=\"-848.3\" font-family=\"Helvetica,sans-Serif\" font-size=\"14.00\" fill=\"#000000\">value = [0, 1]</text>\n<text text-anchor=\"middle\" x=\"2600.5\" y=\"-833.3\" font-family=\"Helvetica,sans-Serif\" font-size=\"14.00\" fill=\"#000000\">class = Survived</text>\n</g>\n<!-- 135&#45;&gt;136 -->\n<g id=\"edge136\" class=\"edge\">\n<title>135&#45;&gt;136</title>\n<path fill=\"none\" stroke=\"#000000\" d=\"M2698.6875,-936.8796C2683.6183,-925.0038 2667.2197,-912.0804 2652.2166,-900.2568\"/>\n<polygon fill=\"#000000\" stroke=\"#000000\" points=\"2654.0631,-897.2557 2644.0425,-893.8149 2649.7302,-902.7536 2654.0631,-897.2557\"/>\n</g>\n<!-- 137 -->\n<g id=\"node138\" class=\"node\">\n<title>137</title>\n<path fill=\"#e58139\" stroke=\"#000000\" d=\"M2808.5,-893.5C2808.5,-893.5 2692.5,-893.5 2692.5,-893.5 2686.5,-893.5 2680.5,-887.5 2680.5,-881.5 2680.5,-881.5 2680.5,-837.5 2680.5,-837.5 2680.5,-831.5 2686.5,-825.5 2692.5,-825.5 2692.5,-825.5 2808.5,-825.5 2808.5,-825.5 2814.5,-825.5 2820.5,-831.5 2820.5,-837.5 2820.5,-837.5 2820.5,-881.5 2820.5,-881.5 2820.5,-887.5 2814.5,-893.5 2808.5,-893.5\"/>\n<text text-anchor=\"middle\" x=\"2750.5\" y=\"-878.3\" font-family=\"Helvetica,sans-Serif\" font-size=\"14.00\" fill=\"#000000\">gini = 0.0</text>\n<text text-anchor=\"middle\" x=\"2750.5\" y=\"-863.3\" font-family=\"Helvetica,sans-Serif\" font-size=\"14.00\" fill=\"#000000\">samples = 1</text>\n<text text-anchor=\"middle\" x=\"2750.5\" y=\"-848.3\" font-family=\"Helvetica,sans-Serif\" font-size=\"14.00\" fill=\"#000000\">value = [1, 0]</text>\n<text text-anchor=\"middle\" x=\"2750.5\" y=\"-833.3\" font-family=\"Helvetica,sans-Serif\" font-size=\"14.00\" fill=\"#000000\">class = Unsurvived</text>\n</g>\n<!-- 135&#45;&gt;137 -->\n<g id=\"edge137\" class=\"edge\">\n<title>135&#45;&gt;137</title>\n<path fill=\"none\" stroke=\"#000000\" d=\"M2751.1502,-936.8796C2751.0606,-926.2134 2750.9639,-914.7021 2750.8731,-903.9015\"/>\n<polygon fill=\"#000000\" stroke=\"#000000\" points=\"2754.3724,-903.7851 2750.7884,-893.8149 2747.3726,-903.844 2754.3724,-903.7851\"/>\n</g>\n<!-- 140 -->\n<g id=\"node141\" class=\"node\">\n<title>140</title>\n<path fill=\"#eeae80\" stroke=\"#000000\" d=\"M3116.5,-1258C3116.5,-1258 3000.5,-1258 3000.5,-1258 2994.5,-1258 2988.5,-1252 2988.5,-1246 2988.5,-1246 2988.5,-1187 2988.5,-1187 2988.5,-1181 2994.5,-1175 3000.5,-1175 3000.5,-1175 3116.5,-1175 3116.5,-1175 3122.5,-1175 3128.5,-1181 3128.5,-1187 3128.5,-1187 3128.5,-1246 3128.5,-1246 3128.5,-1252 3122.5,-1258 3116.5,-1258\"/>\n<text text-anchor=\"middle\" x=\"3058.5\" y=\"-1242.8\" font-family=\"Helvetica,sans-Serif\" font-size=\"14.00\" fill=\"#000000\">age &lt;= 75.5</text>\n<text text-anchor=\"middle\" x=\"3058.5\" y=\"-1227.8\" font-family=\"Helvetica,sans-Serif\" font-size=\"14.00\" fill=\"#000000\">gini = 0.39</text>\n<text text-anchor=\"middle\" x=\"3058.5\" y=\"-1212.8\" font-family=\"Helvetica,sans-Serif\" font-size=\"14.00\" fill=\"#000000\">samples = 49</text>\n<text text-anchor=\"middle\" x=\"3058.5\" y=\"-1197.8\" font-family=\"Helvetica,sans-Serif\" font-size=\"14.00\" fill=\"#000000\">value = [36, 13]</text>\n<text text-anchor=\"middle\" x=\"3058.5\" y=\"-1182.8\" font-family=\"Helvetica,sans-Serif\" font-size=\"14.00\" fill=\"#000000\">class = Unsurvived</text>\n</g>\n<!-- 139&#45;&gt;140 -->\n<g id=\"edge140\" class=\"edge\">\n<title>139&#45;&gt;140</title>\n<path fill=\"none\" stroke=\"#000000\" d=\"M3058.5,-1293.8796C3058.5,-1285.6838 3058.5,-1276.9891 3058.5,-1268.5013\"/>\n<polygon fill=\"#000000\" stroke=\"#000000\" points=\"3062.0001,-1268.298 3058.5,-1258.2981 3055.0001,-1268.2981 3062.0001,-1268.298\"/>\n</g>\n<!-- 175 -->\n<g id=\"node176\" class=\"node\">\n<title>175</title>\n<path fill=\"#399de5\" stroke=\"#000000\" d=\"M3258,-1250.5C3258,-1250.5 3159,-1250.5 3159,-1250.5 3153,-1250.5 3147,-1244.5 3147,-1238.5 3147,-1238.5 3147,-1194.5 3147,-1194.5 3147,-1188.5 3153,-1182.5 3159,-1182.5 3159,-1182.5 3258,-1182.5 3258,-1182.5 3264,-1182.5 3270,-1188.5 3270,-1194.5 3270,-1194.5 3270,-1238.5 3270,-1238.5 3270,-1244.5 3264,-1250.5 3258,-1250.5\"/>\n<text text-anchor=\"middle\" x=\"3208.5\" y=\"-1235.3\" font-family=\"Helvetica,sans-Serif\" font-size=\"14.00\" fill=\"#000000\">gini = 0.0</text>\n<text text-anchor=\"middle\" x=\"3208.5\" y=\"-1220.3\" font-family=\"Helvetica,sans-Serif\" font-size=\"14.00\" fill=\"#000000\">samples = 2</text>\n<text text-anchor=\"middle\" x=\"3208.5\" y=\"-1205.3\" font-family=\"Helvetica,sans-Serif\" font-size=\"14.00\" fill=\"#000000\">value = [0, 2]</text>\n<text text-anchor=\"middle\" x=\"3208.5\" y=\"-1190.3\" font-family=\"Helvetica,sans-Serif\" font-size=\"14.00\" fill=\"#000000\">class = Survived</text>\n</g>\n<!-- 139&#45;&gt;175 -->\n<g id=\"edge175\" class=\"edge\">\n<title>139&#45;&gt;175</title>\n<path fill=\"none\" stroke=\"#000000\" d=\"M3110.9627,-1293.8796C3125.9322,-1282.0038 3142.2222,-1269.0804 3157.1259,-1257.2568\"/>\n<polygon fill=\"#000000\" stroke=\"#000000\" points=\"3159.587,-1259.772 3165.2459,-1250.8149 3155.2365,-1254.2881 3159.587,-1259.772\"/>\n</g>\n<!-- 141 -->\n<g id=\"node142\" class=\"node\">\n<title>141</title>\n<path fill=\"#eeab7b\" stroke=\"#000000\" d=\"M3116.5,-1139C3116.5,-1139 3000.5,-1139 3000.5,-1139 2994.5,-1139 2988.5,-1133 2988.5,-1127 2988.5,-1127 2988.5,-1068 2988.5,-1068 2988.5,-1062 2994.5,-1056 3000.5,-1056 3000.5,-1056 3116.5,-1056 3116.5,-1056 3122.5,-1056 3128.5,-1062 3128.5,-1068 3128.5,-1068 3128.5,-1127 3128.5,-1127 3128.5,-1133 3122.5,-1139 3116.5,-1139\"/>\n<text text-anchor=\"middle\" x=\"3058.5\" y=\"-1123.8\" font-family=\"Helvetica,sans-Serif\" font-size=\"14.00\" fill=\"#000000\">sibsp &lt;= 0.5</text>\n<text text-anchor=\"middle\" x=\"3058.5\" y=\"-1108.8\" font-family=\"Helvetica,sans-Serif\" font-size=\"14.00\" fill=\"#000000\">gini = 0.375</text>\n<text text-anchor=\"middle\" x=\"3058.5\" y=\"-1093.8\" font-family=\"Helvetica,sans-Serif\" font-size=\"14.00\" fill=\"#000000\">samples = 48</text>\n<text text-anchor=\"middle\" x=\"3058.5\" y=\"-1078.8\" font-family=\"Helvetica,sans-Serif\" font-size=\"14.00\" fill=\"#000000\">value = [36, 12]</text>\n<text text-anchor=\"middle\" x=\"3058.5\" y=\"-1063.8\" font-family=\"Helvetica,sans-Serif\" font-size=\"14.00\" fill=\"#000000\">class = Unsurvived</text>\n</g>\n<!-- 140&#45;&gt;141 -->\n<g id=\"edge141\" class=\"edge\">\n<title>140&#45;&gt;141</title>\n<path fill=\"none\" stroke=\"#000000\" d=\"M3058.5,-1174.8796C3058.5,-1166.6838 3058.5,-1157.9891 3058.5,-1149.5013\"/>\n<polygon fill=\"#000000\" stroke=\"#000000\" points=\"3062.0001,-1149.298 3058.5,-1139.2981 3055.0001,-1149.2981 3062.0001,-1149.298\"/>\n</g>\n<!-- 174 -->\n<g id=\"node175\" class=\"node\">\n<title>174</title>\n<path fill=\"#399de5\" stroke=\"#000000\" d=\"M3258,-1131.5C3258,-1131.5 3159,-1131.5 3159,-1131.5 3153,-1131.5 3147,-1125.5 3147,-1119.5 3147,-1119.5 3147,-1075.5 3147,-1075.5 3147,-1069.5 3153,-1063.5 3159,-1063.5 3159,-1063.5 3258,-1063.5 3258,-1063.5 3264,-1063.5 3270,-1069.5 3270,-1075.5 3270,-1075.5 3270,-1119.5 3270,-1119.5 3270,-1125.5 3264,-1131.5 3258,-1131.5\"/>\n<text text-anchor=\"middle\" x=\"3208.5\" y=\"-1116.3\" font-family=\"Helvetica,sans-Serif\" font-size=\"14.00\" fill=\"#000000\">gini = 0.0</text>\n<text text-anchor=\"middle\" x=\"3208.5\" y=\"-1101.3\" font-family=\"Helvetica,sans-Serif\" font-size=\"14.00\" fill=\"#000000\">samples = 1</text>\n<text text-anchor=\"middle\" x=\"3208.5\" y=\"-1086.3\" font-family=\"Helvetica,sans-Serif\" font-size=\"14.00\" fill=\"#000000\">value = [0, 1]</text>\n<text text-anchor=\"middle\" x=\"3208.5\" y=\"-1071.3\" font-family=\"Helvetica,sans-Serif\" font-size=\"14.00\" fill=\"#000000\">class = Survived</text>\n</g>\n<!-- 140&#45;&gt;174 -->\n<g id=\"edge174\" class=\"edge\">\n<title>140&#45;&gt;174</title>\n<path fill=\"none\" stroke=\"#000000\" d=\"M3110.9627,-1174.8796C3125.9322,-1163.0038 3142.2222,-1150.0804 3157.1259,-1138.2568\"/>\n<polygon fill=\"#000000\" stroke=\"#000000\" points=\"3159.587,-1140.772 3165.2459,-1131.8149 3155.2365,-1135.2881 3159.587,-1140.772\"/>\n</g>\n<!-- 142 -->\n<g id=\"node143\" class=\"node\">\n<title>142</title>\n<path fill=\"#ea9a61\" stroke=\"#000000\" d=\"M3116.5,-1020C3116.5,-1020 3000.5,-1020 3000.5,-1020 2994.5,-1020 2988.5,-1014 2988.5,-1008 2988.5,-1008 2988.5,-949 2988.5,-949 2988.5,-943 2994.5,-937 3000.5,-937 3000.5,-937 3116.5,-937 3116.5,-937 3122.5,-937 3128.5,-943 3128.5,-949 3128.5,-949 3128.5,-1008 3128.5,-1008 3128.5,-1014 3122.5,-1020 3116.5,-1020\"/>\n<text text-anchor=\"middle\" x=\"3058.5\" y=\"-1004.8\" font-family=\"Helvetica,sans-Serif\" font-size=\"14.00\" fill=\"#000000\">fare &lt;= 37.0</text>\n<text text-anchor=\"middle\" x=\"3058.5\" y=\"-989.8\" font-family=\"Helvetica,sans-Serif\" font-size=\"14.00\" fill=\"#000000\">gini = 0.278</text>\n<text text-anchor=\"middle\" x=\"3058.5\" y=\"-974.8\" font-family=\"Helvetica,sans-Serif\" font-size=\"14.00\" fill=\"#000000\">samples = 30</text>\n<text text-anchor=\"middle\" x=\"3058.5\" y=\"-959.8\" font-family=\"Helvetica,sans-Serif\" font-size=\"14.00\" fill=\"#000000\">value = [25, 5]</text>\n<text text-anchor=\"middle\" x=\"3058.5\" y=\"-944.8\" font-family=\"Helvetica,sans-Serif\" font-size=\"14.00\" fill=\"#000000\">class = Unsurvived</text>\n</g>\n<!-- 141&#45;&gt;142 -->\n<g id=\"edge142\" class=\"edge\">\n<title>141&#45;&gt;142</title>\n<path fill=\"none\" stroke=\"#000000\" d=\"M3058.5,-1055.8796C3058.5,-1047.6838 3058.5,-1038.9891 3058.5,-1030.5013\"/>\n<polygon fill=\"#000000\" stroke=\"#000000\" points=\"3062.0001,-1030.298 3058.5,-1020.2981 3055.0001,-1030.2981 3062.0001,-1030.298\"/>\n</g>\n<!-- 159 -->\n<g id=\"node160\" class=\"node\">\n<title>159</title>\n<path fill=\"#f6d1b7\" stroke=\"#000000\" d=\"M3274.5,-1020C3274.5,-1020 3158.5,-1020 3158.5,-1020 3152.5,-1020 3146.5,-1014 3146.5,-1008 3146.5,-1008 3146.5,-949 3146.5,-949 3146.5,-943 3152.5,-937 3158.5,-937 3158.5,-937 3274.5,-937 3274.5,-937 3280.5,-937 3286.5,-943 3286.5,-949 3286.5,-949 3286.5,-1008 3286.5,-1008 3286.5,-1014 3280.5,-1020 3274.5,-1020\"/>\n<text text-anchor=\"middle\" x=\"3216.5\" y=\"-1004.8\" font-family=\"Helvetica,sans-Serif\" font-size=\"14.00\" fill=\"#000000\">fare &lt;= 52.828</text>\n<text text-anchor=\"middle\" x=\"3216.5\" y=\"-989.8\" font-family=\"Helvetica,sans-Serif\" font-size=\"14.00\" fill=\"#000000\">gini = 0.475</text>\n<text text-anchor=\"middle\" x=\"3216.5\" y=\"-974.8\" font-family=\"Helvetica,sans-Serif\" font-size=\"14.00\" fill=\"#000000\">samples = 18</text>\n<text text-anchor=\"middle\" x=\"3216.5\" y=\"-959.8\" font-family=\"Helvetica,sans-Serif\" font-size=\"14.00\" fill=\"#000000\">value = [11, 7]</text>\n<text text-anchor=\"middle\" x=\"3216.5\" y=\"-944.8\" font-family=\"Helvetica,sans-Serif\" font-size=\"14.00\" fill=\"#000000\">class = Unsurvived</text>\n</g>\n<!-- 141&#45;&gt;159 -->\n<g id=\"edge159\" class=\"edge\">\n<title>141&#45;&gt;159</title>\n<path fill=\"none\" stroke=\"#000000\" d=\"M3113.7607,-1055.8796C3126.5099,-1046.2774 3140.1683,-1035.9903 3153.2291,-1026.1534\"/>\n<polygon fill=\"#000000\" stroke=\"#000000\" points=\"3155.3883,-1028.9089 3161.2705,-1020.0969 3151.1769,-1023.3174 3155.3883,-1028.9089\"/>\n</g>\n<!-- 143 -->\n<g id=\"node144\" class=\"node\">\n<title>143</title>\n<path fill=\"#efb185\" stroke=\"#000000\" d=\"M2966.5,-901C2966.5,-901 2850.5,-901 2850.5,-901 2844.5,-901 2838.5,-895 2838.5,-889 2838.5,-889 2838.5,-830 2838.5,-830 2838.5,-824 2844.5,-818 2850.5,-818 2850.5,-818 2966.5,-818 2966.5,-818 2972.5,-818 2978.5,-824 2978.5,-830 2978.5,-830 2978.5,-889 2978.5,-889 2978.5,-895 2972.5,-901 2966.5,-901\"/>\n<text text-anchor=\"middle\" x=\"2908.5\" y=\"-885.8\" font-family=\"Helvetica,sans-Serif\" font-size=\"14.00\" fill=\"#000000\">age &lt;= 28.5</text>\n<text text-anchor=\"middle\" x=\"2908.5\" y=\"-870.8\" font-family=\"Helvetica,sans-Serif\" font-size=\"14.00\" fill=\"#000000\">gini = 0.401</text>\n<text text-anchor=\"middle\" x=\"2908.5\" y=\"-855.8\" font-family=\"Helvetica,sans-Serif\" font-size=\"14.00\" fill=\"#000000\">samples = 18</text>\n<text text-anchor=\"middle\" x=\"2908.5\" y=\"-840.8\" font-family=\"Helvetica,sans-Serif\" font-size=\"14.00\" fill=\"#000000\">value = [13, 5]</text>\n<text text-anchor=\"middle\" x=\"2908.5\" y=\"-825.8\" font-family=\"Helvetica,sans-Serif\" font-size=\"14.00\" fill=\"#000000\">class = Unsurvived</text>\n</g>\n<!-- 142&#45;&gt;143 -->\n<g id=\"edge143\" class=\"edge\">\n<title>142&#45;&gt;143</title>\n<path fill=\"none\" stroke=\"#000000\" d=\"M3006.0373,-936.8796C2994.0479,-927.368 2981.2113,-917.1843 2968.9184,-907.432\"/>\n<polygon fill=\"#000000\" stroke=\"#000000\" points=\"2970.9425,-904.5701 2960.9331,-901.0969 2966.5919,-910.054 2970.9425,-904.5701\"/>\n</g>\n<!-- 158 -->\n<g id=\"node159\" class=\"node\">\n<title>158</title>\n<path fill=\"#e58139\" stroke=\"#000000\" d=\"M3124.5,-893.5C3124.5,-893.5 3008.5,-893.5 3008.5,-893.5 3002.5,-893.5 2996.5,-887.5 2996.5,-881.5 2996.5,-881.5 2996.5,-837.5 2996.5,-837.5 2996.5,-831.5 3002.5,-825.5 3008.5,-825.5 3008.5,-825.5 3124.5,-825.5 3124.5,-825.5 3130.5,-825.5 3136.5,-831.5 3136.5,-837.5 3136.5,-837.5 3136.5,-881.5 3136.5,-881.5 3136.5,-887.5 3130.5,-893.5 3124.5,-893.5\"/>\n<text text-anchor=\"middle\" x=\"3066.5\" y=\"-878.3\" font-family=\"Helvetica,sans-Serif\" font-size=\"14.00\" fill=\"#000000\">gini = 0.0</text>\n<text text-anchor=\"middle\" x=\"3066.5\" y=\"-863.3\" font-family=\"Helvetica,sans-Serif\" font-size=\"14.00\" fill=\"#000000\">samples = 12</text>\n<text text-anchor=\"middle\" x=\"3066.5\" y=\"-848.3\" font-family=\"Helvetica,sans-Serif\" font-size=\"14.00\" fill=\"#000000\">value = [12, 0]</text>\n<text text-anchor=\"middle\" x=\"3066.5\" y=\"-833.3\" font-family=\"Helvetica,sans-Serif\" font-size=\"14.00\" fill=\"#000000\">class = Unsurvived</text>\n</g>\n<!-- 142&#45;&gt;158 -->\n<g id=\"edge158\" class=\"edge\">\n<title>142&#45;&gt;158</title>\n<path fill=\"none\" stroke=\"#000000\" d=\"M3061.298,-936.8796C3062.0151,-926.2134 3062.7889,-914.7021 3063.515,-903.9015\"/>\n<polygon fill=\"#000000\" stroke=\"#000000\" points=\"3067.0144,-904.0272 3064.1931,-893.8149 3060.0301,-903.5576 3067.0144,-904.0272\"/>\n</g>\n<!-- 144 -->\n<g id=\"node145\" class=\"node\">\n<title>144</title>\n<path fill=\"#399de5\" stroke=\"#000000\" d=\"M2879,-774.5C2879,-774.5 2780,-774.5 2780,-774.5 2774,-774.5 2768,-768.5 2768,-762.5 2768,-762.5 2768,-718.5 2768,-718.5 2768,-712.5 2774,-706.5 2780,-706.5 2780,-706.5 2879,-706.5 2879,-706.5 2885,-706.5 2891,-712.5 2891,-718.5 2891,-718.5 2891,-762.5 2891,-762.5 2891,-768.5 2885,-774.5 2879,-774.5\"/>\n<text text-anchor=\"middle\" x=\"2829.5\" y=\"-759.3\" font-family=\"Helvetica,sans-Serif\" font-size=\"14.00\" fill=\"#000000\">gini = 0.0</text>\n<text text-anchor=\"middle\" x=\"2829.5\" y=\"-744.3\" font-family=\"Helvetica,sans-Serif\" font-size=\"14.00\" fill=\"#000000\">samples = 1</text>\n<text text-anchor=\"middle\" x=\"2829.5\" y=\"-729.3\" font-family=\"Helvetica,sans-Serif\" font-size=\"14.00\" fill=\"#000000\">value = [0, 1]</text>\n<text text-anchor=\"middle\" x=\"2829.5\" y=\"-714.3\" font-family=\"Helvetica,sans-Serif\" font-size=\"14.00\" fill=\"#000000\">class = Survived</text>\n</g>\n<!-- 143&#45;&gt;144 -->\n<g id=\"edge144\" class=\"edge\">\n<title>143&#45;&gt;144</title>\n<path fill=\"none\" stroke=\"#000000\" d=\"M2880.8696,-817.8796C2873.4237,-806.6636 2865.3575,-794.5131 2857.8718,-783.2372\"/>\n<polygon fill=\"#000000\" stroke=\"#000000\" points=\"2860.7273,-781.2104 2852.2805,-774.8149 2854.8954,-785.082 2860.7273,-781.2104\"/>\n</g>\n<!-- 145 -->\n<g id=\"node146\" class=\"node\">\n<title>145</title>\n<path fill=\"#eda876\" stroke=\"#000000\" d=\"M3037.5,-782C3037.5,-782 2921.5,-782 2921.5,-782 2915.5,-782 2909.5,-776 2909.5,-770 2909.5,-770 2909.5,-711 2909.5,-711 2909.5,-705 2915.5,-699 2921.5,-699 2921.5,-699 3037.5,-699 3037.5,-699 3043.5,-699 3049.5,-705 3049.5,-711 3049.5,-711 3049.5,-770 3049.5,-770 3049.5,-776 3043.5,-782 3037.5,-782\"/>\n<text text-anchor=\"middle\" x=\"2979.5\" y=\"-766.8\" font-family=\"Helvetica,sans-Serif\" font-size=\"14.00\" fill=\"#000000\">fare &lt;= 29.102</text>\n<text text-anchor=\"middle\" x=\"2979.5\" y=\"-751.8\" font-family=\"Helvetica,sans-Serif\" font-size=\"14.00\" fill=\"#000000\">gini = 0.36</text>\n<text text-anchor=\"middle\" x=\"2979.5\" y=\"-736.8\" font-family=\"Helvetica,sans-Serif\" font-size=\"14.00\" fill=\"#000000\">samples = 17</text>\n<text text-anchor=\"middle\" x=\"2979.5\" y=\"-721.8\" font-family=\"Helvetica,sans-Serif\" font-size=\"14.00\" fill=\"#000000\">value = [13, 4]</text>\n<text text-anchor=\"middle\" x=\"2979.5\" y=\"-706.8\" font-family=\"Helvetica,sans-Serif\" font-size=\"14.00\" fill=\"#000000\">class = Unsurvived</text>\n</g>\n<!-- 143&#45;&gt;145 -->\n<g id=\"edge145\" class=\"edge\">\n<title>143&#45;&gt;145</title>\n<path fill=\"none\" stroke=\"#000000\" d=\"M2933.3324,-817.8796C2938.4909,-809.2335 2943.9808,-800.0322 2949.3076,-791.1042\"/>\n<polygon fill=\"#000000\" stroke=\"#000000\" points=\"2952.4436,-792.679 2954.5617,-782.2981 2946.4322,-789.0924 2952.4436,-792.679\"/>\n</g>\n<!-- 146 -->\n<g id=\"node147\" class=\"node\">\n<title>146</title>\n<path fill=\"#e58139\" stroke=\"#000000\" d=\"M2897.5,-655.5C2897.5,-655.5 2781.5,-655.5 2781.5,-655.5 2775.5,-655.5 2769.5,-649.5 2769.5,-643.5 2769.5,-643.5 2769.5,-599.5 2769.5,-599.5 2769.5,-593.5 2775.5,-587.5 2781.5,-587.5 2781.5,-587.5 2897.5,-587.5 2897.5,-587.5 2903.5,-587.5 2909.5,-593.5 2909.5,-599.5 2909.5,-599.5 2909.5,-643.5 2909.5,-643.5 2909.5,-649.5 2903.5,-655.5 2897.5,-655.5\"/>\n<text text-anchor=\"middle\" x=\"2839.5\" y=\"-640.3\" font-family=\"Helvetica,sans-Serif\" font-size=\"14.00\" fill=\"#000000\">gini = 0.0</text>\n<text text-anchor=\"middle\" x=\"2839.5\" y=\"-625.3\" font-family=\"Helvetica,sans-Serif\" font-size=\"14.00\" fill=\"#000000\">samples = 4</text>\n<text text-anchor=\"middle\" x=\"2839.5\" y=\"-610.3\" font-family=\"Helvetica,sans-Serif\" font-size=\"14.00\" fill=\"#000000\">value = [4, 0]</text>\n<text text-anchor=\"middle\" x=\"2839.5\" y=\"-595.3\" font-family=\"Helvetica,sans-Serif\" font-size=\"14.00\" fill=\"#000000\">class = Unsurvived</text>\n</g>\n<!-- 145&#45;&gt;146 -->\n<g id=\"edge146\" class=\"edge\">\n<title>145&#45;&gt;146</title>\n<path fill=\"none\" stroke=\"#000000\" d=\"M2930.5348,-698.8796C2916.6927,-687.1138 2901.6408,-674.3197 2887.8359,-662.5855\"/>\n<polygon fill=\"#000000\" stroke=\"#000000\" points=\"2889.7567,-659.6247 2879.8705,-655.8149 2885.2231,-664.9582 2889.7567,-659.6247\"/>\n</g>\n<!-- 147 -->\n<g id=\"node148\" class=\"node\">\n<title>147</title>\n<path fill=\"#f1b991\" stroke=\"#000000\" d=\"M3055.5,-663C3055.5,-663 2939.5,-663 2939.5,-663 2933.5,-663 2927.5,-657 2927.5,-651 2927.5,-651 2927.5,-592 2927.5,-592 2927.5,-586 2933.5,-580 2939.5,-580 2939.5,-580 3055.5,-580 3055.5,-580 3061.5,-580 3067.5,-586 3067.5,-592 3067.5,-592 3067.5,-651 3067.5,-651 3067.5,-657 3061.5,-663 3055.5,-663\"/>\n<text text-anchor=\"middle\" x=\"2997.5\" y=\"-647.8\" font-family=\"Helvetica,sans-Serif\" font-size=\"14.00\" fill=\"#000000\">fare &lt;= 30.602</text>\n<text text-anchor=\"middle\" x=\"2997.5\" y=\"-632.8\" font-family=\"Helvetica,sans-Serif\" font-size=\"14.00\" fill=\"#000000\">gini = 0.426</text>\n<text text-anchor=\"middle\" x=\"2997.5\" y=\"-617.8\" font-family=\"Helvetica,sans-Serif\" font-size=\"14.00\" fill=\"#000000\">samples = 13</text>\n<text text-anchor=\"middle\" x=\"2997.5\" y=\"-602.8\" font-family=\"Helvetica,sans-Serif\" font-size=\"14.00\" fill=\"#000000\">value = [9, 4]</text>\n<text text-anchor=\"middle\" x=\"2997.5\" y=\"-587.8\" font-family=\"Helvetica,sans-Serif\" font-size=\"14.00\" fill=\"#000000\">class = Unsurvived</text>\n</g>\n<!-- 145&#45;&gt;147 -->\n<g id=\"edge147\" class=\"edge\">\n<title>145&#45;&gt;147</title>\n<path fill=\"none\" stroke=\"#000000\" d=\"M2985.7955,-698.8796C2987.0488,-690.5938 2988.3793,-681.798 2989.6766,-673.2216\"/>\n<polygon fill=\"#000000\" stroke=\"#000000\" points=\"2993.1426,-673.7091 2991.1776,-663.2981 2986.2213,-672.6621 2993.1426,-673.7091\"/>\n</g>\n<!-- 148 -->\n<g id=\"node149\" class=\"node\">\n<title>148</title>\n<path fill=\"#ffffff\" stroke=\"#000000\" d=\"M2897.5,-544C2897.5,-544 2781.5,-544 2781.5,-544 2775.5,-544 2769.5,-538 2769.5,-532 2769.5,-532 2769.5,-473 2769.5,-473 2769.5,-467 2775.5,-461 2781.5,-461 2781.5,-461 2897.5,-461 2897.5,-461 2903.5,-461 2909.5,-467 2909.5,-473 2909.5,-473 2909.5,-532 2909.5,-532 2909.5,-538 2903.5,-544 2897.5,-544\"/>\n<text text-anchor=\"middle\" x=\"2839.5\" y=\"-528.8\" font-family=\"Helvetica,sans-Serif\" font-size=\"14.00\" fill=\"#000000\">age &lt;= 53.5</text>\n<text text-anchor=\"middle\" x=\"2839.5\" y=\"-513.8\" font-family=\"Helvetica,sans-Serif\" font-size=\"14.00\" fill=\"#000000\">gini = 0.5</text>\n<text text-anchor=\"middle\" x=\"2839.5\" y=\"-498.8\" font-family=\"Helvetica,sans-Serif\" font-size=\"14.00\" fill=\"#000000\">samples = 6</text>\n<text text-anchor=\"middle\" x=\"2839.5\" y=\"-483.8\" font-family=\"Helvetica,sans-Serif\" font-size=\"14.00\" fill=\"#000000\">value = [3, 3]</text>\n<text text-anchor=\"middle\" x=\"2839.5\" y=\"-468.8\" font-family=\"Helvetica,sans-Serif\" font-size=\"14.00\" fill=\"#000000\">class = Unsurvived</text>\n</g>\n<!-- 147&#45;&gt;148 -->\n<g id=\"edge148\" class=\"edge\">\n<title>147&#45;&gt;148</title>\n<path fill=\"none\" stroke=\"#000000\" d=\"M2942.2393,-579.8796C2929.4901,-570.2774 2915.8317,-559.9903 2902.7709,-550.1534\"/>\n<polygon fill=\"#000000\" stroke=\"#000000\" points=\"2904.8231,-547.3174 2894.7295,-544.0969 2900.6117,-552.9089 2904.8231,-547.3174\"/>\n</g>\n<!-- 153 -->\n<g id=\"node154\" class=\"node\">\n<title>153</title>\n<path fill=\"#e9965a\" stroke=\"#000000\" d=\"M3055.5,-544C3055.5,-544 2939.5,-544 2939.5,-544 2933.5,-544 2927.5,-538 2927.5,-532 2927.5,-532 2927.5,-473 2927.5,-473 2927.5,-467 2933.5,-461 2939.5,-461 2939.5,-461 3055.5,-461 3055.5,-461 3061.5,-461 3067.5,-467 3067.5,-473 3067.5,-473 3067.5,-532 3067.5,-532 3067.5,-538 3061.5,-544 3055.5,-544\"/>\n<text text-anchor=\"middle\" x=\"2997.5\" y=\"-528.8\" font-family=\"Helvetica,sans-Serif\" font-size=\"14.00\" fill=\"#000000\">fare &lt;= 35.078</text>\n<text text-anchor=\"middle\" x=\"2997.5\" y=\"-513.8\" font-family=\"Helvetica,sans-Serif\" font-size=\"14.00\" fill=\"#000000\">gini = 0.245</text>\n<text text-anchor=\"middle\" x=\"2997.5\" y=\"-498.8\" font-family=\"Helvetica,sans-Serif\" font-size=\"14.00\" fill=\"#000000\">samples = 7</text>\n<text text-anchor=\"middle\" x=\"2997.5\" y=\"-483.8\" font-family=\"Helvetica,sans-Serif\" font-size=\"14.00\" fill=\"#000000\">value = [6, 1]</text>\n<text text-anchor=\"middle\" x=\"2997.5\" y=\"-468.8\" font-family=\"Helvetica,sans-Serif\" font-size=\"14.00\" fill=\"#000000\">class = Unsurvived</text>\n</g>\n<!-- 147&#45;&gt;153 -->\n<g id=\"edge153\" class=\"edge\">\n<title>147&#45;&gt;153</title>\n<path fill=\"none\" stroke=\"#000000\" d=\"M2997.5,-579.8796C2997.5,-571.6838 2997.5,-562.9891 2997.5,-554.5013\"/>\n<polygon fill=\"#000000\" stroke=\"#000000\" points=\"3001.0001,-554.298 2997.5,-544.2981 2994.0001,-554.2981 3001.0001,-554.298\"/>\n</g>\n<!-- 149 -->\n<g id=\"node150\" class=\"node\">\n<title>149</title>\n<path fill=\"#7bbeee\" stroke=\"#000000\" d=\"M2739,-425C2739,-425 2640,-425 2640,-425 2634,-425 2628,-419 2628,-413 2628,-413 2628,-354 2628,-354 2628,-348 2634,-342 2640,-342 2640,-342 2739,-342 2739,-342 2745,-342 2751,-348 2751,-354 2751,-354 2751,-413 2751,-413 2751,-419 2745,-425 2739,-425\"/>\n<text text-anchor=\"middle\" x=\"2689.5\" y=\"-409.8\" font-family=\"Helvetica,sans-Serif\" font-size=\"14.00\" fill=\"#000000\">age &lt;= 29.35</text>\n<text text-anchor=\"middle\" x=\"2689.5\" y=\"-394.8\" font-family=\"Helvetica,sans-Serif\" font-size=\"14.00\" fill=\"#000000\">gini = 0.375</text>\n<text text-anchor=\"middle\" x=\"2689.5\" y=\"-379.8\" font-family=\"Helvetica,sans-Serif\" font-size=\"14.00\" fill=\"#000000\">samples = 4</text>\n<text text-anchor=\"middle\" x=\"2689.5\" y=\"-364.8\" font-family=\"Helvetica,sans-Serif\" font-size=\"14.00\" fill=\"#000000\">value = [1, 3]</text>\n<text text-anchor=\"middle\" x=\"2689.5\" y=\"-349.8\" font-family=\"Helvetica,sans-Serif\" font-size=\"14.00\" fill=\"#000000\">class = Survived</text>\n</g>\n<!-- 148&#45;&gt;149 -->\n<g id=\"edge149\" class=\"edge\">\n<title>148&#45;&gt;149</title>\n<path fill=\"none\" stroke=\"#000000\" d=\"M2787.0373,-460.8796C2775.0479,-451.368 2762.2113,-441.1843 2749.9184,-431.432\"/>\n<polygon fill=\"#000000\" stroke=\"#000000\" points=\"2751.9425,-428.5701 2741.9331,-425.0969 2747.5919,-434.054 2751.9425,-428.5701\"/>\n</g>\n<!-- 152 -->\n<g id=\"node153\" class=\"node\">\n<title>152</title>\n<path fill=\"#e58139\" stroke=\"#000000\" d=\"M2897.5,-417.5C2897.5,-417.5 2781.5,-417.5 2781.5,-417.5 2775.5,-417.5 2769.5,-411.5 2769.5,-405.5 2769.5,-405.5 2769.5,-361.5 2769.5,-361.5 2769.5,-355.5 2775.5,-349.5 2781.5,-349.5 2781.5,-349.5 2897.5,-349.5 2897.5,-349.5 2903.5,-349.5 2909.5,-355.5 2909.5,-361.5 2909.5,-361.5 2909.5,-405.5 2909.5,-405.5 2909.5,-411.5 2903.5,-417.5 2897.5,-417.5\"/>\n<text text-anchor=\"middle\" x=\"2839.5\" y=\"-402.3\" font-family=\"Helvetica,sans-Serif\" font-size=\"14.00\" fill=\"#000000\">gini = 0.0</text>\n<text text-anchor=\"middle\" x=\"2839.5\" y=\"-387.3\" font-family=\"Helvetica,sans-Serif\" font-size=\"14.00\" fill=\"#000000\">samples = 2</text>\n<text text-anchor=\"middle\" x=\"2839.5\" y=\"-372.3\" font-family=\"Helvetica,sans-Serif\" font-size=\"14.00\" fill=\"#000000\">value = [2, 0]</text>\n<text text-anchor=\"middle\" x=\"2839.5\" y=\"-357.3\" font-family=\"Helvetica,sans-Serif\" font-size=\"14.00\" fill=\"#000000\">class = Unsurvived</text>\n</g>\n<!-- 148&#45;&gt;152 -->\n<g id=\"edge152\" class=\"edge\">\n<title>148&#45;&gt;152</title>\n<path fill=\"none\" stroke=\"#000000\" d=\"M2839.5,-460.8796C2839.5,-450.2134 2839.5,-438.7021 2839.5,-427.9015\"/>\n<polygon fill=\"#000000\" stroke=\"#000000\" points=\"2843.0001,-427.8149 2839.5,-417.8149 2836.0001,-427.815 2843.0001,-427.8149\"/>\n</g>\n<!-- 150 -->\n<g id=\"node151\" class=\"node\">\n<title>150</title>\n<path fill=\"#e58139\" stroke=\"#000000\" d=\"M2672.5,-298.5C2672.5,-298.5 2556.5,-298.5 2556.5,-298.5 2550.5,-298.5 2544.5,-292.5 2544.5,-286.5 2544.5,-286.5 2544.5,-242.5 2544.5,-242.5 2544.5,-236.5 2550.5,-230.5 2556.5,-230.5 2556.5,-230.5 2672.5,-230.5 2672.5,-230.5 2678.5,-230.5 2684.5,-236.5 2684.5,-242.5 2684.5,-242.5 2684.5,-286.5 2684.5,-286.5 2684.5,-292.5 2678.5,-298.5 2672.5,-298.5\"/>\n<text text-anchor=\"middle\" x=\"2614.5\" y=\"-283.3\" font-family=\"Helvetica,sans-Serif\" font-size=\"14.00\" fill=\"#000000\">gini = 0.0</text>\n<text text-anchor=\"middle\" x=\"2614.5\" y=\"-268.3\" font-family=\"Helvetica,sans-Serif\" font-size=\"14.00\" fill=\"#000000\">samples = 1</text>\n<text text-anchor=\"middle\" x=\"2614.5\" y=\"-253.3\" font-family=\"Helvetica,sans-Serif\" font-size=\"14.00\" fill=\"#000000\">value = [1, 0]</text>\n<text text-anchor=\"middle\" x=\"2614.5\" y=\"-238.3\" font-family=\"Helvetica,sans-Serif\" font-size=\"14.00\" fill=\"#000000\">class = Unsurvived</text>\n</g>\n<!-- 149&#45;&gt;150 -->\n<g id=\"edge150\" class=\"edge\">\n<title>149&#45;&gt;150</title>\n<path fill=\"none\" stroke=\"#000000\" d=\"M2663.2686,-341.8796C2656.269,-330.7735 2648.692,-318.7513 2641.6444,-307.5691\"/>\n<polygon fill=\"#000000\" stroke=\"#000000\" points=\"2644.42,-305.4087 2636.1271,-298.8149 2638.498,-309.1411 2644.42,-305.4087\"/>\n</g>\n<!-- 151 -->\n<g id=\"node152\" class=\"node\">\n<title>151</title>\n<path fill=\"#399de5\" stroke=\"#000000\" d=\"M2814,-298.5C2814,-298.5 2715,-298.5 2715,-298.5 2709,-298.5 2703,-292.5 2703,-286.5 2703,-286.5 2703,-242.5 2703,-242.5 2703,-236.5 2709,-230.5 2715,-230.5 2715,-230.5 2814,-230.5 2814,-230.5 2820,-230.5 2826,-236.5 2826,-242.5 2826,-242.5 2826,-286.5 2826,-286.5 2826,-292.5 2820,-298.5 2814,-298.5\"/>\n<text text-anchor=\"middle\" x=\"2764.5\" y=\"-283.3\" font-family=\"Helvetica,sans-Serif\" font-size=\"14.00\" fill=\"#000000\">gini = 0.0</text>\n<text text-anchor=\"middle\" x=\"2764.5\" y=\"-268.3\" font-family=\"Helvetica,sans-Serif\" font-size=\"14.00\" fill=\"#000000\">samples = 3</text>\n<text text-anchor=\"middle\" x=\"2764.5\" y=\"-253.3\" font-family=\"Helvetica,sans-Serif\" font-size=\"14.00\" fill=\"#000000\">value = [0, 3]</text>\n<text text-anchor=\"middle\" x=\"2764.5\" y=\"-238.3\" font-family=\"Helvetica,sans-Serif\" font-size=\"14.00\" fill=\"#000000\">class = Survived</text>\n</g>\n<!-- 149&#45;&gt;151 -->\n<g id=\"edge151\" class=\"edge\">\n<title>149&#45;&gt;151</title>\n<path fill=\"none\" stroke=\"#000000\" d=\"M2715.7314,-341.8796C2722.731,-330.7735 2730.308,-318.7513 2737.3556,-307.5691\"/>\n<polygon fill=\"#000000\" stroke=\"#000000\" points=\"2740.502,-309.1411 2742.8729,-298.8149 2734.58,-305.4087 2740.502,-309.1411\"/>\n</g>\n<!-- 154 -->\n<g id=\"node155\" class=\"node\">\n<title>154</title>\n<path fill=\"#e58139\" stroke=\"#000000\" d=\"M3055.5,-417.5C3055.5,-417.5 2939.5,-417.5 2939.5,-417.5 2933.5,-417.5 2927.5,-411.5 2927.5,-405.5 2927.5,-405.5 2927.5,-361.5 2927.5,-361.5 2927.5,-355.5 2933.5,-349.5 2939.5,-349.5 2939.5,-349.5 3055.5,-349.5 3055.5,-349.5 3061.5,-349.5 3067.5,-355.5 3067.5,-361.5 3067.5,-361.5 3067.5,-405.5 3067.5,-405.5 3067.5,-411.5 3061.5,-417.5 3055.5,-417.5\"/>\n<text text-anchor=\"middle\" x=\"2997.5\" y=\"-402.3\" font-family=\"Helvetica,sans-Serif\" font-size=\"14.00\" fill=\"#000000\">gini = 0.0</text>\n<text text-anchor=\"middle\" x=\"2997.5\" y=\"-387.3\" font-family=\"Helvetica,sans-Serif\" font-size=\"14.00\" fill=\"#000000\">samples = 5</text>\n<text text-anchor=\"middle\" x=\"2997.5\" y=\"-372.3\" font-family=\"Helvetica,sans-Serif\" font-size=\"14.00\" fill=\"#000000\">value = [5, 0]</text>\n<text text-anchor=\"middle\" x=\"2997.5\" y=\"-357.3\" font-family=\"Helvetica,sans-Serif\" font-size=\"14.00\" fill=\"#000000\">class = Unsurvived</text>\n</g>\n<!-- 153&#45;&gt;154 -->\n<g id=\"edge154\" class=\"edge\">\n<title>153&#45;&gt;154</title>\n<path fill=\"none\" stroke=\"#000000\" d=\"M2997.5,-460.8796C2997.5,-450.2134 2997.5,-438.7021 2997.5,-427.9015\"/>\n<polygon fill=\"#000000\" stroke=\"#000000\" points=\"3001.0001,-427.8149 2997.5,-417.8149 2994.0001,-427.815 3001.0001,-427.8149\"/>\n</g>\n<!-- 155 -->\n<g id=\"node156\" class=\"node\">\n<title>155</title>\n<path fill=\"#ffffff\" stroke=\"#000000\" d=\"M3213.5,-425C3213.5,-425 3097.5,-425 3097.5,-425 3091.5,-425 3085.5,-419 3085.5,-413 3085.5,-413 3085.5,-354 3085.5,-354 3085.5,-348 3091.5,-342 3097.5,-342 3097.5,-342 3213.5,-342 3213.5,-342 3219.5,-342 3225.5,-348 3225.5,-354 3225.5,-354 3225.5,-413 3225.5,-413 3225.5,-419 3219.5,-425 3213.5,-425\"/>\n<text text-anchor=\"middle\" x=\"3155.5\" y=\"-409.8\" font-family=\"Helvetica,sans-Serif\" font-size=\"14.00\" fill=\"#000000\">age &lt;= 50.5</text>\n<text text-anchor=\"middle\" x=\"3155.5\" y=\"-394.8\" font-family=\"Helvetica,sans-Serif\" font-size=\"14.00\" fill=\"#000000\">gini = 0.5</text>\n<text text-anchor=\"middle\" x=\"3155.5\" y=\"-379.8\" font-family=\"Helvetica,sans-Serif\" font-size=\"14.00\" fill=\"#000000\">samples = 2</text>\n<text text-anchor=\"middle\" x=\"3155.5\" y=\"-364.8\" font-family=\"Helvetica,sans-Serif\" font-size=\"14.00\" fill=\"#000000\">value = [1, 1]</text>\n<text text-anchor=\"middle\" x=\"3155.5\" y=\"-349.8\" font-family=\"Helvetica,sans-Serif\" font-size=\"14.00\" fill=\"#000000\">class = Unsurvived</text>\n</g>\n<!-- 153&#45;&gt;155 -->\n<g id=\"edge155\" class=\"edge\">\n<title>153&#45;&gt;155</title>\n<path fill=\"none\" stroke=\"#000000\" d=\"M3052.7607,-460.8796C3065.5099,-451.2774 3079.1683,-440.9903 3092.2291,-431.1534\"/>\n<polygon fill=\"#000000\" stroke=\"#000000\" points=\"3094.3883,-433.9089 3100.2705,-425.0969 3090.1769,-428.3174 3094.3883,-433.9089\"/>\n</g>\n<!-- 156 -->\n<g id=\"node157\" class=\"node\">\n<title>156</title>\n<path fill=\"#e58139\" stroke=\"#000000\" d=\"M3138.5,-298.5C3138.5,-298.5 3022.5,-298.5 3022.5,-298.5 3016.5,-298.5 3010.5,-292.5 3010.5,-286.5 3010.5,-286.5 3010.5,-242.5 3010.5,-242.5 3010.5,-236.5 3016.5,-230.5 3022.5,-230.5 3022.5,-230.5 3138.5,-230.5 3138.5,-230.5 3144.5,-230.5 3150.5,-236.5 3150.5,-242.5 3150.5,-242.5 3150.5,-286.5 3150.5,-286.5 3150.5,-292.5 3144.5,-298.5 3138.5,-298.5\"/>\n<text text-anchor=\"middle\" x=\"3080.5\" y=\"-283.3\" font-family=\"Helvetica,sans-Serif\" font-size=\"14.00\" fill=\"#000000\">gini = 0.0</text>\n<text text-anchor=\"middle\" x=\"3080.5\" y=\"-268.3\" font-family=\"Helvetica,sans-Serif\" font-size=\"14.00\" fill=\"#000000\">samples = 1</text>\n<text text-anchor=\"middle\" x=\"3080.5\" y=\"-253.3\" font-family=\"Helvetica,sans-Serif\" font-size=\"14.00\" fill=\"#000000\">value = [1, 0]</text>\n<text text-anchor=\"middle\" x=\"3080.5\" y=\"-238.3\" font-family=\"Helvetica,sans-Serif\" font-size=\"14.00\" fill=\"#000000\">class = Unsurvived</text>\n</g>\n<!-- 155&#45;&gt;156 -->\n<g id=\"edge156\" class=\"edge\">\n<title>155&#45;&gt;156</title>\n<path fill=\"none\" stroke=\"#000000\" d=\"M3129.2686,-341.8796C3122.269,-330.7735 3114.692,-318.7513 3107.6444,-307.5691\"/>\n<polygon fill=\"#000000\" stroke=\"#000000\" points=\"3110.42,-305.4087 3102.1271,-298.8149 3104.498,-309.1411 3110.42,-305.4087\"/>\n</g>\n<!-- 157 -->\n<g id=\"node158\" class=\"node\">\n<title>157</title>\n<path fill=\"#399de5\" stroke=\"#000000\" d=\"M3280,-298.5C3280,-298.5 3181,-298.5 3181,-298.5 3175,-298.5 3169,-292.5 3169,-286.5 3169,-286.5 3169,-242.5 3169,-242.5 3169,-236.5 3175,-230.5 3181,-230.5 3181,-230.5 3280,-230.5 3280,-230.5 3286,-230.5 3292,-236.5 3292,-242.5 3292,-242.5 3292,-286.5 3292,-286.5 3292,-292.5 3286,-298.5 3280,-298.5\"/>\n<text text-anchor=\"middle\" x=\"3230.5\" y=\"-283.3\" font-family=\"Helvetica,sans-Serif\" font-size=\"14.00\" fill=\"#000000\">gini = 0.0</text>\n<text text-anchor=\"middle\" x=\"3230.5\" y=\"-268.3\" font-family=\"Helvetica,sans-Serif\" font-size=\"14.00\" fill=\"#000000\">samples = 1</text>\n<text text-anchor=\"middle\" x=\"3230.5\" y=\"-253.3\" font-family=\"Helvetica,sans-Serif\" font-size=\"14.00\" fill=\"#000000\">value = [0, 1]</text>\n<text text-anchor=\"middle\" x=\"3230.5\" y=\"-238.3\" font-family=\"Helvetica,sans-Serif\" font-size=\"14.00\" fill=\"#000000\">class = Survived</text>\n</g>\n<!-- 155&#45;&gt;157 -->\n<g id=\"edge157\" class=\"edge\">\n<title>155&#45;&gt;157</title>\n<path fill=\"none\" stroke=\"#000000\" d=\"M3181.7314,-341.8796C3188.731,-330.7735 3196.308,-318.7513 3203.3556,-307.5691\"/>\n<polygon fill=\"#000000\" stroke=\"#000000\" points=\"3206.502,-309.1411 3208.8729,-298.8149 3200.58,-305.4087 3206.502,-309.1411\"/>\n</g>\n<!-- 160 -->\n<g id=\"node161\" class=\"node\">\n<title>160</title>\n<path fill=\"#399de5\" stroke=\"#000000\" d=\"M3266,-893.5C3266,-893.5 3167,-893.5 3167,-893.5 3161,-893.5 3155,-887.5 3155,-881.5 3155,-881.5 3155,-837.5 3155,-837.5 3155,-831.5 3161,-825.5 3167,-825.5 3167,-825.5 3266,-825.5 3266,-825.5 3272,-825.5 3278,-831.5 3278,-837.5 3278,-837.5 3278,-881.5 3278,-881.5 3278,-887.5 3272,-893.5 3266,-893.5\"/>\n<text text-anchor=\"middle\" x=\"3216.5\" y=\"-878.3\" font-family=\"Helvetica,sans-Serif\" font-size=\"14.00\" fill=\"#000000\">gini = 0.0</text>\n<text text-anchor=\"middle\" x=\"3216.5\" y=\"-863.3\" font-family=\"Helvetica,sans-Serif\" font-size=\"14.00\" fill=\"#000000\">samples = 3</text>\n<text text-anchor=\"middle\" x=\"3216.5\" y=\"-848.3\" font-family=\"Helvetica,sans-Serif\" font-size=\"14.00\" fill=\"#000000\">value = [0, 3]</text>\n<text text-anchor=\"middle\" x=\"3216.5\" y=\"-833.3\" font-family=\"Helvetica,sans-Serif\" font-size=\"14.00\" fill=\"#000000\">class = Survived</text>\n</g>\n<!-- 159&#45;&gt;160 -->\n<g id=\"edge160\" class=\"edge\">\n<title>159&#45;&gt;160</title>\n<path fill=\"none\" stroke=\"#000000\" d=\"M3216.5,-936.8796C3216.5,-926.2134 3216.5,-914.7021 3216.5,-903.9015\"/>\n<polygon fill=\"#000000\" stroke=\"#000000\" points=\"3220.0001,-903.8149 3216.5,-893.8149 3213.0001,-903.815 3220.0001,-903.8149\"/>\n</g>\n<!-- 161 -->\n<g id=\"node162\" class=\"node\">\n<title>161</title>\n<path fill=\"#eeaf81\" stroke=\"#000000\" d=\"M3424.5,-901C3424.5,-901 3308.5,-901 3308.5,-901 3302.5,-901 3296.5,-895 3296.5,-889 3296.5,-889 3296.5,-830 3296.5,-830 3296.5,-824 3302.5,-818 3308.5,-818 3308.5,-818 3424.5,-818 3424.5,-818 3430.5,-818 3436.5,-824 3436.5,-830 3436.5,-830 3436.5,-889 3436.5,-889 3436.5,-895 3430.5,-901 3424.5,-901\"/>\n<text text-anchor=\"middle\" x=\"3366.5\" y=\"-885.8\" font-family=\"Helvetica,sans-Serif\" font-size=\"14.00\" fill=\"#000000\">fare &lt;= 73.875</text>\n<text text-anchor=\"middle\" x=\"3366.5\" y=\"-870.8\" font-family=\"Helvetica,sans-Serif\" font-size=\"14.00\" fill=\"#000000\">gini = 0.391</text>\n<text text-anchor=\"middle\" x=\"3366.5\" y=\"-855.8\" font-family=\"Helvetica,sans-Serif\" font-size=\"14.00\" fill=\"#000000\">samples = 15</text>\n<text text-anchor=\"middle\" x=\"3366.5\" y=\"-840.8\" font-family=\"Helvetica,sans-Serif\" font-size=\"14.00\" fill=\"#000000\">value = [11, 4]</text>\n<text text-anchor=\"middle\" x=\"3366.5\" y=\"-825.8\" font-family=\"Helvetica,sans-Serif\" font-size=\"14.00\" fill=\"#000000\">class = Unsurvived</text>\n</g>\n<!-- 159&#45;&gt;161 -->\n<g id=\"edge161\" class=\"edge\">\n<title>159&#45;&gt;161</title>\n<path fill=\"none\" stroke=\"#000000\" d=\"M3268.9627,-936.8796C3280.9521,-927.368 3293.7887,-917.1843 3306.0816,-907.432\"/>\n<polygon fill=\"#000000\" stroke=\"#000000\" points=\"3308.4081,-910.054 3314.0669,-901.0969 3304.0575,-904.5701 3308.4081,-910.054\"/>\n</g>\n<!-- 162 -->\n<g id=\"node163\" class=\"node\">\n<title>162</title>\n<path fill=\"#e58139\" stroke=\"#000000\" d=\"M3266.5,-774.5C3266.5,-774.5 3150.5,-774.5 3150.5,-774.5 3144.5,-774.5 3138.5,-768.5 3138.5,-762.5 3138.5,-762.5 3138.5,-718.5 3138.5,-718.5 3138.5,-712.5 3144.5,-706.5 3150.5,-706.5 3150.5,-706.5 3266.5,-706.5 3266.5,-706.5 3272.5,-706.5 3278.5,-712.5 3278.5,-718.5 3278.5,-718.5 3278.5,-762.5 3278.5,-762.5 3278.5,-768.5 3272.5,-774.5 3266.5,-774.5\"/>\n<text text-anchor=\"middle\" x=\"3208.5\" y=\"-759.3\" font-family=\"Helvetica,sans-Serif\" font-size=\"14.00\" fill=\"#000000\">gini = 0.0</text>\n<text text-anchor=\"middle\" x=\"3208.5\" y=\"-744.3\" font-family=\"Helvetica,sans-Serif\" font-size=\"14.00\" fill=\"#000000\">samples = 4</text>\n<text text-anchor=\"middle\" x=\"3208.5\" y=\"-729.3\" font-family=\"Helvetica,sans-Serif\" font-size=\"14.00\" fill=\"#000000\">value = [4, 0]</text>\n<text text-anchor=\"middle\" x=\"3208.5\" y=\"-714.3\" font-family=\"Helvetica,sans-Serif\" font-size=\"14.00\" fill=\"#000000\">class = Unsurvived</text>\n</g>\n<!-- 161&#45;&gt;162 -->\n<g id=\"edge162\" class=\"edge\">\n<title>161&#45;&gt;162</title>\n<path fill=\"none\" stroke=\"#000000\" d=\"M3311.2393,-817.8796C3295.2497,-805.8368 3277.8297,-792.7167 3261.9526,-780.7586\"/>\n<polygon fill=\"#000000\" stroke=\"#000000\" points=\"3263.8998,-777.8435 3253.8062,-774.623 3259.6884,-783.435 3263.8998,-777.8435\"/>\n</g>\n<!-- 163 -->\n<g id=\"node164\" class=\"node\">\n<title>163</title>\n<path fill=\"#f4c9aa\" stroke=\"#000000\" d=\"M3424.5,-782C3424.5,-782 3308.5,-782 3308.5,-782 3302.5,-782 3296.5,-776 3296.5,-770 3296.5,-770 3296.5,-711 3296.5,-711 3296.5,-705 3302.5,-699 3308.5,-699 3308.5,-699 3424.5,-699 3424.5,-699 3430.5,-699 3436.5,-705 3436.5,-711 3436.5,-711 3436.5,-770 3436.5,-770 3436.5,-776 3430.5,-782 3424.5,-782\"/>\n<text text-anchor=\"middle\" x=\"3366.5\" y=\"-766.8\" font-family=\"Helvetica,sans-Serif\" font-size=\"14.00\" fill=\"#000000\">age &lt;= 56.0</text>\n<text text-anchor=\"middle\" x=\"3366.5\" y=\"-751.8\" font-family=\"Helvetica,sans-Serif\" font-size=\"14.00\" fill=\"#000000\">gini = 0.463</text>\n<text text-anchor=\"middle\" x=\"3366.5\" y=\"-736.8\" font-family=\"Helvetica,sans-Serif\" font-size=\"14.00\" fill=\"#000000\">samples = 11</text>\n<text text-anchor=\"middle\" x=\"3366.5\" y=\"-721.8\" font-family=\"Helvetica,sans-Serif\" font-size=\"14.00\" fill=\"#000000\">value = [7, 4]</text>\n<text text-anchor=\"middle\" x=\"3366.5\" y=\"-706.8\" font-family=\"Helvetica,sans-Serif\" font-size=\"14.00\" fill=\"#000000\">class = Unsurvived</text>\n</g>\n<!-- 161&#45;&gt;163 -->\n<g id=\"edge163\" class=\"edge\">\n<title>161&#45;&gt;163</title>\n<path fill=\"none\" stroke=\"#000000\" d=\"M3366.5,-817.8796C3366.5,-809.6838 3366.5,-800.9891 3366.5,-792.5013\"/>\n<polygon fill=\"#000000\" stroke=\"#000000\" points=\"3370.0001,-792.298 3366.5,-782.2981 3363.0001,-792.2981 3370.0001,-792.298\"/>\n</g>\n<!-- 164 -->\n<g id=\"node165\" class=\"node\">\n<title>164</title>\n<path fill=\"#f0b78e\" stroke=\"#000000\" d=\"M3274.5,-663C3274.5,-663 3158.5,-663 3158.5,-663 3152.5,-663 3146.5,-657 3146.5,-651 3146.5,-651 3146.5,-592 3146.5,-592 3146.5,-586 3152.5,-580 3158.5,-580 3158.5,-580 3274.5,-580 3274.5,-580 3280.5,-580 3286.5,-586 3286.5,-592 3286.5,-592 3286.5,-651 3286.5,-651 3286.5,-657 3280.5,-663 3274.5,-663\"/>\n<text text-anchor=\"middle\" x=\"3216.5\" y=\"-647.8\" font-family=\"Helvetica,sans-Serif\" font-size=\"14.00\" fill=\"#000000\">fare &lt;= 77.812</text>\n<text text-anchor=\"middle\" x=\"3216.5\" y=\"-632.8\" font-family=\"Helvetica,sans-Serif\" font-size=\"14.00\" fill=\"#000000\">gini = 0.42</text>\n<text text-anchor=\"middle\" x=\"3216.5\" y=\"-617.8\" font-family=\"Helvetica,sans-Serif\" font-size=\"14.00\" fill=\"#000000\">samples = 10</text>\n<text text-anchor=\"middle\" x=\"3216.5\" y=\"-602.8\" font-family=\"Helvetica,sans-Serif\" font-size=\"14.00\" fill=\"#000000\">value = [7, 3]</text>\n<text text-anchor=\"middle\" x=\"3216.5\" y=\"-587.8\" font-family=\"Helvetica,sans-Serif\" font-size=\"14.00\" fill=\"#000000\">class = Unsurvived</text>\n</g>\n<!-- 163&#45;&gt;164 -->\n<g id=\"edge164\" class=\"edge\">\n<title>163&#45;&gt;164</title>\n<path fill=\"none\" stroke=\"#000000\" d=\"M3314.0373,-698.8796C3302.0479,-689.368 3289.2113,-679.1843 3276.9184,-669.432\"/>\n<polygon fill=\"#000000\" stroke=\"#000000\" points=\"3278.9425,-666.5701 3268.9331,-663.0969 3274.5919,-672.054 3278.9425,-666.5701\"/>\n</g>\n<!-- 173 -->\n<g id=\"node174\" class=\"node\">\n<title>173</title>\n<path fill=\"#399de5\" stroke=\"#000000\" d=\"M3416,-655.5C3416,-655.5 3317,-655.5 3317,-655.5 3311,-655.5 3305,-649.5 3305,-643.5 3305,-643.5 3305,-599.5 3305,-599.5 3305,-593.5 3311,-587.5 3317,-587.5 3317,-587.5 3416,-587.5 3416,-587.5 3422,-587.5 3428,-593.5 3428,-599.5 3428,-599.5 3428,-643.5 3428,-643.5 3428,-649.5 3422,-655.5 3416,-655.5\"/>\n<text text-anchor=\"middle\" x=\"3366.5\" y=\"-640.3\" font-family=\"Helvetica,sans-Serif\" font-size=\"14.00\" fill=\"#000000\">gini = 0.0</text>\n<text text-anchor=\"middle\" x=\"3366.5\" y=\"-625.3\" font-family=\"Helvetica,sans-Serif\" font-size=\"14.00\" fill=\"#000000\">samples = 1</text>\n<text text-anchor=\"middle\" x=\"3366.5\" y=\"-610.3\" font-family=\"Helvetica,sans-Serif\" font-size=\"14.00\" fill=\"#000000\">value = [0, 1]</text>\n<text text-anchor=\"middle\" x=\"3366.5\" y=\"-595.3\" font-family=\"Helvetica,sans-Serif\" font-size=\"14.00\" fill=\"#000000\">class = Survived</text>\n</g>\n<!-- 163&#45;&gt;173 -->\n<g id=\"edge173\" class=\"edge\">\n<title>163&#45;&gt;173</title>\n<path fill=\"none\" stroke=\"#000000\" d=\"M3366.5,-698.8796C3366.5,-688.2134 3366.5,-676.7021 3366.5,-665.9015\"/>\n<polygon fill=\"#000000\" stroke=\"#000000\" points=\"3370.0001,-665.8149 3366.5,-655.8149 3363.0001,-665.815 3370.0001,-665.8149\"/>\n</g>\n<!-- 165 -->\n<g id=\"node166\" class=\"node\">\n<title>165</title>\n<path fill=\"#399de5\" stroke=\"#000000\" d=\"M3231,-536.5C3231,-536.5 3132,-536.5 3132,-536.5 3126,-536.5 3120,-530.5 3120,-524.5 3120,-524.5 3120,-480.5 3120,-480.5 3120,-474.5 3126,-468.5 3132,-468.5 3132,-468.5 3231,-468.5 3231,-468.5 3237,-468.5 3243,-474.5 3243,-480.5 3243,-480.5 3243,-524.5 3243,-524.5 3243,-530.5 3237,-536.5 3231,-536.5\"/>\n<text text-anchor=\"middle\" x=\"3181.5\" y=\"-521.3\" font-family=\"Helvetica,sans-Serif\" font-size=\"14.00\" fill=\"#000000\">gini = 0.0</text>\n<text text-anchor=\"middle\" x=\"3181.5\" y=\"-506.3\" font-family=\"Helvetica,sans-Serif\" font-size=\"14.00\" fill=\"#000000\">samples = 1</text>\n<text text-anchor=\"middle\" x=\"3181.5\" y=\"-491.3\" font-family=\"Helvetica,sans-Serif\" font-size=\"14.00\" fill=\"#000000\">value = [0, 1]</text>\n<text text-anchor=\"middle\" x=\"3181.5\" y=\"-476.3\" font-family=\"Helvetica,sans-Serif\" font-size=\"14.00\" fill=\"#000000\">class = Survived</text>\n</g>\n<!-- 164&#45;&gt;165 -->\n<g id=\"edge165\" class=\"edge\">\n<title>164&#45;&gt;165</title>\n<path fill=\"none\" stroke=\"#000000\" d=\"M3204.2587,-579.8796C3201.0892,-569.1034 3197.6661,-557.4647 3194.4611,-546.5677\"/>\n<polygon fill=\"#000000\" stroke=\"#000000\" points=\"3197.7721,-545.421 3191.5926,-536.8149 3191.0566,-547.3962 3197.7721,-545.421\"/>\n</g>\n<!-- 166 -->\n<g id=\"node167\" class=\"node\">\n<title>166</title>\n<path fill=\"#eca572\" stroke=\"#000000\" d=\"M3389.5,-544C3389.5,-544 3273.5,-544 3273.5,-544 3267.5,-544 3261.5,-538 3261.5,-532 3261.5,-532 3261.5,-473 3261.5,-473 3261.5,-467 3267.5,-461 3273.5,-461 3273.5,-461 3389.5,-461 3389.5,-461 3395.5,-461 3401.5,-467 3401.5,-473 3401.5,-473 3401.5,-532 3401.5,-532 3401.5,-538 3395.5,-544 3389.5,-544\"/>\n<text text-anchor=\"middle\" x=\"3331.5\" y=\"-528.8\" font-family=\"Helvetica,sans-Serif\" font-size=\"14.00\" fill=\"#000000\">fare &lt;= 86.312</text>\n<text text-anchor=\"middle\" x=\"3331.5\" y=\"-513.8\" font-family=\"Helvetica,sans-Serif\" font-size=\"14.00\" fill=\"#000000\">gini = 0.346</text>\n<text text-anchor=\"middle\" x=\"3331.5\" y=\"-498.8\" font-family=\"Helvetica,sans-Serif\" font-size=\"14.00\" fill=\"#000000\">samples = 9</text>\n<text text-anchor=\"middle\" x=\"3331.5\" y=\"-483.8\" font-family=\"Helvetica,sans-Serif\" font-size=\"14.00\" fill=\"#000000\">value = [7, 2]</text>\n<text text-anchor=\"middle\" x=\"3331.5\" y=\"-468.8\" font-family=\"Helvetica,sans-Serif\" font-size=\"14.00\" fill=\"#000000\">class = Unsurvived</text>\n</g>\n<!-- 164&#45;&gt;166 -->\n<g id=\"edge166\" class=\"edge\">\n<title>164&#45;&gt;166</title>\n<path fill=\"none\" stroke=\"#000000\" d=\"M3256.7214,-579.8796C3265.512,-570.7832 3274.8966,-561.0722 3283.9426,-551.7116\"/>\n<polygon fill=\"#000000\" stroke=\"#000000\" points=\"3286.6745,-553.9212 3291.1069,-544.2981 3281.6409,-549.0568 3286.6745,-553.9212\"/>\n</g>\n<!-- 167 -->\n<g id=\"node168\" class=\"node\">\n<title>167</title>\n<path fill=\"#e58139\" stroke=\"#000000\" d=\"M3371.5,-417.5C3371.5,-417.5 3255.5,-417.5 3255.5,-417.5 3249.5,-417.5 3243.5,-411.5 3243.5,-405.5 3243.5,-405.5 3243.5,-361.5 3243.5,-361.5 3243.5,-355.5 3249.5,-349.5 3255.5,-349.5 3255.5,-349.5 3371.5,-349.5 3371.5,-349.5 3377.5,-349.5 3383.5,-355.5 3383.5,-361.5 3383.5,-361.5 3383.5,-405.5 3383.5,-405.5 3383.5,-411.5 3377.5,-417.5 3371.5,-417.5\"/>\n<text text-anchor=\"middle\" x=\"3313.5\" y=\"-402.3\" font-family=\"Helvetica,sans-Serif\" font-size=\"14.00\" fill=\"#000000\">gini = 0.0</text>\n<text text-anchor=\"middle\" x=\"3313.5\" y=\"-387.3\" font-family=\"Helvetica,sans-Serif\" font-size=\"14.00\" fill=\"#000000\">samples = 4</text>\n<text text-anchor=\"middle\" x=\"3313.5\" y=\"-372.3\" font-family=\"Helvetica,sans-Serif\" font-size=\"14.00\" fill=\"#000000\">value = [4, 0]</text>\n<text text-anchor=\"middle\" x=\"3313.5\" y=\"-357.3\" font-family=\"Helvetica,sans-Serif\" font-size=\"14.00\" fill=\"#000000\">class = Unsurvived</text>\n</g>\n<!-- 166&#45;&gt;167 -->\n<g id=\"edge167\" class=\"edge\">\n<title>166&#45;&gt;167</title>\n<path fill=\"none\" stroke=\"#000000\" d=\"M3325.2045,-460.8796C3323.5911,-450.2134 3321.8499,-438.7021 3320.2162,-427.9015\"/>\n<polygon fill=\"#000000\" stroke=\"#000000\" points=\"3323.6468,-427.179 3318.6905,-417.8149 3316.7255,-428.226 3323.6468,-427.179\"/>\n</g>\n<!-- 168 -->\n<g id=\"node169\" class=\"node\">\n<title>168</title>\n<path fill=\"#f6d5bd\" stroke=\"#000000\" d=\"M3529.5,-425C3529.5,-425 3413.5,-425 3413.5,-425 3407.5,-425 3401.5,-419 3401.5,-413 3401.5,-413 3401.5,-354 3401.5,-354 3401.5,-348 3407.5,-342 3413.5,-342 3413.5,-342 3529.5,-342 3529.5,-342 3535.5,-342 3541.5,-348 3541.5,-354 3541.5,-354 3541.5,-413 3541.5,-413 3541.5,-419 3535.5,-425 3529.5,-425\"/>\n<text text-anchor=\"middle\" x=\"3471.5\" y=\"-409.8\" font-family=\"Helvetica,sans-Serif\" font-size=\"14.00\" fill=\"#000000\">fare &lt;= 98.219</text>\n<text text-anchor=\"middle\" x=\"3471.5\" y=\"-394.8\" font-family=\"Helvetica,sans-Serif\" font-size=\"14.00\" fill=\"#000000\">gini = 0.48</text>\n<text text-anchor=\"middle\" x=\"3471.5\" y=\"-379.8\" font-family=\"Helvetica,sans-Serif\" font-size=\"14.00\" fill=\"#000000\">samples = 5</text>\n<text text-anchor=\"middle\" x=\"3471.5\" y=\"-364.8\" font-family=\"Helvetica,sans-Serif\" font-size=\"14.00\" fill=\"#000000\">value = [3, 2]</text>\n<text text-anchor=\"middle\" x=\"3471.5\" y=\"-349.8\" font-family=\"Helvetica,sans-Serif\" font-size=\"14.00\" fill=\"#000000\">class = Unsurvived</text>\n</g>\n<!-- 166&#45;&gt;168 -->\n<g id=\"edge168\" class=\"edge\">\n<title>166&#45;&gt;168</title>\n<path fill=\"none\" stroke=\"#000000\" d=\"M3380.4652,-460.8796C3391.4847,-451.513 3403.2709,-441.4948 3414.5842,-431.8784\"/>\n<polygon fill=\"#000000\" stroke=\"#000000\" points=\"3416.9732,-434.4414 3422.3258,-425.2981 3412.4396,-429.1078 3416.9732,-434.4414\"/>\n</g>\n<!-- 169 -->\n<g id=\"node170\" class=\"node\">\n<title>169</title>\n<path fill=\"#9ccef2\" stroke=\"#000000\" d=\"M3478,-306C3478,-306 3379,-306 3379,-306 3373,-306 3367,-300 3367,-294 3367,-294 3367,-235 3367,-235 3367,-229 3373,-223 3379,-223 3379,-223 3478,-223 3478,-223 3484,-223 3490,-229 3490,-235 3490,-235 3490,-294 3490,-294 3490,-300 3484,-306 3478,-306\"/>\n<text text-anchor=\"middle\" x=\"3428.5\" y=\"-290.8\" font-family=\"Helvetica,sans-Serif\" font-size=\"14.00\" fill=\"#000000\">sibsp &lt;= 1.5</text>\n<text text-anchor=\"middle\" x=\"3428.5\" y=\"-275.8\" font-family=\"Helvetica,sans-Serif\" font-size=\"14.00\" fill=\"#000000\">gini = 0.444</text>\n<text text-anchor=\"middle\" x=\"3428.5\" y=\"-260.8\" font-family=\"Helvetica,sans-Serif\" font-size=\"14.00\" fill=\"#000000\">samples = 3</text>\n<text text-anchor=\"middle\" x=\"3428.5\" y=\"-245.8\" font-family=\"Helvetica,sans-Serif\" font-size=\"14.00\" fill=\"#000000\">value = [1, 2]</text>\n<text text-anchor=\"middle\" x=\"3428.5\" y=\"-230.8\" font-family=\"Helvetica,sans-Serif\" font-size=\"14.00\" fill=\"#000000\">class = Survived</text>\n</g>\n<!-- 168&#45;&gt;169 -->\n<g id=\"edge169\" class=\"edge\">\n<title>168&#45;&gt;169</title>\n<path fill=\"none\" stroke=\"#000000\" d=\"M3456.4607,-341.8796C3453.4341,-333.5037 3450.2192,-324.6067 3447.0883,-315.942\"/>\n<polygon fill=\"#000000\" stroke=\"#000000\" points=\"3450.2937,-314.5135 3443.6035,-306.2981 3443.7103,-316.8924 3450.2937,-314.5135\"/>\n</g>\n<!-- 172 -->\n<g id=\"node173\" class=\"node\">\n<title>172</title>\n<path fill=\"#e58139\" stroke=\"#000000\" d=\"M3636.5,-298.5C3636.5,-298.5 3520.5,-298.5 3520.5,-298.5 3514.5,-298.5 3508.5,-292.5 3508.5,-286.5 3508.5,-286.5 3508.5,-242.5 3508.5,-242.5 3508.5,-236.5 3514.5,-230.5 3520.5,-230.5 3520.5,-230.5 3636.5,-230.5 3636.5,-230.5 3642.5,-230.5 3648.5,-236.5 3648.5,-242.5 3648.5,-242.5 3648.5,-286.5 3648.5,-286.5 3648.5,-292.5 3642.5,-298.5 3636.5,-298.5\"/>\n<text text-anchor=\"middle\" x=\"3578.5\" y=\"-283.3\" font-family=\"Helvetica,sans-Serif\" font-size=\"14.00\" fill=\"#000000\">gini = 0.0</text>\n<text text-anchor=\"middle\" x=\"3578.5\" y=\"-268.3\" font-family=\"Helvetica,sans-Serif\" font-size=\"14.00\" fill=\"#000000\">samples = 2</text>\n<text text-anchor=\"middle\" x=\"3578.5\" y=\"-253.3\" font-family=\"Helvetica,sans-Serif\" font-size=\"14.00\" fill=\"#000000\">value = [2, 0]</text>\n<text text-anchor=\"middle\" x=\"3578.5\" y=\"-238.3\" font-family=\"Helvetica,sans-Serif\" font-size=\"14.00\" fill=\"#000000\">class = Unsurvived</text>\n</g>\n<!-- 168&#45;&gt;172 -->\n<g id=\"edge172\" class=\"edge\">\n<title>168&#45;&gt;172</title>\n<path fill=\"none\" stroke=\"#000000\" d=\"M3508.9234,-341.8796C3519.2061,-330.4436 3530.3623,-318.0363 3540.6679,-306.575\"/>\n<polygon fill=\"#000000\" stroke=\"#000000\" points=\"3543.5618,-308.5912 3547.6454,-298.8149 3538.3565,-303.9108 3543.5618,-308.5912\"/>\n</g>\n<!-- 170 -->\n<g id=\"node171\" class=\"node\">\n<title>170</title>\n<path fill=\"#399de5\" stroke=\"#000000\" d=\"M3403,-179.5C3403,-179.5 3304,-179.5 3304,-179.5 3298,-179.5 3292,-173.5 3292,-167.5 3292,-167.5 3292,-123.5 3292,-123.5 3292,-117.5 3298,-111.5 3304,-111.5 3304,-111.5 3403,-111.5 3403,-111.5 3409,-111.5 3415,-117.5 3415,-123.5 3415,-123.5 3415,-167.5 3415,-167.5 3415,-173.5 3409,-179.5 3403,-179.5\"/>\n<text text-anchor=\"middle\" x=\"3353.5\" y=\"-164.3\" font-family=\"Helvetica,sans-Serif\" font-size=\"14.00\" fill=\"#000000\">gini = 0.0</text>\n<text text-anchor=\"middle\" x=\"3353.5\" y=\"-149.3\" font-family=\"Helvetica,sans-Serif\" font-size=\"14.00\" fill=\"#000000\">samples = 2</text>\n<text text-anchor=\"middle\" x=\"3353.5\" y=\"-134.3\" font-family=\"Helvetica,sans-Serif\" font-size=\"14.00\" fill=\"#000000\">value = [0, 2]</text>\n<text text-anchor=\"middle\" x=\"3353.5\" y=\"-119.3\" font-family=\"Helvetica,sans-Serif\" font-size=\"14.00\" fill=\"#000000\">class = Survived</text>\n</g>\n<!-- 169&#45;&gt;170 -->\n<g id=\"edge170\" class=\"edge\">\n<title>169&#45;&gt;170</title>\n<path fill=\"none\" stroke=\"#000000\" d=\"M3402.2686,-222.8796C3395.269,-211.7735 3387.692,-199.7513 3380.6444,-188.5691\"/>\n<polygon fill=\"#000000\" stroke=\"#000000\" points=\"3383.42,-186.4087 3375.1271,-179.8149 3377.498,-190.1411 3383.42,-186.4087\"/>\n</g>\n<!-- 171 -->\n<g id=\"node172\" class=\"node\">\n<title>171</title>\n<path fill=\"#e58139\" stroke=\"#000000\" d=\"M3561.5,-179.5C3561.5,-179.5 3445.5,-179.5 3445.5,-179.5 3439.5,-179.5 3433.5,-173.5 3433.5,-167.5 3433.5,-167.5 3433.5,-123.5 3433.5,-123.5 3433.5,-117.5 3439.5,-111.5 3445.5,-111.5 3445.5,-111.5 3561.5,-111.5 3561.5,-111.5 3567.5,-111.5 3573.5,-117.5 3573.5,-123.5 3573.5,-123.5 3573.5,-167.5 3573.5,-167.5 3573.5,-173.5 3567.5,-179.5 3561.5,-179.5\"/>\n<text text-anchor=\"middle\" x=\"3503.5\" y=\"-164.3\" font-family=\"Helvetica,sans-Serif\" font-size=\"14.00\" fill=\"#000000\">gini = 0.0</text>\n<text text-anchor=\"middle\" x=\"3503.5\" y=\"-149.3\" font-family=\"Helvetica,sans-Serif\" font-size=\"14.00\" fill=\"#000000\">samples = 1</text>\n<text text-anchor=\"middle\" x=\"3503.5\" y=\"-134.3\" font-family=\"Helvetica,sans-Serif\" font-size=\"14.00\" fill=\"#000000\">value = [1, 0]</text>\n<text text-anchor=\"middle\" x=\"3503.5\" y=\"-119.3\" font-family=\"Helvetica,sans-Serif\" font-size=\"14.00\" fill=\"#000000\">class = Unsurvived</text>\n</g>\n<!-- 169&#45;&gt;171 -->\n<g id=\"edge171\" class=\"edge\">\n<title>169&#45;&gt;171</title>\n<path fill=\"none\" stroke=\"#000000\" d=\"M3454.7314,-222.8796C3461.731,-211.7735 3469.308,-199.7513 3476.3556,-188.5691\"/>\n<polygon fill=\"#000000\" stroke=\"#000000\" points=\"3479.502,-190.1411 3481.8729,-179.8149 3473.58,-186.4087 3479.502,-190.1411\"/>\n</g>\n<!-- 179 -->\n<g id=\"node180\" class=\"node\">\n<title>179</title>\n<path fill=\"#e99558\" stroke=\"#000000\" d=\"M5372.5,-1853C5372.5,-1853 5256.5,-1853 5256.5,-1853 5250.5,-1853 5244.5,-1847 5244.5,-1841 5244.5,-1841 5244.5,-1782 5244.5,-1782 5244.5,-1776 5250.5,-1770 5256.5,-1770 5256.5,-1770 5372.5,-1770 5372.5,-1770 5378.5,-1770 5384.5,-1776 5384.5,-1782 5384.5,-1782 5384.5,-1841 5384.5,-1841 5384.5,-1847 5378.5,-1853 5372.5,-1853\"/>\n<text text-anchor=\"middle\" x=\"5314.5\" y=\"-1837.8\" font-family=\"Helvetica,sans-Serif\" font-size=\"14.00\" fill=\"#000000\">age &lt;= 30.75</text>\n<text text-anchor=\"middle\" x=\"5314.5\" y=\"-1822.8\" font-family=\"Helvetica,sans-Serif\" font-size=\"14.00\" fill=\"#000000\">gini = 0.234</text>\n<text text-anchor=\"middle\" x=\"5314.5\" y=\"-1807.8\" font-family=\"Helvetica,sans-Serif\" font-size=\"14.00\" fill=\"#000000\">samples = 259</text>\n<text text-anchor=\"middle\" x=\"5314.5\" y=\"-1792.8\" font-family=\"Helvetica,sans-Serif\" font-size=\"14.00\" fill=\"#000000\">value = [224, 35]</text>\n<text text-anchor=\"middle\" x=\"5314.5\" y=\"-1777.8\" font-family=\"Helvetica,sans-Serif\" font-size=\"14.00\" fill=\"#000000\">class = Unsurvived</text>\n</g>\n<!-- 178&#45;&gt;179 -->\n<g id=\"edge179\" class=\"edge\">\n<title>178&#45;&gt;179</title>\n<path fill=\"none\" stroke=\"#000000\" d=\"M5314.5,-1888.8796C5314.5,-1880.6838 5314.5,-1871.9891 5314.5,-1863.5013\"/>\n<polygon fill=\"#000000\" stroke=\"#000000\" points=\"5318.0001,-1863.298 5314.5,-1853.2981 5311.0001,-1863.2981 5318.0001,-1863.298\"/>\n</g>\n<!-- 314 -->\n<g id=\"node315\" class=\"node\">\n<title>314</title>\n<path fill=\"#e78946\" stroke=\"#000000\" d=\"M6352.5,-1853C6352.5,-1853 6236.5,-1853 6236.5,-1853 6230.5,-1853 6224.5,-1847 6224.5,-1841 6224.5,-1841 6224.5,-1782 6224.5,-1782 6224.5,-1776 6230.5,-1770 6236.5,-1770 6236.5,-1770 6352.5,-1770 6352.5,-1770 6358.5,-1770 6364.5,-1776 6364.5,-1782 6364.5,-1782 6364.5,-1841 6364.5,-1841 6364.5,-1847 6358.5,-1853 6352.5,-1853\"/>\n<text text-anchor=\"middle\" x=\"6294.5\" y=\"-1837.8\" font-family=\"Helvetica,sans-Serif\" font-size=\"14.00\" fill=\"#000000\">fare &lt;= 7.91</text>\n<text text-anchor=\"middle\" x=\"6294.5\" y=\"-1822.8\" font-family=\"Helvetica,sans-Serif\" font-size=\"14.00\" fill=\"#000000\">gini = 0.115</text>\n<text text-anchor=\"middle\" x=\"6294.5\" y=\"-1807.8\" font-family=\"Helvetica,sans-Serif\" font-size=\"14.00\" fill=\"#000000\">samples = 82</text>\n<text text-anchor=\"middle\" x=\"6294.5\" y=\"-1792.8\" font-family=\"Helvetica,sans-Serif\" font-size=\"14.00\" fill=\"#000000\">value = [77, 5]</text>\n<text text-anchor=\"middle\" x=\"6294.5\" y=\"-1777.8\" font-family=\"Helvetica,sans-Serif\" font-size=\"14.00\" fill=\"#000000\">class = Unsurvived</text>\n</g>\n<!-- 178&#45;&gt;314 -->\n<g id=\"edge314\" class=\"edge\">\n<title>178&#45;&gt;314</title>\n<path fill=\"none\" stroke=\"#000000\" d=\"M5384.5859,-1921.9896C5561.7075,-1900.4819 6026.4972,-1844.0432 6214.1798,-1821.2532\"/>\n<polygon fill=\"#000000\" stroke=\"#000000\" points=\"6214.7491,-1824.7098 6224.2543,-1820.0298 6213.9052,-1817.7609 6214.7491,-1824.7098\"/>\n</g>\n<!-- 180 -->\n<g id=\"node181\" class=\"node\">\n<title>180</title>\n<path fill=\"#e89253\" stroke=\"#000000\" d=\"M5111.5,-1734C5111.5,-1734 4995.5,-1734 4995.5,-1734 4989.5,-1734 4983.5,-1728 4983.5,-1722 4983.5,-1722 4983.5,-1663 4983.5,-1663 4983.5,-1657 4989.5,-1651 4995.5,-1651 4995.5,-1651 5111.5,-1651 5111.5,-1651 5117.5,-1651 5123.5,-1657 5123.5,-1663 5123.5,-1663 5123.5,-1722 5123.5,-1722 5123.5,-1728 5117.5,-1734 5111.5,-1734\"/>\n<text text-anchor=\"middle\" x=\"5053.5\" y=\"-1718.8\" font-family=\"Helvetica,sans-Serif\" font-size=\"14.00\" fill=\"#000000\">pclass &lt;= 2.5</text>\n<text text-anchor=\"middle\" x=\"5053.5\" y=\"-1703.8\" font-family=\"Helvetica,sans-Serif\" font-size=\"14.00\" fill=\"#000000\">gini = 0.206</text>\n<text text-anchor=\"middle\" x=\"5053.5\" y=\"-1688.8\" font-family=\"Helvetica,sans-Serif\" font-size=\"14.00\" fill=\"#000000\">samples = 240</text>\n<text text-anchor=\"middle\" x=\"5053.5\" y=\"-1673.8\" font-family=\"Helvetica,sans-Serif\" font-size=\"14.00\" fill=\"#000000\">value = [212, 28]</text>\n<text text-anchor=\"middle\" x=\"5053.5\" y=\"-1658.8\" font-family=\"Helvetica,sans-Serif\" font-size=\"14.00\" fill=\"#000000\">class = Unsurvived</text>\n</g>\n<!-- 179&#45;&gt;180 -->\n<g id=\"edge180\" class=\"edge\">\n<title>179&#45;&gt;180</title>\n<path fill=\"none\" stroke=\"#000000\" d=\"M5244.2135,-1779.4536C5209.9794,-1763.845 5168.6646,-1745.008 5133.2543,-1728.8631\"/>\n<polygon fill=\"#000000\" stroke=\"#000000\" points=\"5134.463,-1725.5676 5123.9121,-1724.6036 5131.5589,-1731.9368 5134.463,-1725.5676\"/>\n</g>\n<!-- 291 -->\n<g id=\"node292\" class=\"node\">\n<title>291</title>\n<path fill=\"#f4caac\" stroke=\"#000000\" d=\"M5614.5,-1734C5614.5,-1734 5498.5,-1734 5498.5,-1734 5492.5,-1734 5486.5,-1728 5486.5,-1722 5486.5,-1722 5486.5,-1663 5486.5,-1663 5486.5,-1657 5492.5,-1651 5498.5,-1651 5498.5,-1651 5614.5,-1651 5614.5,-1651 5620.5,-1651 5626.5,-1657 5626.5,-1663 5626.5,-1663 5626.5,-1722 5626.5,-1722 5626.5,-1728 5620.5,-1734 5614.5,-1734\"/>\n<text text-anchor=\"middle\" x=\"5556.5\" y=\"-1718.8\" font-family=\"Helvetica,sans-Serif\" font-size=\"14.00\" fill=\"#000000\">fare &lt;= 7.814</text>\n<text text-anchor=\"middle\" x=\"5556.5\" y=\"-1703.8\" font-family=\"Helvetica,sans-Serif\" font-size=\"14.00\" fill=\"#000000\">gini = 0.465</text>\n<text text-anchor=\"middle\" x=\"5556.5\" y=\"-1688.8\" font-family=\"Helvetica,sans-Serif\" font-size=\"14.00\" fill=\"#000000\">samples = 19</text>\n<text text-anchor=\"middle\" x=\"5556.5\" y=\"-1673.8\" font-family=\"Helvetica,sans-Serif\" font-size=\"14.00\" fill=\"#000000\">value = [12, 7]</text>\n<text text-anchor=\"middle\" x=\"5556.5\" y=\"-1658.8\" font-family=\"Helvetica,sans-Serif\" font-size=\"14.00\" fill=\"#000000\">class = Unsurvived</text>\n</g>\n<!-- 179&#45;&gt;291 -->\n<g id=\"edge291\" class=\"edge\">\n<title>179&#45;&gt;291</title>\n<path fill=\"none\" stroke=\"#000000\" d=\"M5384.8215,-1776.9204C5413.7831,-1762.679 5447.4725,-1746.1127 5477.2988,-1731.446\"/>\n<polygon fill=\"#000000\" stroke=\"#000000\" points=\"5478.9924,-1734.5136 5486.4217,-1726.96 5475.9035,-1728.2319 5478.9924,-1734.5136\"/>\n</g>\n<!-- 181 -->\n<g id=\"node182\" class=\"node\">\n<title>181</title>\n<path fill=\"#e68743\" stroke=\"#000000\" d=\"M4260.5,-1615C4260.5,-1615 4144.5,-1615 4144.5,-1615 4138.5,-1615 4132.5,-1609 4132.5,-1603 4132.5,-1603 4132.5,-1544 4132.5,-1544 4132.5,-1538 4138.5,-1532 4144.5,-1532 4144.5,-1532 4260.5,-1532 4260.5,-1532 4266.5,-1532 4272.5,-1538 4272.5,-1544 4272.5,-1544 4272.5,-1603 4272.5,-1603 4272.5,-1609 4266.5,-1615 4260.5,-1615\"/>\n<text text-anchor=\"middle\" x=\"4202.5\" y=\"-1599.8\" font-family=\"Helvetica,sans-Serif\" font-size=\"14.00\" fill=\"#000000\">age &lt;= 20.0</text>\n<text text-anchor=\"middle\" x=\"4202.5\" y=\"-1584.8\" font-family=\"Helvetica,sans-Serif\" font-size=\"14.00\" fill=\"#000000\">gini = 0.089</text>\n<text text-anchor=\"middle\" x=\"4202.5\" y=\"-1569.8\" font-family=\"Helvetica,sans-Serif\" font-size=\"14.00\" fill=\"#000000\">samples = 43</text>\n<text text-anchor=\"middle\" x=\"4202.5\" y=\"-1554.8\" font-family=\"Helvetica,sans-Serif\" font-size=\"14.00\" fill=\"#000000\">value = [41, 2]</text>\n<text text-anchor=\"middle\" x=\"4202.5\" y=\"-1539.8\" font-family=\"Helvetica,sans-Serif\" font-size=\"14.00\" fill=\"#000000\">class = Unsurvived</text>\n</g>\n<!-- 180&#45;&gt;181 -->\n<g id=\"edge181\" class=\"edge\">\n<title>180&#45;&gt;181</title>\n<path fill=\"none\" stroke=\"#000000\" d=\"M4983.4975,-1682.7112C4826.8461,-1660.8057 4448.7999,-1607.9415 4282.8659,-1584.738\"/>\n<polygon fill=\"#000000\" stroke=\"#000000\" points=\"4283.1146,-1581.2388 4272.7263,-1583.3201 4282.1452,-1588.1714 4283.1146,-1581.2388\"/>\n</g>\n<!-- 196 -->\n<g id=\"node197\" class=\"node\">\n<title>196</title>\n<path fill=\"#e99457\" stroke=\"#000000\" d=\"M5111.5,-1615C5111.5,-1615 4995.5,-1615 4995.5,-1615 4989.5,-1615 4983.5,-1609 4983.5,-1603 4983.5,-1603 4983.5,-1544 4983.5,-1544 4983.5,-1538 4989.5,-1532 4995.5,-1532 4995.5,-1532 5111.5,-1532 5111.5,-1532 5117.5,-1532 5123.5,-1538 5123.5,-1544 5123.5,-1544 5123.5,-1603 5123.5,-1603 5123.5,-1609 5117.5,-1615 5111.5,-1615\"/>\n<text text-anchor=\"middle\" x=\"5053.5\" y=\"-1599.8\" font-family=\"Helvetica,sans-Serif\" font-size=\"14.00\" fill=\"#000000\">fare &lt;= 2.006</text>\n<text text-anchor=\"middle\" x=\"5053.5\" y=\"-1584.8\" font-family=\"Helvetica,sans-Serif\" font-size=\"14.00\" fill=\"#000000\">gini = 0.229</text>\n<text text-anchor=\"middle\" x=\"5053.5\" y=\"-1569.8\" font-family=\"Helvetica,sans-Serif\" font-size=\"14.00\" fill=\"#000000\">samples = 197</text>\n<text text-anchor=\"middle\" x=\"5053.5\" y=\"-1554.8\" font-family=\"Helvetica,sans-Serif\" font-size=\"14.00\" fill=\"#000000\">value = [171, 26]</text>\n<text text-anchor=\"middle\" x=\"5053.5\" y=\"-1539.8\" font-family=\"Helvetica,sans-Serif\" font-size=\"14.00\" fill=\"#000000\">class = Unsurvived</text>\n</g>\n<!-- 180&#45;&gt;196 -->\n<g id=\"edge196\" class=\"edge\">\n<title>180&#45;&gt;196</title>\n<path fill=\"none\" stroke=\"#000000\" d=\"M5053.5,-1650.8796C5053.5,-1642.6838 5053.5,-1633.9891 5053.5,-1625.5013\"/>\n<polygon fill=\"#000000\" stroke=\"#000000\" points=\"5057.0001,-1625.298 5053.5,-1615.2981 5050.0001,-1625.2981 5057.0001,-1625.298\"/>\n</g>\n<!-- 182 -->\n<g id=\"node183\" class=\"node\">\n<title>182</title>\n<path fill=\"#e89152\" stroke=\"#000000\" d=\"M4023.5,-1496C4023.5,-1496 3907.5,-1496 3907.5,-1496 3901.5,-1496 3895.5,-1490 3895.5,-1484 3895.5,-1484 3895.5,-1425 3895.5,-1425 3895.5,-1419 3901.5,-1413 3907.5,-1413 3907.5,-1413 4023.5,-1413 4023.5,-1413 4029.5,-1413 4035.5,-1419 4035.5,-1425 4035.5,-1425 4035.5,-1484 4035.5,-1484 4035.5,-1490 4029.5,-1496 4023.5,-1496\"/>\n<text text-anchor=\"middle\" x=\"3965.5\" y=\"-1480.8\" font-family=\"Helvetica,sans-Serif\" font-size=\"14.00\" fill=\"#000000\">age &lt;= 18.5</text>\n<text text-anchor=\"middle\" x=\"3965.5\" y=\"-1465.8\" font-family=\"Helvetica,sans-Serif\" font-size=\"14.00\" fill=\"#000000\">gini = 0.198</text>\n<text text-anchor=\"middle\" x=\"3965.5\" y=\"-1450.8\" font-family=\"Helvetica,sans-Serif\" font-size=\"14.00\" fill=\"#000000\">samples = 9</text>\n<text text-anchor=\"middle\" x=\"3965.5\" y=\"-1435.8\" font-family=\"Helvetica,sans-Serif\" font-size=\"14.00\" fill=\"#000000\">value = [8, 1]</text>\n<text text-anchor=\"middle\" x=\"3965.5\" y=\"-1420.8\" font-family=\"Helvetica,sans-Serif\" font-size=\"14.00\" fill=\"#000000\">class = Unsurvived</text>\n</g>\n<!-- 181&#45;&gt;182 -->\n<g id=\"edge182\" class=\"edge\">\n<title>181&#45;&gt;182</title>\n<path fill=\"none\" stroke=\"#000000\" d=\"M4132.3541,-1538.2791C4104.8882,-1524.4882 4073.239,-1508.5968 4044.9372,-1494.3862\"/>\n<polygon fill=\"#000000\" stroke=\"#000000\" points=\"4046.3827,-1491.1956 4035.8754,-1489.8362 4043.2416,-1497.4513 4046.3827,-1491.1956\"/>\n</g>\n<!-- 187 -->\n<g id=\"node188\" class=\"node\">\n<title>187</title>\n<path fill=\"#e6853f\" stroke=\"#000000\" d=\"M4260.5,-1496C4260.5,-1496 4144.5,-1496 4144.5,-1496 4138.5,-1496 4132.5,-1490 4132.5,-1484 4132.5,-1484 4132.5,-1425 4132.5,-1425 4132.5,-1419 4138.5,-1413 4144.5,-1413 4144.5,-1413 4260.5,-1413 4260.5,-1413 4266.5,-1413 4272.5,-1419 4272.5,-1425 4272.5,-1425 4272.5,-1484 4272.5,-1484 4272.5,-1490 4266.5,-1496 4260.5,-1496\"/>\n<text text-anchor=\"middle\" x=\"4202.5\" y=\"-1480.8\" font-family=\"Helvetica,sans-Serif\" font-size=\"14.00\" fill=\"#000000\">age &lt;= 29.35</text>\n<text text-anchor=\"middle\" x=\"4202.5\" y=\"-1465.8\" font-family=\"Helvetica,sans-Serif\" font-size=\"14.00\" fill=\"#000000\">gini = 0.057</text>\n<text text-anchor=\"middle\" x=\"4202.5\" y=\"-1450.8\" font-family=\"Helvetica,sans-Serif\" font-size=\"14.00\" fill=\"#000000\">samples = 34</text>\n<text text-anchor=\"middle\" x=\"4202.5\" y=\"-1435.8\" font-family=\"Helvetica,sans-Serif\" font-size=\"14.00\" fill=\"#000000\">value = [33, 1]</text>\n<text text-anchor=\"middle\" x=\"4202.5\" y=\"-1420.8\" font-family=\"Helvetica,sans-Serif\" font-size=\"14.00\" fill=\"#000000\">class = Unsurvived</text>\n</g>\n<!-- 181&#45;&gt;187 -->\n<g id=\"edge187\" class=\"edge\">\n<title>181&#45;&gt;187</title>\n<path fill=\"none\" stroke=\"#000000\" d=\"M4202.5,-1531.8796C4202.5,-1523.6838 4202.5,-1514.9891 4202.5,-1506.5013\"/>\n<polygon fill=\"#000000\" stroke=\"#000000\" points=\"4206.0001,-1506.298 4202.5,-1496.2981 4199.0001,-1506.2981 4206.0001,-1506.298\"/>\n</g>\n<!-- 183 -->\n<g id=\"node184\" class=\"node\">\n<title>183</title>\n<path fill=\"#e58139\" stroke=\"#000000\" d=\"M3865.5,-1369.5C3865.5,-1369.5 3749.5,-1369.5 3749.5,-1369.5 3743.5,-1369.5 3737.5,-1363.5 3737.5,-1357.5 3737.5,-1357.5 3737.5,-1313.5 3737.5,-1313.5 3737.5,-1307.5 3743.5,-1301.5 3749.5,-1301.5 3749.5,-1301.5 3865.5,-1301.5 3865.5,-1301.5 3871.5,-1301.5 3877.5,-1307.5 3877.5,-1313.5 3877.5,-1313.5 3877.5,-1357.5 3877.5,-1357.5 3877.5,-1363.5 3871.5,-1369.5 3865.5,-1369.5\"/>\n<text text-anchor=\"middle\" x=\"3807.5\" y=\"-1354.3\" font-family=\"Helvetica,sans-Serif\" font-size=\"14.00\" fill=\"#000000\">gini = 0.0</text>\n<text text-anchor=\"middle\" x=\"3807.5\" y=\"-1339.3\" font-family=\"Helvetica,sans-Serif\" font-size=\"14.00\" fill=\"#000000\">samples = 6</text>\n<text text-anchor=\"middle\" x=\"3807.5\" y=\"-1324.3\" font-family=\"Helvetica,sans-Serif\" font-size=\"14.00\" fill=\"#000000\">value = [6, 0]</text>\n<text text-anchor=\"middle\" x=\"3807.5\" y=\"-1309.3\" font-family=\"Helvetica,sans-Serif\" font-size=\"14.00\" fill=\"#000000\">class = Unsurvived</text>\n</g>\n<!-- 182&#45;&gt;183 -->\n<g id=\"edge183\" class=\"edge\">\n<title>182&#45;&gt;183</title>\n<path fill=\"none\" stroke=\"#000000\" d=\"M3910.2393,-1412.8796C3894.2497,-1400.8368 3876.8297,-1387.7167 3860.9526,-1375.7586\"/>\n<polygon fill=\"#000000\" stroke=\"#000000\" points=\"3862.8998,-1372.8435 3852.8062,-1369.623 3858.6884,-1378.435 3862.8998,-1372.8435\"/>\n</g>\n<!-- 184 -->\n<g id=\"node185\" class=\"node\">\n<title>184</title>\n<path fill=\"#f2c09c\" stroke=\"#000000\" d=\"M4023.5,-1377C4023.5,-1377 3907.5,-1377 3907.5,-1377 3901.5,-1377 3895.5,-1371 3895.5,-1365 3895.5,-1365 3895.5,-1306 3895.5,-1306 3895.5,-1300 3901.5,-1294 3907.5,-1294 3907.5,-1294 4023.5,-1294 4023.5,-1294 4029.5,-1294 4035.5,-1300 4035.5,-1306 4035.5,-1306 4035.5,-1365 4035.5,-1365 4035.5,-1371 4029.5,-1377 4023.5,-1377\"/>\n<text text-anchor=\"middle\" x=\"3965.5\" y=\"-1361.8\" font-family=\"Helvetica,sans-Serif\" font-size=\"14.00\" fill=\"#000000\">fare &lt;= 11.75</text>\n<text text-anchor=\"middle\" x=\"3965.5\" y=\"-1346.8\" font-family=\"Helvetica,sans-Serif\" font-size=\"14.00\" fill=\"#000000\">gini = 0.444</text>\n<text text-anchor=\"middle\" x=\"3965.5\" y=\"-1331.8\" font-family=\"Helvetica,sans-Serif\" font-size=\"14.00\" fill=\"#000000\">samples = 3</text>\n<text text-anchor=\"middle\" x=\"3965.5\" y=\"-1316.8\" font-family=\"Helvetica,sans-Serif\" font-size=\"14.00\" fill=\"#000000\">value = [2, 1]</text>\n<text text-anchor=\"middle\" x=\"3965.5\" y=\"-1301.8\" font-family=\"Helvetica,sans-Serif\" font-size=\"14.00\" fill=\"#000000\">class = Unsurvived</text>\n</g>\n<!-- 182&#45;&gt;184 -->\n<g id=\"edge184\" class=\"edge\">\n<title>182&#45;&gt;184</title>\n<path fill=\"none\" stroke=\"#000000\" d=\"M3965.5,-1412.8796C3965.5,-1404.6838 3965.5,-1395.9891 3965.5,-1387.5013\"/>\n<polygon fill=\"#000000\" stroke=\"#000000\" points=\"3969.0001,-1387.298 3965.5,-1377.2981 3962.0001,-1387.2981 3969.0001,-1387.298\"/>\n</g>\n<!-- 185 -->\n<g id=\"node186\" class=\"node\">\n<title>185</title>\n<path fill=\"#ffffff\" stroke=\"#000000\" d=\"M3865.5,-1250.5C3865.5,-1250.5 3749.5,-1250.5 3749.5,-1250.5 3743.5,-1250.5 3737.5,-1244.5 3737.5,-1238.5 3737.5,-1238.5 3737.5,-1194.5 3737.5,-1194.5 3737.5,-1188.5 3743.5,-1182.5 3749.5,-1182.5 3749.5,-1182.5 3865.5,-1182.5 3865.5,-1182.5 3871.5,-1182.5 3877.5,-1188.5 3877.5,-1194.5 3877.5,-1194.5 3877.5,-1238.5 3877.5,-1238.5 3877.5,-1244.5 3871.5,-1250.5 3865.5,-1250.5\"/>\n<text text-anchor=\"middle\" x=\"3807.5\" y=\"-1235.3\" font-family=\"Helvetica,sans-Serif\" font-size=\"14.00\" fill=\"#000000\">gini = 0.5</text>\n<text text-anchor=\"middle\" x=\"3807.5\" y=\"-1220.3\" font-family=\"Helvetica,sans-Serif\" font-size=\"14.00\" fill=\"#000000\">samples = 2</text>\n<text text-anchor=\"middle\" x=\"3807.5\" y=\"-1205.3\" font-family=\"Helvetica,sans-Serif\" font-size=\"14.00\" fill=\"#000000\">value = [1, 1]</text>\n<text text-anchor=\"middle\" x=\"3807.5\" y=\"-1190.3\" font-family=\"Helvetica,sans-Serif\" font-size=\"14.00\" fill=\"#000000\">class = Unsurvived</text>\n</g>\n<!-- 184&#45;&gt;185 -->\n<g id=\"edge185\" class=\"edge\">\n<title>184&#45;&gt;185</title>\n<path fill=\"none\" stroke=\"#000000\" d=\"M3910.2393,-1293.8796C3894.2497,-1281.8368 3876.8297,-1268.7167 3860.9526,-1256.7586\"/>\n<polygon fill=\"#000000\" stroke=\"#000000\" points=\"3862.8998,-1253.8435 3852.8062,-1250.623 3858.6884,-1259.435 3862.8998,-1253.8435\"/>\n</g>\n<!-- 186 -->\n<g id=\"node187\" class=\"node\">\n<title>186</title>\n<path fill=\"#e58139\" stroke=\"#000000\" d=\"M4023.5,-1250.5C4023.5,-1250.5 3907.5,-1250.5 3907.5,-1250.5 3901.5,-1250.5 3895.5,-1244.5 3895.5,-1238.5 3895.5,-1238.5 3895.5,-1194.5 3895.5,-1194.5 3895.5,-1188.5 3901.5,-1182.5 3907.5,-1182.5 3907.5,-1182.5 4023.5,-1182.5 4023.5,-1182.5 4029.5,-1182.5 4035.5,-1188.5 4035.5,-1194.5 4035.5,-1194.5 4035.5,-1238.5 4035.5,-1238.5 4035.5,-1244.5 4029.5,-1250.5 4023.5,-1250.5\"/>\n<text text-anchor=\"middle\" x=\"3965.5\" y=\"-1235.3\" font-family=\"Helvetica,sans-Serif\" font-size=\"14.00\" fill=\"#000000\">gini = 0.0</text>\n<text text-anchor=\"middle\" x=\"3965.5\" y=\"-1220.3\" font-family=\"Helvetica,sans-Serif\" font-size=\"14.00\" fill=\"#000000\">samples = 1</text>\n<text text-anchor=\"middle\" x=\"3965.5\" y=\"-1205.3\" font-family=\"Helvetica,sans-Serif\" font-size=\"14.00\" fill=\"#000000\">value = [1, 0]</text>\n<text text-anchor=\"middle\" x=\"3965.5\" y=\"-1190.3\" font-family=\"Helvetica,sans-Serif\" font-size=\"14.00\" fill=\"#000000\">class = Unsurvived</text>\n</g>\n<!-- 184&#45;&gt;186 -->\n<g id=\"edge186\" class=\"edge\">\n<title>184&#45;&gt;186</title>\n<path fill=\"none\" stroke=\"#000000\" d=\"M3965.5,-1293.8796C3965.5,-1283.2134 3965.5,-1271.7021 3965.5,-1260.9015\"/>\n<polygon fill=\"#000000\" stroke=\"#000000\" points=\"3969.0001,-1260.8149 3965.5,-1250.8149 3962.0001,-1260.815 3969.0001,-1260.8149\"/>\n</g>\n<!-- 188 -->\n<g id=\"node189\" class=\"node\">\n<title>188</title>\n<path fill=\"#e58139\" stroke=\"#000000\" d=\"M4181.5,-1369.5C4181.5,-1369.5 4065.5,-1369.5 4065.5,-1369.5 4059.5,-1369.5 4053.5,-1363.5 4053.5,-1357.5 4053.5,-1357.5 4053.5,-1313.5 4053.5,-1313.5 4053.5,-1307.5 4059.5,-1301.5 4065.5,-1301.5 4065.5,-1301.5 4181.5,-1301.5 4181.5,-1301.5 4187.5,-1301.5 4193.5,-1307.5 4193.5,-1313.5 4193.5,-1313.5 4193.5,-1357.5 4193.5,-1357.5 4193.5,-1363.5 4187.5,-1369.5 4181.5,-1369.5\"/>\n<text text-anchor=\"middle\" x=\"4123.5\" y=\"-1354.3\" font-family=\"Helvetica,sans-Serif\" font-size=\"14.00\" fill=\"#000000\">gini = 0.0</text>\n<text text-anchor=\"middle\" x=\"4123.5\" y=\"-1339.3\" font-family=\"Helvetica,sans-Serif\" font-size=\"14.00\" fill=\"#000000\">samples = 21</text>\n<text text-anchor=\"middle\" x=\"4123.5\" y=\"-1324.3\" font-family=\"Helvetica,sans-Serif\" font-size=\"14.00\" fill=\"#000000\">value = [21, 0]</text>\n<text text-anchor=\"middle\" x=\"4123.5\" y=\"-1309.3\" font-family=\"Helvetica,sans-Serif\" font-size=\"14.00\" fill=\"#000000\">class = Unsurvived</text>\n</g>\n<!-- 187&#45;&gt;188 -->\n<g id=\"edge188\" class=\"edge\">\n<title>187&#45;&gt;188</title>\n<path fill=\"none\" stroke=\"#000000\" d=\"M4174.8696,-1412.8796C4167.4237,-1401.6636 4159.3575,-1389.5131 4151.8718,-1378.2372\"/>\n<polygon fill=\"#000000\" stroke=\"#000000\" points=\"4154.7273,-1376.2104 4146.2805,-1369.8149 4148.8954,-1380.082 4154.7273,-1376.2104\"/>\n</g>\n<!-- 189 -->\n<g id=\"node190\" class=\"node\">\n<title>189</title>\n<path fill=\"#e78c49\" stroke=\"#000000\" d=\"M4339.5,-1377C4339.5,-1377 4223.5,-1377 4223.5,-1377 4217.5,-1377 4211.5,-1371 4211.5,-1365 4211.5,-1365 4211.5,-1306 4211.5,-1306 4211.5,-1300 4217.5,-1294 4223.5,-1294 4223.5,-1294 4339.5,-1294 4339.5,-1294 4345.5,-1294 4351.5,-1300 4351.5,-1306 4351.5,-1306 4351.5,-1365 4351.5,-1365 4351.5,-1371 4345.5,-1377 4339.5,-1377\"/>\n<text text-anchor=\"middle\" x=\"4281.5\" y=\"-1361.8\" font-family=\"Helvetica,sans-Serif\" font-size=\"14.00\" fill=\"#000000\">fare &lt;= 11.75</text>\n<text text-anchor=\"middle\" x=\"4281.5\" y=\"-1346.8\" font-family=\"Helvetica,sans-Serif\" font-size=\"14.00\" fill=\"#000000\">gini = 0.142</text>\n<text text-anchor=\"middle\" x=\"4281.5\" y=\"-1331.8\" font-family=\"Helvetica,sans-Serif\" font-size=\"14.00\" fill=\"#000000\">samples = 13</text>\n<text text-anchor=\"middle\" x=\"4281.5\" y=\"-1316.8\" font-family=\"Helvetica,sans-Serif\" font-size=\"14.00\" fill=\"#000000\">value = [12, 1]</text>\n<text text-anchor=\"middle\" x=\"4281.5\" y=\"-1301.8\" font-family=\"Helvetica,sans-Serif\" font-size=\"14.00\" fill=\"#000000\">class = Unsurvived</text>\n</g>\n<!-- 187&#45;&gt;189 -->\n<g id=\"edge189\" class=\"edge\">\n<title>187&#45;&gt;189</title>\n<path fill=\"none\" stroke=\"#000000\" d=\"M4230.1304,-1412.8796C4235.93,-1404.1434 4242.1059,-1394.8404 4248.0908,-1385.8253\"/>\n<polygon fill=\"#000000\" stroke=\"#000000\" points=\"4251.1368,-1387.5652 4253.7517,-1377.2981 4245.3049,-1383.6935 4251.1368,-1387.5652\"/>\n</g>\n<!-- 190 -->\n<g id=\"node191\" class=\"node\">\n<title>190</title>\n<path fill=\"#e58139\" stroke=\"#000000\" d=\"M4181.5,-1250.5C4181.5,-1250.5 4065.5,-1250.5 4065.5,-1250.5 4059.5,-1250.5 4053.5,-1244.5 4053.5,-1238.5 4053.5,-1238.5 4053.5,-1194.5 4053.5,-1194.5 4053.5,-1188.5 4059.5,-1182.5 4065.5,-1182.5 4065.5,-1182.5 4181.5,-1182.5 4181.5,-1182.5 4187.5,-1182.5 4193.5,-1188.5 4193.5,-1194.5 4193.5,-1194.5 4193.5,-1238.5 4193.5,-1238.5 4193.5,-1244.5 4187.5,-1250.5 4181.5,-1250.5\"/>\n<text text-anchor=\"middle\" x=\"4123.5\" y=\"-1235.3\" font-family=\"Helvetica,sans-Serif\" font-size=\"14.00\" fill=\"#000000\">gini = 0.0</text>\n<text text-anchor=\"middle\" x=\"4123.5\" y=\"-1220.3\" font-family=\"Helvetica,sans-Serif\" font-size=\"14.00\" fill=\"#000000\">samples = 7</text>\n<text text-anchor=\"middle\" x=\"4123.5\" y=\"-1205.3\" font-family=\"Helvetica,sans-Serif\" font-size=\"14.00\" fill=\"#000000\">value = [7, 0]</text>\n<text text-anchor=\"middle\" x=\"4123.5\" y=\"-1190.3\" font-family=\"Helvetica,sans-Serif\" font-size=\"14.00\" fill=\"#000000\">class = Unsurvived</text>\n</g>\n<!-- 189&#45;&gt;190 -->\n<g id=\"edge190\" class=\"edge\">\n<title>189&#45;&gt;190</title>\n<path fill=\"none\" stroke=\"#000000\" d=\"M4226.2393,-1293.8796C4210.2497,-1281.8368 4192.8297,-1268.7167 4176.9526,-1256.7586\"/>\n<polygon fill=\"#000000\" stroke=\"#000000\" points=\"4178.8998,-1253.8435 4168.8062,-1250.623 4174.6884,-1259.435 4178.8998,-1253.8435\"/>\n</g>\n<!-- 191 -->\n<g id=\"node192\" class=\"node\">\n<title>191</title>\n<path fill=\"#ea9a61\" stroke=\"#000000\" d=\"M4339.5,-1258C4339.5,-1258 4223.5,-1258 4223.5,-1258 4217.5,-1258 4211.5,-1252 4211.5,-1246 4211.5,-1246 4211.5,-1187 4211.5,-1187 4211.5,-1181 4217.5,-1175 4223.5,-1175 4223.5,-1175 4339.5,-1175 4339.5,-1175 4345.5,-1175 4351.5,-1181 4351.5,-1187 4351.5,-1187 4351.5,-1246 4351.5,-1246 4351.5,-1252 4345.5,-1258 4339.5,-1258\"/>\n<text text-anchor=\"middle\" x=\"4281.5\" y=\"-1242.8\" font-family=\"Helvetica,sans-Serif\" font-size=\"14.00\" fill=\"#000000\">age &lt;= 29.85</text>\n<text text-anchor=\"middle\" x=\"4281.5\" y=\"-1227.8\" font-family=\"Helvetica,sans-Serif\" font-size=\"14.00\" fill=\"#000000\">gini = 0.278</text>\n<text text-anchor=\"middle\" x=\"4281.5\" y=\"-1212.8\" font-family=\"Helvetica,sans-Serif\" font-size=\"14.00\" fill=\"#000000\">samples = 6</text>\n<text text-anchor=\"middle\" x=\"4281.5\" y=\"-1197.8\" font-family=\"Helvetica,sans-Serif\" font-size=\"14.00\" fill=\"#000000\">value = [5, 1]</text>\n<text text-anchor=\"middle\" x=\"4281.5\" y=\"-1182.8\" font-family=\"Helvetica,sans-Serif\" font-size=\"14.00\" fill=\"#000000\">class = Unsurvived</text>\n</g>\n<!-- 189&#45;&gt;191 -->\n<g id=\"edge191\" class=\"edge\">\n<title>189&#45;&gt;191</title>\n<path fill=\"none\" stroke=\"#000000\" d=\"M4281.5,-1293.8796C4281.5,-1285.6838 4281.5,-1276.9891 4281.5,-1268.5013\"/>\n<polygon fill=\"#000000\" stroke=\"#000000\" points=\"4285.0001,-1268.298 4281.5,-1258.2981 4278.0001,-1268.2981 4285.0001,-1268.298\"/>\n</g>\n<!-- 192 -->\n<g id=\"node193\" class=\"node\">\n<title>192</title>\n<path fill=\"#ffffff\" stroke=\"#000000\" d=\"M4181.5,-1139C4181.5,-1139 4065.5,-1139 4065.5,-1139 4059.5,-1139 4053.5,-1133 4053.5,-1127 4053.5,-1127 4053.5,-1068 4053.5,-1068 4053.5,-1062 4059.5,-1056 4065.5,-1056 4065.5,-1056 4181.5,-1056 4181.5,-1056 4187.5,-1056 4193.5,-1062 4193.5,-1068 4193.5,-1068 4193.5,-1127 4193.5,-1127 4193.5,-1133 4187.5,-1139 4181.5,-1139\"/>\n<text text-anchor=\"middle\" x=\"4123.5\" y=\"-1123.8\" font-family=\"Helvetica,sans-Serif\" font-size=\"14.00\" fill=\"#000000\">fare &lt;= 14.023</text>\n<text text-anchor=\"middle\" x=\"4123.5\" y=\"-1108.8\" font-family=\"Helvetica,sans-Serif\" font-size=\"14.00\" fill=\"#000000\">gini = 0.5</text>\n<text text-anchor=\"middle\" x=\"4123.5\" y=\"-1093.8\" font-family=\"Helvetica,sans-Serif\" font-size=\"14.00\" fill=\"#000000\">samples = 2</text>\n<text text-anchor=\"middle\" x=\"4123.5\" y=\"-1078.8\" font-family=\"Helvetica,sans-Serif\" font-size=\"14.00\" fill=\"#000000\">value = [1, 1]</text>\n<text text-anchor=\"middle\" x=\"4123.5\" y=\"-1063.8\" font-family=\"Helvetica,sans-Serif\" font-size=\"14.00\" fill=\"#000000\">class = Unsurvived</text>\n</g>\n<!-- 191&#45;&gt;192 -->\n<g id=\"edge192\" class=\"edge\">\n<title>191&#45;&gt;192</title>\n<path fill=\"none\" stroke=\"#000000\" d=\"M4226.2393,-1174.8796C4213.4901,-1165.2774 4199.8317,-1154.9903 4186.7709,-1145.1534\"/>\n<polygon fill=\"#000000\" stroke=\"#000000\" points=\"4188.8231,-1142.3174 4178.7295,-1139.0969 4184.6117,-1147.9089 4188.8231,-1142.3174\"/>\n</g>\n<!-- 195 -->\n<g id=\"node196\" class=\"node\">\n<title>195</title>\n<path fill=\"#e58139\" stroke=\"#000000\" d=\"M4339.5,-1131.5C4339.5,-1131.5 4223.5,-1131.5 4223.5,-1131.5 4217.5,-1131.5 4211.5,-1125.5 4211.5,-1119.5 4211.5,-1119.5 4211.5,-1075.5 4211.5,-1075.5 4211.5,-1069.5 4217.5,-1063.5 4223.5,-1063.5 4223.5,-1063.5 4339.5,-1063.5 4339.5,-1063.5 4345.5,-1063.5 4351.5,-1069.5 4351.5,-1075.5 4351.5,-1075.5 4351.5,-1119.5 4351.5,-1119.5 4351.5,-1125.5 4345.5,-1131.5 4339.5,-1131.5\"/>\n<text text-anchor=\"middle\" x=\"4281.5\" y=\"-1116.3\" font-family=\"Helvetica,sans-Serif\" font-size=\"14.00\" fill=\"#000000\">gini = 0.0</text>\n<text text-anchor=\"middle\" x=\"4281.5\" y=\"-1101.3\" font-family=\"Helvetica,sans-Serif\" font-size=\"14.00\" fill=\"#000000\">samples = 4</text>\n<text text-anchor=\"middle\" x=\"4281.5\" y=\"-1086.3\" font-family=\"Helvetica,sans-Serif\" font-size=\"14.00\" fill=\"#000000\">value = [4, 0]</text>\n<text text-anchor=\"middle\" x=\"4281.5\" y=\"-1071.3\" font-family=\"Helvetica,sans-Serif\" font-size=\"14.00\" fill=\"#000000\">class = Unsurvived</text>\n</g>\n<!-- 191&#45;&gt;195 -->\n<g id=\"edge195\" class=\"edge\">\n<title>191&#45;&gt;195</title>\n<path fill=\"none\" stroke=\"#000000\" d=\"M4281.5,-1174.8796C4281.5,-1164.2134 4281.5,-1152.7021 4281.5,-1141.9015\"/>\n<polygon fill=\"#000000\" stroke=\"#000000\" points=\"4285.0001,-1141.8149 4281.5,-1131.8149 4278.0001,-1141.815 4285.0001,-1141.8149\"/>\n</g>\n<!-- 193 -->\n<g id=\"node194\" class=\"node\">\n<title>193</title>\n<path fill=\"#399de5\" stroke=\"#000000\" d=\"M4023,-1012.5C4023,-1012.5 3924,-1012.5 3924,-1012.5 3918,-1012.5 3912,-1006.5 3912,-1000.5 3912,-1000.5 3912,-956.5 3912,-956.5 3912,-950.5 3918,-944.5 3924,-944.5 3924,-944.5 4023,-944.5 4023,-944.5 4029,-944.5 4035,-950.5 4035,-956.5 4035,-956.5 4035,-1000.5 4035,-1000.5 4035,-1006.5 4029,-1012.5 4023,-1012.5\"/>\n<text text-anchor=\"middle\" x=\"3973.5\" y=\"-997.3\" font-family=\"Helvetica,sans-Serif\" font-size=\"14.00\" fill=\"#000000\">gini = 0.0</text>\n<text text-anchor=\"middle\" x=\"3973.5\" y=\"-982.3\" font-family=\"Helvetica,sans-Serif\" font-size=\"14.00\" fill=\"#000000\">samples = 1</text>\n<text text-anchor=\"middle\" x=\"3973.5\" y=\"-967.3\" font-family=\"Helvetica,sans-Serif\" font-size=\"14.00\" fill=\"#000000\">value = [0, 1]</text>\n<text text-anchor=\"middle\" x=\"3973.5\" y=\"-952.3\" font-family=\"Helvetica,sans-Serif\" font-size=\"14.00\" fill=\"#000000\">class = Survived</text>\n</g>\n<!-- 192&#45;&gt;193 -->\n<g id=\"edge193\" class=\"edge\">\n<title>192&#45;&gt;193</title>\n<path fill=\"none\" stroke=\"#000000\" d=\"M4071.0373,-1055.8796C4056.0678,-1044.0038 4039.7778,-1031.0804 4024.8741,-1019.2568\"/>\n<polygon fill=\"#000000\" stroke=\"#000000\" points=\"4026.7635,-1016.2881 4016.7541,-1012.8149 4022.413,-1021.772 4026.7635,-1016.2881\"/>\n</g>\n<!-- 194 -->\n<g id=\"node195\" class=\"node\">\n<title>194</title>\n<path fill=\"#e58139\" stroke=\"#000000\" d=\"M4181.5,-1012.5C4181.5,-1012.5 4065.5,-1012.5 4065.5,-1012.5 4059.5,-1012.5 4053.5,-1006.5 4053.5,-1000.5 4053.5,-1000.5 4053.5,-956.5 4053.5,-956.5 4053.5,-950.5 4059.5,-944.5 4065.5,-944.5 4065.5,-944.5 4181.5,-944.5 4181.5,-944.5 4187.5,-944.5 4193.5,-950.5 4193.5,-956.5 4193.5,-956.5 4193.5,-1000.5 4193.5,-1000.5 4193.5,-1006.5 4187.5,-1012.5 4181.5,-1012.5\"/>\n<text text-anchor=\"middle\" x=\"4123.5\" y=\"-997.3\" font-family=\"Helvetica,sans-Serif\" font-size=\"14.00\" fill=\"#000000\">gini = 0.0</text>\n<text text-anchor=\"middle\" x=\"4123.5\" y=\"-982.3\" font-family=\"Helvetica,sans-Serif\" font-size=\"14.00\" fill=\"#000000\">samples = 1</text>\n<text text-anchor=\"middle\" x=\"4123.5\" y=\"-967.3\" font-family=\"Helvetica,sans-Serif\" font-size=\"14.00\" fill=\"#000000\">value = [1, 0]</text>\n<text text-anchor=\"middle\" x=\"4123.5\" y=\"-952.3\" font-family=\"Helvetica,sans-Serif\" font-size=\"14.00\" fill=\"#000000\">class = Unsurvived</text>\n</g>\n<!-- 192&#45;&gt;194 -->\n<g id=\"edge194\" class=\"edge\">\n<title>192&#45;&gt;194</title>\n<path fill=\"none\" stroke=\"#000000\" d=\"M4123.5,-1055.8796C4123.5,-1045.2134 4123.5,-1033.7021 4123.5,-1022.9015\"/>\n<polygon fill=\"#000000\" stroke=\"#000000\" points=\"4127.0001,-1022.8149 4123.5,-1012.8149 4120.0001,-1022.815 4127.0001,-1022.8149\"/>\n</g>\n<!-- 197 -->\n<g id=\"node198\" class=\"node\">\n<title>197</title>\n<path fill=\"#ffffff\" stroke=\"#000000\" d=\"M5032.5,-1496C5032.5,-1496 4916.5,-1496 4916.5,-1496 4910.5,-1496 4904.5,-1490 4904.5,-1484 4904.5,-1484 4904.5,-1425 4904.5,-1425 4904.5,-1419 4910.5,-1413 4916.5,-1413 4916.5,-1413 5032.5,-1413 5032.5,-1413 5038.5,-1413 5044.5,-1419 5044.5,-1425 5044.5,-1425 5044.5,-1484 5044.5,-1484 5044.5,-1490 5038.5,-1496 5032.5,-1496\"/>\n<text text-anchor=\"middle\" x=\"4974.5\" y=\"-1480.8\" font-family=\"Helvetica,sans-Serif\" font-size=\"14.00\" fill=\"#000000\">age &lt;= 22.0</text>\n<text text-anchor=\"middle\" x=\"4974.5\" y=\"-1465.8\" font-family=\"Helvetica,sans-Serif\" font-size=\"14.00\" fill=\"#000000\">gini = 0.5</text>\n<text text-anchor=\"middle\" x=\"4974.5\" y=\"-1450.8\" font-family=\"Helvetica,sans-Serif\" font-size=\"14.00\" fill=\"#000000\">samples = 2</text>\n<text text-anchor=\"middle\" x=\"4974.5\" y=\"-1435.8\" font-family=\"Helvetica,sans-Serif\" font-size=\"14.00\" fill=\"#000000\">value = [1, 1]</text>\n<text text-anchor=\"middle\" x=\"4974.5\" y=\"-1420.8\" font-family=\"Helvetica,sans-Serif\" font-size=\"14.00\" fill=\"#000000\">class = Unsurvived</text>\n</g>\n<!-- 196&#45;&gt;197 -->\n<g id=\"edge197\" class=\"edge\">\n<title>196&#45;&gt;197</title>\n<path fill=\"none\" stroke=\"#000000\" d=\"M5025.8696,-1531.8796C5020.07,-1523.1434 5013.8941,-1513.8404 5007.9092,-1504.8253\"/>\n<polygon fill=\"#000000\" stroke=\"#000000\" points=\"5010.6951,-1502.6935 5002.2483,-1496.2981 5004.8632,-1506.5652 5010.6951,-1502.6935\"/>\n</g>\n<!-- 200 -->\n<g id=\"node201\" class=\"node\">\n<title>200</title>\n<path fill=\"#e99456\" stroke=\"#000000\" d=\"M5190.5,-1496C5190.5,-1496 5074.5,-1496 5074.5,-1496 5068.5,-1496 5062.5,-1490 5062.5,-1484 5062.5,-1484 5062.5,-1425 5062.5,-1425 5062.5,-1419 5068.5,-1413 5074.5,-1413 5074.5,-1413 5190.5,-1413 5190.5,-1413 5196.5,-1413 5202.5,-1419 5202.5,-1425 5202.5,-1425 5202.5,-1484 5202.5,-1484 5202.5,-1490 5196.5,-1496 5190.5,-1496\"/>\n<text text-anchor=\"middle\" x=\"5132.5\" y=\"-1480.8\" font-family=\"Helvetica,sans-Serif\" font-size=\"14.00\" fill=\"#000000\">fare &lt;= 15.172</text>\n<text text-anchor=\"middle\" x=\"5132.5\" y=\"-1465.8\" font-family=\"Helvetica,sans-Serif\" font-size=\"14.00\" fill=\"#000000\">gini = 0.224</text>\n<text text-anchor=\"middle\" x=\"5132.5\" y=\"-1450.8\" font-family=\"Helvetica,sans-Serif\" font-size=\"14.00\" fill=\"#000000\">samples = 195</text>\n<text text-anchor=\"middle\" x=\"5132.5\" y=\"-1435.8\" font-family=\"Helvetica,sans-Serif\" font-size=\"14.00\" fill=\"#000000\">value = [170, 25]</text>\n<text text-anchor=\"middle\" x=\"5132.5\" y=\"-1420.8\" font-family=\"Helvetica,sans-Serif\" font-size=\"14.00\" fill=\"#000000\">class = Unsurvived</text>\n</g>\n<!-- 196&#45;&gt;200 -->\n<g id=\"edge200\" class=\"edge\">\n<title>196&#45;&gt;200</title>\n<path fill=\"none\" stroke=\"#000000\" d=\"M5081.1304,-1531.8796C5086.93,-1523.1434 5093.1059,-1513.8404 5099.0908,-1504.8253\"/>\n<polygon fill=\"#000000\" stroke=\"#000000\" points=\"5102.1368,-1506.5652 5104.7517,-1496.2981 5096.3049,-1502.6935 5102.1368,-1506.5652\"/>\n</g>\n<!-- 198 -->\n<g id=\"node199\" class=\"node\">\n<title>198</title>\n<path fill=\"#e58139\" stroke=\"#000000\" d=\"M4884.5,-1369.5C4884.5,-1369.5 4768.5,-1369.5 4768.5,-1369.5 4762.5,-1369.5 4756.5,-1363.5 4756.5,-1357.5 4756.5,-1357.5 4756.5,-1313.5 4756.5,-1313.5 4756.5,-1307.5 4762.5,-1301.5 4768.5,-1301.5 4768.5,-1301.5 4884.5,-1301.5 4884.5,-1301.5 4890.5,-1301.5 4896.5,-1307.5 4896.5,-1313.5 4896.5,-1313.5 4896.5,-1357.5 4896.5,-1357.5 4896.5,-1363.5 4890.5,-1369.5 4884.5,-1369.5\"/>\n<text text-anchor=\"middle\" x=\"4826.5\" y=\"-1354.3\" font-family=\"Helvetica,sans-Serif\" font-size=\"14.00\" fill=\"#000000\">gini = 0.0</text>\n<text text-anchor=\"middle\" x=\"4826.5\" y=\"-1339.3\" font-family=\"Helvetica,sans-Serif\" font-size=\"14.00\" fill=\"#000000\">samples = 1</text>\n<text text-anchor=\"middle\" x=\"4826.5\" y=\"-1324.3\" font-family=\"Helvetica,sans-Serif\" font-size=\"14.00\" fill=\"#000000\">value = [1, 0]</text>\n<text text-anchor=\"middle\" x=\"4826.5\" y=\"-1309.3\" font-family=\"Helvetica,sans-Serif\" font-size=\"14.00\" fill=\"#000000\">class = Unsurvived</text>\n</g>\n<!-- 197&#45;&gt;198 -->\n<g id=\"edge198\" class=\"edge\">\n<title>197&#45;&gt;198</title>\n<path fill=\"none\" stroke=\"#000000\" d=\"M4922.7368,-1412.8796C4907.9669,-1401.0038 4891.8941,-1388.0804 4877.1892,-1376.2568\"/>\n<polygon fill=\"#000000\" stroke=\"#000000\" points=\"4879.1639,-1373.3535 4869.1774,-1369.8149 4874.7775,-1378.8088 4879.1639,-1373.3535\"/>\n</g>\n<!-- 199 -->\n<g id=\"node200\" class=\"node\">\n<title>199</title>\n<path fill=\"#399de5\" stroke=\"#000000\" d=\"M5026,-1369.5C5026,-1369.5 4927,-1369.5 4927,-1369.5 4921,-1369.5 4915,-1363.5 4915,-1357.5 4915,-1357.5 4915,-1313.5 4915,-1313.5 4915,-1307.5 4921,-1301.5 4927,-1301.5 4927,-1301.5 5026,-1301.5 5026,-1301.5 5032,-1301.5 5038,-1307.5 5038,-1313.5 5038,-1313.5 5038,-1357.5 5038,-1357.5 5038,-1363.5 5032,-1369.5 5026,-1369.5\"/>\n<text text-anchor=\"middle\" x=\"4976.5\" y=\"-1354.3\" font-family=\"Helvetica,sans-Serif\" font-size=\"14.00\" fill=\"#000000\">gini = 0.0</text>\n<text text-anchor=\"middle\" x=\"4976.5\" y=\"-1339.3\" font-family=\"Helvetica,sans-Serif\" font-size=\"14.00\" fill=\"#000000\">samples = 1</text>\n<text text-anchor=\"middle\" x=\"4976.5\" y=\"-1324.3\" font-family=\"Helvetica,sans-Serif\" font-size=\"14.00\" fill=\"#000000\">value = [0, 1]</text>\n<text text-anchor=\"middle\" x=\"4976.5\" y=\"-1309.3\" font-family=\"Helvetica,sans-Serif\" font-size=\"14.00\" fill=\"#000000\">class = Survived</text>\n</g>\n<!-- 197&#45;&gt;199 -->\n<g id=\"edge199\" class=\"edge\">\n<title>197&#45;&gt;199</title>\n<path fill=\"none\" stroke=\"#000000\" d=\"M4975.1995,-1412.8796C4975.3788,-1402.2134 4975.5722,-1390.7021 4975.7538,-1379.9015\"/>\n<polygon fill=\"#000000\" stroke=\"#000000\" points=\"4979.2546,-1379.8724 4975.9233,-1369.8149 4972.2556,-1379.7547 4979.2546,-1379.8724\"/>\n</g>\n<!-- 201 -->\n<g id=\"node202\" class=\"node\">\n<title>201</title>\n<path fill=\"#e89152\" stroke=\"#000000\" d=\"M5188.5,-1377C5188.5,-1377 5072.5,-1377 5072.5,-1377 5066.5,-1377 5060.5,-1371 5060.5,-1365 5060.5,-1365 5060.5,-1306 5060.5,-1306 5060.5,-1300 5066.5,-1294 5072.5,-1294 5072.5,-1294 5188.5,-1294 5188.5,-1294 5194.5,-1294 5200.5,-1300 5200.5,-1306 5200.5,-1306 5200.5,-1365 5200.5,-1365 5200.5,-1371 5194.5,-1377 5188.5,-1377\"/>\n<text text-anchor=\"middle\" x=\"5130.5\" y=\"-1361.8\" font-family=\"Helvetica,sans-Serif\" font-size=\"14.00\" fill=\"#000000\">age &lt;= 29.35</text>\n<text text-anchor=\"middle\" x=\"5130.5\" y=\"-1346.8\" font-family=\"Helvetica,sans-Serif\" font-size=\"14.00\" fill=\"#000000\">gini = 0.2</text>\n<text text-anchor=\"middle\" x=\"5130.5\" y=\"-1331.8\" font-family=\"Helvetica,sans-Serif\" font-size=\"14.00\" fill=\"#000000\">samples = 160</text>\n<text text-anchor=\"middle\" x=\"5130.5\" y=\"-1316.8\" font-family=\"Helvetica,sans-Serif\" font-size=\"14.00\" fill=\"#000000\">value = [142, 18]</text>\n<text text-anchor=\"middle\" x=\"5130.5\" y=\"-1301.8\" font-family=\"Helvetica,sans-Serif\" font-size=\"14.00\" fill=\"#000000\">class = Unsurvived</text>\n</g>\n<!-- 200&#45;&gt;201 -->\n<g id=\"edge201\" class=\"edge\">\n<title>200&#45;&gt;201</title>\n<path fill=\"none\" stroke=\"#000000\" d=\"M5131.8005,-1412.8796C5131.6628,-1404.6838 5131.5166,-1395.9891 5131.374,-1387.5013\"/>\n<polygon fill=\"#000000\" stroke=\"#000000\" points=\"5134.8701,-1387.2378 5131.2025,-1377.2981 5127.8711,-1387.3555 5134.8701,-1387.2378\"/>\n</g>\n<!-- 268 -->\n<g id=\"node269\" class=\"node\">\n<title>268</title>\n<path fill=\"#eca06a\" stroke=\"#000000\" d=\"M5421.5,-1377C5421.5,-1377 5305.5,-1377 5305.5,-1377 5299.5,-1377 5293.5,-1371 5293.5,-1365 5293.5,-1365 5293.5,-1306 5293.5,-1306 5293.5,-1300 5299.5,-1294 5305.5,-1294 5305.5,-1294 5421.5,-1294 5421.5,-1294 5427.5,-1294 5433.5,-1300 5433.5,-1306 5433.5,-1306 5433.5,-1365 5433.5,-1365 5433.5,-1371 5427.5,-1377 5421.5,-1377\"/>\n<text text-anchor=\"middle\" x=\"5363.5\" y=\"-1361.8\" font-family=\"Helvetica,sans-Serif\" font-size=\"14.00\" fill=\"#000000\">fare &lt;= 15.371</text>\n<text text-anchor=\"middle\" x=\"5363.5\" y=\"-1346.8\" font-family=\"Helvetica,sans-Serif\" font-size=\"14.00\" fill=\"#000000\">gini = 0.32</text>\n<text text-anchor=\"middle\" x=\"5363.5\" y=\"-1331.8\" font-family=\"Helvetica,sans-Serif\" font-size=\"14.00\" fill=\"#000000\">samples = 35</text>\n<text text-anchor=\"middle\" x=\"5363.5\" y=\"-1316.8\" font-family=\"Helvetica,sans-Serif\" font-size=\"14.00\" fill=\"#000000\">value = [28, 7]</text>\n<text text-anchor=\"middle\" x=\"5363.5\" y=\"-1301.8\" font-family=\"Helvetica,sans-Serif\" font-size=\"14.00\" fill=\"#000000\">class = Unsurvived</text>\n</g>\n<!-- 200&#45;&gt;268 -->\n<g id=\"edge268\" class=\"edge\">\n<title>200&#45;&gt;268</title>\n<path fill=\"none\" stroke=\"#000000\" d=\"M5202.7485,-1418.3114C5228.3958,-1405.0991 5257.5791,-1390.0653 5283.977,-1376.4664\"/>\n<polygon fill=\"#000000\" stroke=\"#000000\" points=\"5285.9008,-1379.4125 5293.1877,-1371.7215 5282.6951,-1373.1897 5285.9008,-1379.4125\"/>\n</g>\n<!-- 202 -->\n<g id=\"node203\" class=\"node\">\n<title>202</title>\n<path fill=\"#ea995e\" stroke=\"#000000\" d=\"M4730.5,-1258C4730.5,-1258 4614.5,-1258 4614.5,-1258 4608.5,-1258 4602.5,-1252 4602.5,-1246 4602.5,-1246 4602.5,-1187 4602.5,-1187 4602.5,-1181 4608.5,-1175 4614.5,-1175 4614.5,-1175 4730.5,-1175 4730.5,-1175 4736.5,-1175 4742.5,-1181 4742.5,-1187 4742.5,-1187 4742.5,-1246 4742.5,-1246 4742.5,-1252 4736.5,-1258 4730.5,-1258\"/>\n<text text-anchor=\"middle\" x=\"4672.5\" y=\"-1242.8\" font-family=\"Helvetica,sans-Serif\" font-size=\"14.00\" fill=\"#000000\">age &lt;= 28.5</text>\n<text text-anchor=\"middle\" x=\"4672.5\" y=\"-1227.8\" font-family=\"Helvetica,sans-Serif\" font-size=\"14.00\" fill=\"#000000\">gini = 0.265</text>\n<text text-anchor=\"middle\" x=\"4672.5\" y=\"-1212.8\" font-family=\"Helvetica,sans-Serif\" font-size=\"14.00\" fill=\"#000000\">samples = 89</text>\n<text text-anchor=\"middle\" x=\"4672.5\" y=\"-1197.8\" font-family=\"Helvetica,sans-Serif\" font-size=\"14.00\" fill=\"#000000\">value = [75, 14]</text>\n<text text-anchor=\"middle\" x=\"4672.5\" y=\"-1182.8\" font-family=\"Helvetica,sans-Serif\" font-size=\"14.00\" fill=\"#000000\">class = Unsurvived</text>\n</g>\n<!-- 201&#45;&gt;202 -->\n<g id=\"edge202\" class=\"edge\">\n<title>201&#45;&gt;202</title>\n<path fill=\"none\" stroke=\"#000000\" d=\"M5060.4781,-1299.2906C5055.8001,-1297.3749 5051.114,-1295.5887 5046.5,-1294 4947.9442,-1260.0658 4829.4099,-1238.5847 4752.591,-1227.0579\"/>\n<polygon fill=\"#000000\" stroke=\"#000000\" points=\"4752.9064,-1223.5666 4742.5018,-1225.5653 4751.8819,-1230.4912 4752.9064,-1223.5666\"/>\n</g>\n<!-- 253 -->\n<g id=\"node254\" class=\"node\">\n<title>253</title>\n<path fill=\"#e78945\" stroke=\"#000000\" d=\"M5188.5,-1258C5188.5,-1258 5072.5,-1258 5072.5,-1258 5066.5,-1258 5060.5,-1252 5060.5,-1246 5060.5,-1246 5060.5,-1187 5060.5,-1187 5060.5,-1181 5066.5,-1175 5072.5,-1175 5072.5,-1175 5188.5,-1175 5188.5,-1175 5194.5,-1175 5200.5,-1181 5200.5,-1187 5200.5,-1187 5200.5,-1246 5200.5,-1246 5200.5,-1252 5194.5,-1258 5188.5,-1258\"/>\n<text text-anchor=\"middle\" x=\"5130.5\" y=\"-1242.8\" font-family=\"Helvetica,sans-Serif\" font-size=\"14.00\" fill=\"#000000\">fare &lt;= 8.078</text>\n<text text-anchor=\"middle\" x=\"5130.5\" y=\"-1227.8\" font-family=\"Helvetica,sans-Serif\" font-size=\"14.00\" fill=\"#000000\">gini = 0.106</text>\n<text text-anchor=\"middle\" x=\"5130.5\" y=\"-1212.8\" font-family=\"Helvetica,sans-Serif\" font-size=\"14.00\" fill=\"#000000\">samples = 71</text>\n<text text-anchor=\"middle\" x=\"5130.5\" y=\"-1197.8\" font-family=\"Helvetica,sans-Serif\" font-size=\"14.00\" fill=\"#000000\">value = [67, 4]</text>\n<text text-anchor=\"middle\" x=\"5130.5\" y=\"-1182.8\" font-family=\"Helvetica,sans-Serif\" font-size=\"14.00\" fill=\"#000000\">class = Unsurvived</text>\n</g>\n<!-- 201&#45;&gt;253 -->\n<g id=\"edge253\" class=\"edge\">\n<title>201&#45;&gt;253</title>\n<path fill=\"none\" stroke=\"#000000\" d=\"M5130.5,-1293.8796C5130.5,-1285.6838 5130.5,-1276.9891 5130.5,-1268.5013\"/>\n<polygon fill=\"#000000\" stroke=\"#000000\" points=\"5134.0001,-1268.298 5130.5,-1258.2981 5127.0001,-1268.2981 5134.0001,-1268.298\"/>\n</g>\n<!-- 203 -->\n<g id=\"node204\" class=\"node\">\n<title>203</title>\n<path fill=\"#e99558\" stroke=\"#000000\" d=\"M4497.5,-1139C4497.5,-1139 4381.5,-1139 4381.5,-1139 4375.5,-1139 4369.5,-1133 4369.5,-1127 4369.5,-1127 4369.5,-1068 4369.5,-1068 4369.5,-1062 4375.5,-1056 4381.5,-1056 4381.5,-1056 4497.5,-1056 4497.5,-1056 4503.5,-1056 4509.5,-1062 4509.5,-1068 4509.5,-1068 4509.5,-1127 4509.5,-1127 4509.5,-1133 4503.5,-1139 4497.5,-1139\"/>\n<text text-anchor=\"middle\" x=\"4439.5\" y=\"-1123.8\" font-family=\"Helvetica,sans-Serif\" font-size=\"14.00\" fill=\"#000000\">fare &lt;= 8.102</text>\n<text text-anchor=\"middle\" x=\"4439.5\" y=\"-1108.8\" font-family=\"Helvetica,sans-Serif\" font-size=\"14.00\" fill=\"#000000\">gini = 0.232</text>\n<text text-anchor=\"middle\" x=\"4439.5\" y=\"-1093.8\" font-family=\"Helvetica,sans-Serif\" font-size=\"14.00\" fill=\"#000000\">samples = 82</text>\n<text text-anchor=\"middle\" x=\"4439.5\" y=\"-1078.8\" font-family=\"Helvetica,sans-Serif\" font-size=\"14.00\" fill=\"#000000\">value = [71, 11]</text>\n<text text-anchor=\"middle\" x=\"4439.5\" y=\"-1063.8\" font-family=\"Helvetica,sans-Serif\" font-size=\"14.00\" fill=\"#000000\">class = Unsurvived</text>\n</g>\n<!-- 202&#45;&gt;203 -->\n<g id=\"edge203\" class=\"edge\">\n<title>202&#45;&gt;203</title>\n<path fill=\"none\" stroke=\"#000000\" d=\"M4602.2763,-1180.6347C4575.9119,-1167.1696 4545.7718,-1151.7762 4518.6515,-1137.925\"/>\n<polygon fill=\"#000000\" stroke=\"#000000\" points=\"4520.0775,-1134.7233 4509.5798,-1133.2918 4516.8936,-1140.9573 4520.0775,-1134.7233\"/>\n</g>\n<!-- 242 -->\n<g id=\"node243\" class=\"node\">\n<title>242</title>\n<path fill=\"#f8e0ce\" stroke=\"#000000\" d=\"M4730.5,-1139C4730.5,-1139 4614.5,-1139 4614.5,-1139 4608.5,-1139 4602.5,-1133 4602.5,-1127 4602.5,-1127 4602.5,-1068 4602.5,-1068 4602.5,-1062 4608.5,-1056 4614.5,-1056 4614.5,-1056 4730.5,-1056 4730.5,-1056 4736.5,-1056 4742.5,-1062 4742.5,-1068 4742.5,-1068 4742.5,-1127 4742.5,-1127 4742.5,-1133 4736.5,-1139 4730.5,-1139\"/>\n<text text-anchor=\"middle\" x=\"4672.5\" y=\"-1123.8\" font-family=\"Helvetica,sans-Serif\" font-size=\"14.00\" fill=\"#000000\">fare &lt;= 9.492</text>\n<text text-anchor=\"middle\" x=\"4672.5\" y=\"-1108.8\" font-family=\"Helvetica,sans-Serif\" font-size=\"14.00\" fill=\"#000000\">gini = 0.49</text>\n<text text-anchor=\"middle\" x=\"4672.5\" y=\"-1093.8\" font-family=\"Helvetica,sans-Serif\" font-size=\"14.00\" fill=\"#000000\">samples = 7</text>\n<text text-anchor=\"middle\" x=\"4672.5\" y=\"-1078.8\" font-family=\"Helvetica,sans-Serif\" font-size=\"14.00\" fill=\"#000000\">value = [4, 3]</text>\n<text text-anchor=\"middle\" x=\"4672.5\" y=\"-1063.8\" font-family=\"Helvetica,sans-Serif\" font-size=\"14.00\" fill=\"#000000\">class = Unsurvived</text>\n</g>\n<!-- 202&#45;&gt;242 -->\n<g id=\"edge242\" class=\"edge\">\n<title>202&#45;&gt;242</title>\n<path fill=\"none\" stroke=\"#000000\" d=\"M4672.5,-1174.8796C4672.5,-1166.6838 4672.5,-1157.9891 4672.5,-1149.5013\"/>\n<polygon fill=\"#000000\" stroke=\"#000000\" points=\"4676.0001,-1149.298 4672.5,-1139.2981 4669.0001,-1149.2981 4676.0001,-1149.298\"/>\n</g>\n<!-- 204 -->\n<g id=\"node205\" class=\"node\">\n<title>204</title>\n<path fill=\"#eb9d65\" stroke=\"#000000\" d=\"M4339.5,-1020C4339.5,-1020 4223.5,-1020 4223.5,-1020 4217.5,-1020 4211.5,-1014 4211.5,-1008 4211.5,-1008 4211.5,-949 4211.5,-949 4211.5,-943 4217.5,-937 4223.5,-937 4223.5,-937 4339.5,-937 4339.5,-937 4345.5,-937 4351.5,-943 4351.5,-949 4351.5,-949 4351.5,-1008 4351.5,-1008 4351.5,-1014 4345.5,-1020 4339.5,-1020\"/>\n<text text-anchor=\"middle\" x=\"4281.5\" y=\"-1004.8\" font-family=\"Helvetica,sans-Serif\" font-size=\"14.00\" fill=\"#000000\">age &lt;= 20.5</text>\n<text text-anchor=\"middle\" x=\"4281.5\" y=\"-989.8\" font-family=\"Helvetica,sans-Serif\" font-size=\"14.00\" fill=\"#000000\">gini = 0.296</text>\n<text text-anchor=\"middle\" x=\"4281.5\" y=\"-974.8\" font-family=\"Helvetica,sans-Serif\" font-size=\"14.00\" fill=\"#000000\">samples = 61</text>\n<text text-anchor=\"middle\" x=\"4281.5\" y=\"-959.8\" font-family=\"Helvetica,sans-Serif\" font-size=\"14.00\" fill=\"#000000\">value = [50, 11]</text>\n<text text-anchor=\"middle\" x=\"4281.5\" y=\"-944.8\" font-family=\"Helvetica,sans-Serif\" font-size=\"14.00\" fill=\"#000000\">class = Unsurvived</text>\n</g>\n<!-- 203&#45;&gt;204 -->\n<g id=\"edge204\" class=\"edge\">\n<title>203&#45;&gt;204</title>\n<path fill=\"none\" stroke=\"#000000\" d=\"M4384.2393,-1055.8796C4371.4901,-1046.2774 4357.8317,-1035.9903 4344.7709,-1026.1534\"/>\n<polygon fill=\"#000000\" stroke=\"#000000\" points=\"4346.8231,-1023.3174 4336.7295,-1020.0969 4342.6117,-1028.9089 4346.8231,-1023.3174\"/>\n</g>\n<!-- 241 -->\n<g id=\"node242\" class=\"node\">\n<title>241</title>\n<path fill=\"#e58139\" stroke=\"#000000\" d=\"M4497.5,-1012.5C4497.5,-1012.5 4381.5,-1012.5 4381.5,-1012.5 4375.5,-1012.5 4369.5,-1006.5 4369.5,-1000.5 4369.5,-1000.5 4369.5,-956.5 4369.5,-956.5 4369.5,-950.5 4375.5,-944.5 4381.5,-944.5 4381.5,-944.5 4497.5,-944.5 4497.5,-944.5 4503.5,-944.5 4509.5,-950.5 4509.5,-956.5 4509.5,-956.5 4509.5,-1000.5 4509.5,-1000.5 4509.5,-1006.5 4503.5,-1012.5 4497.5,-1012.5\"/>\n<text text-anchor=\"middle\" x=\"4439.5\" y=\"-997.3\" font-family=\"Helvetica,sans-Serif\" font-size=\"14.00\" fill=\"#000000\">gini = 0.0</text>\n<text text-anchor=\"middle\" x=\"4439.5\" y=\"-982.3\" font-family=\"Helvetica,sans-Serif\" font-size=\"14.00\" fill=\"#000000\">samples = 21</text>\n<text text-anchor=\"middle\" x=\"4439.5\" y=\"-967.3\" font-family=\"Helvetica,sans-Serif\" font-size=\"14.00\" fill=\"#000000\">value = [21, 0]</text>\n<text text-anchor=\"middle\" x=\"4439.5\" y=\"-952.3\" font-family=\"Helvetica,sans-Serif\" font-size=\"14.00\" fill=\"#000000\">class = Unsurvived</text>\n</g>\n<!-- 203&#45;&gt;241 -->\n<g id=\"edge241\" class=\"edge\">\n<title>203&#45;&gt;241</title>\n<path fill=\"none\" stroke=\"#000000\" d=\"M4439.5,-1055.8796C4439.5,-1045.2134 4439.5,-1033.7021 4439.5,-1022.9015\"/>\n<polygon fill=\"#000000\" stroke=\"#000000\" points=\"4443.0001,-1022.8149 4439.5,-1012.8149 4436.0001,-1022.815 4443.0001,-1022.8149\"/>\n</g>\n<!-- 205 -->\n<g id=\"node206\" class=\"node\">\n<title>205</title>\n<path fill=\"#efb185\" stroke=\"#000000\" d=\"M3965.5,-901C3965.5,-901 3849.5,-901 3849.5,-901 3843.5,-901 3837.5,-895 3837.5,-889 3837.5,-889 3837.5,-830 3837.5,-830 3837.5,-824 3843.5,-818 3849.5,-818 3849.5,-818 3965.5,-818 3965.5,-818 3971.5,-818 3977.5,-824 3977.5,-830 3977.5,-830 3977.5,-889 3977.5,-889 3977.5,-895 3971.5,-901 3965.5,-901\"/>\n<text text-anchor=\"middle\" x=\"3907.5\" y=\"-885.8\" font-family=\"Helvetica,sans-Serif\" font-size=\"14.00\" fill=\"#000000\">fare &lt;= 7.91</text>\n<text text-anchor=\"middle\" x=\"3907.5\" y=\"-870.8\" font-family=\"Helvetica,sans-Serif\" font-size=\"14.00\" fill=\"#000000\">gini = 0.401</text>\n<text text-anchor=\"middle\" x=\"3907.5\" y=\"-855.8\" font-family=\"Helvetica,sans-Serif\" font-size=\"14.00\" fill=\"#000000\">samples = 18</text>\n<text text-anchor=\"middle\" x=\"3907.5\" y=\"-840.8\" font-family=\"Helvetica,sans-Serif\" font-size=\"14.00\" fill=\"#000000\">value = [13, 5]</text>\n<text text-anchor=\"middle\" x=\"3907.5\" y=\"-825.8\" font-family=\"Helvetica,sans-Serif\" font-size=\"14.00\" fill=\"#000000\">class = Unsurvived</text>\n</g>\n<!-- 204&#45;&gt;205 -->\n<g id=\"edge205\" class=\"edge\">\n<title>204&#45;&gt;205</title>\n<path fill=\"none\" stroke=\"#000000\" d=\"M4211.2356,-940.5792C4208.3078,-939.3208 4205.3885,-938.1213 4202.5,-937 4131.7744,-909.5437 4047.8129,-888.5451 3987.5838,-875.376\"/>\n<polygon fill=\"#000000\" stroke=\"#000000\" points=\"3988.2659,-871.9426 3977.752,-873.2496 3986.7861,-878.7845 3988.2659,-871.9426\"/>\n</g>\n<!-- 220 -->\n<g id=\"node221\" class=\"node\">\n<title>220</title>\n<path fill=\"#e99559\" stroke=\"#000000\" d=\"M4339.5,-901C4339.5,-901 4223.5,-901 4223.5,-901 4217.5,-901 4211.5,-895 4211.5,-889 4211.5,-889 4211.5,-830 4211.5,-830 4211.5,-824 4217.5,-818 4223.5,-818 4223.5,-818 4339.5,-818 4339.5,-818 4345.5,-818 4351.5,-824 4351.5,-830 4351.5,-830 4351.5,-889 4351.5,-889 4351.5,-895 4345.5,-901 4339.5,-901\"/>\n<text text-anchor=\"middle\" x=\"4281.5\" y=\"-885.8\" font-family=\"Helvetica,sans-Serif\" font-size=\"14.00\" fill=\"#000000\">fare &lt;= 7.229</text>\n<text text-anchor=\"middle\" x=\"4281.5\" y=\"-870.8\" font-family=\"Helvetica,sans-Serif\" font-size=\"14.00\" fill=\"#000000\">gini = 0.24</text>\n<text text-anchor=\"middle\" x=\"4281.5\" y=\"-855.8\" font-family=\"Helvetica,sans-Serif\" font-size=\"14.00\" fill=\"#000000\">samples = 43</text>\n<text text-anchor=\"middle\" x=\"4281.5\" y=\"-840.8\" font-family=\"Helvetica,sans-Serif\" font-size=\"14.00\" fill=\"#000000\">value = [37, 6]</text>\n<text text-anchor=\"middle\" x=\"4281.5\" y=\"-825.8\" font-family=\"Helvetica,sans-Serif\" font-size=\"14.00\" fill=\"#000000\">class = Unsurvived</text>\n</g>\n<!-- 204&#45;&gt;220 -->\n<g id=\"edge220\" class=\"edge\">\n<title>204&#45;&gt;220</title>\n<path fill=\"none\" stroke=\"#000000\" d=\"M4281.5,-936.8796C4281.5,-928.6838 4281.5,-919.9891 4281.5,-911.5013\"/>\n<polygon fill=\"#000000\" stroke=\"#000000\" points=\"4285.0001,-911.298 4281.5,-901.2981 4278.0001,-911.2981 4285.0001,-911.298\"/>\n</g>\n<!-- 206 -->\n<g id=\"node207\" class=\"node\">\n<title>206</title>\n<path fill=\"#e88f4f\" stroke=\"#000000\" d=\"M3732.5,-782C3732.5,-782 3616.5,-782 3616.5,-782 3610.5,-782 3604.5,-776 3604.5,-770 3604.5,-770 3604.5,-711 3604.5,-711 3604.5,-705 3610.5,-699 3616.5,-699 3616.5,-699 3732.5,-699 3732.5,-699 3738.5,-699 3744.5,-705 3744.5,-711 3744.5,-711 3744.5,-770 3744.5,-770 3744.5,-776 3738.5,-782 3732.5,-782\"/>\n<text text-anchor=\"middle\" x=\"3674.5\" y=\"-766.8\" font-family=\"Helvetica,sans-Serif\" font-size=\"14.00\" fill=\"#000000\">age &lt;= 19.5</text>\n<text text-anchor=\"middle\" x=\"3674.5\" y=\"-751.8\" font-family=\"Helvetica,sans-Serif\" font-size=\"14.00\" fill=\"#000000\">gini = 0.18</text>\n<text text-anchor=\"middle\" x=\"3674.5\" y=\"-736.8\" font-family=\"Helvetica,sans-Serif\" font-size=\"14.00\" fill=\"#000000\">samples = 10</text>\n<text text-anchor=\"middle\" x=\"3674.5\" y=\"-721.8\" font-family=\"Helvetica,sans-Serif\" font-size=\"14.00\" fill=\"#000000\">value = [9, 1]</text>\n<text text-anchor=\"middle\" x=\"3674.5\" y=\"-706.8\" font-family=\"Helvetica,sans-Serif\" font-size=\"14.00\" fill=\"#000000\">class = Unsurvived</text>\n</g>\n<!-- 205&#45;&gt;206 -->\n<g id=\"edge206\" class=\"edge\">\n<title>205&#45;&gt;206</title>\n<path fill=\"none\" stroke=\"#000000\" d=\"M3837.2763,-823.6347C3810.9119,-810.1696 3780.7718,-794.7762 3753.6515,-780.925\"/>\n<polygon fill=\"#000000\" stroke=\"#000000\" points=\"3755.0775,-777.7233 3744.5798,-776.2918 3751.8936,-783.9573 3755.0775,-777.7233\"/>\n</g>\n<!-- 211 -->\n<g id=\"node212\" class=\"node\">\n<title>211</title>\n<path fill=\"#ffffff\" stroke=\"#000000\" d=\"M3965.5,-782C3965.5,-782 3849.5,-782 3849.5,-782 3843.5,-782 3837.5,-776 3837.5,-770 3837.5,-770 3837.5,-711 3837.5,-711 3837.5,-705 3843.5,-699 3849.5,-699 3849.5,-699 3965.5,-699 3965.5,-699 3971.5,-699 3977.5,-705 3977.5,-711 3977.5,-711 3977.5,-770 3977.5,-770 3977.5,-776 3971.5,-782 3965.5,-782\"/>\n<text text-anchor=\"middle\" x=\"3907.5\" y=\"-766.8\" font-family=\"Helvetica,sans-Serif\" font-size=\"14.00\" fill=\"#000000\">sibsp &lt;= 0.5</text>\n<text text-anchor=\"middle\" x=\"3907.5\" y=\"-751.8\" font-family=\"Helvetica,sans-Serif\" font-size=\"14.00\" fill=\"#000000\">gini = 0.5</text>\n<text text-anchor=\"middle\" x=\"3907.5\" y=\"-736.8\" font-family=\"Helvetica,sans-Serif\" font-size=\"14.00\" fill=\"#000000\">samples = 8</text>\n<text text-anchor=\"middle\" x=\"3907.5\" y=\"-721.8\" font-family=\"Helvetica,sans-Serif\" font-size=\"14.00\" fill=\"#000000\">value = [4, 4]</text>\n<text text-anchor=\"middle\" x=\"3907.5\" y=\"-706.8\" font-family=\"Helvetica,sans-Serif\" font-size=\"14.00\" fill=\"#000000\">class = Unsurvived</text>\n</g>\n<!-- 205&#45;&gt;211 -->\n<g id=\"edge211\" class=\"edge\">\n<title>205&#45;&gt;211</title>\n<path fill=\"none\" stroke=\"#000000\" d=\"M3907.5,-817.8796C3907.5,-809.6838 3907.5,-800.9891 3907.5,-792.5013\"/>\n<polygon fill=\"#000000\" stroke=\"#000000\" points=\"3911.0001,-792.298 3907.5,-782.2981 3904.0001,-792.2981 3911.0001,-792.298\"/>\n</g>\n<!-- 207 -->\n<g id=\"node208\" class=\"node\">\n<title>207</title>\n<path fill=\"#e58139\" stroke=\"#000000\" d=\"M3574.5,-655.5C3574.5,-655.5 3458.5,-655.5 3458.5,-655.5 3452.5,-655.5 3446.5,-649.5 3446.5,-643.5 3446.5,-643.5 3446.5,-599.5 3446.5,-599.5 3446.5,-593.5 3452.5,-587.5 3458.5,-587.5 3458.5,-587.5 3574.5,-587.5 3574.5,-587.5 3580.5,-587.5 3586.5,-593.5 3586.5,-599.5 3586.5,-599.5 3586.5,-643.5 3586.5,-643.5 3586.5,-649.5 3580.5,-655.5 3574.5,-655.5\"/>\n<text text-anchor=\"middle\" x=\"3516.5\" y=\"-640.3\" font-family=\"Helvetica,sans-Serif\" font-size=\"14.00\" fill=\"#000000\">gini = 0.0</text>\n<text text-anchor=\"middle\" x=\"3516.5\" y=\"-625.3\" font-family=\"Helvetica,sans-Serif\" font-size=\"14.00\" fill=\"#000000\">samples = 8</text>\n<text text-anchor=\"middle\" x=\"3516.5\" y=\"-610.3\" font-family=\"Helvetica,sans-Serif\" font-size=\"14.00\" fill=\"#000000\">value = [8, 0]</text>\n<text text-anchor=\"middle\" x=\"3516.5\" y=\"-595.3\" font-family=\"Helvetica,sans-Serif\" font-size=\"14.00\" fill=\"#000000\">class = Unsurvived</text>\n</g>\n<!-- 206&#45;&gt;207 -->\n<g id=\"edge207\" class=\"edge\">\n<title>206&#45;&gt;207</title>\n<path fill=\"none\" stroke=\"#000000\" d=\"M3619.2393,-698.8796C3603.2497,-686.8368 3585.8297,-673.7167 3569.9526,-661.7586\"/>\n<polygon fill=\"#000000\" stroke=\"#000000\" points=\"3571.8998,-658.8435 3561.8062,-655.623 3567.6884,-664.435 3571.8998,-658.8435\"/>\n</g>\n<!-- 208 -->\n<g id=\"node209\" class=\"node\">\n<title>208</title>\n<path fill=\"#ffffff\" stroke=\"#000000\" d=\"M3732.5,-663C3732.5,-663 3616.5,-663 3616.5,-663 3610.5,-663 3604.5,-657 3604.5,-651 3604.5,-651 3604.5,-592 3604.5,-592 3604.5,-586 3610.5,-580 3616.5,-580 3616.5,-580 3732.5,-580 3732.5,-580 3738.5,-580 3744.5,-586 3744.5,-592 3744.5,-592 3744.5,-651 3744.5,-651 3744.5,-657 3738.5,-663 3732.5,-663\"/>\n<text text-anchor=\"middle\" x=\"3674.5\" y=\"-647.8\" font-family=\"Helvetica,sans-Serif\" font-size=\"14.00\" fill=\"#000000\">fare &lt;= 5.621</text>\n<text text-anchor=\"middle\" x=\"3674.5\" y=\"-632.8\" font-family=\"Helvetica,sans-Serif\" font-size=\"14.00\" fill=\"#000000\">gini = 0.5</text>\n<text text-anchor=\"middle\" x=\"3674.5\" y=\"-617.8\" font-family=\"Helvetica,sans-Serif\" font-size=\"14.00\" fill=\"#000000\">samples = 2</text>\n<text text-anchor=\"middle\" x=\"3674.5\" y=\"-602.8\" font-family=\"Helvetica,sans-Serif\" font-size=\"14.00\" fill=\"#000000\">value = [1, 1]</text>\n<text text-anchor=\"middle\" x=\"3674.5\" y=\"-587.8\" font-family=\"Helvetica,sans-Serif\" font-size=\"14.00\" fill=\"#000000\">class = Unsurvived</text>\n</g>\n<!-- 206&#45;&gt;208 -->\n<g id=\"edge208\" class=\"edge\">\n<title>206&#45;&gt;208</title>\n<path fill=\"none\" stroke=\"#000000\" d=\"M3674.5,-698.8796C3674.5,-690.6838 3674.5,-681.9891 3674.5,-673.5013\"/>\n<polygon fill=\"#000000\" stroke=\"#000000\" points=\"3678.0001,-673.298 3674.5,-663.2981 3671.0001,-673.2981 3678.0001,-673.298\"/>\n</g>\n<!-- 209 -->\n<g id=\"node210\" class=\"node\">\n<title>209</title>\n<path fill=\"#e58139\" stroke=\"#000000\" d=\"M3584.5,-536.5C3584.5,-536.5 3468.5,-536.5 3468.5,-536.5 3462.5,-536.5 3456.5,-530.5 3456.5,-524.5 3456.5,-524.5 3456.5,-480.5 3456.5,-480.5 3456.5,-474.5 3462.5,-468.5 3468.5,-468.5 3468.5,-468.5 3584.5,-468.5 3584.5,-468.5 3590.5,-468.5 3596.5,-474.5 3596.5,-480.5 3596.5,-480.5 3596.5,-524.5 3596.5,-524.5 3596.5,-530.5 3590.5,-536.5 3584.5,-536.5\"/>\n<text text-anchor=\"middle\" x=\"3526.5\" y=\"-521.3\" font-family=\"Helvetica,sans-Serif\" font-size=\"14.00\" fill=\"#000000\">gini = 0.0</text>\n<text text-anchor=\"middle\" x=\"3526.5\" y=\"-506.3\" font-family=\"Helvetica,sans-Serif\" font-size=\"14.00\" fill=\"#000000\">samples = 1</text>\n<text text-anchor=\"middle\" x=\"3526.5\" y=\"-491.3\" font-family=\"Helvetica,sans-Serif\" font-size=\"14.00\" fill=\"#000000\">value = [1, 0]</text>\n<text text-anchor=\"middle\" x=\"3526.5\" y=\"-476.3\" font-family=\"Helvetica,sans-Serif\" font-size=\"14.00\" fill=\"#000000\">class = Unsurvived</text>\n</g>\n<!-- 208&#45;&gt;209 -->\n<g id=\"edge209\" class=\"edge\">\n<title>208&#45;&gt;209</title>\n<path fill=\"none\" stroke=\"#000000\" d=\"M3622.7368,-579.8796C3607.9669,-568.0038 3591.8941,-555.0804 3577.1892,-543.2568\"/>\n<polygon fill=\"#000000\" stroke=\"#000000\" points=\"3579.1639,-540.3535 3569.1774,-536.8149 3574.7775,-545.8088 3579.1639,-540.3535\"/>\n</g>\n<!-- 210 -->\n<g id=\"node211\" class=\"node\">\n<title>210</title>\n<path fill=\"#399de5\" stroke=\"#000000\" d=\"M3726,-536.5C3726,-536.5 3627,-536.5 3627,-536.5 3621,-536.5 3615,-530.5 3615,-524.5 3615,-524.5 3615,-480.5 3615,-480.5 3615,-474.5 3621,-468.5 3627,-468.5 3627,-468.5 3726,-468.5 3726,-468.5 3732,-468.5 3738,-474.5 3738,-480.5 3738,-480.5 3738,-524.5 3738,-524.5 3738,-530.5 3732,-536.5 3726,-536.5\"/>\n<text text-anchor=\"middle\" x=\"3676.5\" y=\"-521.3\" font-family=\"Helvetica,sans-Serif\" font-size=\"14.00\" fill=\"#000000\">gini = 0.0</text>\n<text text-anchor=\"middle\" x=\"3676.5\" y=\"-506.3\" font-family=\"Helvetica,sans-Serif\" font-size=\"14.00\" fill=\"#000000\">samples = 1</text>\n<text text-anchor=\"middle\" x=\"3676.5\" y=\"-491.3\" font-family=\"Helvetica,sans-Serif\" font-size=\"14.00\" fill=\"#000000\">value = [0, 1]</text>\n<text text-anchor=\"middle\" x=\"3676.5\" y=\"-476.3\" font-family=\"Helvetica,sans-Serif\" font-size=\"14.00\" fill=\"#000000\">class = Survived</text>\n</g>\n<!-- 208&#45;&gt;210 -->\n<g id=\"edge210\" class=\"edge\">\n<title>208&#45;&gt;210</title>\n<path fill=\"none\" stroke=\"#000000\" d=\"M3675.1995,-579.8796C3675.3788,-569.2134 3675.5722,-557.7021 3675.7538,-546.9015\"/>\n<polygon fill=\"#000000\" stroke=\"#000000\" points=\"3679.2546,-546.8724 3675.9233,-536.8149 3672.2556,-546.7547 3679.2546,-546.8724\"/>\n</g>\n<!-- 212 -->\n<g id=\"node213\" class=\"node\">\n<title>212</title>\n<path fill=\"#f8e0ce\" stroke=\"#000000\" d=\"M3890.5,-663C3890.5,-663 3774.5,-663 3774.5,-663 3768.5,-663 3762.5,-657 3762.5,-651 3762.5,-651 3762.5,-592 3762.5,-592 3762.5,-586 3768.5,-580 3774.5,-580 3774.5,-580 3890.5,-580 3890.5,-580 3896.5,-580 3902.5,-586 3902.5,-592 3902.5,-592 3902.5,-651 3902.5,-651 3902.5,-657 3896.5,-663 3890.5,-663\"/>\n<text text-anchor=\"middle\" x=\"3832.5\" y=\"-647.8\" font-family=\"Helvetica,sans-Serif\" font-size=\"14.00\" fill=\"#000000\">age &lt;= 19.5</text>\n<text text-anchor=\"middle\" x=\"3832.5\" y=\"-632.8\" font-family=\"Helvetica,sans-Serif\" font-size=\"14.00\" fill=\"#000000\">gini = 0.49</text>\n<text text-anchor=\"middle\" x=\"3832.5\" y=\"-617.8\" font-family=\"Helvetica,sans-Serif\" font-size=\"14.00\" fill=\"#000000\">samples = 7</text>\n<text text-anchor=\"middle\" x=\"3832.5\" y=\"-602.8\" font-family=\"Helvetica,sans-Serif\" font-size=\"14.00\" fill=\"#000000\">value = [4, 3]</text>\n<text text-anchor=\"middle\" x=\"3832.5\" y=\"-587.8\" font-family=\"Helvetica,sans-Serif\" font-size=\"14.00\" fill=\"#000000\">class = Unsurvived</text>\n</g>\n<!-- 211&#45;&gt;212 -->\n<g id=\"edge212\" class=\"edge\">\n<title>211&#45;&gt;212</title>\n<path fill=\"none\" stroke=\"#000000\" d=\"M3881.2686,-698.8796C3875.7627,-690.1434 3869.8994,-680.8404 3864.2176,-671.8253\"/>\n<polygon fill=\"#000000\" stroke=\"#000000\" points=\"3867.1363,-669.8919 3858.8433,-663.2981 3861.2143,-673.6242 3867.1363,-669.8919\"/>\n</g>\n<!-- 219 -->\n<g id=\"node220\" class=\"node\">\n<title>219</title>\n<path fill=\"#399de5\" stroke=\"#000000\" d=\"M4032,-655.5C4032,-655.5 3933,-655.5 3933,-655.5 3927,-655.5 3921,-649.5 3921,-643.5 3921,-643.5 3921,-599.5 3921,-599.5 3921,-593.5 3927,-587.5 3933,-587.5 3933,-587.5 4032,-587.5 4032,-587.5 4038,-587.5 4044,-593.5 4044,-599.5 4044,-599.5 4044,-643.5 4044,-643.5 4044,-649.5 4038,-655.5 4032,-655.5\"/>\n<text text-anchor=\"middle\" x=\"3982.5\" y=\"-640.3\" font-family=\"Helvetica,sans-Serif\" font-size=\"14.00\" fill=\"#000000\">gini = 0.0</text>\n<text text-anchor=\"middle\" x=\"3982.5\" y=\"-625.3\" font-family=\"Helvetica,sans-Serif\" font-size=\"14.00\" fill=\"#000000\">samples = 1</text>\n<text text-anchor=\"middle\" x=\"3982.5\" y=\"-610.3\" font-family=\"Helvetica,sans-Serif\" font-size=\"14.00\" fill=\"#000000\">value = [0, 1]</text>\n<text text-anchor=\"middle\" x=\"3982.5\" y=\"-595.3\" font-family=\"Helvetica,sans-Serif\" font-size=\"14.00\" fill=\"#000000\">class = Survived</text>\n</g>\n<!-- 211&#45;&gt;219 -->\n<g id=\"edge219\" class=\"edge\">\n<title>211&#45;&gt;219</title>\n<path fill=\"none\" stroke=\"#000000\" d=\"M3933.7314,-698.8796C3940.731,-687.7735 3948.308,-675.7513 3955.3556,-664.5691\"/>\n<polygon fill=\"#000000\" stroke=\"#000000\" points=\"3958.502,-666.1411 3960.8729,-655.8149 3952.58,-662.4087 3958.502,-666.1411\"/>\n</g>\n<!-- 213 -->\n<g id=\"node214\" class=\"node\">\n<title>213</title>\n<path fill=\"#bddef6\" stroke=\"#000000\" d=\"M3871,-544C3871,-544 3772,-544 3772,-544 3766,-544 3760,-538 3760,-532 3760,-532 3760,-473 3760,-473 3760,-467 3766,-461 3772,-461 3772,-461 3871,-461 3871,-461 3877,-461 3883,-467 3883,-473 3883,-473 3883,-532 3883,-532 3883,-538 3877,-544 3871,-544\"/>\n<text text-anchor=\"middle\" x=\"3821.5\" y=\"-528.8\" font-family=\"Helvetica,sans-Serif\" font-size=\"14.00\" fill=\"#000000\">age &lt;= 17.0</text>\n<text text-anchor=\"middle\" x=\"3821.5\" y=\"-513.8\" font-family=\"Helvetica,sans-Serif\" font-size=\"14.00\" fill=\"#000000\">gini = 0.48</text>\n<text text-anchor=\"middle\" x=\"3821.5\" y=\"-498.8\" font-family=\"Helvetica,sans-Serif\" font-size=\"14.00\" fill=\"#000000\">samples = 5</text>\n<text text-anchor=\"middle\" x=\"3821.5\" y=\"-483.8\" font-family=\"Helvetica,sans-Serif\" font-size=\"14.00\" fill=\"#000000\">value = [2, 3]</text>\n<text text-anchor=\"middle\" x=\"3821.5\" y=\"-468.8\" font-family=\"Helvetica,sans-Serif\" font-size=\"14.00\" fill=\"#000000\">class = Survived</text>\n</g>\n<!-- 212&#45;&gt;213 -->\n<g id=\"edge213\" class=\"edge\">\n<title>212&#45;&gt;213</title>\n<path fill=\"none\" stroke=\"#000000\" d=\"M3828.6527,-579.8796C3827.8951,-571.6838 3827.0914,-562.9891 3826.3068,-554.5013\"/>\n<polygon fill=\"#000000\" stroke=\"#000000\" points=\"3829.7694,-553.9334 3825.3637,-544.2981 3822.7991,-554.5778 3829.7694,-553.9334\"/>\n</g>\n<!-- 218 -->\n<g id=\"node219\" class=\"node\">\n<title>218</title>\n<path fill=\"#e58139\" stroke=\"#000000\" d=\"M4029.5,-536.5C4029.5,-536.5 3913.5,-536.5 3913.5,-536.5 3907.5,-536.5 3901.5,-530.5 3901.5,-524.5 3901.5,-524.5 3901.5,-480.5 3901.5,-480.5 3901.5,-474.5 3907.5,-468.5 3913.5,-468.5 3913.5,-468.5 4029.5,-468.5 4029.5,-468.5 4035.5,-468.5 4041.5,-474.5 4041.5,-480.5 4041.5,-480.5 4041.5,-524.5 4041.5,-524.5 4041.5,-530.5 4035.5,-536.5 4029.5,-536.5\"/>\n<text text-anchor=\"middle\" x=\"3971.5\" y=\"-521.3\" font-family=\"Helvetica,sans-Serif\" font-size=\"14.00\" fill=\"#000000\">gini = 0.0</text>\n<text text-anchor=\"middle\" x=\"3971.5\" y=\"-506.3\" font-family=\"Helvetica,sans-Serif\" font-size=\"14.00\" fill=\"#000000\">samples = 2</text>\n<text text-anchor=\"middle\" x=\"3971.5\" y=\"-491.3\" font-family=\"Helvetica,sans-Serif\" font-size=\"14.00\" fill=\"#000000\">value = [2, 0]</text>\n<text text-anchor=\"middle\" x=\"3971.5\" y=\"-476.3\" font-family=\"Helvetica,sans-Serif\" font-size=\"14.00\" fill=\"#000000\">class = Unsurvived</text>\n</g>\n<!-- 212&#45;&gt;218 -->\n<g id=\"edge218\" class=\"edge\">\n<title>212&#45;&gt;218</title>\n<path fill=\"none\" stroke=\"#000000\" d=\"M3881.1155,-579.8796C3894.8587,-568.1138 3909.8031,-555.3197 3923.5093,-543.5855\"/>\n<polygon fill=\"#000000\" stroke=\"#000000\" points=\"3926.0976,-545.9771 3931.4178,-536.8149 3921.5452,-540.6596 3926.0976,-545.9771\"/>\n</g>\n<!-- 214 -->\n<g id=\"node215\" class=\"node\">\n<title>214</title>\n<path fill=\"#ffffff\" stroke=\"#000000\" d=\"M3816.5,-417.5C3816.5,-417.5 3700.5,-417.5 3700.5,-417.5 3694.5,-417.5 3688.5,-411.5 3688.5,-405.5 3688.5,-405.5 3688.5,-361.5 3688.5,-361.5 3688.5,-355.5 3694.5,-349.5 3700.5,-349.5 3700.5,-349.5 3816.5,-349.5 3816.5,-349.5 3822.5,-349.5 3828.5,-355.5 3828.5,-361.5 3828.5,-361.5 3828.5,-405.5 3828.5,-405.5 3828.5,-411.5 3822.5,-417.5 3816.5,-417.5\"/>\n<text text-anchor=\"middle\" x=\"3758.5\" y=\"-402.3\" font-family=\"Helvetica,sans-Serif\" font-size=\"14.00\" fill=\"#000000\">gini = 0.5</text>\n<text text-anchor=\"middle\" x=\"3758.5\" y=\"-387.3\" font-family=\"Helvetica,sans-Serif\" font-size=\"14.00\" fill=\"#000000\">samples = 2</text>\n<text text-anchor=\"middle\" x=\"3758.5\" y=\"-372.3\" font-family=\"Helvetica,sans-Serif\" font-size=\"14.00\" fill=\"#000000\">value = [1, 1]</text>\n<text text-anchor=\"middle\" x=\"3758.5\" y=\"-357.3\" font-family=\"Helvetica,sans-Serif\" font-size=\"14.00\" fill=\"#000000\">class = Unsurvived</text>\n</g>\n<!-- 213&#45;&gt;214 -->\n<g id=\"edge214\" class=\"edge\">\n<title>213&#45;&gt;214</title>\n<path fill=\"none\" stroke=\"#000000\" d=\"M3799.4657,-460.8796C3793.6442,-449.8835 3787.3473,-437.9893 3781.4773,-426.9015\"/>\n<polygon fill=\"#000000\" stroke=\"#000000\" points=\"3784.4389,-425.0152 3776.6667,-417.8149 3778.2524,-428.2905 3784.4389,-425.0152\"/>\n</g>\n<!-- 215 -->\n<g id=\"node216\" class=\"node\">\n<title>215</title>\n<path fill=\"#9ccef2\" stroke=\"#000000\" d=\"M3958,-425C3958,-425 3859,-425 3859,-425 3853,-425 3847,-419 3847,-413 3847,-413 3847,-354 3847,-354 3847,-348 3853,-342 3859,-342 3859,-342 3958,-342 3958,-342 3964,-342 3970,-348 3970,-354 3970,-354 3970,-413 3970,-413 3970,-419 3964,-425 3958,-425\"/>\n<text text-anchor=\"middle\" x=\"3908.5\" y=\"-409.8\" font-family=\"Helvetica,sans-Serif\" font-size=\"14.00\" fill=\"#000000\">age &lt;= 18.5</text>\n<text text-anchor=\"middle\" x=\"3908.5\" y=\"-394.8\" font-family=\"Helvetica,sans-Serif\" font-size=\"14.00\" fill=\"#000000\">gini = 0.444</text>\n<text text-anchor=\"middle\" x=\"3908.5\" y=\"-379.8\" font-family=\"Helvetica,sans-Serif\" font-size=\"14.00\" fill=\"#000000\">samples = 3</text>\n<text text-anchor=\"middle\" x=\"3908.5\" y=\"-364.8\" font-family=\"Helvetica,sans-Serif\" font-size=\"14.00\" fill=\"#000000\">value = [1, 2]</text>\n<text text-anchor=\"middle\" x=\"3908.5\" y=\"-349.8\" font-family=\"Helvetica,sans-Serif\" font-size=\"14.00\" fill=\"#000000\">class = Survived</text>\n</g>\n<!-- 213&#45;&gt;215 -->\n<g id=\"edge215\" class=\"edge\">\n<title>213&#45;&gt;215</title>\n<path fill=\"none\" stroke=\"#000000\" d=\"M3851.9284,-460.8796C3858.3811,-452.0534 3865.257,-442.6485 3871.9113,-433.5466\"/>\n<polygon fill=\"#000000\" stroke=\"#000000\" points=\"3874.8653,-435.4364 3877.9417,-425.2981 3869.2144,-431.3051 3874.8653,-435.4364\"/>\n</g>\n<!-- 216 -->\n<g id=\"node217\" class=\"node\">\n<title>216</title>\n<path fill=\"#399de5\" stroke=\"#000000\" d=\"M3852,-298.5C3852,-298.5 3753,-298.5 3753,-298.5 3747,-298.5 3741,-292.5 3741,-286.5 3741,-286.5 3741,-242.5 3741,-242.5 3741,-236.5 3747,-230.5 3753,-230.5 3753,-230.5 3852,-230.5 3852,-230.5 3858,-230.5 3864,-236.5 3864,-242.5 3864,-242.5 3864,-286.5 3864,-286.5 3864,-292.5 3858,-298.5 3852,-298.5\"/>\n<text text-anchor=\"middle\" x=\"3802.5\" y=\"-283.3\" font-family=\"Helvetica,sans-Serif\" font-size=\"14.00\" fill=\"#000000\">gini = 0.0</text>\n<text text-anchor=\"middle\" x=\"3802.5\" y=\"-268.3\" font-family=\"Helvetica,sans-Serif\" font-size=\"14.00\" fill=\"#000000\">samples = 1</text>\n<text text-anchor=\"middle\" x=\"3802.5\" y=\"-253.3\" font-family=\"Helvetica,sans-Serif\" font-size=\"14.00\" fill=\"#000000\">value = [0, 1]</text>\n<text text-anchor=\"middle\" x=\"3802.5\" y=\"-238.3\" font-family=\"Helvetica,sans-Serif\" font-size=\"14.00\" fill=\"#000000\">class = Survived</text>\n</g>\n<!-- 215&#45;&gt;216 -->\n<g id=\"edge216\" class=\"edge\">\n<title>215&#45;&gt;216</title>\n<path fill=\"none\" stroke=\"#000000\" d=\"M3871.4263,-341.8796C3861.2397,-330.4436 3850.1878,-318.0363 3839.9785,-306.575\"/>\n<polygon fill=\"#000000\" stroke=\"#000000\" points=\"3842.3312,-303.9541 3833.0662,-298.8149 3837.1042,-308.6101 3842.3312,-303.9541\"/>\n</g>\n<!-- 217 -->\n<g id=\"node218\" class=\"node\">\n<title>217</title>\n<path fill=\"#ffffff\" stroke=\"#000000\" d=\"M4010.5,-298.5C4010.5,-298.5 3894.5,-298.5 3894.5,-298.5 3888.5,-298.5 3882.5,-292.5 3882.5,-286.5 3882.5,-286.5 3882.5,-242.5 3882.5,-242.5 3882.5,-236.5 3888.5,-230.5 3894.5,-230.5 3894.5,-230.5 4010.5,-230.5 4010.5,-230.5 4016.5,-230.5 4022.5,-236.5 4022.5,-242.5 4022.5,-242.5 4022.5,-286.5 4022.5,-286.5 4022.5,-292.5 4016.5,-298.5 4010.5,-298.5\"/>\n<text text-anchor=\"middle\" x=\"3952.5\" y=\"-283.3\" font-family=\"Helvetica,sans-Serif\" font-size=\"14.00\" fill=\"#000000\">gini = 0.5</text>\n<text text-anchor=\"middle\" x=\"3952.5\" y=\"-268.3\" font-family=\"Helvetica,sans-Serif\" font-size=\"14.00\" fill=\"#000000\">samples = 2</text>\n<text text-anchor=\"middle\" x=\"3952.5\" y=\"-253.3\" font-family=\"Helvetica,sans-Serif\" font-size=\"14.00\" fill=\"#000000\">value = [1, 1]</text>\n<text text-anchor=\"middle\" x=\"3952.5\" y=\"-238.3\" font-family=\"Helvetica,sans-Serif\" font-size=\"14.00\" fill=\"#000000\">class = Unsurvived</text>\n</g>\n<!-- 215&#45;&gt;217 -->\n<g id=\"edge217\" class=\"edge\">\n<title>215&#45;&gt;217</title>\n<path fill=\"none\" stroke=\"#000000\" d=\"M3923.8891,-341.8796C3927.9142,-330.9935 3932.2648,-319.227 3936.3293,-308.2344\"/>\n<polygon fill=\"#000000\" stroke=\"#000000\" points=\"3939.6268,-309.4082 3939.8121,-298.8149 3933.0613,-306.9805 3939.6268,-309.4082\"/>\n</g>\n<!-- 221 -->\n<g id=\"node222\" class=\"node\">\n<title>221</title>\n<path fill=\"#ffffff\" stroke=\"#000000\" d=\"M4331.5,-782C4331.5,-782 4215.5,-782 4215.5,-782 4209.5,-782 4203.5,-776 4203.5,-770 4203.5,-770 4203.5,-711 4203.5,-711 4203.5,-705 4209.5,-699 4215.5,-699 4215.5,-699 4331.5,-699 4331.5,-699 4337.5,-699 4343.5,-705 4343.5,-711 4343.5,-711 4343.5,-770 4343.5,-770 4343.5,-776 4337.5,-782 4331.5,-782\"/>\n<text text-anchor=\"middle\" x=\"4273.5\" y=\"-766.8\" font-family=\"Helvetica,sans-Serif\" font-size=\"14.00\" fill=\"#000000\">fare &lt;= 7.014</text>\n<text text-anchor=\"middle\" x=\"4273.5\" y=\"-751.8\" font-family=\"Helvetica,sans-Serif\" font-size=\"14.00\" fill=\"#000000\">gini = 0.5</text>\n<text text-anchor=\"middle\" x=\"4273.5\" y=\"-736.8\" font-family=\"Helvetica,sans-Serif\" font-size=\"14.00\" fill=\"#000000\">samples = 6</text>\n<text text-anchor=\"middle\" x=\"4273.5\" y=\"-721.8\" font-family=\"Helvetica,sans-Serif\" font-size=\"14.00\" fill=\"#000000\">value = [3, 3]</text>\n<text text-anchor=\"middle\" x=\"4273.5\" y=\"-706.8\" font-family=\"Helvetica,sans-Serif\" font-size=\"14.00\" fill=\"#000000\">class = Unsurvived</text>\n</g>\n<!-- 220&#45;&gt;221 -->\n<g id=\"edge221\" class=\"edge\">\n<title>220&#45;&gt;221</title>\n<path fill=\"none\" stroke=\"#000000\" d=\"M4278.702,-817.8796C4278.151,-809.6838 4277.5665,-800.9891 4276.9959,-792.5013\"/>\n<polygon fill=\"#000000\" stroke=\"#000000\" points=\"4280.4729,-792.0408 4276.31,-782.2981 4273.4887,-792.5103 4280.4729,-792.0408\"/>\n</g>\n<!-- 228 -->\n<g id=\"node229\" class=\"node\">\n<title>228</title>\n<path fill=\"#e78c4a\" stroke=\"#000000\" d=\"M4489.5,-782C4489.5,-782 4373.5,-782 4373.5,-782 4367.5,-782 4361.5,-776 4361.5,-770 4361.5,-770 4361.5,-711 4361.5,-711 4361.5,-705 4367.5,-699 4373.5,-699 4373.5,-699 4489.5,-699 4489.5,-699 4495.5,-699 4501.5,-705 4501.5,-711 4501.5,-711 4501.5,-770 4501.5,-770 4501.5,-776 4495.5,-782 4489.5,-782\"/>\n<text text-anchor=\"middle\" x=\"4431.5\" y=\"-766.8\" font-family=\"Helvetica,sans-Serif\" font-size=\"14.00\" fill=\"#000000\">fare &lt;= 7.799</text>\n<text text-anchor=\"middle\" x=\"4431.5\" y=\"-751.8\" font-family=\"Helvetica,sans-Serif\" font-size=\"14.00\" fill=\"#000000\">gini = 0.149</text>\n<text text-anchor=\"middle\" x=\"4431.5\" y=\"-736.8\" font-family=\"Helvetica,sans-Serif\" font-size=\"14.00\" fill=\"#000000\">samples = 37</text>\n<text text-anchor=\"middle\" x=\"4431.5\" y=\"-721.8\" font-family=\"Helvetica,sans-Serif\" font-size=\"14.00\" fill=\"#000000\">value = [34, 3]</text>\n<text text-anchor=\"middle\" x=\"4431.5\" y=\"-706.8\" font-family=\"Helvetica,sans-Serif\" font-size=\"14.00\" fill=\"#000000\">class = Unsurvived</text>\n</g>\n<!-- 220&#45;&gt;228 -->\n<g id=\"edge228\" class=\"edge\">\n<title>220&#45;&gt;228</title>\n<path fill=\"none\" stroke=\"#000000\" d=\"M4333.9627,-817.8796C4345.9521,-808.368 4358.7887,-798.1843 4371.0816,-788.432\"/>\n<polygon fill=\"#000000\" stroke=\"#000000\" points=\"4373.4081,-791.054 4379.0669,-782.0969 4369.0575,-785.5701 4373.4081,-791.054\"/>\n</g>\n<!-- 222 -->\n<g id=\"node223\" class=\"node\">\n<title>222</title>\n<path fill=\"#399de5\" stroke=\"#000000\" d=\"M4173,-655.5C4173,-655.5 4074,-655.5 4074,-655.5 4068,-655.5 4062,-649.5 4062,-643.5 4062,-643.5 4062,-599.5 4062,-599.5 4062,-593.5 4068,-587.5 4074,-587.5 4074,-587.5 4173,-587.5 4173,-587.5 4179,-587.5 4185,-593.5 4185,-599.5 4185,-599.5 4185,-643.5 4185,-643.5 4185,-649.5 4179,-655.5 4173,-655.5\"/>\n<text text-anchor=\"middle\" x=\"4123.5\" y=\"-640.3\" font-family=\"Helvetica,sans-Serif\" font-size=\"14.00\" fill=\"#000000\">gini = 0.0</text>\n<text text-anchor=\"middle\" x=\"4123.5\" y=\"-625.3\" font-family=\"Helvetica,sans-Serif\" font-size=\"14.00\" fill=\"#000000\">samples = 1</text>\n<text text-anchor=\"middle\" x=\"4123.5\" y=\"-610.3\" font-family=\"Helvetica,sans-Serif\" font-size=\"14.00\" fill=\"#000000\">value = [0, 1]</text>\n<text text-anchor=\"middle\" x=\"4123.5\" y=\"-595.3\" font-family=\"Helvetica,sans-Serif\" font-size=\"14.00\" fill=\"#000000\">class = Survived</text>\n</g>\n<!-- 221&#45;&gt;222 -->\n<g id=\"edge222\" class=\"edge\">\n<title>221&#45;&gt;222</title>\n<path fill=\"none\" stroke=\"#000000\" d=\"M4221.0373,-698.8796C4206.0678,-687.0038 4189.7778,-674.0804 4174.8741,-662.2568\"/>\n<polygon fill=\"#000000\" stroke=\"#000000\" points=\"4176.7635,-659.2881 4166.7541,-655.8149 4172.413,-664.772 4176.7635,-659.2881\"/>\n</g>\n<!-- 223 -->\n<g id=\"node224\" class=\"node\">\n<title>223</title>\n<path fill=\"#f6d5bd\" stroke=\"#000000\" d=\"M4331.5,-663C4331.5,-663 4215.5,-663 4215.5,-663 4209.5,-663 4203.5,-657 4203.5,-651 4203.5,-651 4203.5,-592 4203.5,-592 4203.5,-586 4209.5,-580 4215.5,-580 4215.5,-580 4331.5,-580 4331.5,-580 4337.5,-580 4343.5,-586 4343.5,-592 4343.5,-592 4343.5,-651 4343.5,-651 4343.5,-657 4337.5,-663 4331.5,-663\"/>\n<text text-anchor=\"middle\" x=\"4273.5\" y=\"-647.8\" font-family=\"Helvetica,sans-Serif\" font-size=\"14.00\" fill=\"#000000\">age &lt;= 24.5</text>\n<text text-anchor=\"middle\" x=\"4273.5\" y=\"-632.8\" font-family=\"Helvetica,sans-Serif\" font-size=\"14.00\" fill=\"#000000\">gini = 0.48</text>\n<text text-anchor=\"middle\" x=\"4273.5\" y=\"-617.8\" font-family=\"Helvetica,sans-Serif\" font-size=\"14.00\" fill=\"#000000\">samples = 5</text>\n<text text-anchor=\"middle\" x=\"4273.5\" y=\"-602.8\" font-family=\"Helvetica,sans-Serif\" font-size=\"14.00\" fill=\"#000000\">value = [3, 2]</text>\n<text text-anchor=\"middle\" x=\"4273.5\" y=\"-587.8\" font-family=\"Helvetica,sans-Serif\" font-size=\"14.00\" fill=\"#000000\">class = Unsurvived</text>\n</g>\n<!-- 221&#45;&gt;223 -->\n<g id=\"edge223\" class=\"edge\">\n<title>221&#45;&gt;223</title>\n<path fill=\"none\" stroke=\"#000000\" d=\"M4273.5,-698.8796C4273.5,-690.6838 4273.5,-681.9891 4273.5,-673.5013\"/>\n<polygon fill=\"#000000\" stroke=\"#000000\" points=\"4277.0001,-673.298 4273.5,-663.2981 4270.0001,-673.2981 4277.0001,-673.298\"/>\n</g>\n<!-- 224 -->\n<g id=\"node225\" class=\"node\">\n<title>224</title>\n<path fill=\"#9ccef2\" stroke=\"#000000\" d=\"M4173,-544C4173,-544 4074,-544 4074,-544 4068,-544 4062,-538 4062,-532 4062,-532 4062,-473 4062,-473 4062,-467 4068,-461 4074,-461 4074,-461 4173,-461 4173,-461 4179,-461 4185,-467 4185,-473 4185,-473 4185,-532 4185,-532 4185,-538 4179,-544 4173,-544\"/>\n<text text-anchor=\"middle\" x=\"4123.5\" y=\"-528.8\" font-family=\"Helvetica,sans-Serif\" font-size=\"14.00\" fill=\"#000000\">fare &lt;= 7.133</text>\n<text text-anchor=\"middle\" x=\"4123.5\" y=\"-513.8\" font-family=\"Helvetica,sans-Serif\" font-size=\"14.00\" fill=\"#000000\">gini = 0.444</text>\n<text text-anchor=\"middle\" x=\"4123.5\" y=\"-498.8\" font-family=\"Helvetica,sans-Serif\" font-size=\"14.00\" fill=\"#000000\">samples = 3</text>\n<text text-anchor=\"middle\" x=\"4123.5\" y=\"-483.8\" font-family=\"Helvetica,sans-Serif\" font-size=\"14.00\" fill=\"#000000\">value = [1, 2]</text>\n<text text-anchor=\"middle\" x=\"4123.5\" y=\"-468.8\" font-family=\"Helvetica,sans-Serif\" font-size=\"14.00\" fill=\"#000000\">class = Survived</text>\n</g>\n<!-- 223&#45;&gt;224 -->\n<g id=\"edge224\" class=\"edge\">\n<title>223&#45;&gt;224</title>\n<path fill=\"none\" stroke=\"#000000\" d=\"M4221.0373,-579.8796C4209.0479,-570.368 4196.2113,-560.1843 4183.9184,-550.432\"/>\n<polygon fill=\"#000000\" stroke=\"#000000\" points=\"4185.9425,-547.5701 4175.9331,-544.0969 4181.5919,-553.054 4185.9425,-547.5701\"/>\n</g>\n<!-- 227 -->\n<g id=\"node228\" class=\"node\">\n<title>227</title>\n<path fill=\"#e58139\" stroke=\"#000000\" d=\"M4331.5,-536.5C4331.5,-536.5 4215.5,-536.5 4215.5,-536.5 4209.5,-536.5 4203.5,-530.5 4203.5,-524.5 4203.5,-524.5 4203.5,-480.5 4203.5,-480.5 4203.5,-474.5 4209.5,-468.5 4215.5,-468.5 4215.5,-468.5 4331.5,-468.5 4331.5,-468.5 4337.5,-468.5 4343.5,-474.5 4343.5,-480.5 4343.5,-480.5 4343.5,-524.5 4343.5,-524.5 4343.5,-530.5 4337.5,-536.5 4331.5,-536.5\"/>\n<text text-anchor=\"middle\" x=\"4273.5\" y=\"-521.3\" font-family=\"Helvetica,sans-Serif\" font-size=\"14.00\" fill=\"#000000\">gini = 0.0</text>\n<text text-anchor=\"middle\" x=\"4273.5\" y=\"-506.3\" font-family=\"Helvetica,sans-Serif\" font-size=\"14.00\" fill=\"#000000\">samples = 2</text>\n<text text-anchor=\"middle\" x=\"4273.5\" y=\"-491.3\" font-family=\"Helvetica,sans-Serif\" font-size=\"14.00\" fill=\"#000000\">value = [2, 0]</text>\n<text text-anchor=\"middle\" x=\"4273.5\" y=\"-476.3\" font-family=\"Helvetica,sans-Serif\" font-size=\"14.00\" fill=\"#000000\">class = Unsurvived</text>\n</g>\n<!-- 223&#45;&gt;227 -->\n<g id=\"edge227\" class=\"edge\">\n<title>223&#45;&gt;227</title>\n<path fill=\"none\" stroke=\"#000000\" d=\"M4273.5,-579.8796C4273.5,-569.2134 4273.5,-557.7021 4273.5,-546.9015\"/>\n<polygon fill=\"#000000\" stroke=\"#000000\" points=\"4277.0001,-546.8149 4273.5,-536.8149 4270.0001,-546.815 4277.0001,-546.8149\"/>\n</g>\n<!-- 225 -->\n<g id=\"node226\" class=\"node\">\n<title>225</title>\n<path fill=\"#e58139\" stroke=\"#000000\" d=\"M4181.5,-417.5C4181.5,-417.5 4065.5,-417.5 4065.5,-417.5 4059.5,-417.5 4053.5,-411.5 4053.5,-405.5 4053.5,-405.5 4053.5,-361.5 4053.5,-361.5 4053.5,-355.5 4059.5,-349.5 4065.5,-349.5 4065.5,-349.5 4181.5,-349.5 4181.5,-349.5 4187.5,-349.5 4193.5,-355.5 4193.5,-361.5 4193.5,-361.5 4193.5,-405.5 4193.5,-405.5 4193.5,-411.5 4187.5,-417.5 4181.5,-417.5\"/>\n<text text-anchor=\"middle\" x=\"4123.5\" y=\"-402.3\" font-family=\"Helvetica,sans-Serif\" font-size=\"14.00\" fill=\"#000000\">gini = 0.0</text>\n<text text-anchor=\"middle\" x=\"4123.5\" y=\"-387.3\" font-family=\"Helvetica,sans-Serif\" font-size=\"14.00\" fill=\"#000000\">samples = 1</text>\n<text text-anchor=\"middle\" x=\"4123.5\" y=\"-372.3\" font-family=\"Helvetica,sans-Serif\" font-size=\"14.00\" fill=\"#000000\">value = [1, 0]</text>\n<text text-anchor=\"middle\" x=\"4123.5\" y=\"-357.3\" font-family=\"Helvetica,sans-Serif\" font-size=\"14.00\" fill=\"#000000\">class = Unsurvived</text>\n</g>\n<!-- 224&#45;&gt;225 -->\n<g id=\"edge225\" class=\"edge\">\n<title>224&#45;&gt;225</title>\n<path fill=\"none\" stroke=\"#000000\" d=\"M4123.5,-460.8796C4123.5,-450.2134 4123.5,-438.7021 4123.5,-427.9015\"/>\n<polygon fill=\"#000000\" stroke=\"#000000\" points=\"4127.0001,-427.8149 4123.5,-417.8149 4120.0001,-427.815 4127.0001,-427.8149\"/>\n</g>\n<!-- 226 -->\n<g id=\"node227\" class=\"node\">\n<title>226</title>\n<path fill=\"#399de5\" stroke=\"#000000\" d=\"M4323,-417.5C4323,-417.5 4224,-417.5 4224,-417.5 4218,-417.5 4212,-411.5 4212,-405.5 4212,-405.5 4212,-361.5 4212,-361.5 4212,-355.5 4218,-349.5 4224,-349.5 4224,-349.5 4323,-349.5 4323,-349.5 4329,-349.5 4335,-355.5 4335,-361.5 4335,-361.5 4335,-405.5 4335,-405.5 4335,-411.5 4329,-417.5 4323,-417.5\"/>\n<text text-anchor=\"middle\" x=\"4273.5\" y=\"-402.3\" font-family=\"Helvetica,sans-Serif\" font-size=\"14.00\" fill=\"#000000\">gini = 0.0</text>\n<text text-anchor=\"middle\" x=\"4273.5\" y=\"-387.3\" font-family=\"Helvetica,sans-Serif\" font-size=\"14.00\" fill=\"#000000\">samples = 2</text>\n<text text-anchor=\"middle\" x=\"4273.5\" y=\"-372.3\" font-family=\"Helvetica,sans-Serif\" font-size=\"14.00\" fill=\"#000000\">value = [0, 2]</text>\n<text text-anchor=\"middle\" x=\"4273.5\" y=\"-357.3\" font-family=\"Helvetica,sans-Serif\" font-size=\"14.00\" fill=\"#000000\">class = Survived</text>\n</g>\n<!-- 224&#45;&gt;226 -->\n<g id=\"edge226\" class=\"edge\">\n<title>224&#45;&gt;226</title>\n<path fill=\"none\" stroke=\"#000000\" d=\"M4175.9627,-460.8796C4190.9322,-449.0038 4207.2222,-436.0804 4222.1259,-424.2568\"/>\n<polygon fill=\"#000000\" stroke=\"#000000\" points=\"4224.587,-426.772 4230.2459,-417.8149 4220.2365,-421.2881 4224.587,-426.772\"/>\n</g>\n<!-- 229 -->\n<g id=\"node230\" class=\"node\">\n<title>229</title>\n<path fill=\"#eb9c63\" stroke=\"#000000\" d=\"M4489.5,-663C4489.5,-663 4373.5,-663 4373.5,-663 4367.5,-663 4361.5,-657 4361.5,-651 4361.5,-651 4361.5,-592 4361.5,-592 4361.5,-586 4367.5,-580 4373.5,-580 4373.5,-580 4489.5,-580 4489.5,-580 4495.5,-580 4501.5,-586 4501.5,-592 4501.5,-592 4501.5,-651 4501.5,-651 4501.5,-657 4495.5,-663 4489.5,-663\"/>\n<text text-anchor=\"middle\" x=\"4431.5\" y=\"-647.8\" font-family=\"Helvetica,sans-Serif\" font-size=\"14.00\" fill=\"#000000\">fare &lt;= 7.758</text>\n<text text-anchor=\"middle\" x=\"4431.5\" y=\"-632.8\" font-family=\"Helvetica,sans-Serif\" font-size=\"14.00\" fill=\"#000000\">gini = 0.291</text>\n<text text-anchor=\"middle\" x=\"4431.5\" y=\"-617.8\" font-family=\"Helvetica,sans-Serif\" font-size=\"14.00\" fill=\"#000000\">samples = 17</text>\n<text text-anchor=\"middle\" x=\"4431.5\" y=\"-602.8\" font-family=\"Helvetica,sans-Serif\" font-size=\"14.00\" fill=\"#000000\">value = [14, 3]</text>\n<text text-anchor=\"middle\" x=\"4431.5\" y=\"-587.8\" font-family=\"Helvetica,sans-Serif\" font-size=\"14.00\" fill=\"#000000\">class = Unsurvived</text>\n</g>\n<!-- 228&#45;&gt;229 -->\n<g id=\"edge229\" class=\"edge\">\n<title>228&#45;&gt;229</title>\n<path fill=\"none\" stroke=\"#000000\" d=\"M4431.5,-698.8796C4431.5,-690.6838 4431.5,-681.9891 4431.5,-673.5013\"/>\n<polygon fill=\"#000000\" stroke=\"#000000\" points=\"4435.0001,-673.298 4431.5,-663.2981 4428.0001,-673.2981 4435.0001,-673.298\"/>\n</g>\n<!-- 240 -->\n<g id=\"node241\" class=\"node\">\n<title>240</title>\n<path fill=\"#e58139\" stroke=\"#000000\" d=\"M4647.5,-655.5C4647.5,-655.5 4531.5,-655.5 4531.5,-655.5 4525.5,-655.5 4519.5,-649.5 4519.5,-643.5 4519.5,-643.5 4519.5,-599.5 4519.5,-599.5 4519.5,-593.5 4525.5,-587.5 4531.5,-587.5 4531.5,-587.5 4647.5,-587.5 4647.5,-587.5 4653.5,-587.5 4659.5,-593.5 4659.5,-599.5 4659.5,-599.5 4659.5,-643.5 4659.5,-643.5 4659.5,-649.5 4653.5,-655.5 4647.5,-655.5\"/>\n<text text-anchor=\"middle\" x=\"4589.5\" y=\"-640.3\" font-family=\"Helvetica,sans-Serif\" font-size=\"14.00\" fill=\"#000000\">gini = 0.0</text>\n<text text-anchor=\"middle\" x=\"4589.5\" y=\"-625.3\" font-family=\"Helvetica,sans-Serif\" font-size=\"14.00\" fill=\"#000000\">samples = 20</text>\n<text text-anchor=\"middle\" x=\"4589.5\" y=\"-610.3\" font-family=\"Helvetica,sans-Serif\" font-size=\"14.00\" fill=\"#000000\">value = [20, 0]</text>\n<text text-anchor=\"middle\" x=\"4589.5\" y=\"-595.3\" font-family=\"Helvetica,sans-Serif\" font-size=\"14.00\" fill=\"#000000\">class = Unsurvived</text>\n</g>\n<!-- 228&#45;&gt;240 -->\n<g id=\"edge240\" class=\"edge\">\n<title>228&#45;&gt;240</title>\n<path fill=\"none\" stroke=\"#000000\" d=\"M4486.7607,-698.8796C4502.7503,-686.8368 4520.1703,-673.7167 4536.0474,-661.7586\"/>\n<polygon fill=\"#000000\" stroke=\"#000000\" points=\"4538.3116,-664.435 4544.1938,-655.623 4534.1002,-658.8435 4538.3116,-664.435\"/>\n</g>\n<!-- 230 -->\n<g id=\"node231\" class=\"node\">\n<title>230</title>\n<path fill=\"#e58139\" stroke=\"#000000\" d=\"M4489.5,-536.5C4489.5,-536.5 4373.5,-536.5 4373.5,-536.5 4367.5,-536.5 4361.5,-530.5 4361.5,-524.5 4361.5,-524.5 4361.5,-480.5 4361.5,-480.5 4361.5,-474.5 4367.5,-468.5 4373.5,-468.5 4373.5,-468.5 4489.5,-468.5 4489.5,-468.5 4495.5,-468.5 4501.5,-474.5 4501.5,-480.5 4501.5,-480.5 4501.5,-524.5 4501.5,-524.5 4501.5,-530.5 4495.5,-536.5 4489.5,-536.5\"/>\n<text text-anchor=\"middle\" x=\"4431.5\" y=\"-521.3\" font-family=\"Helvetica,sans-Serif\" font-size=\"14.00\" fill=\"#000000\">gini = 0.0</text>\n<text text-anchor=\"middle\" x=\"4431.5\" y=\"-506.3\" font-family=\"Helvetica,sans-Serif\" font-size=\"14.00\" fill=\"#000000\">samples = 10</text>\n<text text-anchor=\"middle\" x=\"4431.5\" y=\"-491.3\" font-family=\"Helvetica,sans-Serif\" font-size=\"14.00\" fill=\"#000000\">value = [10, 0]</text>\n<text text-anchor=\"middle\" x=\"4431.5\" y=\"-476.3\" font-family=\"Helvetica,sans-Serif\" font-size=\"14.00\" fill=\"#000000\">class = Unsurvived</text>\n</g>\n<!-- 229&#45;&gt;230 -->\n<g id=\"edge230\" class=\"edge\">\n<title>229&#45;&gt;230</title>\n<path fill=\"none\" stroke=\"#000000\" d=\"M4431.5,-579.8796C4431.5,-569.2134 4431.5,-557.7021 4431.5,-546.9015\"/>\n<polygon fill=\"#000000\" stroke=\"#000000\" points=\"4435.0001,-546.8149 4431.5,-536.8149 4428.0001,-546.815 4435.0001,-546.8149\"/>\n</g>\n<!-- 231 -->\n<g id=\"node232\" class=\"node\">\n<title>231</title>\n<path fill=\"#f8e0ce\" stroke=\"#000000\" d=\"M4647.5,-544C4647.5,-544 4531.5,-544 4531.5,-544 4525.5,-544 4519.5,-538 4519.5,-532 4519.5,-532 4519.5,-473 4519.5,-473 4519.5,-467 4525.5,-461 4531.5,-461 4531.5,-461 4647.5,-461 4647.5,-461 4653.5,-461 4659.5,-467 4659.5,-473 4659.5,-473 4659.5,-532 4659.5,-532 4659.5,-538 4653.5,-544 4647.5,-544\"/>\n<text text-anchor=\"middle\" x=\"4589.5\" y=\"-528.8\" font-family=\"Helvetica,sans-Serif\" font-size=\"14.00\" fill=\"#000000\">age &lt;= 21.5</text>\n<text text-anchor=\"middle\" x=\"4589.5\" y=\"-513.8\" font-family=\"Helvetica,sans-Serif\" font-size=\"14.00\" fill=\"#000000\">gini = 0.49</text>\n<text text-anchor=\"middle\" x=\"4589.5\" y=\"-498.8\" font-family=\"Helvetica,sans-Serif\" font-size=\"14.00\" fill=\"#000000\">samples = 7</text>\n<text text-anchor=\"middle\" x=\"4589.5\" y=\"-483.8\" font-family=\"Helvetica,sans-Serif\" font-size=\"14.00\" fill=\"#000000\">value = [4, 3]</text>\n<text text-anchor=\"middle\" x=\"4589.5\" y=\"-468.8\" font-family=\"Helvetica,sans-Serif\" font-size=\"14.00\" fill=\"#000000\">class = Unsurvived</text>\n</g>\n<!-- 229&#45;&gt;231 -->\n<g id=\"edge231\" class=\"edge\">\n<title>229&#45;&gt;231</title>\n<path fill=\"none\" stroke=\"#000000\" d=\"M4486.7607,-579.8796C4499.5099,-570.2774 4513.1683,-559.9903 4526.2291,-550.1534\"/>\n<polygon fill=\"#000000\" stroke=\"#000000\" points=\"4528.3883,-552.9089 4534.2705,-544.0969 4524.1769,-547.3174 4528.3883,-552.9089\"/>\n</g>\n<!-- 232 -->\n<g id=\"node233\" class=\"node\">\n<title>232</title>\n<path fill=\"#399de5\" stroke=\"#000000\" d=\"M4564,-417.5C4564,-417.5 4465,-417.5 4465,-417.5 4459,-417.5 4453,-411.5 4453,-405.5 4453,-405.5 4453,-361.5 4453,-361.5 4453,-355.5 4459,-349.5 4465,-349.5 4465,-349.5 4564,-349.5 4564,-349.5 4570,-349.5 4576,-355.5 4576,-361.5 4576,-361.5 4576,-405.5 4576,-405.5 4576,-411.5 4570,-417.5 4564,-417.5\"/>\n<text text-anchor=\"middle\" x=\"4514.5\" y=\"-402.3\" font-family=\"Helvetica,sans-Serif\" font-size=\"14.00\" fill=\"#000000\">gini = 0.0</text>\n<text text-anchor=\"middle\" x=\"4514.5\" y=\"-387.3\" font-family=\"Helvetica,sans-Serif\" font-size=\"14.00\" fill=\"#000000\">samples = 1</text>\n<text text-anchor=\"middle\" x=\"4514.5\" y=\"-372.3\" font-family=\"Helvetica,sans-Serif\" font-size=\"14.00\" fill=\"#000000\">value = [0, 1]</text>\n<text text-anchor=\"middle\" x=\"4514.5\" y=\"-357.3\" font-family=\"Helvetica,sans-Serif\" font-size=\"14.00\" fill=\"#000000\">class = Survived</text>\n</g>\n<!-- 231&#45;&gt;232 -->\n<g id=\"edge232\" class=\"edge\">\n<title>231&#45;&gt;232</title>\n<path fill=\"none\" stroke=\"#000000\" d=\"M4563.2686,-460.8796C4556.269,-449.7735 4548.692,-437.7513 4541.6444,-426.5691\"/>\n<polygon fill=\"#000000\" stroke=\"#000000\" points=\"4544.42,-424.4087 4536.1271,-417.8149 4538.498,-428.1411 4544.42,-424.4087\"/>\n</g>\n<!-- 233 -->\n<g id=\"node234\" class=\"node\">\n<title>233</title>\n<path fill=\"#f2c09c\" stroke=\"#000000\" d=\"M4722.5,-425C4722.5,-425 4606.5,-425 4606.5,-425 4600.5,-425 4594.5,-419 4594.5,-413 4594.5,-413 4594.5,-354 4594.5,-354 4594.5,-348 4600.5,-342 4606.5,-342 4606.5,-342 4722.5,-342 4722.5,-342 4728.5,-342 4734.5,-348 4734.5,-354 4734.5,-354 4734.5,-413 4734.5,-413 4734.5,-419 4728.5,-425 4722.5,-425\"/>\n<text text-anchor=\"middle\" x=\"4664.5\" y=\"-409.8\" font-family=\"Helvetica,sans-Serif\" font-size=\"14.00\" fill=\"#000000\">age &lt;= 24.5</text>\n<text text-anchor=\"middle\" x=\"4664.5\" y=\"-394.8\" font-family=\"Helvetica,sans-Serif\" font-size=\"14.00\" fill=\"#000000\">gini = 0.444</text>\n<text text-anchor=\"middle\" x=\"4664.5\" y=\"-379.8\" font-family=\"Helvetica,sans-Serif\" font-size=\"14.00\" fill=\"#000000\">samples = 6</text>\n<text text-anchor=\"middle\" x=\"4664.5\" y=\"-364.8\" font-family=\"Helvetica,sans-Serif\" font-size=\"14.00\" fill=\"#000000\">value = [4, 2]</text>\n<text text-anchor=\"middle\" x=\"4664.5\" y=\"-349.8\" font-family=\"Helvetica,sans-Serif\" font-size=\"14.00\" fill=\"#000000\">class = Unsurvived</text>\n</g>\n<!-- 231&#45;&gt;233 -->\n<g id=\"edge233\" class=\"edge\">\n<title>231&#45;&gt;233</title>\n<path fill=\"none\" stroke=\"#000000\" d=\"M4615.7314,-460.8796C4621.2373,-452.1434 4627.1006,-442.8404 4632.7824,-433.8253\"/>\n<polygon fill=\"#000000\" stroke=\"#000000\" points=\"4635.7857,-435.6242 4638.1567,-425.2981 4629.8637,-431.8919 4635.7857,-435.6242\"/>\n</g>\n<!-- 234 -->\n<g id=\"node235\" class=\"node\">\n<title>234</title>\n<path fill=\"#e58139\" stroke=\"#000000\" d=\"M4643.5,-298.5C4643.5,-298.5 4527.5,-298.5 4527.5,-298.5 4521.5,-298.5 4515.5,-292.5 4515.5,-286.5 4515.5,-286.5 4515.5,-242.5 4515.5,-242.5 4515.5,-236.5 4521.5,-230.5 4527.5,-230.5 4527.5,-230.5 4643.5,-230.5 4643.5,-230.5 4649.5,-230.5 4655.5,-236.5 4655.5,-242.5 4655.5,-242.5 4655.5,-286.5 4655.5,-286.5 4655.5,-292.5 4649.5,-298.5 4643.5,-298.5\"/>\n<text text-anchor=\"middle\" x=\"4585.5\" y=\"-283.3\" font-family=\"Helvetica,sans-Serif\" font-size=\"14.00\" fill=\"#000000\">gini = 0.0</text>\n<text text-anchor=\"middle\" x=\"4585.5\" y=\"-268.3\" font-family=\"Helvetica,sans-Serif\" font-size=\"14.00\" fill=\"#000000\">samples = 2</text>\n<text text-anchor=\"middle\" x=\"4585.5\" y=\"-253.3\" font-family=\"Helvetica,sans-Serif\" font-size=\"14.00\" fill=\"#000000\">value = [2, 0]</text>\n<text text-anchor=\"middle\" x=\"4585.5\" y=\"-238.3\" font-family=\"Helvetica,sans-Serif\" font-size=\"14.00\" fill=\"#000000\">class = Unsurvived</text>\n</g>\n<!-- 233&#45;&gt;234 -->\n<g id=\"edge234\" class=\"edge\">\n<title>233&#45;&gt;234</title>\n<path fill=\"none\" stroke=\"#000000\" d=\"M4636.8696,-341.8796C4629.4237,-330.6636 4621.3575,-318.5131 4613.8718,-307.2372\"/>\n<polygon fill=\"#000000\" stroke=\"#000000\" points=\"4616.7273,-305.2104 4608.2805,-298.8149 4610.8954,-309.082 4616.7273,-305.2104\"/>\n</g>\n<!-- 235 -->\n<g id=\"node236\" class=\"node\">\n<title>235</title>\n<path fill=\"#ffffff\" stroke=\"#000000\" d=\"M4801.5,-306C4801.5,-306 4685.5,-306 4685.5,-306 4679.5,-306 4673.5,-300 4673.5,-294 4673.5,-294 4673.5,-235 4673.5,-235 4673.5,-229 4679.5,-223 4685.5,-223 4685.5,-223 4801.5,-223 4801.5,-223 4807.5,-223 4813.5,-229 4813.5,-235 4813.5,-235 4813.5,-294 4813.5,-294 4813.5,-300 4807.5,-306 4801.5,-306\"/>\n<text text-anchor=\"middle\" x=\"4743.5\" y=\"-290.8\" font-family=\"Helvetica,sans-Serif\" font-size=\"14.00\" fill=\"#000000\">age &lt;= 27.5</text>\n<text text-anchor=\"middle\" x=\"4743.5\" y=\"-275.8\" font-family=\"Helvetica,sans-Serif\" font-size=\"14.00\" fill=\"#000000\">gini = 0.5</text>\n<text text-anchor=\"middle\" x=\"4743.5\" y=\"-260.8\" font-family=\"Helvetica,sans-Serif\" font-size=\"14.00\" fill=\"#000000\">samples = 4</text>\n<text text-anchor=\"middle\" x=\"4743.5\" y=\"-245.8\" font-family=\"Helvetica,sans-Serif\" font-size=\"14.00\" fill=\"#000000\">value = [2, 2]</text>\n<text text-anchor=\"middle\" x=\"4743.5\" y=\"-230.8\" font-family=\"Helvetica,sans-Serif\" font-size=\"14.00\" fill=\"#000000\">class = Unsurvived</text>\n</g>\n<!-- 233&#45;&gt;235 -->\n<g id=\"edge235\" class=\"edge\">\n<title>233&#45;&gt;235</title>\n<path fill=\"none\" stroke=\"#000000\" d=\"M4692.1304,-341.8796C4697.93,-333.1434 4704.1059,-323.8404 4710.0908,-314.8253\"/>\n<polygon fill=\"#000000\" stroke=\"#000000\" points=\"4713.1368,-316.5652 4715.7517,-306.2981 4707.3049,-312.6935 4713.1368,-316.5652\"/>\n</g>\n<!-- 236 -->\n<g id=\"node237\" class=\"node\">\n<title>236</title>\n<path fill=\"#9ccef2\" stroke=\"#000000\" d=\"M4718,-187C4718,-187 4619,-187 4619,-187 4613,-187 4607,-181 4607,-175 4607,-175 4607,-116 4607,-116 4607,-110 4613,-104 4619,-104 4619,-104 4718,-104 4718,-104 4724,-104 4730,-110 4730,-116 4730,-116 4730,-175 4730,-175 4730,-181 4724,-187 4718,-187\"/>\n<text text-anchor=\"middle\" x=\"4668.5\" y=\"-171.8\" font-family=\"Helvetica,sans-Serif\" font-size=\"14.00\" fill=\"#000000\">fare &lt;= 7.785</text>\n<text text-anchor=\"middle\" x=\"4668.5\" y=\"-156.8\" font-family=\"Helvetica,sans-Serif\" font-size=\"14.00\" fill=\"#000000\">gini = 0.444</text>\n<text text-anchor=\"middle\" x=\"4668.5\" y=\"-141.8\" font-family=\"Helvetica,sans-Serif\" font-size=\"14.00\" fill=\"#000000\">samples = 3</text>\n<text text-anchor=\"middle\" x=\"4668.5\" y=\"-126.8\" font-family=\"Helvetica,sans-Serif\" font-size=\"14.00\" fill=\"#000000\">value = [1, 2]</text>\n<text text-anchor=\"middle\" x=\"4668.5\" y=\"-111.8\" font-family=\"Helvetica,sans-Serif\" font-size=\"14.00\" fill=\"#000000\">class = Survived</text>\n</g>\n<!-- 235&#45;&gt;236 -->\n<g id=\"edge236\" class=\"edge\">\n<title>235&#45;&gt;236</title>\n<path fill=\"none\" stroke=\"#000000\" d=\"M4717.2686,-222.8796C4711.7627,-214.1434 4705.8994,-204.8404 4700.2176,-195.8253\"/>\n<polygon fill=\"#000000\" stroke=\"#000000\" points=\"4703.1363,-193.8919 4694.8433,-187.2981 4697.2143,-197.6242 4703.1363,-193.8919\"/>\n</g>\n<!-- 239 -->\n<g id=\"node240\" class=\"node\">\n<title>239</title>\n<path fill=\"#e58139\" stroke=\"#000000\" d=\"M4876.5,-179.5C4876.5,-179.5 4760.5,-179.5 4760.5,-179.5 4754.5,-179.5 4748.5,-173.5 4748.5,-167.5 4748.5,-167.5 4748.5,-123.5 4748.5,-123.5 4748.5,-117.5 4754.5,-111.5 4760.5,-111.5 4760.5,-111.5 4876.5,-111.5 4876.5,-111.5 4882.5,-111.5 4888.5,-117.5 4888.5,-123.5 4888.5,-123.5 4888.5,-167.5 4888.5,-167.5 4888.5,-173.5 4882.5,-179.5 4876.5,-179.5\"/>\n<text text-anchor=\"middle\" x=\"4818.5\" y=\"-164.3\" font-family=\"Helvetica,sans-Serif\" font-size=\"14.00\" fill=\"#000000\">gini = 0.0</text>\n<text text-anchor=\"middle\" x=\"4818.5\" y=\"-149.3\" font-family=\"Helvetica,sans-Serif\" font-size=\"14.00\" fill=\"#000000\">samples = 1</text>\n<text text-anchor=\"middle\" x=\"4818.5\" y=\"-134.3\" font-family=\"Helvetica,sans-Serif\" font-size=\"14.00\" fill=\"#000000\">value = [1, 0]</text>\n<text text-anchor=\"middle\" x=\"4818.5\" y=\"-119.3\" font-family=\"Helvetica,sans-Serif\" font-size=\"14.00\" fill=\"#000000\">class = Unsurvived</text>\n</g>\n<!-- 235&#45;&gt;239 -->\n<g id=\"edge239\" class=\"edge\">\n<title>235&#45;&gt;239</title>\n<path fill=\"none\" stroke=\"#000000\" d=\"M4769.7314,-222.8796C4776.731,-211.7735 4784.308,-199.7513 4791.3556,-188.5691\"/>\n<polygon fill=\"#000000\" stroke=\"#000000\" points=\"4794.502,-190.1411 4796.8729,-179.8149 4788.58,-186.4087 4794.502,-190.1411\"/>\n</g>\n<!-- 237 -->\n<g id=\"node238\" class=\"node\">\n<title>237</title>\n<path fill=\"#ffffff\" stroke=\"#000000\" d=\"M4651.5,-68C4651.5,-68 4535.5,-68 4535.5,-68 4529.5,-68 4523.5,-62 4523.5,-56 4523.5,-56 4523.5,-12 4523.5,-12 4523.5,-6 4529.5,0 4535.5,0 4535.5,0 4651.5,0 4651.5,0 4657.5,0 4663.5,-6 4663.5,-12 4663.5,-12 4663.5,-56 4663.5,-56 4663.5,-62 4657.5,-68 4651.5,-68\"/>\n<text text-anchor=\"middle\" x=\"4593.5\" y=\"-52.8\" font-family=\"Helvetica,sans-Serif\" font-size=\"14.00\" fill=\"#000000\">gini = 0.5</text>\n<text text-anchor=\"middle\" x=\"4593.5\" y=\"-37.8\" font-family=\"Helvetica,sans-Serif\" font-size=\"14.00\" fill=\"#000000\">samples = 2</text>\n<text text-anchor=\"middle\" x=\"4593.5\" y=\"-22.8\" font-family=\"Helvetica,sans-Serif\" font-size=\"14.00\" fill=\"#000000\">value = [1, 1]</text>\n<text text-anchor=\"middle\" x=\"4593.5\" y=\"-7.8\" font-family=\"Helvetica,sans-Serif\" font-size=\"14.00\" fill=\"#000000\">class = Unsurvived</text>\n</g>\n<!-- 236&#45;&gt;237 -->\n<g id=\"edge237\" class=\"edge\">\n<title>236&#45;&gt;237</title>\n<path fill=\"none\" stroke=\"#000000\" d=\"M4640.5728,-103.9815C4634.5762,-95.0666 4628.2296,-85.6313 4622.2041,-76.6734\"/>\n<polygon fill=\"#000000\" stroke=\"#000000\" points=\"4625.0328,-74.6078 4616.5473,-68.2637 4619.2245,-78.5147 4625.0328,-74.6078\"/>\n</g>\n<!-- 238 -->\n<g id=\"node239\" class=\"node\">\n<title>238</title>\n<path fill=\"#399de5\" stroke=\"#000000\" d=\"M4793,-68C4793,-68 4694,-68 4694,-68 4688,-68 4682,-62 4682,-56 4682,-56 4682,-12 4682,-12 4682,-6 4688,0 4694,0 4694,0 4793,0 4793,0 4799,0 4805,-6 4805,-12 4805,-12 4805,-56 4805,-56 4805,-62 4799,-68 4793,-68\"/>\n<text text-anchor=\"middle\" x=\"4743.5\" y=\"-52.8\" font-family=\"Helvetica,sans-Serif\" font-size=\"14.00\" fill=\"#000000\">gini = 0.0</text>\n<text text-anchor=\"middle\" x=\"4743.5\" y=\"-37.8\" font-family=\"Helvetica,sans-Serif\" font-size=\"14.00\" fill=\"#000000\">samples = 1</text>\n<text text-anchor=\"middle\" x=\"4743.5\" y=\"-22.8\" font-family=\"Helvetica,sans-Serif\" font-size=\"14.00\" fill=\"#000000\">value = [0, 1]</text>\n<text text-anchor=\"middle\" x=\"4743.5\" y=\"-7.8\" font-family=\"Helvetica,sans-Serif\" font-size=\"14.00\" fill=\"#000000\">class = Survived</text>\n</g>\n<!-- 236&#45;&gt;238 -->\n<g id=\"edge238\" class=\"edge\">\n<title>236&#45;&gt;238</title>\n<path fill=\"none\" stroke=\"#000000\" d=\"M4696.4272,-103.9815C4702.4238,-95.0666 4708.7704,-85.6313 4714.7959,-76.6734\"/>\n<polygon fill=\"#000000\" stroke=\"#000000\" points=\"4717.7755,-78.5147 4720.4527,-68.2637 4711.9672,-74.6078 4717.7755,-78.5147\"/>\n</g>\n<!-- 243 -->\n<g id=\"node244\" class=\"node\">\n<title>243</title>\n<path fill=\"#f2c09c\" stroke=\"#000000\" d=\"M4655.5,-1020C4655.5,-1020 4539.5,-1020 4539.5,-1020 4533.5,-1020 4527.5,-1014 4527.5,-1008 4527.5,-1008 4527.5,-949 4527.5,-949 4527.5,-943 4533.5,-937 4539.5,-937 4539.5,-937 4655.5,-937 4655.5,-937 4661.5,-937 4667.5,-943 4667.5,-949 4667.5,-949 4667.5,-1008 4667.5,-1008 4667.5,-1014 4661.5,-1020 4655.5,-1020\"/>\n<text text-anchor=\"middle\" x=\"4597.5\" y=\"-1004.8\" font-family=\"Helvetica,sans-Serif\" font-size=\"14.00\" fill=\"#000000\">fare &lt;= 7.398</text>\n<text text-anchor=\"middle\" x=\"4597.5\" y=\"-989.8\" font-family=\"Helvetica,sans-Serif\" font-size=\"14.00\" fill=\"#000000\">gini = 0.444</text>\n<text text-anchor=\"middle\" x=\"4597.5\" y=\"-974.8\" font-family=\"Helvetica,sans-Serif\" font-size=\"14.00\" fill=\"#000000\">samples = 6</text>\n<text text-anchor=\"middle\" x=\"4597.5\" y=\"-959.8\" font-family=\"Helvetica,sans-Serif\" font-size=\"14.00\" fill=\"#000000\">value = [4, 2]</text>\n<text text-anchor=\"middle\" x=\"4597.5\" y=\"-944.8\" font-family=\"Helvetica,sans-Serif\" font-size=\"14.00\" fill=\"#000000\">class = Unsurvived</text>\n</g>\n<!-- 242&#45;&gt;243 -->\n<g id=\"edge243\" class=\"edge\">\n<title>242&#45;&gt;243</title>\n<path fill=\"none\" stroke=\"#000000\" d=\"M4646.2686,-1055.8796C4640.7627,-1047.1434 4634.8994,-1037.8404 4629.2176,-1028.8253\"/>\n<polygon fill=\"#000000\" stroke=\"#000000\" points=\"4632.1363,-1026.8919 4623.8433,-1020.2981 4626.2143,-1030.6242 4632.1363,-1026.8919\"/>\n</g>\n<!-- 252 -->\n<g id=\"node253\" class=\"node\">\n<title>252</title>\n<path fill=\"#399de5\" stroke=\"#000000\" d=\"M4797,-1012.5C4797,-1012.5 4698,-1012.5 4698,-1012.5 4692,-1012.5 4686,-1006.5 4686,-1000.5 4686,-1000.5 4686,-956.5 4686,-956.5 4686,-950.5 4692,-944.5 4698,-944.5 4698,-944.5 4797,-944.5 4797,-944.5 4803,-944.5 4809,-950.5 4809,-956.5 4809,-956.5 4809,-1000.5 4809,-1000.5 4809,-1006.5 4803,-1012.5 4797,-1012.5\"/>\n<text text-anchor=\"middle\" x=\"4747.5\" y=\"-997.3\" font-family=\"Helvetica,sans-Serif\" font-size=\"14.00\" fill=\"#000000\">gini = 0.0</text>\n<text text-anchor=\"middle\" x=\"4747.5\" y=\"-982.3\" font-family=\"Helvetica,sans-Serif\" font-size=\"14.00\" fill=\"#000000\">samples = 1</text>\n<text text-anchor=\"middle\" x=\"4747.5\" y=\"-967.3\" font-family=\"Helvetica,sans-Serif\" font-size=\"14.00\" fill=\"#000000\">value = [0, 1]</text>\n<text text-anchor=\"middle\" x=\"4747.5\" y=\"-952.3\" font-family=\"Helvetica,sans-Serif\" font-size=\"14.00\" fill=\"#000000\">class = Survived</text>\n</g>\n<!-- 242&#45;&gt;252 -->\n<g id=\"edge252\" class=\"edge\">\n<title>242&#45;&gt;252</title>\n<path fill=\"none\" stroke=\"#000000\" d=\"M4698.7314,-1055.8796C4705.731,-1044.7735 4713.308,-1032.7513 4720.3556,-1021.5691\"/>\n<polygon fill=\"#000000\" stroke=\"#000000\" points=\"4723.502,-1023.1411 4725.8729,-1012.8149 4717.58,-1019.4087 4723.502,-1023.1411\"/>\n</g>\n<!-- 244 -->\n<g id=\"node245\" class=\"node\">\n<title>244</title>\n<path fill=\"#e58139\" stroke=\"#000000\" d=\"M4572.5,-893.5C4572.5,-893.5 4456.5,-893.5 4456.5,-893.5 4450.5,-893.5 4444.5,-887.5 4444.5,-881.5 4444.5,-881.5 4444.5,-837.5 4444.5,-837.5 4444.5,-831.5 4450.5,-825.5 4456.5,-825.5 4456.5,-825.5 4572.5,-825.5 4572.5,-825.5 4578.5,-825.5 4584.5,-831.5 4584.5,-837.5 4584.5,-837.5 4584.5,-881.5 4584.5,-881.5 4584.5,-887.5 4578.5,-893.5 4572.5,-893.5\"/>\n<text text-anchor=\"middle\" x=\"4514.5\" y=\"-878.3\" font-family=\"Helvetica,sans-Serif\" font-size=\"14.00\" fill=\"#000000\">gini = 0.0</text>\n<text text-anchor=\"middle\" x=\"4514.5\" y=\"-863.3\" font-family=\"Helvetica,sans-Serif\" font-size=\"14.00\" fill=\"#000000\">samples = 1</text>\n<text text-anchor=\"middle\" x=\"4514.5\" y=\"-848.3\" font-family=\"Helvetica,sans-Serif\" font-size=\"14.00\" fill=\"#000000\">value = [1, 0]</text>\n<text text-anchor=\"middle\" x=\"4514.5\" y=\"-833.3\" font-family=\"Helvetica,sans-Serif\" font-size=\"14.00\" fill=\"#000000\">class = Unsurvived</text>\n</g>\n<!-- 243&#45;&gt;244 -->\n<g id=\"edge244\" class=\"edge\">\n<title>243&#45;&gt;244</title>\n<path fill=\"none\" stroke=\"#000000\" d=\"M4568.4706,-936.8796C4560.6477,-925.6636 4552.173,-913.5131 4544.3083,-902.2372\"/>\n<polygon fill=\"#000000\" stroke=\"#000000\" points=\"4547.0254,-900.0147 4538.4339,-893.8149 4541.284,-904.0192 4547.0254,-900.0147\"/>\n</g>\n<!-- 245 -->\n<g id=\"node246\" class=\"node\">\n<title>245</title>\n<path fill=\"#f6d5bd\" stroke=\"#000000\" d=\"M4730.5,-901C4730.5,-901 4614.5,-901 4614.5,-901 4608.5,-901 4602.5,-895 4602.5,-889 4602.5,-889 4602.5,-830 4602.5,-830 4602.5,-824 4608.5,-818 4614.5,-818 4614.5,-818 4730.5,-818 4730.5,-818 4736.5,-818 4742.5,-824 4742.5,-830 4742.5,-830 4742.5,-889 4742.5,-889 4742.5,-895 4736.5,-901 4730.5,-901\"/>\n<text text-anchor=\"middle\" x=\"4672.5\" y=\"-885.8\" font-family=\"Helvetica,sans-Serif\" font-size=\"14.00\" fill=\"#000000\">fare &lt;= 7.762</text>\n<text text-anchor=\"middle\" x=\"4672.5\" y=\"-870.8\" font-family=\"Helvetica,sans-Serif\" font-size=\"14.00\" fill=\"#000000\">gini = 0.48</text>\n<text text-anchor=\"middle\" x=\"4672.5\" y=\"-855.8\" font-family=\"Helvetica,sans-Serif\" font-size=\"14.00\" fill=\"#000000\">samples = 5</text>\n<text text-anchor=\"middle\" x=\"4672.5\" y=\"-840.8\" font-family=\"Helvetica,sans-Serif\" font-size=\"14.00\" fill=\"#000000\">value = [3, 2]</text>\n<text text-anchor=\"middle\" x=\"4672.5\" y=\"-825.8\" font-family=\"Helvetica,sans-Serif\" font-size=\"14.00\" fill=\"#000000\">class = Unsurvived</text>\n</g>\n<!-- 243&#45;&gt;245 -->\n<g id=\"edge245\" class=\"edge\">\n<title>243&#45;&gt;245</title>\n<path fill=\"none\" stroke=\"#000000\" d=\"M4623.7314,-936.8796C4629.2373,-928.1434 4635.1006,-918.8404 4640.7824,-909.8253\"/>\n<polygon fill=\"#000000\" stroke=\"#000000\" points=\"4643.7857,-911.6242 4646.1567,-901.2981 4637.8637,-907.8919 4643.7857,-911.6242\"/>\n</g>\n<!-- 246 -->\n<g id=\"node247\" class=\"node\">\n<title>246</title>\n<path fill=\"#399de5\" stroke=\"#000000\" d=\"M4647,-774.5C4647,-774.5 4548,-774.5 4548,-774.5 4542,-774.5 4536,-768.5 4536,-762.5 4536,-762.5 4536,-718.5 4536,-718.5 4536,-712.5 4542,-706.5 4548,-706.5 4548,-706.5 4647,-706.5 4647,-706.5 4653,-706.5 4659,-712.5 4659,-718.5 4659,-718.5 4659,-762.5 4659,-762.5 4659,-768.5 4653,-774.5 4647,-774.5\"/>\n<text text-anchor=\"middle\" x=\"4597.5\" y=\"-759.3\" font-family=\"Helvetica,sans-Serif\" font-size=\"14.00\" fill=\"#000000\">gini = 0.0</text>\n<text text-anchor=\"middle\" x=\"4597.5\" y=\"-744.3\" font-family=\"Helvetica,sans-Serif\" font-size=\"14.00\" fill=\"#000000\">samples = 1</text>\n<text text-anchor=\"middle\" x=\"4597.5\" y=\"-729.3\" font-family=\"Helvetica,sans-Serif\" font-size=\"14.00\" fill=\"#000000\">value = [0, 1]</text>\n<text text-anchor=\"middle\" x=\"4597.5\" y=\"-714.3\" font-family=\"Helvetica,sans-Serif\" font-size=\"14.00\" fill=\"#000000\">class = Survived</text>\n</g>\n<!-- 245&#45;&gt;246 -->\n<g id=\"edge246\" class=\"edge\">\n<title>245&#45;&gt;246</title>\n<path fill=\"none\" stroke=\"#000000\" d=\"M4646.2686,-817.8796C4639.269,-806.7735 4631.692,-794.7513 4624.6444,-783.5691\"/>\n<polygon fill=\"#000000\" stroke=\"#000000\" points=\"4627.42,-781.4087 4619.1271,-774.8149 4621.498,-785.1411 4627.42,-781.4087\"/>\n</g>\n<!-- 247 -->\n<g id=\"node248\" class=\"node\">\n<title>247</title>\n<path fill=\"#eeab7b\" stroke=\"#000000\" d=\"M4805.5,-782C4805.5,-782 4689.5,-782 4689.5,-782 4683.5,-782 4677.5,-776 4677.5,-770 4677.5,-770 4677.5,-711 4677.5,-711 4677.5,-705 4683.5,-699 4689.5,-699 4689.5,-699 4805.5,-699 4805.5,-699 4811.5,-699 4817.5,-705 4817.5,-711 4817.5,-711 4817.5,-770 4817.5,-770 4817.5,-776 4811.5,-782 4805.5,-782\"/>\n<text text-anchor=\"middle\" x=\"4747.5\" y=\"-766.8\" font-family=\"Helvetica,sans-Serif\" font-size=\"14.00\" fill=\"#000000\">fare &lt;= 7.885</text>\n<text text-anchor=\"middle\" x=\"4747.5\" y=\"-751.8\" font-family=\"Helvetica,sans-Serif\" font-size=\"14.00\" fill=\"#000000\">gini = 0.375</text>\n<text text-anchor=\"middle\" x=\"4747.5\" y=\"-736.8\" font-family=\"Helvetica,sans-Serif\" font-size=\"14.00\" fill=\"#000000\">samples = 4</text>\n<text text-anchor=\"middle\" x=\"4747.5\" y=\"-721.8\" font-family=\"Helvetica,sans-Serif\" font-size=\"14.00\" fill=\"#000000\">value = [3, 1]</text>\n<text text-anchor=\"middle\" x=\"4747.5\" y=\"-706.8\" font-family=\"Helvetica,sans-Serif\" font-size=\"14.00\" fill=\"#000000\">class = Unsurvived</text>\n</g>\n<!-- 245&#45;&gt;247 -->\n<g id=\"edge247\" class=\"edge\">\n<title>245&#45;&gt;247</title>\n<path fill=\"none\" stroke=\"#000000\" d=\"M4698.7314,-817.8796C4704.2373,-809.1434 4710.1006,-799.8404 4715.7824,-790.8253\"/>\n<polygon fill=\"#000000\" stroke=\"#000000\" points=\"4718.7857,-792.6242 4721.1567,-782.2981 4712.8637,-788.8919 4718.7857,-792.6242\"/>\n</g>\n<!-- 248 -->\n<g id=\"node249\" class=\"node\">\n<title>248</title>\n<path fill=\"#e58139\" stroke=\"#000000\" d=\"M4805.5,-655.5C4805.5,-655.5 4689.5,-655.5 4689.5,-655.5 4683.5,-655.5 4677.5,-649.5 4677.5,-643.5 4677.5,-643.5 4677.5,-599.5 4677.5,-599.5 4677.5,-593.5 4683.5,-587.5 4689.5,-587.5 4689.5,-587.5 4805.5,-587.5 4805.5,-587.5 4811.5,-587.5 4817.5,-593.5 4817.5,-599.5 4817.5,-599.5 4817.5,-643.5 4817.5,-643.5 4817.5,-649.5 4811.5,-655.5 4805.5,-655.5\"/>\n<text text-anchor=\"middle\" x=\"4747.5\" y=\"-640.3\" font-family=\"Helvetica,sans-Serif\" font-size=\"14.00\" fill=\"#000000\">gini = 0.0</text>\n<text text-anchor=\"middle\" x=\"4747.5\" y=\"-625.3\" font-family=\"Helvetica,sans-Serif\" font-size=\"14.00\" fill=\"#000000\">samples = 2</text>\n<text text-anchor=\"middle\" x=\"4747.5\" y=\"-610.3\" font-family=\"Helvetica,sans-Serif\" font-size=\"14.00\" fill=\"#000000\">value = [2, 0]</text>\n<text text-anchor=\"middle\" x=\"4747.5\" y=\"-595.3\" font-family=\"Helvetica,sans-Serif\" font-size=\"14.00\" fill=\"#000000\">class = Unsurvived</text>\n</g>\n<!-- 247&#45;&gt;248 -->\n<g id=\"edge248\" class=\"edge\">\n<title>247&#45;&gt;248</title>\n<path fill=\"none\" stroke=\"#000000\" d=\"M4747.5,-698.8796C4747.5,-688.2134 4747.5,-676.7021 4747.5,-665.9015\"/>\n<polygon fill=\"#000000\" stroke=\"#000000\" points=\"4751.0001,-665.8149 4747.5,-655.8149 4744.0001,-665.815 4751.0001,-665.8149\"/>\n</g>\n<!-- 249 -->\n<g id=\"node250\" class=\"node\">\n<title>249</title>\n<path fill=\"#ffffff\" stroke=\"#000000\" d=\"M4963.5,-663C4963.5,-663 4847.5,-663 4847.5,-663 4841.5,-663 4835.5,-657 4835.5,-651 4835.5,-651 4835.5,-592 4835.5,-592 4835.5,-586 4841.5,-580 4847.5,-580 4847.5,-580 4963.5,-580 4963.5,-580 4969.5,-580 4975.5,-586 4975.5,-592 4975.5,-592 4975.5,-651 4975.5,-651 4975.5,-657 4969.5,-663 4963.5,-663\"/>\n<text text-anchor=\"middle\" x=\"4905.5\" y=\"-647.8\" font-family=\"Helvetica,sans-Serif\" font-size=\"14.00\" fill=\"#000000\">fare &lt;= 8.689</text>\n<text text-anchor=\"middle\" x=\"4905.5\" y=\"-632.8\" font-family=\"Helvetica,sans-Serif\" font-size=\"14.00\" fill=\"#000000\">gini = 0.5</text>\n<text text-anchor=\"middle\" x=\"4905.5\" y=\"-617.8\" font-family=\"Helvetica,sans-Serif\" font-size=\"14.00\" fill=\"#000000\">samples = 2</text>\n<text text-anchor=\"middle\" x=\"4905.5\" y=\"-602.8\" font-family=\"Helvetica,sans-Serif\" font-size=\"14.00\" fill=\"#000000\">value = [1, 1]</text>\n<text text-anchor=\"middle\" x=\"4905.5\" y=\"-587.8\" font-family=\"Helvetica,sans-Serif\" font-size=\"14.00\" fill=\"#000000\">class = Unsurvived</text>\n</g>\n<!-- 247&#45;&gt;249 -->\n<g id=\"edge249\" class=\"edge\">\n<title>247&#45;&gt;249</title>\n<path fill=\"none\" stroke=\"#000000\" d=\"M4802.7607,-698.8796C4815.5099,-689.2774 4829.1683,-678.9903 4842.2291,-669.1534\"/>\n<polygon fill=\"#000000\" stroke=\"#000000\" points=\"4844.3883,-671.9089 4850.2705,-663.0969 4840.1769,-666.3174 4844.3883,-671.9089\"/>\n</g>\n<!-- 250 -->\n<g id=\"node251\" class=\"node\">\n<title>250</title>\n<path fill=\"#399de5\" stroke=\"#000000\" d=\"M4880,-536.5C4880,-536.5 4781,-536.5 4781,-536.5 4775,-536.5 4769,-530.5 4769,-524.5 4769,-524.5 4769,-480.5 4769,-480.5 4769,-474.5 4775,-468.5 4781,-468.5 4781,-468.5 4880,-468.5 4880,-468.5 4886,-468.5 4892,-474.5 4892,-480.5 4892,-480.5 4892,-524.5 4892,-524.5 4892,-530.5 4886,-536.5 4880,-536.5\"/>\n<text text-anchor=\"middle\" x=\"4830.5\" y=\"-521.3\" font-family=\"Helvetica,sans-Serif\" font-size=\"14.00\" fill=\"#000000\">gini = 0.0</text>\n<text text-anchor=\"middle\" x=\"4830.5\" y=\"-506.3\" font-family=\"Helvetica,sans-Serif\" font-size=\"14.00\" fill=\"#000000\">samples = 1</text>\n<text text-anchor=\"middle\" x=\"4830.5\" y=\"-491.3\" font-family=\"Helvetica,sans-Serif\" font-size=\"14.00\" fill=\"#000000\">value = [0, 1]</text>\n<text text-anchor=\"middle\" x=\"4830.5\" y=\"-476.3\" font-family=\"Helvetica,sans-Serif\" font-size=\"14.00\" fill=\"#000000\">class = Survived</text>\n</g>\n<!-- 249&#45;&gt;250 -->\n<g id=\"edge250\" class=\"edge\">\n<title>249&#45;&gt;250</title>\n<path fill=\"none\" stroke=\"#000000\" d=\"M4879.2686,-579.8796C4872.269,-568.7735 4864.692,-556.7513 4857.6444,-545.5691\"/>\n<polygon fill=\"#000000\" stroke=\"#000000\" points=\"4860.42,-543.4087 4852.1271,-536.8149 4854.498,-547.1411 4860.42,-543.4087\"/>\n</g>\n<!-- 251 -->\n<g id=\"node252\" class=\"node\">\n<title>251</title>\n<path fill=\"#e58139\" stroke=\"#000000\" d=\"M5038.5,-536.5C5038.5,-536.5 4922.5,-536.5 4922.5,-536.5 4916.5,-536.5 4910.5,-530.5 4910.5,-524.5 4910.5,-524.5 4910.5,-480.5 4910.5,-480.5 4910.5,-474.5 4916.5,-468.5 4922.5,-468.5 4922.5,-468.5 5038.5,-468.5 5038.5,-468.5 5044.5,-468.5 5050.5,-474.5 5050.5,-480.5 5050.5,-480.5 5050.5,-524.5 5050.5,-524.5 5050.5,-530.5 5044.5,-536.5 5038.5,-536.5\"/>\n<text text-anchor=\"middle\" x=\"4980.5\" y=\"-521.3\" font-family=\"Helvetica,sans-Serif\" font-size=\"14.00\" fill=\"#000000\">gini = 0.0</text>\n<text text-anchor=\"middle\" x=\"4980.5\" y=\"-506.3\" font-family=\"Helvetica,sans-Serif\" font-size=\"14.00\" fill=\"#000000\">samples = 1</text>\n<text text-anchor=\"middle\" x=\"4980.5\" y=\"-491.3\" font-family=\"Helvetica,sans-Serif\" font-size=\"14.00\" fill=\"#000000\">value = [1, 0]</text>\n<text text-anchor=\"middle\" x=\"4980.5\" y=\"-476.3\" font-family=\"Helvetica,sans-Serif\" font-size=\"14.00\" fill=\"#000000\">class = Unsurvived</text>\n</g>\n<!-- 249&#45;&gt;251 -->\n<g id=\"edge251\" class=\"edge\">\n<title>249&#45;&gt;251</title>\n<path fill=\"none\" stroke=\"#000000\" d=\"M4931.7314,-579.8796C4938.731,-568.7735 4946.308,-556.7513 4953.3556,-545.5691\"/>\n<polygon fill=\"#000000\" stroke=\"#000000\" points=\"4956.502,-547.1411 4958.8729,-536.8149 4950.58,-543.4087 4956.502,-547.1411\"/>\n</g>\n<!-- 254 -->\n<g id=\"node255\" class=\"node\">\n<title>254</title>\n<path fill=\"#e68540\" stroke=\"#000000\" d=\"M5109.5,-1139C5109.5,-1139 4993.5,-1139 4993.5,-1139 4987.5,-1139 4981.5,-1133 4981.5,-1127 4981.5,-1127 4981.5,-1068 4981.5,-1068 4981.5,-1062 4987.5,-1056 4993.5,-1056 4993.5,-1056 5109.5,-1056 5109.5,-1056 5115.5,-1056 5121.5,-1062 5121.5,-1068 5121.5,-1068 5121.5,-1127 5121.5,-1127 5121.5,-1133 5115.5,-1139 5109.5,-1139\"/>\n<text text-anchor=\"middle\" x=\"5051.5\" y=\"-1123.8\" font-family=\"Helvetica,sans-Serif\" font-size=\"14.00\" fill=\"#000000\">fare &lt;= 7.801</text>\n<text text-anchor=\"middle\" x=\"5051.5\" y=\"-1108.8\" font-family=\"Helvetica,sans-Serif\" font-size=\"14.00\" fill=\"#000000\">gini = 0.062</text>\n<text text-anchor=\"middle\" x=\"5051.5\" y=\"-1093.8\" font-family=\"Helvetica,sans-Serif\" font-size=\"14.00\" fill=\"#000000\">samples = 62</text>\n<text text-anchor=\"middle\" x=\"5051.5\" y=\"-1078.8\" font-family=\"Helvetica,sans-Serif\" font-size=\"14.00\" fill=\"#000000\">value = [60, 2]</text>\n<text text-anchor=\"middle\" x=\"5051.5\" y=\"-1063.8\" font-family=\"Helvetica,sans-Serif\" font-size=\"14.00\" fill=\"#000000\">class = Unsurvived</text>\n</g>\n<!-- 253&#45;&gt;254 -->\n<g id=\"edge254\" class=\"edge\">\n<title>253&#45;&gt;254</title>\n<path fill=\"none\" stroke=\"#000000\" d=\"M5102.8696,-1174.8796C5097.07,-1166.1434 5090.8941,-1156.8404 5084.9092,-1147.8253\"/>\n<polygon fill=\"#000000\" stroke=\"#000000\" points=\"5087.6951,-1145.6935 5079.2483,-1139.2981 5081.8632,-1149.5652 5087.6951,-1145.6935\"/>\n</g>\n<!-- 263 -->\n<g id=\"node264\" class=\"node\">\n<title>263</title>\n<path fill=\"#eca572\" stroke=\"#000000\" d=\"M5267.5,-1139C5267.5,-1139 5151.5,-1139 5151.5,-1139 5145.5,-1139 5139.5,-1133 5139.5,-1127 5139.5,-1127 5139.5,-1068 5139.5,-1068 5139.5,-1062 5145.5,-1056 5151.5,-1056 5151.5,-1056 5267.5,-1056 5267.5,-1056 5273.5,-1056 5279.5,-1062 5279.5,-1068 5279.5,-1068 5279.5,-1127 5279.5,-1127 5279.5,-1133 5273.5,-1139 5267.5,-1139\"/>\n<text text-anchor=\"middle\" x=\"5209.5\" y=\"-1123.8\" font-family=\"Helvetica,sans-Serif\" font-size=\"14.00\" fill=\"#000000\">fare &lt;= 8.387</text>\n<text text-anchor=\"middle\" x=\"5209.5\" y=\"-1108.8\" font-family=\"Helvetica,sans-Serif\" font-size=\"14.00\" fill=\"#000000\">gini = 0.346</text>\n<text text-anchor=\"middle\" x=\"5209.5\" y=\"-1093.8\" font-family=\"Helvetica,sans-Serif\" font-size=\"14.00\" fill=\"#000000\">samples = 9</text>\n<text text-anchor=\"middle\" x=\"5209.5\" y=\"-1078.8\" font-family=\"Helvetica,sans-Serif\" font-size=\"14.00\" fill=\"#000000\">value = [7, 2]</text>\n<text text-anchor=\"middle\" x=\"5209.5\" y=\"-1063.8\" font-family=\"Helvetica,sans-Serif\" font-size=\"14.00\" fill=\"#000000\">class = Unsurvived</text>\n</g>\n<!-- 253&#45;&gt;263 -->\n<g id=\"edge263\" class=\"edge\">\n<title>253&#45;&gt;263</title>\n<path fill=\"none\" stroke=\"#000000\" d=\"M5158.1304,-1174.8796C5163.93,-1166.1434 5170.1059,-1156.8404 5176.0908,-1147.8253\"/>\n<polygon fill=\"#000000\" stroke=\"#000000\" points=\"5179.1368,-1149.5652 5181.7517,-1139.2981 5173.3049,-1145.6935 5179.1368,-1149.5652\"/>\n</g>\n<!-- 255 -->\n<g id=\"node256\" class=\"node\">\n<title>255</title>\n<path fill=\"#e78a47\" stroke=\"#000000\" d=\"M4955.5,-1020C4955.5,-1020 4839.5,-1020 4839.5,-1020 4833.5,-1020 4827.5,-1014 4827.5,-1008 4827.5,-1008 4827.5,-949 4827.5,-949 4827.5,-943 4833.5,-937 4839.5,-937 4839.5,-937 4955.5,-937 4955.5,-937 4961.5,-937 4967.5,-943 4967.5,-949 4967.5,-949 4967.5,-1008 4967.5,-1008 4967.5,-1014 4961.5,-1020 4955.5,-1020\"/>\n<text text-anchor=\"middle\" x=\"4897.5\" y=\"-1004.8\" font-family=\"Helvetica,sans-Serif\" font-size=\"14.00\" fill=\"#000000\">fare &lt;= 7.762</text>\n<text text-anchor=\"middle\" x=\"4897.5\" y=\"-989.8\" font-family=\"Helvetica,sans-Serif\" font-size=\"14.00\" fill=\"#000000\">gini = 0.121</text>\n<text text-anchor=\"middle\" x=\"4897.5\" y=\"-974.8\" font-family=\"Helvetica,sans-Serif\" font-size=\"14.00\" fill=\"#000000\">samples = 31</text>\n<text text-anchor=\"middle\" x=\"4897.5\" y=\"-959.8\" font-family=\"Helvetica,sans-Serif\" font-size=\"14.00\" fill=\"#000000\">value = [29, 2]</text>\n<text text-anchor=\"middle\" x=\"4897.5\" y=\"-944.8\" font-family=\"Helvetica,sans-Serif\" font-size=\"14.00\" fill=\"#000000\">class = Unsurvived</text>\n</g>\n<!-- 254&#45;&gt;255 -->\n<g id=\"edge255\" class=\"edge\">\n<title>254&#45;&gt;255</title>\n<path fill=\"none\" stroke=\"#000000\" d=\"M4997.6383,-1055.8796C4985.3291,-1046.368 4972.1503,-1036.1843 4959.5296,-1026.432\"/>\n<polygon fill=\"#000000\" stroke=\"#000000\" points=\"4961.3843,-1023.4419 4951.3313,-1020.0969 4957.1041,-1028.9809 4961.3843,-1023.4419\"/>\n</g>\n<!-- 262 -->\n<g id=\"node263\" class=\"node\">\n<title>262</title>\n<path fill=\"#e58139\" stroke=\"#000000\" d=\"M5113.5,-1012.5C5113.5,-1012.5 4997.5,-1012.5 4997.5,-1012.5 4991.5,-1012.5 4985.5,-1006.5 4985.5,-1000.5 4985.5,-1000.5 4985.5,-956.5 4985.5,-956.5 4985.5,-950.5 4991.5,-944.5 4997.5,-944.5 4997.5,-944.5 5113.5,-944.5 5113.5,-944.5 5119.5,-944.5 5125.5,-950.5 5125.5,-956.5 5125.5,-956.5 5125.5,-1000.5 5125.5,-1000.5 5125.5,-1006.5 5119.5,-1012.5 5113.5,-1012.5\"/>\n<text text-anchor=\"middle\" x=\"5055.5\" y=\"-997.3\" font-family=\"Helvetica,sans-Serif\" font-size=\"14.00\" fill=\"#000000\">gini = 0.0</text>\n<text text-anchor=\"middle\" x=\"5055.5\" y=\"-982.3\" font-family=\"Helvetica,sans-Serif\" font-size=\"14.00\" fill=\"#000000\">samples = 31</text>\n<text text-anchor=\"middle\" x=\"5055.5\" y=\"-967.3\" font-family=\"Helvetica,sans-Serif\" font-size=\"14.00\" fill=\"#000000\">value = [31, 0]</text>\n<text text-anchor=\"middle\" x=\"5055.5\" y=\"-952.3\" font-family=\"Helvetica,sans-Serif\" font-size=\"14.00\" fill=\"#000000\">class = Unsurvived</text>\n</g>\n<!-- 254&#45;&gt;262 -->\n<g id=\"edge262\" class=\"edge\">\n<title>254&#45;&gt;262</title>\n<path fill=\"none\" stroke=\"#000000\" d=\"M5052.899,-1055.8796C5053.2575,-1045.2134 5053.6445,-1033.7021 5054.0075,-1022.9015\"/>\n<polygon fill=\"#000000\" stroke=\"#000000\" points=\"5057.5085,-1022.9269 5054.3466,-1012.8149 5050.5125,-1022.6917 5057.5085,-1022.9269\"/>\n</g>\n<!-- 256 -->\n<g id=\"node257\" class=\"node\">\n<title>256</title>\n<path fill=\"#e68640\" stroke=\"#000000\" d=\"M4955.5,-901C4955.5,-901 4839.5,-901 4839.5,-901 4833.5,-901 4827.5,-895 4827.5,-889 4827.5,-889 4827.5,-830 4827.5,-830 4827.5,-824 4833.5,-818 4839.5,-818 4839.5,-818 4955.5,-818 4955.5,-818 4961.5,-818 4967.5,-824 4967.5,-830 4967.5,-830 4967.5,-889 4967.5,-889 4967.5,-895 4961.5,-901 4955.5,-901\"/>\n<text text-anchor=\"middle\" x=\"4897.5\" y=\"-885.8\" font-family=\"Helvetica,sans-Serif\" font-size=\"14.00\" fill=\"#000000\">fare &lt;= 7.744</text>\n<text text-anchor=\"middle\" x=\"4897.5\" y=\"-870.8\" font-family=\"Helvetica,sans-Serif\" font-size=\"14.00\" fill=\"#000000\">gini = 0.067</text>\n<text text-anchor=\"middle\" x=\"4897.5\" y=\"-855.8\" font-family=\"Helvetica,sans-Serif\" font-size=\"14.00\" fill=\"#000000\">samples = 29</text>\n<text text-anchor=\"middle\" x=\"4897.5\" y=\"-840.8\" font-family=\"Helvetica,sans-Serif\" font-size=\"14.00\" fill=\"#000000\">value = [28, 1]</text>\n<text text-anchor=\"middle\" x=\"4897.5\" y=\"-825.8\" font-family=\"Helvetica,sans-Serif\" font-size=\"14.00\" fill=\"#000000\">class = Unsurvived</text>\n</g>\n<!-- 255&#45;&gt;256 -->\n<g id=\"edge256\" class=\"edge\">\n<title>255&#45;&gt;256</title>\n<path fill=\"none\" stroke=\"#000000\" d=\"M4897.5,-936.8796C4897.5,-928.6838 4897.5,-919.9891 4897.5,-911.5013\"/>\n<polygon fill=\"#000000\" stroke=\"#000000\" points=\"4901.0001,-911.298 4897.5,-901.2981 4894.0001,-911.2981 4901.0001,-911.298\"/>\n</g>\n<!-- 261 -->\n<g id=\"node262\" class=\"node\">\n<title>261</title>\n<path fill=\"#ffffff\" stroke=\"#000000\" d=\"M5113.5,-893.5C5113.5,-893.5 4997.5,-893.5 4997.5,-893.5 4991.5,-893.5 4985.5,-887.5 4985.5,-881.5 4985.5,-881.5 4985.5,-837.5 4985.5,-837.5 4985.5,-831.5 4991.5,-825.5 4997.5,-825.5 4997.5,-825.5 5113.5,-825.5 5113.5,-825.5 5119.5,-825.5 5125.5,-831.5 5125.5,-837.5 5125.5,-837.5 5125.5,-881.5 5125.5,-881.5 5125.5,-887.5 5119.5,-893.5 5113.5,-893.5\"/>\n<text text-anchor=\"middle\" x=\"5055.5\" y=\"-878.3\" font-family=\"Helvetica,sans-Serif\" font-size=\"14.00\" fill=\"#000000\">gini = 0.5</text>\n<text text-anchor=\"middle\" x=\"5055.5\" y=\"-863.3\" font-family=\"Helvetica,sans-Serif\" font-size=\"14.00\" fill=\"#000000\">samples = 2</text>\n<text text-anchor=\"middle\" x=\"5055.5\" y=\"-848.3\" font-family=\"Helvetica,sans-Serif\" font-size=\"14.00\" fill=\"#000000\">value = [1, 1]</text>\n<text text-anchor=\"middle\" x=\"5055.5\" y=\"-833.3\" font-family=\"Helvetica,sans-Serif\" font-size=\"14.00\" fill=\"#000000\">class = Unsurvived</text>\n</g>\n<!-- 255&#45;&gt;261 -->\n<g id=\"edge261\" class=\"edge\">\n<title>255&#45;&gt;261</title>\n<path fill=\"none\" stroke=\"#000000\" d=\"M4952.7607,-936.8796C4968.7503,-924.8368 4986.1703,-911.7167 5002.0474,-899.7586\"/>\n<polygon fill=\"#000000\" stroke=\"#000000\" points=\"5004.3116,-902.435 5010.1938,-893.623 5000.1002,-896.8435 5004.3116,-902.435\"/>\n</g>\n<!-- 257 -->\n<g id=\"node258\" class=\"node\">\n<title>257</title>\n<path fill=\"#e58139\" stroke=\"#000000\" d=\"M4963.5,-774.5C4963.5,-774.5 4847.5,-774.5 4847.5,-774.5 4841.5,-774.5 4835.5,-768.5 4835.5,-762.5 4835.5,-762.5 4835.5,-718.5 4835.5,-718.5 4835.5,-712.5 4841.5,-706.5 4847.5,-706.5 4847.5,-706.5 4963.5,-706.5 4963.5,-706.5 4969.5,-706.5 4975.5,-712.5 4975.5,-718.5 4975.5,-718.5 4975.5,-762.5 4975.5,-762.5 4975.5,-768.5 4969.5,-774.5 4963.5,-774.5\"/>\n<text text-anchor=\"middle\" x=\"4905.5\" y=\"-759.3\" font-family=\"Helvetica,sans-Serif\" font-size=\"14.00\" fill=\"#000000\">gini = 0.0</text>\n<text text-anchor=\"middle\" x=\"4905.5\" y=\"-744.3\" font-family=\"Helvetica,sans-Serif\" font-size=\"14.00\" fill=\"#000000\">samples = 20</text>\n<text text-anchor=\"middle\" x=\"4905.5\" y=\"-729.3\" font-family=\"Helvetica,sans-Serif\" font-size=\"14.00\" fill=\"#000000\">value = [20, 0]</text>\n<text text-anchor=\"middle\" x=\"4905.5\" y=\"-714.3\" font-family=\"Helvetica,sans-Serif\" font-size=\"14.00\" fill=\"#000000\">class = Unsurvived</text>\n</g>\n<!-- 256&#45;&gt;257 -->\n<g id=\"edge257\" class=\"edge\">\n<title>256&#45;&gt;257</title>\n<path fill=\"none\" stroke=\"#000000\" d=\"M4900.298,-817.8796C4901.0151,-807.2134 4901.7889,-795.7021 4902.515,-784.9015\"/>\n<polygon fill=\"#000000\" stroke=\"#000000\" points=\"4906.0144,-785.0272 4903.1931,-774.8149 4899.0301,-784.5576 4906.0144,-785.0272\"/>\n</g>\n<!-- 258 -->\n<g id=\"node259\" class=\"node\">\n<title>258</title>\n<path fill=\"#e89152\" stroke=\"#000000\" d=\"M5121.5,-782C5121.5,-782 5005.5,-782 5005.5,-782 4999.5,-782 4993.5,-776 4993.5,-770 4993.5,-770 4993.5,-711 4993.5,-711 4993.5,-705 4999.5,-699 5005.5,-699 5005.5,-699 5121.5,-699 5121.5,-699 5127.5,-699 5133.5,-705 5133.5,-711 5133.5,-711 5133.5,-770 5133.5,-770 5133.5,-776 5127.5,-782 5121.5,-782\"/>\n<text text-anchor=\"middle\" x=\"5063.5\" y=\"-766.8\" font-family=\"Helvetica,sans-Serif\" font-size=\"14.00\" fill=\"#000000\">sibsp &lt;= 0.5</text>\n<text text-anchor=\"middle\" x=\"5063.5\" y=\"-751.8\" font-family=\"Helvetica,sans-Serif\" font-size=\"14.00\" fill=\"#000000\">gini = 0.198</text>\n<text text-anchor=\"middle\" x=\"5063.5\" y=\"-736.8\" font-family=\"Helvetica,sans-Serif\" font-size=\"14.00\" fill=\"#000000\">samples = 9</text>\n<text text-anchor=\"middle\" x=\"5063.5\" y=\"-721.8\" font-family=\"Helvetica,sans-Serif\" font-size=\"14.00\" fill=\"#000000\">value = [8, 1]</text>\n<text text-anchor=\"middle\" x=\"5063.5\" y=\"-706.8\" font-family=\"Helvetica,sans-Serif\" font-size=\"14.00\" fill=\"#000000\">class = Unsurvived</text>\n</g>\n<!-- 256&#45;&gt;258 -->\n<g id=\"edge258\" class=\"edge\">\n<title>256&#45;&gt;258</title>\n<path fill=\"none\" stroke=\"#000000\" d=\"M4955.5587,-817.8796C4968.9534,-808.2774 4983.3035,-797.9903 4997.0255,-788.1534\"/>\n<polygon fill=\"#000000\" stroke=\"#000000\" points=\"4999.3858,-790.7678 5005.474,-782.0969 4995.3074,-785.0786 4999.3858,-790.7678\"/>\n</g>\n<!-- 259 -->\n<g id=\"node260\" class=\"node\">\n<title>259</title>\n<path fill=\"#e99355\" stroke=\"#000000\" d=\"M5121.5,-655.5C5121.5,-655.5 5005.5,-655.5 5005.5,-655.5 4999.5,-655.5 4993.5,-649.5 4993.5,-643.5 4993.5,-643.5 4993.5,-599.5 4993.5,-599.5 4993.5,-593.5 4999.5,-587.5 5005.5,-587.5 5005.5,-587.5 5121.5,-587.5 5121.5,-587.5 5127.5,-587.5 5133.5,-593.5 5133.5,-599.5 5133.5,-599.5 5133.5,-643.5 5133.5,-643.5 5133.5,-649.5 5127.5,-655.5 5121.5,-655.5\"/>\n<text text-anchor=\"middle\" x=\"5063.5\" y=\"-640.3\" font-family=\"Helvetica,sans-Serif\" font-size=\"14.00\" fill=\"#000000\">gini = 0.219</text>\n<text text-anchor=\"middle\" x=\"5063.5\" y=\"-625.3\" font-family=\"Helvetica,sans-Serif\" font-size=\"14.00\" fill=\"#000000\">samples = 8</text>\n<text text-anchor=\"middle\" x=\"5063.5\" y=\"-610.3\" font-family=\"Helvetica,sans-Serif\" font-size=\"14.00\" fill=\"#000000\">value = [7, 1]</text>\n<text text-anchor=\"middle\" x=\"5063.5\" y=\"-595.3\" font-family=\"Helvetica,sans-Serif\" font-size=\"14.00\" fill=\"#000000\">class = Unsurvived</text>\n</g>\n<!-- 258&#45;&gt;259 -->\n<g id=\"edge259\" class=\"edge\">\n<title>258&#45;&gt;259</title>\n<path fill=\"none\" stroke=\"#000000\" d=\"M5063.5,-698.8796C5063.5,-688.2134 5063.5,-676.7021 5063.5,-665.9015\"/>\n<polygon fill=\"#000000\" stroke=\"#000000\" points=\"5067.0001,-665.8149 5063.5,-655.8149 5060.0001,-665.815 5067.0001,-665.8149\"/>\n</g>\n<!-- 260 -->\n<g id=\"node261\" class=\"node\">\n<title>260</title>\n<path fill=\"#e58139\" stroke=\"#000000\" d=\"M5279.5,-655.5C5279.5,-655.5 5163.5,-655.5 5163.5,-655.5 5157.5,-655.5 5151.5,-649.5 5151.5,-643.5 5151.5,-643.5 5151.5,-599.5 5151.5,-599.5 5151.5,-593.5 5157.5,-587.5 5163.5,-587.5 5163.5,-587.5 5279.5,-587.5 5279.5,-587.5 5285.5,-587.5 5291.5,-593.5 5291.5,-599.5 5291.5,-599.5 5291.5,-643.5 5291.5,-643.5 5291.5,-649.5 5285.5,-655.5 5279.5,-655.5\"/>\n<text text-anchor=\"middle\" x=\"5221.5\" y=\"-640.3\" font-family=\"Helvetica,sans-Serif\" font-size=\"14.00\" fill=\"#000000\">gini = 0.0</text>\n<text text-anchor=\"middle\" x=\"5221.5\" y=\"-625.3\" font-family=\"Helvetica,sans-Serif\" font-size=\"14.00\" fill=\"#000000\">samples = 1</text>\n<text text-anchor=\"middle\" x=\"5221.5\" y=\"-610.3\" font-family=\"Helvetica,sans-Serif\" font-size=\"14.00\" fill=\"#000000\">value = [1, 0]</text>\n<text text-anchor=\"middle\" x=\"5221.5\" y=\"-595.3\" font-family=\"Helvetica,sans-Serif\" font-size=\"14.00\" fill=\"#000000\">class = Unsurvived</text>\n</g>\n<!-- 258&#45;&gt;260 -->\n<g id=\"edge260\" class=\"edge\">\n<title>258&#45;&gt;260</title>\n<path fill=\"none\" stroke=\"#000000\" d=\"M5118.7607,-698.8796C5134.7503,-686.8368 5152.1703,-673.7167 5168.0474,-661.7586\"/>\n<polygon fill=\"#000000\" stroke=\"#000000\" points=\"5170.3116,-664.435 5176.1938,-655.623 5166.1002,-658.8435 5170.3116,-664.435\"/>\n</g>\n<!-- 264 -->\n<g id=\"node265\" class=\"node\">\n<title>264</title>\n<path fill=\"#399de5\" stroke=\"#000000\" d=\"M5255,-1012.5C5255,-1012.5 5156,-1012.5 5156,-1012.5 5150,-1012.5 5144,-1006.5 5144,-1000.5 5144,-1000.5 5144,-956.5 5144,-956.5 5144,-950.5 5150,-944.5 5156,-944.5 5156,-944.5 5255,-944.5 5255,-944.5 5261,-944.5 5267,-950.5 5267,-956.5 5267,-956.5 5267,-1000.5 5267,-1000.5 5267,-1006.5 5261,-1012.5 5255,-1012.5\"/>\n<text text-anchor=\"middle\" x=\"5205.5\" y=\"-997.3\" font-family=\"Helvetica,sans-Serif\" font-size=\"14.00\" fill=\"#000000\">gini = 0.0</text>\n<text text-anchor=\"middle\" x=\"5205.5\" y=\"-982.3\" font-family=\"Helvetica,sans-Serif\" font-size=\"14.00\" fill=\"#000000\">samples = 1</text>\n<text text-anchor=\"middle\" x=\"5205.5\" y=\"-967.3\" font-family=\"Helvetica,sans-Serif\" font-size=\"14.00\" fill=\"#000000\">value = [0, 1]</text>\n<text text-anchor=\"middle\" x=\"5205.5\" y=\"-952.3\" font-family=\"Helvetica,sans-Serif\" font-size=\"14.00\" fill=\"#000000\">class = Survived</text>\n</g>\n<!-- 263&#45;&gt;264 -->\n<g id=\"edge264\" class=\"edge\">\n<title>263&#45;&gt;264</title>\n<path fill=\"none\" stroke=\"#000000\" d=\"M5208.101,-1055.8796C5207.7425,-1045.2134 5207.3555,-1033.7021 5206.9925,-1022.9015\"/>\n<polygon fill=\"#000000\" stroke=\"#000000\" points=\"5210.4875,-1022.6917 5206.6534,-1012.8149 5203.4915,-1022.9269 5210.4875,-1022.6917\"/>\n</g>\n<!-- 265 -->\n<g id=\"node266\" class=\"node\">\n<title>265</title>\n<path fill=\"#e99355\" stroke=\"#000000\" d=\"M5413.5,-1020C5413.5,-1020 5297.5,-1020 5297.5,-1020 5291.5,-1020 5285.5,-1014 5285.5,-1008 5285.5,-1008 5285.5,-949 5285.5,-949 5285.5,-943 5291.5,-937 5297.5,-937 5297.5,-937 5413.5,-937 5413.5,-937 5419.5,-937 5425.5,-943 5425.5,-949 5425.5,-949 5425.5,-1008 5425.5,-1008 5425.5,-1014 5419.5,-1020 5413.5,-1020\"/>\n<text text-anchor=\"middle\" x=\"5355.5\" y=\"-1004.8\" font-family=\"Helvetica,sans-Serif\" font-size=\"14.00\" fill=\"#000000\">age &lt;= 29.85</text>\n<text text-anchor=\"middle\" x=\"5355.5\" y=\"-989.8\" font-family=\"Helvetica,sans-Serif\" font-size=\"14.00\" fill=\"#000000\">gini = 0.219</text>\n<text text-anchor=\"middle\" x=\"5355.5\" y=\"-974.8\" font-family=\"Helvetica,sans-Serif\" font-size=\"14.00\" fill=\"#000000\">samples = 8</text>\n<text text-anchor=\"middle\" x=\"5355.5\" y=\"-959.8\" font-family=\"Helvetica,sans-Serif\" font-size=\"14.00\" fill=\"#000000\">value = [7, 1]</text>\n<text text-anchor=\"middle\" x=\"5355.5\" y=\"-944.8\" font-family=\"Helvetica,sans-Serif\" font-size=\"14.00\" fill=\"#000000\">class = Unsurvived</text>\n</g>\n<!-- 263&#45;&gt;265 -->\n<g id=\"edge265\" class=\"edge\">\n<title>263&#45;&gt;265</title>\n<path fill=\"none\" stroke=\"#000000\" d=\"M5260.5637,-1055.8796C5272.0555,-1046.513 5284.3468,-1036.4948 5296.145,-1026.8784\"/>\n<polygon fill=\"#000000\" stroke=\"#000000\" points=\"5298.6782,-1029.329 5304.2183,-1020.2981 5294.2556,-1023.903 5298.6782,-1029.329\"/>\n</g>\n<!-- 266 -->\n<g id=\"node267\" class=\"node\">\n<title>266</title>\n<path fill=\"#e58139\" stroke=\"#000000\" d=\"M5271.5,-893.5C5271.5,-893.5 5155.5,-893.5 5155.5,-893.5 5149.5,-893.5 5143.5,-887.5 5143.5,-881.5 5143.5,-881.5 5143.5,-837.5 5143.5,-837.5 5143.5,-831.5 5149.5,-825.5 5155.5,-825.5 5155.5,-825.5 5271.5,-825.5 5271.5,-825.5 5277.5,-825.5 5283.5,-831.5 5283.5,-837.5 5283.5,-837.5 5283.5,-881.5 5283.5,-881.5 5283.5,-887.5 5277.5,-893.5 5271.5,-893.5\"/>\n<text text-anchor=\"middle\" x=\"5213.5\" y=\"-878.3\" font-family=\"Helvetica,sans-Serif\" font-size=\"14.00\" fill=\"#000000\">gini = 0.0</text>\n<text text-anchor=\"middle\" x=\"5213.5\" y=\"-863.3\" font-family=\"Helvetica,sans-Serif\" font-size=\"14.00\" fill=\"#000000\">samples = 7</text>\n<text text-anchor=\"middle\" x=\"5213.5\" y=\"-848.3\" font-family=\"Helvetica,sans-Serif\" font-size=\"14.00\" fill=\"#000000\">value = [7, 0]</text>\n<text text-anchor=\"middle\" x=\"5213.5\" y=\"-833.3\" font-family=\"Helvetica,sans-Serif\" font-size=\"14.00\" fill=\"#000000\">class = Unsurvived</text>\n</g>\n<!-- 265&#45;&gt;266 -->\n<g id=\"edge266\" class=\"edge\">\n<title>265&#45;&gt;266</title>\n<path fill=\"none\" stroke=\"#000000\" d=\"M5305.8353,-936.8796C5291.6642,-925.0038 5276.243,-912.0804 5262.1342,-900.2568\"/>\n<polygon fill=\"#000000\" stroke=\"#000000\" points=\"5264.3598,-897.5554 5254.4472,-893.8149 5259.8637,-902.9206 5264.3598,-897.5554\"/>\n</g>\n<!-- 267 -->\n<g id=\"node268\" class=\"node\">\n<title>267</title>\n<path fill=\"#399de5\" stroke=\"#000000\" d=\"M5413,-893.5C5413,-893.5 5314,-893.5 5314,-893.5 5308,-893.5 5302,-887.5 5302,-881.5 5302,-881.5 5302,-837.5 5302,-837.5 5302,-831.5 5308,-825.5 5314,-825.5 5314,-825.5 5413,-825.5 5413,-825.5 5419,-825.5 5425,-831.5 5425,-837.5 5425,-837.5 5425,-881.5 5425,-881.5 5425,-887.5 5419,-893.5 5413,-893.5\"/>\n<text text-anchor=\"middle\" x=\"5363.5\" y=\"-878.3\" font-family=\"Helvetica,sans-Serif\" font-size=\"14.00\" fill=\"#000000\">gini = 0.0</text>\n<text text-anchor=\"middle\" x=\"5363.5\" y=\"-863.3\" font-family=\"Helvetica,sans-Serif\" font-size=\"14.00\" fill=\"#000000\">samples = 1</text>\n<text text-anchor=\"middle\" x=\"5363.5\" y=\"-848.3\" font-family=\"Helvetica,sans-Serif\" font-size=\"14.00\" fill=\"#000000\">value = [0, 1]</text>\n<text text-anchor=\"middle\" x=\"5363.5\" y=\"-833.3\" font-family=\"Helvetica,sans-Serif\" font-size=\"14.00\" fill=\"#000000\">class = Survived</text>\n</g>\n<!-- 265&#45;&gt;267 -->\n<g id=\"edge267\" class=\"edge\">\n<title>265&#45;&gt;267</title>\n<path fill=\"none\" stroke=\"#000000\" d=\"M5358.298,-936.8796C5359.0151,-926.2134 5359.7889,-914.7021 5360.515,-903.9015\"/>\n<polygon fill=\"#000000\" stroke=\"#000000\" points=\"5364.0144,-904.0272 5361.1931,-893.8149 5357.0301,-903.5576 5364.0144,-904.0272\"/>\n</g>\n<!-- 269 -->\n<g id=\"node270\" class=\"node\">\n<title>269</title>\n<path fill=\"#399de5\" stroke=\"#000000\" d=\"M5413,-1250.5C5413,-1250.5 5314,-1250.5 5314,-1250.5 5308,-1250.5 5302,-1244.5 5302,-1238.5 5302,-1238.5 5302,-1194.5 5302,-1194.5 5302,-1188.5 5308,-1182.5 5314,-1182.5 5314,-1182.5 5413,-1182.5 5413,-1182.5 5419,-1182.5 5425,-1188.5 5425,-1194.5 5425,-1194.5 5425,-1238.5 5425,-1238.5 5425,-1244.5 5419,-1250.5 5413,-1250.5\"/>\n<text text-anchor=\"middle\" x=\"5363.5\" y=\"-1235.3\" font-family=\"Helvetica,sans-Serif\" font-size=\"14.00\" fill=\"#000000\">gini = 0.0</text>\n<text text-anchor=\"middle\" x=\"5363.5\" y=\"-1220.3\" font-family=\"Helvetica,sans-Serif\" font-size=\"14.00\" fill=\"#000000\">samples = 2</text>\n<text text-anchor=\"middle\" x=\"5363.5\" y=\"-1205.3\" font-family=\"Helvetica,sans-Serif\" font-size=\"14.00\" fill=\"#000000\">value = [0, 2]</text>\n<text text-anchor=\"middle\" x=\"5363.5\" y=\"-1190.3\" font-family=\"Helvetica,sans-Serif\" font-size=\"14.00\" fill=\"#000000\">class = Survived</text>\n</g>\n<!-- 268&#45;&gt;269 -->\n<g id=\"edge269\" class=\"edge\">\n<title>268&#45;&gt;269</title>\n<path fill=\"none\" stroke=\"#000000\" d=\"M5363.5,-1293.8796C5363.5,-1283.2134 5363.5,-1271.7021 5363.5,-1260.9015\"/>\n<polygon fill=\"#000000\" stroke=\"#000000\" points=\"5367.0001,-1260.8149 5363.5,-1250.8149 5360.0001,-1260.815 5367.0001,-1260.8149\"/>\n</g>\n<!-- 270 -->\n<g id=\"node271\" class=\"node\">\n<title>270</title>\n<path fill=\"#ea985c\" stroke=\"#000000\" d=\"M5650.5,-1258C5650.5,-1258 5534.5,-1258 5534.5,-1258 5528.5,-1258 5522.5,-1252 5522.5,-1246 5522.5,-1246 5522.5,-1187 5522.5,-1187 5522.5,-1181 5528.5,-1175 5534.5,-1175 5534.5,-1175 5650.5,-1175 5650.5,-1175 5656.5,-1175 5662.5,-1181 5662.5,-1187 5662.5,-1187 5662.5,-1246 5662.5,-1246 5662.5,-1252 5656.5,-1258 5650.5,-1258\"/>\n<text text-anchor=\"middle\" x=\"5592.5\" y=\"-1242.8\" font-family=\"Helvetica,sans-Serif\" font-size=\"14.00\" fill=\"#000000\">sibsp &lt;= 0.5</text>\n<text text-anchor=\"middle\" x=\"5592.5\" y=\"-1227.8\" font-family=\"Helvetica,sans-Serif\" font-size=\"14.00\" fill=\"#000000\">gini = 0.257</text>\n<text text-anchor=\"middle\" x=\"5592.5\" y=\"-1212.8\" font-family=\"Helvetica,sans-Serif\" font-size=\"14.00\" fill=\"#000000\">samples = 33</text>\n<text text-anchor=\"middle\" x=\"5592.5\" y=\"-1197.8\" font-family=\"Helvetica,sans-Serif\" font-size=\"14.00\" fill=\"#000000\">value = [28, 5]</text>\n<text text-anchor=\"middle\" x=\"5592.5\" y=\"-1182.8\" font-family=\"Helvetica,sans-Serif\" font-size=\"14.00\" fill=\"#000000\">class = Unsurvived</text>\n</g>\n<!-- 268&#45;&gt;270 -->\n<g id=\"edge270\" class=\"edge\">\n<title>268&#45;&gt;270</title>\n<path fill=\"none\" stroke=\"#000000\" d=\"M5433.7638,-1298.9874C5458.9322,-1285.9086 5487.4702,-1271.0788 5513.3398,-1257.6356\"/>\n<polygon fill=\"#000000\" stroke=\"#000000\" points=\"5515.1095,-1260.6604 5522.369,-1252.9436 5511.8817,-1254.449 5515.1095,-1260.6604\"/>\n</g>\n<!-- 271 -->\n<g id=\"node272\" class=\"node\">\n<title>271</title>\n<path fill=\"#f2c09c\" stroke=\"#000000\" d=\"M5650.5,-1139C5650.5,-1139 5534.5,-1139 5534.5,-1139 5528.5,-1139 5522.5,-1133 5522.5,-1127 5522.5,-1127 5522.5,-1068 5522.5,-1068 5522.5,-1062 5528.5,-1056 5534.5,-1056 5534.5,-1056 5650.5,-1056 5650.5,-1056 5656.5,-1056 5662.5,-1062 5662.5,-1068 5662.5,-1068 5662.5,-1127 5662.5,-1127 5662.5,-1133 5656.5,-1139 5650.5,-1139\"/>\n<text text-anchor=\"middle\" x=\"5592.5\" y=\"-1123.8\" font-family=\"Helvetica,sans-Serif\" font-size=\"14.00\" fill=\"#000000\">fare &lt;= 17.438</text>\n<text text-anchor=\"middle\" x=\"5592.5\" y=\"-1108.8\" font-family=\"Helvetica,sans-Serif\" font-size=\"14.00\" fill=\"#000000\">gini = 0.444</text>\n<text text-anchor=\"middle\" x=\"5592.5\" y=\"-1093.8\" font-family=\"Helvetica,sans-Serif\" font-size=\"14.00\" fill=\"#000000\">samples = 9</text>\n<text text-anchor=\"middle\" x=\"5592.5\" y=\"-1078.8\" font-family=\"Helvetica,sans-Serif\" font-size=\"14.00\" fill=\"#000000\">value = [6, 3]</text>\n<text text-anchor=\"middle\" x=\"5592.5\" y=\"-1063.8\" font-family=\"Helvetica,sans-Serif\" font-size=\"14.00\" fill=\"#000000\">class = Unsurvived</text>\n</g>\n<!-- 270&#45;&gt;271 -->\n<g id=\"edge271\" class=\"edge\">\n<title>270&#45;&gt;271</title>\n<path fill=\"none\" stroke=\"#000000\" d=\"M5592.5,-1174.8796C5592.5,-1166.6838 5592.5,-1157.9891 5592.5,-1149.5013\"/>\n<polygon fill=\"#000000\" stroke=\"#000000\" points=\"5596.0001,-1149.298 5592.5,-1139.2981 5589.0001,-1149.2981 5596.0001,-1149.298\"/>\n</g>\n<!-- 280 -->\n<g id=\"node281\" class=\"node\">\n<title>280</title>\n<path fill=\"#e78c4b\" stroke=\"#000000\" d=\"M5950.5,-1139C5950.5,-1139 5834.5,-1139 5834.5,-1139 5828.5,-1139 5822.5,-1133 5822.5,-1127 5822.5,-1127 5822.5,-1068 5822.5,-1068 5822.5,-1062 5828.5,-1056 5834.5,-1056 5834.5,-1056 5950.5,-1056 5950.5,-1056 5956.5,-1056 5962.5,-1062 5962.5,-1068 5962.5,-1068 5962.5,-1127 5962.5,-1127 5962.5,-1133 5956.5,-1139 5950.5,-1139\"/>\n<text text-anchor=\"middle\" x=\"5892.5\" y=\"-1123.8\" font-family=\"Helvetica,sans-Serif\" font-size=\"14.00\" fill=\"#000000\">fare &lt;= 15.797</text>\n<text text-anchor=\"middle\" x=\"5892.5\" y=\"-1108.8\" font-family=\"Helvetica,sans-Serif\" font-size=\"14.00\" fill=\"#000000\">gini = 0.153</text>\n<text text-anchor=\"middle\" x=\"5892.5\" y=\"-1093.8\" font-family=\"Helvetica,sans-Serif\" font-size=\"14.00\" fill=\"#000000\">samples = 24</text>\n<text text-anchor=\"middle\" x=\"5892.5\" y=\"-1078.8\" font-family=\"Helvetica,sans-Serif\" font-size=\"14.00\" fill=\"#000000\">value = [22, 2]</text>\n<text text-anchor=\"middle\" x=\"5892.5\" y=\"-1063.8\" font-family=\"Helvetica,sans-Serif\" font-size=\"14.00\" fill=\"#000000\">class = Unsurvived</text>\n</g>\n<!-- 270&#45;&gt;280 -->\n<g id=\"edge280\" class=\"edge\">\n<title>270&#45;&gt;280</title>\n<path fill=\"none\" stroke=\"#000000\" d=\"M5662.8367,-1188.5998C5707.7981,-1170.7651 5766.2118,-1147.5943 5812.8756,-1129.0843\"/>\n<polygon fill=\"#000000\" stroke=\"#000000\" points=\"5814.3397,-1132.269 5822.3446,-1125.3283 5811.7586,-1125.7622 5814.3397,-1132.269\"/>\n</g>\n<!-- 272 -->\n<g id=\"node273\" class=\"node\">\n<title>272</title>\n<path fill=\"#e58139\" stroke=\"#000000\" d=\"M5571.5,-1012.5C5571.5,-1012.5 5455.5,-1012.5 5455.5,-1012.5 5449.5,-1012.5 5443.5,-1006.5 5443.5,-1000.5 5443.5,-1000.5 5443.5,-956.5 5443.5,-956.5 5443.5,-950.5 5449.5,-944.5 5455.5,-944.5 5455.5,-944.5 5571.5,-944.5 5571.5,-944.5 5577.5,-944.5 5583.5,-950.5 5583.5,-956.5 5583.5,-956.5 5583.5,-1000.5 5583.5,-1000.5 5583.5,-1006.5 5577.5,-1012.5 5571.5,-1012.5\"/>\n<text text-anchor=\"middle\" x=\"5513.5\" y=\"-997.3\" font-family=\"Helvetica,sans-Serif\" font-size=\"14.00\" fill=\"#000000\">gini = 0.0</text>\n<text text-anchor=\"middle\" x=\"5513.5\" y=\"-982.3\" font-family=\"Helvetica,sans-Serif\" font-size=\"14.00\" fill=\"#000000\">samples = 2</text>\n<text text-anchor=\"middle\" x=\"5513.5\" y=\"-967.3\" font-family=\"Helvetica,sans-Serif\" font-size=\"14.00\" fill=\"#000000\">value = [2, 0]</text>\n<text text-anchor=\"middle\" x=\"5513.5\" y=\"-952.3\" font-family=\"Helvetica,sans-Serif\" font-size=\"14.00\" fill=\"#000000\">class = Unsurvived</text>\n</g>\n<!-- 271&#45;&gt;272 -->\n<g id=\"edge272\" class=\"edge\">\n<title>271&#45;&gt;272</title>\n<path fill=\"none\" stroke=\"#000000\" d=\"M5564.8696,-1055.8796C5557.4237,-1044.6636 5549.3575,-1032.5131 5541.8718,-1021.2372\"/>\n<polygon fill=\"#000000\" stroke=\"#000000\" points=\"5544.7273,-1019.2104 5536.2805,-1012.8149 5538.8954,-1023.082 5544.7273,-1019.2104\"/>\n</g>\n<!-- 273 -->\n<g id=\"node274\" class=\"node\">\n<title>273</title>\n<path fill=\"#f8e0ce\" stroke=\"#000000\" d=\"M5729.5,-1020C5729.5,-1020 5613.5,-1020 5613.5,-1020 5607.5,-1020 5601.5,-1014 5601.5,-1008 5601.5,-1008 5601.5,-949 5601.5,-949 5601.5,-943 5607.5,-937 5613.5,-937 5613.5,-937 5729.5,-937 5729.5,-937 5735.5,-937 5741.5,-943 5741.5,-949 5741.5,-949 5741.5,-1008 5741.5,-1008 5741.5,-1014 5735.5,-1020 5729.5,-1020\"/>\n<text text-anchor=\"middle\" x=\"5671.5\" y=\"-1004.8\" font-family=\"Helvetica,sans-Serif\" font-size=\"14.00\" fill=\"#000000\">age &lt;= 27.0</text>\n<text text-anchor=\"middle\" x=\"5671.5\" y=\"-989.8\" font-family=\"Helvetica,sans-Serif\" font-size=\"14.00\" fill=\"#000000\">gini = 0.49</text>\n<text text-anchor=\"middle\" x=\"5671.5\" y=\"-974.8\" font-family=\"Helvetica,sans-Serif\" font-size=\"14.00\" fill=\"#000000\">samples = 7</text>\n<text text-anchor=\"middle\" x=\"5671.5\" y=\"-959.8\" font-family=\"Helvetica,sans-Serif\" font-size=\"14.00\" fill=\"#000000\">value = [4, 3]</text>\n<text text-anchor=\"middle\" x=\"5671.5\" y=\"-944.8\" font-family=\"Helvetica,sans-Serif\" font-size=\"14.00\" fill=\"#000000\">class = Unsurvived</text>\n</g>\n<!-- 271&#45;&gt;273 -->\n<g id=\"edge273\" class=\"edge\">\n<title>271&#45;&gt;273</title>\n<path fill=\"none\" stroke=\"#000000\" d=\"M5620.1304,-1055.8796C5625.93,-1047.1434 5632.1059,-1037.8404 5638.0908,-1028.8253\"/>\n<polygon fill=\"#000000\" stroke=\"#000000\" points=\"5641.1368,-1030.5652 5643.7517,-1020.2981 5635.3049,-1026.6935 5641.1368,-1030.5652\"/>\n</g>\n<!-- 274 -->\n<g id=\"node275\" class=\"node\">\n<title>274</title>\n<path fill=\"#399de5\" stroke=\"#000000\" d=\"M5554,-893.5C5554,-893.5 5455,-893.5 5455,-893.5 5449,-893.5 5443,-887.5 5443,-881.5 5443,-881.5 5443,-837.5 5443,-837.5 5443,-831.5 5449,-825.5 5455,-825.5 5455,-825.5 5554,-825.5 5554,-825.5 5560,-825.5 5566,-831.5 5566,-837.5 5566,-837.5 5566,-881.5 5566,-881.5 5566,-887.5 5560,-893.5 5554,-893.5\"/>\n<text text-anchor=\"middle\" x=\"5504.5\" y=\"-878.3\" font-family=\"Helvetica,sans-Serif\" font-size=\"14.00\" fill=\"#000000\">gini = 0.0</text>\n<text text-anchor=\"middle\" x=\"5504.5\" y=\"-863.3\" font-family=\"Helvetica,sans-Serif\" font-size=\"14.00\" fill=\"#000000\">samples = 1</text>\n<text text-anchor=\"middle\" x=\"5504.5\" y=\"-848.3\" font-family=\"Helvetica,sans-Serif\" font-size=\"14.00\" fill=\"#000000\">value = [0, 1]</text>\n<text text-anchor=\"middle\" x=\"5504.5\" y=\"-833.3\" font-family=\"Helvetica,sans-Serif\" font-size=\"14.00\" fill=\"#000000\">class = Survived</text>\n</g>\n<!-- 273&#45;&gt;274 -->\n<g id=\"edge274\" class=\"edge\">\n<title>273&#45;&gt;274</title>\n<path fill=\"none\" stroke=\"#000000\" d=\"M5613.0915,-936.8796C5596.036,-924.7263 5577.4409,-911.4759 5560.5359,-899.4297\"/>\n<polygon fill=\"#000000\" stroke=\"#000000\" points=\"5562.562,-896.5759 5552.3869,-893.623 5558.4998,-902.2766 5562.562,-896.5759\"/>\n</g>\n<!-- 275 -->\n<g id=\"node276\" class=\"node\">\n<title>275</title>\n<path fill=\"#f2c09c\" stroke=\"#000000\" d=\"M5712.5,-901C5712.5,-901 5596.5,-901 5596.5,-901 5590.5,-901 5584.5,-895 5584.5,-889 5584.5,-889 5584.5,-830 5584.5,-830 5584.5,-824 5590.5,-818 5596.5,-818 5596.5,-818 5712.5,-818 5712.5,-818 5718.5,-818 5724.5,-824 5724.5,-830 5724.5,-830 5724.5,-889 5724.5,-889 5724.5,-895 5718.5,-901 5712.5,-901\"/>\n<text text-anchor=\"middle\" x=\"5654.5\" y=\"-885.8\" font-family=\"Helvetica,sans-Serif\" font-size=\"14.00\" fill=\"#000000\">age &lt;= 28.85</text>\n<text text-anchor=\"middle\" x=\"5654.5\" y=\"-870.8\" font-family=\"Helvetica,sans-Serif\" font-size=\"14.00\" fill=\"#000000\">gini = 0.444</text>\n<text text-anchor=\"middle\" x=\"5654.5\" y=\"-855.8\" font-family=\"Helvetica,sans-Serif\" font-size=\"14.00\" fill=\"#000000\">samples = 6</text>\n<text text-anchor=\"middle\" x=\"5654.5\" y=\"-840.8\" font-family=\"Helvetica,sans-Serif\" font-size=\"14.00\" fill=\"#000000\">value = [4, 2]</text>\n<text text-anchor=\"middle\" x=\"5654.5\" y=\"-825.8\" font-family=\"Helvetica,sans-Serif\" font-size=\"14.00\" fill=\"#000000\">class = Unsurvived</text>\n</g>\n<!-- 273&#45;&gt;275 -->\n<g id=\"edge275\" class=\"edge\">\n<title>273&#45;&gt;275</title>\n<path fill=\"none\" stroke=\"#000000\" d=\"M5665.5542,-936.8796C5664.3705,-928.5938 5663.114,-919.798 5661.8888,-911.2216\"/>\n<polygon fill=\"#000000\" stroke=\"#000000\" points=\"5665.3503,-910.7026 5660.4712,-901.2981 5658.4206,-911.6926 5665.3503,-910.7026\"/>\n</g>\n<!-- 276 -->\n<g id=\"node277\" class=\"node\">\n<title>276</title>\n<path fill=\"#e58139\" stroke=\"#000000\" d=\"M5637.5,-774.5C5637.5,-774.5 5521.5,-774.5 5521.5,-774.5 5515.5,-774.5 5509.5,-768.5 5509.5,-762.5 5509.5,-762.5 5509.5,-718.5 5509.5,-718.5 5509.5,-712.5 5515.5,-706.5 5521.5,-706.5 5521.5,-706.5 5637.5,-706.5 5637.5,-706.5 5643.5,-706.5 5649.5,-712.5 5649.5,-718.5 5649.5,-718.5 5649.5,-762.5 5649.5,-762.5 5649.5,-768.5 5643.5,-774.5 5637.5,-774.5\"/>\n<text text-anchor=\"middle\" x=\"5579.5\" y=\"-759.3\" font-family=\"Helvetica,sans-Serif\" font-size=\"14.00\" fill=\"#000000\">gini = 0.0</text>\n<text text-anchor=\"middle\" x=\"5579.5\" y=\"-744.3\" font-family=\"Helvetica,sans-Serif\" font-size=\"14.00\" fill=\"#000000\">samples = 2</text>\n<text text-anchor=\"middle\" x=\"5579.5\" y=\"-729.3\" font-family=\"Helvetica,sans-Serif\" font-size=\"14.00\" fill=\"#000000\">value = [2, 0]</text>\n<text text-anchor=\"middle\" x=\"5579.5\" y=\"-714.3\" font-family=\"Helvetica,sans-Serif\" font-size=\"14.00\" fill=\"#000000\">class = Unsurvived</text>\n</g>\n<!-- 275&#45;&gt;276 -->\n<g id=\"edge276\" class=\"edge\">\n<title>275&#45;&gt;276</title>\n<path fill=\"none\" stroke=\"#000000\" d=\"M5628.2686,-817.8796C5621.269,-806.7735 5613.692,-794.7513 5606.6444,-783.5691\"/>\n<polygon fill=\"#000000\" stroke=\"#000000\" points=\"5609.42,-781.4087 5601.1271,-774.8149 5603.498,-785.1411 5609.42,-781.4087\"/>\n</g>\n<!-- 277 -->\n<g id=\"node278\" class=\"node\">\n<title>277</title>\n<path fill=\"#ffffff\" stroke=\"#000000\" d=\"M5795.5,-782C5795.5,-782 5679.5,-782 5679.5,-782 5673.5,-782 5667.5,-776 5667.5,-770 5667.5,-770 5667.5,-711 5667.5,-711 5667.5,-705 5673.5,-699 5679.5,-699 5679.5,-699 5795.5,-699 5795.5,-699 5801.5,-699 5807.5,-705 5807.5,-711 5807.5,-711 5807.5,-770 5807.5,-770 5807.5,-776 5801.5,-782 5795.5,-782\"/>\n<text text-anchor=\"middle\" x=\"5737.5\" y=\"-766.8\" font-family=\"Helvetica,sans-Serif\" font-size=\"14.00\" fill=\"#000000\">fare &lt;= 40.328</text>\n<text text-anchor=\"middle\" x=\"5737.5\" y=\"-751.8\" font-family=\"Helvetica,sans-Serif\" font-size=\"14.00\" fill=\"#000000\">gini = 0.5</text>\n<text text-anchor=\"middle\" x=\"5737.5\" y=\"-736.8\" font-family=\"Helvetica,sans-Serif\" font-size=\"14.00\" fill=\"#000000\">samples = 4</text>\n<text text-anchor=\"middle\" x=\"5737.5\" y=\"-721.8\" font-family=\"Helvetica,sans-Serif\" font-size=\"14.00\" fill=\"#000000\">value = [2, 2]</text>\n<text text-anchor=\"middle\" x=\"5737.5\" y=\"-706.8\" font-family=\"Helvetica,sans-Serif\" font-size=\"14.00\" fill=\"#000000\">class = Unsurvived</text>\n</g>\n<!-- 275&#45;&gt;277 -->\n<g id=\"edge277\" class=\"edge\">\n<title>275&#45;&gt;277</title>\n<path fill=\"none\" stroke=\"#000000\" d=\"M5683.5294,-817.8796C5689.6855,-809.0534 5696.2451,-799.6485 5702.5936,-790.5466\"/>\n<polygon fill=\"#000000\" stroke=\"#000000\" points=\"5705.4967,-792.5024 5708.3467,-782.2981 5699.7552,-788.4978 5705.4967,-792.5024\"/>\n</g>\n<!-- 278 -->\n<g id=\"node279\" class=\"node\">\n<title>278</title>\n<path fill=\"#e58139\" stroke=\"#000000\" d=\"M5739.5,-655.5C5739.5,-655.5 5623.5,-655.5 5623.5,-655.5 5617.5,-655.5 5611.5,-649.5 5611.5,-643.5 5611.5,-643.5 5611.5,-599.5 5611.5,-599.5 5611.5,-593.5 5617.5,-587.5 5623.5,-587.5 5623.5,-587.5 5739.5,-587.5 5739.5,-587.5 5745.5,-587.5 5751.5,-593.5 5751.5,-599.5 5751.5,-599.5 5751.5,-643.5 5751.5,-643.5 5751.5,-649.5 5745.5,-655.5 5739.5,-655.5\"/>\n<text text-anchor=\"middle\" x=\"5681.5\" y=\"-640.3\" font-family=\"Helvetica,sans-Serif\" font-size=\"14.00\" fill=\"#000000\">gini = 0.0</text>\n<text text-anchor=\"middle\" x=\"5681.5\" y=\"-625.3\" font-family=\"Helvetica,sans-Serif\" font-size=\"14.00\" fill=\"#000000\">samples = 1</text>\n<text text-anchor=\"middle\" x=\"5681.5\" y=\"-610.3\" font-family=\"Helvetica,sans-Serif\" font-size=\"14.00\" fill=\"#000000\">value = [1, 0]</text>\n<text text-anchor=\"middle\" x=\"5681.5\" y=\"-595.3\" font-family=\"Helvetica,sans-Serif\" font-size=\"14.00\" fill=\"#000000\">class = Unsurvived</text>\n</g>\n<!-- 277&#45;&gt;278 -->\n<g id=\"edge278\" class=\"edge\">\n<title>277&#45;&gt;278</title>\n<path fill=\"none\" stroke=\"#000000\" d=\"M5717.9139,-698.8796C5712.7393,-687.8835 5707.142,-675.9893 5701.9242,-664.9015\"/>\n<polygon fill=\"#000000\" stroke=\"#000000\" points=\"5705.0731,-663.3728 5697.6482,-655.8149 5698.7394,-666.3534 5705.0731,-663.3728\"/>\n</g>\n<!-- 279 -->\n<g id=\"node280\" class=\"node\">\n<title>279</title>\n<path fill=\"#9ccef2\" stroke=\"#000000\" d=\"M5881,-655.5C5881,-655.5 5782,-655.5 5782,-655.5 5776,-655.5 5770,-649.5 5770,-643.5 5770,-643.5 5770,-599.5 5770,-599.5 5770,-593.5 5776,-587.5 5782,-587.5 5782,-587.5 5881,-587.5 5881,-587.5 5887,-587.5 5893,-593.5 5893,-599.5 5893,-599.5 5893,-643.5 5893,-643.5 5893,-649.5 5887,-655.5 5881,-655.5\"/>\n<text text-anchor=\"middle\" x=\"5831.5\" y=\"-640.3\" font-family=\"Helvetica,sans-Serif\" font-size=\"14.00\" fill=\"#000000\">gini = 0.444</text>\n<text text-anchor=\"middle\" x=\"5831.5\" y=\"-625.3\" font-family=\"Helvetica,sans-Serif\" font-size=\"14.00\" fill=\"#000000\">samples = 3</text>\n<text text-anchor=\"middle\" x=\"5831.5\" y=\"-610.3\" font-family=\"Helvetica,sans-Serif\" font-size=\"14.00\" fill=\"#000000\">value = [1, 2]</text>\n<text text-anchor=\"middle\" x=\"5831.5\" y=\"-595.3\" font-family=\"Helvetica,sans-Serif\" font-size=\"14.00\" fill=\"#000000\">class = Survived</text>\n</g>\n<!-- 277&#45;&gt;279 -->\n<g id=\"edge279\" class=\"edge\">\n<title>277&#45;&gt;279</title>\n<path fill=\"none\" stroke=\"#000000\" d=\"M5770.3766,-698.8796C5779.3232,-687.5536 5789.0224,-675.2748 5798.0029,-663.9058\"/>\n<polygon fill=\"#000000\" stroke=\"#000000\" points=\"5800.942,-665.8316 5804.3941,-655.8149 5795.449,-661.4926 5800.942,-665.8316\"/>\n</g>\n<!-- 281 -->\n<g id=\"node282\" class=\"node\">\n<title>281</title>\n<path fill=\"#f2c09c\" stroke=\"#000000\" d=\"M5950.5,-1020C5950.5,-1020 5834.5,-1020 5834.5,-1020 5828.5,-1020 5822.5,-1014 5822.5,-1008 5822.5,-1008 5822.5,-949 5822.5,-949 5822.5,-943 5828.5,-937 5834.5,-937 5834.5,-937 5950.5,-937 5950.5,-937 5956.5,-937 5962.5,-943 5962.5,-949 5962.5,-949 5962.5,-1008 5962.5,-1008 5962.5,-1014 5956.5,-1020 5950.5,-1020\"/>\n<text text-anchor=\"middle\" x=\"5892.5\" y=\"-1004.8\" font-family=\"Helvetica,sans-Serif\" font-size=\"14.00\" fill=\"#000000\">age &lt;= 24.85</text>\n<text text-anchor=\"middle\" x=\"5892.5\" y=\"-989.8\" font-family=\"Helvetica,sans-Serif\" font-size=\"14.00\" fill=\"#000000\">gini = 0.444</text>\n<text text-anchor=\"middle\" x=\"5892.5\" y=\"-974.8\" font-family=\"Helvetica,sans-Serif\" font-size=\"14.00\" fill=\"#000000\">samples = 3</text>\n<text text-anchor=\"middle\" x=\"5892.5\" y=\"-959.8\" font-family=\"Helvetica,sans-Serif\" font-size=\"14.00\" fill=\"#000000\">value = [2, 1]</text>\n<text text-anchor=\"middle\" x=\"5892.5\" y=\"-944.8\" font-family=\"Helvetica,sans-Serif\" font-size=\"14.00\" fill=\"#000000\">class = Unsurvived</text>\n</g>\n<!-- 280&#45;&gt;281 -->\n<g id=\"edge281\" class=\"edge\">\n<title>280&#45;&gt;281</title>\n<path fill=\"none\" stroke=\"#000000\" d=\"M5892.5,-1055.8796C5892.5,-1047.6838 5892.5,-1038.9891 5892.5,-1030.5013\"/>\n<polygon fill=\"#000000\" stroke=\"#000000\" points=\"5896.0001,-1030.298 5892.5,-1020.2981 5889.0001,-1030.2981 5896.0001,-1030.298\"/>\n</g>\n<!-- 284 -->\n<g id=\"node285\" class=\"node\">\n<title>284</title>\n<path fill=\"#e68743\" stroke=\"#000000\" d=\"M6170.5,-1020C6170.5,-1020 6054.5,-1020 6054.5,-1020 6048.5,-1020 6042.5,-1014 6042.5,-1008 6042.5,-1008 6042.5,-949 6042.5,-949 6042.5,-943 6048.5,-937 6054.5,-937 6054.5,-937 6170.5,-937 6170.5,-937 6176.5,-937 6182.5,-943 6182.5,-949 6182.5,-949 6182.5,-1008 6182.5,-1008 6182.5,-1014 6176.5,-1020 6170.5,-1020\"/>\n<text text-anchor=\"middle\" x=\"6112.5\" y=\"-1004.8\" font-family=\"Helvetica,sans-Serif\" font-size=\"14.00\" fill=\"#000000\">sibsp &lt;= 1.5</text>\n<text text-anchor=\"middle\" x=\"6112.5\" y=\"-989.8\" font-family=\"Helvetica,sans-Serif\" font-size=\"14.00\" fill=\"#000000\">gini = 0.091</text>\n<text text-anchor=\"middle\" x=\"6112.5\" y=\"-974.8\" font-family=\"Helvetica,sans-Serif\" font-size=\"14.00\" fill=\"#000000\">samples = 21</text>\n<text text-anchor=\"middle\" x=\"6112.5\" y=\"-959.8\" font-family=\"Helvetica,sans-Serif\" font-size=\"14.00\" fill=\"#000000\">value = [20, 1]</text>\n<text text-anchor=\"middle\" x=\"6112.5\" y=\"-944.8\" font-family=\"Helvetica,sans-Serif\" font-size=\"14.00\" fill=\"#000000\">class = Unsurvived</text>\n</g>\n<!-- 280&#45;&gt;284 -->\n<g id=\"edge284\" class=\"edge\">\n<title>280&#45;&gt;284</title>\n<path fill=\"none\" stroke=\"#000000\" d=\"M5962.7142,-1059.5205C5985.1392,-1047.3906 6010.1137,-1033.8817 6033.1413,-1021.4258\"/>\n<polygon fill=\"#000000\" stroke=\"#000000\" points=\"6035.0677,-1024.3631 6042.1982,-1016.5269 6031.7373,-1018.2061 6035.0677,-1024.3631\"/>\n</g>\n<!-- 282 -->\n<g id=\"node283\" class=\"node\">\n<title>282</title>\n<path fill=\"#399de5\" stroke=\"#000000\" d=\"M5854,-893.5C5854,-893.5 5755,-893.5 5755,-893.5 5749,-893.5 5743,-887.5 5743,-881.5 5743,-881.5 5743,-837.5 5743,-837.5 5743,-831.5 5749,-825.5 5755,-825.5 5755,-825.5 5854,-825.5 5854,-825.5 5860,-825.5 5866,-831.5 5866,-837.5 5866,-837.5 5866,-881.5 5866,-881.5 5866,-887.5 5860,-893.5 5854,-893.5\"/>\n<text text-anchor=\"middle\" x=\"5804.5\" y=\"-878.3\" font-family=\"Helvetica,sans-Serif\" font-size=\"14.00\" fill=\"#000000\">gini = 0.0</text>\n<text text-anchor=\"middle\" x=\"5804.5\" y=\"-863.3\" font-family=\"Helvetica,sans-Serif\" font-size=\"14.00\" fill=\"#000000\">samples = 1</text>\n<text text-anchor=\"middle\" x=\"5804.5\" y=\"-848.3\" font-family=\"Helvetica,sans-Serif\" font-size=\"14.00\" fill=\"#000000\">value = [0, 1]</text>\n<text text-anchor=\"middle\" x=\"5804.5\" y=\"-833.3\" font-family=\"Helvetica,sans-Serif\" font-size=\"14.00\" fill=\"#000000\">class = Survived</text>\n</g>\n<!-- 281&#45;&gt;282 -->\n<g id=\"edge282\" class=\"edge\">\n<title>281&#45;&gt;282</title>\n<path fill=\"none\" stroke=\"#000000\" d=\"M5861.7219,-936.8796C5853.3464,-925.5536 5844.2662,-913.2748 5835.8589,-901.9058\"/>\n<polygon fill=\"#000000\" stroke=\"#000000\" points=\"5838.6357,-899.7743 5829.8758,-893.8149 5833.0075,-903.9364 5838.6357,-899.7743\"/>\n</g>\n<!-- 283 -->\n<g id=\"node284\" class=\"node\">\n<title>283</title>\n<path fill=\"#e58139\" stroke=\"#000000\" d=\"M6012.5,-893.5C6012.5,-893.5 5896.5,-893.5 5896.5,-893.5 5890.5,-893.5 5884.5,-887.5 5884.5,-881.5 5884.5,-881.5 5884.5,-837.5 5884.5,-837.5 5884.5,-831.5 5890.5,-825.5 5896.5,-825.5 5896.5,-825.5 6012.5,-825.5 6012.5,-825.5 6018.5,-825.5 6024.5,-831.5 6024.5,-837.5 6024.5,-837.5 6024.5,-881.5 6024.5,-881.5 6024.5,-887.5 6018.5,-893.5 6012.5,-893.5\"/>\n<text text-anchor=\"middle\" x=\"5954.5\" y=\"-878.3\" font-family=\"Helvetica,sans-Serif\" font-size=\"14.00\" fill=\"#000000\">gini = 0.0</text>\n<text text-anchor=\"middle\" x=\"5954.5\" y=\"-863.3\" font-family=\"Helvetica,sans-Serif\" font-size=\"14.00\" fill=\"#000000\">samples = 2</text>\n<text text-anchor=\"middle\" x=\"5954.5\" y=\"-848.3\" font-family=\"Helvetica,sans-Serif\" font-size=\"14.00\" fill=\"#000000\">value = [2, 0]</text>\n<text text-anchor=\"middle\" x=\"5954.5\" y=\"-833.3\" font-family=\"Helvetica,sans-Serif\" font-size=\"14.00\" fill=\"#000000\">class = Unsurvived</text>\n</g>\n<!-- 281&#45;&gt;283 -->\n<g id=\"edge283\" class=\"edge\">\n<title>281&#45;&gt;283</title>\n<path fill=\"none\" stroke=\"#000000\" d=\"M5914.1846,-936.8796C5919.9136,-925.8835 5926.1106,-913.9893 5931.8874,-902.9015\"/>\n<polygon fill=\"#000000\" stroke=\"#000000\" points=\"5935.105,-904.3007 5936.6216,-893.8149 5928.897,-901.0662 5935.105,-904.3007\"/>\n</g>\n<!-- 285 -->\n<g id=\"node286\" class=\"node\">\n<title>285</title>\n<path fill=\"#e58139\" stroke=\"#000000\" d=\"M6170.5,-893.5C6170.5,-893.5 6054.5,-893.5 6054.5,-893.5 6048.5,-893.5 6042.5,-887.5 6042.5,-881.5 6042.5,-881.5 6042.5,-837.5 6042.5,-837.5 6042.5,-831.5 6048.5,-825.5 6054.5,-825.5 6054.5,-825.5 6170.5,-825.5 6170.5,-825.5 6176.5,-825.5 6182.5,-831.5 6182.5,-837.5 6182.5,-837.5 6182.5,-881.5 6182.5,-881.5 6182.5,-887.5 6176.5,-893.5 6170.5,-893.5\"/>\n<text text-anchor=\"middle\" x=\"6112.5\" y=\"-878.3\" font-family=\"Helvetica,sans-Serif\" font-size=\"14.00\" fill=\"#000000\">gini = 0.0</text>\n<text text-anchor=\"middle\" x=\"6112.5\" y=\"-863.3\" font-family=\"Helvetica,sans-Serif\" font-size=\"14.00\" fill=\"#000000\">samples = 12</text>\n<text text-anchor=\"middle\" x=\"6112.5\" y=\"-848.3\" font-family=\"Helvetica,sans-Serif\" font-size=\"14.00\" fill=\"#000000\">value = [12, 0]</text>\n<text text-anchor=\"middle\" x=\"6112.5\" y=\"-833.3\" font-family=\"Helvetica,sans-Serif\" font-size=\"14.00\" fill=\"#000000\">class = Unsurvived</text>\n</g>\n<!-- 284&#45;&gt;285 -->\n<g id=\"edge285\" class=\"edge\">\n<title>284&#45;&gt;285</title>\n<path fill=\"none\" stroke=\"#000000\" d=\"M6112.5,-936.8796C6112.5,-926.2134 6112.5,-914.7021 6112.5,-903.9015\"/>\n<polygon fill=\"#000000\" stroke=\"#000000\" points=\"6116.0001,-903.8149 6112.5,-893.8149 6109.0001,-903.815 6116.0001,-903.8149\"/>\n</g>\n<!-- 286 -->\n<g id=\"node287\" class=\"node\">\n<title>286</title>\n<path fill=\"#e89152\" stroke=\"#000000\" d=\"M6328.5,-901C6328.5,-901 6212.5,-901 6212.5,-901 6206.5,-901 6200.5,-895 6200.5,-889 6200.5,-889 6200.5,-830 6200.5,-830 6200.5,-824 6206.5,-818 6212.5,-818 6212.5,-818 6328.5,-818 6328.5,-818 6334.5,-818 6340.5,-824 6340.5,-830 6340.5,-830 6340.5,-889 6340.5,-889 6340.5,-895 6334.5,-901 6328.5,-901\"/>\n<text text-anchor=\"middle\" x=\"6270.5\" y=\"-885.8\" font-family=\"Helvetica,sans-Serif\" font-size=\"14.00\" fill=\"#000000\">fare &lt;= 23.703</text>\n<text text-anchor=\"middle\" x=\"6270.5\" y=\"-870.8\" font-family=\"Helvetica,sans-Serif\" font-size=\"14.00\" fill=\"#000000\">gini = 0.198</text>\n<text text-anchor=\"middle\" x=\"6270.5\" y=\"-855.8\" font-family=\"Helvetica,sans-Serif\" font-size=\"14.00\" fill=\"#000000\">samples = 9</text>\n<text text-anchor=\"middle\" x=\"6270.5\" y=\"-840.8\" font-family=\"Helvetica,sans-Serif\" font-size=\"14.00\" fill=\"#000000\">value = [8, 1]</text>\n<text text-anchor=\"middle\" x=\"6270.5\" y=\"-825.8\" font-family=\"Helvetica,sans-Serif\" font-size=\"14.00\" fill=\"#000000\">class = Unsurvived</text>\n</g>\n<!-- 284&#45;&gt;286 -->\n<g id=\"edge286\" class=\"edge\">\n<title>284&#45;&gt;286</title>\n<path fill=\"none\" stroke=\"#000000\" d=\"M6167.7607,-936.8796C6180.5099,-927.2774 6194.1683,-916.9903 6207.2291,-907.1534\"/>\n<polygon fill=\"#000000\" stroke=\"#000000\" points=\"6209.3883,-909.9089 6215.2705,-901.0969 6205.1769,-904.3174 6209.3883,-909.9089\"/>\n</g>\n<!-- 287 -->\n<g id=\"node288\" class=\"node\">\n<title>287</title>\n<path fill=\"#ffffff\" stroke=\"#000000\" d=\"M6170.5,-782C6170.5,-782 6054.5,-782 6054.5,-782 6048.5,-782 6042.5,-776 6042.5,-770 6042.5,-770 6042.5,-711 6042.5,-711 6042.5,-705 6048.5,-699 6054.5,-699 6054.5,-699 6170.5,-699 6170.5,-699 6176.5,-699 6182.5,-705 6182.5,-711 6182.5,-711 6182.5,-770 6182.5,-770 6182.5,-776 6176.5,-782 6170.5,-782\"/>\n<text text-anchor=\"middle\" x=\"6112.5\" y=\"-766.8\" font-family=\"Helvetica,sans-Serif\" font-size=\"14.00\" fill=\"#000000\">age &lt;= 22.85</text>\n<text text-anchor=\"middle\" x=\"6112.5\" y=\"-751.8\" font-family=\"Helvetica,sans-Serif\" font-size=\"14.00\" fill=\"#000000\">gini = 0.5</text>\n<text text-anchor=\"middle\" x=\"6112.5\" y=\"-736.8\" font-family=\"Helvetica,sans-Serif\" font-size=\"14.00\" fill=\"#000000\">samples = 2</text>\n<text text-anchor=\"middle\" x=\"6112.5\" y=\"-721.8\" font-family=\"Helvetica,sans-Serif\" font-size=\"14.00\" fill=\"#000000\">value = [1, 1]</text>\n<text text-anchor=\"middle\" x=\"6112.5\" y=\"-706.8\" font-family=\"Helvetica,sans-Serif\" font-size=\"14.00\" fill=\"#000000\">class = Unsurvived</text>\n</g>\n<!-- 286&#45;&gt;287 -->\n<g id=\"edge287\" class=\"edge\">\n<title>286&#45;&gt;287</title>\n<path fill=\"none\" stroke=\"#000000\" d=\"M6215.2393,-817.8796C6202.4901,-808.2774 6188.8317,-797.9903 6175.7709,-788.1534\"/>\n<polygon fill=\"#000000\" stroke=\"#000000\" points=\"6177.8231,-785.3174 6167.7295,-782.0969 6173.6117,-790.9089 6177.8231,-785.3174\"/>\n</g>\n<!-- 290 -->\n<g id=\"node291\" class=\"node\">\n<title>290</title>\n<path fill=\"#e58139\" stroke=\"#000000\" d=\"M6328.5,-774.5C6328.5,-774.5 6212.5,-774.5 6212.5,-774.5 6206.5,-774.5 6200.5,-768.5 6200.5,-762.5 6200.5,-762.5 6200.5,-718.5 6200.5,-718.5 6200.5,-712.5 6206.5,-706.5 6212.5,-706.5 6212.5,-706.5 6328.5,-706.5 6328.5,-706.5 6334.5,-706.5 6340.5,-712.5 6340.5,-718.5 6340.5,-718.5 6340.5,-762.5 6340.5,-762.5 6340.5,-768.5 6334.5,-774.5 6328.5,-774.5\"/>\n<text text-anchor=\"middle\" x=\"6270.5\" y=\"-759.3\" font-family=\"Helvetica,sans-Serif\" font-size=\"14.00\" fill=\"#000000\">gini = 0.0</text>\n<text text-anchor=\"middle\" x=\"6270.5\" y=\"-744.3\" font-family=\"Helvetica,sans-Serif\" font-size=\"14.00\" fill=\"#000000\">samples = 7</text>\n<text text-anchor=\"middle\" x=\"6270.5\" y=\"-729.3\" font-family=\"Helvetica,sans-Serif\" font-size=\"14.00\" fill=\"#000000\">value = [7, 0]</text>\n<text text-anchor=\"middle\" x=\"6270.5\" y=\"-714.3\" font-family=\"Helvetica,sans-Serif\" font-size=\"14.00\" fill=\"#000000\">class = Unsurvived</text>\n</g>\n<!-- 286&#45;&gt;290 -->\n<g id=\"edge290\" class=\"edge\">\n<title>286&#45;&gt;290</title>\n<path fill=\"none\" stroke=\"#000000\" d=\"M6270.5,-817.8796C6270.5,-807.2134 6270.5,-795.7021 6270.5,-784.9015\"/>\n<polygon fill=\"#000000\" stroke=\"#000000\" points=\"6274.0001,-784.8149 6270.5,-774.8149 6267.0001,-784.815 6274.0001,-784.8149\"/>\n</g>\n<!-- 288 -->\n<g id=\"node289\" class=\"node\">\n<title>288</title>\n<path fill=\"#e58139\" stroke=\"#000000\" d=\"M6076.5,-655.5C6076.5,-655.5 5960.5,-655.5 5960.5,-655.5 5954.5,-655.5 5948.5,-649.5 5948.5,-643.5 5948.5,-643.5 5948.5,-599.5 5948.5,-599.5 5948.5,-593.5 5954.5,-587.5 5960.5,-587.5 5960.5,-587.5 6076.5,-587.5 6076.5,-587.5 6082.5,-587.5 6088.5,-593.5 6088.5,-599.5 6088.5,-599.5 6088.5,-643.5 6088.5,-643.5 6088.5,-649.5 6082.5,-655.5 6076.5,-655.5\"/>\n<text text-anchor=\"middle\" x=\"6018.5\" y=\"-640.3\" font-family=\"Helvetica,sans-Serif\" font-size=\"14.00\" fill=\"#000000\">gini = 0.0</text>\n<text text-anchor=\"middle\" x=\"6018.5\" y=\"-625.3\" font-family=\"Helvetica,sans-Serif\" font-size=\"14.00\" fill=\"#000000\">samples = 1</text>\n<text text-anchor=\"middle\" x=\"6018.5\" y=\"-610.3\" font-family=\"Helvetica,sans-Serif\" font-size=\"14.00\" fill=\"#000000\">value = [1, 0]</text>\n<text text-anchor=\"middle\" x=\"6018.5\" y=\"-595.3\" font-family=\"Helvetica,sans-Serif\" font-size=\"14.00\" fill=\"#000000\">class = Unsurvived</text>\n</g>\n<!-- 287&#45;&gt;288 -->\n<g id=\"edge288\" class=\"edge\">\n<title>287&#45;&gt;288</title>\n<path fill=\"none\" stroke=\"#000000\" d=\"M6079.6234,-698.8796C6070.6768,-687.5536 6060.9776,-675.2748 6051.9971,-663.9058\"/>\n<polygon fill=\"#000000\" stroke=\"#000000\" points=\"6054.551,-661.4926 6045.6059,-655.8149 6049.058,-665.8316 6054.551,-661.4926\"/>\n</g>\n<!-- 289 -->\n<g id=\"node290\" class=\"node\">\n<title>289</title>\n<path fill=\"#399de5\" stroke=\"#000000\" d=\"M6218,-655.5C6218,-655.5 6119,-655.5 6119,-655.5 6113,-655.5 6107,-649.5 6107,-643.5 6107,-643.5 6107,-599.5 6107,-599.5 6107,-593.5 6113,-587.5 6119,-587.5 6119,-587.5 6218,-587.5 6218,-587.5 6224,-587.5 6230,-593.5 6230,-599.5 6230,-599.5 6230,-643.5 6230,-643.5 6230,-649.5 6224,-655.5 6218,-655.5\"/>\n<text text-anchor=\"middle\" x=\"6168.5\" y=\"-640.3\" font-family=\"Helvetica,sans-Serif\" font-size=\"14.00\" fill=\"#000000\">gini = 0.0</text>\n<text text-anchor=\"middle\" x=\"6168.5\" y=\"-625.3\" font-family=\"Helvetica,sans-Serif\" font-size=\"14.00\" fill=\"#000000\">samples = 1</text>\n<text text-anchor=\"middle\" x=\"6168.5\" y=\"-610.3\" font-family=\"Helvetica,sans-Serif\" font-size=\"14.00\" fill=\"#000000\">value = [0, 1]</text>\n<text text-anchor=\"middle\" x=\"6168.5\" y=\"-595.3\" font-family=\"Helvetica,sans-Serif\" font-size=\"14.00\" fill=\"#000000\">class = Survived</text>\n</g>\n<!-- 287&#45;&gt;289 -->\n<g id=\"edge289\" class=\"edge\">\n<title>287&#45;&gt;289</title>\n<path fill=\"none\" stroke=\"#000000\" d=\"M6132.0861,-698.8796C6137.2607,-687.8835 6142.858,-675.9893 6148.0758,-664.9015\"/>\n<polygon fill=\"#000000\" stroke=\"#000000\" points=\"6151.2606,-666.3534 6152.3518,-655.8149 6144.9269,-663.3728 6151.2606,-666.3534\"/>\n</g>\n<!-- 292 -->\n<g id=\"node293\" class=\"node\">\n<title>292</title>\n<path fill=\"#e58139\" stroke=\"#000000\" d=\"M5614.5,-1607.5C5614.5,-1607.5 5498.5,-1607.5 5498.5,-1607.5 5492.5,-1607.5 5486.5,-1601.5 5486.5,-1595.5 5486.5,-1595.5 5486.5,-1551.5 5486.5,-1551.5 5486.5,-1545.5 5492.5,-1539.5 5498.5,-1539.5 5498.5,-1539.5 5614.5,-1539.5 5614.5,-1539.5 5620.5,-1539.5 5626.5,-1545.5 5626.5,-1551.5 5626.5,-1551.5 5626.5,-1595.5 5626.5,-1595.5 5626.5,-1601.5 5620.5,-1607.5 5614.5,-1607.5\"/>\n<text text-anchor=\"middle\" x=\"5556.5\" y=\"-1592.3\" font-family=\"Helvetica,sans-Serif\" font-size=\"14.00\" fill=\"#000000\">gini = 0.0</text>\n<text text-anchor=\"middle\" x=\"5556.5\" y=\"-1577.3\" font-family=\"Helvetica,sans-Serif\" font-size=\"14.00\" fill=\"#000000\">samples = 3</text>\n<text text-anchor=\"middle\" x=\"5556.5\" y=\"-1562.3\" font-family=\"Helvetica,sans-Serif\" font-size=\"14.00\" fill=\"#000000\">value = [3, 0]</text>\n<text text-anchor=\"middle\" x=\"5556.5\" y=\"-1547.3\" font-family=\"Helvetica,sans-Serif\" font-size=\"14.00\" fill=\"#000000\">class = Unsurvived</text>\n</g>\n<!-- 291&#45;&gt;292 -->\n<g id=\"edge292\" class=\"edge\">\n<title>291&#45;&gt;292</title>\n<path fill=\"none\" stroke=\"#000000\" d=\"M5556.5,-1650.8796C5556.5,-1640.2134 5556.5,-1628.7021 5556.5,-1617.9015\"/>\n<polygon fill=\"#000000\" stroke=\"#000000\" points=\"5560.0001,-1617.8149 5556.5,-1607.8149 5553.0001,-1617.815 5560.0001,-1617.8149\"/>\n</g>\n<!-- 293 -->\n<g id=\"node294\" class=\"node\">\n<title>293</title>\n<path fill=\"#f9e3d3\" stroke=\"#000000\" d=\"M5945.5,-1615C5945.5,-1615 5829.5,-1615 5829.5,-1615 5823.5,-1615 5817.5,-1609 5817.5,-1603 5817.5,-1603 5817.5,-1544 5817.5,-1544 5817.5,-1538 5823.5,-1532 5829.5,-1532 5829.5,-1532 5945.5,-1532 5945.5,-1532 5951.5,-1532 5957.5,-1538 5957.5,-1544 5957.5,-1544 5957.5,-1603 5957.5,-1603 5957.5,-1609 5951.5,-1615 5945.5,-1615\"/>\n<text text-anchor=\"middle\" x=\"5887.5\" y=\"-1599.8\" font-family=\"Helvetica,sans-Serif\" font-size=\"14.00\" fill=\"#000000\">parch &lt;= 0.5</text>\n<text text-anchor=\"middle\" x=\"5887.5\" y=\"-1584.8\" font-family=\"Helvetica,sans-Serif\" font-size=\"14.00\" fill=\"#000000\">gini = 0.492</text>\n<text text-anchor=\"middle\" x=\"5887.5\" y=\"-1569.8\" font-family=\"Helvetica,sans-Serif\" font-size=\"14.00\" fill=\"#000000\">samples = 16</text>\n<text text-anchor=\"middle\" x=\"5887.5\" y=\"-1554.8\" font-family=\"Helvetica,sans-Serif\" font-size=\"14.00\" fill=\"#000000\">value = [9, 7]</text>\n<text text-anchor=\"middle\" x=\"5887.5\" y=\"-1539.8\" font-family=\"Helvetica,sans-Serif\" font-size=\"14.00\" fill=\"#000000\">class = Unsurvived</text>\n</g>\n<!-- 291&#45;&gt;293 -->\n<g id=\"edge293\" class=\"edge\">\n<title>291&#45;&gt;293</title>\n<path fill=\"none\" stroke=\"#000000\" d=\"M5626.6966,-1667.2632C5679.6868,-1648.2123 5752.4505,-1622.0525 5807.6583,-1602.2044\"/>\n<polygon fill=\"#000000\" stroke=\"#000000\" points=\"5809.1784,-1605.3773 5817.4046,-1598.7005 5806.8101,-1598.7901 5809.1784,-1605.3773\"/>\n</g>\n<!-- 294 -->\n<g id=\"node295\" class=\"node\">\n<title>294</title>\n<path fill=\"#ffffff\" stroke=\"#000000\" d=\"M5945.5,-1496C5945.5,-1496 5829.5,-1496 5829.5,-1496 5823.5,-1496 5817.5,-1490 5817.5,-1484 5817.5,-1484 5817.5,-1425 5817.5,-1425 5817.5,-1419 5823.5,-1413 5829.5,-1413 5829.5,-1413 5945.5,-1413 5945.5,-1413 5951.5,-1413 5957.5,-1419 5957.5,-1425 5957.5,-1425 5957.5,-1484 5957.5,-1484 5957.5,-1490 5951.5,-1496 5945.5,-1496\"/>\n<text text-anchor=\"middle\" x=\"5887.5\" y=\"-1480.8\" font-family=\"Helvetica,sans-Serif\" font-size=\"14.00\" fill=\"#000000\">fare &lt;= 7.875</text>\n<text text-anchor=\"middle\" x=\"5887.5\" y=\"-1465.8\" font-family=\"Helvetica,sans-Serif\" font-size=\"14.00\" fill=\"#000000\">gini = 0.5</text>\n<text text-anchor=\"middle\" x=\"5887.5\" y=\"-1450.8\" font-family=\"Helvetica,sans-Serif\" font-size=\"14.00\" fill=\"#000000\">samples = 14</text>\n<text text-anchor=\"middle\" x=\"5887.5\" y=\"-1435.8\" font-family=\"Helvetica,sans-Serif\" font-size=\"14.00\" fill=\"#000000\">value = [7, 7]</text>\n<text text-anchor=\"middle\" x=\"5887.5\" y=\"-1420.8\" font-family=\"Helvetica,sans-Serif\" font-size=\"14.00\" fill=\"#000000\">class = Unsurvived</text>\n</g>\n<!-- 293&#45;&gt;294 -->\n<g id=\"edge294\" class=\"edge\">\n<title>293&#45;&gt;294</title>\n<path fill=\"none\" stroke=\"#000000\" d=\"M5887.5,-1531.8796C5887.5,-1523.6838 5887.5,-1514.9891 5887.5,-1506.5013\"/>\n<polygon fill=\"#000000\" stroke=\"#000000\" points=\"5891.0001,-1506.298 5887.5,-1496.2981 5884.0001,-1506.2981 5891.0001,-1506.298\"/>\n</g>\n<!-- 313 -->\n<g id=\"node314\" class=\"node\">\n<title>313</title>\n<path fill=\"#e58139\" stroke=\"#000000\" d=\"M6103.5,-1488.5C6103.5,-1488.5 5987.5,-1488.5 5987.5,-1488.5 5981.5,-1488.5 5975.5,-1482.5 5975.5,-1476.5 5975.5,-1476.5 5975.5,-1432.5 5975.5,-1432.5 5975.5,-1426.5 5981.5,-1420.5 5987.5,-1420.5 5987.5,-1420.5 6103.5,-1420.5 6103.5,-1420.5 6109.5,-1420.5 6115.5,-1426.5 6115.5,-1432.5 6115.5,-1432.5 6115.5,-1476.5 6115.5,-1476.5 6115.5,-1482.5 6109.5,-1488.5 6103.5,-1488.5\"/>\n<text text-anchor=\"middle\" x=\"6045.5\" y=\"-1473.3\" font-family=\"Helvetica,sans-Serif\" font-size=\"14.00\" fill=\"#000000\">gini = 0.0</text>\n<text text-anchor=\"middle\" x=\"6045.5\" y=\"-1458.3\" font-family=\"Helvetica,sans-Serif\" font-size=\"14.00\" fill=\"#000000\">samples = 2</text>\n<text text-anchor=\"middle\" x=\"6045.5\" y=\"-1443.3\" font-family=\"Helvetica,sans-Serif\" font-size=\"14.00\" fill=\"#000000\">value = [2, 0]</text>\n<text text-anchor=\"middle\" x=\"6045.5\" y=\"-1428.3\" font-family=\"Helvetica,sans-Serif\" font-size=\"14.00\" fill=\"#000000\">class = Unsurvived</text>\n</g>\n<!-- 293&#45;&gt;313 -->\n<g id=\"edge313\" class=\"edge\">\n<title>293&#45;&gt;313</title>\n<path fill=\"none\" stroke=\"#000000\" d=\"M5942.7607,-1531.8796C5958.7503,-1519.8368 5976.1703,-1506.7167 5992.0474,-1494.7586\"/>\n<polygon fill=\"#000000\" stroke=\"#000000\" points=\"5994.3116,-1497.435 6000.1938,-1488.623 5990.1002,-1491.8435 5994.3116,-1497.435\"/>\n</g>\n<!-- 295 -->\n<g id=\"node296\" class=\"node\">\n<title>295</title>\n<path fill=\"#399de5\" stroke=\"#000000\" d=\"M5937,-1369.5C5937,-1369.5 5838,-1369.5 5838,-1369.5 5832,-1369.5 5826,-1363.5 5826,-1357.5 5826,-1357.5 5826,-1313.5 5826,-1313.5 5826,-1307.5 5832,-1301.5 5838,-1301.5 5838,-1301.5 5937,-1301.5 5937,-1301.5 5943,-1301.5 5949,-1307.5 5949,-1313.5 5949,-1313.5 5949,-1357.5 5949,-1357.5 5949,-1363.5 5943,-1369.5 5937,-1369.5\"/>\n<text text-anchor=\"middle\" x=\"5887.5\" y=\"-1354.3\" font-family=\"Helvetica,sans-Serif\" font-size=\"14.00\" fill=\"#000000\">gini = 0.0</text>\n<text text-anchor=\"middle\" x=\"5887.5\" y=\"-1339.3\" font-family=\"Helvetica,sans-Serif\" font-size=\"14.00\" fill=\"#000000\">samples = 1</text>\n<text text-anchor=\"middle\" x=\"5887.5\" y=\"-1324.3\" font-family=\"Helvetica,sans-Serif\" font-size=\"14.00\" fill=\"#000000\">value = [0, 1]</text>\n<text text-anchor=\"middle\" x=\"5887.5\" y=\"-1309.3\" font-family=\"Helvetica,sans-Serif\" font-size=\"14.00\" fill=\"#000000\">class = Survived</text>\n</g>\n<!-- 294&#45;&gt;295 -->\n<g id=\"edge295\" class=\"edge\">\n<title>294&#45;&gt;295</title>\n<path fill=\"none\" stroke=\"#000000\" d=\"M5887.5,-1412.8796C5887.5,-1402.2134 5887.5,-1390.7021 5887.5,-1379.9015\"/>\n<polygon fill=\"#000000\" stroke=\"#000000\" points=\"5891.0001,-1379.8149 5887.5,-1369.8149 5884.0001,-1379.815 5891.0001,-1379.8149\"/>\n</g>\n<!-- 296 -->\n<g id=\"node297\" class=\"node\">\n<title>296</title>\n<path fill=\"#fbede3\" stroke=\"#000000\" d=\"M6317.5,-1377C6317.5,-1377 6201.5,-1377 6201.5,-1377 6195.5,-1377 6189.5,-1371 6189.5,-1365 6189.5,-1365 6189.5,-1306 6189.5,-1306 6189.5,-1300 6195.5,-1294 6201.5,-1294 6201.5,-1294 6317.5,-1294 6317.5,-1294 6323.5,-1294 6329.5,-1300 6329.5,-1306 6329.5,-1306 6329.5,-1365 6329.5,-1365 6329.5,-1371 6323.5,-1377 6317.5,-1377\"/>\n<text text-anchor=\"middle\" x=\"6259.5\" y=\"-1361.8\" font-family=\"Helvetica,sans-Serif\" font-size=\"14.00\" fill=\"#000000\">sibsp &lt;= 1.5</text>\n<text text-anchor=\"middle\" x=\"6259.5\" y=\"-1346.8\" font-family=\"Helvetica,sans-Serif\" font-size=\"14.00\" fill=\"#000000\">gini = 0.497</text>\n<text text-anchor=\"middle\" x=\"6259.5\" y=\"-1331.8\" font-family=\"Helvetica,sans-Serif\" font-size=\"14.00\" fill=\"#000000\">samples = 13</text>\n<text text-anchor=\"middle\" x=\"6259.5\" y=\"-1316.8\" font-family=\"Helvetica,sans-Serif\" font-size=\"14.00\" fill=\"#000000\">value = [7, 6]</text>\n<text text-anchor=\"middle\" x=\"6259.5\" y=\"-1301.8\" font-family=\"Helvetica,sans-Serif\" font-size=\"14.00\" fill=\"#000000\">class = Unsurvived</text>\n</g>\n<!-- 294&#45;&gt;296 -->\n<g id=\"edge296\" class=\"edge\">\n<title>294&#45;&gt;296</title>\n<path fill=\"none\" stroke=\"#000000\" d=\"M5957.7668,-1416.5854C5960.6939,-1415.3252 5963.6125,-1414.1238 5966.5,-1413 6036.4936,-1385.7603 6119.5267,-1364.8026 6179.2969,-1351.5903\"/>\n<polygon fill=\"#000000\" stroke=\"#000000\" points=\"6180.4077,-1354.9302 6189.4296,-1349.3753 6178.9128,-1348.0917 6180.4077,-1354.9302\"/>\n</g>\n<!-- 297 -->\n<g id=\"node298\" class=\"node\">\n<title>297</title>\n<path fill=\"#ffffff\" stroke=\"#000000\" d=\"M6388.5,-1258C6388.5,-1258 6272.5,-1258 6272.5,-1258 6266.5,-1258 6260.5,-1252 6260.5,-1246 6260.5,-1246 6260.5,-1187 6260.5,-1187 6260.5,-1181 6266.5,-1175 6272.5,-1175 6272.5,-1175 6388.5,-1175 6388.5,-1175 6394.5,-1175 6400.5,-1181 6400.5,-1187 6400.5,-1187 6400.5,-1246 6400.5,-1246 6400.5,-1252 6394.5,-1258 6388.5,-1258\"/>\n<text text-anchor=\"middle\" x=\"6330.5\" y=\"-1242.8\" font-family=\"Helvetica,sans-Serif\" font-size=\"14.00\" fill=\"#000000\">fare &lt;= 20.926</text>\n<text text-anchor=\"middle\" x=\"6330.5\" y=\"-1227.8\" font-family=\"Helvetica,sans-Serif\" font-size=\"14.00\" fill=\"#000000\">gini = 0.5</text>\n<text text-anchor=\"middle\" x=\"6330.5\" y=\"-1212.8\" font-family=\"Helvetica,sans-Serif\" font-size=\"14.00\" fill=\"#000000\">samples = 12</text>\n<text text-anchor=\"middle\" x=\"6330.5\" y=\"-1197.8\" font-family=\"Helvetica,sans-Serif\" font-size=\"14.00\" fill=\"#000000\">value = [6, 6]</text>\n<text text-anchor=\"middle\" x=\"6330.5\" y=\"-1182.8\" font-family=\"Helvetica,sans-Serif\" font-size=\"14.00\" fill=\"#000000\">class = Unsurvived</text>\n</g>\n<!-- 296&#45;&gt;297 -->\n<g id=\"edge297\" class=\"edge\">\n<title>296&#45;&gt;297</title>\n<path fill=\"none\" stroke=\"#000000\" d=\"M6284.3324,-1293.8796C6289.4909,-1285.2335 6294.9808,-1276.0322 6300.3076,-1267.1042\"/>\n<polygon fill=\"#000000\" stroke=\"#000000\" points=\"6303.4436,-1268.679 6305.5617,-1258.2981 6297.4322,-1265.0924 6303.4436,-1268.679\"/>\n</g>\n<!-- 312 -->\n<g id=\"node313\" class=\"node\">\n<title>312</title>\n<path fill=\"#e58139\" stroke=\"#000000\" d=\"M6546.5,-1250.5C6546.5,-1250.5 6430.5,-1250.5 6430.5,-1250.5 6424.5,-1250.5 6418.5,-1244.5 6418.5,-1238.5 6418.5,-1238.5 6418.5,-1194.5 6418.5,-1194.5 6418.5,-1188.5 6424.5,-1182.5 6430.5,-1182.5 6430.5,-1182.5 6546.5,-1182.5 6546.5,-1182.5 6552.5,-1182.5 6558.5,-1188.5 6558.5,-1194.5 6558.5,-1194.5 6558.5,-1238.5 6558.5,-1238.5 6558.5,-1244.5 6552.5,-1250.5 6546.5,-1250.5\"/>\n<text text-anchor=\"middle\" x=\"6488.5\" y=\"-1235.3\" font-family=\"Helvetica,sans-Serif\" font-size=\"14.00\" fill=\"#000000\">gini = 0.0</text>\n<text text-anchor=\"middle\" x=\"6488.5\" y=\"-1220.3\" font-family=\"Helvetica,sans-Serif\" font-size=\"14.00\" fill=\"#000000\">samples = 1</text>\n<text text-anchor=\"middle\" x=\"6488.5\" y=\"-1205.3\" font-family=\"Helvetica,sans-Serif\" font-size=\"14.00\" fill=\"#000000\">value = [1, 0]</text>\n<text text-anchor=\"middle\" x=\"6488.5\" y=\"-1190.3\" font-family=\"Helvetica,sans-Serif\" font-size=\"14.00\" fill=\"#000000\">class = Unsurvived</text>\n</g>\n<!-- 296&#45;&gt;312 -->\n<g id=\"edge312\" class=\"edge\">\n<title>296&#45;&gt;312</title>\n<path fill=\"none\" stroke=\"#000000\" d=\"M6329.6838,-1298.5642C6332.6606,-1297.0188 6335.609,-1295.4922 6338.5,-1294 6369.9393,-1277.7728 6378.0607,-1274.2272 6409.5,-1258 6411.2553,-1257.094 6413.0317,-1256.1753 6414.8227,-1255.2475\"/>\n<polygon fill=\"#000000\" stroke=\"#000000\" points=\"6416.6094,-1258.2635 6423.8703,-1250.5479 6413.3827,-1252.0515 6416.6094,-1258.2635\"/>\n</g>\n<!-- 298 -->\n<g id=\"node299\" class=\"node\">\n<title>298</title>\n<path fill=\"#f6d5bd\" stroke=\"#000000\" d=\"M6467.5,-1139C6467.5,-1139 6351.5,-1139 6351.5,-1139 6345.5,-1139 6339.5,-1133 6339.5,-1127 6339.5,-1127 6339.5,-1068 6339.5,-1068 6339.5,-1062 6345.5,-1056 6351.5,-1056 6351.5,-1056 6467.5,-1056 6467.5,-1056 6473.5,-1056 6479.5,-1062 6479.5,-1068 6479.5,-1068 6479.5,-1127 6479.5,-1127 6479.5,-1133 6473.5,-1139 6467.5,-1139\"/>\n<text text-anchor=\"middle\" x=\"6409.5\" y=\"-1123.8\" font-family=\"Helvetica,sans-Serif\" font-size=\"14.00\" fill=\"#000000\">age &lt;= 31.5</text>\n<text text-anchor=\"middle\" x=\"6409.5\" y=\"-1108.8\" font-family=\"Helvetica,sans-Serif\" font-size=\"14.00\" fill=\"#000000\">gini = 0.48</text>\n<text text-anchor=\"middle\" x=\"6409.5\" y=\"-1093.8\" font-family=\"Helvetica,sans-Serif\" font-size=\"14.00\" fill=\"#000000\">samples = 10</text>\n<text text-anchor=\"middle\" x=\"6409.5\" y=\"-1078.8\" font-family=\"Helvetica,sans-Serif\" font-size=\"14.00\" fill=\"#000000\">value = [6, 4]</text>\n<text text-anchor=\"middle\" x=\"6409.5\" y=\"-1063.8\" font-family=\"Helvetica,sans-Serif\" font-size=\"14.00\" fill=\"#000000\">class = Unsurvived</text>\n</g>\n<!-- 297&#45;&gt;298 -->\n<g id=\"edge298\" class=\"edge\">\n<title>297&#45;&gt;298</title>\n<path fill=\"none\" stroke=\"#000000\" d=\"M6358.1304,-1174.8796C6363.93,-1166.1434 6370.1059,-1156.8404 6376.0908,-1147.8253\"/>\n<polygon fill=\"#000000\" stroke=\"#000000\" points=\"6379.1368,-1149.5652 6381.7517,-1139.2981 6373.3049,-1145.6935 6379.1368,-1149.5652\"/>\n</g>\n<!-- 311 -->\n<g id=\"node312\" class=\"node\">\n<title>311</title>\n<path fill=\"#399de5\" stroke=\"#000000\" d=\"M6609,-1131.5C6609,-1131.5 6510,-1131.5 6510,-1131.5 6504,-1131.5 6498,-1125.5 6498,-1119.5 6498,-1119.5 6498,-1075.5 6498,-1075.5 6498,-1069.5 6504,-1063.5 6510,-1063.5 6510,-1063.5 6609,-1063.5 6609,-1063.5 6615,-1063.5 6621,-1069.5 6621,-1075.5 6621,-1075.5 6621,-1119.5 6621,-1119.5 6621,-1125.5 6615,-1131.5 6609,-1131.5\"/>\n<text text-anchor=\"middle\" x=\"6559.5\" y=\"-1116.3\" font-family=\"Helvetica,sans-Serif\" font-size=\"14.00\" fill=\"#000000\">gini = 0.0</text>\n<text text-anchor=\"middle\" x=\"6559.5\" y=\"-1101.3\" font-family=\"Helvetica,sans-Serif\" font-size=\"14.00\" fill=\"#000000\">samples = 2</text>\n<text text-anchor=\"middle\" x=\"6559.5\" y=\"-1086.3\" font-family=\"Helvetica,sans-Serif\" font-size=\"14.00\" fill=\"#000000\">value = [0, 2]</text>\n<text text-anchor=\"middle\" x=\"6559.5\" y=\"-1071.3\" font-family=\"Helvetica,sans-Serif\" font-size=\"14.00\" fill=\"#000000\">class = Survived</text>\n</g>\n<!-- 297&#45;&gt;311 -->\n<g id=\"edge311\" class=\"edge\">\n<title>297&#45;&gt;311</title>\n<path fill=\"none\" stroke=\"#000000\" d=\"M6400.6068,-1179.4111C6403.6047,-1177.9076 6406.5785,-1176.4316 6409.5,-1175 6444.1484,-1158.0213 6454.2446,-1156.7583 6488.5,-1139 6490.0686,-1138.1868 6491.6515,-1137.3553 6493.2435,-1136.5091\"/>\n<polygon fill=\"#000000\" stroke=\"#000000\" points=\"6495.306,-1139.3721 6502.4274,-1131.5276 6491.9684,-1133.219 6495.306,-1139.3721\"/>\n</g>\n<!-- 299 -->\n<g id=\"node300\" class=\"node\">\n<title>299</title>\n<path fill=\"#9ccef2\" stroke=\"#000000\" d=\"M6470,-1020C6470,-1020 6371,-1020 6371,-1020 6365,-1020 6359,-1014 6359,-1008 6359,-1008 6359,-949 6359,-949 6359,-943 6365,-937 6371,-937 6371,-937 6470,-937 6470,-937 6476,-937 6482,-943 6482,-949 6482,-949 6482,-1008 6482,-1008 6482,-1014 6476,-1020 6470,-1020\"/>\n<text text-anchor=\"middle\" x=\"6420.5\" y=\"-1004.8\" font-family=\"Helvetica,sans-Serif\" font-size=\"14.00\" fill=\"#000000\">fare &lt;= 9.213</text>\n<text text-anchor=\"middle\" x=\"6420.5\" y=\"-989.8\" font-family=\"Helvetica,sans-Serif\" font-size=\"14.00\" fill=\"#000000\">gini = 0.444</text>\n<text text-anchor=\"middle\" x=\"6420.5\" y=\"-974.8\" font-family=\"Helvetica,sans-Serif\" font-size=\"14.00\" fill=\"#000000\">samples = 3</text>\n<text text-anchor=\"middle\" x=\"6420.5\" y=\"-959.8\" font-family=\"Helvetica,sans-Serif\" font-size=\"14.00\" fill=\"#000000\">value = [1, 2]</text>\n<text text-anchor=\"middle\" x=\"6420.5\" y=\"-944.8\" font-family=\"Helvetica,sans-Serif\" font-size=\"14.00\" fill=\"#000000\">class = Survived</text>\n</g>\n<!-- 298&#45;&gt;299 -->\n<g id=\"edge299\" class=\"edge\">\n<title>298&#45;&gt;299</title>\n<path fill=\"none\" stroke=\"#000000\" d=\"M6413.3473,-1055.8796C6414.1049,-1047.6838 6414.9086,-1038.9891 6415.6932,-1030.5013\"/>\n<polygon fill=\"#000000\" stroke=\"#000000\" points=\"6419.2009,-1030.5778 6416.6363,-1020.2981 6412.2306,-1029.9334 6419.2009,-1030.5778\"/>\n</g>\n<!-- 304 -->\n<g id=\"node305\" class=\"node\">\n<title>304</title>\n<path fill=\"#efb388\" stroke=\"#000000\" d=\"M6786.5,-1020C6786.5,-1020 6670.5,-1020 6670.5,-1020 6664.5,-1020 6658.5,-1014 6658.5,-1008 6658.5,-1008 6658.5,-949 6658.5,-949 6658.5,-943 6664.5,-937 6670.5,-937 6670.5,-937 6786.5,-937 6786.5,-937 6792.5,-937 6798.5,-943 6798.5,-949 6798.5,-949 6798.5,-1008 6798.5,-1008 6798.5,-1014 6792.5,-1020 6786.5,-1020\"/>\n<text text-anchor=\"middle\" x=\"6728.5\" y=\"-1004.8\" font-family=\"Helvetica,sans-Serif\" font-size=\"14.00\" fill=\"#000000\">fare &lt;= 9.273</text>\n<text text-anchor=\"middle\" x=\"6728.5\" y=\"-989.8\" font-family=\"Helvetica,sans-Serif\" font-size=\"14.00\" fill=\"#000000\">gini = 0.408</text>\n<text text-anchor=\"middle\" x=\"6728.5\" y=\"-974.8\" font-family=\"Helvetica,sans-Serif\" font-size=\"14.00\" fill=\"#000000\">samples = 7</text>\n<text text-anchor=\"middle\" x=\"6728.5\" y=\"-959.8\" font-family=\"Helvetica,sans-Serif\" font-size=\"14.00\" fill=\"#000000\">value = [5, 2]</text>\n<text text-anchor=\"middle\" x=\"6728.5\" y=\"-944.8\" font-family=\"Helvetica,sans-Serif\" font-size=\"14.00\" fill=\"#000000\">class = Unsurvived</text>\n</g>\n<!-- 298&#45;&gt;304 -->\n<g id=\"edge304\" class=\"edge\">\n<title>298&#45;&gt;304</title>\n<path fill=\"none\" stroke=\"#000000\" d=\"M6479.8465,-1059.7822C6482.7515,-1058.4676 6485.6437,-1057.201 6488.5,-1056 6540.5956,-1034.0958 6601.1671,-1014.5787 6648.4253,-1000.6096\"/>\n<polygon fill=\"#000000\" stroke=\"#000000\" points=\"6649.6887,-1003.8866 6658.2998,-997.7141 6647.719,-997.1694 6649.6887,-1003.8866\"/>\n</g>\n<!-- 300 -->\n<g id=\"node301\" class=\"node\">\n<title>300</title>\n<path fill=\"#399de5\" stroke=\"#000000\" d=\"M6470,-893.5C6470,-893.5 6371,-893.5 6371,-893.5 6365,-893.5 6359,-887.5 6359,-881.5 6359,-881.5 6359,-837.5 6359,-837.5 6359,-831.5 6365,-825.5 6371,-825.5 6371,-825.5 6470,-825.5 6470,-825.5 6476,-825.5 6482,-831.5 6482,-837.5 6482,-837.5 6482,-881.5 6482,-881.5 6482,-887.5 6476,-893.5 6470,-893.5\"/>\n<text text-anchor=\"middle\" x=\"6420.5\" y=\"-878.3\" font-family=\"Helvetica,sans-Serif\" font-size=\"14.00\" fill=\"#000000\">gini = 0.0</text>\n<text text-anchor=\"middle\" x=\"6420.5\" y=\"-863.3\" font-family=\"Helvetica,sans-Serif\" font-size=\"14.00\" fill=\"#000000\">samples = 1</text>\n<text text-anchor=\"middle\" x=\"6420.5\" y=\"-848.3\" font-family=\"Helvetica,sans-Serif\" font-size=\"14.00\" fill=\"#000000\">value = [0, 1]</text>\n<text text-anchor=\"middle\" x=\"6420.5\" y=\"-833.3\" font-family=\"Helvetica,sans-Serif\" font-size=\"14.00\" fill=\"#000000\">class = Survived</text>\n</g>\n<!-- 299&#45;&gt;300 -->\n<g id=\"edge300\" class=\"edge\">\n<title>299&#45;&gt;300</title>\n<path fill=\"none\" stroke=\"#000000\" d=\"M6420.5,-936.8796C6420.5,-926.2134 6420.5,-914.7021 6420.5,-903.9015\"/>\n<polygon fill=\"#000000\" stroke=\"#000000\" points=\"6424.0001,-903.8149 6420.5,-893.8149 6417.0001,-903.815 6424.0001,-903.8149\"/>\n</g>\n<!-- 301 -->\n<g id=\"node302\" class=\"node\">\n<title>301</title>\n<path fill=\"#ffffff\" stroke=\"#000000\" d=\"M6628.5,-901C6628.5,-901 6512.5,-901 6512.5,-901 6506.5,-901 6500.5,-895 6500.5,-889 6500.5,-889 6500.5,-830 6500.5,-830 6500.5,-824 6506.5,-818 6512.5,-818 6512.5,-818 6628.5,-818 6628.5,-818 6634.5,-818 6640.5,-824 6640.5,-830 6640.5,-830 6640.5,-889 6640.5,-889 6640.5,-895 6634.5,-901 6628.5,-901\"/>\n<text text-anchor=\"middle\" x=\"6570.5\" y=\"-885.8\" font-family=\"Helvetica,sans-Serif\" font-size=\"14.00\" fill=\"#000000\">fare &lt;= 11.75</text>\n<text text-anchor=\"middle\" x=\"6570.5\" y=\"-870.8\" font-family=\"Helvetica,sans-Serif\" font-size=\"14.00\" fill=\"#000000\">gini = 0.5</text>\n<text text-anchor=\"middle\" x=\"6570.5\" y=\"-855.8\" font-family=\"Helvetica,sans-Serif\" font-size=\"14.00\" fill=\"#000000\">samples = 2</text>\n<text text-anchor=\"middle\" x=\"6570.5\" y=\"-840.8\" font-family=\"Helvetica,sans-Serif\" font-size=\"14.00\" fill=\"#000000\">value = [1, 1]</text>\n<text text-anchor=\"middle\" x=\"6570.5\" y=\"-825.8\" font-family=\"Helvetica,sans-Serif\" font-size=\"14.00\" fill=\"#000000\">class = Unsurvived</text>\n</g>\n<!-- 299&#45;&gt;301 -->\n<g id=\"edge301\" class=\"edge\">\n<title>299&#45;&gt;301</title>\n<path fill=\"none\" stroke=\"#000000\" d=\"M6472.9627,-936.8796C6484.9521,-927.368 6497.7887,-917.1843 6510.0816,-907.432\"/>\n<polygon fill=\"#000000\" stroke=\"#000000\" points=\"6512.4081,-910.054 6518.0669,-901.0969 6508.0575,-904.5701 6512.4081,-910.054\"/>\n</g>\n<!-- 302 -->\n<g id=\"node303\" class=\"node\">\n<title>302</title>\n<path fill=\"#e58139\" stroke=\"#000000\" d=\"M6486.5,-774.5C6486.5,-774.5 6370.5,-774.5 6370.5,-774.5 6364.5,-774.5 6358.5,-768.5 6358.5,-762.5 6358.5,-762.5 6358.5,-718.5 6358.5,-718.5 6358.5,-712.5 6364.5,-706.5 6370.5,-706.5 6370.5,-706.5 6486.5,-706.5 6486.5,-706.5 6492.5,-706.5 6498.5,-712.5 6498.5,-718.5 6498.5,-718.5 6498.5,-762.5 6498.5,-762.5 6498.5,-768.5 6492.5,-774.5 6486.5,-774.5\"/>\n<text text-anchor=\"middle\" x=\"6428.5\" y=\"-759.3\" font-family=\"Helvetica,sans-Serif\" font-size=\"14.00\" fill=\"#000000\">gini = 0.0</text>\n<text text-anchor=\"middle\" x=\"6428.5\" y=\"-744.3\" font-family=\"Helvetica,sans-Serif\" font-size=\"14.00\" fill=\"#000000\">samples = 1</text>\n<text text-anchor=\"middle\" x=\"6428.5\" y=\"-729.3\" font-family=\"Helvetica,sans-Serif\" font-size=\"14.00\" fill=\"#000000\">value = [1, 0]</text>\n<text text-anchor=\"middle\" x=\"6428.5\" y=\"-714.3\" font-family=\"Helvetica,sans-Serif\" font-size=\"14.00\" fill=\"#000000\">class = Unsurvived</text>\n</g>\n<!-- 301&#45;&gt;302 -->\n<g id=\"edge302\" class=\"edge\">\n<title>301&#45;&gt;302</title>\n<path fill=\"none\" stroke=\"#000000\" d=\"M6520.8353,-817.8796C6506.6642,-806.0038 6491.243,-793.0804 6477.1342,-781.2568\"/>\n<polygon fill=\"#000000\" stroke=\"#000000\" points=\"6479.3598,-778.5554 6469.4472,-774.8149 6474.8637,-783.9206 6479.3598,-778.5554\"/>\n</g>\n<!-- 303 -->\n<g id=\"node304\" class=\"node\">\n<title>303</title>\n<path fill=\"#399de5\" stroke=\"#000000\" d=\"M6628,-774.5C6628,-774.5 6529,-774.5 6529,-774.5 6523,-774.5 6517,-768.5 6517,-762.5 6517,-762.5 6517,-718.5 6517,-718.5 6517,-712.5 6523,-706.5 6529,-706.5 6529,-706.5 6628,-706.5 6628,-706.5 6634,-706.5 6640,-712.5 6640,-718.5 6640,-718.5 6640,-762.5 6640,-762.5 6640,-768.5 6634,-774.5 6628,-774.5\"/>\n<text text-anchor=\"middle\" x=\"6578.5\" y=\"-759.3\" font-family=\"Helvetica,sans-Serif\" font-size=\"14.00\" fill=\"#000000\">gini = 0.0</text>\n<text text-anchor=\"middle\" x=\"6578.5\" y=\"-744.3\" font-family=\"Helvetica,sans-Serif\" font-size=\"14.00\" fill=\"#000000\">samples = 1</text>\n<text text-anchor=\"middle\" x=\"6578.5\" y=\"-729.3\" font-family=\"Helvetica,sans-Serif\" font-size=\"14.00\" fill=\"#000000\">value = [0, 1]</text>\n<text text-anchor=\"middle\" x=\"6578.5\" y=\"-714.3\" font-family=\"Helvetica,sans-Serif\" font-size=\"14.00\" fill=\"#000000\">class = Survived</text>\n</g>\n<!-- 301&#45;&gt;303 -->\n<g id=\"edge303\" class=\"edge\">\n<title>301&#45;&gt;303</title>\n<path fill=\"none\" stroke=\"#000000\" d=\"M6573.298,-817.8796C6574.0151,-807.2134 6574.7889,-795.7021 6575.515,-784.9015\"/>\n<polygon fill=\"#000000\" stroke=\"#000000\" points=\"6579.0144,-785.0272 6576.1931,-774.8149 6572.0301,-784.5576 6579.0144,-785.0272\"/>\n</g>\n<!-- 305 -->\n<g id=\"node306\" class=\"node\">\n<title>305</title>\n<path fill=\"#f6d5bd\" stroke=\"#000000\" d=\"M6786.5,-901C6786.5,-901 6670.5,-901 6670.5,-901 6664.5,-901 6658.5,-895 6658.5,-889 6658.5,-889 6658.5,-830 6658.5,-830 6658.5,-824 6664.5,-818 6670.5,-818 6670.5,-818 6786.5,-818 6786.5,-818 6792.5,-818 6798.5,-824 6798.5,-830 6798.5,-830 6798.5,-889 6798.5,-889 6798.5,-895 6792.5,-901 6786.5,-901\"/>\n<text text-anchor=\"middle\" x=\"6728.5\" y=\"-885.8\" font-family=\"Helvetica,sans-Serif\" font-size=\"14.00\" fill=\"#000000\">fare &lt;= 7.986</text>\n<text text-anchor=\"middle\" x=\"6728.5\" y=\"-870.8\" font-family=\"Helvetica,sans-Serif\" font-size=\"14.00\" fill=\"#000000\">gini = 0.48</text>\n<text text-anchor=\"middle\" x=\"6728.5\" y=\"-855.8\" font-family=\"Helvetica,sans-Serif\" font-size=\"14.00\" fill=\"#000000\">samples = 5</text>\n<text text-anchor=\"middle\" x=\"6728.5\" y=\"-840.8\" font-family=\"Helvetica,sans-Serif\" font-size=\"14.00\" fill=\"#000000\">value = [3, 2]</text>\n<text text-anchor=\"middle\" x=\"6728.5\" y=\"-825.8\" font-family=\"Helvetica,sans-Serif\" font-size=\"14.00\" fill=\"#000000\">class = Unsurvived</text>\n</g>\n<!-- 304&#45;&gt;305 -->\n<g id=\"edge305\" class=\"edge\">\n<title>304&#45;&gt;305</title>\n<path fill=\"none\" stroke=\"#000000\" d=\"M6728.5,-936.8796C6728.5,-928.6838 6728.5,-919.9891 6728.5,-911.5013\"/>\n<polygon fill=\"#000000\" stroke=\"#000000\" points=\"6732.0001,-911.298 6728.5,-901.2981 6725.0001,-911.2981 6732.0001,-911.298\"/>\n</g>\n<!-- 310 -->\n<g id=\"node311\" class=\"node\">\n<title>310</title>\n<path fill=\"#e58139\" stroke=\"#000000\" d=\"M6944.5,-893.5C6944.5,-893.5 6828.5,-893.5 6828.5,-893.5 6822.5,-893.5 6816.5,-887.5 6816.5,-881.5 6816.5,-881.5 6816.5,-837.5 6816.5,-837.5 6816.5,-831.5 6822.5,-825.5 6828.5,-825.5 6828.5,-825.5 6944.5,-825.5 6944.5,-825.5 6950.5,-825.5 6956.5,-831.5 6956.5,-837.5 6956.5,-837.5 6956.5,-881.5 6956.5,-881.5 6956.5,-887.5 6950.5,-893.5 6944.5,-893.5\"/>\n<text text-anchor=\"middle\" x=\"6886.5\" y=\"-878.3\" font-family=\"Helvetica,sans-Serif\" font-size=\"14.00\" fill=\"#000000\">gini = 0.0</text>\n<text text-anchor=\"middle\" x=\"6886.5\" y=\"-863.3\" font-family=\"Helvetica,sans-Serif\" font-size=\"14.00\" fill=\"#000000\">samples = 2</text>\n<text text-anchor=\"middle\" x=\"6886.5\" y=\"-848.3\" font-family=\"Helvetica,sans-Serif\" font-size=\"14.00\" fill=\"#000000\">value = [2, 0]</text>\n<text text-anchor=\"middle\" x=\"6886.5\" y=\"-833.3\" font-family=\"Helvetica,sans-Serif\" font-size=\"14.00\" fill=\"#000000\">class = Unsurvived</text>\n</g>\n<!-- 304&#45;&gt;310 -->\n<g id=\"edge310\" class=\"edge\">\n<title>304&#45;&gt;310</title>\n<path fill=\"none\" stroke=\"#000000\" d=\"M6783.7607,-936.8796C6799.7503,-924.8368 6817.1703,-911.7167 6833.0474,-899.7586\"/>\n<polygon fill=\"#000000\" stroke=\"#000000\" points=\"6835.3116,-902.435 6841.1938,-893.623 6831.1002,-896.8435 6835.3116,-902.435\"/>\n</g>\n<!-- 306 -->\n<g id=\"node307\" class=\"node\">\n<title>306</title>\n<path fill=\"#eeab7b\" stroke=\"#000000\" d=\"M6786.5,-782C6786.5,-782 6670.5,-782 6670.5,-782 6664.5,-782 6658.5,-776 6658.5,-770 6658.5,-770 6658.5,-711 6658.5,-711 6658.5,-705 6664.5,-699 6670.5,-699 6670.5,-699 6786.5,-699 6786.5,-699 6792.5,-699 6798.5,-705 6798.5,-711 6798.5,-711 6798.5,-770 6798.5,-770 6798.5,-776 6792.5,-782 6786.5,-782\"/>\n<text text-anchor=\"middle\" x=\"6728.5\" y=\"-766.8\" font-family=\"Helvetica,sans-Serif\" font-size=\"14.00\" fill=\"#000000\">fare &lt;= 7.91</text>\n<text text-anchor=\"middle\" x=\"6728.5\" y=\"-751.8\" font-family=\"Helvetica,sans-Serif\" font-size=\"14.00\" fill=\"#000000\">gini = 0.375</text>\n<text text-anchor=\"middle\" x=\"6728.5\" y=\"-736.8\" font-family=\"Helvetica,sans-Serif\" font-size=\"14.00\" fill=\"#000000\">samples = 4</text>\n<text text-anchor=\"middle\" x=\"6728.5\" y=\"-721.8\" font-family=\"Helvetica,sans-Serif\" font-size=\"14.00\" fill=\"#000000\">value = [3, 1]</text>\n<text text-anchor=\"middle\" x=\"6728.5\" y=\"-706.8\" font-family=\"Helvetica,sans-Serif\" font-size=\"14.00\" fill=\"#000000\">class = Unsurvived</text>\n</g>\n<!-- 305&#45;&gt;306 -->\n<g id=\"edge306\" class=\"edge\">\n<title>305&#45;&gt;306</title>\n<path fill=\"none\" stroke=\"#000000\" d=\"M6728.5,-817.8796C6728.5,-809.6838 6728.5,-800.9891 6728.5,-792.5013\"/>\n<polygon fill=\"#000000\" stroke=\"#000000\" points=\"6732.0001,-792.298 6728.5,-782.2981 6725.0001,-792.2981 6732.0001,-792.298\"/>\n</g>\n<!-- 309 -->\n<g id=\"node310\" class=\"node\">\n<title>309</title>\n<path fill=\"#399de5\" stroke=\"#000000\" d=\"M6928,-774.5C6928,-774.5 6829,-774.5 6829,-774.5 6823,-774.5 6817,-768.5 6817,-762.5 6817,-762.5 6817,-718.5 6817,-718.5 6817,-712.5 6823,-706.5 6829,-706.5 6829,-706.5 6928,-706.5 6928,-706.5 6934,-706.5 6940,-712.5 6940,-718.5 6940,-718.5 6940,-762.5 6940,-762.5 6940,-768.5 6934,-774.5 6928,-774.5\"/>\n<text text-anchor=\"middle\" x=\"6878.5\" y=\"-759.3\" font-family=\"Helvetica,sans-Serif\" font-size=\"14.00\" fill=\"#000000\">gini = 0.0</text>\n<text text-anchor=\"middle\" x=\"6878.5\" y=\"-744.3\" font-family=\"Helvetica,sans-Serif\" font-size=\"14.00\" fill=\"#000000\">samples = 1</text>\n<text text-anchor=\"middle\" x=\"6878.5\" y=\"-729.3\" font-family=\"Helvetica,sans-Serif\" font-size=\"14.00\" fill=\"#000000\">value = [0, 1]</text>\n<text text-anchor=\"middle\" x=\"6878.5\" y=\"-714.3\" font-family=\"Helvetica,sans-Serif\" font-size=\"14.00\" fill=\"#000000\">class = Survived</text>\n</g>\n<!-- 305&#45;&gt;309 -->\n<g id=\"edge309\" class=\"edge\">\n<title>305&#45;&gt;309</title>\n<path fill=\"none\" stroke=\"#000000\" d=\"M6780.9627,-817.8796C6795.9322,-806.0038 6812.2222,-793.0804 6827.1259,-781.2568\"/>\n<polygon fill=\"#000000\" stroke=\"#000000\" points=\"6829.587,-783.772 6835.2459,-774.8149 6825.2365,-778.2881 6829.587,-783.772\"/>\n</g>\n<!-- 307 -->\n<g id=\"node308\" class=\"node\">\n<title>307</title>\n<path fill=\"#e58139\" stroke=\"#000000\" d=\"M6707.5,-655.5C6707.5,-655.5 6591.5,-655.5 6591.5,-655.5 6585.5,-655.5 6579.5,-649.5 6579.5,-643.5 6579.5,-643.5 6579.5,-599.5 6579.5,-599.5 6579.5,-593.5 6585.5,-587.5 6591.5,-587.5 6591.5,-587.5 6707.5,-587.5 6707.5,-587.5 6713.5,-587.5 6719.5,-593.5 6719.5,-599.5 6719.5,-599.5 6719.5,-643.5 6719.5,-643.5 6719.5,-649.5 6713.5,-655.5 6707.5,-655.5\"/>\n<text text-anchor=\"middle\" x=\"6649.5\" y=\"-640.3\" font-family=\"Helvetica,sans-Serif\" font-size=\"14.00\" fill=\"#000000\">gini = 0.0</text>\n<text text-anchor=\"middle\" x=\"6649.5\" y=\"-625.3\" font-family=\"Helvetica,sans-Serif\" font-size=\"14.00\" fill=\"#000000\">samples = 1</text>\n<text text-anchor=\"middle\" x=\"6649.5\" y=\"-610.3\" font-family=\"Helvetica,sans-Serif\" font-size=\"14.00\" fill=\"#000000\">value = [1, 0]</text>\n<text text-anchor=\"middle\" x=\"6649.5\" y=\"-595.3\" font-family=\"Helvetica,sans-Serif\" font-size=\"14.00\" fill=\"#000000\">class = Unsurvived</text>\n</g>\n<!-- 306&#45;&gt;307 -->\n<g id=\"edge307\" class=\"edge\">\n<title>306&#45;&gt;307</title>\n<path fill=\"none\" stroke=\"#000000\" d=\"M6700.8696,-698.8796C6693.4237,-687.6636 6685.3575,-675.5131 6677.8718,-664.2372\"/>\n<polygon fill=\"#000000\" stroke=\"#000000\" points=\"6680.7273,-662.2104 6672.2805,-655.8149 6674.8954,-666.082 6680.7273,-662.2104\"/>\n</g>\n<!-- 308 -->\n<g id=\"node309\" class=\"node\">\n<title>308</title>\n<path fill=\"#f2c09c\" stroke=\"#000000\" d=\"M6865.5,-655.5C6865.5,-655.5 6749.5,-655.5 6749.5,-655.5 6743.5,-655.5 6737.5,-649.5 6737.5,-643.5 6737.5,-643.5 6737.5,-599.5 6737.5,-599.5 6737.5,-593.5 6743.5,-587.5 6749.5,-587.5 6749.5,-587.5 6865.5,-587.5 6865.5,-587.5 6871.5,-587.5 6877.5,-593.5 6877.5,-599.5 6877.5,-599.5 6877.5,-643.5 6877.5,-643.5 6877.5,-649.5 6871.5,-655.5 6865.5,-655.5\"/>\n<text text-anchor=\"middle\" x=\"6807.5\" y=\"-640.3\" font-family=\"Helvetica,sans-Serif\" font-size=\"14.00\" fill=\"#000000\">gini = 0.444</text>\n<text text-anchor=\"middle\" x=\"6807.5\" y=\"-625.3\" font-family=\"Helvetica,sans-Serif\" font-size=\"14.00\" fill=\"#000000\">samples = 3</text>\n<text text-anchor=\"middle\" x=\"6807.5\" y=\"-610.3\" font-family=\"Helvetica,sans-Serif\" font-size=\"14.00\" fill=\"#000000\">value = [2, 1]</text>\n<text text-anchor=\"middle\" x=\"6807.5\" y=\"-595.3\" font-family=\"Helvetica,sans-Serif\" font-size=\"14.00\" fill=\"#000000\">class = Unsurvived</text>\n</g>\n<!-- 306&#45;&gt;308 -->\n<g id=\"edge308\" class=\"edge\">\n<title>306&#45;&gt;308</title>\n<path fill=\"none\" stroke=\"#000000\" d=\"M6756.1304,-698.8796C6763.5763,-687.6636 6771.6425,-675.5131 6779.1282,-664.2372\"/>\n<polygon fill=\"#000000\" stroke=\"#000000\" points=\"6782.1046,-666.082 6784.7195,-655.8149 6776.2727,-662.2104 6782.1046,-666.082\"/>\n</g>\n<!-- 315 -->\n<g id=\"node316\" class=\"node\">\n<title>315</title>\n<path fill=\"#e58139\" stroke=\"#000000\" d=\"M6352.5,-1726.5C6352.5,-1726.5 6236.5,-1726.5 6236.5,-1726.5 6230.5,-1726.5 6224.5,-1720.5 6224.5,-1714.5 6224.5,-1714.5 6224.5,-1670.5 6224.5,-1670.5 6224.5,-1664.5 6230.5,-1658.5 6236.5,-1658.5 6236.5,-1658.5 6352.5,-1658.5 6352.5,-1658.5 6358.5,-1658.5 6364.5,-1664.5 6364.5,-1670.5 6364.5,-1670.5 6364.5,-1714.5 6364.5,-1714.5 6364.5,-1720.5 6358.5,-1726.5 6352.5,-1726.5\"/>\n<text text-anchor=\"middle\" x=\"6294.5\" y=\"-1711.3\" font-family=\"Helvetica,sans-Serif\" font-size=\"14.00\" fill=\"#000000\">gini = 0.0</text>\n<text text-anchor=\"middle\" x=\"6294.5\" y=\"-1696.3\" font-family=\"Helvetica,sans-Serif\" font-size=\"14.00\" fill=\"#000000\">samples = 29</text>\n<text text-anchor=\"middle\" x=\"6294.5\" y=\"-1681.3\" font-family=\"Helvetica,sans-Serif\" font-size=\"14.00\" fill=\"#000000\">value = [29, 0]</text>\n<text text-anchor=\"middle\" x=\"6294.5\" y=\"-1666.3\" font-family=\"Helvetica,sans-Serif\" font-size=\"14.00\" fill=\"#000000\">class = Unsurvived</text>\n</g>\n<!-- 314&#45;&gt;315 -->\n<g id=\"edge315\" class=\"edge\">\n<title>314&#45;&gt;315</title>\n<path fill=\"none\" stroke=\"#000000\" d=\"M6294.5,-1769.8796C6294.5,-1759.2134 6294.5,-1747.7021 6294.5,-1736.9015\"/>\n<polygon fill=\"#000000\" stroke=\"#000000\" points=\"6298.0001,-1736.8149 6294.5,-1726.8149 6291.0001,-1736.815 6298.0001,-1736.8149\"/>\n</g>\n<!-- 316 -->\n<g id=\"node317\" class=\"node\">\n<title>316</title>\n<path fill=\"#e88e4e\" stroke=\"#000000\" d=\"M6585.5,-1734C6585.5,-1734 6469.5,-1734 6469.5,-1734 6463.5,-1734 6457.5,-1728 6457.5,-1722 6457.5,-1722 6457.5,-1663 6457.5,-1663 6457.5,-1657 6463.5,-1651 6469.5,-1651 6469.5,-1651 6585.5,-1651 6585.5,-1651 6591.5,-1651 6597.5,-1657 6597.5,-1663 6597.5,-1663 6597.5,-1722 6597.5,-1722 6597.5,-1728 6591.5,-1734 6585.5,-1734\"/>\n<text text-anchor=\"middle\" x=\"6527.5\" y=\"-1718.8\" font-family=\"Helvetica,sans-Serif\" font-size=\"14.00\" fill=\"#000000\">fare &lt;= 7.986</text>\n<text text-anchor=\"middle\" x=\"6527.5\" y=\"-1703.8\" font-family=\"Helvetica,sans-Serif\" font-size=\"14.00\" fill=\"#000000\">gini = 0.171</text>\n<text text-anchor=\"middle\" x=\"6527.5\" y=\"-1688.8\" font-family=\"Helvetica,sans-Serif\" font-size=\"14.00\" fill=\"#000000\">samples = 53</text>\n<text text-anchor=\"middle\" x=\"6527.5\" y=\"-1673.8\" font-family=\"Helvetica,sans-Serif\" font-size=\"14.00\" fill=\"#000000\">value = [48, 5]</text>\n<text text-anchor=\"middle\" x=\"6527.5\" y=\"-1658.8\" font-family=\"Helvetica,sans-Serif\" font-size=\"14.00\" fill=\"#000000\">class = Unsurvived</text>\n</g>\n<!-- 314&#45;&gt;316 -->\n<g id=\"edge316\" class=\"edge\">\n<title>314&#45;&gt;316</title>\n<path fill=\"none\" stroke=\"#000000\" d=\"M6364.7237,-1775.6347C6391.0881,-1762.1696 6421.2282,-1746.7762 6448.3485,-1732.925\"/>\n<polygon fill=\"#000000\" stroke=\"#000000\" points=\"6450.1064,-1735.9573 6457.4202,-1728.2918 6446.9225,-1729.7233 6450.1064,-1735.9573\"/>\n</g>\n<!-- 317 -->\n<g id=\"node318\" class=\"node\">\n<title>317</title>\n<path fill=\"#ffffff\" stroke=\"#000000\" d=\"M6585.5,-1615C6585.5,-1615 6469.5,-1615 6469.5,-1615 6463.5,-1615 6457.5,-1609 6457.5,-1603 6457.5,-1603 6457.5,-1544 6457.5,-1544 6457.5,-1538 6463.5,-1532 6469.5,-1532 6469.5,-1532 6585.5,-1532 6585.5,-1532 6591.5,-1532 6597.5,-1538 6597.5,-1544 6597.5,-1544 6597.5,-1603 6597.5,-1603 6597.5,-1609 6591.5,-1615 6585.5,-1615\"/>\n<text text-anchor=\"middle\" x=\"6527.5\" y=\"-1599.8\" font-family=\"Helvetica,sans-Serif\" font-size=\"14.00\" fill=\"#000000\">sibsp &lt;= 1.0</text>\n<text text-anchor=\"middle\" x=\"6527.5\" y=\"-1584.8\" font-family=\"Helvetica,sans-Serif\" font-size=\"14.00\" fill=\"#000000\">gini = 0.5</text>\n<text text-anchor=\"middle\" x=\"6527.5\" y=\"-1569.8\" font-family=\"Helvetica,sans-Serif\" font-size=\"14.00\" fill=\"#000000\">samples = 4</text>\n<text text-anchor=\"middle\" x=\"6527.5\" y=\"-1554.8\" font-family=\"Helvetica,sans-Serif\" font-size=\"14.00\" fill=\"#000000\">value = [2, 2]</text>\n<text text-anchor=\"middle\" x=\"6527.5\" y=\"-1539.8\" font-family=\"Helvetica,sans-Serif\" font-size=\"14.00\" fill=\"#000000\">class = Unsurvived</text>\n</g>\n<!-- 316&#45;&gt;317 -->\n<g id=\"edge317\" class=\"edge\">\n<title>316&#45;&gt;317</title>\n<path fill=\"none\" stroke=\"#000000\" d=\"M6527.5,-1650.8796C6527.5,-1642.6838 6527.5,-1633.9891 6527.5,-1625.5013\"/>\n<polygon fill=\"#000000\" stroke=\"#000000\" points=\"6531.0001,-1625.298 6527.5,-1615.2981 6524.0001,-1625.2981 6531.0001,-1625.298\"/>\n</g>\n<!-- 322 -->\n<g id=\"node323\" class=\"node\">\n<title>322</title>\n<path fill=\"#e78946\" stroke=\"#000000\" d=\"M6854.5,-1615C6854.5,-1615 6738.5,-1615 6738.5,-1615 6732.5,-1615 6726.5,-1609 6726.5,-1603 6726.5,-1603 6726.5,-1544 6726.5,-1544 6726.5,-1538 6732.5,-1532 6738.5,-1532 6738.5,-1532 6854.5,-1532 6854.5,-1532 6860.5,-1532 6866.5,-1538 6866.5,-1544 6866.5,-1544 6866.5,-1603 6866.5,-1603 6866.5,-1609 6860.5,-1615 6854.5,-1615\"/>\n<text text-anchor=\"middle\" x=\"6796.5\" y=\"-1599.8\" font-family=\"Helvetica,sans-Serif\" font-size=\"14.00\" fill=\"#000000\">age &lt;= 61.0</text>\n<text text-anchor=\"middle\" x=\"6796.5\" y=\"-1584.8\" font-family=\"Helvetica,sans-Serif\" font-size=\"14.00\" fill=\"#000000\">gini = 0.115</text>\n<text text-anchor=\"middle\" x=\"6796.5\" y=\"-1569.8\" font-family=\"Helvetica,sans-Serif\" font-size=\"14.00\" fill=\"#000000\">samples = 49</text>\n<text text-anchor=\"middle\" x=\"6796.5\" y=\"-1554.8\" font-family=\"Helvetica,sans-Serif\" font-size=\"14.00\" fill=\"#000000\">value = [46, 3]</text>\n<text text-anchor=\"middle\" x=\"6796.5\" y=\"-1539.8\" font-family=\"Helvetica,sans-Serif\" font-size=\"14.00\" fill=\"#000000\">class = Unsurvived</text>\n</g>\n<!-- 316&#45;&gt;322 -->\n<g id=\"edge322\" class=\"edge\">\n<title>316&#45;&gt;322</title>\n<path fill=\"none\" stroke=\"#000000\" d=\"M6597.8252,-1661.3896C6634.276,-1645.2645 6678.9404,-1625.5059 6716.6817,-1608.81\"/>\n<polygon fill=\"#000000\" stroke=\"#000000\" points=\"6718.3894,-1611.8817 6726.1185,-1604.6353 6715.5574,-1605.4802 6718.3894,-1611.8817\"/>\n</g>\n<!-- 318 -->\n<g id=\"node319\" class=\"node\">\n<title>318</title>\n<path fill=\"#9ccef2\" stroke=\"#000000\" d=\"M6502,-1496C6502,-1496 6403,-1496 6403,-1496 6397,-1496 6391,-1490 6391,-1484 6391,-1484 6391,-1425 6391,-1425 6391,-1419 6397,-1413 6403,-1413 6403,-1413 6502,-1413 6502,-1413 6508,-1413 6514,-1419 6514,-1425 6514,-1425 6514,-1484 6514,-1484 6514,-1490 6508,-1496 6502,-1496\"/>\n<text text-anchor=\"middle\" x=\"6452.5\" y=\"-1480.8\" font-family=\"Helvetica,sans-Serif\" font-size=\"14.00\" fill=\"#000000\">age &lt;= 41.5</text>\n<text text-anchor=\"middle\" x=\"6452.5\" y=\"-1465.8\" font-family=\"Helvetica,sans-Serif\" font-size=\"14.00\" fill=\"#000000\">gini = 0.444</text>\n<text text-anchor=\"middle\" x=\"6452.5\" y=\"-1450.8\" font-family=\"Helvetica,sans-Serif\" font-size=\"14.00\" fill=\"#000000\">samples = 3</text>\n<text text-anchor=\"middle\" x=\"6452.5\" y=\"-1435.8\" font-family=\"Helvetica,sans-Serif\" font-size=\"14.00\" fill=\"#000000\">value = [1, 2]</text>\n<text text-anchor=\"middle\" x=\"6452.5\" y=\"-1420.8\" font-family=\"Helvetica,sans-Serif\" font-size=\"14.00\" fill=\"#000000\">class = Survived</text>\n</g>\n<!-- 317&#45;&gt;318 -->\n<g id=\"edge318\" class=\"edge\">\n<title>317&#45;&gt;318</title>\n<path fill=\"none\" stroke=\"#000000\" d=\"M6501.2686,-1531.8796C6495.7627,-1523.1434 6489.8994,-1513.8404 6484.2176,-1504.8253\"/>\n<polygon fill=\"#000000\" stroke=\"#000000\" points=\"6487.1363,-1502.8919 6478.8433,-1496.2981 6481.2143,-1506.6242 6487.1363,-1502.8919\"/>\n</g>\n<!-- 321 -->\n<g id=\"node322\" class=\"node\">\n<title>321</title>\n<path fill=\"#e58139\" stroke=\"#000000\" d=\"M6660.5,-1488.5C6660.5,-1488.5 6544.5,-1488.5 6544.5,-1488.5 6538.5,-1488.5 6532.5,-1482.5 6532.5,-1476.5 6532.5,-1476.5 6532.5,-1432.5 6532.5,-1432.5 6532.5,-1426.5 6538.5,-1420.5 6544.5,-1420.5 6544.5,-1420.5 6660.5,-1420.5 6660.5,-1420.5 6666.5,-1420.5 6672.5,-1426.5 6672.5,-1432.5 6672.5,-1432.5 6672.5,-1476.5 6672.5,-1476.5 6672.5,-1482.5 6666.5,-1488.5 6660.5,-1488.5\"/>\n<text text-anchor=\"middle\" x=\"6602.5\" y=\"-1473.3\" font-family=\"Helvetica,sans-Serif\" font-size=\"14.00\" fill=\"#000000\">gini = 0.0</text>\n<text text-anchor=\"middle\" x=\"6602.5\" y=\"-1458.3\" font-family=\"Helvetica,sans-Serif\" font-size=\"14.00\" fill=\"#000000\">samples = 1</text>\n<text text-anchor=\"middle\" x=\"6602.5\" y=\"-1443.3\" font-family=\"Helvetica,sans-Serif\" font-size=\"14.00\" fill=\"#000000\">value = [1, 0]</text>\n<text text-anchor=\"middle\" x=\"6602.5\" y=\"-1428.3\" font-family=\"Helvetica,sans-Serif\" font-size=\"14.00\" fill=\"#000000\">class = Unsurvived</text>\n</g>\n<!-- 317&#45;&gt;321 -->\n<g id=\"edge321\" class=\"edge\">\n<title>317&#45;&gt;321</title>\n<path fill=\"none\" stroke=\"#000000\" d=\"M6553.7314,-1531.8796C6560.731,-1520.7735 6568.308,-1508.7513 6575.3556,-1497.5691\"/>\n<polygon fill=\"#000000\" stroke=\"#000000\" points=\"6578.502,-1499.1411 6580.8729,-1488.8149 6572.58,-1495.4087 6578.502,-1499.1411\"/>\n</g>\n<!-- 319 -->\n<g id=\"node320\" class=\"node\">\n<title>319</title>\n<path fill=\"#ffffff\" stroke=\"#000000\" d=\"M6475.5,-1369.5C6475.5,-1369.5 6359.5,-1369.5 6359.5,-1369.5 6353.5,-1369.5 6347.5,-1363.5 6347.5,-1357.5 6347.5,-1357.5 6347.5,-1313.5 6347.5,-1313.5 6347.5,-1307.5 6353.5,-1301.5 6359.5,-1301.5 6359.5,-1301.5 6475.5,-1301.5 6475.5,-1301.5 6481.5,-1301.5 6487.5,-1307.5 6487.5,-1313.5 6487.5,-1313.5 6487.5,-1357.5 6487.5,-1357.5 6487.5,-1363.5 6481.5,-1369.5 6475.5,-1369.5\"/>\n<text text-anchor=\"middle\" x=\"6417.5\" y=\"-1354.3\" font-family=\"Helvetica,sans-Serif\" font-size=\"14.00\" fill=\"#000000\">gini = 0.5</text>\n<text text-anchor=\"middle\" x=\"6417.5\" y=\"-1339.3\" font-family=\"Helvetica,sans-Serif\" font-size=\"14.00\" fill=\"#000000\">samples = 2</text>\n<text text-anchor=\"middle\" x=\"6417.5\" y=\"-1324.3\" font-family=\"Helvetica,sans-Serif\" font-size=\"14.00\" fill=\"#000000\">value = [1, 1]</text>\n<text text-anchor=\"middle\" x=\"6417.5\" y=\"-1309.3\" font-family=\"Helvetica,sans-Serif\" font-size=\"14.00\" fill=\"#000000\">class = Unsurvived</text>\n</g>\n<!-- 318&#45;&gt;319 -->\n<g id=\"edge319\" class=\"edge\">\n<title>318&#45;&gt;319</title>\n<path fill=\"none\" stroke=\"#000000\" d=\"M6440.2587,-1412.8796C6437.0892,-1402.1034 6433.6661,-1390.4647 6430.4611,-1379.5677\"/>\n<polygon fill=\"#000000\" stroke=\"#000000\" points=\"6433.7721,-1378.421 6427.5926,-1369.8149 6427.0566,-1380.3962 6433.7721,-1378.421\"/>\n</g>\n<!-- 320 -->\n<g id=\"node321\" class=\"node\">\n<title>320</title>\n<path fill=\"#399de5\" stroke=\"#000000\" d=\"M6617,-1369.5C6617,-1369.5 6518,-1369.5 6518,-1369.5 6512,-1369.5 6506,-1363.5 6506,-1357.5 6506,-1357.5 6506,-1313.5 6506,-1313.5 6506,-1307.5 6512,-1301.5 6518,-1301.5 6518,-1301.5 6617,-1301.5 6617,-1301.5 6623,-1301.5 6629,-1307.5 6629,-1313.5 6629,-1313.5 6629,-1357.5 6629,-1357.5 6629,-1363.5 6623,-1369.5 6617,-1369.5\"/>\n<text text-anchor=\"middle\" x=\"6567.5\" y=\"-1354.3\" font-family=\"Helvetica,sans-Serif\" font-size=\"14.00\" fill=\"#000000\">gini = 0.0</text>\n<text text-anchor=\"middle\" x=\"6567.5\" y=\"-1339.3\" font-family=\"Helvetica,sans-Serif\" font-size=\"14.00\" fill=\"#000000\">samples = 1</text>\n<text text-anchor=\"middle\" x=\"6567.5\" y=\"-1324.3\" font-family=\"Helvetica,sans-Serif\" font-size=\"14.00\" fill=\"#000000\">value = [0, 1]</text>\n<text text-anchor=\"middle\" x=\"6567.5\" y=\"-1309.3\" font-family=\"Helvetica,sans-Serif\" font-size=\"14.00\" fill=\"#000000\">class = Survived</text>\n</g>\n<!-- 318&#45;&gt;320 -->\n<g id=\"edge320\" class=\"edge\">\n<title>318&#45;&gt;320</title>\n<path fill=\"none\" stroke=\"#000000\" d=\"M6492.7214,-1412.8796C6503.8792,-1401.3337 6515.9939,-1388.7976 6527.1586,-1377.2446\"/>\n<polygon fill=\"#000000\" stroke=\"#000000\" points=\"6529.9061,-1379.4381 6534.3385,-1369.8149 6524.8725,-1374.5736 6529.9061,-1379.4381\"/>\n</g>\n<!-- 323 -->\n<g id=\"node324\" class=\"node\">\n<title>323</title>\n<path fill=\"#e68742\" stroke=\"#000000\" d=\"M6854.5,-1496C6854.5,-1496 6738.5,-1496 6738.5,-1496 6732.5,-1496 6726.5,-1490 6726.5,-1484 6726.5,-1484 6726.5,-1425 6726.5,-1425 6726.5,-1419 6732.5,-1413 6738.5,-1413 6738.5,-1413 6854.5,-1413 6854.5,-1413 6860.5,-1413 6866.5,-1419 6866.5,-1425 6866.5,-1425 6866.5,-1484 6866.5,-1484 6866.5,-1490 6860.5,-1496 6854.5,-1496\"/>\n<text text-anchor=\"middle\" x=\"6796.5\" y=\"-1480.8\" font-family=\"Helvetica,sans-Serif\" font-size=\"14.00\" fill=\"#000000\">fare &lt;= 13.25</text>\n<text text-anchor=\"middle\" x=\"6796.5\" y=\"-1465.8\" font-family=\"Helvetica,sans-Serif\" font-size=\"14.00\" fill=\"#000000\">gini = 0.083</text>\n<text text-anchor=\"middle\" x=\"6796.5\" y=\"-1450.8\" font-family=\"Helvetica,sans-Serif\" font-size=\"14.00\" fill=\"#000000\">samples = 46</text>\n<text text-anchor=\"middle\" x=\"6796.5\" y=\"-1435.8\" font-family=\"Helvetica,sans-Serif\" font-size=\"14.00\" fill=\"#000000\">value = [44, 2]</text>\n<text text-anchor=\"middle\" x=\"6796.5\" y=\"-1420.8\" font-family=\"Helvetica,sans-Serif\" font-size=\"14.00\" fill=\"#000000\">class = Unsurvived</text>\n</g>\n<!-- 322&#45;&gt;323 -->\n<g id=\"edge323\" class=\"edge\">\n<title>322&#45;&gt;323</title>\n<path fill=\"none\" stroke=\"#000000\" d=\"M6796.5,-1531.8796C6796.5,-1523.6838 6796.5,-1514.9891 6796.5,-1506.5013\"/>\n<polygon fill=\"#000000\" stroke=\"#000000\" points=\"6800.0001,-1506.298 6796.5,-1496.2981 6793.0001,-1506.2981 6800.0001,-1506.298\"/>\n</g>\n<!-- 334 -->\n<g id=\"node335\" class=\"node\">\n<title>334</title>\n<path fill=\"#f2c09c\" stroke=\"#000000\" d=\"M7083.5,-1496C7083.5,-1496 6967.5,-1496 6967.5,-1496 6961.5,-1496 6955.5,-1490 6955.5,-1484 6955.5,-1484 6955.5,-1425 6955.5,-1425 6955.5,-1419 6961.5,-1413 6967.5,-1413 6967.5,-1413 7083.5,-1413 7083.5,-1413 7089.5,-1413 7095.5,-1419 7095.5,-1425 7095.5,-1425 7095.5,-1484 7095.5,-1484 7095.5,-1490 7089.5,-1496 7083.5,-1496\"/>\n<text text-anchor=\"middle\" x=\"7025.5\" y=\"-1480.8\" font-family=\"Helvetica,sans-Serif\" font-size=\"14.00\" fill=\"#000000\">age &lt;= 64.0</text>\n<text text-anchor=\"middle\" x=\"7025.5\" y=\"-1465.8\" font-family=\"Helvetica,sans-Serif\" font-size=\"14.00\" fill=\"#000000\">gini = 0.444</text>\n<text text-anchor=\"middle\" x=\"7025.5\" y=\"-1450.8\" font-family=\"Helvetica,sans-Serif\" font-size=\"14.00\" fill=\"#000000\">samples = 3</text>\n<text text-anchor=\"middle\" x=\"7025.5\" y=\"-1435.8\" font-family=\"Helvetica,sans-Serif\" font-size=\"14.00\" fill=\"#000000\">value = [2, 1]</text>\n<text text-anchor=\"middle\" x=\"7025.5\" y=\"-1420.8\" font-family=\"Helvetica,sans-Serif\" font-size=\"14.00\" fill=\"#000000\">class = Unsurvived</text>\n</g>\n<!-- 322&#45;&gt;334 -->\n<g id=\"edge334\" class=\"edge\">\n<title>322&#45;&gt;334</title>\n<path fill=\"none\" stroke=\"#000000\" d=\"M6866.7638,-1536.9874C6891.9322,-1523.9086 6920.4702,-1509.0788 6946.3398,-1495.6356\"/>\n<polygon fill=\"#000000\" stroke=\"#000000\" points=\"6948.1095,-1498.6604 6955.369,-1490.9436 6944.8817,-1492.449 6948.1095,-1498.6604\"/>\n</g>\n<!-- 324 -->\n<g id=\"node325\" class=\"node\">\n<title>324</title>\n<path fill=\"#e78d4c\" stroke=\"#000000\" d=\"M6775.5,-1377C6775.5,-1377 6659.5,-1377 6659.5,-1377 6653.5,-1377 6647.5,-1371 6647.5,-1365 6647.5,-1365 6647.5,-1306 6647.5,-1306 6647.5,-1300 6653.5,-1294 6659.5,-1294 6659.5,-1294 6775.5,-1294 6775.5,-1294 6781.5,-1294 6787.5,-1300 6787.5,-1306 6787.5,-1306 6787.5,-1365 6787.5,-1365 6787.5,-1371 6781.5,-1377 6775.5,-1377\"/>\n<text text-anchor=\"middle\" x=\"6717.5\" y=\"-1361.8\" font-family=\"Helvetica,sans-Serif\" font-size=\"14.00\" fill=\"#000000\">fare &lt;= 12.938</text>\n<text text-anchor=\"middle\" x=\"6717.5\" y=\"-1346.8\" font-family=\"Helvetica,sans-Serif\" font-size=\"14.00\" fill=\"#000000\">gini = 0.159</text>\n<text text-anchor=\"middle\" x=\"6717.5\" y=\"-1331.8\" font-family=\"Helvetica,sans-Serif\" font-size=\"14.00\" fill=\"#000000\">samples = 23</text>\n<text text-anchor=\"middle\" x=\"6717.5\" y=\"-1316.8\" font-family=\"Helvetica,sans-Serif\" font-size=\"14.00\" fill=\"#000000\">value = [21, 2]</text>\n<text text-anchor=\"middle\" x=\"6717.5\" y=\"-1301.8\" font-family=\"Helvetica,sans-Serif\" font-size=\"14.00\" fill=\"#000000\">class = Unsurvived</text>\n</g>\n<!-- 323&#45;&gt;324 -->\n<g id=\"edge324\" class=\"edge\">\n<title>323&#45;&gt;324</title>\n<path fill=\"none\" stroke=\"#000000\" d=\"M6768.8696,-1412.8796C6763.07,-1404.1434 6756.8941,-1394.8404 6750.9092,-1385.8253\"/>\n<polygon fill=\"#000000\" stroke=\"#000000\" points=\"6753.6951,-1383.6935 6745.2483,-1377.2981 6747.8632,-1387.5652 6753.6951,-1383.6935\"/>\n</g>\n<!-- 333 -->\n<g id=\"node334\" class=\"node\">\n<title>333</title>\n<path fill=\"#e58139\" stroke=\"#000000\" d=\"M6933.5,-1369.5C6933.5,-1369.5 6817.5,-1369.5 6817.5,-1369.5 6811.5,-1369.5 6805.5,-1363.5 6805.5,-1357.5 6805.5,-1357.5 6805.5,-1313.5 6805.5,-1313.5 6805.5,-1307.5 6811.5,-1301.5 6817.5,-1301.5 6817.5,-1301.5 6933.5,-1301.5 6933.5,-1301.5 6939.5,-1301.5 6945.5,-1307.5 6945.5,-1313.5 6945.5,-1313.5 6945.5,-1357.5 6945.5,-1357.5 6945.5,-1363.5 6939.5,-1369.5 6933.5,-1369.5\"/>\n<text text-anchor=\"middle\" x=\"6875.5\" y=\"-1354.3\" font-family=\"Helvetica,sans-Serif\" font-size=\"14.00\" fill=\"#000000\">gini = 0.0</text>\n<text text-anchor=\"middle\" x=\"6875.5\" y=\"-1339.3\" font-family=\"Helvetica,sans-Serif\" font-size=\"14.00\" fill=\"#000000\">samples = 23</text>\n<text text-anchor=\"middle\" x=\"6875.5\" y=\"-1324.3\" font-family=\"Helvetica,sans-Serif\" font-size=\"14.00\" fill=\"#000000\">value = [23, 0]</text>\n<text text-anchor=\"middle\" x=\"6875.5\" y=\"-1309.3\" font-family=\"Helvetica,sans-Serif\" font-size=\"14.00\" fill=\"#000000\">class = Unsurvived</text>\n</g>\n<!-- 323&#45;&gt;333 -->\n<g id=\"edge333\" class=\"edge\">\n<title>323&#45;&gt;333</title>\n<path fill=\"none\" stroke=\"#000000\" d=\"M6824.1304,-1412.8796C6831.5763,-1401.6636 6839.6425,-1389.5131 6847.1282,-1378.2372\"/>\n<polygon fill=\"#000000\" stroke=\"#000000\" points=\"6850.1046,-1380.082 6852.7195,-1369.8149 6844.2727,-1376.2104 6850.1046,-1380.082\"/>\n</g>\n<!-- 325 -->\n<g id=\"node326\" class=\"node\">\n<title>325</title>\n<path fill=\"#e58139\" stroke=\"#000000\" d=\"M6740.5,-1250.5C6740.5,-1250.5 6624.5,-1250.5 6624.5,-1250.5 6618.5,-1250.5 6612.5,-1244.5 6612.5,-1238.5 6612.5,-1238.5 6612.5,-1194.5 6612.5,-1194.5 6612.5,-1188.5 6618.5,-1182.5 6624.5,-1182.5 6624.5,-1182.5 6740.5,-1182.5 6740.5,-1182.5 6746.5,-1182.5 6752.5,-1188.5 6752.5,-1194.5 6752.5,-1194.5 6752.5,-1238.5 6752.5,-1238.5 6752.5,-1244.5 6746.5,-1250.5 6740.5,-1250.5\"/>\n<text text-anchor=\"middle\" x=\"6682.5\" y=\"-1235.3\" font-family=\"Helvetica,sans-Serif\" font-size=\"14.00\" fill=\"#000000\">gini = 0.0</text>\n<text text-anchor=\"middle\" x=\"6682.5\" y=\"-1220.3\" font-family=\"Helvetica,sans-Serif\" font-size=\"14.00\" fill=\"#000000\">samples = 16</text>\n<text text-anchor=\"middle\" x=\"6682.5\" y=\"-1205.3\" font-family=\"Helvetica,sans-Serif\" font-size=\"14.00\" fill=\"#000000\">value = [16, 0]</text>\n<text text-anchor=\"middle\" x=\"6682.5\" y=\"-1190.3\" font-family=\"Helvetica,sans-Serif\" font-size=\"14.00\" fill=\"#000000\">class = Unsurvived</text>\n</g>\n<!-- 324&#45;&gt;325 -->\n<g id=\"edge325\" class=\"edge\">\n<title>324&#45;&gt;325</title>\n<path fill=\"none\" stroke=\"#000000\" d=\"M6705.2587,-1293.8796C6702.0892,-1283.1034 6698.6661,-1271.4647 6695.4611,-1260.5677\"/>\n<polygon fill=\"#000000\" stroke=\"#000000\" points=\"6698.7721,-1259.421 6692.5926,-1250.8149 6692.0566,-1261.3962 6698.7721,-1259.421\"/>\n</g>\n<!-- 326 -->\n<g id=\"node327\" class=\"node\">\n<title>326</title>\n<path fill=\"#efb388\" stroke=\"#000000\" d=\"M6898.5,-1258C6898.5,-1258 6782.5,-1258 6782.5,-1258 6776.5,-1258 6770.5,-1252 6770.5,-1246 6770.5,-1246 6770.5,-1187 6770.5,-1187 6770.5,-1181 6776.5,-1175 6782.5,-1175 6782.5,-1175 6898.5,-1175 6898.5,-1175 6904.5,-1175 6910.5,-1181 6910.5,-1187 6910.5,-1187 6910.5,-1246 6910.5,-1246 6910.5,-1252 6904.5,-1258 6898.5,-1258\"/>\n<text text-anchor=\"middle\" x=\"6840.5\" y=\"-1242.8\" font-family=\"Helvetica,sans-Serif\" font-size=\"14.00\" fill=\"#000000\">age &lt;= 35.0</text>\n<text text-anchor=\"middle\" x=\"6840.5\" y=\"-1227.8\" font-family=\"Helvetica,sans-Serif\" font-size=\"14.00\" fill=\"#000000\">gini = 0.408</text>\n<text text-anchor=\"middle\" x=\"6840.5\" y=\"-1212.8\" font-family=\"Helvetica,sans-Serif\" font-size=\"14.00\" fill=\"#000000\">samples = 7</text>\n<text text-anchor=\"middle\" x=\"6840.5\" y=\"-1197.8\" font-family=\"Helvetica,sans-Serif\" font-size=\"14.00\" fill=\"#000000\">value = [5, 2]</text>\n<text text-anchor=\"middle\" x=\"6840.5\" y=\"-1182.8\" font-family=\"Helvetica,sans-Serif\" font-size=\"14.00\" fill=\"#000000\">class = Unsurvived</text>\n</g>\n<!-- 324&#45;&gt;326 -->\n<g id=\"edge326\" class=\"edge\">\n<title>324&#45;&gt;326</title>\n<path fill=\"none\" stroke=\"#000000\" d=\"M6760.5194,-1293.8796C6770.0147,-1284.6931 6780.1578,-1274.8798 6789.9215,-1265.4336\"/>\n<polygon fill=\"#000000\" stroke=\"#000000\" points=\"6792.5436,-1267.7668 6797.297,-1258.2981 6787.6763,-1262.7359 6792.5436,-1267.7668\"/>\n</g>\n<!-- 327 -->\n<g id=\"node328\" class=\"node\">\n<title>327</title>\n<path fill=\"#ffffff\" stroke=\"#000000\" d=\"M6876.5,-1131.5C6876.5,-1131.5 6760.5,-1131.5 6760.5,-1131.5 6754.5,-1131.5 6748.5,-1125.5 6748.5,-1119.5 6748.5,-1119.5 6748.5,-1075.5 6748.5,-1075.5 6748.5,-1069.5 6754.5,-1063.5 6760.5,-1063.5 6760.5,-1063.5 6876.5,-1063.5 6876.5,-1063.5 6882.5,-1063.5 6888.5,-1069.5 6888.5,-1075.5 6888.5,-1075.5 6888.5,-1119.5 6888.5,-1119.5 6888.5,-1125.5 6882.5,-1131.5 6876.5,-1131.5\"/>\n<text text-anchor=\"middle\" x=\"6818.5\" y=\"-1116.3\" font-family=\"Helvetica,sans-Serif\" font-size=\"14.00\" fill=\"#000000\">gini = 0.5</text>\n<text text-anchor=\"middle\" x=\"6818.5\" y=\"-1101.3\" font-family=\"Helvetica,sans-Serif\" font-size=\"14.00\" fill=\"#000000\">samples = 2</text>\n<text text-anchor=\"middle\" x=\"6818.5\" y=\"-1086.3\" font-family=\"Helvetica,sans-Serif\" font-size=\"14.00\" fill=\"#000000\">value = [1, 1]</text>\n<text text-anchor=\"middle\" x=\"6818.5\" y=\"-1071.3\" font-family=\"Helvetica,sans-Serif\" font-size=\"14.00\" fill=\"#000000\">class = Unsurvived</text>\n</g>\n<!-- 326&#45;&gt;327 -->\n<g id=\"edge327\" class=\"edge\">\n<title>326&#45;&gt;327</title>\n<path fill=\"none\" stroke=\"#000000\" d=\"M6832.8055,-1174.8796C6830.8336,-1164.2134 6828.7054,-1152.7021 6826.7087,-1141.9015\"/>\n<polygon fill=\"#000000\" stroke=\"#000000\" points=\"6830.1036,-1141.012 6824.8439,-1131.8149 6823.2203,-1142.2846 6830.1036,-1141.012\"/>\n</g>\n<!-- 328 -->\n<g id=\"node329\" class=\"node\">\n<title>328</title>\n<path fill=\"#eca06a\" stroke=\"#000000\" d=\"M7034.5,-1139C7034.5,-1139 6918.5,-1139 6918.5,-1139 6912.5,-1139 6906.5,-1133 6906.5,-1127 6906.5,-1127 6906.5,-1068 6906.5,-1068 6906.5,-1062 6912.5,-1056 6918.5,-1056 6918.5,-1056 7034.5,-1056 7034.5,-1056 7040.5,-1056 7046.5,-1062 7046.5,-1068 7046.5,-1068 7046.5,-1127 7046.5,-1127 7046.5,-1133 7040.5,-1139 7034.5,-1139\"/>\n<text text-anchor=\"middle\" x=\"6976.5\" y=\"-1123.8\" font-family=\"Helvetica,sans-Serif\" font-size=\"14.00\" fill=\"#000000\">age &lt;= 40.5</text>\n<text text-anchor=\"middle\" x=\"6976.5\" y=\"-1108.8\" font-family=\"Helvetica,sans-Serif\" font-size=\"14.00\" fill=\"#000000\">gini = 0.32</text>\n<text text-anchor=\"middle\" x=\"6976.5\" y=\"-1093.8\" font-family=\"Helvetica,sans-Serif\" font-size=\"14.00\" fill=\"#000000\">samples = 5</text>\n<text text-anchor=\"middle\" x=\"6976.5\" y=\"-1078.8\" font-family=\"Helvetica,sans-Serif\" font-size=\"14.00\" fill=\"#000000\">value = [4, 1]</text>\n<text text-anchor=\"middle\" x=\"6976.5\" y=\"-1063.8\" font-family=\"Helvetica,sans-Serif\" font-size=\"14.00\" fill=\"#000000\">class = Unsurvived</text>\n</g>\n<!-- 326&#45;&gt;328 -->\n<g id=\"edge328\" class=\"edge\">\n<title>326&#45;&gt;328</title>\n<path fill=\"none\" stroke=\"#000000\" d=\"M6888.0662,-1174.8796C6898.6679,-1165.6031 6910.0002,-1155.6874 6920.8933,-1146.1559\"/>\n<polygon fill=\"#000000\" stroke=\"#000000\" points=\"6923.5098,-1148.5172 6928.7308,-1139.2981 6918.9002,-1143.2491 6923.5098,-1148.5172\"/>\n</g>\n<!-- 329 -->\n<g id=\"node330\" class=\"node\">\n<title>329</title>\n<path fill=\"#e58139\" stroke=\"#000000\" d=\"M7023.5,-1012.5C7023.5,-1012.5 6907.5,-1012.5 6907.5,-1012.5 6901.5,-1012.5 6895.5,-1006.5 6895.5,-1000.5 6895.5,-1000.5 6895.5,-956.5 6895.5,-956.5 6895.5,-950.5 6901.5,-944.5 6907.5,-944.5 6907.5,-944.5 7023.5,-944.5 7023.5,-944.5 7029.5,-944.5 7035.5,-950.5 7035.5,-956.5 7035.5,-956.5 7035.5,-1000.5 7035.5,-1000.5 7035.5,-1006.5 7029.5,-1012.5 7023.5,-1012.5\"/>\n<text text-anchor=\"middle\" x=\"6965.5\" y=\"-997.3\" font-family=\"Helvetica,sans-Serif\" font-size=\"14.00\" fill=\"#000000\">gini = 0.0</text>\n<text text-anchor=\"middle\" x=\"6965.5\" y=\"-982.3\" font-family=\"Helvetica,sans-Serif\" font-size=\"14.00\" fill=\"#000000\">samples = 2</text>\n<text text-anchor=\"middle\" x=\"6965.5\" y=\"-967.3\" font-family=\"Helvetica,sans-Serif\" font-size=\"14.00\" fill=\"#000000\">value = [2, 0]</text>\n<text text-anchor=\"middle\" x=\"6965.5\" y=\"-952.3\" font-family=\"Helvetica,sans-Serif\" font-size=\"14.00\" fill=\"#000000\">class = Unsurvived</text>\n</g>\n<!-- 328&#45;&gt;329 -->\n<g id=\"edge329\" class=\"edge\">\n<title>328&#45;&gt;329</title>\n<path fill=\"none\" stroke=\"#000000\" d=\"M6972.6527,-1055.8796C6971.6668,-1045.2134 6970.6027,-1033.7021 6969.6043,-1022.9015\"/>\n<polygon fill=\"#000000\" stroke=\"#000000\" points=\"6973.0776,-1022.4503 6968.672,-1012.8149 6966.1074,-1023.0947 6973.0776,-1022.4503\"/>\n</g>\n<!-- 330 -->\n<g id=\"node331\" class=\"node\">\n<title>330</title>\n<path fill=\"#f2c09c\" stroke=\"#000000\" d=\"M7181.5,-1020C7181.5,-1020 7065.5,-1020 7065.5,-1020 7059.5,-1020 7053.5,-1014 7053.5,-1008 7053.5,-1008 7053.5,-949 7053.5,-949 7053.5,-943 7059.5,-937 7065.5,-937 7065.5,-937 7181.5,-937 7181.5,-937 7187.5,-937 7193.5,-943 7193.5,-949 7193.5,-949 7193.5,-1008 7193.5,-1008 7193.5,-1014 7187.5,-1020 7181.5,-1020\"/>\n<text text-anchor=\"middle\" x=\"7123.5\" y=\"-1004.8\" font-family=\"Helvetica,sans-Serif\" font-size=\"14.00\" fill=\"#000000\">age &lt;= 47.0</text>\n<text text-anchor=\"middle\" x=\"7123.5\" y=\"-989.8\" font-family=\"Helvetica,sans-Serif\" font-size=\"14.00\" fill=\"#000000\">gini = 0.444</text>\n<text text-anchor=\"middle\" x=\"7123.5\" y=\"-974.8\" font-family=\"Helvetica,sans-Serif\" font-size=\"14.00\" fill=\"#000000\">samples = 3</text>\n<text text-anchor=\"middle\" x=\"7123.5\" y=\"-959.8\" font-family=\"Helvetica,sans-Serif\" font-size=\"14.00\" fill=\"#000000\">value = [2, 1]</text>\n<text text-anchor=\"middle\" x=\"7123.5\" y=\"-944.8\" font-family=\"Helvetica,sans-Serif\" font-size=\"14.00\" fill=\"#000000\">class = Unsurvived</text>\n</g>\n<!-- 328&#45;&gt;330 -->\n<g id=\"edge330\" class=\"edge\">\n<title>328&#45;&gt;330</title>\n<path fill=\"none\" stroke=\"#000000\" d=\"M7027.9135,-1055.8796C7039.5952,-1046.4229 7052.0975,-1036.302 7064.081,-1026.6011\"/>\n<polygon fill=\"#000000\" stroke=\"#000000\" points=\"7066.2968,-1029.3105 7071.8671,-1020.2981 7061.8924,-1023.8697 7066.2968,-1029.3105\"/>\n</g>\n<!-- 331 -->\n<g id=\"node332\" class=\"node\">\n<title>331</title>\n<path fill=\"#ffffff\" stroke=\"#000000\" d=\"M7102.5,-893.5C7102.5,-893.5 6986.5,-893.5 6986.5,-893.5 6980.5,-893.5 6974.5,-887.5 6974.5,-881.5 6974.5,-881.5 6974.5,-837.5 6974.5,-837.5 6974.5,-831.5 6980.5,-825.5 6986.5,-825.5 6986.5,-825.5 7102.5,-825.5 7102.5,-825.5 7108.5,-825.5 7114.5,-831.5 7114.5,-837.5 7114.5,-837.5 7114.5,-881.5 7114.5,-881.5 7114.5,-887.5 7108.5,-893.5 7102.5,-893.5\"/>\n<text text-anchor=\"middle\" x=\"7044.5\" y=\"-878.3\" font-family=\"Helvetica,sans-Serif\" font-size=\"14.00\" fill=\"#000000\">gini = 0.5</text>\n<text text-anchor=\"middle\" x=\"7044.5\" y=\"-863.3\" font-family=\"Helvetica,sans-Serif\" font-size=\"14.00\" fill=\"#000000\">samples = 2</text>\n<text text-anchor=\"middle\" x=\"7044.5\" y=\"-848.3\" font-family=\"Helvetica,sans-Serif\" font-size=\"14.00\" fill=\"#000000\">value = [1, 1]</text>\n<text text-anchor=\"middle\" x=\"7044.5\" y=\"-833.3\" font-family=\"Helvetica,sans-Serif\" font-size=\"14.00\" fill=\"#000000\">class = Unsurvived</text>\n</g>\n<!-- 330&#45;&gt;331 -->\n<g id=\"edge331\" class=\"edge\">\n<title>330&#45;&gt;331</title>\n<path fill=\"none\" stroke=\"#000000\" d=\"M7095.8696,-936.8796C7088.4237,-925.6636 7080.3575,-913.5131 7072.8718,-902.2372\"/>\n<polygon fill=\"#000000\" stroke=\"#000000\" points=\"7075.7273,-900.2104 7067.2805,-893.8149 7069.8954,-904.082 7075.7273,-900.2104\"/>\n</g>\n<!-- 332 -->\n<g id=\"node333\" class=\"node\">\n<title>332</title>\n<path fill=\"#e58139\" stroke=\"#000000\" d=\"M7260.5,-893.5C7260.5,-893.5 7144.5,-893.5 7144.5,-893.5 7138.5,-893.5 7132.5,-887.5 7132.5,-881.5 7132.5,-881.5 7132.5,-837.5 7132.5,-837.5 7132.5,-831.5 7138.5,-825.5 7144.5,-825.5 7144.5,-825.5 7260.5,-825.5 7260.5,-825.5 7266.5,-825.5 7272.5,-831.5 7272.5,-837.5 7272.5,-837.5 7272.5,-881.5 7272.5,-881.5 7272.5,-887.5 7266.5,-893.5 7260.5,-893.5\"/>\n<text text-anchor=\"middle\" x=\"7202.5\" y=\"-878.3\" font-family=\"Helvetica,sans-Serif\" font-size=\"14.00\" fill=\"#000000\">gini = 0.0</text>\n<text text-anchor=\"middle\" x=\"7202.5\" y=\"-863.3\" font-family=\"Helvetica,sans-Serif\" font-size=\"14.00\" fill=\"#000000\">samples = 1</text>\n<text text-anchor=\"middle\" x=\"7202.5\" y=\"-848.3\" font-family=\"Helvetica,sans-Serif\" font-size=\"14.00\" fill=\"#000000\">value = [1, 0]</text>\n<text text-anchor=\"middle\" x=\"7202.5\" y=\"-833.3\" font-family=\"Helvetica,sans-Serif\" font-size=\"14.00\" fill=\"#000000\">class = Unsurvived</text>\n</g>\n<!-- 330&#45;&gt;332 -->\n<g id=\"edge332\" class=\"edge\">\n<title>330&#45;&gt;332</title>\n<path fill=\"none\" stroke=\"#000000\" d=\"M7151.1304,-936.8796C7158.5763,-925.6636 7166.6425,-913.5131 7174.1282,-902.2372\"/>\n<polygon fill=\"#000000\" stroke=\"#000000\" points=\"7177.1046,-904.082 7179.7195,-893.8149 7171.2727,-900.2104 7177.1046,-904.082\"/>\n</g>\n<!-- 335 -->\n<g id=\"node336\" class=\"node\">\n<title>335</title>\n<path fill=\"#399de5\" stroke=\"#000000\" d=\"M7075,-1369.5C7075,-1369.5 6976,-1369.5 6976,-1369.5 6970,-1369.5 6964,-1363.5 6964,-1357.5 6964,-1357.5 6964,-1313.5 6964,-1313.5 6964,-1307.5 6970,-1301.5 6976,-1301.5 6976,-1301.5 7075,-1301.5 7075,-1301.5 7081,-1301.5 7087,-1307.5 7087,-1313.5 7087,-1313.5 7087,-1357.5 7087,-1357.5 7087,-1363.5 7081,-1369.5 7075,-1369.5\"/>\n<text text-anchor=\"middle\" x=\"7025.5\" y=\"-1354.3\" font-family=\"Helvetica,sans-Serif\" font-size=\"14.00\" fill=\"#000000\">gini = 0.0</text>\n<text text-anchor=\"middle\" x=\"7025.5\" y=\"-1339.3\" font-family=\"Helvetica,sans-Serif\" font-size=\"14.00\" fill=\"#000000\">samples = 1</text>\n<text text-anchor=\"middle\" x=\"7025.5\" y=\"-1324.3\" font-family=\"Helvetica,sans-Serif\" font-size=\"14.00\" fill=\"#000000\">value = [0, 1]</text>\n<text text-anchor=\"middle\" x=\"7025.5\" y=\"-1309.3\" font-family=\"Helvetica,sans-Serif\" font-size=\"14.00\" fill=\"#000000\">class = Survived</text>\n</g>\n<!-- 334&#45;&gt;335 -->\n<g id=\"edge335\" class=\"edge\">\n<title>334&#45;&gt;335</title>\n<path fill=\"none\" stroke=\"#000000\" d=\"M7025.5,-1412.8796C7025.5,-1402.2134 7025.5,-1390.7021 7025.5,-1379.9015\"/>\n<polygon fill=\"#000000\" stroke=\"#000000\" points=\"7029.0001,-1379.8149 7025.5,-1369.8149 7022.0001,-1379.815 7029.0001,-1379.8149\"/>\n</g>\n<!-- 336 -->\n<g id=\"node337\" class=\"node\">\n<title>336</title>\n<path fill=\"#e58139\" stroke=\"#000000\" d=\"M7233.5,-1369.5C7233.5,-1369.5 7117.5,-1369.5 7117.5,-1369.5 7111.5,-1369.5 7105.5,-1363.5 7105.5,-1357.5 7105.5,-1357.5 7105.5,-1313.5 7105.5,-1313.5 7105.5,-1307.5 7111.5,-1301.5 7117.5,-1301.5 7117.5,-1301.5 7233.5,-1301.5 7233.5,-1301.5 7239.5,-1301.5 7245.5,-1307.5 7245.5,-1313.5 7245.5,-1313.5 7245.5,-1357.5 7245.5,-1357.5 7245.5,-1363.5 7239.5,-1369.5 7233.5,-1369.5\"/>\n<text text-anchor=\"middle\" x=\"7175.5\" y=\"-1354.3\" font-family=\"Helvetica,sans-Serif\" font-size=\"14.00\" fill=\"#000000\">gini = 0.0</text>\n<text text-anchor=\"middle\" x=\"7175.5\" y=\"-1339.3\" font-family=\"Helvetica,sans-Serif\" font-size=\"14.00\" fill=\"#000000\">samples = 2</text>\n<text text-anchor=\"middle\" x=\"7175.5\" y=\"-1324.3\" font-family=\"Helvetica,sans-Serif\" font-size=\"14.00\" fill=\"#000000\">value = [2, 0]</text>\n<text text-anchor=\"middle\" x=\"7175.5\" y=\"-1309.3\" font-family=\"Helvetica,sans-Serif\" font-size=\"14.00\" fill=\"#000000\">class = Unsurvived</text>\n</g>\n<!-- 334&#45;&gt;336 -->\n<g id=\"edge336\" class=\"edge\">\n<title>334&#45;&gt;336</title>\n<path fill=\"none\" stroke=\"#000000\" d=\"M7077.9627,-1412.8796C7092.9322,-1401.0038 7109.2222,-1388.0804 7124.1259,-1376.2568\"/>\n<polygon fill=\"#000000\" stroke=\"#000000\" points=\"7126.587,-1378.772 7132.2459,-1369.8149 7122.2365,-1373.2881 7126.587,-1378.772\"/>\n</g>\n</g>\n</svg>\n"
          },
          "metadata": {},
          "execution_count": 104
        }
      ]
    },
    {
      "cell_type": "markdown",
      "source": [
        "## KNN"
      ],
      "metadata": {
        "id": "KOd0nBWmxD_a"
      }
    },
    {
      "cell_type": "code",
      "source": [
        "from sklearn.neighbors import KNeighborsClassifier\n",
        "\n",
        "knc = KNeighborsClassifier(n_neighbors=5)\n",
        "knc.fit(x_train, y_train)\n",
        "y_pred = knc.predict(x_test)\n",
        "\n",
        "print(accuracy_score(y_test, y_pred))\n",
        "print(precision_score(y_test, y_pred))\n",
        "print(recall_score(y_test, y_pred))\n",
        "print(f1_score(y_test, y_pred))"
      ],
      "metadata": {
        "colab": {
          "base_uri": "https://localhost:8080/"
        },
        "id": "gazSXj6CxHWP",
        "outputId": "59e29b21-7f4a-4ff7-db7a-00c20991303f"
      },
      "execution_count": null,
      "outputs": [
        {
          "output_type": "stream",
          "name": "stdout",
          "text": [
            "0.6815642458100558\n",
            "0.5588235294117647\n",
            "0.5846153846153846\n",
            "0.5714285714285715\n"
          ]
        }
      ]
    },
    {
      "cell_type": "code",
      "source": [
        "# confusion matrix\n",
        "from sklearn.metrics import confusion_matrix\n",
        "import seaborn as sns\n",
        "\n",
        "data = confusion_matrix(y_test, y_pred)\n",
        "\n",
        "# seaborn으로  그려보자.\n",
        "sns.heatmap(data, annot=True, cmap='Reds')\n",
        "plt.xlabel('Predict')\n",
        "plt.ylabel('Actual')\n",
        "plt.show()"
      ],
      "metadata": {
        "colab": {
          "base_uri": "https://localhost:8080/",
          "height": 279
        },
        "id": "HQQnjcY3_svh",
        "outputId": "e61a4a2c-f70f-41a3-ba70-9d48f38cd012"
      },
      "execution_count": null,
      "outputs": [
        {
          "output_type": "display_data",
          "data": {
            "text/plain": [
              "<Figure size 432x288 with 2 Axes>"
            ],
            "image/png": "[encoded data removed]"
          },
          "metadata": {
            "needs_background": "light"
          }
        }
      ]
    },
    {
      "cell_type": "markdown",
      "source": [
        "## Logistic Regression"
      ],
      "metadata": {
        "id": "SEdbPEVbxIIy"
      }
    },
    {
      "cell_type": "code",
      "source": [
        "from sklearn.linear_model import LogisticRegression\n",
        "\n",
        "model = LogisticRegression()\n",
        "model.fit(x_train, y_train)\n",
        "y_pred = model.predict(x_test)\n",
        "\n",
        "print(accuracy_score(y_test, y_pred))\n",
        "print(precision_score(y_test, y_pred))\n",
        "print(recall_score(y_test, y_pred))\n",
        "print(f1_score(y_test, y_pred))"
      ],
      "metadata": {
        "colab": {
          "base_uri": "https://localhost:8080/"
        },
        "id": "tJlJZcAexM1y",
        "outputId": "f4931e81-8dc4-4a63-bf99-be0445d49e4d"
      },
      "execution_count": null,
      "outputs": [
        {
          "output_type": "stream",
          "name": "stdout",
          "text": [
            "0.8044692737430168\n",
            "0.7142857142857143\n",
            "0.7692307692307693\n",
            "0.7407407407407408\n"
          ]
        }
      ]
    },
    {
      "cell_type": "code",
      "source": [
        "# confusion matrix\n",
        "from sklearn.metrics import confusion_matrix\n",
        "import seaborn as sns\n",
        "\n",
        "data = confusion_matrix(y_test, y_pred)\n",
        "\n",
        "# seaborn으로  그려보자.\n",
        "sns.heatmap(data, annot=True, cmap='Reds')\n",
        "plt.xlabel('Predict')\n",
        "plt.ylabel('Actual')\n",
        "plt.show()"
      ],
      "metadata": {
        "colab": {
          "base_uri": "https://localhost:8080/",
          "height": 279
        },
        "id": "-xRye_IcADzB",
        "outputId": "3a5b3b47-13a9-41d0-ee52-ebaf5a6d3d99"
      },
      "execution_count": null,
      "outputs": [
        {
          "output_type": "display_data",
          "data": {
            "text/plain": [
              "<Figure size 432x288 with 2 Axes>"
            ],
            "image/png": "[encoded data removed]"
          },
          "metadata": {
            "needs_background": "light"
          }
        }
      ]
    },
    {
      "cell_type": "markdown",
      "source": [
        "## SGD Classifier"
      ],
      "metadata": {
        "id": "gdGAFc_sxOOP"
      }
    },
    {
      "cell_type": "code",
      "source": [
        "from sklearn.linear_model import SGDClassifier\n",
        "\n",
        "# 과대적합(overfitting) 을 방지하기 위해 L1 (regularization = penalty)\n",
        "model = SGDClassifier(penalty='l1', random_state=123, n_jobs=-1, learning_rate='optimal')\n",
        "model.fit(x_train, y_train)\n",
        "y_pred = model.predict(x_test)\n",
        "\n",
        "print(accuracy_score(y_test, y_pred))\n",
        "print(precision_score(y_test, y_pred))\n",
        "print(recall_score(y_test, y_pred))\n",
        "print(f1_score(y_test, y_pred))\n",
        "\n",
        "# confusion matrix\n",
        "from sklearn.metrics import confusion_matrix\n",
        "import seaborn as sns\n",
        "\n",
        "data = confusion_matrix(y_test, y_pred)\n",
        "\n",
        "# seaborn으로  그려보자.\n",
        "sns.heatmap(data, annot=True, cmap='Reds')\n",
        "plt.xlabel('Predict')\n",
        "plt.ylabel('Actual')\n",
        "plt.show()"
      ],
      "metadata": {
        "colab": {
          "base_uri": "https://localhost:8080/",
          "height": 348
        },
        "id": "oUkHp9-jxQah",
        "outputId": "f19372d1-3541-4458-b08b-bf4dd31c6c17"
      },
      "execution_count": null,
      "outputs": [
        {
          "output_type": "stream",
          "name": "stdout",
          "text": [
            "0.7597765363128491\n",
            "0.6145833333333334\n",
            "0.9076923076923077\n",
            "0.7329192546583851\n"
          ]
        },
        {
          "output_type": "display_data",
          "data": {
            "text/plain": [
              "<Figure size 432x288 with 2 Axes>"
            ],
            "image/png": "[encoded data removed]"
          },
          "metadata": {
            "needs_background": "light"
          }
        }
      ]
    },
    {
      "cell_type": "code",
      "source": [
        "# 랜덤포레스트 모델\n",
        "# decision tree : 나무가 여러 그루 -> 숲(포레스트)\n",
        "# dt모델을 여러 개를 생성해서 그것들의 조합으로 결과값을 출력\n",
        "# 일반적으로는 Decision Tree모델의 성능과 비슷하거나 더 좋은 성능을 보일 수 있다.\n",
        "from sklearn.ensemble import RandomForestClassifier\n",
        "\n",
        "# step 1. 모델 객체 생성\n",
        "random_forest = RandomForestClassifier(n_estimators=100, n_jobs=-1)\n",
        "\n",
        "# step 2. 학습(학습용 데이터)\n",
        "random_forest.fit(x_train, y_train)\n",
        "\n",
        "# step 3. 예측(추론)\n",
        "y_pred = random_forest.predict(x_test)\n",
        "\n",
        "# step 4. 성능 평가 지표\n",
        "print(accuracy_score(y_test, y_pred))\n",
        "print(precision_score(y_test, y_pred))\n",
        "print(recall_score(y_test, y_pred))\n",
        "print(f1_score(y_test, y_pred))\n",
        "\n",
        "# confusion matrix\n",
        "from sklearn.metrics import confusion_matrix\n",
        "import seaborn as sns\n",
        "\n",
        "data = confusion_matrix(y_test, y_pred)\n",
        "\n",
        "# seaborn으로  그려보자.\n",
        "sns.heatmap(data, annot=True, cmap='Reds')\n",
        "plt.xlabel('Predict')\n",
        "plt.ylabel('Actual')\n",
        "plt.show()"
      ],
      "metadata": {
        "colab": {
          "base_uri": "https://localhost:8080/",
          "height": 348
        },
        "id": "qO_F6scaAp1R",
        "outputId": "8cd634df-6296-48f3-d0f1-7dacfe615066"
      },
      "execution_count": null,
      "outputs": [
        {
          "output_type": "stream",
          "name": "stdout",
          "text": [
            "0.8212290502793296\n",
            "0.7391304347826086\n",
            "0.7846153846153846\n",
            "0.7611940298507462\n"
          ]
        },
        {
          "output_type": "display_data",
          "data": {
            "text/plain": [
              "<Figure size 432x288 with 2 Axes>"
            ],
            "image/png": "[encoded data removed]"
          },
          "metadata": {
            "needs_background": "light"
          }
        }
      ]
    },
    {
      "cell_type": "code",
      "source": [
        "# https://hmiiing.tistory.com/entry/kaggle-Titanic-data-%EB%B6%84%EC%84%9D%ED%95%98%EA%B8%B0-1-EDA\n"
      ],
      "metadata": {
        "id": "98ZJd8lDChAw"
      },
      "execution_count": null,
      "outputs": []
    }
  ]
}